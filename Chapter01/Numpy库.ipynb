{
 "cells": [
  {
   "cell_type": "markdown",
   "id": "efd406a4-2e17-4d06-8ad8-00cb66a8e62d",
   "metadata": {},
   "source": [
    "## NumPy\n",
    "---\n",
    "\n",
    "[NumPy](https://numpy.org/)库是Python科学计算环境中最常用的库。它提供了用于处理数组的高效数据结构。Numpy库的核心是使用C语言实现的。"
   ]
  },
  {
   "cell_type": "code",
   "execution_count": 1,
   "id": "21a0ef5e-8363-4da2-bdda-6332a4450535",
   "metadata": {},
   "outputs": [],
   "source": [
    "# 为了使用NumPy库，需要先导入它。按照惯例，我们以别名np导入numpy模块。\n",
    "import numpy as np"
   ]
  },
  {
   "cell_type": "markdown",
   "id": "4efe6d8e-d13d-4581-aaf9-aca319d3670d",
   "metadata": {},
   "source": [
    "Numpy库的核心是表示同质数据的多维数组。数组内所有元素的数据类型是相同的。NumPy中多维数组的主要数据结构是ndarray类（class）。除了保存数组中的数据，这种数据结构还可以包含关于数据的重要描述性的元数据（metaData）。"
   ]
  },
  {
   "cell_type": "code",
   "execution_count": 2,
   "id": "27fdd4cc-9dfd-40d1-8439-dc74ecaa909e",
   "metadata": {},
   "outputs": [
    {
     "data": {
      "text/plain": [
       "numpy.ndarray"
      ]
     },
     "execution_count": 2,
     "metadata": {},
     "output_type": "execute_result"
    }
   ],
   "source": [
    "data = np.array(([1,2],[3,4],[5,6]))\n",
    "# 变量类型\n",
    "type(data)"
   ]
  },
  {
   "cell_type": "code",
   "execution_count": 3,
   "id": "0e28bd3b-cb6b-41a5-9ede-9d4de719c60e",
   "metadata": {},
   "outputs": [
    {
     "data": {
      "text/plain": [
       "2"
      ]
     },
     "execution_count": 3,
     "metadata": {},
     "output_type": "execute_result"
    }
   ],
   "source": [
    "# 数组维度\n",
    "data.ndim"
   ]
  },
  {
   "cell_type": "code",
   "execution_count": 4,
   "id": "3d436ba1-f0e2-43f9-aa0d-6cea0bb9698c",
   "metadata": {},
   "outputs": [
    {
     "data": {
      "text/plain": [
       "(3, 2)"
      ]
     },
     "execution_count": 4,
     "metadata": {},
     "output_type": "execute_result"
    }
   ],
   "source": [
    "# 数组形状\n",
    "data.shape"
   ]
  },
  {
   "cell_type": "code",
   "execution_count": 5,
   "id": "56f9cebd-274a-4aa7-adbe-875d0780adc2",
   "metadata": {},
   "outputs": [
    {
     "data": {
      "text/plain": [
       "6"
      ]
     },
     "execution_count": 5,
     "metadata": {},
     "output_type": "execute_result"
    }
   ],
   "source": [
    "# 数组元素数目\n",
    "data.size"
   ]
  },
  {
   "cell_type": "code",
   "execution_count": 6,
   "id": "a44145c0-4cfe-41e9-8104-b5303cb09bac",
   "metadata": {},
   "outputs": [
    {
     "data": {
      "text/plain": [
       "dtype('int64')"
      ]
     },
     "execution_count": 6,
     "metadata": {},
     "output_type": "execute_result"
    }
   ],
   "source": [
    "# 数组元素数目\n",
    "data.dtype"
   ]
  },
  {
   "cell_type": "markdown",
   "id": "56019098-d529-4ab8-a9d4-bc7036cd9e93",
   "metadata": {},
   "source": [
    "### 数据类型\n",
    "---\n",
    "\n",
    "| dtype | 变体 | 说明 |\n",
    "|---|---|---|\n",
    "| int | int8, int16, int32, int64 | 整数 |\n",
    "| unit | unit8, unit16, unit32, unit64 | 无符号整数 |\n",
    "| bool| bool | 布尔类型 |\n",
    "| float | float16, float32, float64, float128 | 浮点类型 |\n",
    "| complex | complex64, complex128, complex256 | 复数浮点类型 |"
   ]
  },
  {
   "cell_type": "code",
   "execution_count": 7,
   "id": "883d7117-4a69-4d86-b6b3-dc0b8323be27",
   "metadata": {},
   "outputs": [
    {
     "name": "stdout",
     "output_type": "stream",
     "text": [
      "int64\n",
      "float64\n"
     ]
    }
   ],
   "source": [
    "# 默认数据类型\n",
    "data = np.array([1,2,3])\n",
    "print(data.dtype)\n",
    "# 指定数据类型\n",
    "data = np.array([1,2,3], dtype=float)\n",
    "print(data.dtype)"
   ]
  },
  {
   "cell_type": "markdown",
   "id": "7b9d61c0-ec43-46f2-b515-f0fe6567f24b",
   "metadata": {},
   "source": [
    "转换数据类型"
   ]
  },
  {
   "cell_type": "code",
   "execution_count": 8,
   "id": "6ce306d4-ab95-44c5-bc9e-03f1311866b9",
   "metadata": {},
   "outputs": [
    {
     "name": "stdout",
     "output_type": "stream",
     "text": [
      "int64\n",
      "float64\n",
      "int64\n"
     ]
    }
   ],
   "source": [
    "# 使用 np.array 函数\n",
    "data = np.array([1,2,3])\n",
    "print(data.dtype)\n",
    "data = np.array(data, dtype=float)\n",
    "print(data.dtype)\n",
    "# 使用ndarray类内置的astype方法\n",
    "data = data.astype(np.int64)\n",
    "print(data.dtype)"
   ]
  },
  {
   "cell_type": "markdown",
   "id": "0dfe9654-b4fc-43f9-8a8d-e1b5eb02553e",
   "metadata": {},
   "source": [
    "根据应用场景，应用合理的数组数据类型。"
   ]
  },
  {
   "cell_type": "code",
   "execution_count": 9,
   "id": "e9774813-fd9a-4f83-afde-632c00a326bc",
   "metadata": {},
   "outputs": [
    {
     "name": "stderr",
     "output_type": "stream",
     "text": [
      "/tmp/ipykernel_2006731/3897526667.py:2: RuntimeWarning: invalid value encountered in sqrt\n",
      "  np.sqrt(data)\n"
     ]
    },
    {
     "data": {
      "text/plain": [
       "array([nan,  0.,  1.])"
      ]
     },
     "execution_count": 9,
     "metadata": {},
     "output_type": "execute_result"
    }
   ],
   "source": [
    "data = np.array([-1,0,1])\n",
    "np.sqrt(data)"
   ]
  },
  {
   "cell_type": "code",
   "execution_count": 10,
   "id": "e173848b-3f99-433d-b5ff-2b8117285d91",
   "metadata": {},
   "outputs": [
    {
     "data": {
      "text/plain": [
       "array([0.+1.j, 0.+0.j, 1.+0.j])"
      ]
     },
     "execution_count": 10,
     "metadata": {},
     "output_type": "execute_result"
    }
   ],
   "source": [
    "np.sqrt(data, dtype=complex)"
   ]
  },
  {
   "cell_type": "code",
   "execution_count": 11,
   "id": "2a0d500d-943e-433b-bdc0-51dbe4a54599",
   "metadata": {},
   "outputs": [
    {
     "data": {
      "text/plain": [
       "array([1., 0., 0.])"
      ]
     },
     "execution_count": 11,
     "metadata": {},
     "output_type": "execute_result"
    }
   ],
   "source": [
    "# 复数的实部和虚部\n",
    "np.sqrt(data, dtype=complex).real\n",
    "np.sqrt(data, dtype=complex).imag"
   ]
  },
  {
   "cell_type": "markdown",
   "id": "8bd8b014-c436-4f9a-9f16-e5a0cff419f0",
   "metadata": {},
   "source": [
    "### 内存中数组数据的顺序\n",
    "---\n",
    "\n",
    "对于包含行列的二维数据：一种可能的方式是按顺序逐行存储数据；一种可能的方式是按列存储数据。前者为行主序（row-major），后者为列主序（column-major）。C语言使用行主序，Fortran使用主要序列。\n",
    "NumPy数组默认使用行主序，创建数组时可以使用关键词参数`order='C'`或者`order='F'`设置。当使用借助C或者Fortran编写的接口时，需要特别注意NumPy数组的排序方式。"
   ]
  },
  {
   "cell_type": "markdown",
   "id": "9bc8a069-ffb2-4e21-a4e5-40e80f4d098d",
   "metadata": {},
   "source": [
    "## 创建数组\n",
    "---\n",
    "| 函数名 | 数组类型 |\n",
    "|---|---|\n",
    "| np.zeros | 指定维度和类型，以0填充 |\n",
    "| np.ones | 指定维度和类型，以1填充 |\n",
    "| np.arange | 创建均匀间隔数组，指定开始值、结束值和增量值 |\n",
    "| np.linpace | 创建均匀间隔数组，指定开始值、结束值和元素数量 |\n",
    "| np.random.rand | 创建一个数组，元素为0-1之间均匀分布的随机数 |\n",
    "| np.zeros_like | 复制一个数组的维度和类型，以0填充 |"
   ]
  },
  {
   "cell_type": "code",
   "execution_count": 12,
   "id": "a58fe72a-1897-47de-a576-6d69f363c3b1",
   "metadata": {},
   "outputs": [
    {
     "data": {
      "text/plain": [
       "array([[0., 0., 0.],\n",
       "       [0., 0., 0.]])"
      ]
     },
     "execution_count": 12,
     "metadata": {},
     "output_type": "execute_result"
    }
   ],
   "source": [
    "np.zeros((2,3))"
   ]
  },
  {
   "cell_type": "code",
   "execution_count": 13,
   "id": "df896a1f-9cba-4d4f-a186-ae41dc07fddb",
   "metadata": {},
   "outputs": [
    {
     "data": {
      "text/plain": [
       "array([0, 1, 2, 3, 4])"
      ]
     },
     "execution_count": 13,
     "metadata": {},
     "output_type": "execute_result"
    }
   ],
   "source": [
    "# np.arange 不包括结束值\n",
    "np.arange(0,5,1)"
   ]
  },
  {
   "cell_type": "code",
   "execution_count": 14,
   "id": "9894d3b8-e09c-4fdd-9fbd-bfbe9878fa3c",
   "metadata": {},
   "outputs": [
    {
     "data": {
      "text/plain": [
       "array([0.  , 1.25, 2.5 , 3.75, 5.  ])"
      ]
     },
     "execution_count": 14,
     "metadata": {},
     "output_type": "execute_result"
    }
   ],
   "source": [
    "# np.linspace 包括结束值\n",
    "np.linspace(0,5,5)"
   ]
  },
  {
   "cell_type": "markdown",
   "id": "31fdec0e-3841-4aed-83d8-9639e6c384ce",
   "metadata": {},
   "source": [
    "### Meshgrid数组\n",
    "可以使用函数np.meshgrid生成多维坐标网络。"
   ]
  },
  {
   "cell_type": "code",
   "execution_count": 15,
   "id": "72534c4d-c724-4bb4-a2ac-b8b9124f9f56",
   "metadata": {},
   "outputs": [],
   "source": [
    "x = np.array([-1, 0, 1])\n",
    "y = np.array([-2, 0, 2])\n",
    "X, Y = np.meshgrid(x, y)"
   ]
  },
  {
   "cell_type": "code",
   "execution_count": 16,
   "id": "2b27f455-32e4-4d0b-8a82-6cb86ec0714b",
   "metadata": {},
   "outputs": [
    {
     "data": {
      "text/plain": [
       "array([[-1,  0,  1],\n",
       "       [-1,  0,  1],\n",
       "       [-1,  0,  1]])"
      ]
     },
     "execution_count": 16,
     "metadata": {},
     "output_type": "execute_result"
    }
   ],
   "source": [
    "X"
   ]
  },
  {
   "cell_type": "code",
   "execution_count": 17,
   "id": "c847c7c3-95a1-4b7d-8382-ebf013e63aa2",
   "metadata": {},
   "outputs": [
    {
     "data": {
      "text/plain": [
       "array([[-2, -2, -2],\n",
       "       [ 0,  0,  0],\n",
       "       [ 2,  2,  2]])"
      ]
     },
     "execution_count": 17,
     "metadata": {},
     "output_type": "execute_result"
    }
   ],
   "source": [
    "Y"
   ]
  },
  {
   "cell_type": "markdown",
   "id": "32af8452-4122-4835-9bcc-1b88e2a0bd54",
   "metadata": {},
   "source": [
    "二维坐标数组的常见应用场景是计算包含两个变量x和y的函数，可以用于绘制包含这两个变量的函数图形，如等高线图。"
   ]
  },
  {
   "cell_type": "code",
   "execution_count": 18,
   "id": "12ba80f2-223d-45f4-a3e6-a766c0f7fdad",
   "metadata": {},
   "outputs": [
    {
     "name": "stdout",
     "output_type": "stream",
     "text": [
      "[[9 4 1]\n",
      " [1 0 1]\n",
      " [1 4 9]]\n"
     ]
    }
   ],
   "source": [
    "Z = (X + Y) ** 2\n",
    "print(Z)"
   ]
  },
  {
   "cell_type": "markdown",
   "id": "d3a0969a-af2c-48d4-8617-e7961267afa9",
   "metadata": {},
   "source": [
    "## 数组索引和切片\n",
    "---\n",
    "\n",
    "正整数用于从数组开头进行索引（**索引开始于0**），负整数用于从数组结尾进行索引（索引开始于-1）。"
   ]
  },
  {
   "cell_type": "code",
   "execution_count": null,
   "id": "94213761-6d80-4cdc-9035-87153fe53180",
   "metadata": {},
   "outputs": [],
   "source": []
  }
 ],
 "metadata": {
  "kernelspec": {
   "display_name": "Python 3 (ipykernel)",
   "language": "python",
   "name": "python3"
  },
  "language_info": {
   "codemirror_mode": {
    "name": "ipython",
    "version": 3
   },
   "file_extension": ".py",
   "mimetype": "text/x-python",
   "name": "python",
   "nbconvert_exporter": "python",
   "pygments_lexer": "ipython3",
   "version": "3.9.7"
  }
 },
 "nbformat": 4,
 "nbformat_minor": 5
}
