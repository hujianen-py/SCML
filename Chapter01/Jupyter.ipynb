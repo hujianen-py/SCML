{
 "cells": [
  {
   "cell_type": "markdown",
   "id": "4c0a3eca-b5d9-4511-9973-2f9104522460",
   "metadata": {},
   "source": [
    "# Jupyter\n",
    "---\n",
    "<img src=\"https://jupyter.org/assets/homepage/main-logo.svg\" style=\"width: 20%;\"/>\n",
    "\n",
    "Jupyter Notebook（前身是IPython Notebook）是一个基于Web的交互式计算环境，用于创建Jupyter Notebook文档。Jupyter Notebook文档是一个JSON文档，包含一个有序的输入/输出单元格列表，这些单元格可以包含代码、文本（使用Markdown语言）、数学、图表和富媒体 (Rich media)，通常以“.ipynb”结尾扩展。 \n",
    "\n",
    "<img src=\"./Images/Jupyter_notebook.png\" style=\"width: 80%;\"/>\n",
    "\n",
    "## 参考资料\n",
    "\n",
    "[在线练习环境](https://jupyterlite.github.io/demo)\n",
    "\n",
    "## 免费计算资源\n",
    "[Google Colab](https://colab.google.com)"
   ]
  },
  {
   "cell_type": "markdown",
   "id": "ce6348ab-214b-449a-9594-63081de6e823",
   "metadata": {
    "tags": []
   },
   "source": [
    "### 解释器 Interpreter"
   ]
  },
  {
   "cell_type": "code",
   "execution_count": 1,
   "id": "2589cf13-aa21-4051-8be1-b33daf8ea7d7",
   "metadata": {},
   "outputs": [
    {
     "name": "stdout",
     "output_type": "stream",
     "text": [
      "Writing hello.py\n"
     ]
    }
   ],
   "source": [
    "%%writefile hello.py\n",
    "print(\"Hello from Python!\")"
   ]
  },
  {
   "cell_type": "code",
   "execution_count": 2,
   "id": "99d423cc-4867-4b32-97d8-a75649879d4f",
   "metadata": {},
   "outputs": [
    {
     "name": "stdout",
     "output_type": "stream",
     "text": [
      "Hello from Python!\n"
     ]
    }
   ],
   "source": [
    "!python hello.py"
   ]
  },
  {
   "cell_type": "code",
   "execution_count": 3,
   "id": "749e7ef7-8f6a-4c3d-a92a-5d52fbc2daa2",
   "metadata": {},
   "outputs": [
    {
     "name": "stdout",
     "output_type": "stream",
     "text": [
      "Python 3.9.7\n"
     ]
    }
   ],
   "source": [
    "!python --version"
   ]
  },
  {
   "cell_type": "markdown",
   "id": "7fface37-9570-401b-ba28-0ad5881f068c",
   "metadata": {},
   "source": [
    "### 输入和输出缓存"
   ]
  },
  {
   "cell_type": "code",
   "execution_count": 3,
   "id": "6fea8f6a-d6da-45a1-8e14-71cfd67fc4ca",
   "metadata": {},
   "outputs": [
    {
     "data": {
      "text/plain": [
       "9"
      ]
     },
     "execution_count": 3,
     "metadata": {},
     "output_type": "execute_result"
    }
   ],
   "source": [
    "3 * 3"
   ]
  },
  {
   "cell_type": "code",
   "execution_count": 4,
   "id": "794f3a4d-13eb-4d55-9b1d-c35a72aea64f",
   "metadata": {},
   "outputs": [
    {
     "data": {
      "text/plain": [
       "{3: 9}"
      ]
     },
     "execution_count": 4,
     "metadata": {},
     "output_type": "execute_result"
    }
   ],
   "source": [
    "Out"
   ]
  },
  {
   "cell_type": "code",
   "execution_count": 5,
   "id": "bfe39724-b423-4b23-aac5-4e7ce605a48d",
   "metadata": {},
   "outputs": [
    {
     "data": {
      "text/plain": [
       "['',\n",
       " 'get_ipython().run_cell_magic(\\'writefile\\', \\'hello.py\\', \\'print(\"Hello from Python!\")\\\\n\\')',\n",
       " \"get_ipython().system('python hello.py')\",\n",
       " '3 * 3',\n",
       " 'Out',\n",
       " 'In']"
      ]
     },
     "execution_count": 5,
     "metadata": {},
     "output_type": "execute_result"
    }
   ],
   "source": [
    "In"
   ]
  },
  {
   "cell_type": "markdown",
   "id": "bb2d0659-6a40-4f42-b677-7cc0173ab4ff",
   "metadata": {},
   "source": [
    "### 函数文档"
   ]
  },
  {
   "cell_type": "code",
   "execution_count": 7,
   "id": "127f8151-c187-490c-9b7a-02a90dd578e6",
   "metadata": {
    "tags": []
   },
   "outputs": [
    {
     "data": {
      "text/plain": [
       "\u001b[0;31mSignature:\u001b[0m \u001b[0mmath\u001b[0m\u001b[0;34m.\u001b[0m\u001b[0mcos\u001b[0m\u001b[0;34m(\u001b[0m\u001b[0mx\u001b[0m\u001b[0;34m,\u001b[0m \u001b[0;34m/\u001b[0m\u001b[0;34m)\u001b[0m\u001b[0;34m\u001b[0m\u001b[0;34m\u001b[0m\u001b[0m\n",
       "\u001b[0;31mDocstring:\u001b[0m Return the cosine of x (measured in radians).\n",
       "\u001b[0;31mType:\u001b[0m      builtin_function_or_method\n"
      ]
     },
     "metadata": {},
     "output_type": "display_data"
    }
   ],
   "source": [
    "import os\n",
    "import math\n",
    "math.cos?"
   ]
  },
  {
   "cell_type": "markdown",
   "id": "07b2f054-02ac-4fd4-b5e9-f7e1d0065109",
   "metadata": {},
   "source": [
    "### 执行Shell命令"
   ]
  },
  {
   "cell_type": "code",
   "execution_count": 8,
   "id": "76ab7065-9162-42b0-bb25-a7117d9b987f",
   "metadata": {},
   "outputs": [
    {
     "name": "stdout",
     "output_type": "stream",
     "text": [
      "chapter01.ipynb  fib.py  hello.py  Images  科学计算.md\n"
     ]
    }
   ],
   "source": [
    "!ls"
   ]
  },
  {
   "cell_type": "markdown",
   "id": "1c6b407f-4f4b-452b-83cc-5a7619bdb9ec",
   "metadata": {},
   "source": [
    "### 执行脚本"
   ]
  },
  {
   "cell_type": "code",
   "execution_count": 2,
   "id": "48a69330-183f-4824-8685-25eab70baa15",
   "metadata": {},
   "outputs": [
    {
     "name": "stdout",
     "output_type": "stream",
     "text": [
      "Writing fib.py\n"
     ]
    }
   ],
   "source": [
    "%%writefile fib.py\n",
    "\n",
    "def fib(N): \n",
    "    \"\"\" \n",
    "    Return a list of the first N Fibonacci numbers.\n",
    "    \"\"\" \n",
    "    f0, f1 = 0, 1\n",
    "    f = [1] * N\n",
    "    for n in range(1, N):\n",
    "        f[n] = f0 + f1\n",
    "        f0, f1 = f1, f[n]\n",
    "\n",
    "    return f\n",
    "\n",
    "print(fib(10))"
   ]
  },
  {
   "cell_type": "code",
   "execution_count": 3,
   "id": "a0a857bb-cec8-422b-90f4-6f5ad87d73c1",
   "metadata": {},
   "outputs": [
    {
     "name": "stdout",
     "output_type": "stream",
     "text": [
      "[1, 1, 2, 3, 5, 8, 13, 21, 34, 55]\n"
     ]
    }
   ],
   "source": [
    "!python fib.py"
   ]
  },
  {
   "cell_type": "code",
   "execution_count": 12,
   "id": "f4efb95a-4695-4ebe-9469-6b3e368cad44",
   "metadata": {},
   "outputs": [
    {
     "name": "stdout",
     "output_type": "stream",
     "text": [
      "[1, 1, 2, 3, 5, 8, 13, 21, 34, 55]\n"
     ]
    }
   ],
   "source": [
    "%run fib.py"
   ]
  },
  {
   "cell_type": "code",
   "execution_count": 13,
   "id": "d06660d9-0369-4dc1-a29a-c7df3e190503",
   "metadata": {},
   "outputs": [
    {
     "data": {
      "text/plain": [
       "[1, 1, 2, 3, 5, 8]"
      ]
     },
     "execution_count": 13,
     "metadata": {},
     "output_type": "execute_result"
    }
   ],
   "source": [
    "fib(6)"
   ]
  },
  {
   "cell_type": "markdown",
   "id": "b8908db2-dfa5-4b5b-a376-3873802aa7d1",
   "metadata": {},
   "source": [
    "### 代码计时和性能分析"
   ]
  },
  {
   "cell_type": "code",
   "execution_count": 15,
   "id": "132c2e6b-bf14-4ec1-b7b7-29be32bbbd1d",
   "metadata": {},
   "outputs": [
    {
     "name": "stdout",
     "output_type": "stream",
     "text": [
      "9.79 µs ± 4.9 µs per loop (mean ± std. dev. of 7 runs, 100 loops each)\n"
     ]
    }
   ],
   "source": [
    "%timeit -n 100 fib(100)"
   ]
  },
  {
   "cell_type": "code",
   "execution_count": 14,
   "id": "92b17f51-851c-4c5e-8500-fad2cf924b4a",
   "metadata": {},
   "outputs": [],
   "source": [
    "import numpy as np\n",
    "\n",
    "def random_walker_max_distance(M, N):\n",
    "    \"\"\"\n",
    "    Simulate N random walkers taking M steps, and return the largest distance\n",
    "    from the starting point achieved by any of the random walkers.\n",
    "    \"\"\"\n",
    "    trajectories = [np.random.randn(M).cumsum() for _ in range(N)]\n",
    "    return np.max(np.abs(trajectories))"
   ]
  },
  {
   "cell_type": "code",
   "execution_count": 15,
   "id": "004efe87-03e7-48bc-b03f-6adc9a1051ca",
   "metadata": {},
   "outputs": [
    {
     "name": "stdout",
     "output_type": "stream",
     "text": [
      " "
     ]
    },
    {
     "data": {
      "text/plain": [
       "         20013 function calls in 0.269 seconds\n",
       "\n",
       "   Ordered by: internal time\n",
       "\n",
       "   ncalls  tottime  percall  cumtime  percall filename:lineno(function)\n",
       "    10000    0.112    0.000    0.112    0.000 {method 'randn' of 'numpy.random.mtrand.RandomState' objects}\n",
       "        1    0.088    0.088    0.265    0.265 2615584822.py:3(random_walker_max_distance)\n",
       "    10000    0.043    0.000    0.043    0.000 {method 'cumsum' of 'numpy.ndarray' objects}\n",
       "        1    0.015    0.015    0.015    0.015 {method 'reduce' of 'numpy.ufunc' objects}\n",
       "        1    0.007    0.007    0.162    0.162 2615584822.py:8(<listcomp>)\n",
       "        1    0.003    0.003    0.268    0.268 <string>:1(<module>)\n",
       "        1    0.000    0.000    0.269    0.269 {built-in method builtins.exec}\n",
       "        1    0.000    0.000    0.015    0.015 fromnumeric.py:69(_wrapreduction)\n",
       "        1    0.000    0.000    0.015    0.015 <__array_function__ internals>:2(amax)\n",
       "        1    0.000    0.000    0.015    0.015 fromnumeric.py:2638(amax)\n",
       "        1    0.000    0.000    0.015    0.015 {built-in method numpy.core._multiarray_umath.implement_array_function}\n",
       "        1    0.000    0.000    0.000    0.000 fromnumeric.py:70(<dictcomp>)\n",
       "        1    0.000    0.000    0.000    0.000 fromnumeric.py:2633(_amax_dispatcher)\n",
       "        1    0.000    0.000    0.000    0.000 {method 'items' of 'dict' objects}\n",
       "        1    0.000    0.000    0.000    0.000 {method 'disable' of '_lsprof.Profiler' objects}"
      ]
     },
     "metadata": {},
     "output_type": "display_data"
    }
   ],
   "source": [
    "%prun random_walker_max_distance(400, 10000)"
   ]
  },
  {
   "cell_type": "markdown",
   "id": "3ab73e88-ee71-4e7e-95c6-82af3610336e",
   "metadata": {},
   "source": [
    "### Debug\n",
    "\n",
    "* `ENTER`(重复上次命令)\n",
    "* `c`(继续)\n",
    "* `l`(查找当前位于哪里)\n",
    "* `s`(进入子程序)\n",
    "* `r`(运行直到子程序结束)\n",
    "* `n` 让程序运行下一行，如果当前语句有一个函数调用，用 n 是不会进入被调用的函数体中的\n",
    "* `p` 最有用的命令之一，打印某个变量\n",
    "* `q` 退出调试\n",
    "* `h`(帮助)"
   ]
  },
  {
   "cell_type": "code",
   "execution_count": 7,
   "id": "c4335304-516d-4202-a58b-d2d7bb32a0f6",
   "metadata": {
    "tags": []
   },
   "outputs": [
    {
     "ename": "TypeError",
     "evalue": "can't multiply sequence by non-int of type 'str'",
     "output_type": "error",
     "traceback": [
      "\u001b[0;31m---------------------------------------------------------------------------\u001b[0m",
      "\u001b[0;31mTypeError\u001b[0m                                 Traceback (most recent call last)",
      "Input \u001b[0;32mIn [7]\u001b[0m, in \u001b[0;36m<module>\u001b[0;34m\u001b[0m\n\u001b[1;32m      9\u001b[0m         f0, f1 \u001b[38;5;241m=\u001b[39m f1, f[n]\n\u001b[1;32m     11\u001b[0m     \u001b[38;5;28;01mreturn\u001b[39;00m f\n\u001b[0;32m---> 13\u001b[0m \u001b[38;5;28mprint\u001b[39m(\u001b[43mfib\u001b[49m\u001b[43m(\u001b[49m\u001b[38;5;124;43m\"\u001b[39;49m\u001b[38;5;124;43mx\u001b[39;49m\u001b[38;5;124;43m\"\u001b[39;49m\u001b[43m)\u001b[49m)\n",
      "Input \u001b[0;32mIn [7]\u001b[0m, in \u001b[0;36mfib\u001b[0;34m(N)\u001b[0m\n\u001b[1;32m      2\u001b[0m \u001b[38;5;124;03m\"\"\" \u001b[39;00m\n\u001b[1;32m      3\u001b[0m \u001b[38;5;124;03mReturn a list of the first N Fibonacci numbers.\u001b[39;00m\n\u001b[1;32m      4\u001b[0m \u001b[38;5;124;03m\"\"\"\u001b[39;00m \n\u001b[1;32m      5\u001b[0m f0, f1 \u001b[38;5;241m=\u001b[39m \u001b[38;5;241m0\u001b[39m, \u001b[38;5;241m1\u001b[39m\n\u001b[0;32m----> 6\u001b[0m f \u001b[38;5;241m=\u001b[39m \u001b[43m[\u001b[49m\u001b[38;5;241;43m1\u001b[39;49m\u001b[43m]\u001b[49m\u001b[43m \u001b[49m\u001b[38;5;241;43m*\u001b[39;49m\u001b[43m \u001b[49m\u001b[43mN\u001b[49m\n\u001b[1;32m      7\u001b[0m \u001b[38;5;28;01mfor\u001b[39;00m n \u001b[38;5;129;01min\u001b[39;00m \u001b[38;5;28mrange\u001b[39m(\u001b[38;5;241m1\u001b[39m, N):\n\u001b[1;32m      8\u001b[0m     f[n] \u001b[38;5;241m=\u001b[39m f0 \u001b[38;5;241m+\u001b[39m f1\n",
      "\u001b[0;31mTypeError\u001b[0m: can't multiply sequence by non-int of type 'str'"
     ]
    }
   ],
   "source": [
    "def fib(N): \n",
    "    \"\"\" \n",
    "    Return a list of the first N Fibonacci numbers.\n",
    "    \"\"\" \n",
    "    f0, f1 = 0, 1\n",
    "    f = [1] * N\n",
    "    for n in range(1, N):\n",
    "        f[n] = f0 + f1\n",
    "        f0, f1 = f1, f[n]\n",
    "\n",
    "    return f\n",
    "\n",
    "print(fib(\"x\"))# 非法输入"
   ]
  },
  {
   "cell_type": "code",
   "execution_count": 8,
   "id": "f7b8536d-b8a3-458b-b13a-cffb312d25ba",
   "metadata": {},
   "outputs": [
    {
     "name": "stdout",
     "output_type": "stream",
     "text": [
      "> \u001b[0;32m/tmp/ipykernel_2199771/811630536.py\u001b[0m(6)\u001b[0;36mfib\u001b[0;34m()\u001b[0m\n",
      "\u001b[0;32m      4 \u001b[0;31m    \"\"\" \n",
      "\u001b[0m\u001b[0;32m      5 \u001b[0;31m    \u001b[0mf0\u001b[0m\u001b[0;34m,\u001b[0m \u001b[0mf1\u001b[0m \u001b[0;34m=\u001b[0m \u001b[0;36m0\u001b[0m\u001b[0;34m,\u001b[0m \u001b[0;36m1\u001b[0m\u001b[0;34m\u001b[0m\u001b[0;34m\u001b[0m\u001b[0m\n",
      "\u001b[0m\u001b[0;32m----> 6 \u001b[0;31m    \u001b[0mf\u001b[0m \u001b[0;34m=\u001b[0m \u001b[0;34m[\u001b[0m\u001b[0;36m1\u001b[0m\u001b[0;34m]\u001b[0m \u001b[0;34m*\u001b[0m \u001b[0mN\u001b[0m\u001b[0;34m\u001b[0m\u001b[0;34m\u001b[0m\u001b[0m\n",
      "\u001b[0m\u001b[0;32m      7 \u001b[0;31m    \u001b[0;32mfor\u001b[0m \u001b[0mn\u001b[0m \u001b[0;32min\u001b[0m \u001b[0mrange\u001b[0m\u001b[0;34m(\u001b[0m\u001b[0;36m1\u001b[0m\u001b[0;34m,\u001b[0m \u001b[0mN\u001b[0m\u001b[0;34m)\u001b[0m\u001b[0;34m:\u001b[0m\u001b[0;34m\u001b[0m\u001b[0;34m\u001b[0m\u001b[0m\n",
      "\u001b[0m\u001b[0;32m      8 \u001b[0;31m        \u001b[0mf\u001b[0m\u001b[0;34m[\u001b[0m\u001b[0mn\u001b[0m\u001b[0;34m]\u001b[0m \u001b[0;34m=\u001b[0m \u001b[0mf0\u001b[0m \u001b[0;34m+\u001b[0m \u001b[0mf1\u001b[0m\u001b[0;34m\u001b[0m\u001b[0;34m\u001b[0m\u001b[0m\n",
      "\u001b[0m\n"
     ]
    },
    {
     "name": "stdin",
     "output_type": "stream",
     "text": [
      "ipdb>  p N\n"
     ]
    },
    {
     "name": "stdout",
     "output_type": "stream",
     "text": [
      "'x'\n"
     ]
    },
    {
     "name": "stdin",
     "output_type": "stream",
     "text": [
      "ipdb>  N\n"
     ]
    },
    {
     "name": "stdout",
     "output_type": "stream",
     "text": [
      "'x'\n"
     ]
    },
    {
     "name": "stdin",
     "output_type": "stream",
     "text": [
      "ipdb>  N = 1\n",
      "ipdb>  n\n"
     ]
    }
   ],
   "source": [
    "%debug"
   ]
  },
  {
   "cell_type": "code",
   "execution_count": null,
   "id": "1b1934be-7099-4bc8-8289-ab03f4241e43",
   "metadata": {},
   "outputs": [],
   "source": []
  }
 ],
 "metadata": {
  "kernelspec": {
   "display_name": "Python 3 (ipykernel)",
   "language": "python",
   "name": "python3"
  },
  "language_info": {
   "codemirror_mode": {
    "name": "ipython",
    "version": 3
   },
   "file_extension": ".py",
   "mimetype": "text/x-python",
   "name": "python",
   "nbconvert_exporter": "python",
   "pygments_lexer": "ipython3",
   "version": "3.9.7"
  }
 },
 "nbformat": 4,
 "nbformat_minor": 5
}
