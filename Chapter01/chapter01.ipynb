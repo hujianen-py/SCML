{
 "cells": [
  {
   "cell_type": "markdown",
   "id": "c1b060cb-1277-465e-85b0-650d899996f7",
   "metadata": {},
   "source": [
    "# 第一章 科学计算介绍"
   ]
  },
  {
   "cell_type": "markdown",
   "id": "36207544-8b44-4b76-80c1-eda7e7cd727a",
   "metadata": {
    "tags": []
   },
   "source": [
    "## Python\n",
    "<img src=\"./Images/Fig_ProgramingLanguages.svg\" style=\"width: 80%;\"/>\n",
    "\n",
    "Python 是一种解释型、面向对象、动态数据类型的高级程序设计语言。\n",
    "\n",
    "[Python菜鸟教程](https://www.runoob.com/python/python-tutorial.html)"
   ]
  },
  {
   "cell_type": "markdown",
   "id": "36824e5c-f5e7-4204-ba90-4b369e50c410",
   "metadata": {
    "tags": []
   },
   "source": [
    "## Jupyter\n",
    "Jupyter Notebook是一种基于Jupyter的交互式文档，支持文本、公式、数据可视化（图像动画等），以及原位执行的程序代码。Jupyter Notebook运行于网页浏览器中，可以提供丰富的互动式教学工具和体验。\n",
    "<img src=\"./Images/Fig_notebook.png\" style=\"width: 80%;\"/>\n",
    "\n",
    "[Google Colab](https://colab.google.com)\n",
    "\n",
    "[Mybinder](https://mybinder.org/v2/gh/sim42/scml/head)"
   ]
  },
  {
   "cell_type": "markdown",
   "id": "b2c77222-04dd-4db7-8564-a3080c7784e6",
   "metadata": {
    "tags": []
   },
   "source": [
    "## Markdown\n",
    "Markdown是一种轻量化的标记语言。主要用于书写技术文档。"
   ]
  },
  {
   "cell_type": "markdown",
   "id": "b1b1a2fa-7893-4aa8-9ef7-f23a5d16e1dd",
   "metadata": {},
   "source": [
    "### 标题\n",
    "以`#`起始的行为一级标题，以`##` 起始的行为二级标题，以`###`起始的行为三级标题。以此类推。\n",
    "# 一级标题\n",
    "## 二级标题\n",
    "### 二级标题"
   ]
  },
  {
   "cell_type": "markdown",
   "id": "2a3b66f9-dff5-42bd-8f5a-36ebc884ede1",
   "metadata": {},
   "source": [
    "### 换行\n",
    "使用空白行进行换行。\n",
    "\n",
    "或者使用两个空格加回车换行。"
   ]
  },
  {
   "cell_type": "markdown",
   "id": "16c234d0-b8cb-4606-b29e-2cffdd1e2ad6",
   "metadata": {},
   "source": [
    "### 等宽字体\n",
    "用单引号包裹的文字显示为等宽字体：`text`"
   ]
  },
  {
   "cell_type": "markdown",
   "id": "d1acf66f-3540-48a4-96cb-62da98bbbc18",
   "metadata": {
    "tags": []
   },
   "source": [
    "### 斜体\n",
    "\n",
    "用星号包裹的文字`*text*` 显示为斜体：*text*"
   ]
  },
  {
   "cell_type": "markdown",
   "id": "0667068a-1fbf-46b1-ac5a-334988fe25e4",
   "metadata": {},
   "source": [
    "### 粗体\n",
    "用双星号包裹的文字`**text**` 显示为粗体：**text**"
   ]
  },
  {
   "cell_type": "markdown",
   "id": "5bb1c7f6-7a91-4c3e-ace4-2969ce13d0d9",
   "metadata": {},
   "source": [
    "### URL链接\n",
    "URL链接可以写为`[链接文字](http://www.example.com)`: [链接文字](http://www.example.com) "
   ]
  },
  {
   "cell_type": "markdown",
   "id": "979233aa-cee8-4192-a30b-70721df76684",
   "metadata": {},
   "source": [
    "### 抄录环境(verbatim)\n",
    "以4个空格起始的文字显示为无视格式符的抄录(verbatim)：\n",
    "\n",
    "    def func(x):\n",
    "        return x ** 2"
   ]
  },
  {
   "cell_type": "markdown",
   "id": "e53cfd53-ba4d-4669-a826-f0ba037ca603",
   "metadata": {},
   "source": [
    "### 表格\n",
    "表格的输入格式如下：\n",
    "\n",
    "    | A | B | C |\n",
    "    |---|---|---|\n",
    "    | 1 | 2 | 3 |\n",
    "    | 4 | 5 | 6 |\n",
    "\n",
    "| A | B | C |\n",
    "|---|---|---|\n",
    "| 1 | 2 | 3 |\n",
    "| 4 | 5 | 6 |"
   ]
  },
  {
   "cell_type": "markdown",
   "id": "4a06f7ff-8901-4edf-8f9f-c2d880095ca9",
   "metadata": {},
   "source": [
    "### 水平分隔线\n",
    "\n",
    "三个破折号`---`单独成为水平分隔线：\n",
    "\n",
    "---"
   ]
  },
  {
   "cell_type": "markdown",
   "id": "38fb65b9-de78-407e-96dd-d9157c615d0a",
   "metadata": {},
   "source": [
    "### 块引用\n",
    "\n",
    "大于号 `>` 起始的行显示为块引用：\n",
    "> Text here is indented and offset\n",
    "> from the main text body."
   ]
  },
  {
   "cell_type": "markdown",
   "id": "b9dfc6c7-2fd6-43bf-b7bb-0faad09b74e1",
   "metadata": {},
   "source": [
    "### 无序列表\n",
    "星号 `*` 起始的行为无序列表：\n",
    "\n",
    "* Item one\n",
    "* Item two\n",
    "* Item three"
   ]
  },
  {
   "cell_type": "markdown",
   "id": "59a6553f-f92f-4082-ad80-6b03c7dec028",
   "metadata": {},
   "source": [
    "### 有序列表\n",
    "数字 `1.` `2.`等起始的行为有序列表：\n",
    "\n",
    "1. Item one\n",
    "2. Item two\n",
    "3. Item three"
   ]
  },
  {
   "cell_type": "markdown",
   "id": "d7840d13-a05e-4e44-ba01-4b5031515b4c",
   "metadata": {},
   "source": [
    "### 图像\n",
    "插入本地图像 `![Alternative text](image-file.png)`  \n",
    "插入远程图像 `![Alternative text](http://www.example.com/image.png)`  \n",
    "或者插入`HTML`代码段 `<img src=\"image-file.png\" style=\"width: 80%;\"/>`"
   ]
  },
  {
   "cell_type": "markdown",
   "id": "db1bbac6-95aa-4da7-a6bc-cfb2936e4325",
   "metadata": {},
   "source": [
    "### LaTeX\n",
    "Inline LaTeX equations can be included using `$\\LaTeX$`: $\\LaTeX$\n",
    "\n",
    "Displayed LaTeX equations (centered, and on a new line): `$$\\LaTeX$$`\n",
    "\n",
    "$$\\LaTeX$$ \n",
    "\n",
    "It is also possible to use latex environments like equation, eqnarray, align:\n",
    "\n",
    "`\\begin{equation} x = 1 \\end{equation}`\n",
    "\n",
    "\\begin{equation} x = 1 \\end{equation}\n",
    "\n",
    "`\\begin{eqnarray} x = 2 \\end{eqnarray}`\n",
    "\n",
    "\\begin{eqnarray} x = 2 \\end{eqnarray}\n",
    "\n",
    "`\\begin{align} x = 3 \\end{align}`\n",
    "\n",
    "\\begin{align} x = 3 \\end{align}"
   ]
  },
  {
   "cell_type": "code",
   "execution_count": null,
   "id": "4e018123-1d58-4a25-9eb3-85da14dac3f6",
   "metadata": {},
   "outputs": [],
   "source": []
  },
  {
   "cell_type": "code",
   "execution_count": null,
   "id": "ac389e52-fc05-4e09-a47b-adba82f4df0e",
   "metadata": {},
   "outputs": [],
   "source": []
  }
 ],
 "metadata": {
  "kernelspec": {
   "display_name": "Python 3 (ipykernel)",
   "language": "python",
   "name": "python3"
  },
  "language_info": {
   "codemirror_mode": {
    "name": "ipython",
    "version": 3
   },
   "file_extension": ".py",
   "mimetype": "text/x-python",
   "name": "python",
   "nbconvert_exporter": "python",
   "pygments_lexer": "ipython3",
   "version": "3.9.7"
  }
 },
 "nbformat": 4,
 "nbformat_minor": 5
}
