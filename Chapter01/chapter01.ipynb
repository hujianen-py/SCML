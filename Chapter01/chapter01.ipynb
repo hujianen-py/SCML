{
 "cells": [
  {
   "cell_type": "markdown",
   "id": "c1b060cb-1277-465e-85b0-650d899996f7",
   "metadata": {},
   "source": [
    "# 第一章 科学计算介绍"
   ]
  },
  {
   "cell_type": "markdown",
   "id": "36207544-8b44-4b76-80c1-eda7e7cd727a",
   "metadata": {
    "tags": []
   },
   "source": [
    "## Python\n",
    "![](./Images/Fig_ProgramingLanguages.svg)"
   ]
  },
  {
   "cell_type": "markdown",
   "id": "36824e5c-f5e7-4204-ba90-4b369e50c410",
   "metadata": {
    "tags": []
   },
   "source": [
    "## Jupyter\n",
    "Jupyter Notebook是一种基于Jupyter的交互式文档，支持文本、公式、数据可视化（图像动画等），以及原位执行的程序代码。Jupyter Notebook运行于网页浏览器中，可以提供丰富的互动式教学工具和体验。\n",
    "![](./Images/Fig_notebook.png)"
   ]
  },
  {
   "cell_type": "markdown",
   "id": "b2c77222-04dd-4db7-8564-a3080c7784e6",
   "metadata": {},
   "source": [
    "## Markdown"
   ]
  }
 ],
 "metadata": {
  "kernelspec": {
   "display_name": "Python 3 (ipykernel)",
   "language": "python",
   "name": "python3"
  },
  "language_info": {
   "codemirror_mode": {
    "name": "ipython",
    "version": 3
   },
   "file_extension": ".py",
   "mimetype": "text/x-python",
   "name": "python",
   "nbconvert_exporter": "python",
   "pygments_lexer": "ipython3",
   "version": "3.9.7"
  }
 },
 "nbformat": 4,
 "nbformat_minor": 5
}
