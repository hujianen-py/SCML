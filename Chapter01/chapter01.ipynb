{
 "cells": [
  {
   "cell_type": "markdown",
   "id": "ce6348ab-214b-449a-9594-63081de6e823",
   "metadata": {},
   "source": [
    "### 解释器 Interpreter"
   ]
  },
  {
   "cell_type": "code",
   "execution_count": 1,
   "id": "2589cf13-aa21-4051-8be1-b33daf8ea7d7",
   "metadata": {},
   "outputs": [
    {
     "name": "stdout",
     "output_type": "stream",
     "text": [
      "Overwriting hello.py\n"
     ]
    }
   ],
   "source": [
    "%%writefile hello.py\n",
    "print(\"Hello from Python!\")"
   ]
  },
  {
   "cell_type": "code",
   "execution_count": 2,
   "id": "99d423cc-4867-4b32-97d8-a75649879d4f",
   "metadata": {},
   "outputs": [
    {
     "name": "stdout",
     "output_type": "stream",
     "text": [
      "Hello from Python!\n"
     ]
    }
   ],
   "source": [
    "!python hello.py"
   ]
  },
  {
   "cell_type": "code",
   "execution_count": 3,
   "id": "749e7ef7-8f6a-4c3d-a92a-5d52fbc2daa2",
   "metadata": {},
   "outputs": [
    {
     "name": "stdout",
     "output_type": "stream",
     "text": [
      "Python 3.9.7\n"
     ]
    }
   ],
   "source": [
    "!python --version"
   ]
  },
  {
   "cell_type": "markdown",
   "id": "7fface37-9570-401b-ba28-0ad5881f068c",
   "metadata": {},
   "source": [
    "### 输入和输出缓存"
   ]
  },
  {
   "cell_type": "code",
   "execution_count": 4,
   "id": "6fea8f6a-d6da-45a1-8e14-71cfd67fc4ca",
   "metadata": {},
   "outputs": [
    {
     "data": {
      "text/plain": [
       "9"
      ]
     },
     "execution_count": 4,
     "metadata": {},
     "output_type": "execute_result"
    }
   ],
   "source": [
    "3 * 3"
   ]
  },
  {
   "cell_type": "code",
   "execution_count": 5,
   "id": "794f3a4d-13eb-4d55-9b1d-c35a72aea64f",
   "metadata": {},
   "outputs": [
    {
     "data": {
      "text/plain": [
       "{4: 9}"
      ]
     },
     "execution_count": 5,
     "metadata": {},
     "output_type": "execute_result"
    }
   ],
   "source": [
    "Out"
   ]
  },
  {
   "cell_type": "code",
   "execution_count": 6,
   "id": "bfe39724-b423-4b23-aac5-4e7ce605a48d",
   "metadata": {},
   "outputs": [
    {
     "data": {
      "text/plain": [
       "['',\n",
       " 'get_ipython().run_cell_magic(\\'writefile\\', \\'hello.py\\', \\'print(\"Hello from Python!\")\\\\n\\')',\n",
       " \"get_ipython().system('python hello.py')\",\n",
       " \"get_ipython().system('python --version')\",\n",
       " '3 * 3',\n",
       " 'Out',\n",
       " 'In']"
      ]
     },
     "execution_count": 6,
     "metadata": {},
     "output_type": "execute_result"
    }
   ],
   "source": [
    "In"
   ]
  },
  {
   "cell_type": "markdown",
   "id": "bb2d0659-6a40-4f42-b677-7cc0173ab4ff",
   "metadata": {},
   "source": [
    "### 函数文档"
   ]
  },
  {
   "cell_type": "code",
   "execution_count": 7,
   "id": "127f8151-c187-490c-9b7a-02a90dd578e6",
   "metadata": {
    "tags": []
   },
   "outputs": [
    {
     "data": {
      "text/plain": [
       "\u001b[0;31mSignature:\u001b[0m \u001b[0mmath\u001b[0m\u001b[0;34m.\u001b[0m\u001b[0mcos\u001b[0m\u001b[0;34m(\u001b[0m\u001b[0mx\u001b[0m\u001b[0;34m,\u001b[0m \u001b[0;34m/\u001b[0m\u001b[0;34m)\u001b[0m\u001b[0;34m\u001b[0m\u001b[0;34m\u001b[0m\u001b[0m\n",
       "\u001b[0;31mDocstring:\u001b[0m Return the cosine of x (measured in radians).\n",
       "\u001b[0;31mType:\u001b[0m      builtin_function_or_method\n"
      ]
     },
     "metadata": {},
     "output_type": "display_data"
    }
   ],
   "source": [
    "import os\n",
    "import math\n",
    "math.cos?"
   ]
  },
  {
   "cell_type": "markdown",
   "id": "07b2f054-02ac-4fd4-b5e9-f7e1d0065109",
   "metadata": {},
   "source": [
    "### 执行Shell命令"
   ]
  },
  {
   "cell_type": "code",
   "execution_count": 8,
   "id": "76ab7065-9162-42b0-bb25-a7117d9b987f",
   "metadata": {},
   "outputs": [
    {
     "name": "stdout",
     "output_type": "stream",
     "text": [
      "chapter01.ipynb  fib.py  hello.py  Images  科学计算.md\n"
     ]
    }
   ],
   "source": [
    "!ls"
   ]
  },
  {
   "cell_type": "markdown",
   "id": "1c6b407f-4f4b-452b-83cc-5a7619bdb9ec",
   "metadata": {},
   "source": [
    "### 执行脚本"
   ]
  },
  {
   "cell_type": "code",
   "execution_count": 9,
   "id": "48a69330-183f-4824-8685-25eab70baa15",
   "metadata": {},
   "outputs": [
    {
     "name": "stdout",
     "output_type": "stream",
     "text": [
      "Overwriting fib.py\n"
     ]
    }
   ],
   "source": [
    "%%writefile fib.py\n",
    "\n",
    "def fib(N): \n",
    "    \"\"\" \n",
    "    Return a list of the first N Fibonacci numbers.\n",
    "    \"\"\" \n",
    "    f0, f1 = 0, 1\n",
    "    f = [1] * N\n",
    "    for n in range(1, N):\n",
    "        f[n] = f0 + f1\n",
    "        f0, f1 = f1, f[n]\n",
    "\n",
    "    return f\n",
    "\n",
    "print(fib(10))"
   ]
  },
  {
   "cell_type": "code",
   "execution_count": 10,
   "id": "a0a857bb-cec8-422b-90f4-6f5ad87d73c1",
   "metadata": {},
   "outputs": [
    {
     "name": "stdout",
     "output_type": "stream",
     "text": [
      "[1, 1, 2, 3, 5, 8, 13, 21, 34, 55]\n"
     ]
    }
   ],
   "source": [
    "!python fib.py"
   ]
  },
  {
   "cell_type": "code",
   "execution_count": 11,
   "id": "f4efb95a-4695-4ebe-9469-6b3e368cad44",
   "metadata": {},
   "outputs": [
    {
     "name": "stdout",
     "output_type": "stream",
     "text": [
      "[1, 1, 2, 3, 5, 8, 13, 21, 34, 55]\n"
     ]
    }
   ],
   "source": [
    "%run fib.py"
   ]
  },
  {
   "cell_type": "code",
   "execution_count": 12,
   "id": "d06660d9-0369-4dc1-a29a-c7df3e190503",
   "metadata": {},
   "outputs": [
    {
     "data": {
      "text/plain": [
       "[1, 1, 2, 3, 5, 8]"
      ]
     },
     "execution_count": 12,
     "metadata": {},
     "output_type": "execute_result"
    }
   ],
   "source": [
    "fib(6)"
   ]
  },
  {
   "cell_type": "markdown",
   "id": "b8908db2-dfa5-4b5b-a376-3873802aa7d1",
   "metadata": {},
   "source": [
    "### 代码计时和性能分析"
   ]
  },
  {
   "cell_type": "code",
   "execution_count": 13,
   "id": "132c2e6b-bf14-4ec1-b7b7-29be32bbbd1d",
   "metadata": {},
   "outputs": [
    {
     "name": "stdout",
     "output_type": "stream",
     "text": [
      "7.5 µs ± 98 ns per loop (mean ± std. dev. of 7 runs, 100,000 loops each)\n"
     ]
    }
   ],
   "source": [
    "%timeit fib(100)"
   ]
  },
  {
   "cell_type": "code",
   "execution_count": 14,
   "id": "92b17f51-851c-4c5e-8500-fad2cf924b4a",
   "metadata": {},
   "outputs": [],
   "source": [
    "import numpy as np\n",
    "\n",
    "def random_walker_max_distance(M, N):\n",
    "    \"\"\"\n",
    "    Simulate N random walkers taking M steps, and return the largest distance\n",
    "    from the starting point achieved by any of the random walkers.\n",
    "    \"\"\"\n",
    "    trajectories = [np.random.randn(M).cumsum() for _ in range(N)]\n",
    "    return np.max(np.abs(trajectories))"
   ]
  },
  {
   "cell_type": "code",
   "execution_count": 15,
   "id": "004efe87-03e7-48bc-b03f-6adc9a1051ca",
   "metadata": {},
   "outputs": [
    {
     "name": "stdout",
     "output_type": "stream",
     "text": [
      " "
     ]
    },
    {
     "data": {
      "text/plain": [
       "         20013 function calls in 0.269 seconds\n",
       "\n",
       "   Ordered by: internal time\n",
       "\n",
       "   ncalls  tottime  percall  cumtime  percall filename:lineno(function)\n",
       "    10000    0.112    0.000    0.112    0.000 {method 'randn' of 'numpy.random.mtrand.RandomState' objects}\n",
       "        1    0.088    0.088    0.265    0.265 2615584822.py:3(random_walker_max_distance)\n",
       "    10000    0.043    0.000    0.043    0.000 {method 'cumsum' of 'numpy.ndarray' objects}\n",
       "        1    0.015    0.015    0.015    0.015 {method 'reduce' of 'numpy.ufunc' objects}\n",
       "        1    0.007    0.007    0.162    0.162 2615584822.py:8(<listcomp>)\n",
       "        1    0.003    0.003    0.268    0.268 <string>:1(<module>)\n",
       "        1    0.000    0.000    0.269    0.269 {built-in method builtins.exec}\n",
       "        1    0.000    0.000    0.015    0.015 fromnumeric.py:69(_wrapreduction)\n",
       "        1    0.000    0.000    0.015    0.015 <__array_function__ internals>:2(amax)\n",
       "        1    0.000    0.000    0.015    0.015 fromnumeric.py:2638(amax)\n",
       "        1    0.000    0.000    0.015    0.015 {built-in method numpy.core._multiarray_umath.implement_array_function}\n",
       "        1    0.000    0.000    0.000    0.000 fromnumeric.py:70(<dictcomp>)\n",
       "        1    0.000    0.000    0.000    0.000 fromnumeric.py:2633(_amax_dispatcher)\n",
       "        1    0.000    0.000    0.000    0.000 {method 'items' of 'dict' objects}\n",
       "        1    0.000    0.000    0.000    0.000 {method 'disable' of '_lsprof.Profiler' objects}"
      ]
     },
     "metadata": {},
     "output_type": "display_data"
    }
   ],
   "source": [
    "%prun random_walker_max_distance(400, 10000)"
   ]
  },
  {
   "cell_type": "markdown",
   "id": "36824e5c-f5e7-4204-ba90-4b369e50c410",
   "metadata": {
    "tags": []
   },
   "source": [
    "## Jupyter\n",
    "Jupyter Notebook是一种基于Jupyter的交互式文档，支持文本、公式、数据可视化（图像动画等），以及原位执行的程序代码。Jupyter Notebook运行于网页浏览器中，可以提供丰富的互动式教学工具和体验。\n",
    "<img src=\"./Images/Jupyter_notebook.png\" style=\"width: 80%;\"/>\n",
    "\n",
    "### 免费计算资源\n",
    "[Google Colab](https://colab.google.com)"
   ]
  }
 ],
 "metadata": {
  "kernelspec": {
   "display_name": "Python 3 (ipykernel)",
   "language": "python",
   "name": "python3"
  },
  "language_info": {
   "codemirror_mode": {
    "name": "ipython",
    "version": 3
   },
   "file_extension": ".py",
   "mimetype": "text/x-python",
   "name": "python",
   "nbconvert_exporter": "python",
   "pygments_lexer": "ipython3",
   "version": "3.9.7"
  }
 },
 "nbformat": 4,
 "nbformat_minor": 5
}
