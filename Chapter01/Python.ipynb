{
 "cells": [
  {
   "cell_type": "markdown",
   "id": "018bf02e-7f64-4ae1-b661-84fd478b3738",
   "metadata": {},
   "source": [
    "# Python\n",
    "---\n",
    "\n",
    "Python是一种解释型、面向对象、动态数据类型的高级程序设计语言，被广泛地应用于科学计算和工程领域。作为一种通用性语言，Python并不是专为数值计算设计的(*不同于Fortran*)，但其很多特性使之非常适合于本课程。首先，Python因其简洁易读的代码语法而闻名。其次，Python拥有非常丰富的低级语言编写的库和软件包。因此，Python已经成为了一种非常流行的“胶水语言”。使用Python和科学计算库这样的高级编程语言环境，可以最大限度地缩短开发时间（而不是CPU运行时间）。\n",
    "\n",
    "### 参考资料\n",
    "[Python菜鸟教程](https://www.runoob.com/python3/python3-tutorial.html)"
   ]
  },
  {
   "cell_type": "markdown",
   "id": "117b6eb4-ffa0-4c3a-ac71-e52664f24353",
   "metadata": {},
   "source": [
    "## 异常处理\n",
    "try 语句按照如下方式工作：\n",
    ">1. 首先，执行 try 子句（在关键字 try 和关键字 except 之间的语句）。\n",
    ">2. 如果没有异常发生，忽略 except 子句，try 子句执行后结束。\n",
    ">3. 如果在执行 try 子句的过程中发生了异常，那么 try 子句余下的部分将被忽略。如果异常的类型和 except 之后的名称相符，那么对应的 except 子句将被执行。\n",
    ">4. 如果一个异常没有与任何的 except 匹配，那么这个异常将会传递给上层的 try 中。"
   ]
  },
  {
   "cell_type": "code",
   "execution_count": null,
   "id": "66658571-07f3-408f-bad1-76e834d94134",
   "metadata": {},
   "outputs": [],
   "source": [
    "while True:\n",
    "    try:\n",
    "        x = int(input(\"请输入一个数字: \"))\n",
    "        break\n",
    "    except ValueError:\n",
    "        print(\"您输入的不是数字，请再次尝试输入！\")"
   ]
  },
  {
   "cell_type": "markdown",
   "id": "5ee2c998-dcaa-424c-99d7-34205d6723e7",
   "metadata": {},
   "source": [
    "## 迭代器\n",
    ">1. 迭代器是一个可以记住遍历的位置的对象。\n",
    ">2. 迭代器对象从集合的第一个元素开始访问，直到所有的元素被访问完结束。迭代器只能往前不会后退。\n",
    ">3. 字符串，列表或元组对象都可用于创建迭代器。"
   ]
  },
  {
   "cell_type": "code",
   "execution_count": null,
   "id": "e4eca9f8-a9a9-4439-9978-d0fb6cd58e15",
   "metadata": {},
   "outputs": [],
   "source": [
    "list=[1,2]\n",
    "it = iter(list)    # 创建迭代器对象\n",
    "print(type(it))\n",
    "print (next(it), next(it))   # 依次输出迭代器的下一个元素\n",
    "# 迭代器对象可以使用常规for语句进行遍历\n",
    "it = iter(list)   # 再次创建迭代器对象\n",
    "for x in it:\n",
    "    print (x, end=\" \")"
   ]
  },
  {
   "cell_type": "markdown",
   "id": "1a9c0836-d997-4595-9842-7e2802ba6c2e",
   "metadata": {},
   "source": [
    "## 生成器\n",
    ">1. 使用了 yield 的函数被称为生成器（generator）。生成器是一个返回迭代器的函数。\n",
    ">2. 在调用生成器运行的过程中，每次遇到 yield 时函数会暂停并保存当前所有的运行信息，返回 yield 的值, 并在下一次执行 next() 方法时从当前位置继续运行。\n",
    ">3. 调用一个生成器函数，返回的是一个迭代器对象。"
   ]
  },
  {
   "cell_type": "code",
   "execution_count": null,
   "id": "ea9fab46-6de4-4cd9-b41a-ed045fda7011",
   "metadata": {},
   "outputs": [],
   "source": [
    "def fibonacci(n): # 生成器函数 - 斐波那契\n",
    "    a, b, counter = 0, 1, 0\n",
    "    while True:\n",
    "        if (counter > n): \n",
    "            return\n",
    "        yield a\n",
    "        a, b = b, a + b\n",
    "        counter += 1\n",
    "f = fibonacci(5) # f是一个迭代器，由生成器返回生成\n",
    "print(type(f))\n",
    "for x in f:\n",
    "    print(x, end=\" \")"
   ]
  },
  {
   "cell_type": "markdown",
   "id": "6e2d3524-9acc-4a15-aa5d-a9a7cf117419",
   "metadata": {},
   "source": [
    "## 匿名函数\n",
    "\n",
    ">1. lambda只是一个表达式，函数体比def简单得多。\n",
    ">2. lambda的主体是一个表达式，而不是一个代码块，所以不能写太多的逻辑进去。\n",
    ">3. lambda函数拥有自己的命名空间，且不能访问自有参数列表之外或全局命名空间里的参数。\n",
    ">4. lambda定义的函数的返回值就是表达式的返回值，不需要return语句块。\n",
    ">5. lambda表达式的主要应用场景就是赋值给变量，作为参数传入其他函数\n"
   ]
  },
  {
   "cell_type": "code",
   "execution_count": null,
   "id": "bc26724a-ce78-45d6-af00-54bfc179761e",
   "metadata": {},
   "outputs": [],
   "source": [
    "# def函数\n",
    "def func(x):\n",
    "    return x**2\n",
    "# lambda函数\n",
    "f = lambda x: x**2\n",
    "print(type(f))"
   ]
  },
  {
   "cell_type": "markdown",
   "id": "dcc3560d-64de-4029-9569-10611056a42c",
   "metadata": {},
   "source": [
    "## 高阶函数\n",
    "---\n",
    "\n",
    "接受一个或多个函数作为输入的一个函数称为高阶函数。\n",
    "\n",
    "### map函数\n",
    "接收一个函数 f 和一个 list，并通过把函数 f 依次作用在 list 的每个元素上，并返回一个迭代器。"
   ]
  },
  {
   "cell_type": "code",
   "execution_count": null,
   "id": "6a3282d6-1d65-4354-947d-10d5e3e4d388",
   "metadata": {},
   "outputs": [],
   "source": [
    "f = lambda x, y: (x ** y, x+y)\n",
    "list_result = map(f, [2, 4, 6], [3, 2, 1])\n",
    "print(list(list_result)) # 第一次遍历返回所有结果\n",
    "print(list(list_result)) # 第二次遍历为空"
   ]
  },
  {
   "cell_type": "markdown",
   "id": "935066dd-19a2-49fd-806d-6307de40acf4",
   "metadata": {},
   "source": [
    "### filter函数\n",
    "接收一个函数 f 和一个 list，这个函数 f 的作用是对每个元素进行判断，返回 True 或 False，filter() 根据判断结果自动过滤掉不符合条件的元素，并返回一个迭代器。"
   ]
  },
  {
   "cell_type": "code",
   "execution_count": null,
   "id": "2eb9470e-b641-44cc-a1a5-fe3f38e4252e",
   "metadata": {},
   "outputs": [],
   "source": [
    "def is_not_empty(s):\n",
    "    return s and len(s.strip()) > 0\n",
    "\n",
    "print(list(filter(is_not_empty, ['test', None, '', 'str', ' ', 'END'])))"
   ]
  },
  {
   "cell_type": "code",
   "execution_count": null,
   "id": "49c5d156-f661-4f58-a286-7b7cfd501398",
   "metadata": {},
   "outputs": [],
   "source": []
  }
 ],
 "metadata": {
  "kernelspec": {
   "display_name": "Python 3 (ipykernel)",
   "language": "python",
   "name": "python3"
  },
  "language_info": {
   "codemirror_mode": {
    "name": "ipython",
    "version": 3
   },
   "file_extension": ".py",
   "mimetype": "text/x-python",
   "name": "python",
   "nbconvert_exporter": "python",
   "pygments_lexer": "ipython3",
   "version": "3.9.7"
  }
 },
 "nbformat": 4,
 "nbformat_minor": 5
}
