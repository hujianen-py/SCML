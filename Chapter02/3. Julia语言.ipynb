{
 "cells": [
  {
   "cell_type": "markdown",
   "id": "cce79a49-8487-4f44-9397-76a9e0230eb9",
   "metadata": {
    "tags": [],
    "toc-hr-collapsed": true
   },
   "source": [
    "# Julia\n",
    "---\n",
    "<img src=\"https://docs.julialang.org/en/v1/assets/logo.svg\" style=\"width: 20%;\"/>\n",
    "\n",
    "科学计算对性能一直有着最高的需求，但目前各领域的专家却大量使用较慢的动态语言来开展他们的日常工作。Julia 是一个面向科学计算和数值计算的高性能动态高级程序设计语言，性能可与传统的静态类型语言媲美。作为一门支持过程式、函数式和面向对象的多范式语言，它像 R、MATLAB 和 Python 一样简单，在高级数值计算方面有丰富的表现力，并且支持通用编程。 \n",
    "\n",
    "## 语言特点\n",
    "\n",
    "* 调用许多其它成熟的高性能基础代码，如线性代数、随机数生成、快速傅里叶变换、字符串处理。\n",
    "* 丰富的用于创建或描述对象的类型语法。\n",
    "* 高性能，接近于静态编译型语言，包括用户自定义类型等。\n",
    "* 为并行计算和分布式计算而设计。\n",
    "* 优雅的可扩展的类型转换/提升。\n",
    "* 可直接调用 C 函数（不需要包装或是借助特殊的 API）。\n",
    "* 有类似 shell 的进程管理能力。\n",
    "* 有类似 Lisp 的宏以及其它元编程工具。\n",
    "* 可与 Jupyter notebook 一起使用。\n",
    "\n",
    "## 与Python的语法区别\n",
    "\n",
    "* 对数组、字符串等索引。Julia 索引的下标是从 1 开始，而不是从 0 开始\n",
    "* 索引列表和数组的最后一个元素时，Julia 使用 end ，Python 使用 -1\n",
    "* Julia 中的 Comprehensions （还）没有条件 if 语句\n",
    "* for, if, while, 等块的结尾需要 end ；不强制要求缩进排版\n",
    "* Julia 没有代码分行的语法：如果在一行的结尾，输入已经是个完整的表达式，就直接执行；否则就继续等待输入。强迫 Julia 的表达式分行的方法是用圆括号括起来\n",
    "* Julia 总是以列为主序的（类似 Fortran ），而 numpy 数组默认是以行为主序的（类似 C ）。如果想优化遍历数组的性能，从 numpy 到 Julia 时应改变遍历的顺序。\n",
    "\n",
    "Julia是免费开源语言。本Jupyter文档使用了[IJulia后端](https://github.com/JuliaLang/IJulia.jl)。\n",
    "\n",
    "## 参考资料\n",
    "[Julia官方教程](https://docs.juliacn.com/latest/manual/getting-started) \n",
    "\n",
    "[Julia菜鸟教程](https://www.runoob.com/julia/julia-tutorial.html)"
   ]
  },
  {
   "cell_type": "markdown",
   "id": "a5719e7d-43ea-4e76-b7a6-1f6294e52917",
   "metadata": {
    "tags": [],
    "toc-hr-collapsed": true
   },
   "source": [
    "# 1. 了解Julia\n",
    "---\n",
    "\n",
    "## 目录\n",
    "\n",
    "- [字符串（Strings）](#字符串)\n",
    "- [数据结构（Data structures）](#数据结构)\n",
    "    - [元组（Tuples）](#元组（Tuples）)\n",
    "    - [字典（Dictionaries）](#字典（Dictionaries）)\n",
    "    - [数组（Arrays）](#数组（Arrays）)\n",
    "- [循环（Loops）](#循环)\n",
    "    - [`for` 循环](#for-循环)\n",
    "    - [`while` 循环](#while-循环)\n",
    "- [条件判断（Conditionals）](#条件判断)\n",
    "    - [`if` 分支](#if-分支)\n",
    "    - [三元运算符](#三元运算符)\n",
    "- [函数（Functions）](#函数)\n",
    "    - [如何声明一个函数](#如何声明一个函数)\n",
    "    - [Julia 中的鸭子类型（Duck-typing）](#Julia-中的鸭子类型（Duck-typing）)\n",
    "    - [调用函数](#调用函数)\n",
    "    - [原地修改与非原地修改函数（Mutating vs. non-mutating functions）](#原地修改与非原地修改函数（Mutating-vs.-non-mutating-functions）)\n",
    "    - [一些高阶函数](#一些高阶函数)\n",
    "    - [广播（broadcast）](#广播（broadcast）)"
   ]
  },
  {
   "cell_type": "markdown",
   "id": "f4756e84-b200-46d6-bee9-c417931cdca7",
   "metadata": {},
   "source": [
    "## 字符串\n",
    "---"
   ]
  },
  {
   "cell_type": "code",
   "execution_count": 1,
   "id": "b7ac273b-d312-4423-bb15-5bb682f9d070",
   "metadata": {},
   "outputs": [
    {
     "data": {
      "text/plain": [
       "\"How many cats \""
      ]
     },
     "execution_count": 1,
     "metadata": {},
     "output_type": "execute_result"
    }
   ],
   "source": [
    "string1 = \"How many cats \""
   ]
  },
  {
   "cell_type": "code",
   "execution_count": 2,
   "id": "0f2971c1-1af9-4187-b606-72c67e278591",
   "metadata": {},
   "outputs": [
    {
     "data": {
      "text/plain": [
       "\"is too many cats?\""
      ]
     },
     "execution_count": 2,
     "metadata": {},
     "output_type": "execute_result"
    }
   ],
   "source": [
    "string2 = \"is too many cats?\""
   ]
  },
  {
   "cell_type": "code",
   "execution_count": 3,
   "id": "bbb8d64c-79cf-4491-9b5c-8d3e48024cc5",
   "metadata": {},
   "outputs": [
    {
     "data": {
      "text/plain": [
       "\"How many cats is too many cats?\""
      ]
     },
     "execution_count": 3,
     "metadata": {},
     "output_type": "execute_result"
    }
   ],
   "source": [
    "string(string1, string2)"
   ]
  },
  {
   "cell_type": "code",
   "execution_count": 4,
   "id": "b4e2b6ca-0973-4fa8-91ae-3517cf2049cd",
   "metadata": {},
   "outputs": [
    {
     "name": "stdout",
     "output_type": "stream",
     "text": [
      "I don't know but 10 are too few!\n"
     ]
    }
   ],
   "source": [
    "😺 = 10\n",
    "println(\"I don't know but $😺 are too few!\")"
   ]
  },
  {
   "cell_type": "markdown",
   "id": "7e04fc67-5777-4b3d-b2d4-0bb63dec2dcc",
   "metadata": {},
   "source": [
    "注意：Julia 允许用 Unicode 字符，例如😺"
   ]
  },
  {
   "cell_type": "markdown",
   "id": "9bfd5a45-93e6-4727-998b-f68b45e9c138",
   "metadata": {},
   "source": [
    "## 数据结构\n",
    "---\n",
    "\n",
    "### 元组（Tuples）"
   ]
  },
  {
   "cell_type": "markdown",
   "id": "ff4fb330-c1f6-426e-8d3d-147f8e3f63b9",
   "metadata": {},
   "source": [
    "要创建创建一个元组，就用小括号依次`( )`括起一系列元素\n",
    "\n",
    "语法：\n",
    "\n",
    "(item1, item2, ...)"
   ]
  },
  {
   "cell_type": "code",
   "execution_count": 5,
   "id": "21364a50-cc22-496b-a85d-8f8f08d9a89b",
   "metadata": {},
   "outputs": [
    {
     "data": {
      "text/plain": [
       "(\"penguins\", \"cats\", \"sugargliders\")"
      ]
     },
     "execution_count": 5,
     "metadata": {},
     "output_type": "execute_result"
    }
   ],
   "source": [
    "myfavoriteanimals = (\"penguins\", \"cats\", \"sugargliders\")"
   ]
  },
  {
   "cell_type": "code",
   "execution_count": 6,
   "id": "9bca16cf-c133-40d8-aaf0-d4baf538b3dd",
   "metadata": {},
   "outputs": [
    {
     "data": {
      "text/plain": [
       "\"penguins\""
      ]
     },
     "execution_count": 6,
     "metadata": {},
     "output_type": "execute_result"
    }
   ],
   "source": [
    "myfavoriteanimals[1]  # 索引从1开始到end结束"
   ]
  },
  {
   "cell_type": "markdown",
   "id": "661660f9-2405-4847-b54a-ba73d884ae68",
   "metadata": {},
   "source": [
    "### 数组（Arrays）\n",
    "\n",
    "不同于元组，数组可变；不同于字典，数组有序。\n",
    "\n",
    "要创建创建一个数组，用方括号依次 `[ ]` 括起一系列元素。\n",
    "\n",
    "语法：\n",
    "\n",
    "[item1, item2, ...]"
   ]
  },
  {
   "cell_type": "code",
   "execution_count": 7,
   "id": "2f496961-b4d1-4246-a2e8-72d039cfc9fe",
   "metadata": {},
   "outputs": [
    {
     "data": {
      "text/plain": [
       "5-element Vector{String}:\n",
       " \"Ted\"\n",
       " \"Robyn\"\n",
       " \"Barney\"\n",
       " \"Lily\"\n",
       " \"Marshall\""
      ]
     },
     "execution_count": 7,
     "metadata": {},
     "output_type": "execute_result"
    }
   ],
   "source": [
    "myfriends = [\"Ted\", \"Robyn\", \"Barney\", \"Lily\", \"Marshall\"]"
   ]
  },
  {
   "cell_type": "code",
   "execution_count": 8,
   "id": "6dc1aaf9-a580-41fc-bce2-9e72c3e491aa",
   "metadata": {},
   "outputs": [
    {
     "data": {
      "text/plain": [
       "5-element Vector{Int64}:\n",
       " 1\n",
       " 1\n",
       " 2\n",
       " 3\n",
       " 5"
      ]
     },
     "execution_count": 8,
     "metadata": {},
     "output_type": "execute_result"
    }
   ],
   "source": [
    "fibonacci = [1, 1, 2, 3, 5]"
   ]
  },
  {
   "cell_type": "code",
   "execution_count": 9,
   "id": "abe783ee-b161-4b54-ba0f-3ce0e4645324",
   "metadata": {},
   "outputs": [
    {
     "data": {
      "text/plain": [
       "6-element Vector{Any}:\n",
       " 1\n",
       " 1\n",
       " 2\n",
       " 3\n",
       "  \"Ted\"\n",
       "  \"Robyn\""
      ]
     },
     "execution_count": 9,
     "metadata": {},
     "output_type": "execute_result"
    }
   ],
   "source": [
    "mixture = [1, 1, 2, 3, \"Ted\", \"Robyn\"]"
   ]
  },
  {
   "cell_type": "markdown",
   "id": "2d0f862c-74b7-466b-8b15-54977a6cdc77",
   "metadata": {},
   "source": [
    "数组可以包含其他数据结构，也可以包含其他数组变成高维数组。"
   ]
  },
  {
   "cell_type": "code",
   "execution_count": 10,
   "id": "9e327c8b-98fc-4fb6-b97e-5961db6c35fe",
   "metadata": {},
   "outputs": [
    {
     "data": {
      "text/plain": [
       "3-element Vector{Vector{Int64}}:\n",
       " [1, 2, 3]\n",
       " [4, 5]\n",
       " [6, 7, 8, 9]"
      ]
     },
     "execution_count": 10,
     "metadata": {},
     "output_type": "execute_result"
    }
   ],
   "source": [
    "numbers = [[1, 2, 3], [4, 5], [6, 7, 8, 9]]"
   ]
  },
  {
   "cell_type": "code",
   "execution_count": 11,
   "id": "8b338a28-e64a-4341-bc15-5b592c1058f7",
   "metadata": {},
   "outputs": [
    {
     "data": {
      "text/plain": [
       "4×3 Matrix{Float64}:\n",
       " 0.344433  0.129792  0.59016\n",
       " 0.996064  0.89842   0.107475\n",
       " 0.102968  0.994724  0.705492\n",
       " 0.648497  0.109975  0.413651"
      ]
     },
     "execution_count": 11,
     "metadata": {},
     "output_type": "execute_result"
    }
   ],
   "source": [
    "rand(4, 3)"
   ]
  },
  {
   "cell_type": "markdown",
   "id": "5232badf-2819-493a-9a5f-6b1194590e0d",
   "metadata": {},
   "source": [
    "## 循环\n",
    "---\n",
    "\n",
    "### for 循环\n",
    "\n",
    "`for` 循环语法：\n",
    "```julia\n",
    "for <var> in <loop iterable>\n",
    "    <loop body>\n",
    "end\n",
    "```"
   ]
  },
  {
   "cell_type": "code",
   "execution_count": 12,
   "id": "0850b224-11d9-4cd3-8406-2a0fc0864de3",
   "metadata": {},
   "outputs": [
    {
     "name": "stdout",
     "output_type": "stream",
     "text": [
      "1\n",
      "2\n",
      "3\n",
      "4\n",
      "5\n"
     ]
    }
   ],
   "source": [
    "for n in 1:5\n",
    "    println(n)  # 相较 print函数多了换行\n",
    "end"
   ]
  },
  {
   "cell_type": "markdown",
   "id": "5f9abbbd-bb4e-4cb1-bcf2-403dc74ecbfa",
   "metadata": {},
   "source": [
    "### while 循环\n",
    "\n",
    "`while` 循环语法：\n",
    "```julia\n",
    "while <condition>\n",
    "    <loop body>\n",
    "end\n",
    "```"
   ]
  },
  {
   "cell_type": "code",
   "execution_count": 13,
   "id": "20c182c0-82d5-482b-90b0-fed45fd22a51",
   "metadata": {},
   "outputs": [
    {
     "name": "stdout",
     "output_type": "stream",
     "text": [
      "1\n",
      "2\n",
      "3\n",
      "4\n",
      "5\n",
      "6\n"
     ]
    }
   ],
   "source": [
    "n = 0\n",
    "while n < 6\n",
    "    n += 1\n",
    "    println(n)\n",
    "end"
   ]
  },
  {
   "cell_type": "markdown",
   "id": "ceeb6437-5d0e-4ef2-ba93-ad5058cb6a86",
   "metadata": {},
   "source": [
    "## 条件判断\n",
    "---\n",
    "\n",
    "### if 分支\n",
    "\n",
    "Julia 中 `if` 语法为：\n",
    "\n",
    "```julia\n",
    "if <condition 1>\n",
    "    <option 1>\n",
    "elseif <condition 2>\n",
    "    <option 2>\n",
    "else\n",
    "    <option 3>\n",
    "end\n",
    "```\n",
    "\n",
    "这让我们可以按条件执行不同的语句"
   ]
  },
  {
   "cell_type": "code",
   "execution_count": 14,
   "id": "e4e48589-1f4d-451b-8ada-714597514969",
   "metadata": {},
   "outputs": [
    {
     "data": {
      "text/plain": [
       "2"
      ]
     },
     "execution_count": 14,
     "metadata": {},
     "output_type": "execute_result"
    }
   ],
   "source": [
    "x, y = 1, 2\n",
    "if x > y\n",
    "    x\n",
    "else\n",
    "    y\n",
    "end"
   ]
  },
  {
   "cell_type": "markdown",
   "id": "ce9ecbba-947a-474d-9234-57cbff05db44",
   "metadata": {},
   "source": [
    "### 三元运算符\n",
    "\n",
    "我们可以用三元运算符语法重写上一个代码块\n",
    "\n",
    "```julia\n",
    "a ? b : c\n",
    "```\n",
    "\n",
    "它等价于\n",
    "\n",
    "```julia\n",
    "if a\n",
    "    b\n",
    "else\n",
    "    c\n",
    "end\n",
    "```"
   ]
  },
  {
   "cell_type": "code",
   "execution_count": 15,
   "id": "82c4b9d9-a92e-4dac-9fbf-2a3d6581ccb5",
   "metadata": {},
   "outputs": [
    {
     "data": {
      "text/plain": [
       "2"
      ]
     },
     "execution_count": 15,
     "metadata": {},
     "output_type": "execute_result"
    }
   ],
   "source": [
    "(x > y) ? x : y"
   ]
  },
  {
   "cell_type": "markdown",
   "id": "8137103a-ada2-407f-9a4e-786e47c5cf48",
   "metadata": {},
   "source": [
    "## 函数\n",
    "---\n",
    "\n",
    "将要谈论的主题：\n",
    "1. 如何声明一个函数\n",
    "2. Julia 中的鸭子类型（Duck-typing）\n",
    "3. 原地修改与非原地修改函数（Mutating vs. non-mutating functions）\n",
    "4. 高阶函数"
   ]
  },
  {
   "cell_type": "markdown",
   "id": "374fe713-0037-4a08-87c0-327b30ffaaab",
   "metadata": {},
   "source": [
    "### 如何声明一个函数\n",
    "\n",
    "#### 方法一：用 `function` 和 `end` 关键字"
   ]
  },
  {
   "cell_type": "code",
   "execution_count": 16,
   "id": "20f1a8f8-ac81-42ba-8654-ade9c85a3da4",
   "metadata": {},
   "outputs": [
    {
     "data": {
      "text/plain": [
       "f (generic function with 1 method)"
      ]
     },
     "execution_count": 16,
     "metadata": {},
     "output_type": "execute_result"
    }
   ],
   "source": [
    "function f(x)\n",
    "    x^2\n",
    "end"
   ]
  },
  {
   "cell_type": "markdown",
   "id": "7b0852b3-fd53-40d7-aefd-82f5f6317de3",
   "metadata": {},
   "source": [
    "#### 方法二：用 `=`"
   ]
  },
  {
   "cell_type": "code",
   "execution_count": 17,
   "id": "28469e5a-ba0c-47bb-80fe-5d54275c44d9",
   "metadata": {},
   "outputs": [
    {
     "data": {
      "text/plain": [
       "f2 (generic function with 1 method)"
      ]
     },
     "execution_count": 17,
     "metadata": {},
     "output_type": "execute_result"
    }
   ],
   "source": [
    "f2(x) = x^2"
   ]
  },
  {
   "cell_type": "markdown",
   "id": "5c7a54af-212b-4a0e-9781-4721b89e6f41",
   "metadata": {},
   "source": [
    "#### 方法三：匿名函数"
   ]
  },
  {
   "cell_type": "code",
   "execution_count": 18,
   "id": "35815202-431b-4043-b443-334fdd9254d1",
   "metadata": {},
   "outputs": [
    {
     "data": {
      "text/plain": [
       "#1 (generic function with 1 method)"
      ]
     },
     "execution_count": 18,
     "metadata": {},
     "output_type": "execute_result"
    }
   ],
   "source": [
    "f3 = x -> x^2"
   ]
  },
  {
   "cell_type": "markdown",
   "id": "8c881f0d-4bb3-4180-8c67-7127ba98ee2a",
   "metadata": {},
   "source": [
    "### 调用函数"
   ]
  },
  {
   "cell_type": "code",
   "execution_count": 19,
   "id": "486789f7-95d5-48a4-9850-e4fa98b74321",
   "metadata": {},
   "outputs": [
    {
     "data": {
      "text/plain": [
       "1764"
      ]
     },
     "execution_count": 19,
     "metadata": {},
     "output_type": "execute_result"
    }
   ],
   "source": [
    "f(42)"
   ]
  },
  {
   "cell_type": "code",
   "execution_count": 20,
   "id": "6eac8496-876b-4a50-ab1a-6aeb14022012",
   "metadata": {},
   "outputs": [
    {
     "data": {
      "text/plain": [
       "1764"
      ]
     },
     "execution_count": 20,
     "metadata": {},
     "output_type": "execute_result"
    }
   ],
   "source": [
    "f2(42)"
   ]
  },
  {
   "cell_type": "code",
   "execution_count": 21,
   "id": "e36616c5-a85a-4f7d-8b23-0bdc3ed2d92e",
   "metadata": {},
   "outputs": [
    {
     "data": {
      "text/plain": [
       "1764"
      ]
     },
     "execution_count": 21,
     "metadata": {},
     "output_type": "execute_result"
    }
   ],
   "source": [
    "f3(42)"
   ]
  },
  {
   "cell_type": "markdown",
   "id": "f2b7e53b-b359-47e2-ba68-889d4361861d",
   "metadata": {},
   "source": [
    "### Julia 中的鸭子类型（Duck-typing）\n",
    "> *“假如它嘎嘎像个鸭鸭，那它就是个鸭鸭”*\n",
    "\n",
    "在未指定函数参数的类型时，不管输入参数是什么类型，只要函数体可以正常执行，\n",
    "那么 Julia 函数就可以应用在这种类型的参数上  \n",
    "比如上面的 `f` 函数可以接受一个矩阵（matrix）作为参数"
   ]
  },
  {
   "cell_type": "code",
   "execution_count": 22,
   "id": "6509be46-9a3c-4ed3-b4a2-63084f9fc428",
   "metadata": {},
   "outputs": [
    {
     "data": {
      "text/plain": [
       "3×3 Matrix{Float64}:\n",
       " 0.394433  0.192698  0.189776\n",
       " 0.832738  0.206822  0.0190963\n",
       " 0.352175  0.728618  0.493466"
      ]
     },
     "execution_count": 22,
     "metadata": {},
     "output_type": "execute_result"
    }
   ],
   "source": [
    "A = rand(3, 3)"
   ]
  },
  {
   "cell_type": "code",
   "execution_count": 23,
   "id": "247475a5-d8bc-4564-8b95-1f2c9546b175",
   "metadata": {},
   "outputs": [
    {
     "data": {
      "text/plain": [
       "3×3 Matrix{Float64}:\n",
       " 0.382878  0.254135  0.172182\n",
       " 0.507413  0.217156  0.171407\n",
       " 0.919444  0.578106  0.324257"
      ]
     },
     "execution_count": 23,
     "metadata": {},
     "output_type": "execute_result"
    }
   ],
   "source": [
    "f(A)"
   ]
  },
  {
   "cell_type": "markdown",
   "id": "b516be11-5803-4ba7-b6d4-fe79436e41be",
   "metadata": {},
   "source": [
    "然而，`f` 函数无法接受一个向量（vector）。\n",
    "不同于 `A^2` 是已经定义好的矩阵乘方，当 `v` 是向量时的 `v^2` 是未定义的，会导致错误。"
   ]
  },
  {
   "cell_type": "code",
   "execution_count": 24,
   "id": "c0c5408c-0051-471e-9bdc-9baa4c97e578",
   "metadata": {},
   "outputs": [
    {
     "data": {
      "text/plain": [
       "3-element Vector{Float64}:\n",
       " 0.7337255216935006\n",
       " 0.4921946845848877\n",
       " 0.5995337077432299"
      ]
     },
     "execution_count": 24,
     "metadata": {},
     "output_type": "execute_result"
    }
   ],
   "source": [
    "v = rand(3)"
   ]
  },
  {
   "cell_type": "code",
   "execution_count": 25,
   "id": "8d63b082-1b0b-4e74-9ef9-48c03a126366",
   "metadata": {},
   "outputs": [
    {
     "name": "stdout",
     "output_type": "stream",
     "text": [
      "MethodError: no method matching\n"
     ]
    }
   ],
   "source": [
    "try\n",
    "    f(v)\n",
    "catch e\n",
    "    println(\"MethodError: no method matching\")\n",
    "end"
   ]
  },
  {
   "cell_type": "markdown",
   "id": "415f1e91-0369-4cb2-8c1d-7964052d9115",
   "metadata": {},
   "source": [
    "### 原地修改与非原地修改函数（Mutating vs. non-mutating functions）\n",
    "\n",
    "约定：函数名以 `!` 结束的原地修改传入的变量，函数名非以 `!` 结束的则不会改变传入的变量。\n",
    "\n",
    "例如下面的 `sort` 和 `sort!`"
   ]
  },
  {
   "cell_type": "code",
   "execution_count": 26,
   "id": "5cbffbc3-e19f-47fe-ae4d-1fedc82298a5",
   "metadata": {},
   "outputs": [
    {
     "data": {
      "text/plain": [
       "3-element Vector{Int64}:\n",
       " 3\n",
       " 5\n",
       " 2"
      ]
     },
     "execution_count": 26,
     "metadata": {},
     "output_type": "execute_result"
    }
   ],
   "source": [
    "v = [3, 5, 2]"
   ]
  },
  {
   "cell_type": "code",
   "execution_count": 27,
   "id": "9a54022b-ccbf-426a-ad90-2fd4bbb31875",
   "metadata": {},
   "outputs": [
    {
     "data": {
      "text/plain": [
       "3-element Vector{Int64}:\n",
       " 2\n",
       " 3\n",
       " 5"
      ]
     },
     "execution_count": 27,
     "metadata": {},
     "output_type": "execute_result"
    }
   ],
   "source": [
    "sort(v)"
   ]
  },
  {
   "cell_type": "code",
   "execution_count": 28,
   "id": "ad0a81ca-efe3-4f03-ad52-fe4f2ee54fed",
   "metadata": {},
   "outputs": [
    {
     "data": {
      "text/plain": [
       "3-element Vector{Int64}:\n",
       " 3\n",
       " 5\n",
       " 2"
      ]
     },
     "execution_count": 28,
     "metadata": {},
     "output_type": "execute_result"
    }
   ],
   "source": [
    "v"
   ]
  },
  {
   "cell_type": "markdown",
   "id": "e5e794df-8f21-4699-87af-d3ebbba47491",
   "metadata": {},
   "source": [
    "`sort(v)`会返回一个新的、将 `v` 排序后的数组，`v` 本身不会改变  \n",
    "\n",
    "而当执行 `sort!(v)` 后，`v` 将会被原地排序修改"
   ]
  },
  {
   "cell_type": "code",
   "execution_count": 29,
   "id": "0b01057d-9847-4dbf-89a4-b3f5acd6d1af",
   "metadata": {},
   "outputs": [
    {
     "data": {
      "text/plain": [
       "3-element Vector{Int64}:\n",
       " 2\n",
       " 3\n",
       " 5"
      ]
     },
     "execution_count": 29,
     "metadata": {},
     "output_type": "execute_result"
    }
   ],
   "source": [
    "sort!(v)"
   ]
  },
  {
   "cell_type": "code",
   "execution_count": 30,
   "id": "425fbf61-7146-49a1-b1ae-8a4901d5c90e",
   "metadata": {},
   "outputs": [
    {
     "data": {
      "text/plain": [
       "3-element Vector{Int64}:\n",
       " 2\n",
       " 3\n",
       " 5"
      ]
     },
     "execution_count": 30,
     "metadata": {},
     "output_type": "execute_result"
    }
   ],
   "source": [
    "v"
   ]
  },
  {
   "cell_type": "markdown",
   "id": "6f61ecbe-b1ea-4b3e-b3ed-6977cdfef588",
   "metadata": {},
   "source": [
    "### 一些高阶函数\n",
    "\n",
    "#### map函数\n",
    "\n",
    "`map` 是 Julia 中的高阶函数。“高阶”指的是它会*接受一个函数*作为它的传入参数。\n",
    "`map` 将传入的函数作用于传入的数据结构的每一个元素。例如执行\n",
    "\n",
    "```julia\n",
    "map(f, [1, 2, 3])\n",
    "```\n",
    "将得到一个输出数组，数组的每一个元素为 `f` 作用在数组 `[1, 2, 3]` 的对应元素\n",
    "```julia\n",
    "[f(1), f(2), f(3)]\n",
    "```"
   ]
  },
  {
   "cell_type": "code",
   "execution_count": 31,
   "id": "8569ca0d-8e48-4955-bba2-a06b93c4c60b",
   "metadata": {},
   "outputs": [
    {
     "data": {
      "text/plain": [
       "3-element Vector{Int64}:\n",
       " 1\n",
       " 4\n",
       " 9"
      ]
     },
     "execution_count": 31,
     "metadata": {},
     "output_type": "execute_result"
    }
   ],
   "source": [
    "map(f, [1, 2, 3])"
   ]
  },
  {
   "cell_type": "markdown",
   "id": "83b1758c-389a-469e-8eba-211fa8642fb5",
   "metadata": {},
   "source": [
    "这里我们把向量 `[1, 2, 3]` 的每一个元素都平方了，而不是对向量 `[1, 2, 3]` 本身进行平方。\n",
    "\n",
    "`map` 可以接受匿名函数作为参数，像这样"
   ]
  },
  {
   "cell_type": "code",
   "execution_count": 32,
   "id": "20ac8c30-dc44-44d9-82be-4d62ef8ad8d2",
   "metadata": {},
   "outputs": [
    {
     "data": {
      "text/plain": [
       "3-element Vector{Int64}:\n",
       "  1\n",
       "  8\n",
       " 27"
      ]
     },
     "execution_count": 32,
     "metadata": {},
     "output_type": "execute_result"
    }
   ],
   "source": [
    "map(x -> x^3, [1, 2, 3])"
   ]
  },
  {
   "cell_type": "markdown",
   "id": "ee3a50b2-9863-4866-b6b3-5d2cf9b8fc8f",
   "metadata": {},
   "source": [
    "这就完成了对数组 `[1, 2, 3]` 所有元素立方的计算！"
   ]
  },
  {
   "cell_type": "markdown",
   "id": "cda9e3ad-a906-4185-b8ae-65d99773a618",
   "metadata": {},
   "source": [
    "### 广播（broadcast）\n",
    "\n",
    "广播（`broadcast`）和 `map` 一样也是高阶函数。\n",
    "广播是一种广义化的 `map`，所以 `map` 能做的它都能做。并不止如此，广播的调用方法和 `map` 一样。"
   ]
  },
  {
   "cell_type": "code",
   "execution_count": 33,
   "id": "6e7dfff0-5c71-4362-a28b-df0be313b49e",
   "metadata": {},
   "outputs": [
    {
     "data": {
      "text/plain": [
       "3-element Vector{Int64}:\n",
       " 1\n",
       " 4\n",
       " 9"
      ]
     },
     "execution_count": 33,
     "metadata": {},
     "output_type": "execute_result"
    }
   ],
   "source": [
    "broadcast(f, [1, 2, 3])"
   ]
  },
  {
   "cell_type": "markdown",
   "id": "61b35214-2e57-49d6-a46c-98e4158e4403",
   "metadata": {},
   "source": [
    "我们又一次通过函数 `f` 把向量 `[1, 2, 3]` 的每一个元素都平方了\n",
    "——这次是用“广播”函数 `f` 的方式！\n",
    "\n",
    "广播（`broadcast`）有个语法糖：调用要广播的函数时，在函数名和输入变量之间加一个 `.`。\n",
    "\n",
    "比如：\n",
    "```julia\n",
    "broadcast(f, [1, 2, 3])\n",
    "```\n",
    "就等价于\n",
    "```julia\n",
    "f.([1, 2, 3])\n",
    "```"
   ]
  },
  {
   "cell_type": "code",
   "execution_count": 34,
   "id": "34a0ccc4-e29e-4af1-aeaa-2e7759526c4f",
   "metadata": {},
   "outputs": [
    {
     "data": {
      "text/plain": [
       "3-element Vector{Int64}:\n",
       " 1\n",
       " 4\n",
       " 9"
      ]
     },
     "execution_count": 34,
     "metadata": {},
     "output_type": "execute_result"
    }
   ],
   "source": [
    "f.([1, 2, 3])"
   ]
  },
  {
   "cell_type": "markdown",
   "id": "093426b5-c316-4bdc-a60f-9f7c295090df",
   "metadata": {},
   "source": [
    "再一次强调 `map` 和广播方式与如下直接调用函数的区别。\n",
    "\n",
    "```julia\n",
    "f([1, 2, 3])\n",
    "```\n",
    "我们可以求向量中每个元素的平方，但是不能求向量的平方！"
   ]
  },
  {
   "cell_type": "markdown",
   "id": "b92482cb-5bbf-442d-98c6-3f283a3052de",
   "metadata": {},
   "source": [
    "为了再讲清楚这一点，我们再看一下以下调用的区别\n",
    "\n",
    "```julia\n",
    "f(A)\n",
    "```\n",
    "与\n",
    "```julia\n",
    "f.(A)\n",
    "```\n",
    "其中 `A` 是个矩阵："
   ]
  },
  {
   "cell_type": "code",
   "execution_count": 35,
   "id": "e0cfe916-1919-4ad2-96ab-c2daa9a370ea",
   "metadata": {},
   "outputs": [
    {
     "data": {
      "text/plain": [
       "3×3 Matrix{Int64}:\n",
       " 1  2  3\n",
       " 4  5  6\n",
       " 7  8  9"
      ]
     },
     "execution_count": 35,
     "metadata": {},
     "output_type": "execute_result"
    }
   ],
   "source": [
    "A = [i + 3*j for j in 0:2, i in 1:3]"
   ]
  },
  {
   "cell_type": "code",
   "execution_count": 36,
   "id": "b071291c-53a5-42ed-a0d9-16b46d210060",
   "metadata": {},
   "outputs": [
    {
     "data": {
      "text/plain": [
       "3×3 Matrix{Int64}:\n",
       "  30   36   42\n",
       "  66   81   96\n",
       " 102  126  150"
      ]
     },
     "execution_count": 36,
     "metadata": {},
     "output_type": "execute_result"
    }
   ],
   "source": [
    "f(A)"
   ]
  },
  {
   "cell_type": "markdown",
   "id": "8ec73be8-965b-43d1-9443-081a32da5323",
   "metadata": {},
   "source": [
    "和之前一样，对于矩阵 `A` 来说\n",
    "```\n",
    "f(A) = A^2 = A * A\n",
    "``` \n",
    "\n",
    "另一方面，"
   ]
  },
  {
   "cell_type": "code",
   "execution_count": 37,
   "id": "3f953510-4827-43fd-ac5a-a5d396657e0a",
   "metadata": {},
   "outputs": [
    {
     "data": {
      "text/plain": [
       "3×3 Matrix{Int64}:\n",
       "  1   4   9\n",
       " 16  25  36\n",
       " 49  64  81"
      ]
     },
     "execution_count": 37,
     "metadata": {},
     "output_type": "execute_result"
    }
   ],
   "source": [
    "B = f.(A)"
   ]
  },
  {
   "cell_type": "markdown",
   "id": "eeaecc17-5858-45a6-87cd-610cc7dd1278",
   "metadata": {},
   "source": [
    "结果包含了矩阵 `A` 中每个元素的平方\n",
    "\n",
    "广播的点语法让比较复杂的元素间运算的表示更自然、更贴近数学表示。\n",
    "\n",
    "例如："
   ]
  },
  {
   "cell_type": "code",
   "execution_count": 38,
   "id": "435f9a6b-e3ce-4fc2-b96d-8498d8281084",
   "metadata": {},
   "outputs": [
    {
     "data": {
      "text/plain": [
       "3×3 Matrix{Float64}:\n",
       "  3.0   6.0   9.0\n",
       " 12.0  15.0  18.0\n",
       " 21.0  24.0  27.0"
      ]
     },
     "execution_count": 38,
     "metadata": {},
     "output_type": "execute_result"
    }
   ],
   "source": [
    "C = A .+ 2 .* f.(A) ./ A"
   ]
  },
  {
   "cell_type": "markdown",
   "id": "fcbf7772-bbc9-4bb9-9670-9040b2507503",
   "metadata": {},
   "source": [
    "而不是"
   ]
  },
  {
   "cell_type": "code",
   "execution_count": 39,
   "id": "05b33558-3dd0-41ef-8533-4c6055dbf0d2",
   "metadata": {},
   "outputs": [
    {
     "data": {
      "text/plain": [
       "3×3 Matrix{Float64}:\n",
       "  3.0   6.0   9.0\n",
       " 12.0  15.0  18.0\n",
       " 21.0  24.0  27.0"
      ]
     },
     "execution_count": 39,
     "metadata": {},
     "output_type": "execute_result"
    }
   ],
   "source": [
    "broadcast(x -> x + 2 * f(x) / x, A)"
   ]
  },
  {
   "cell_type": "markdown",
   "id": "3fb41339-e1b0-4455-90c4-048867fceed0",
   "metadata": {},
   "source": [
    "并且这么写仍然能获得和 C 语言一样高效的代码！"
   ]
  },
  {
   "cell_type": "markdown",
   "id": "080b6794-b956-4da8-81e5-8a1f33b1ec2d",
   "metadata": {
    "tags": [],
    "toc-hr-collapsed": true
   },
   "source": [
    "# 2. Julia中的线性代数\n",
    "---\n",
    "\n",
    "## 目录\n",
    " - [基础线性代数操作](#基础线性代数操作)\n",
    "    - [乘法](#乘法)\n",
    "    - [转置](#转置)\n",
    "    - [转置的乘法](#转置的乘法)\n",
    "    - [解线性方程组](#解线性方程组)\n",
    " - [特殊的矩阵结构](#特殊的矩阵结构)\n",
    "     - [大规模问题](#大规模问题)"
   ]
  },
  {
   "cell_type": "markdown",
   "id": "9bbc327a-3422-48f7-abb3-1cb6e702a231",
   "metadata": {},
   "source": [
    "## 基础线性代数操作\n",
    "---\n",
    "\n",
    "定义一个随机矩阵"
   ]
  },
  {
   "cell_type": "code",
   "execution_count": 40,
   "id": "9b1b1fdc-703b-4d16-a7ce-d67842022a9d",
   "metadata": {},
   "outputs": [
    {
     "data": {
      "text/plain": [
       "3×3 Matrix{Int64}:\n",
       " 1  4  3\n",
       " 3  2  1\n",
       " 2  3  4"
      ]
     },
     "execution_count": 40,
     "metadata": {},
     "output_type": "execute_result"
    }
   ],
   "source": [
    "A = rand(1:4,3,3)"
   ]
  },
  {
   "cell_type": "markdown",
   "id": "eb222c2c-7fda-49a1-b8bb-2115c1cdea0a",
   "metadata": {},
   "source": [
    "定义一个元素全为 1 的向量"
   ]
  },
  {
   "cell_type": "code",
   "execution_count": 41,
   "id": "cf4fead5-566b-4113-b1fa-54d10c3fa008",
   "metadata": {},
   "outputs": [
    {
     "data": {
      "text/plain": [
       "3-element Vector{Float64}:\n",
       " 1.0\n",
       " 1.0\n",
       " 1.0"
      ]
     },
     "execution_count": 41,
     "metadata": {},
     "output_type": "execute_result"
    }
   ],
   "source": [
    "x = fill(1.0, (3))"
   ]
  },
  {
   "cell_type": "markdown",
   "id": "3e9377b9-ff2f-4a9a-b1be-d965e24e8085",
   "metadata": {},
   "source": [
    "注意 $A$ 的类型为 `Array{Int64,2}`，而 $x$ 的类型为 `Array{Float64,1}`。\n",
    "\n",
    "Julia 定义 `Array{Type,1}` 的别名为向量 `Vector{Type}`，`Array{Type,2}` 的别名为矩阵 `Matrix{Type}` 。\n",
    "\n",
    "许多线性代数的基础操作和其他语言一样\n",
    "\n",
    "### 乘法"
   ]
  },
  {
   "cell_type": "code",
   "execution_count": 42,
   "id": "9783aaa9-444f-48b5-a1e6-a3f97319cd67",
   "metadata": {},
   "outputs": [
    {
     "data": {
      "text/plain": [
       "3-element Vector{Float64}:\n",
       " 8.0\n",
       " 6.0\n",
       " 9.0"
      ]
     },
     "execution_count": 42,
     "metadata": {},
     "output_type": "execute_result"
    }
   ],
   "source": [
    "b = A*x"
   ]
  },
  {
   "cell_type": "markdown",
   "id": "607e0c12-9a41-4ca8-a7b7-0a0a4109e203",
   "metadata": {},
   "source": [
    "### 转置\n",
    "就像在其他语言中 `A'` 表示对 `A` 进行共轭转置"
   ]
  },
  {
   "cell_type": "code",
   "execution_count": 43,
   "id": "6e904396-ae88-41de-b8ad-344dfa84f567",
   "metadata": {},
   "outputs": [
    {
     "data": {
      "text/plain": [
       "3×3 adjoint(::Matrix{Int64}) with eltype Int64:\n",
       " 1  3  2\n",
       " 4  2  3\n",
       " 3  1  4"
      ]
     },
     "execution_count": 43,
     "metadata": {},
     "output_type": "execute_result"
    }
   ],
   "source": [
    "A'"
   ]
  },
  {
   "cell_type": "markdown",
   "id": "54193925-abbf-495d-883e-caba710a9763",
   "metadata": {},
   "source": [
    "我们还可以通过 `transpose` 函数获得转置矩阵"
   ]
  },
  {
   "cell_type": "code",
   "execution_count": 44,
   "id": "c9bf6bab-001f-4fc5-91b4-47744678a9ec",
   "metadata": {},
   "outputs": [
    {
     "data": {
      "text/plain": [
       "3×3 transpose(::Matrix{Int64}) with eltype Int64:\n",
       " 1  3  2\n",
       " 4  2  3\n",
       " 3  1  4"
      ]
     },
     "execution_count": 44,
     "metadata": {},
     "output_type": "execute_result"
    }
   ],
   "source": [
    "transpose(A)"
   ]
  },
  {
   "cell_type": "markdown",
   "id": "f97f754c-2f1d-49ee-9622-242774da0b59",
   "metadata": {},
   "source": [
    "### 转置的乘法\n",
    "Julia 中某些情况下可以省略 `*` 号"
   ]
  },
  {
   "cell_type": "code",
   "execution_count": 45,
   "id": "57c23801-a4d9-48a2-b8d1-298f46d30aa8",
   "metadata": {},
   "outputs": [
    {
     "data": {
      "text/plain": [
       "3×3 Matrix{Int64}:\n",
       " 14  16  14\n",
       " 16  29  26\n",
       " 14  26  26"
      ]
     },
     "execution_count": 45,
     "metadata": {},
     "output_type": "execute_result"
    }
   ],
   "source": [
    "A'A"
   ]
  },
  {
   "cell_type": "markdown",
   "id": "0b641918-7942-4dd3-a351-0f4716eb0c07",
   "metadata": {},
   "source": [
    "### 解线性方程组\n",
    "用方阵 $A$ 表示的线性方程组 $Ax=b$ 可以用左除运算符（函数）`\\` 求解"
   ]
  },
  {
   "cell_type": "code",
   "execution_count": 46,
   "id": "e0374f51-0bb0-498f-ad7d-7c9bb2fd61d5",
   "metadata": {},
   "outputs": [
    {
     "data": {
      "text/plain": [
       "3-element Vector{Float64}:\n",
       " 1.0\n",
       " 1.0\n",
       " 1.0"
      ]
     },
     "execution_count": 46,
     "metadata": {},
     "output_type": "execute_result"
    }
   ],
   "source": [
    "A\\b"
   ]
  },
  {
   "cell_type": "markdown",
   "id": "716bd587-464c-4ea4-a929-522f9d2b2dc4",
   "metadata": {},
   "source": [
    "## 特殊的矩阵结构\n",
    "\n",
    "矩阵结构在线性代数中非常重要。\n",
    "接触一下大一些的线型系统就可以看到矩阵结构有*多*重要了。\n",
    "\n",
    "用线性代数标准包 `LinearAlgebra` 可以获得结构化的矩阵（structured matrices）："
   ]
  },
  {
   "cell_type": "code",
   "execution_count": 47,
   "id": "bcec09ee-5a8b-49ee-b556-fdc036a363e9",
   "metadata": {},
   "outputs": [],
   "source": [
    "using LinearAlgebra"
   ]
  },
  {
   "cell_type": "code",
   "execution_count": 48,
   "id": "6b5b6607-f6ab-4db2-bfbf-ca6ffa7f1e40",
   "metadata": {},
   "outputs": [],
   "source": [
    "n = 1000\n",
    "A = randn(n,n);"
   ]
  },
  {
   "cell_type": "markdown",
   "id": "324e40d3-825b-4792-9e03-05db412aeabb",
   "metadata": {},
   "source": [
    "Julia 可以推断特殊矩阵结构，比如判断对称矩阵"
   ]
  },
  {
   "cell_type": "code",
   "execution_count": 49,
   "id": "5191b0f5-9908-4bf1-9cee-0f1cb69c647f",
   "metadata": {},
   "outputs": [
    {
     "data": {
      "text/plain": [
       "true"
      ]
     },
     "execution_count": 49,
     "metadata": {},
     "output_type": "execute_result"
    }
   ],
   "source": [
    "Asym = A + A'\n",
    "issymmetric(Asym)"
   ]
  },
  {
   "cell_type": "markdown",
   "id": "4d558b8c-e919-46c6-b9a9-9475597570ac",
   "metadata": {},
   "source": [
    "但有时候浮点错误会比较麻烦"
   ]
  },
  {
   "cell_type": "code",
   "execution_count": 50,
   "id": "a8cbbc53-8df1-47af-b1d1-bf68d64c2e4b",
   "metadata": {},
   "outputs": [
    {
     "data": {
      "text/plain": [
       "1.2233107710007431"
      ]
     },
     "execution_count": 50,
     "metadata": {},
     "output_type": "execute_result"
    }
   ],
   "source": [
    "Asym_noisy = copy(Asym)\n",
    "Asym_noisy[1,2] += 5eps()"
   ]
  },
  {
   "cell_type": "code",
   "execution_count": 51,
   "id": "407cf0e1-74b8-4d0e-abeb-270633784dac",
   "metadata": {},
   "outputs": [
    {
     "data": {
      "text/plain": [
       "false"
      ]
     },
     "execution_count": 51,
     "metadata": {},
     "output_type": "execute_result"
    }
   ],
   "source": [
    "issymmetric(Asym_noisy)"
   ]
  },
  {
   "cell_type": "markdown",
   "id": "0e6fc37d-177b-4860-8f2a-db30ffbbd77c",
   "metadata": {},
   "source": [
    "幸运的是我们可以通过如 `Diagonal`，`Triangular`，`Symmetric`，`Hermitian`，`Tridiagonal` \n",
    "和 `SymTridiagonal` 这样的函数来明确地创建矩阵"
   ]
  },
  {
   "cell_type": "code",
   "execution_count": 52,
   "id": "1b364f6c-0cce-45e3-83e8-6b7ab8c35d0a",
   "metadata": {},
   "outputs": [],
   "source": [
    "Asym_explicit = Symmetric(Asym_noisy);"
   ]
  },
  {
   "cell_type": "markdown",
   "id": "67e8a20e-83f0-4da3-a14f-82086212385d",
   "metadata": {},
   "source": [
    "我们来看看 Julia 计算 `Asym`，`Asym_noisy` 和 `Asym_explicit` 的特征值各要花多少时间"
   ]
  },
  {
   "cell_type": "code",
   "execution_count": 53,
   "id": "a1e6b80b-21cc-4aa2-9ae4-d4bdc7fd986a",
   "metadata": {},
   "outputs": [
    {
     "name": "stdout",
     "output_type": "stream",
     "text": [
      "  0.955129 seconds (649.08 k allocations: 45.699 MiB, 3.73% gc time, 62.37% compilation time)\n"
     ]
    }
   ],
   "source": [
    "@time eigvals(Asym);"
   ]
  },
  {
   "cell_type": "code",
   "execution_count": 54,
   "id": "d8718c86-c964-4f75-9045-decb30cf0df9",
   "metadata": {},
   "outputs": [
    {
     "name": "stdout",
     "output_type": "stream",
     "text": [
      "  3.546191 seconds (13 allocations: 7.920 MiB, 2.42% gc time)\n"
     ]
    }
   ],
   "source": [
    "@time eigvals(Asym_noisy);"
   ]
  },
  {
   "cell_type": "code",
   "execution_count": 55,
   "id": "4694efec-8225-4fb1-b8f2-e805e71d1a49",
   "metadata": {},
   "outputs": [
    {
     "name": "stdout",
     "output_type": "stream",
     "text": [
      "  0.396613 seconds (5.93 k allocations: 8.357 MiB, 3.87% compilation time)\n"
     ]
    }
   ],
   "source": [
    "@time eigvals(Asym_explicit);"
   ]
  },
  {
   "cell_type": "markdown",
   "id": "5d910f63-88fd-4721-864b-01e8f1bce4df",
   "metadata": {},
   "source": [
    "本例中，使用 `Symmetric()` 处理 `Asym_noisy` 后让计算效率提高了约5倍"
   ]
  },
  {
   "cell_type": "markdown",
   "id": "3abf42c3-0a5d-4341-b397-05252720062d",
   "metadata": {},
   "source": [
    "### 大规模问题\n",
    "使用 `Tridiagonal` 和 `SymTridiagonal` 类型储存三对角矩阵（tridiagonal matrices）\n",
    "让处理大规模的三对角矩阵问题变为可能。\n",
    "\n",
    "以下问题如果使用稠密的 `Matrix` 类型储存，在个人计算机上是无法进行求解的。"
   ]
  },
  {
   "cell_type": "code",
   "execution_count": 56,
   "id": "3beb313d-2b37-4b1c-b5d7-315624ac5804",
   "metadata": {},
   "outputs": [
    {
     "name": "stdout",
     "output_type": "stream",
     "text": [
      "  1.379860 seconds (848.42 k allocations: 230.630 MiB, 21.42% gc time, 36.10% compilation time)\n"
     ]
    },
    {
     "data": {
      "text/plain": [
       "6.793216740359156"
      ]
     },
     "execution_count": 56,
     "metadata": {},
     "output_type": "execute_result"
    }
   ],
   "source": [
    "n = 1_000_000;\n",
    "A = SymTridiagonal(randn(n), randn(n-1));\n",
    "@time eigmax(A)"
   ]
  },
  {
   "cell_type": "markdown",
   "id": "f4a0b076-1f41-4e90-9440-6c1f3486daff",
   "metadata": {
    "toc-hr-collapsed": true
   },
   "source": [
    "# 3. Julia软件包\n",
    "---\n",
    "\n",
    "Julia 有超过 2000 个登记在案的包，这使得第三方的软件包成为 Julia 语言生态的重要组成部分。\n",
    "尽管如此，软件包生态依然有很大的成长空间。\n",
    "\n",
    "值得一提的是，在 Julia 中调用其它语言的函数也是一等公民。Julia 提供了很棒的外部函数接口（FFI）。  \n",
    "我们可以很容易地通过 `PyCall` 或 `Rcall` 调用 Python 或 R。\n",
    "这意味着你不必等到 Julia 的生态完全成熟就能迁移现有项目到 Julia，\n",
    "而且迁移到 Julia 并不意味着放弃你在其他语言中惯用的包或者库！\n",
    "\n",
    "查看全部可获得的包，请看\n",
    "https://pkg.julialang.org/\n",
    "或者\n",
    "https://juliaobserver.com/\n",
    "\n",
    "现在我们先学习一下该如何使用包。"
   ]
  },
  {
   "cell_type": "markdown",
   "id": "c4986f0a-ab31-43cc-a6d6-449e8f22df1c",
   "metadata": {},
   "source": [
    "在安装好的 Julia 中第一次要使用一个包的时候，你需要用包管理器（package manager）明确添加（add）它："
   ]
  },
  {
   "cell_type": "markdown",
   "id": "4db59244-a156-4b74-b648-2ef56b6691e2",
   "metadata": {},
   "source": [
    "```julia\n",
    "using Pkg\n",
    "Pkg.add(\"Example\")\n",
    "```"
   ]
  },
  {
   "cell_type": "markdown",
   "id": "0f06b7b3-13d9-4a0b-adcc-7732b0763779",
   "metadata": {},
   "source": [
    "之后每次使用 Julia 时（比如打开一个新的 REPL 会话或者第一次打开一个 notebook），\n",
    "你需要通过 `using` 关键字载入要用的包"
   ]
  },
  {
   "cell_type": "code",
   "execution_count": 57,
   "id": "f8bb3cd0-a8fe-457f-bb0d-da8576146b36",
   "metadata": {},
   "outputs": [],
   "source": [
    "using Example"
   ]
  },
  {
   "cell_type": "markdown",
   "id": "85febe03-2347-48a5-8244-f4c3c208fd8e",
   "metadata": {},
   "source": [
    "在 `Example.jl` 的源码\n",
    "https://github.com/JuliaLang/Example.jl/blob/master/src/Example.jl\n",
    "中我们可以看到声明了下面这个函数\n",
    "\n",
    "```julia\n",
    "hello(who::String) = \"Hello, $who\"\n",
    "```\n",
    "\n",
    "载入了 `Example` 我们现在应该可以调用 `hello` 函数了"
   ]
  },
  {
   "cell_type": "code",
   "execution_count": 58,
   "id": "bc3a6a25-19c5-42d7-a5af-831e9a8ec849",
   "metadata": {},
   "outputs": [
    {
     "data": {
      "text/plain": [
       "\"Hello, it's me. I was wondering if after all these years you'd like to meet.\""
      ]
     },
     "execution_count": 58,
     "metadata": {},
     "output_type": "execute_result"
    }
   ],
   "source": [
    "hello(\"it's me. I was wondering if after all these years you'd like to meet.\")"
   ]
  },
  {
   "cell_type": "markdown",
   "id": "9f758dc7-291c-45b3-90b4-8554983a8632",
   "metadata": {},
   "source": [
    "现在让我们来玩 `Colors` 包吧"
   ]
  },
  {
   "cell_type": "markdown",
   "id": "7c5be30c-b784-4a45-8561-4f98abd35dfd",
   "metadata": {},
   "source": [
    "```julia\n",
    "using Pkg\n",
    "Pkg.add(\"Colors\")\n",
    "```"
   ]
  },
  {
   "cell_type": "code",
   "execution_count": 59,
   "id": "c1f16c6d-2228-4b84-a159-755fcc56adaa",
   "metadata": {},
   "outputs": [],
   "source": [
    "using Colors"
   ]
  },
  {
   "cell_type": "markdown",
   "id": "f4760417-90f5-4793-8893-dae5da6a2de8",
   "metadata": {},
   "source": [
    "首先创建一个 100 个不同颜色的调色板"
   ]
  },
  {
   "cell_type": "code",
   "execution_count": 60,
   "id": "5a4b7187-9b2f-473c-8def-12cd97de0a44",
   "metadata": {},
   "outputs": [
    {
     "data": {
      "image/svg+xml": [
       "<?xml version=\"1.0\" encoding=\"UTF-8\"?>\n",
       "<!DOCTYPE svg PUBLIC \"-//W3C//DTD SVG 1.1//EN\"\n",
       " \"http://www.w3.org/Graphics/SVG/1.1/DTD/svg11.dtd\">\n",
       "<svg xmlns=\"http://www.w3.org/2000/svg\" version=\"1.1\"\n",
       "     width=\"180mm\" height=\"25mm\"\n",
       "     viewBox=\"0 0 100 1\" preserveAspectRatio=\"none\"\n",
       "     shape-rendering=\"crispEdges\" stroke=\"none\">\n",
       "<rect width=\"1\" height=\".96\" x=\"0\" y=\"0\" fill=\"#000000\" />\n",
       "<rect width=\"1\" height=\".96\" x=\"1\" y=\"0\" fill=\"#FFFF74\" />\n",
       "<rect width=\"1\" height=\".96\" x=\"2\" y=\"0\" fill=\"#FF9BFF\" />\n",
       "<rect width=\"1\" height=\".96\" x=\"3\" y=\"0\" fill=\"#00D3FF\" />\n",
       "<rect width=\"1\" height=\".96\" x=\"4\" y=\"0\" fill=\"#E2630D\" />\n",
       "<rect width=\"1\" height=\".96\" x=\"5\" y=\"0\" fill=\"#007E00\" />\n",
       "<rect width=\"1\" height=\".96\" x=\"6\" y=\"0\" fill=\"#0050E6\" />\n",
       "<rect width=\"1\" height=\".96\" x=\"7\" y=\"0\" fill=\"#AC0047\" />\n",
       "<rect width=\"1\" height=\".96\" x=\"8\" y=\"0\" fill=\"#00FFC8\" />\n",
       "<rect width=\"1\" height=\".96\" x=\"9\" y=\"0\" fill=\"#006468\" />\n",
       "<rect width=\"1\" height=\".96\" x=\"10\" y=\"0\" fill=\"#FFD5C4\" />\n",
       "<rect width=\"1\" height=\".96\" x=\"11\" y=\"0\" fill=\"#6C5200\" />\n",
       "<rect width=\"1\" height=\".96\" x=\"12\" y=\"0\" fill=\"#7A7581\" />\n",
       "<rect width=\"1\" height=\".96\" x=\"13\" y=\"0\" fill=\"#44005C\" />\n",
       "<rect width=\"1\" height=\".96\" x=\"14\" y=\"0\" fill=\"#9E9E77\" />\n",
       "<rect width=\"1\" height=\".96\" x=\"15\" y=\"0\" fill=\"#FF5C78\" />\n",
       "<rect width=\"1\" height=\".96\" x=\"16\" y=\"0\" fill=\"#8197F1\" />\n",
       "<rect width=\"1\" height=\".96\" x=\"17\" y=\"0\" fill=\"#003200\" />\n",
       "<rect width=\"1\" height=\".96\" x=\"18\" y=\"0\" fill=\"#C721DD\" />\n",
       "<rect width=\"1\" height=\".96\" x=\"19\" y=\"0\" fill=\"#FFAD07\" />\n",
       "<rect width=\"1\" height=\".96\" x=\"20\" y=\"0\" fill=\"#611C00\" />\n",
       "<rect width=\"1\" height=\".96\" x=\"21\" y=\"0\" fill=\"#F3FFFA\" />\n",
       "<rect width=\"1\" height=\".96\" x=\"22\" y=\"0\" fill=\"#009E88\" />\n",
       "<rect width=\"1\" height=\".96\" x=\"23\" y=\"0\" fill=\"#5EC700\" />\n",
       "<rect width=\"1\" height=\".96\" x=\"24\" y=\"0\" fill=\"#002D54\" />\n",
       "<rect width=\"1\" height=\".96\" x=\"25\" y=\"0\" fill=\"#553C4A\" />\n",
       "<rect width=\"1\" height=\".96\" x=\"26\" y=\"0\" fill=\"#444439\" />\n",
       "<rect width=\"1\" height=\".96\" x=\"27\" y=\"0\" fill=\"#008FB6\" />\n",
       "<rect width=\"1\" height=\".96\" x=\"28\" y=\"0\" fill=\"#CFD4FD\" />\n",
       "<rect width=\"1\" height=\".96\" x=\"29\" y=\"0\" fill=\"#C40000\" />\n",
       "<rect width=\"1\" height=\".96\" x=\"30\" y=\"0\" fill=\"#A4675C\" />\n",
       "<rect width=\"1\" height=\".96\" x=\"31\" y=\"0\" fill=\"#BB8FA8\" />\n",
       "<rect width=\"1\" height=\".96\" x=\"32\" y=\"0\" fill=\"#290001\" />\n",
       "<rect width=\"1\" height=\".96\" x=\"33\" y=\"0\" fill=\"#A78600\" />\n",
       "<rect width=\"1\" height=\".96\" x=\"34\" y=\"0\" fill=\"#002D30\" />\n",
       "<rect width=\"1\" height=\".96\" x=\"35\" y=\"0\" fill=\"#C7DEAA\" />\n",
       "<rect width=\"1\" height=\".96\" x=\"36\" y=\"0\" fill=\"#8D9FA3\" />\n",
       "<rect width=\"1\" height=\".96\" x=\"37\" y=\"0\" fill=\"#6F5B95\" />\n",
       "<rect width=\"1\" height=\".96\" x=\"38\" y=\"0\" fill=\"#A1FFFF\" />\n",
       "<rect width=\"1\" height=\".96\" x=\"39\" y=\"0\" fill=\"#B39688\" />\n",
       "<rect width=\"1\" height=\".96\" x=\"40\" y=\"0\" fill=\"#4E6D50\" />\n",
       "<rect width=\"1\" height=\".96\" x=\"41\" y=\"0\" fill=\"#FF977B\" />\n",
       "<rect width=\"1\" height=\".96\" x=\"42\" y=\"0\" fill=\"#FFD1EC\" />\n",
       "<rect width=\"1\" height=\".96\" x=\"43\" y=\"0\" fill=\"#9E5100\" />\n",
       "<rect width=\"1\" height=\".96\" x=\"44\" y=\"0\" fill=\"#AE5B8E\" />\n",
       "<rect width=\"1\" height=\".96\" x=\"45\" y=\"0\" fill=\"#799400\" />\n",
       "<rect width=\"1\" height=\".96\" x=\"46\" y=\"0\" fill=\"#362200\" />\n",
       "<rect width=\"1\" height=\".96\" x=\"47\" y=\"0\" fill=\"#0E0026\" />\n",
       "<rect width=\"1\" height=\".96\" x=\"48\" y=\"0\" fill=\"#80765F\" />\n",
       "<rect width=\"1\" height=\".96\" x=\"49\" y=\"0\" fill=\"#485C00\" />\n",
       "<rect width=\"1\" height=\".96\" x=\"50\" y=\"0\" fill=\"#C8C2B5\" />\n",
       "<rect width=\"1\" height=\".96\" x=\"51\" y=\"0\" fill=\"#8800A1\" />\n",
       "<rect width=\"1\" height=\".96\" x=\"52\" y=\"0\" fill=\"#00A853\" />\n",
       "<rect width=\"1\" height=\".96\" x=\"53\" y=\"0\" fill=\"#FFE1AA\" />\n",
       "<rect width=\"1\" height=\".96\" x=\"54\" y=\"0\" fill=\"#674F42\" />\n",
       "<rect width=\"1\" height=\".96\" x=\"55\" y=\"0\" fill=\"#FF342D\" />\n",
       "<rect width=\"1\" height=\".96\" x=\"56\" y=\"0\" fill=\"#6B0041\" />\n",
       "<rect width=\"1\" height=\".96\" x=\"57\" y=\"0\" fill=\"#0806B1\" />\n",
       "<rect width=\"1\" height=\".96\" x=\"58\" y=\"0\" fill=\"#986DFF\" />\n",
       "<rect width=\"1\" height=\".96\" x=\"59\" y=\"0\" fill=\"#FF4EC7\" />\n",
       "<rect width=\"1\" height=\".96\" x=\"60\" y=\"0\" fill=\"#8AB9A2\" />\n",
       "<rect width=\"1\" height=\".96\" x=\"61\" y=\"0\" fill=\"#2EFF71\" />\n",
       "<rect width=\"1\" height=\".96\" x=\"62\" y=\"0\" fill=\"#005577\" />\n",
       "<rect width=\"1\" height=\".96\" x=\"63\" y=\"0\" fill=\"#0078E3\" />\n",
       "<rect width=\"1\" height=\".96\" x=\"64\" y=\"0\" fill=\"#B2ADB9\" />\n",
       "<rect width=\"1\" height=\".96\" x=\"65\" y=\"0\" fill=\"#00C3C6\" />\n",
       "<rect width=\"1\" height=\".96\" x=\"66\" y=\"0\" fill=\"#00AEFF\" />\n",
       "<rect width=\"1\" height=\".96\" x=\"67\" y=\"0\" fill=\"#4E545F\" />\n",
       "<rect width=\"1\" height=\".96\" x=\"68\" y=\"0\" fill=\"#FF9BB0\" />\n",
       "<rect width=\"1\" height=\".96\" x=\"69\" y=\"0\" fill=\"#FED206\" />\n",
       "<rect width=\"1\" height=\".96\" x=\"70\" y=\"0\" fill=\"#687B7A\" />\n",
       "<rect width=\"1\" height=\".96\" x=\"71\" y=\"0\" fill=\"#B1DCFC\" />\n",
       "<rect width=\"1\" height=\".96\" x=\"72\" y=\"0\" fill=\"#FFF6FF\" />\n",
       "<rect width=\"1\" height=\".96\" x=\"73\" y=\"0\" fill=\"#620019\" />\n",
       "<rect width=\"1\" height=\".96\" x=\"74\" y=\"0\" fill=\"#C79253\" />\n",
       "<rect width=\"1\" height=\".96\" x=\"75\" y=\"0\" fill=\"#A891CF\" />\n",
       "<rect width=\"1\" height=\".96\" x=\"76\" y=\"0\" fill=\"#EF007A\" />\n",
       "<rect width=\"1\" height=\".96\" x=\"77\" y=\"0\" fill=\"#B8CE00\" />\n",
       "<rect width=\"1\" height=\".96\" x=\"78\" y=\"0\" fill=\"#001700\" />\n",
       "<rect width=\"1\" height=\".96\" x=\"79\" y=\"0\" fill=\"#204B39\" />\n",
       "<rect width=\"1\" height=\".96\" x=\"80\" y=\"0\" fill=\"#875866\" />\n",
       "<rect width=\"1\" height=\".96\" x=\"81\" y=\"0\" fill=\"#B5FF4E\" />\n",
       "<rect width=\"1\" height=\".96\" x=\"82\" y=\"0\" fill=\"#B40080\" />\n",
       "<rect width=\"1\" height=\".96\" x=\"83\" y=\"0\" fill=\"#853F34\" />\n",
       "<rect width=\"1\" height=\".96\" x=\"84\" y=\"0\" fill=\"#69936B\" />\n",
       "<rect width=\"1\" height=\".96\" x=\"85\" y=\"0\" fill=\"#FFBC80\" />\n",
       "<rect width=\"1\" height=\".96\" x=\"86\" y=\"0\" fill=\"#4C3779\" />\n",
       "<rect width=\"1\" height=\".96\" x=\"87\" y=\"0\" fill=\"#323606\" />\n",
       "<rect width=\"1\" height=\".96\" x=\"88\" y=\"0\" fill=\"#008E94\" />\n",
       "<rect width=\"1\" height=\".96\" x=\"89\" y=\"0\" fill=\"#CAAC51\" />\n",
       "<rect width=\"1\" height=\".96\" x=\"90\" y=\"0\" fill=\"#787B3B\" />\n",
       "<rect width=\"1\" height=\".96\" x=\"91\" y=\"0\" fill=\"#B6F9D9\" />\n",
       "<rect width=\"1\" height=\".96\" x=\"92\" y=\"0\" fill=\"#DA003F\" />\n",
       "<rect width=\"1\" height=\".96\" x=\"93\" y=\"0\" fill=\"#2E2124\" />\n",
       "<rect width=\"1\" height=\".96\" x=\"94\" y=\"0\" fill=\"#005815\" />\n",
       "<rect width=\"1\" height=\".96\" x=\"95\" y=\"0\" fill=\"#FF8E1D\" />\n",
       "<rect width=\"1\" height=\".96\" x=\"96\" y=\"0\" fill=\"#6674B1\" />\n",
       "<rect width=\"1\" height=\".96\" x=\"97\" y=\"0\" fill=\"#00CDAD\" />\n",
       "<rect width=\"1\" height=\".96\" x=\"98\" y=\"0\" fill=\"#007F63\" />\n",
       "<rect width=\"1\" height=\".96\" x=\"99\" y=\"0\" fill=\"#996F3D\" />\n",
       "</svg>"
      ],
      "text/plain": [
       "100-element Array{RGB{N0f8},1} with eltype RGB{FixedPointNumbers.N0f8}:\n",
       " RGB{N0f8}(0.0,0.0,0.0)\n",
       " RGB{N0f8}(1.0,1.0,0.455)\n",
       " RGB{N0f8}(1.0,0.608,1.0)\n",
       " RGB{N0f8}(0.0,0.827,1.0)\n",
       " RGB{N0f8}(0.886,0.388,0.051)\n",
       " RGB{N0f8}(0.0,0.494,0.0)\n",
       " RGB{N0f8}(0.0,0.314,0.902)\n",
       " RGB{N0f8}(0.675,0.0,0.278)\n",
       " RGB{N0f8}(0.0,1.0,0.784)\n",
       " RGB{N0f8}(0.0,0.392,0.408)\n",
       " RGB{N0f8}(1.0,0.835,0.769)\n",
       " RGB{N0f8}(0.424,0.322,0.0)\n",
       " RGB{N0f8}(0.478,0.459,0.506)\n",
       " ⋮\n",
       " RGB{N0f8}(0.0,0.557,0.58)\n",
       " RGB{N0f8}(0.792,0.675,0.318)\n",
       " RGB{N0f8}(0.471,0.482,0.231)\n",
       " RGB{N0f8}(0.714,0.976,0.851)\n",
       " RGB{N0f8}(0.855,0.0,0.247)\n",
       " RGB{N0f8}(0.18,0.129,0.141)\n",
       " RGB{N0f8}(0.0,0.345,0.082)\n",
       " RGB{N0f8}(1.0,0.557,0.114)\n",
       " RGB{N0f8}(0.4,0.455,0.694)\n",
       " RGB{N0f8}(0.0,0.804,0.678)\n",
       " RGB{N0f8}(0.0,0.498,0.388)\n",
       " RGB{N0f8}(0.6,0.435,0.239)"
      ]
     },
     "execution_count": 60,
     "metadata": {},
     "output_type": "execute_result"
    }
   ],
   "source": [
    "palette = distinguishable_colors(100)"
   ]
  },
  {
   "cell_type": "markdown",
   "id": "e4a590cc-26d3-4c88-9b85-512ba1f1f7c5",
   "metadata": {},
   "source": [
    "然后通过 `rand` 函数来创建随机矩阵"
   ]
  },
  {
   "cell_type": "code",
   "execution_count": 61,
   "id": "c1f44d82-578a-470d-ba0d-8c6382c47338",
   "metadata": {},
   "outputs": [
    {
     "data": {
      "text/plain": [
       "3×3 Matrix{Float64}:\n",
       " 0.347721  0.619851  0.889116\n",
       " 0.250999  0.445572  0.921988\n",
       " 0.335002  0.967117  0.662008"
      ]
     },
     "execution_count": 61,
     "metadata": {},
     "output_type": "execute_result"
    }
   ],
   "source": [
    "rand(3, 3)"
   ]
  },
  {
   "cell_type": "code",
   "execution_count": 62,
   "id": "afe68a3b-fd72-4d3b-b6f9-3846503ce0c2",
   "metadata": {},
   "outputs": [
    {
     "data": {
      "text/plain": [
       "3×3 Matrix{Int64}:\n",
       " 7   3  6\n",
       " 5   1  8\n",
       " 1  10  8"
      ]
     },
     "execution_count": 62,
     "metadata": {},
     "output_type": "execute_result"
    }
   ],
   "source": [
    "rand(1:10, 3, 3)"
   ]
  },
  {
   "cell_type": "code",
   "execution_count": 63,
   "id": "b50283ce-a1ba-4142-9f43-39263768a612",
   "metadata": {},
   "outputs": [
    {
     "data": {
      "image/svg+xml": [
       "<?xml version=\"1.0\" encoding=\"UTF-8\"?>\n",
       "<!DOCTYPE svg PUBLIC \"-//W3C//DTD SVG 1.1//EN\"\n",
       " \"http://www.w3.org/Graphics/SVG/1.1/DTD/svg11.dtd\">\n",
       "<svg xmlns=\"http://www.w3.org/2000/svg\" version=\"1.1\"\n",
       "     width=\"75mm\" height=\"75mm\"\n",
       "     viewBox=\"0 0 3 3\" preserveAspectRatio=\"none\"\n",
       "     shape-rendering=\"crispEdges\" stroke=\"none\">\n",
       "<rect width=\".96\" height=\".96\" x=\"0\" y=\"0\" fill=\"#553C4A\" />\n",
       "<rect width=\".96\" height=\".96\" x=\"1\" y=\"0\" fill=\"#C7DEAA\" />\n",
       "<rect width=\".96\" height=\".96\" x=\"2\" y=\"0\" fill=\"#C8C2B5\" />\n",
       "<rect width=\".96\" height=\".96\" x=\"0\" y=\"1\" fill=\"#A4675C\" />\n",
       "<rect width=\".96\" height=\".96\" x=\"1\" y=\"1\" fill=\"#611C00\" />\n",
       "<rect width=\".96\" height=\".96\" x=\"2\" y=\"1\" fill=\"#B6F9D9\" />\n",
       "<rect width=\".96\" height=\".96\" x=\"0\" y=\"2\" fill=\"#853F34\" />\n",
       "<rect width=\".96\" height=\".96\" x=\"1\" y=\"2\" fill=\"#B1DCFC\" />\n",
       "<rect width=\".96\" height=\".96\" x=\"2\" y=\"2\" fill=\"#7A7581\" />\n",
       "</svg>"
      ],
      "text/plain": [
       "3×3 Array{RGB{N0f8},2} with eltype RGB{FixedPointNumbers.N0f8}:\n",
       " RGB{N0f8}(0.333,0.235,0.29)   …  RGB{N0f8}(0.784,0.761,0.71)\n",
       " RGB{N0f8}(0.643,0.404,0.361)     RGB{N0f8}(0.714,0.976,0.851)\n",
       " RGB{N0f8}(0.522,0.247,0.204)     RGB{N0f8}(0.478,0.459,0.506)"
      ]
     },
     "execution_count": 63,
     "metadata": {},
     "output_type": "execute_result"
    }
   ],
   "source": [
    "rand(palette, 3, 3)"
   ]
  },
  {
   "cell_type": "markdown",
   "id": "db699fc4-5757-4687-8a43-08a031e34acc",
   "metadata": {
    "tags": []
   },
   "source": [
    "# 4. Julia绘图\n",
    "---\n",
    "\n",
    "Julia 有包括调用 `PyPlot` 在内的、多种不同的绘图方式。\n",
    "\n",
    "这里将介绍如何使用 `Plots.jl`。"
   ]
  },
  {
   "cell_type": "markdown",
   "id": "106a1654-5b4b-4ba4-9ee8-873ef37f6b5e",
   "metadata": {},
   "source": [
    "```julia\n",
    "using Pkg\n",
    "Pkg.add(\"Plots\")\n",
    "```"
   ]
  },
  {
   "cell_type": "code",
   "execution_count": 64,
   "id": "4924f287-7636-420d-8899-88afb87a4df5",
   "metadata": {},
   "outputs": [],
   "source": [
    "using Plots"
   ]
  },
  {
   "cell_type": "markdown",
   "id": "8d1c4f6e-947a-4126-8245-46df9df598ac",
   "metadata": {},
   "source": [
    "`Plots.jl` 的优势之一是可以无缝地切换后端（backends）。\n",
    "在这个 notebook 中，我们将尝试 `gr()` 和 `plotlyjs()` 后端。 \n",
    "\n",
    "以科学调查之名，我们用这个 notebook 调查一下大概1860到2000年的全球温度和海盗数量的关系。"
   ]
  },
  {
   "cell_type": "code",
   "execution_count": 65,
   "id": "3b65a7d8-3b31-4b84-94ab-360915af6b44",
   "metadata": {},
   "outputs": [
    {
     "data": {
      "text/plain": [
       "6-element Vector{Int64}:\n",
       " 45000\n",
       " 20000\n",
       " 15000\n",
       "  5000\n",
       "   400\n",
       "    17"
      ]
     },
     "execution_count": 65,
     "metadata": {},
     "output_type": "execute_result"
    }
   ],
   "source": [
    "globaltemperatures = [14.4, 14.5, 14.8, 15.2, 15.5, 15.8]\n",
    "numpirates = [45000, 20000, 15000, 5000, 400, 17]"
   ]
  },
  {
   "cell_type": "markdown",
   "id": "cb8d9ff2-df83-45b2-95ac-4ee9e6702177",
   "metadata": {},
   "source": [
    "要绘制出图线，先载入GR后端"
   ]
  },
  {
   "cell_type": "code",
   "execution_count": 66,
   "id": "d2f3817e-5b6f-43e0-9ff9-de74870f550e",
   "metadata": {},
   "outputs": [
    {
     "data": {
      "text/plain": [
       "Plots.GRBackend()"
      ]
     },
     "execution_count": 66,
     "metadata": {},
     "output_type": "execute_result"
    }
   ],
   "source": [
    "gr()"
   ]
  },
  {
   "cell_type": "markdown",
   "id": "f978a673-8746-48f7-aeb1-94418fddfd5e",
   "metadata": {},
   "source": [
    "现在我们可以调用如 `plot` 和 `scatter` 的函数来绘制图像。"
   ]
  },
  {
   "cell_type": "code",
   "execution_count": 67,
   "id": "3883c0fc-9409-4450-9261-3b4e5de163fc",
   "metadata": {},
   "outputs": [
    {
     "data": {
      "image/svg+xml": [
       "<?xml version=\"1.0\" encoding=\"utf-8\"?>\n",
       "<svg xmlns=\"http://www.w3.org/2000/svg\" xmlns:xlink=\"http://www.w3.org/1999/xlink\" width=\"600\" height=\"400\" viewBox=\"0 0 2400 1600\">\n",
       "<defs>\n",
       "  <clipPath id=\"clip080\">\n",
       "    <rect x=\"0\" y=\"0\" width=\"2400\" height=\"1600\"/>\n",
       "  </clipPath>\n",
       "</defs>\n",
       "<path clip-path=\"url(#clip080)\" d=\"\n",
       "M0 1600 L2400 1600 L2400 0 L0 0  Z\n",
       "  \" fill=\"#ffffff\" fill-rule=\"evenodd\" fill-opacity=\"1\"/>\n",
       "<defs>\n",
       "  <clipPath id=\"clip081\">\n",
       "    <rect x=\"480\" y=\"0\" width=\"1681\" height=\"1600\"/>\n",
       "  </clipPath>\n",
       "</defs>\n",
       "<path clip-path=\"url(#clip080)\" d=\"\n",
       "M214.353 1474.16 L2352.76 1474.16 L2352.76 47.2441 L214.353 47.2441  Z\n",
       "  \" fill=\"#ffffff\" fill-rule=\"evenodd\" fill-opacity=\"1\"/>\n",
       "<defs>\n",
       "  <clipPath id=\"clip082\">\n",
       "    <rect x=\"214\" y=\"47\" width=\"2139\" height=\"1428\"/>\n",
       "  </clipPath>\n",
       "</defs>\n",
       "<polyline clip-path=\"url(#clip082)\" style=\"stroke:#000000; stroke-linecap:butt; stroke-linejoin:round; stroke-width:2; stroke-opacity:0.1; fill:none\" points=\"\n",
       "  274.111,1474.16 274.111,47.2441 \n",
       "  \"/>\n",
       "<polyline clip-path=\"url(#clip082)\" style=\"stroke:#000000; stroke-linecap:butt; stroke-linejoin:round; stroke-width:2; stroke-opacity:0.1; fill:none\" points=\"\n",
       "  722.583,1474.16 722.583,47.2441 \n",
       "  \"/>\n",
       "<polyline clip-path=\"url(#clip082)\" style=\"stroke:#000000; stroke-linecap:butt; stroke-linejoin:round; stroke-width:2; stroke-opacity:0.1; fill:none\" points=\"\n",
       "  1171.06,1474.16 1171.06,47.2441 \n",
       "  \"/>\n",
       "<polyline clip-path=\"url(#clip082)\" style=\"stroke:#000000; stroke-linecap:butt; stroke-linejoin:round; stroke-width:2; stroke-opacity:0.1; fill:none\" points=\"\n",
       "  1619.53,1474.16 1619.53,47.2441 \n",
       "  \"/>\n",
       "<polyline clip-path=\"url(#clip082)\" style=\"stroke:#000000; stroke-linecap:butt; stroke-linejoin:round; stroke-width:2; stroke-opacity:0.1; fill:none\" points=\"\n",
       "  2068,1474.16 2068,47.2441 \n",
       "  \"/>\n",
       "<polyline clip-path=\"url(#clip080)\" style=\"stroke:#000000; stroke-linecap:butt; stroke-linejoin:round; stroke-width:4; stroke-opacity:1; fill:none\" points=\"\n",
       "  214.353,1474.16 2352.76,1474.16 \n",
       "  \"/>\n",
       "<polyline clip-path=\"url(#clip080)\" style=\"stroke:#000000; stroke-linecap:butt; stroke-linejoin:round; stroke-width:4; stroke-opacity:1; fill:none\" points=\"\n",
       "  274.111,1474.16 274.111,1455.27 \n",
       "  \"/>\n",
       "<polyline clip-path=\"url(#clip080)\" style=\"stroke:#000000; stroke-linecap:butt; stroke-linejoin:round; stroke-width:4; stroke-opacity:1; fill:none\" points=\"\n",
       "  722.583,1474.16 722.583,1455.27 \n",
       "  \"/>\n",
       "<polyline clip-path=\"url(#clip080)\" style=\"stroke:#000000; stroke-linecap:butt; stroke-linejoin:round; stroke-width:4; stroke-opacity:1; fill:none\" points=\"\n",
       "  1171.06,1474.16 1171.06,1455.27 \n",
       "  \"/>\n",
       "<polyline clip-path=\"url(#clip080)\" style=\"stroke:#000000; stroke-linecap:butt; stroke-linejoin:round; stroke-width:4; stroke-opacity:1; fill:none\" points=\"\n",
       "  1619.53,1474.16 1619.53,1455.27 \n",
       "  \"/>\n",
       "<polyline clip-path=\"url(#clip080)\" style=\"stroke:#000000; stroke-linecap:butt; stroke-linejoin:round; stroke-width:4; stroke-opacity:1; fill:none\" points=\"\n",
       "  2068,1474.16 2068,1455.27 \n",
       "  \"/>\n",
       "<path clip-path=\"url(#clip080)\" d=\"M274.111 1505.08 Q270.5 1505.08 268.671 1508.65 Q266.866 1512.19 266.866 1519.32 Q266.866 1526.43 268.671 1529.99 Q270.5 1533.53 274.111 1533.53 Q277.745 1533.53 279.551 1529.99 Q281.379 1526.43 281.379 1519.32 Q281.379 1512.19 279.551 1508.65 Q277.745 1505.08 274.111 1505.08 M274.111 1501.38 Q279.921 1501.38 282.977 1505.99 Q286.055 1510.57 286.055 1519.32 Q286.055 1528.05 282.977 1532.65 Q279.921 1537.24 274.111 1537.24 Q268.301 1537.24 265.222 1532.65 Q262.167 1528.05 262.167 1519.32 Q262.167 1510.57 265.222 1505.99 Q268.301 1501.38 274.111 1501.38 Z\" fill=\"#000000\" fill-rule=\"evenodd\" fill-opacity=\"1\" /><path clip-path=\"url(#clip080)\" d=\"M629.482 1548.29 L637.121 1548.29 L637.121 1521.92 L628.81 1523.59 L628.81 1519.33 L637.074 1517.66 L641.75 1517.66 L641.75 1548.29 L649.389 1548.29 L649.389 1552.22 L629.482 1552.22 L629.482 1548.29 Z\" fill=\"#000000\" fill-rule=\"evenodd\" fill-opacity=\"1\" /><path clip-path=\"url(#clip080)\" d=\"M658.833 1546.35 L663.718 1546.35 L663.718 1552.22 L658.833 1552.22 L658.833 1546.35 Z\" fill=\"#000000\" fill-rule=\"evenodd\" fill-opacity=\"1\" /><path clip-path=\"url(#clip080)\" d=\"M683.903 1520.74 Q680.292 1520.74 678.463 1524.31 Q676.657 1527.85 676.657 1534.98 Q676.657 1542.09 678.463 1545.65 Q680.292 1549.19 683.903 1549.19 Q687.537 1549.19 689.342 1545.65 Q691.171 1542.09 691.171 1534.98 Q691.171 1527.85 689.342 1524.31 Q687.537 1520.74 683.903 1520.74 M683.903 1517.04 Q689.713 1517.04 692.768 1521.65 Q695.847 1526.23 695.847 1534.98 Q695.847 1543.71 692.768 1548.31 Q689.713 1552.9 683.903 1552.9 Q678.093 1552.9 675.014 1548.31 Q671.958 1543.71 671.958 1534.98 Q671.958 1526.23 675.014 1521.65 Q678.093 1517.04 683.903 1517.04 Z\" fill=\"#000000\" fill-rule=\"evenodd\" fill-opacity=\"1\" /><path clip-path=\"url(#clip080)\" d=\"M732.236 1526.76 L721.657 1537.39 L732.236 1547.97 L729.481 1550.77 L718.856 1540.14 L708.231 1550.77 L705.5 1547.97 L716.055 1537.39 L705.5 1526.76 L708.231 1523.96 L718.856 1534.59 L729.481 1523.96 L732.236 1526.76 Z\" fill=\"#000000\" fill-rule=\"evenodd\" fill-opacity=\"1\" /><path clip-path=\"url(#clip080)\" d=\"M744.597 1548.29 L752.236 1548.29 L752.236 1521.92 L743.925 1523.59 L743.925 1519.33 L752.189 1517.66 L756.865 1517.66 L756.865 1548.29 L764.504 1548.29 L764.504 1552.22 L744.597 1552.22 L744.597 1548.29 Z\" fill=\"#000000\" fill-rule=\"evenodd\" fill-opacity=\"1\" /><path clip-path=\"url(#clip080)\" d=\"M783.948 1520.74 Q780.337 1520.74 778.509 1524.31 Q776.703 1527.85 776.703 1534.98 Q776.703 1542.09 778.509 1545.65 Q780.337 1549.19 783.948 1549.19 Q787.583 1549.19 789.388 1545.65 Q791.217 1542.09 791.217 1534.98 Q791.217 1527.85 789.388 1524.31 Q787.583 1520.74 783.948 1520.74 M783.948 1517.04 Q789.759 1517.04 792.814 1521.65 Q795.893 1526.23 795.893 1534.98 Q795.893 1543.71 792.814 1548.31 Q789.759 1552.9 783.948 1552.9 Q778.138 1552.9 775.06 1548.31 Q772.004 1543.71 772.004 1534.98 Q772.004 1526.23 775.06 1521.65 Q778.138 1517.04 783.948 1517.04 Z\" fill=\"#000000\" fill-rule=\"evenodd\" fill-opacity=\"1\" /><path clip-path=\"url(#clip080)\" d=\"M808.569 1500.04 L798.977 1515.03 L808.569 1515.03 L808.569 1500.04 M807.572 1496.73 L812.35 1496.73 L812.35 1515.03 L816.356 1515.03 L816.356 1518.19 L812.35 1518.19 L812.35 1524.81 L808.569 1524.81 L808.569 1518.19 L795.893 1518.19 L795.893 1514.53 L807.572 1496.73 Z\" fill=\"#000000\" fill-rule=\"evenodd\" fill-opacity=\"1\" /><path clip-path=\"url(#clip080)\" d=\"M1082.04 1548.29 L1098.36 1548.29 L1098.36 1552.22 L1076.41 1552.22 L1076.41 1548.29 Q1079.08 1545.53 1083.66 1540.91 Q1088.27 1536.25 1089.45 1534.91 Q1091.69 1532.39 1092.57 1530.65 Q1093.47 1528.89 1093.47 1527.2 Q1093.47 1524.45 1091.53 1522.71 Q1089.61 1520.97 1086.51 1520.97 Q1084.31 1520.97 1081.85 1521.74 Q1079.42 1522.5 1076.65 1524.05 L1076.65 1519.33 Q1079.47 1518.2 1081.92 1517.62 Q1084.38 1517.04 1086.41 1517.04 Q1091.78 1517.04 1094.98 1519.72 Q1098.17 1522.41 1098.17 1526.9 Q1098.17 1529.03 1097.36 1530.95 Q1096.58 1532.85 1094.47 1535.44 Q1093.89 1536.11 1090.79 1539.33 Q1087.69 1542.53 1082.04 1548.29 Z\" fill=\"#000000\" fill-rule=\"evenodd\" fill-opacity=\"1\" /><path clip-path=\"url(#clip080)\" d=\"M1108.17 1546.35 L1113.06 1546.35 L1113.06 1552.22 L1108.17 1552.22 L1108.17 1546.35 Z\" fill=\"#000000\" fill-rule=\"evenodd\" fill-opacity=\"1\" /><path clip-path=\"url(#clip080)\" d=\"M1133.24 1520.74 Q1129.63 1520.74 1127.8 1524.31 Q1126 1527.85 1126 1534.98 Q1126 1542.09 1127.8 1545.65 Q1129.63 1549.19 1133.24 1549.19 Q1136.88 1549.19 1138.68 1545.65 Q1140.51 1542.09 1140.51 1534.98 Q1140.51 1527.85 1138.68 1524.31 Q1136.88 1520.74 1133.24 1520.74 M1133.24 1517.04 Q1139.05 1517.04 1142.11 1521.65 Q1145.19 1526.23 1145.19 1534.98 Q1145.19 1543.71 1142.11 1548.31 Q1139.05 1552.9 1133.24 1552.9 Q1127.43 1552.9 1124.35 1548.31 Q1121.3 1543.71 1121.3 1534.98 Q1121.3 1526.23 1124.35 1521.65 Q1127.43 1517.04 1133.24 1517.04 Z\" fill=\"#000000\" fill-rule=\"evenodd\" fill-opacity=\"1\" /><path clip-path=\"url(#clip080)\" d=\"M1181.58 1526.76 L1171 1537.39 L1181.58 1547.97 L1178.82 1550.77 L1168.2 1540.14 L1157.57 1550.77 L1154.84 1547.97 L1165.4 1537.39 L1154.84 1526.76 L1157.57 1523.96 L1168.2 1534.59 L1178.82 1523.96 L1181.58 1526.76 Z\" fill=\"#000000\" fill-rule=\"evenodd\" fill-opacity=\"1\" /><path clip-path=\"url(#clip080)\" d=\"M1193.94 1548.29 L1201.58 1548.29 L1201.58 1521.92 L1193.27 1523.59 L1193.27 1519.33 L1201.53 1517.66 L1206.21 1517.66 L1206.21 1548.29 L1213.84 1548.29 L1213.84 1552.22 L1193.94 1552.22 L1193.94 1548.29 Z\" fill=\"#000000\" fill-rule=\"evenodd\" fill-opacity=\"1\" /><path clip-path=\"url(#clip080)\" d=\"M1233.29 1520.74 Q1229.68 1520.74 1227.85 1524.31 Q1226.04 1527.85 1226.04 1534.98 Q1226.04 1542.09 1227.85 1545.65 Q1229.68 1549.19 1233.29 1549.19 Q1236.92 1549.19 1238.73 1545.65 Q1240.56 1542.09 1240.56 1534.98 Q1240.56 1527.85 1238.73 1524.31 Q1236.92 1520.74 1233.29 1520.74 M1233.29 1517.04 Q1239.1 1517.04 1242.15 1521.65 Q1245.23 1526.23 1245.23 1534.98 Q1245.23 1543.71 1242.15 1548.31 Q1239.1 1552.9 1233.29 1552.9 Q1227.48 1552.9 1224.4 1548.31 Q1221.34 1543.71 1221.34 1534.98 Q1221.34 1526.23 1224.4 1521.65 Q1227.48 1517.04 1233.29 1517.04 Z\" fill=\"#000000\" fill-rule=\"evenodd\" fill-opacity=\"1\" /><path clip-path=\"url(#clip080)\" d=\"M1257.91 1500.04 L1248.32 1515.03 L1257.91 1515.03 L1257.91 1500.04 M1256.91 1496.73 L1261.69 1496.73 L1261.69 1515.03 L1265.7 1515.03 L1265.7 1518.19 L1261.69 1518.19 L1261.69 1524.81 L1257.91 1524.81 L1257.91 1518.19 L1245.23 1518.19 L1245.23 1514.53 L1256.91 1496.73 Z\" fill=\"#000000\" fill-rule=\"evenodd\" fill-opacity=\"1\" /><path clip-path=\"url(#clip080)\" d=\"M1540.58 1533.59 Q1543.94 1534.31 1545.81 1536.58 Q1547.71 1538.85 1547.71 1542.18 Q1547.71 1547.29 1544.19 1550.1 Q1540.67 1552.9 1534.19 1552.9 Q1532.02 1552.9 1529.7 1552.46 Q1527.41 1552.04 1524.96 1551.18 L1524.96 1546.67 Q1526.9 1547.8 1529.22 1548.38 Q1531.53 1548.96 1534.05 1548.96 Q1538.45 1548.96 1540.74 1547.22 Q1543.06 1545.49 1543.06 1542.18 Q1543.06 1539.12 1540.9 1537.41 Q1538.78 1535.67 1534.96 1535.67 L1530.93 1535.67 L1530.93 1531.83 L1535.14 1531.83 Q1538.59 1531.83 1540.42 1530.47 Q1542.25 1529.08 1542.25 1526.48 Q1542.25 1523.82 1540.35 1522.41 Q1538.47 1520.97 1534.96 1520.97 Q1533.03 1520.97 1530.84 1521.39 Q1528.64 1521.81 1526 1522.69 L1526 1518.52 Q1528.66 1517.78 1530.97 1517.41 Q1533.31 1517.04 1535.37 1517.04 Q1540.7 1517.04 1543.8 1519.47 Q1546.9 1521.88 1546.9 1526 Q1546.9 1528.87 1545.26 1530.86 Q1543.61 1532.83 1540.58 1533.59 Z\" fill=\"#000000\" fill-rule=\"evenodd\" fill-opacity=\"1\" /><path clip-path=\"url(#clip080)\" d=\"M1556.58 1546.35 L1561.46 1546.35 L1561.46 1552.22 L1556.58 1552.22 L1556.58 1546.35 Z\" fill=\"#000000\" fill-rule=\"evenodd\" fill-opacity=\"1\" /><path clip-path=\"url(#clip080)\" d=\"M1581.65 1520.74 Q1578.03 1520.74 1576.21 1524.31 Q1574.4 1527.85 1574.4 1534.98 Q1574.4 1542.09 1576.21 1545.65 Q1578.03 1549.19 1581.65 1549.19 Q1585.28 1549.19 1587.09 1545.65 Q1588.91 1542.09 1588.91 1534.98 Q1588.91 1527.85 1587.09 1524.31 Q1585.28 1520.74 1581.65 1520.74 M1581.65 1517.04 Q1587.46 1517.04 1590.51 1521.65 Q1593.59 1526.23 1593.59 1534.98 Q1593.59 1543.71 1590.51 1548.31 Q1587.46 1552.9 1581.65 1552.9 Q1575.84 1552.9 1572.76 1548.31 Q1569.7 1543.71 1569.7 1534.98 Q1569.7 1526.23 1572.76 1521.65 Q1575.84 1517.04 1581.65 1517.04 Z\" fill=\"#000000\" fill-rule=\"evenodd\" fill-opacity=\"1\" /><path clip-path=\"url(#clip080)\" d=\"M1629.98 1526.76 L1619.4 1537.39 L1629.98 1547.97 L1627.22 1550.77 L1616.6 1540.14 L1605.97 1550.77 L1603.24 1547.97 L1613.8 1537.39 L1603.24 1526.76 L1605.97 1523.96 L1616.6 1534.59 L1627.22 1523.96 L1629.98 1526.76 Z\" fill=\"#000000\" fill-rule=\"evenodd\" fill-opacity=\"1\" /><path clip-path=\"url(#clip080)\" d=\"M1642.34 1548.29 L1649.98 1548.29 L1649.98 1521.92 L1641.67 1523.59 L1641.67 1519.33 L1649.93 1517.66 L1654.61 1517.66 L1654.61 1548.29 L1662.25 1548.29 L1662.25 1552.22 L1642.34 1552.22 L1642.34 1548.29 Z\" fill=\"#000000\" fill-rule=\"evenodd\" fill-opacity=\"1\" /><path clip-path=\"url(#clip080)\" d=\"M1681.69 1520.74 Q1678.08 1520.74 1676.25 1524.31 Q1674.45 1527.85 1674.45 1534.98 Q1674.45 1542.09 1676.25 1545.65 Q1678.08 1549.19 1681.69 1549.19 Q1685.33 1549.19 1687.13 1545.65 Q1688.96 1542.09 1688.96 1534.98 Q1688.96 1527.85 1687.13 1524.31 Q1685.33 1520.74 1681.69 1520.74 M1681.69 1517.04 Q1687.5 1517.04 1690.56 1521.65 Q1693.64 1526.23 1693.64 1534.98 Q1693.64 1543.71 1690.56 1548.31 Q1687.5 1552.9 1681.69 1552.9 Q1675.88 1552.9 1672.8 1548.31 Q1669.75 1543.71 1669.75 1534.98 Q1669.75 1526.23 1672.8 1521.65 Q1675.88 1517.04 1681.69 1517.04 Z\" fill=\"#000000\" fill-rule=\"evenodd\" fill-opacity=\"1\" /><path clip-path=\"url(#clip080)\" d=\"M1706.31 1500.04 L1696.72 1515.03 L1706.31 1515.03 L1706.31 1500.04 M1705.32 1496.73 L1710.09 1496.73 L1710.09 1515.03 L1714.1 1515.03 L1714.1 1518.19 L1710.09 1518.19 L1710.09 1524.81 L1706.31 1524.81 L1706.31 1518.19 L1693.64 1518.19 L1693.64 1514.53 L1705.32 1496.73 Z\" fill=\"#000000\" fill-rule=\"evenodd\" fill-opacity=\"1\" /><path clip-path=\"url(#clip080)\" d=\"M1988.38 1521.74 L1976.58 1540.19 L1988.38 1540.19 L1988.38 1521.74 M1987.15 1517.66 L1993.03 1517.66 L1993.03 1540.19 L1997.96 1540.19 L1997.96 1544.08 L1993.03 1544.08 L1993.03 1552.22 L1988.38 1552.22 L1988.38 1544.08 L1972.78 1544.08 L1972.78 1539.56 L1987.15 1517.66 Z\" fill=\"#000000\" fill-rule=\"evenodd\" fill-opacity=\"1\" /><path clip-path=\"url(#clip080)\" d=\"M2005.7 1546.35 L2010.58 1546.35 L2010.58 1552.22 L2005.7 1552.22 L2005.7 1546.35 Z\" fill=\"#000000\" fill-rule=\"evenodd\" fill-opacity=\"1\" /><path clip-path=\"url(#clip080)\" d=\"M2030.77 1520.74 Q2027.15 1520.74 2025.33 1524.31 Q2023.52 1527.85 2023.52 1534.98 Q2023.52 1542.09 2025.33 1545.65 Q2027.15 1549.19 2030.77 1549.19 Q2034.4 1549.19 2036.21 1545.65 Q2038.03 1542.09 2038.03 1534.98 Q2038.03 1527.85 2036.21 1524.31 Q2034.4 1520.74 2030.77 1520.74 M2030.77 1517.04 Q2036.58 1517.04 2039.63 1521.65 Q2042.71 1526.23 2042.71 1534.98 Q2042.71 1543.71 2039.63 1548.31 Q2036.58 1552.9 2030.77 1552.9 Q2024.96 1552.9 2021.88 1548.31 Q2018.82 1543.71 2018.82 1534.98 Q2018.82 1526.23 2021.88 1521.65 Q2024.96 1517.04 2030.77 1517.04 Z\" fill=\"#000000\" fill-rule=\"evenodd\" fill-opacity=\"1\" /><path clip-path=\"url(#clip080)\" d=\"M2079.1 1526.76 L2068.52 1537.39 L2079.1 1547.97 L2076.34 1550.77 L2065.72 1540.14 L2055.09 1550.77 L2052.36 1547.97 L2062.92 1537.39 L2052.36 1526.76 L2055.09 1523.96 L2065.72 1534.59 L2076.34 1523.96 L2079.1 1526.76 Z\" fill=\"#000000\" fill-rule=\"evenodd\" fill-opacity=\"1\" /><path clip-path=\"url(#clip080)\" d=\"M2091.46 1548.29 L2099.1 1548.29 L2099.1 1521.92 L2090.79 1523.59 L2090.79 1519.33 L2099.05 1517.66 L2103.73 1517.66 L2103.73 1548.29 L2111.37 1548.29 L2111.37 1552.22 L2091.46 1552.22 L2091.46 1548.29 Z\" fill=\"#000000\" fill-rule=\"evenodd\" fill-opacity=\"1\" /><path clip-path=\"url(#clip080)\" d=\"M2130.81 1520.74 Q2127.2 1520.74 2125.37 1524.31 Q2123.57 1527.85 2123.57 1534.98 Q2123.57 1542.09 2125.37 1545.65 Q2127.2 1549.19 2130.81 1549.19 Q2134.45 1549.19 2136.25 1545.65 Q2138.08 1542.09 2138.08 1534.98 Q2138.08 1527.85 2136.25 1524.31 Q2134.45 1520.74 2130.81 1520.74 M2130.81 1517.04 Q2136.62 1517.04 2139.68 1521.65 Q2142.76 1526.23 2142.76 1534.98 Q2142.76 1543.71 2139.68 1548.31 Q2136.62 1552.9 2130.81 1552.9 Q2125 1552.9 2121.92 1548.31 Q2118.87 1543.71 2118.87 1534.98 Q2118.87 1526.23 2121.92 1521.65 Q2125 1517.04 2130.81 1517.04 Z\" fill=\"#000000\" fill-rule=\"evenodd\" fill-opacity=\"1\" /><path clip-path=\"url(#clip080)\" d=\"M2155.43 1500.04 L2145.84 1515.03 L2155.43 1515.03 L2155.43 1500.04 M2154.44 1496.73 L2159.21 1496.73 L2159.21 1515.03 L2163.22 1515.03 L2163.22 1518.19 L2159.21 1518.19 L2159.21 1524.81 L2155.43 1524.81 L2155.43 1518.19 L2142.76 1518.19 L2142.76 1514.53 L2154.44 1496.73 Z\" fill=\"#000000\" fill-rule=\"evenodd\" fill-opacity=\"1\" /><polyline clip-path=\"url(#clip082)\" style=\"stroke:#000000; stroke-linecap:butt; stroke-linejoin:round; stroke-width:2; stroke-opacity:0.1; fill:none\" points=\"\n",
       "  214.353,1337.63 2352.76,1337.63 \n",
       "  \"/>\n",
       "<polyline clip-path=\"url(#clip082)\" style=\"stroke:#000000; stroke-linecap:butt; stroke-linejoin:round; stroke-width:2; stroke-opacity:0.1; fill:none\" points=\"\n",
       "  214.353,1097.24 2352.76,1097.24 \n",
       "  \"/>\n",
       "<polyline clip-path=\"url(#clip082)\" style=\"stroke:#000000; stroke-linecap:butt; stroke-linejoin:round; stroke-width:2; stroke-opacity:0.1; fill:none\" points=\"\n",
       "  214.353,856.858 2352.76,856.858 \n",
       "  \"/>\n",
       "<polyline clip-path=\"url(#clip082)\" style=\"stroke:#000000; stroke-linecap:butt; stroke-linejoin:round; stroke-width:2; stroke-opacity:0.1; fill:none\" points=\"\n",
       "  214.353,616.474 2352.76,616.474 \n",
       "  \"/>\n",
       "<polyline clip-path=\"url(#clip082)\" style=\"stroke:#000000; stroke-linecap:butt; stroke-linejoin:round; stroke-width:2; stroke-opacity:0.1; fill:none\" points=\"\n",
       "  214.353,376.09 2352.76,376.09 \n",
       "  \"/>\n",
       "<polyline clip-path=\"url(#clip082)\" style=\"stroke:#000000; stroke-linecap:butt; stroke-linejoin:round; stroke-width:2; stroke-opacity:0.1; fill:none\" points=\"\n",
       "  214.353,135.705 2352.76,135.705 \n",
       "  \"/>\n",
       "<polyline clip-path=\"url(#clip080)\" style=\"stroke:#000000; stroke-linecap:butt; stroke-linejoin:round; stroke-width:4; stroke-opacity:1; fill:none\" points=\"\n",
       "  214.353,1474.16 214.353,47.2441 \n",
       "  \"/>\n",
       "<polyline clip-path=\"url(#clip080)\" style=\"stroke:#000000; stroke-linecap:butt; stroke-linejoin:round; stroke-width:4; stroke-opacity:1; fill:none\" points=\"\n",
       "  214.353,1337.63 233.25,1337.63 \n",
       "  \"/>\n",
       "<polyline clip-path=\"url(#clip080)\" style=\"stroke:#000000; stroke-linecap:butt; stroke-linejoin:round; stroke-width:4; stroke-opacity:1; fill:none\" points=\"\n",
       "  214.353,1097.24 233.25,1097.24 \n",
       "  \"/>\n",
       "<polyline clip-path=\"url(#clip080)\" style=\"stroke:#000000; stroke-linecap:butt; stroke-linejoin:round; stroke-width:4; stroke-opacity:1; fill:none\" points=\"\n",
       "  214.353,856.858 233.25,856.858 \n",
       "  \"/>\n",
       "<polyline clip-path=\"url(#clip080)\" style=\"stroke:#000000; stroke-linecap:butt; stroke-linejoin:round; stroke-width:4; stroke-opacity:1; fill:none\" points=\"\n",
       "  214.353,616.474 233.25,616.474 \n",
       "  \"/>\n",
       "<polyline clip-path=\"url(#clip080)\" style=\"stroke:#000000; stroke-linecap:butt; stroke-linejoin:round; stroke-width:4; stroke-opacity:1; fill:none\" points=\"\n",
       "  214.353,376.09 233.25,376.09 \n",
       "  \"/>\n",
       "<polyline clip-path=\"url(#clip080)\" style=\"stroke:#000000; stroke-linecap:butt; stroke-linejoin:round; stroke-width:4; stroke-opacity:1; fill:none\" points=\"\n",
       "  214.353,135.705 233.25,135.705 \n",
       "  \"/>\n",
       "<path clip-path=\"url(#clip080)\" d=\"M51.6634 1350.97 L59.3023 1350.97 L59.3023 1324.61 L50.9921 1326.27 L50.9921 1322.01 L59.256 1320.35 L63.9319 1320.35 L63.9319 1350.97 L71.5707 1350.97 L71.5707 1354.91 L51.6634 1354.91 L51.6634 1350.97 Z\" fill=\"#000000\" fill-rule=\"evenodd\" fill-opacity=\"1\" /><path clip-path=\"url(#clip080)\" d=\"M93.8623 1324.42 L82.0568 1342.87 L93.8623 1342.87 L93.8623 1324.42 M92.6354 1320.35 L98.515 1320.35 L98.515 1342.87 L103.446 1342.87 L103.446 1346.76 L98.515 1346.76 L98.515 1354.91 L93.8623 1354.91 L93.8623 1346.76 L78.2605 1346.76 L78.2605 1342.24 L92.6354 1320.35 Z\" fill=\"#000000\" fill-rule=\"evenodd\" fill-opacity=\"1\" /><path clip-path=\"url(#clip080)\" d=\"M111.177 1349.03 L116.061 1349.03 L116.061 1354.91 L111.177 1354.91 L111.177 1349.03 Z\" fill=\"#000000\" fill-rule=\"evenodd\" fill-opacity=\"1\" /><path clip-path=\"url(#clip080)\" d=\"M126.293 1320.35 L144.649 1320.35 L144.649 1324.28 L130.575 1324.28 L130.575 1332.75 Q131.594 1332.41 132.612 1332.24 Q133.631 1332.06 134.649 1332.06 Q140.436 1332.06 143.816 1335.23 Q147.195 1338.4 147.195 1343.82 Q147.195 1349.4 143.723 1352.5 Q140.251 1355.58 133.931 1355.58 Q131.756 1355.58 129.487 1355.21 Q127.242 1354.84 124.834 1354.1 L124.834 1349.4 Q126.918 1350.53 129.14 1351.09 Q131.362 1351.64 133.839 1351.64 Q137.844 1351.64 140.181 1349.54 Q142.519 1347.43 142.519 1343.82 Q142.519 1340.21 140.181 1338.1 Q137.844 1335.99 133.839 1335.99 Q131.964 1335.99 130.089 1336.41 Q128.237 1336.83 126.293 1337.71 L126.293 1320.35 Z\" fill=\"#000000\" fill-rule=\"evenodd\" fill-opacity=\"1\" /><path clip-path=\"url(#clip080)\" d=\"M166.408 1323.43 Q162.797 1323.43 160.968 1326.99 Q159.163 1330.53 159.163 1337.66 Q159.163 1344.77 160.968 1348.33 Q162.797 1351.87 166.408 1351.87 Q170.042 1351.87 171.848 1348.33 Q173.677 1344.77 173.677 1337.66 Q173.677 1330.53 171.848 1326.99 Q170.042 1323.43 166.408 1323.43 M166.408 1319.72 Q172.218 1319.72 175.274 1324.33 Q178.353 1328.91 178.353 1337.66 Q178.353 1346.39 175.274 1350.99 Q172.218 1355.58 166.408 1355.58 Q160.598 1355.58 157.519 1350.99 Q154.464 1346.39 154.464 1337.66 Q154.464 1328.91 157.519 1324.33 Q160.598 1319.72 166.408 1319.72 Z\" fill=\"#000000\" fill-rule=\"evenodd\" fill-opacity=\"1\" /><path clip-path=\"url(#clip080)\" d=\"M52.6588 1110.59 L60.2976 1110.59 L60.2976 1084.22 L51.9875 1085.89 L51.9875 1081.63 L60.2513 1079.96 L64.9272 1079.96 L64.9272 1110.59 L72.5661 1110.59 L72.5661 1114.52 L52.6588 1114.52 L52.6588 1110.59 Z\" fill=\"#000000\" fill-rule=\"evenodd\" fill-opacity=\"1\" /><path clip-path=\"url(#clip080)\" d=\"M94.8576 1084.04 L83.0521 1102.49 L94.8576 1102.49 L94.8576 1084.04 M93.6308 1079.96 L99.5104 1079.96 L99.5104 1102.49 L104.441 1102.49 L104.441 1106.37 L99.5104 1106.37 L99.5104 1114.52 L94.8576 1114.52 L94.8576 1106.37 L79.2559 1106.37 L79.2559 1101.86 L93.6308 1079.96 Z\" fill=\"#000000\" fill-rule=\"evenodd\" fill-opacity=\"1\" /><path clip-path=\"url(#clip080)\" d=\"M112.172 1108.64 L117.057 1108.64 L117.057 1114.52 L112.172 1114.52 L112.172 1108.64 Z\" fill=\"#000000\" fill-rule=\"evenodd\" fill-opacity=\"1\" /><path clip-path=\"url(#clip080)\" d=\"M126.061 1079.96 L148.283 1079.96 L148.283 1081.95 L135.737 1114.52 L130.853 1114.52 L142.658 1083.9 L126.061 1083.9 L126.061 1079.96 Z\" fill=\"#000000\" fill-rule=\"evenodd\" fill-opacity=\"1\" /><path clip-path=\"url(#clip080)\" d=\"M157.45 1079.96 L175.806 1079.96 L175.806 1083.9 L161.732 1083.9 L161.732 1092.37 Q162.751 1092.02 163.769 1091.86 Q164.788 1091.68 165.806 1091.68 Q171.593 1091.68 174.973 1094.85 Q178.353 1098.02 178.353 1103.43 Q178.353 1109.01 174.88 1112.11 Q171.408 1115.19 165.089 1115.19 Q162.913 1115.19 160.644 1114.82 Q158.399 1114.45 155.992 1113.71 L155.992 1109.01 Q158.075 1110.15 160.297 1110.7 Q162.519 1111.26 164.996 1111.26 Q169.001 1111.26 171.339 1109.15 Q173.677 1107.05 173.677 1103.43 Q173.677 1099.82 171.339 1097.72 Q169.001 1095.61 164.996 1095.61 Q163.121 1095.61 161.246 1096.03 Q159.394 1096.44 157.45 1097.32 L157.45 1079.96 Z\" fill=\"#000000\" fill-rule=\"evenodd\" fill-opacity=\"1\" /><path clip-path=\"url(#clip080)\" d=\"M51.6634 870.203 L59.3023 870.203 L59.3023 843.837 L50.9921 845.504 L50.9921 841.245 L59.256 839.578 L63.9319 839.578 L63.9319 870.203 L71.5707 870.203 L71.5707 874.138 L51.6634 874.138 L51.6634 870.203 Z\" fill=\"#000000\" fill-rule=\"evenodd\" fill-opacity=\"1\" /><path clip-path=\"url(#clip080)\" d=\"M81.0614 839.578 L99.4178 839.578 L99.4178 843.513 L85.3438 843.513 L85.3438 851.985 Q86.3623 851.638 87.3808 851.476 Q88.3993 851.291 89.4178 851.291 Q95.2049 851.291 98.5845 854.462 Q101.964 857.634 101.964 863.05 Q101.964 868.629 98.4919 871.731 Q95.0197 874.809 88.7003 874.809 Q86.5243 874.809 84.2558 874.439 Q82.0105 874.069 79.6031 873.328 L79.6031 868.629 Q81.6864 869.763 83.9086 870.319 Q86.1308 870.874 88.6077 870.874 Q92.6123 870.874 94.9502 868.768 Q97.2882 866.661 97.2882 863.05 Q97.2882 859.439 94.9502 857.333 Q92.6123 855.226 88.6077 855.226 Q86.7327 855.226 84.8577 855.643 Q83.0058 856.059 81.0614 856.939 L81.0614 839.578 Z\" fill=\"#000000\" fill-rule=\"evenodd\" fill-opacity=\"1\" /><path clip-path=\"url(#clip080)\" d=\"M111.177 868.258 L116.061 868.258 L116.061 874.138 L111.177 874.138 L111.177 868.258 Z\" fill=\"#000000\" fill-rule=\"evenodd\" fill-opacity=\"1\" /><path clip-path=\"url(#clip080)\" d=\"M136.246 842.657 Q132.635 842.657 130.807 846.222 Q129.001 849.763 129.001 856.893 Q129.001 863.999 130.807 867.564 Q132.635 871.106 136.246 871.106 Q139.881 871.106 141.686 867.564 Q143.515 863.999 143.515 856.893 Q143.515 849.763 141.686 846.222 Q139.881 842.657 136.246 842.657 M136.246 838.953 Q142.056 838.953 145.112 843.56 Q148.191 848.143 148.191 856.893 Q148.191 865.62 145.112 870.226 Q142.056 874.809 136.246 874.809 Q130.436 874.809 127.357 870.226 Q124.302 865.62 124.302 856.893 Q124.302 848.143 127.357 843.56 Q130.436 838.953 136.246 838.953 Z\" fill=\"#000000\" fill-rule=\"evenodd\" fill-opacity=\"1\" /><path clip-path=\"url(#clip080)\" d=\"M166.408 842.657 Q162.797 842.657 160.968 846.222 Q159.163 849.763 159.163 856.893 Q159.163 863.999 160.968 867.564 Q162.797 871.106 166.408 871.106 Q170.042 871.106 171.848 867.564 Q173.677 863.999 173.677 856.893 Q173.677 849.763 171.848 846.222 Q170.042 842.657 166.408 842.657 M166.408 838.953 Q172.218 838.953 175.274 843.56 Q178.353 848.143 178.353 856.893 Q178.353 865.62 175.274 870.226 Q172.218 874.809 166.408 874.809 Q160.598 874.809 157.519 870.226 Q154.464 865.62 154.464 856.893 Q154.464 848.143 157.519 843.56 Q160.598 838.953 166.408 838.953 Z\" fill=\"#000000\" fill-rule=\"evenodd\" fill-opacity=\"1\" /><path clip-path=\"url(#clip080)\" d=\"M52.6588 629.819 L60.2976 629.819 L60.2976 603.453 L51.9875 605.12 L51.9875 600.861 L60.2513 599.194 L64.9272 599.194 L64.9272 629.819 L72.5661 629.819 L72.5661 633.754 L52.6588 633.754 L52.6588 629.819 Z\" fill=\"#000000\" fill-rule=\"evenodd\" fill-opacity=\"1\" /><path clip-path=\"url(#clip080)\" d=\"M82.0568 599.194 L100.413 599.194 L100.413 603.129 L86.3392 603.129 L86.3392 611.601 Q87.3577 611.254 88.3762 611.092 Q89.3947 610.907 90.4132 610.907 Q96.2002 610.907 99.5798 614.078 Q102.959 617.249 102.959 622.666 Q102.959 628.245 99.4872 631.346 Q96.015 634.425 89.6956 634.425 Q87.5197 634.425 85.2512 634.055 Q83.0058 633.684 80.5984 632.944 L80.5984 628.245 Q82.6818 629.379 84.904 629.934 Q87.1262 630.49 89.603 630.49 Q93.6076 630.49 95.9456 628.384 Q98.2835 626.277 98.2835 622.666 Q98.2835 619.055 95.9456 616.948 Q93.6076 614.842 89.603 614.842 Q87.728 614.842 85.8531 615.259 Q84.0012 615.675 82.0568 616.555 L82.0568 599.194 Z\" fill=\"#000000\" fill-rule=\"evenodd\" fill-opacity=\"1\" /><path clip-path=\"url(#clip080)\" d=\"M112.172 627.874 L117.057 627.874 L117.057 633.754 L112.172 633.754 L112.172 627.874 Z\" fill=\"#000000\" fill-rule=\"evenodd\" fill-opacity=\"1\" /><path clip-path=\"url(#clip080)\" d=\"M131.269 629.819 L147.589 629.819 L147.589 633.754 L125.645 633.754 L125.645 629.819 Q128.307 627.064 132.89 622.434 Q137.496 617.782 138.677 616.439 Q140.922 613.916 141.802 612.18 Q142.705 610.421 142.705 608.731 Q142.705 605.976 140.76 604.24 Q138.839 602.504 135.737 602.504 Q133.538 602.504 131.084 603.268 Q128.654 604.032 125.876 605.583 L125.876 600.861 Q128.7 599.726 131.154 599.148 Q133.607 598.569 135.644 598.569 Q141.015 598.569 144.209 601.254 Q147.404 603.939 147.404 608.43 Q147.404 610.56 146.593 612.481 Q145.806 614.379 143.7 616.972 Q143.121 617.643 140.019 620.86 Q136.918 624.055 131.269 629.819 Z\" fill=\"#000000\" fill-rule=\"evenodd\" fill-opacity=\"1\" /><path clip-path=\"url(#clip080)\" d=\"M157.45 599.194 L175.806 599.194 L175.806 603.129 L161.732 603.129 L161.732 611.601 Q162.751 611.254 163.769 611.092 Q164.788 610.907 165.806 610.907 Q171.593 610.907 174.973 614.078 Q178.353 617.249 178.353 622.666 Q178.353 628.245 174.88 631.346 Q171.408 634.425 165.089 634.425 Q162.913 634.425 160.644 634.055 Q158.399 633.684 155.992 632.944 L155.992 628.245 Q158.075 629.379 160.297 629.934 Q162.519 630.49 164.996 630.49 Q169.001 630.49 171.339 628.384 Q173.677 626.277 173.677 622.666 Q173.677 619.055 171.339 616.948 Q169.001 614.842 164.996 614.842 Q163.121 614.842 161.246 615.259 Q159.394 615.675 157.45 616.555 L157.45 599.194 Z\" fill=\"#000000\" fill-rule=\"evenodd\" fill-opacity=\"1\" /><path clip-path=\"url(#clip080)\" d=\"M51.6634 389.435 L59.3023 389.435 L59.3023 363.069 L50.9921 364.736 L50.9921 360.476 L59.256 358.81 L63.9319 358.81 L63.9319 389.435 L71.5707 389.435 L71.5707 393.37 L51.6634 393.37 L51.6634 389.435 Z\" fill=\"#000000\" fill-rule=\"evenodd\" fill-opacity=\"1\" /><path clip-path=\"url(#clip080)\" d=\"M81.0614 358.81 L99.4178 358.81 L99.4178 362.745 L85.3438 362.745 L85.3438 371.217 Q86.3623 370.87 87.3808 370.708 Q88.3993 370.523 89.4178 370.523 Q95.2049 370.523 98.5845 373.694 Q101.964 376.865 101.964 382.282 Q101.964 387.86 98.4919 390.962 Q95.0197 394.041 88.7003 394.041 Q86.5243 394.041 84.2558 393.671 Q82.0105 393.3 79.6031 392.559 L79.6031 387.86 Q81.6864 388.995 83.9086 389.55 Q86.1308 390.106 88.6077 390.106 Q92.6123 390.106 94.9502 387.999 Q97.2882 385.893 97.2882 382.282 Q97.2882 378.671 94.9502 376.564 Q92.6123 374.458 88.6077 374.458 Q86.7327 374.458 84.8577 374.874 Q83.0058 375.291 81.0614 376.171 L81.0614 358.81 Z\" fill=\"#000000\" fill-rule=\"evenodd\" fill-opacity=\"1\" /><path clip-path=\"url(#clip080)\" d=\"M111.177 387.49 L116.061 387.49 L116.061 393.37 L111.177 393.37 L111.177 387.49 Z\" fill=\"#000000\" fill-rule=\"evenodd\" fill-opacity=\"1\" /><path clip-path=\"url(#clip080)\" d=\"M126.293 358.81 L144.649 358.81 L144.649 362.745 L130.575 362.745 L130.575 371.217 Q131.594 370.87 132.612 370.708 Q133.631 370.523 134.649 370.523 Q140.436 370.523 143.816 373.694 Q147.195 376.865 147.195 382.282 Q147.195 387.86 143.723 390.962 Q140.251 394.041 133.931 394.041 Q131.756 394.041 129.487 393.671 Q127.242 393.3 124.834 392.559 L124.834 387.86 Q126.918 388.995 129.14 389.55 Q131.362 390.106 133.839 390.106 Q137.844 390.106 140.181 387.999 Q142.519 385.893 142.519 382.282 Q142.519 378.671 140.181 376.564 Q137.844 374.458 133.839 374.458 Q131.964 374.458 130.089 374.874 Q128.237 375.291 126.293 376.171 L126.293 358.81 Z\" fill=\"#000000\" fill-rule=\"evenodd\" fill-opacity=\"1\" /><path clip-path=\"url(#clip080)\" d=\"M166.408 361.888 Q162.797 361.888 160.968 365.453 Q159.163 368.995 159.163 376.124 Q159.163 383.231 160.968 386.796 Q162.797 390.337 166.408 390.337 Q170.042 390.337 171.848 386.796 Q173.677 383.231 173.677 376.124 Q173.677 368.995 171.848 365.453 Q170.042 361.888 166.408 361.888 M166.408 358.185 Q172.218 358.185 175.274 362.791 Q178.353 367.374 178.353 376.124 Q178.353 384.851 175.274 389.458 Q172.218 394.041 166.408 394.041 Q160.598 394.041 157.519 389.458 Q154.464 384.851 154.464 376.124 Q154.464 367.374 157.519 362.791 Q160.598 358.185 166.408 358.185 Z\" fill=\"#000000\" fill-rule=\"evenodd\" fill-opacity=\"1\" /><path clip-path=\"url(#clip080)\" d=\"M52.6588 149.05 L60.2976 149.05 L60.2976 122.685 L51.9875 124.351 L51.9875 120.092 L60.2513 118.425 L64.9272 118.425 L64.9272 149.05 L72.5661 149.05 L72.5661 152.985 L52.6588 152.985 L52.6588 149.05 Z\" fill=\"#000000\" fill-rule=\"evenodd\" fill-opacity=\"1\" /><path clip-path=\"url(#clip080)\" d=\"M82.0568 118.425 L100.413 118.425 L100.413 122.361 L86.3392 122.361 L86.3392 130.833 Q87.3577 130.486 88.3762 130.324 Q89.3947 130.138 90.4132 130.138 Q96.2002 130.138 99.5798 133.31 Q102.959 136.481 102.959 141.898 Q102.959 147.476 99.4872 150.578 Q96.015 153.657 89.6956 153.657 Q87.5197 153.657 85.2512 153.286 Q83.0058 152.916 80.5984 152.175 L80.5984 147.476 Q82.6818 148.611 84.904 149.166 Q87.1262 149.722 89.603 149.722 Q93.6076 149.722 95.9456 147.615 Q98.2835 145.509 98.2835 141.898 Q98.2835 138.286 95.9456 136.18 Q93.6076 134.074 89.603 134.074 Q87.728 134.074 85.8531 134.49 Q84.0012 134.907 82.0568 135.786 L82.0568 118.425 Z\" fill=\"#000000\" fill-rule=\"evenodd\" fill-opacity=\"1\" /><path clip-path=\"url(#clip080)\" d=\"M112.172 147.106 L117.057 147.106 L117.057 152.985 L112.172 152.985 L112.172 147.106 Z\" fill=\"#000000\" fill-rule=\"evenodd\" fill-opacity=\"1\" /><path clip-path=\"url(#clip080)\" d=\"M126.061 118.425 L148.283 118.425 L148.283 120.416 L135.737 152.985 L130.853 152.985 L142.658 122.361 L126.061 122.361 L126.061 118.425 Z\" fill=\"#000000\" fill-rule=\"evenodd\" fill-opacity=\"1\" /><path clip-path=\"url(#clip080)\" d=\"M157.45 118.425 L175.806 118.425 L175.806 122.361 L161.732 122.361 L161.732 130.833 Q162.751 130.486 163.769 130.324 Q164.788 130.138 165.806 130.138 Q171.593 130.138 174.973 133.31 Q178.353 136.481 178.353 141.898 Q178.353 147.476 174.88 150.578 Q171.408 153.657 165.089 153.657 Q162.913 153.657 160.644 153.286 Q158.399 152.916 155.992 152.175 L155.992 147.476 Q158.075 148.611 160.297 149.166 Q162.519 149.722 164.996 149.722 Q169.001 149.722 171.339 147.615 Q173.677 145.509 173.677 141.898 Q173.677 138.286 171.339 136.18 Q169.001 134.074 164.996 134.074 Q163.121 134.074 161.246 134.49 Q159.394 134.907 157.45 135.786 L157.45 118.425 Z\" fill=\"#000000\" fill-rule=\"evenodd\" fill-opacity=\"1\" /><polyline clip-path=\"url(#clip082)\" style=\"stroke:#009af9; stroke-linecap:butt; stroke-linejoin:round; stroke-width:4; stroke-opacity:1; fill:none\" points=\"\n",
       "  2292.24,1433.78 1171.06,1337.63 946.819,1049.17 498.347,664.551 292.05,376.09 274.873,87.6286 \n",
       "  \"/>\n",
       "<circle clip-path=\"url(#clip082)\" cx=\"2292.24\" cy=\"1433.78\" r=\"14\" fill=\"#e26f46\" fill-rule=\"evenodd\" fill-opacity=\"1\" stroke=\"#000000\" stroke-opacity=\"1\" stroke-width=\"3.2\"/>\n",
       "<circle clip-path=\"url(#clip082)\" cx=\"1171.06\" cy=\"1337.63\" r=\"14\" fill=\"#e26f46\" fill-rule=\"evenodd\" fill-opacity=\"1\" stroke=\"#000000\" stroke-opacity=\"1\" stroke-width=\"3.2\"/>\n",
       "<circle clip-path=\"url(#clip082)\" cx=\"946.819\" cy=\"1049.17\" r=\"14\" fill=\"#e26f46\" fill-rule=\"evenodd\" fill-opacity=\"1\" stroke=\"#000000\" stroke-opacity=\"1\" stroke-width=\"3.2\"/>\n",
       "<circle clip-path=\"url(#clip082)\" cx=\"498.347\" cy=\"664.551\" r=\"14\" fill=\"#e26f46\" fill-rule=\"evenodd\" fill-opacity=\"1\" stroke=\"#000000\" stroke-opacity=\"1\" stroke-width=\"3.2\"/>\n",
       "<circle clip-path=\"url(#clip082)\" cx=\"292.05\" cy=\"376.09\" r=\"14\" fill=\"#e26f46\" fill-rule=\"evenodd\" fill-opacity=\"1\" stroke=\"#000000\" stroke-opacity=\"1\" stroke-width=\"3.2\"/>\n",
       "<circle clip-path=\"url(#clip082)\" cx=\"274.873\" cy=\"87.6286\" r=\"14\" fill=\"#e26f46\" fill-rule=\"evenodd\" fill-opacity=\"1\" stroke=\"#000000\" stroke-opacity=\"1\" stroke-width=\"3.2\"/>\n",
       "<path clip-path=\"url(#clip080)\" d=\"\n",
       "M1904.89 250.328 L2281.48 250.328 L2281.48 94.8081 L1904.89 94.8081  Z\n",
       "  \" fill=\"#ffffff\" fill-rule=\"evenodd\" fill-opacity=\"1\"/>\n",
       "<polyline clip-path=\"url(#clip080)\" style=\"stroke:#000000; stroke-linecap:butt; stroke-linejoin:round; stroke-width:4; stroke-opacity:1; fill:none\" points=\"\n",
       "  1904.89,250.328 2281.48,250.328 2281.48,94.8081 1904.89,94.8081 1904.89,250.328 \n",
       "  \"/>\n",
       "<polyline clip-path=\"url(#clip080)\" style=\"stroke:#009af9; stroke-linecap:butt; stroke-linejoin:round; stroke-width:4; stroke-opacity:1; fill:none\" points=\"\n",
       "  1928.65,146.648 2071.21,146.648 \n",
       "  \"/>\n",
       "<path clip-path=\"url(#clip080)\" d=\"M2094.97 127.91 L2099.23 127.91 L2099.23 163.928 L2094.97 163.928 L2094.97 127.91 Z\" fill=\"#000000\" fill-rule=\"evenodd\" fill-opacity=\"1\" /><path clip-path=\"url(#clip080)\" d=\"M2108.15 138.002 L2112.41 138.002 L2112.41 163.928 L2108.15 163.928 L2108.15 138.002 M2108.15 127.91 L2112.41 127.91 L2112.41 133.303 L2108.15 133.303 L2108.15 127.91 Z\" fill=\"#000000\" fill-rule=\"evenodd\" fill-opacity=\"1\" /><path clip-path=\"url(#clip080)\" d=\"M2142.87 148.28 L2142.87 163.928 L2138.61 163.928 L2138.61 148.419 Q2138.61 144.738 2137.17 142.91 Q2135.74 141.081 2132.87 141.081 Q2129.42 141.081 2127.43 143.28 Q2125.44 145.479 2125.44 149.275 L2125.44 163.928 L2121.16 163.928 L2121.16 138.002 L2125.44 138.002 L2125.44 142.03 Q2126.97 139.692 2129.03 138.535 Q2131.11 137.377 2133.82 137.377 Q2138.28 137.377 2140.58 140.155 Q2142.87 142.91 2142.87 148.28 Z\" fill=\"#000000\" fill-rule=\"evenodd\" fill-opacity=\"1\" /><path clip-path=\"url(#clip080)\" d=\"M2173.54 149.9 L2173.54 151.984 L2153.96 151.984 Q2154.23 156.382 2156.6 158.697 Q2158.98 160.988 2163.22 160.988 Q2165.67 160.988 2167.96 160.386 Q2170.28 159.785 2172.54 158.581 L2172.54 162.609 Q2170.25 163.581 2167.84 164.09 Q2165.44 164.599 2162.96 164.599 Q2156.76 164.599 2153.12 160.988 Q2149.51 157.377 2149.51 151.22 Q2149.51 144.854 2152.94 141.127 Q2156.39 137.377 2162.22 137.377 Q2167.45 137.377 2170.48 140.757 Q2173.54 144.113 2173.54 149.9 M2169.28 148.65 Q2169.23 145.155 2167.31 143.072 Q2165.41 140.988 2162.27 140.988 Q2158.7 140.988 2156.55 143.002 Q2154.42 145.016 2154.1 148.674 L2169.28 148.65 Z\" fill=\"#000000\" fill-rule=\"evenodd\" fill-opacity=\"1\" /><circle clip-path=\"url(#clip080)\" cx=\"1999.93\" cy=\"198.488\" r=\"23\" fill=\"#e26f46\" fill-rule=\"evenodd\" fill-opacity=\"1\" stroke=\"#000000\" stroke-opacity=\"1\" stroke-width=\"5.12\"/>\n",
       "<path clip-path=\"url(#clip080)\" d=\"M2099.26 211.879 L2099.26 225.629 L2094.97 225.629 L2094.97 189.842 L2099.26 189.842 L2099.26 193.777 Q2100.6 191.463 2102.64 190.352 Q2104.7 189.217 2107.54 189.217 Q2112.27 189.217 2115.21 192.967 Q2118.17 196.717 2118.17 202.828 Q2118.17 208.939 2115.21 212.689 Q2112.27 216.439 2107.54 216.439 Q2104.7 216.439 2102.64 215.328 Q2100.6 214.194 2099.26 211.879 M2113.75 202.828 Q2113.75 198.129 2111.8 195.467 Q2109.88 192.782 2106.5 192.782 Q2103.12 192.782 2101.18 195.467 Q2099.26 198.129 2099.26 202.828 Q2099.26 207.527 2101.18 210.213 Q2103.12 212.875 2106.5 212.875 Q2109.88 212.875 2111.8 210.213 Q2113.75 207.527 2113.75 202.828 Z\" fill=\"#000000\" fill-rule=\"evenodd\" fill-opacity=\"1\" /><path clip-path=\"url(#clip080)\" d=\"M2135.28 192.828 Q2131.85 192.828 2129.86 195.514 Q2127.87 198.176 2127.87 202.828 Q2127.87 207.481 2129.84 210.166 Q2131.83 212.828 2135.28 212.828 Q2138.68 212.828 2140.67 210.143 Q2142.66 207.458 2142.66 202.828 Q2142.66 198.222 2140.67 195.537 Q2138.68 192.828 2135.28 192.828 M2135.28 189.217 Q2140.83 189.217 2144 192.828 Q2147.17 196.44 2147.17 202.828 Q2147.17 209.194 2144 212.828 Q2140.83 216.439 2135.28 216.439 Q2129.7 216.439 2126.53 212.828 Q2123.38 209.194 2123.38 202.828 Q2123.38 196.44 2126.53 192.828 Q2129.7 189.217 2135.28 189.217 Z\" fill=\"#000000\" fill-rule=\"evenodd\" fill-opacity=\"1\" /><path clip-path=\"url(#clip080)\" d=\"M2154.23 189.842 L2158.49 189.842 L2158.49 215.768 L2154.23 215.768 L2154.23 189.842 M2154.23 179.75 L2158.49 179.75 L2158.49 185.143 L2154.23 185.143 L2154.23 179.75 Z\" fill=\"#000000\" fill-rule=\"evenodd\" fill-opacity=\"1\" /><path clip-path=\"url(#clip080)\" d=\"M2188.96 200.12 L2188.96 215.768 L2184.7 215.768 L2184.7 200.259 Q2184.7 196.578 2183.26 194.75 Q2181.83 192.921 2178.96 192.921 Q2175.51 192.921 2173.52 195.12 Q2171.53 197.319 2171.53 201.115 L2171.53 215.768 L2167.24 215.768 L2167.24 189.842 L2171.53 189.842 L2171.53 193.87 Q2173.05 191.532 2175.11 190.375 Q2177.2 189.217 2179.91 189.217 Q2184.37 189.217 2186.66 191.995 Q2188.96 194.75 2188.96 200.12 Z\" fill=\"#000000\" fill-rule=\"evenodd\" fill-opacity=\"1\" /><path clip-path=\"url(#clip080)\" d=\"M2201.66 182.481 L2201.66 189.842 L2210.44 189.842 L2210.44 193.152 L2201.66 193.152 L2201.66 207.226 Q2201.66 210.398 2202.52 211.301 Q2203.4 212.203 2206.06 212.203 L2210.44 212.203 L2210.44 215.768 L2206.06 215.768 Q2201.13 215.768 2199.26 213.939 Q2197.38 212.088 2197.38 207.226 L2197.38 193.152 L2194.26 193.152 L2194.26 189.842 L2197.38 189.842 L2197.38 182.481 L2201.66 182.481 Z\" fill=\"#000000\" fill-rule=\"evenodd\" fill-opacity=\"1\" /><path clip-path=\"url(#clip080)\" d=\"M2232.57 190.606 L2232.57 194.634 Q2230.76 193.708 2228.82 193.245 Q2226.87 192.782 2224.79 192.782 Q2221.62 192.782 2220.02 193.754 Q2218.45 194.727 2218.45 196.671 Q2218.45 198.152 2219.58 199.009 Q2220.72 199.842 2224.14 200.606 L2225.6 200.93 Q2230.14 201.902 2232.03 203.685 Q2233.96 205.444 2233.96 208.615 Q2233.96 212.226 2231.09 214.333 Q2228.24 216.439 2223.24 216.439 Q2221.15 216.439 2218.89 216.023 Q2216.64 215.629 2214.14 214.819 L2214.14 210.421 Q2216.5 211.648 2218.79 212.273 Q2221.09 212.875 2223.33 212.875 Q2226.34 212.875 2227.96 211.856 Q2229.58 210.814 2229.58 208.939 Q2229.58 207.203 2228.4 206.277 Q2227.24 205.352 2223.28 204.495 L2221.8 204.148 Q2217.84 203.314 2216.09 201.602 Q2214.33 199.865 2214.33 196.856 Q2214.33 193.199 2216.92 191.208 Q2219.51 189.217 2224.28 189.217 Q2226.64 189.217 2228.72 189.565 Q2230.81 189.912 2232.57 190.606 Z\" fill=\"#000000\" fill-rule=\"evenodd\" fill-opacity=\"1\" /></svg>\n"
      ]
     },
     "execution_count": 67,
     "metadata": {},
     "output_type": "execute_result"
    }
   ],
   "source": [
    "plot(numpirates, globaltemperatures, label=\"line\")  \n",
    "scatter!(numpirates, globaltemperatures, label=\"points\") "
   ]
  },
  {
   "cell_type": "markdown",
   "id": "8385e2ba-fd5c-4bc0-b0ac-656541f50661",
   "metadata": {},
   "source": [
    "`scatter!` 函数名后面的 `!` 意味着它是一个原地修改传入变量的函数，表示散点图会被添加到已存在的图像上。\n",
    "\n",
    "与此对应的，你可以试试换成 `scatter` 看看会发生什么。\n",
    "\n",
    "接着，我们通过 `xlabel!`，`ylabel!` 和 `title!` 函数来给图像加上更多信息。"
   ]
  },
  {
   "cell_type": "code",
   "execution_count": 68,
   "id": "a2ceda02-4b3e-420c-b83f-b14e8d4e8bcb",
   "metadata": {},
   "outputs": [
    {
     "data": {
      "image/svg+xml": [
       "<?xml version=\"1.0\" encoding=\"utf-8\"?>\n",
       "<svg xmlns=\"http://www.w3.org/2000/svg\" xmlns:xlink=\"http://www.w3.org/1999/xlink\" width=\"600\" height=\"400\" viewBox=\"0 0 2400 1600\">\n",
       "<defs>\n",
       "  <clipPath id=\"clip120\">\n",
       "    <rect x=\"0\" y=\"0\" width=\"2400\" height=\"1600\"/>\n",
       "  </clipPath>\n",
       "</defs>\n",
       "<path clip-path=\"url(#clip120)\" d=\"\n",
       "M0 1600 L2400 1600 L2400 0 L0 0  Z\n",
       "  \" fill=\"#ffffff\" fill-rule=\"evenodd\" fill-opacity=\"1\"/>\n",
       "<defs>\n",
       "  <clipPath id=\"clip121\">\n",
       "    <rect x=\"480\" y=\"0\" width=\"1681\" height=\"1600\"/>\n",
       "  </clipPath>\n",
       "</defs>\n",
       "<path clip-path=\"url(#clip120)\" d=\"\n",
       "M277.621 1410.9 L2352.76 1410.9 L2352.76 123.472 L277.621 123.472  Z\n",
       "  \" fill=\"#ffffff\" fill-rule=\"evenodd\" fill-opacity=\"1\"/>\n",
       "<defs>\n",
       "  <clipPath id=\"clip122\">\n",
       "    <rect x=\"277\" y=\"123\" width=\"2076\" height=\"1288\"/>\n",
       "  </clipPath>\n",
       "</defs>\n",
       "<polyline clip-path=\"url(#clip122)\" style=\"stroke:#000000; stroke-linecap:butt; stroke-linejoin:round; stroke-width:2; stroke-opacity:0.1; fill:none\" points=\"\n",
       "  335.611,1410.9 335.611,123.472 \n",
       "  \"/>\n",
       "<polyline clip-path=\"url(#clip122)\" style=\"stroke:#000000; stroke-linecap:butt; stroke-linejoin:round; stroke-width:2; stroke-opacity:0.1; fill:none\" points=\"\n",
       "  770.814,1410.9 770.814,123.472 \n",
       "  \"/>\n",
       "<polyline clip-path=\"url(#clip122)\" style=\"stroke:#000000; stroke-linecap:butt; stroke-linejoin:round; stroke-width:2; stroke-opacity:0.1; fill:none\" points=\"\n",
       "  1206.02,1410.9 1206.02,123.472 \n",
       "  \"/>\n",
       "<polyline clip-path=\"url(#clip122)\" style=\"stroke:#000000; stroke-linecap:butt; stroke-linejoin:round; stroke-width:2; stroke-opacity:0.1; fill:none\" points=\"\n",
       "  1641.22,1410.9 1641.22,123.472 \n",
       "  \"/>\n",
       "<polyline clip-path=\"url(#clip122)\" style=\"stroke:#000000; stroke-linecap:butt; stroke-linejoin:round; stroke-width:2; stroke-opacity:0.1; fill:none\" points=\"\n",
       "  2076.42,1410.9 2076.42,123.472 \n",
       "  \"/>\n",
       "<polyline clip-path=\"url(#clip120)\" style=\"stroke:#000000; stroke-linecap:butt; stroke-linejoin:round; stroke-width:4; stroke-opacity:1; fill:none\" points=\"\n",
       "  277.621,1410.9 2352.76,1410.9 \n",
       "  \"/>\n",
       "<polyline clip-path=\"url(#clip120)\" style=\"stroke:#000000; stroke-linecap:butt; stroke-linejoin:round; stroke-width:4; stroke-opacity:1; fill:none\" points=\"\n",
       "  335.611,1410.9 335.611,1392 \n",
       "  \"/>\n",
       "<polyline clip-path=\"url(#clip120)\" style=\"stroke:#000000; stroke-linecap:butt; stroke-linejoin:round; stroke-width:4; stroke-opacity:1; fill:none\" points=\"\n",
       "  770.814,1410.9 770.814,1392 \n",
       "  \"/>\n",
       "<polyline clip-path=\"url(#clip120)\" style=\"stroke:#000000; stroke-linecap:butt; stroke-linejoin:round; stroke-width:4; stroke-opacity:1; fill:none\" points=\"\n",
       "  1206.02,1410.9 1206.02,1392 \n",
       "  \"/>\n",
       "<polyline clip-path=\"url(#clip120)\" style=\"stroke:#000000; stroke-linecap:butt; stroke-linejoin:round; stroke-width:4; stroke-opacity:1; fill:none\" points=\"\n",
       "  1641.22,1410.9 1641.22,1392 \n",
       "  \"/>\n",
       "<polyline clip-path=\"url(#clip120)\" style=\"stroke:#000000; stroke-linecap:butt; stroke-linejoin:round; stroke-width:4; stroke-opacity:1; fill:none\" points=\"\n",
       "  2076.42,1410.9 2076.42,1392 \n",
       "  \"/>\n",
       "<path clip-path=\"url(#clip120)\" d=\"M335.611 1441.82 Q332 1441.82 330.171 1445.38 Q328.366 1448.92 328.366 1456.05 Q328.366 1463.16 330.171 1466.72 Q332 1470.26 335.611 1470.26 Q339.245 1470.26 341.051 1466.72 Q342.879 1463.16 342.879 1456.05 Q342.879 1448.92 341.051 1445.38 Q339.245 1441.82 335.611 1441.82 M335.611 1438.11 Q341.421 1438.11 344.477 1442.72 Q347.555 1447.3 347.555 1456.05 Q347.555 1464.78 344.477 1469.38 Q341.421 1473.97 335.611 1473.97 Q329.801 1473.97 326.722 1469.38 Q323.667 1464.78 323.667 1456.05 Q323.667 1447.3 326.722 1442.72 Q329.801 1438.11 335.611 1438.11 Z\" fill=\"#000000\" fill-rule=\"evenodd\" fill-opacity=\"1\" /><path clip-path=\"url(#clip120)\" d=\"M677.713 1485.02 L685.352 1485.02 L685.352 1458.66 L677.042 1460.32 L677.042 1456.06 L685.305 1454.4 L689.981 1454.4 L689.981 1485.02 L697.62 1485.02 L697.62 1488.96 L677.713 1488.96 L677.713 1485.02 Z\" fill=\"#000000\" fill-rule=\"evenodd\" fill-opacity=\"1\" /><path clip-path=\"url(#clip120)\" d=\"M707.065 1483.08 L711.949 1483.08 L711.949 1488.96 L707.065 1488.96 L707.065 1483.08 Z\" fill=\"#000000\" fill-rule=\"evenodd\" fill-opacity=\"1\" /><path clip-path=\"url(#clip120)\" d=\"M732.134 1457.48 Q728.523 1457.48 726.694 1461.04 Q724.889 1464.58 724.889 1471.71 Q724.889 1478.82 726.694 1482.38 Q728.523 1485.92 732.134 1485.92 Q735.768 1485.92 737.574 1482.38 Q739.402 1478.82 739.402 1471.71 Q739.402 1464.58 737.574 1461.04 Q735.768 1457.48 732.134 1457.48 M732.134 1453.77 Q737.944 1453.77 741 1458.38 Q744.078 1462.96 744.078 1471.71 Q744.078 1480.44 741 1485.04 Q737.944 1489.63 732.134 1489.63 Q726.324 1489.63 723.245 1485.04 Q720.19 1480.44 720.19 1471.71 Q720.19 1462.96 723.245 1458.38 Q726.324 1453.77 732.134 1453.77 Z\" fill=\"#000000\" fill-rule=\"evenodd\" fill-opacity=\"1\" /><path clip-path=\"url(#clip120)\" d=\"M780.467 1463.49 L769.888 1474.12 L780.467 1484.7 L777.712 1487.5 L767.087 1476.87 L756.462 1487.5 L753.731 1484.7 L764.287 1474.12 L753.731 1463.49 L756.462 1460.69 L767.087 1471.32 L777.712 1460.69 L780.467 1463.49 Z\" fill=\"#000000\" fill-rule=\"evenodd\" fill-opacity=\"1\" /><path clip-path=\"url(#clip120)\" d=\"M792.828 1485.02 L800.467 1485.02 L800.467 1458.66 L792.157 1460.32 L792.157 1456.06 L800.421 1454.4 L805.096 1454.4 L805.096 1485.02 L812.735 1485.02 L812.735 1488.96 L792.828 1488.96 L792.828 1485.02 Z\" fill=\"#000000\" fill-rule=\"evenodd\" fill-opacity=\"1\" /><path clip-path=\"url(#clip120)\" d=\"M832.18 1457.48 Q828.569 1457.48 826.74 1461.04 Q824.934 1464.58 824.934 1471.71 Q824.934 1478.82 826.74 1482.38 Q828.569 1485.92 832.18 1485.92 Q835.814 1485.92 837.619 1482.38 Q839.448 1478.82 839.448 1471.71 Q839.448 1464.58 837.619 1461.04 Q835.814 1457.48 832.18 1457.48 M832.18 1453.77 Q837.99 1453.77 841.045 1458.38 Q844.124 1462.96 844.124 1471.71 Q844.124 1480.44 841.045 1485.04 Q837.99 1489.63 832.18 1489.63 Q826.37 1489.63 823.291 1485.04 Q820.235 1480.44 820.235 1471.71 Q820.235 1462.96 823.291 1458.38 Q826.37 1453.77 832.18 1453.77 Z\" fill=\"#000000\" fill-rule=\"evenodd\" fill-opacity=\"1\" /><path clip-path=\"url(#clip120)\" d=\"M856.8 1436.78 L847.209 1451.77 L856.8 1451.77 L856.8 1436.78 M855.804 1433.47 L860.581 1433.47 L860.581 1451.77 L864.587 1451.77 L864.587 1454.93 L860.581 1454.93 L860.581 1461.55 L856.8 1461.55 L856.8 1454.93 L844.124 1454.93 L844.124 1451.26 L855.804 1433.47 Z\" fill=\"#000000\" fill-rule=\"evenodd\" fill-opacity=\"1\" /><path clip-path=\"url(#clip120)\" d=\"M1117 1485.02 L1133.32 1485.02 L1133.32 1488.96 L1111.38 1488.96 L1111.38 1485.02 Q1114.04 1482.27 1118.62 1477.64 Q1123.23 1472.98 1124.41 1471.64 Q1126.65 1469.12 1127.53 1467.38 Q1128.44 1465.62 1128.44 1463.93 Q1128.44 1461.18 1126.49 1459.44 Q1124.57 1457.71 1121.47 1457.71 Q1119.27 1457.71 1116.82 1458.47 Q1114.39 1459.23 1111.61 1460.79 L1111.61 1456.06 Q1114.43 1454.93 1116.89 1454.35 Q1119.34 1453.77 1121.38 1453.77 Q1126.75 1453.77 1129.94 1456.46 Q1133.14 1459.14 1133.14 1463.63 Q1133.14 1465.76 1132.33 1467.68 Q1131.54 1469.58 1129.43 1472.17 Q1128.85 1472.85 1125.75 1476.06 Q1122.65 1479.26 1117 1485.02 Z\" fill=\"#000000\" fill-rule=\"evenodd\" fill-opacity=\"1\" /><path clip-path=\"url(#clip120)\" d=\"M1143.14 1483.08 L1148.02 1483.08 L1148.02 1488.96 L1143.14 1488.96 L1143.14 1483.08 Z\" fill=\"#000000\" fill-rule=\"evenodd\" fill-opacity=\"1\" /><path clip-path=\"url(#clip120)\" d=\"M1168.21 1457.48 Q1164.59 1457.48 1162.77 1461.04 Q1160.96 1464.58 1160.96 1471.71 Q1160.96 1478.82 1162.77 1482.38 Q1164.59 1485.92 1168.21 1485.92 Q1171.84 1485.92 1173.64 1482.38 Q1175.47 1478.82 1175.47 1471.71 Q1175.47 1464.58 1173.64 1461.04 Q1171.84 1457.48 1168.21 1457.48 M1168.21 1453.77 Q1174.02 1453.77 1177.07 1458.38 Q1180.15 1462.96 1180.15 1471.71 Q1180.15 1480.44 1177.07 1485.04 Q1174.02 1489.63 1168.21 1489.63 Q1162.4 1489.63 1159.32 1485.04 Q1156.26 1480.44 1156.26 1471.71 Q1156.26 1462.96 1159.32 1458.38 Q1162.4 1453.77 1168.21 1453.77 Z\" fill=\"#000000\" fill-rule=\"evenodd\" fill-opacity=\"1\" /><path clip-path=\"url(#clip120)\" d=\"M1216.54 1463.49 L1205.96 1474.12 L1216.54 1484.7 L1213.78 1487.5 L1203.16 1476.87 L1192.53 1487.5 L1189.8 1484.7 L1200.36 1474.12 L1189.8 1463.49 L1192.53 1460.69 L1203.16 1471.32 L1213.78 1460.69 L1216.54 1463.49 Z\" fill=\"#000000\" fill-rule=\"evenodd\" fill-opacity=\"1\" /><path clip-path=\"url(#clip120)\" d=\"M1228.9 1485.02 L1236.54 1485.02 L1236.54 1458.66 L1228.23 1460.32 L1228.23 1456.06 L1236.49 1454.4 L1241.17 1454.4 L1241.17 1485.02 L1248.81 1485.02 L1248.81 1488.96 L1228.9 1488.96 L1228.9 1485.02 Z\" fill=\"#000000\" fill-rule=\"evenodd\" fill-opacity=\"1\" /><path clip-path=\"url(#clip120)\" d=\"M1268.25 1457.48 Q1264.64 1457.48 1262.81 1461.04 Q1261.01 1464.58 1261.01 1471.71 Q1261.01 1478.82 1262.81 1482.38 Q1264.64 1485.92 1268.25 1485.92 Q1271.89 1485.92 1273.69 1482.38 Q1275.52 1478.82 1275.52 1471.71 Q1275.52 1464.58 1273.69 1461.04 Q1271.89 1457.48 1268.25 1457.48 M1268.25 1453.77 Q1274.06 1453.77 1277.12 1458.38 Q1280.2 1462.96 1280.2 1471.71 Q1280.2 1480.44 1277.12 1485.04 Q1274.06 1489.63 1268.25 1489.63 Q1262.44 1489.63 1259.36 1485.04 Q1256.31 1480.44 1256.31 1471.71 Q1256.31 1462.96 1259.36 1458.38 Q1262.44 1453.77 1268.25 1453.77 Z\" fill=\"#000000\" fill-rule=\"evenodd\" fill-opacity=\"1\" /><path clip-path=\"url(#clip120)\" d=\"M1292.87 1436.78 L1283.28 1451.77 L1292.87 1451.77 L1292.87 1436.78 M1291.87 1433.47 L1296.65 1433.47 L1296.65 1451.77 L1300.66 1451.77 L1300.66 1454.93 L1296.65 1454.93 L1296.65 1461.55 L1292.87 1461.55 L1292.87 1454.93 L1280.2 1454.93 L1280.2 1451.26 L1291.87 1433.47 Z\" fill=\"#000000\" fill-rule=\"evenodd\" fill-opacity=\"1\" /><path clip-path=\"url(#clip120)\" d=\"M1562.27 1470.32 Q1565.63 1471.04 1567.51 1473.31 Q1569.4 1475.58 1569.4 1478.91 Q1569.4 1484.03 1565.89 1486.83 Q1562.37 1489.63 1555.89 1489.63 Q1553.71 1489.63 1551.39 1489.19 Q1549.1 1488.77 1546.65 1487.91 L1546.65 1483.4 Q1548.59 1484.54 1550.91 1485.11 Q1553.22 1485.69 1555.75 1485.69 Q1560.14 1485.69 1562.44 1483.96 Q1564.75 1482.22 1564.75 1478.91 Q1564.75 1475.85 1562.6 1474.14 Q1560.47 1472.41 1556.65 1472.41 L1552.62 1472.41 L1552.62 1468.56 L1556.83 1468.56 Q1560.28 1468.56 1562.11 1467.2 Q1563.94 1465.81 1563.94 1463.22 Q1563.94 1460.55 1562.04 1459.14 Q1560.17 1457.71 1556.65 1457.71 Q1554.73 1457.71 1552.53 1458.12 Q1550.33 1458.54 1547.69 1459.42 L1547.69 1455.25 Q1550.35 1454.51 1552.67 1454.14 Q1555.01 1453.77 1557.07 1453.77 Q1562.39 1453.77 1565.49 1456.2 Q1568.59 1458.61 1568.59 1462.73 Q1568.59 1465.6 1566.95 1467.59 Q1565.31 1469.56 1562.27 1470.32 Z\" fill=\"#000000\" fill-rule=\"evenodd\" fill-opacity=\"1\" /><path clip-path=\"url(#clip120)\" d=\"M1578.27 1483.08 L1583.15 1483.08 L1583.15 1488.96 L1578.27 1488.96 L1578.27 1483.08 Z\" fill=\"#000000\" fill-rule=\"evenodd\" fill-opacity=\"1\" /><path clip-path=\"url(#clip120)\" d=\"M1603.34 1457.48 Q1599.73 1457.48 1597.9 1461.04 Q1596.09 1464.58 1596.09 1471.71 Q1596.09 1478.82 1597.9 1482.38 Q1599.73 1485.92 1603.34 1485.92 Q1606.97 1485.92 1608.78 1482.38 Q1610.61 1478.82 1610.61 1471.71 Q1610.61 1464.58 1608.78 1461.04 Q1606.97 1457.48 1603.34 1457.48 M1603.34 1453.77 Q1609.15 1453.77 1612.2 1458.38 Q1615.28 1462.96 1615.28 1471.71 Q1615.28 1480.44 1612.2 1485.04 Q1609.15 1489.63 1603.34 1489.63 Q1597.53 1489.63 1594.45 1485.04 Q1591.39 1480.44 1591.39 1471.71 Q1591.39 1462.96 1594.45 1458.38 Q1597.53 1453.77 1603.34 1453.77 Z\" fill=\"#000000\" fill-rule=\"evenodd\" fill-opacity=\"1\" /><path clip-path=\"url(#clip120)\" d=\"M1651.67 1463.49 L1641.09 1474.12 L1651.67 1484.7 L1648.92 1487.5 L1638.29 1476.87 L1627.67 1487.5 L1624.94 1484.7 L1635.49 1474.12 L1624.94 1463.49 L1627.67 1460.69 L1638.29 1471.32 L1648.92 1460.69 L1651.67 1463.49 Z\" fill=\"#000000\" fill-rule=\"evenodd\" fill-opacity=\"1\" /><path clip-path=\"url(#clip120)\" d=\"M1664.03 1485.02 L1671.67 1485.02 L1671.67 1458.66 L1663.36 1460.32 L1663.36 1456.06 L1671.63 1454.4 L1676.3 1454.4 L1676.3 1485.02 L1683.94 1485.02 L1683.94 1488.96 L1664.03 1488.96 L1664.03 1485.02 Z\" fill=\"#000000\" fill-rule=\"evenodd\" fill-opacity=\"1\" /><path clip-path=\"url(#clip120)\" d=\"M1703.38 1457.48 Q1699.77 1457.48 1697.95 1461.04 Q1696.14 1464.58 1696.14 1471.71 Q1696.14 1478.82 1697.95 1482.38 Q1699.77 1485.92 1703.38 1485.92 Q1707.02 1485.92 1708.82 1482.38 Q1710.65 1478.82 1710.65 1471.71 Q1710.65 1464.58 1708.82 1461.04 Q1707.02 1457.48 1703.38 1457.48 M1703.38 1453.77 Q1709.19 1453.77 1712.25 1458.38 Q1715.33 1462.96 1715.33 1471.71 Q1715.33 1480.44 1712.25 1485.04 Q1709.19 1489.63 1703.38 1489.63 Q1697.57 1489.63 1694.5 1485.04 Q1691.44 1480.44 1691.44 1471.71 Q1691.44 1462.96 1694.5 1458.38 Q1697.57 1453.77 1703.38 1453.77 Z\" fill=\"#000000\" fill-rule=\"evenodd\" fill-opacity=\"1\" /><path clip-path=\"url(#clip120)\" d=\"M1728.01 1436.78 L1718.41 1451.77 L1728.01 1451.77 L1728.01 1436.78 M1727.01 1433.47 L1731.79 1433.47 L1731.79 1451.77 L1735.79 1451.77 L1735.79 1454.93 L1731.79 1454.93 L1731.79 1461.55 L1728.01 1461.55 L1728.01 1454.93 L1715.33 1454.93 L1715.33 1451.26 L1727.01 1433.47 Z\" fill=\"#000000\" fill-rule=\"evenodd\" fill-opacity=\"1\" /><path clip-path=\"url(#clip120)\" d=\"M1996.81 1458.47 L1985 1476.92 L1996.81 1476.92 L1996.81 1458.47 M1995.58 1454.4 L2001.46 1454.4 L2001.46 1476.92 L2006.39 1476.92 L2006.39 1480.81 L2001.46 1480.81 L2001.46 1488.96 L1996.81 1488.96 L1996.81 1480.81 L1981.2 1480.81 L1981.2 1476.29 L1995.58 1454.4 Z\" fill=\"#000000\" fill-rule=\"evenodd\" fill-opacity=\"1\" /><path clip-path=\"url(#clip120)\" d=\"M2014.12 1483.08 L2019.01 1483.08 L2019.01 1488.96 L2014.12 1488.96 L2014.12 1483.08 Z\" fill=\"#000000\" fill-rule=\"evenodd\" fill-opacity=\"1\" /><path clip-path=\"url(#clip120)\" d=\"M2039.19 1457.48 Q2035.58 1457.48 2033.75 1461.04 Q2031.95 1464.58 2031.95 1471.71 Q2031.95 1478.82 2033.75 1482.38 Q2035.58 1485.92 2039.19 1485.92 Q2042.82 1485.92 2044.63 1482.38 Q2046.46 1478.82 2046.46 1471.71 Q2046.46 1464.58 2044.63 1461.04 Q2042.82 1457.48 2039.19 1457.48 M2039.19 1453.77 Q2045 1453.77 2048.06 1458.38 Q2051.13 1462.96 2051.13 1471.71 Q2051.13 1480.44 2048.06 1485.04 Q2045 1489.63 2039.19 1489.63 Q2033.38 1489.63 2030.3 1485.04 Q2027.25 1480.44 2027.25 1471.71 Q2027.25 1462.96 2030.3 1458.38 Q2033.38 1453.77 2039.19 1453.77 Z\" fill=\"#000000\" fill-rule=\"evenodd\" fill-opacity=\"1\" /><path clip-path=\"url(#clip120)\" d=\"M2087.52 1463.49 L2076.94 1474.12 L2087.52 1484.7 L2084.77 1487.5 L2074.14 1476.87 L2063.52 1487.5 L2060.79 1484.7 L2071.34 1474.12 L2060.79 1463.49 L2063.52 1460.69 L2074.14 1471.32 L2084.77 1460.69 L2087.52 1463.49 Z\" fill=\"#000000\" fill-rule=\"evenodd\" fill-opacity=\"1\" /><path clip-path=\"url(#clip120)\" d=\"M2099.88 1485.02 L2107.52 1485.02 L2107.52 1458.66 L2099.21 1460.32 L2099.21 1456.06 L2107.48 1454.4 L2112.15 1454.4 L2112.15 1485.02 L2119.79 1485.02 L2119.79 1488.96 L2099.88 1488.96 L2099.88 1485.02 Z\" fill=\"#000000\" fill-rule=\"evenodd\" fill-opacity=\"1\" /><path clip-path=\"url(#clip120)\" d=\"M2139.24 1457.48 Q2135.63 1457.48 2133.8 1461.04 Q2131.99 1464.58 2131.99 1471.71 Q2131.99 1478.82 2133.8 1482.38 Q2135.63 1485.92 2139.24 1485.92 Q2142.87 1485.92 2144.68 1482.38 Q2146.5 1478.82 2146.5 1471.71 Q2146.5 1464.58 2144.68 1461.04 Q2142.87 1457.48 2139.24 1457.48 M2139.24 1453.77 Q2145.05 1453.77 2148.1 1458.38 Q2151.18 1462.96 2151.18 1471.71 Q2151.18 1480.44 2148.1 1485.04 Q2145.05 1489.63 2139.24 1489.63 Q2133.43 1489.63 2130.35 1485.04 Q2127.29 1480.44 2127.29 1471.71 Q2127.29 1462.96 2130.35 1458.38 Q2133.43 1453.77 2139.24 1453.77 Z\" fill=\"#000000\" fill-rule=\"evenodd\" fill-opacity=\"1\" /><path clip-path=\"url(#clip120)\" d=\"M2163.86 1436.78 L2154.27 1451.77 L2163.86 1451.77 L2163.86 1436.78 M2162.86 1433.47 L2167.64 1433.47 L2167.64 1451.77 L2171.64 1451.77 L2171.64 1454.93 L2167.64 1454.93 L2167.64 1461.55 L2163.86 1461.55 L2163.86 1454.93 L2151.18 1454.93 L2151.18 1451.26 L2162.86 1433.47 Z\" fill=\"#000000\" fill-rule=\"evenodd\" fill-opacity=\"1\" /><path clip-path=\"url(#clip120)\" d=\"M782.967 1526.67 L791.625 1526.67 L812.695 1566.42 L812.695 1526.67 L818.934 1526.67 L818.934 1574.19 L810.276 1574.19 L789.206 1534.43 L789.206 1574.19 L782.967 1574.19 L782.967 1526.67 Z\" fill=\"#000000\" fill-rule=\"evenodd\" fill-opacity=\"1\" /><path clip-path=\"url(#clip120)\" d=\"M830.869 1560.12 L830.869 1538.54 L836.726 1538.54 L836.726 1559.89 Q836.726 1564.96 838.699 1567.5 Q840.673 1570.02 844.619 1570.02 Q849.362 1570.02 852.099 1566.99 Q854.868 1563.97 854.868 1558.75 L854.868 1538.54 L860.725 1538.54 L860.725 1574.19 L854.868 1574.19 L854.868 1568.71 Q852.736 1571.96 849.903 1573.55 Q847.102 1575.11 843.378 1575.11 Q837.235 1575.11 834.052 1571.29 Q830.869 1567.47 830.869 1560.12 M845.606 1537.68 L845.606 1537.68 Z\" fill=\"#000000\" fill-rule=\"evenodd\" fill-opacity=\"1\" /><path clip-path=\"url(#clip120)\" d=\"M900.542 1545.38 Q902.738 1541.43 905.794 1539.56 Q908.849 1537.68 912.987 1537.68 Q918.557 1537.68 921.581 1541.59 Q924.604 1545.48 924.604 1552.67 L924.604 1574.19 L918.716 1574.19 L918.716 1552.86 Q918.716 1547.74 916.902 1545.25 Q915.088 1542.77 911.364 1542.77 Q906.812 1542.77 904.17 1545.79 Q901.529 1548.82 901.529 1554.04 L901.529 1574.19 L895.64 1574.19 L895.64 1552.86 Q895.64 1547.7 893.826 1545.25 Q892.012 1542.77 888.224 1542.77 Q883.737 1542.77 881.095 1545.83 Q878.453 1548.85 878.453 1554.04 L878.453 1574.19 L872.565 1574.19 L872.565 1538.54 L878.453 1538.54 L878.453 1544.08 Q880.458 1540.8 883.259 1539.24 Q886.06 1537.68 889.911 1537.68 Q893.794 1537.68 896.5 1539.65 Q899.237 1541.62 900.542 1545.38 Z\" fill=\"#000000\" fill-rule=\"evenodd\" fill-opacity=\"1\" /><path clip-path=\"url(#clip120)\" d=\"M961.876 1556.39 Q961.876 1549.93 959.202 1546.27 Q956.56 1542.58 951.913 1542.58 Q947.266 1542.58 944.593 1546.27 Q941.951 1549.93 941.951 1556.39 Q941.951 1562.85 944.593 1566.55 Q947.266 1570.21 951.913 1570.21 Q956.56 1570.21 959.202 1566.55 Q961.876 1562.85 961.876 1556.39 M941.951 1543.95 Q943.797 1540.77 946.598 1539.24 Q949.431 1537.68 953.346 1537.68 Q959.839 1537.68 963.881 1542.83 Q967.955 1547.99 967.955 1556.39 Q967.955 1564.8 963.881 1569.95 Q959.839 1575.11 953.346 1575.11 Q949.431 1575.11 946.598 1573.58 Q943.797 1572.02 941.951 1568.84 L941.951 1574.19 L936.063 1574.19 L936.063 1524.66 L941.951 1524.66 L941.951 1543.95 Z\" fill=\"#000000\" fill-rule=\"evenodd\" fill-opacity=\"1\" /><path clip-path=\"url(#clip120)\" d=\"M1008.15 1554.9 L1008.15 1557.76 L981.227 1557.76 Q981.609 1563.81 984.856 1566.99 Q988.134 1570.14 993.959 1570.14 Q997.333 1570.14 1000.48 1569.32 Q1003.67 1568.49 1006.79 1566.83 L1006.79 1572.37 Q1003.63 1573.71 1000.32 1574.41 Q997.014 1575.11 993.609 1575.11 Q985.079 1575.11 980.082 1570.14 Q975.116 1565.18 975.116 1556.71 Q975.116 1547.96 979.827 1542.83 Q984.569 1537.68 992.59 1537.68 Q999.783 1537.68 1003.95 1542.33 Q1008.15 1546.94 1008.15 1554.9 M1002.3 1553.18 Q1002.23 1548.37 999.592 1545.51 Q996.982 1542.64 992.654 1542.64 Q987.752 1542.64 984.792 1545.41 Q981.864 1548.18 981.418 1553.21 L1002.3 1553.18 Z\" fill=\"#000000\" fill-rule=\"evenodd\" fill-opacity=\"1\" /><path clip-path=\"url(#clip120)\" d=\"M1038.42 1544.01 Q1037.44 1543.44 1036.26 1543.18 Q1035.11 1542.9 1033.71 1542.9 Q1028.75 1542.9 1026.07 1546.14 Q1023.43 1549.36 1023.43 1555.41 L1023.43 1574.19 L1017.54 1574.19 L1017.54 1538.54 L1023.43 1538.54 L1023.43 1544.08 Q1025.28 1540.83 1028.24 1539.27 Q1031.2 1537.68 1035.43 1537.68 Q1036.04 1537.68 1036.77 1537.77 Q1037.5 1537.84 1038.39 1538 L1038.42 1544.01 Z\" fill=\"#000000\" fill-rule=\"evenodd\" fill-opacity=\"1\" /><path clip-path=\"url(#clip120)\" d=\"M1079.1 1542.64 Q1074.39 1542.64 1071.65 1546.34 Q1068.91 1550 1068.91 1556.39 Q1068.91 1562.79 1071.62 1566.48 Q1074.36 1570.14 1079.1 1570.14 Q1083.78 1570.14 1086.52 1566.45 Q1089.25 1562.76 1089.25 1556.39 Q1089.25 1550.06 1086.52 1546.37 Q1083.78 1542.64 1079.1 1542.64 M1079.1 1537.68 Q1086.74 1537.68 1091.1 1542.64 Q1095.46 1547.61 1095.46 1556.39 Q1095.46 1565.15 1091.1 1570.14 Q1086.74 1575.11 1079.1 1575.11 Q1071.43 1575.11 1067.07 1570.14 Q1062.74 1565.15 1062.74 1556.39 Q1062.74 1547.61 1067.07 1542.64 Q1071.43 1537.68 1079.1 1537.68 Z\" fill=\"#000000\" fill-rule=\"evenodd\" fill-opacity=\"1\" /><path clip-path=\"url(#clip120)\" d=\"M1123.21 1524.66 L1123.21 1529.53 L1117.61 1529.53 Q1114.46 1529.53 1113.22 1530.8 Q1112.01 1532.08 1112.01 1535.39 L1112.01 1538.54 L1121.65 1538.54 L1121.65 1543.09 L1112.01 1543.09 L1112.01 1574.19 L1106.12 1574.19 L1106.12 1543.09 L1100.52 1543.09 L1100.52 1538.54 L1106.12 1538.54 L1106.12 1536.05 Q1106.12 1530.1 1108.89 1527.4 Q1111.66 1524.66 1117.68 1524.66 L1123.21 1524.66 Z\" fill=\"#000000\" fill-rule=\"evenodd\" fill-opacity=\"1\" /><path clip-path=\"url(#clip120)\" d=\"M1155.52 1531.95 L1155.52 1549.8 L1163.6 1549.8 Q1168.09 1549.8 1170.54 1547.48 Q1172.99 1545.16 1172.99 1540.86 Q1172.99 1536.6 1170.54 1534.27 Q1168.09 1531.95 1163.6 1531.95 L1155.52 1531.95 M1149.09 1526.67 L1163.6 1526.67 Q1171.59 1526.67 1175.67 1530.29 Q1179.77 1533.89 1179.77 1540.86 Q1179.77 1547.9 1175.67 1551.49 Q1171.59 1555.09 1163.6 1555.09 L1155.52 1555.09 L1155.52 1574.19 L1149.09 1574.19 L1149.09 1526.67 Z\" fill=\"#000000\" fill-rule=\"evenodd\" fill-opacity=\"1\" /><path clip-path=\"url(#clip120)\" d=\"M1186.71 1538.54 L1192.57 1538.54 L1192.57 1574.19 L1186.71 1574.19 L1186.71 1538.54 M1186.71 1524.66 L1192.57 1524.66 L1192.57 1532.08 L1186.71 1532.08 L1186.71 1524.66 Z\" fill=\"#000000\" fill-rule=\"evenodd\" fill-opacity=\"1\" /><path clip-path=\"url(#clip120)\" d=\"M1225.48 1544.01 Q1224.49 1543.44 1223.32 1543.18 Q1222.17 1542.9 1220.77 1542.9 Q1215.8 1542.9 1213.13 1546.14 Q1210.49 1549.36 1210.49 1555.41 L1210.49 1574.19 L1204.6 1574.19 L1204.6 1538.54 L1210.49 1538.54 L1210.49 1544.08 Q1212.33 1540.83 1215.29 1539.27 Q1218.25 1537.68 1222.49 1537.68 Q1223.09 1537.68 1223.82 1537.77 Q1224.56 1537.84 1225.45 1538 L1225.48 1544.01 Z\" fill=\"#000000\" fill-rule=\"evenodd\" fill-opacity=\"1\" /><path clip-path=\"url(#clip120)\" d=\"M1247.82 1556.27 Q1240.73 1556.27 1237.99 1557.89 Q1235.25 1559.51 1235.25 1563.43 Q1235.25 1566.55 1237.29 1568.39 Q1239.36 1570.21 1242.89 1570.21 Q1247.76 1570.21 1250.69 1566.77 Q1253.65 1563.3 1253.65 1557.57 L1253.65 1556.27 L1247.82 1556.27 M1259.5 1553.85 L1259.5 1574.19 L1253.65 1574.19 L1253.65 1568.77 Q1251.64 1572.02 1248.65 1573.58 Q1245.66 1575.11 1241.33 1575.11 Q1235.86 1575.11 1232.61 1572.05 Q1229.39 1568.97 1229.39 1563.81 Q1229.39 1557.79 1233.4 1554.74 Q1237.45 1551.68 1245.44 1551.68 L1253.65 1551.68 L1253.65 1551.11 Q1253.65 1547.07 1250.97 1544.87 Q1248.33 1542.64 1243.53 1542.64 Q1240.47 1542.64 1237.57 1543.38 Q1234.68 1544.11 1232 1545.57 L1232 1540.16 Q1235.22 1538.92 1238.24 1538.31 Q1241.27 1537.68 1244.13 1537.68 Q1251.87 1537.68 1255.68 1541.69 Q1259.5 1545.7 1259.5 1553.85 Z\" fill=\"#000000\" fill-rule=\"evenodd\" fill-opacity=\"1\" /><path clip-path=\"url(#clip120)\" d=\"M1277.36 1528.42 L1277.36 1538.54 L1289.42 1538.54 L1289.42 1543.09 L1277.36 1543.09 L1277.36 1562.44 Q1277.36 1566.8 1278.54 1568.04 Q1279.75 1569.28 1283.41 1569.28 L1289.42 1569.28 L1289.42 1574.19 L1283.41 1574.19 Q1276.63 1574.19 1274.05 1571.67 Q1271.47 1569.12 1271.47 1562.44 L1271.47 1543.09 L1267.17 1543.09 L1267.17 1538.54 L1271.47 1538.54 L1271.47 1528.42 L1277.36 1528.42 Z\" fill=\"#000000\" fill-rule=\"evenodd\" fill-opacity=\"1\" /><path clip-path=\"url(#clip120)\" d=\"M1327.62 1554.9 L1327.62 1557.76 L1300.69 1557.76 Q1301.07 1563.81 1304.32 1566.99 Q1307.6 1570.14 1313.42 1570.14 Q1316.8 1570.14 1319.95 1569.32 Q1323.13 1568.49 1326.25 1566.83 L1326.25 1572.37 Q1323.1 1573.71 1319.79 1574.41 Q1316.48 1575.11 1313.07 1575.11 Q1304.54 1575.11 1299.54 1570.14 Q1294.58 1565.18 1294.58 1556.71 Q1294.58 1547.96 1299.29 1542.83 Q1304.03 1537.68 1312.05 1537.68 Q1319.25 1537.68 1323.42 1542.33 Q1327.62 1546.94 1327.62 1554.9 M1321.76 1553.18 Q1321.7 1548.37 1319.06 1545.51 Q1316.45 1542.64 1312.12 1542.64 Q1307.22 1542.64 1304.26 1545.41 Q1301.33 1548.18 1300.88 1553.21 L1321.76 1553.18 Z\" fill=\"#000000\" fill-rule=\"evenodd\" fill-opacity=\"1\" /><path clip-path=\"url(#clip120)\" d=\"M1359.96 1539.59 L1359.96 1545.13 Q1357.47 1543.85 1354.8 1543.22 Q1352.13 1542.58 1349.26 1542.58 Q1344.9 1542.58 1342.7 1543.92 Q1340.54 1545.25 1340.54 1547.93 Q1340.54 1549.96 1342.1 1551.14 Q1343.66 1552.29 1348.37 1553.34 L1350.37 1553.78 Q1356.61 1555.12 1359.22 1557.57 Q1361.86 1559.99 1361.86 1564.35 Q1361.86 1569.32 1357.92 1572.21 Q1354 1575.11 1347.13 1575.11 Q1344.26 1575.11 1341.14 1574.54 Q1338.06 1573.99 1334.62 1572.88 L1334.62 1566.83 Q1337.87 1568.52 1341.02 1569.38 Q1344.17 1570.21 1347.26 1570.21 Q1351.39 1570.21 1353.62 1568.81 Q1355.85 1567.37 1355.85 1564.8 Q1355.85 1562.41 1354.23 1561.14 Q1352.63 1559.86 1347.19 1558.68 L1345.15 1558.21 Q1339.71 1557.06 1337.29 1554.71 Q1334.87 1552.32 1334.87 1548.18 Q1334.87 1543.15 1338.44 1540.42 Q1342 1537.68 1348.56 1537.68 Q1351.81 1537.68 1354.67 1538.16 Q1357.54 1538.63 1359.96 1539.59 Z\" fill=\"#000000\" fill-rule=\"evenodd\" fill-opacity=\"1\" /><path clip-path=\"url(#clip120)\" d=\"M1391.37 1524.66 L1404.87 1524.66 L1404.87 1529.21 L1397.23 1529.21 L1397.23 1578.23 L1404.87 1578.23 L1404.87 1582.78 L1391.37 1582.78 L1391.37 1524.66 Z\" fill=\"#000000\" fill-rule=\"evenodd\" fill-opacity=\"1\" /><path clip-path=\"url(#clip120)\" d=\"M1433.48 1533 L1424.76 1556.65 L1442.23 1556.65 L1433.48 1533 M1429.85 1526.67 L1437.14 1526.67 L1455.25 1574.19 L1448.57 1574.19 L1444.24 1562 L1422.82 1562 L1418.49 1574.19 L1411.71 1574.19 L1429.85 1526.67 Z\" fill=\"#000000\" fill-rule=\"evenodd\" fill-opacity=\"1\" /><path clip-path=\"url(#clip120)\" d=\"M1467.6 1568.84 L1467.6 1587.74 L1461.71 1587.74 L1461.71 1538.54 L1467.6 1538.54 L1467.6 1543.95 Q1469.45 1540.77 1472.25 1539.24 Q1475.08 1537.68 1478.99 1537.68 Q1485.49 1537.68 1489.53 1542.83 Q1493.6 1547.99 1493.6 1556.39 Q1493.6 1564.8 1489.53 1569.95 Q1485.49 1575.11 1478.99 1575.11 Q1475.08 1575.11 1472.25 1573.58 Q1469.45 1572.02 1467.6 1568.84 M1487.52 1556.39 Q1487.52 1549.93 1484.85 1546.27 Q1482.21 1542.58 1477.56 1542.58 Q1472.91 1542.58 1470.24 1546.27 Q1467.6 1549.93 1467.6 1556.39 Q1467.6 1562.85 1470.24 1566.55 Q1472.91 1570.21 1477.56 1570.21 Q1482.21 1570.21 1484.85 1566.55 Q1487.52 1562.85 1487.52 1556.39 Z\" fill=\"#000000\" fill-rule=\"evenodd\" fill-opacity=\"1\" /><path clip-path=\"url(#clip120)\" d=\"M1508.98 1568.84 L1508.98 1587.74 L1503.09 1587.74 L1503.09 1538.54 L1508.98 1538.54 L1508.98 1543.95 Q1510.82 1540.77 1513.62 1539.24 Q1516.46 1537.68 1520.37 1537.68 Q1526.86 1537.68 1530.91 1542.83 Q1534.98 1547.99 1534.98 1556.39 Q1534.98 1564.8 1530.91 1569.95 Q1526.86 1575.11 1520.37 1575.11 Q1516.46 1575.11 1513.62 1573.58 Q1510.82 1572.02 1508.98 1568.84 M1528.9 1556.39 Q1528.9 1549.93 1526.23 1546.27 Q1523.59 1542.58 1518.94 1542.58 Q1514.29 1542.58 1511.62 1546.27 Q1508.98 1549.93 1508.98 1556.39 Q1508.98 1562.85 1511.62 1566.55 Q1514.29 1570.21 1518.94 1570.21 Q1523.59 1570.21 1526.23 1566.55 Q1528.9 1562.85 1528.9 1556.39 Z\" fill=\"#000000\" fill-rule=\"evenodd\" fill-opacity=\"1\" /><path clip-path=\"url(#clip120)\" d=\"M1565.34 1544.01 Q1564.36 1543.44 1563.18 1543.18 Q1562.03 1542.9 1560.63 1542.9 Q1555.67 1542.9 1553 1546.14 Q1550.35 1549.36 1550.35 1555.41 L1550.35 1574.19 L1544.47 1574.19 L1544.47 1538.54 L1550.35 1538.54 L1550.35 1544.08 Q1552.2 1540.83 1555.16 1539.27 Q1558.12 1537.68 1562.35 1537.68 Q1562.96 1537.68 1563.69 1537.77 Q1564.42 1537.84 1565.31 1538 L1565.34 1544.01 Z\" fill=\"#000000\" fill-rule=\"evenodd\" fill-opacity=\"1\" /><path clip-path=\"url(#clip120)\" d=\"M1583.87 1542.64 Q1579.16 1542.64 1576.42 1546.34 Q1573.68 1550 1573.68 1556.39 Q1573.68 1562.79 1576.39 1566.48 Q1579.13 1570.14 1583.87 1570.14 Q1588.55 1570.14 1591.28 1566.45 Q1594.02 1562.76 1594.02 1556.39 Q1594.02 1550.06 1591.28 1546.37 Q1588.55 1542.64 1583.87 1542.64 M1583.87 1537.68 Q1591.51 1537.68 1595.87 1542.64 Q1600.23 1547.61 1600.23 1556.39 Q1600.23 1565.15 1595.87 1570.14 Q1591.51 1575.11 1583.87 1575.11 Q1576.2 1575.11 1571.84 1570.14 Q1567.51 1565.15 1567.51 1556.39 Q1567.51 1547.61 1571.84 1542.64 Q1576.2 1537.68 1583.87 1537.68 Z\" fill=\"#000000\" fill-rule=\"evenodd\" fill-opacity=\"1\" /><path clip-path=\"url(#clip120)\" d=\"M1637.56 1538.54 L1624.67 1555.88 L1638.23 1574.19 L1631.33 1574.19 L1620.95 1560.18 L1610.57 1574.19 L1603.67 1574.19 L1617.51 1555.53 L1604.84 1538.54 L1611.75 1538.54 L1621.2 1551.24 L1630.66 1538.54 L1637.56 1538.54 Z\" fill=\"#000000\" fill-rule=\"evenodd\" fill-opacity=\"1\" /><path clip-path=\"url(#clip120)\" d=\"M1646.51 1538.54 L1652.36 1538.54 L1652.36 1574.19 L1646.51 1574.19 L1646.51 1538.54 M1646.51 1524.66 L1652.36 1524.66 L1652.36 1532.08 L1646.51 1532.08 L1646.51 1524.66 Z\" fill=\"#000000\" fill-rule=\"evenodd\" fill-opacity=\"1\" /><path clip-path=\"url(#clip120)\" d=\"M1692.37 1545.38 Q1694.57 1541.43 1697.62 1539.56 Q1700.68 1537.68 1704.82 1537.68 Q1710.39 1537.68 1713.41 1541.59 Q1716.43 1545.48 1716.43 1552.67 L1716.43 1574.19 L1710.55 1574.19 L1710.55 1552.86 Q1710.55 1547.74 1708.73 1545.25 Q1706.92 1542.77 1703.19 1542.77 Q1698.64 1542.77 1696 1545.79 Q1693.36 1548.82 1693.36 1554.04 L1693.36 1574.19 L1687.47 1574.19 L1687.47 1552.86 Q1687.47 1547.7 1685.66 1545.25 Q1683.84 1542.77 1680.05 1542.77 Q1675.57 1542.77 1672.93 1545.83 Q1670.28 1548.85 1670.28 1554.04 L1670.28 1574.19 L1664.39 1574.19 L1664.39 1538.54 L1670.28 1538.54 L1670.28 1544.08 Q1672.29 1540.8 1675.09 1539.24 Q1677.89 1537.68 1681.74 1537.68 Q1685.62 1537.68 1688.33 1539.65 Q1691.07 1541.62 1692.37 1545.38 Z\" fill=\"#000000\" fill-rule=\"evenodd\" fill-opacity=\"1\" /><path clip-path=\"url(#clip120)\" d=\"M1744.32 1556.27 Q1737.22 1556.27 1734.48 1557.89 Q1731.74 1559.51 1731.74 1563.43 Q1731.74 1566.55 1733.78 1568.39 Q1735.85 1570.21 1739.38 1570.21 Q1744.25 1570.21 1747.18 1566.77 Q1750.14 1563.3 1750.14 1557.57 L1750.14 1556.27 L1744.32 1556.27 M1756 1553.85 L1756 1574.19 L1750.14 1574.19 L1750.14 1568.77 Q1748.14 1572.02 1745.14 1573.58 Q1742.15 1575.11 1737.82 1575.11 Q1732.35 1575.11 1729.1 1572.05 Q1725.89 1568.97 1725.89 1563.81 Q1725.89 1557.79 1729.9 1554.74 Q1733.94 1551.68 1741.93 1551.68 L1750.14 1551.68 L1750.14 1551.11 Q1750.14 1547.07 1747.47 1544.87 Q1744.83 1542.64 1740.02 1542.64 Q1736.96 1542.64 1734.07 1543.38 Q1731.17 1544.11 1728.5 1545.57 L1728.5 1540.16 Q1731.71 1538.92 1734.74 1538.31 Q1737.76 1537.68 1740.62 1537.68 Q1748.36 1537.68 1752.18 1541.69 Q1756 1545.7 1756 1553.85 Z\" fill=\"#000000\" fill-rule=\"evenodd\" fill-opacity=\"1\" /><path clip-path=\"url(#clip120)\" d=\"M1773.85 1528.42 L1773.85 1538.54 L1785.92 1538.54 L1785.92 1543.09 L1773.85 1543.09 L1773.85 1562.44 Q1773.85 1566.8 1775.03 1568.04 Q1776.24 1569.28 1779.9 1569.28 L1785.92 1569.28 L1785.92 1574.19 L1779.9 1574.19 Q1773.12 1574.19 1770.54 1571.67 Q1767.97 1569.12 1767.97 1562.44 L1767.97 1543.09 L1763.67 1543.09 L1763.67 1538.54 L1767.97 1538.54 L1767.97 1528.42 L1773.85 1528.42 Z\" fill=\"#000000\" fill-rule=\"evenodd\" fill-opacity=\"1\" /><path clip-path=\"url(#clip120)\" d=\"M1824.11 1554.9 L1824.11 1557.76 L1797.18 1557.76 Q1797.57 1563.81 1800.81 1566.99 Q1804.09 1570.14 1809.92 1570.14 Q1813.29 1570.14 1816.44 1569.32 Q1819.62 1568.49 1822.74 1566.83 L1822.74 1572.37 Q1819.59 1573.71 1816.28 1574.41 Q1812.97 1575.11 1809.56 1575.11 Q1801.03 1575.11 1796.04 1570.14 Q1791.07 1565.18 1791.07 1556.71 Q1791.07 1547.96 1795.78 1542.83 Q1800.53 1537.68 1808.55 1537.68 Q1815.74 1537.68 1819.91 1542.33 Q1824.11 1546.94 1824.11 1554.9 M1818.25 1553.18 Q1818.19 1548.37 1815.55 1545.51 Q1812.94 1542.64 1808.61 1542.64 Q1803.71 1542.64 1800.75 1545.41 Q1797.82 1548.18 1797.37 1553.21 L1818.25 1553.18 Z\" fill=\"#000000\" fill-rule=\"evenodd\" fill-opacity=\"1\" /><path clip-path=\"url(#clip120)\" d=\"M1847.41 1524.66 L1847.41 1582.78 L1833.91 1582.78 L1833.91 1578.23 L1841.52 1578.23 L1841.52 1529.21 L1833.91 1529.21 L1833.91 1524.66 L1847.41 1524.66 Z\" fill=\"#000000\" fill-rule=\"evenodd\" fill-opacity=\"1\" /><polyline clip-path=\"url(#clip122)\" style=\"stroke:#000000; stroke-linecap:butt; stroke-linejoin:round; stroke-width:2; stroke-opacity:0.1; fill:none\" points=\"\n",
       "  277.621,1287.71 2352.76,1287.71 \n",
       "  \"/>\n",
       "<polyline clip-path=\"url(#clip122)\" style=\"stroke:#000000; stroke-linecap:butt; stroke-linejoin:round; stroke-width:2; stroke-opacity:0.1; fill:none\" points=\"\n",
       "  277.621,1070.82 2352.76,1070.82 \n",
       "  \"/>\n",
       "<polyline clip-path=\"url(#clip122)\" style=\"stroke:#000000; stroke-linecap:butt; stroke-linejoin:round; stroke-width:2; stroke-opacity:0.1; fill:none\" points=\"\n",
       "  277.621,853.938 2352.76,853.938 \n",
       "  \"/>\n",
       "<polyline clip-path=\"url(#clip122)\" style=\"stroke:#000000; stroke-linecap:butt; stroke-linejoin:round; stroke-width:2; stroke-opacity:0.1; fill:none\" points=\"\n",
       "  277.621,637.054 2352.76,637.054 \n",
       "  \"/>\n",
       "<polyline clip-path=\"url(#clip122)\" style=\"stroke:#000000; stroke-linecap:butt; stroke-linejoin:round; stroke-width:2; stroke-opacity:0.1; fill:none\" points=\"\n",
       "  277.621,420.17 2352.76,420.17 \n",
       "  \"/>\n",
       "<polyline clip-path=\"url(#clip122)\" style=\"stroke:#000000; stroke-linecap:butt; stroke-linejoin:round; stroke-width:2; stroke-opacity:0.1; fill:none\" points=\"\n",
       "  277.621,203.286 2352.76,203.286 \n",
       "  \"/>\n",
       "<polyline clip-path=\"url(#clip120)\" style=\"stroke:#000000; stroke-linecap:butt; stroke-linejoin:round; stroke-width:4; stroke-opacity:1; fill:none\" points=\"\n",
       "  277.621,1410.9 277.621,123.472 \n",
       "  \"/>\n",
       "<polyline clip-path=\"url(#clip120)\" style=\"stroke:#000000; stroke-linecap:butt; stroke-linejoin:round; stroke-width:4; stroke-opacity:1; fill:none\" points=\"\n",
       "  277.621,1287.71 296.518,1287.71 \n",
       "  \"/>\n",
       "<polyline clip-path=\"url(#clip120)\" style=\"stroke:#000000; stroke-linecap:butt; stroke-linejoin:round; stroke-width:4; stroke-opacity:1; fill:none\" points=\"\n",
       "  277.621,1070.82 296.518,1070.82 \n",
       "  \"/>\n",
       "<polyline clip-path=\"url(#clip120)\" style=\"stroke:#000000; stroke-linecap:butt; stroke-linejoin:round; stroke-width:4; stroke-opacity:1; fill:none\" points=\"\n",
       "  277.621,853.938 296.518,853.938 \n",
       "  \"/>\n",
       "<polyline clip-path=\"url(#clip120)\" style=\"stroke:#000000; stroke-linecap:butt; stroke-linejoin:round; stroke-width:4; stroke-opacity:1; fill:none\" points=\"\n",
       "  277.621,637.054 296.518,637.054 \n",
       "  \"/>\n",
       "<polyline clip-path=\"url(#clip120)\" style=\"stroke:#000000; stroke-linecap:butt; stroke-linejoin:round; stroke-width:4; stroke-opacity:1; fill:none\" points=\"\n",
       "  277.621,420.17 296.518,420.17 \n",
       "  \"/>\n",
       "<polyline clip-path=\"url(#clip120)\" style=\"stroke:#000000; stroke-linecap:butt; stroke-linejoin:round; stroke-width:4; stroke-opacity:1; fill:none\" points=\"\n",
       "  277.621,203.286 296.518,203.286 \n",
       "  \"/>\n",
       "<path clip-path=\"url(#clip120)\" d=\"M114.931 1301.05 L122.57 1301.05 L122.57 1274.69 L114.26 1276.35 L114.26 1272.09 L122.524 1270.43 L127.2 1270.43 L127.2 1301.05 L134.839 1301.05 L134.839 1304.99 L114.931 1304.99 L114.931 1301.05 Z\" fill=\"#000000\" fill-rule=\"evenodd\" fill-opacity=\"1\" /><path clip-path=\"url(#clip120)\" d=\"M157.13 1274.5 L145.325 1292.95 L157.13 1292.95 L157.13 1274.5 M155.903 1270.43 L161.783 1270.43 L161.783 1292.95 L166.714 1292.95 L166.714 1296.84 L161.783 1296.84 L161.783 1304.99 L157.13 1304.99 L157.13 1296.84 L141.529 1296.84 L141.529 1292.32 L155.903 1270.43 Z\" fill=\"#000000\" fill-rule=\"evenodd\" fill-opacity=\"1\" /><path clip-path=\"url(#clip120)\" d=\"M174.445 1299.11 L179.329 1299.11 L179.329 1304.99 L174.445 1304.99 L174.445 1299.11 Z\" fill=\"#000000\" fill-rule=\"evenodd\" fill-opacity=\"1\" /><path clip-path=\"url(#clip120)\" d=\"M189.561 1270.43 L207.917 1270.43 L207.917 1274.36 L193.843 1274.36 L193.843 1282.83 Q194.862 1282.49 195.88 1282.32 Q196.899 1282.14 197.917 1282.14 Q203.704 1282.14 207.084 1285.31 Q210.463 1288.48 210.463 1293.9 Q210.463 1299.48 206.991 1302.58 Q203.519 1305.66 197.2 1305.66 Q195.024 1305.66 192.755 1305.29 Q190.51 1304.92 188.102 1304.18 L188.102 1299.48 Q190.186 1300.61 192.408 1301.17 Q194.63 1301.72 197.107 1301.72 Q201.112 1301.72 203.449 1299.62 Q205.787 1297.51 205.787 1293.9 Q205.787 1290.29 203.449 1288.18 Q201.112 1286.07 197.107 1286.07 Q195.232 1286.07 193.357 1286.49 Q191.505 1286.91 189.561 1287.79 L189.561 1270.43 Z\" fill=\"#000000\" fill-rule=\"evenodd\" fill-opacity=\"1\" /><path clip-path=\"url(#clip120)\" d=\"M229.676 1273.51 Q226.065 1273.51 224.236 1277.07 Q222.431 1280.61 222.431 1287.74 Q222.431 1294.85 224.236 1298.41 Q226.065 1301.95 229.676 1301.95 Q233.31 1301.95 235.116 1298.41 Q236.945 1294.85 236.945 1287.74 Q236.945 1280.61 235.116 1277.07 Q233.31 1273.51 229.676 1273.51 M229.676 1269.8 Q235.486 1269.8 238.542 1274.41 Q241.621 1278.99 241.621 1287.74 Q241.621 1296.47 238.542 1301.07 Q235.486 1305.66 229.676 1305.66 Q223.866 1305.66 220.787 1301.07 Q217.732 1296.47 217.732 1287.74 Q217.732 1278.99 220.787 1274.41 Q223.866 1269.8 229.676 1269.8 Z\" fill=\"#000000\" fill-rule=\"evenodd\" fill-opacity=\"1\" /><path clip-path=\"url(#clip120)\" d=\"M115.927 1084.17 L123.566 1084.17 L123.566 1057.8 L115.256 1059.47 L115.256 1055.21 L123.519 1053.54 L128.195 1053.54 L128.195 1084.17 L135.834 1084.17 L135.834 1088.1 L115.927 1088.1 L115.927 1084.17 Z\" fill=\"#000000\" fill-rule=\"evenodd\" fill-opacity=\"1\" /><path clip-path=\"url(#clip120)\" d=\"M158.126 1057.62 L146.32 1076.07 L158.126 1076.07 L158.126 1057.62 M156.899 1053.54 L162.778 1053.54 L162.778 1076.07 L167.709 1076.07 L167.709 1079.95 L162.778 1079.95 L162.778 1088.1 L158.126 1088.1 L158.126 1079.95 L142.524 1079.95 L142.524 1075.44 L156.899 1053.54 Z\" fill=\"#000000\" fill-rule=\"evenodd\" fill-opacity=\"1\" /><path clip-path=\"url(#clip120)\" d=\"M175.44 1082.22 L180.325 1082.22 L180.325 1088.1 L175.44 1088.1 L175.44 1082.22 Z\" fill=\"#000000\" fill-rule=\"evenodd\" fill-opacity=\"1\" /><path clip-path=\"url(#clip120)\" d=\"M189.329 1053.54 L211.551 1053.54 L211.551 1055.53 L199.005 1088.1 L194.121 1088.1 L205.926 1057.48 L189.329 1057.48 L189.329 1053.54 Z\" fill=\"#000000\" fill-rule=\"evenodd\" fill-opacity=\"1\" /><path clip-path=\"url(#clip120)\" d=\"M220.718 1053.54 L239.074 1053.54 L239.074 1057.48 L225 1057.48 L225 1065.95 Q226.019 1065.6 227.037 1065.44 Q228.056 1065.26 229.074 1065.26 Q234.861 1065.26 238.241 1068.43 Q241.621 1071.6 241.621 1077.01 Q241.621 1082.59 238.148 1085.69 Q234.676 1088.77 228.357 1088.77 Q226.181 1088.77 223.912 1088.4 Q221.667 1088.03 219.26 1087.29 L219.26 1082.59 Q221.343 1083.73 223.565 1084.28 Q225.787 1084.84 228.264 1084.84 Q232.269 1084.84 234.607 1082.73 Q236.945 1080.63 236.945 1077.01 Q236.945 1073.4 234.607 1071.3 Q232.269 1069.19 228.264 1069.19 Q226.389 1069.19 224.514 1069.61 Q222.662 1070.02 220.718 1070.9 L220.718 1053.54 Z\" fill=\"#000000\" fill-rule=\"evenodd\" fill-opacity=\"1\" /><path clip-path=\"url(#clip120)\" d=\"M114.931 867.283 L122.57 867.283 L122.57 840.917 L114.26 842.584 L114.26 838.325 L122.524 836.658 L127.2 836.658 L127.2 867.283 L134.839 867.283 L134.839 871.218 L114.931 871.218 L114.931 867.283 Z\" fill=\"#000000\" fill-rule=\"evenodd\" fill-opacity=\"1\" /><path clip-path=\"url(#clip120)\" d=\"M144.329 836.658 L162.686 836.658 L162.686 840.593 L148.612 840.593 L148.612 849.065 Q149.63 848.718 150.649 848.556 Q151.667 848.371 152.686 848.371 Q158.473 848.371 161.852 851.542 Q165.232 854.714 165.232 860.13 Q165.232 865.709 161.76 868.811 Q158.288 871.889 151.968 871.889 Q149.792 871.889 147.524 871.519 Q145.279 871.149 142.871 870.408 L142.871 865.709 Q144.954 866.843 147.177 867.399 Q149.399 867.954 151.876 867.954 Q155.88 867.954 158.218 865.848 Q160.556 863.741 160.556 860.13 Q160.556 856.519 158.218 854.413 Q155.88 852.306 151.876 852.306 Q150.001 852.306 148.126 852.723 Q146.274 853.139 144.329 854.019 L144.329 836.658 Z\" fill=\"#000000\" fill-rule=\"evenodd\" fill-opacity=\"1\" /><path clip-path=\"url(#clip120)\" d=\"M174.445 865.338 L179.329 865.338 L179.329 871.218 L174.445 871.218 L174.445 865.338 Z\" fill=\"#000000\" fill-rule=\"evenodd\" fill-opacity=\"1\" /><path clip-path=\"url(#clip120)\" d=\"M199.514 839.737 Q195.903 839.737 194.075 843.302 Q192.269 846.843 192.269 853.973 Q192.269 861.079 194.075 864.644 Q195.903 868.186 199.514 868.186 Q203.149 868.186 204.954 864.644 Q206.783 861.079 206.783 853.973 Q206.783 846.843 204.954 843.302 Q203.149 839.737 199.514 839.737 M199.514 836.033 Q205.324 836.033 208.38 840.64 Q211.459 845.223 211.459 853.973 Q211.459 862.7 208.38 867.306 Q205.324 871.889 199.514 871.889 Q193.704 871.889 190.625 867.306 Q187.57 862.7 187.57 853.973 Q187.57 845.223 190.625 840.64 Q193.704 836.033 199.514 836.033 Z\" fill=\"#000000\" fill-rule=\"evenodd\" fill-opacity=\"1\" /><path clip-path=\"url(#clip120)\" d=\"M229.676 839.737 Q226.065 839.737 224.236 843.302 Q222.431 846.843 222.431 853.973 Q222.431 861.079 224.236 864.644 Q226.065 868.186 229.676 868.186 Q233.31 868.186 235.116 864.644 Q236.945 861.079 236.945 853.973 Q236.945 846.843 235.116 843.302 Q233.31 839.737 229.676 839.737 M229.676 836.033 Q235.486 836.033 238.542 840.64 Q241.621 845.223 241.621 853.973 Q241.621 862.7 238.542 867.306 Q235.486 871.889 229.676 871.889 Q223.866 871.889 220.787 867.306 Q217.732 862.7 217.732 853.973 Q217.732 845.223 220.787 840.64 Q223.866 836.033 229.676 836.033 Z\" fill=\"#000000\" fill-rule=\"evenodd\" fill-opacity=\"1\" /><path clip-path=\"url(#clip120)\" d=\"M115.927 650.399 L123.566 650.399 L123.566 624.033 L115.256 625.7 L115.256 621.441 L123.519 619.774 L128.195 619.774 L128.195 650.399 L135.834 650.399 L135.834 654.334 L115.927 654.334 L115.927 650.399 Z\" fill=\"#000000\" fill-rule=\"evenodd\" fill-opacity=\"1\" /><path clip-path=\"url(#clip120)\" d=\"M145.325 619.774 L163.681 619.774 L163.681 623.709 L149.607 623.709 L149.607 632.181 Q150.626 631.834 151.644 631.672 Q152.663 631.487 153.681 631.487 Q159.468 631.487 162.848 634.658 Q166.227 637.829 166.227 643.246 Q166.227 648.825 162.755 651.926 Q159.283 655.005 152.964 655.005 Q150.788 655.005 148.519 654.635 Q146.274 654.264 143.866 653.524 L143.866 648.825 Q145.95 649.959 148.172 650.514 Q150.394 651.07 152.871 651.07 Q156.876 651.07 159.214 648.964 Q161.552 646.857 161.552 643.246 Q161.552 639.635 159.214 637.528 Q156.876 635.422 152.871 635.422 Q150.996 635.422 149.121 635.839 Q147.269 636.255 145.325 637.135 L145.325 619.774 Z\" fill=\"#000000\" fill-rule=\"evenodd\" fill-opacity=\"1\" /><path clip-path=\"url(#clip120)\" d=\"M175.44 648.454 L180.325 648.454 L180.325 654.334 L175.44 654.334 L175.44 648.454 Z\" fill=\"#000000\" fill-rule=\"evenodd\" fill-opacity=\"1\" /><path clip-path=\"url(#clip120)\" d=\"M194.538 650.399 L210.857 650.399 L210.857 654.334 L188.913 654.334 L188.913 650.399 Q191.575 647.644 196.158 643.014 Q200.764 638.362 201.945 637.019 Q204.19 634.496 205.07 632.76 Q205.973 631.001 205.973 629.311 Q205.973 626.556 204.028 624.82 Q202.107 623.084 199.005 623.084 Q196.806 623.084 194.352 623.848 Q191.922 624.612 189.144 626.163 L189.144 621.441 Q191.968 620.306 194.422 619.728 Q196.875 619.149 198.912 619.149 Q204.283 619.149 207.477 621.834 Q210.672 624.519 210.672 629.01 Q210.672 631.14 209.861 633.061 Q209.074 634.959 206.968 637.552 Q206.389 638.223 203.287 641.44 Q200.186 644.635 194.538 650.399 Z\" fill=\"#000000\" fill-rule=\"evenodd\" fill-opacity=\"1\" /><path clip-path=\"url(#clip120)\" d=\"M220.718 619.774 L239.074 619.774 L239.074 623.709 L225 623.709 L225 632.181 Q226.019 631.834 227.037 631.672 Q228.056 631.487 229.074 631.487 Q234.861 631.487 238.241 634.658 Q241.621 637.829 241.621 643.246 Q241.621 648.825 238.148 651.926 Q234.676 655.005 228.357 655.005 Q226.181 655.005 223.912 654.635 Q221.667 654.264 219.26 653.524 L219.26 648.825 Q221.343 649.959 223.565 650.514 Q225.787 651.07 228.264 651.07 Q232.269 651.07 234.607 648.964 Q236.945 646.857 236.945 643.246 Q236.945 639.635 234.607 637.528 Q232.269 635.422 228.264 635.422 Q226.389 635.422 224.514 635.839 Q222.662 636.255 220.718 637.135 L220.718 619.774 Z\" fill=\"#000000\" fill-rule=\"evenodd\" fill-opacity=\"1\" /><path clip-path=\"url(#clip120)\" d=\"M114.931 433.515 L122.57 433.515 L122.57 407.149 L114.26 408.816 L114.26 404.556 L122.524 402.89 L127.2 402.89 L127.2 433.515 L134.839 433.515 L134.839 437.45 L114.931 437.45 L114.931 433.515 Z\" fill=\"#000000\" fill-rule=\"evenodd\" fill-opacity=\"1\" /><path clip-path=\"url(#clip120)\" d=\"M144.329 402.89 L162.686 402.89 L162.686 406.825 L148.612 406.825 L148.612 415.297 Q149.63 414.95 150.649 414.788 Q151.667 414.603 152.686 414.603 Q158.473 414.603 161.852 417.774 Q165.232 420.945 165.232 426.362 Q165.232 431.94 161.76 435.042 Q158.288 438.121 151.968 438.121 Q149.792 438.121 147.524 437.751 Q145.279 437.38 142.871 436.64 L142.871 431.94 Q144.954 433.075 147.177 433.63 Q149.399 434.186 151.876 434.186 Q155.88 434.186 158.218 432.079 Q160.556 429.973 160.556 426.362 Q160.556 422.751 158.218 420.644 Q155.88 418.538 151.876 418.538 Q150.001 418.538 148.126 418.954 Q146.274 419.371 144.329 420.251 L144.329 402.89 Z\" fill=\"#000000\" fill-rule=\"evenodd\" fill-opacity=\"1\" /><path clip-path=\"url(#clip120)\" d=\"M174.445 431.57 L179.329 431.57 L179.329 437.45 L174.445 437.45 L174.445 431.57 Z\" fill=\"#000000\" fill-rule=\"evenodd\" fill-opacity=\"1\" /><path clip-path=\"url(#clip120)\" d=\"M189.561 402.89 L207.917 402.89 L207.917 406.825 L193.843 406.825 L193.843 415.297 Q194.862 414.95 195.88 414.788 Q196.899 414.603 197.917 414.603 Q203.704 414.603 207.084 417.774 Q210.463 420.945 210.463 426.362 Q210.463 431.94 206.991 435.042 Q203.519 438.121 197.2 438.121 Q195.024 438.121 192.755 437.751 Q190.51 437.38 188.102 436.64 L188.102 431.94 Q190.186 433.075 192.408 433.63 Q194.63 434.186 197.107 434.186 Q201.112 434.186 203.449 432.079 Q205.787 429.973 205.787 426.362 Q205.787 422.751 203.449 420.644 Q201.112 418.538 197.107 418.538 Q195.232 418.538 193.357 418.954 Q191.505 419.371 189.561 420.251 L189.561 402.89 Z\" fill=\"#000000\" fill-rule=\"evenodd\" fill-opacity=\"1\" /><path clip-path=\"url(#clip120)\" d=\"M229.676 405.968 Q226.065 405.968 224.236 409.533 Q222.431 413.075 222.431 420.204 Q222.431 427.311 224.236 430.876 Q226.065 434.417 229.676 434.417 Q233.31 434.417 235.116 430.876 Q236.945 427.311 236.945 420.204 Q236.945 413.075 235.116 409.533 Q233.31 405.968 229.676 405.968 M229.676 402.265 Q235.486 402.265 238.542 406.871 Q241.621 411.454 241.621 420.204 Q241.621 428.931 238.542 433.538 Q235.486 438.121 229.676 438.121 Q223.866 438.121 220.787 433.538 Q217.732 428.931 217.732 420.204 Q217.732 411.454 220.787 406.871 Q223.866 402.265 229.676 402.265 Z\" fill=\"#000000\" fill-rule=\"evenodd\" fill-opacity=\"1\" /><path clip-path=\"url(#clip120)\" d=\"M115.927 216.63 L123.566 216.63 L123.566 190.265 L115.256 191.931 L115.256 187.672 L123.519 186.006 L128.195 186.006 L128.195 216.63 L135.834 216.63 L135.834 220.566 L115.927 220.566 L115.927 216.63 Z\" fill=\"#000000\" fill-rule=\"evenodd\" fill-opacity=\"1\" /><path clip-path=\"url(#clip120)\" d=\"M145.325 186.006 L163.681 186.006 L163.681 189.941 L149.607 189.941 L149.607 198.413 Q150.626 198.066 151.644 197.904 Q152.663 197.718 153.681 197.718 Q159.468 197.718 162.848 200.89 Q166.227 204.061 166.227 209.478 Q166.227 215.056 162.755 218.158 Q159.283 221.237 152.964 221.237 Q150.788 221.237 148.519 220.866 Q146.274 220.496 143.866 219.755 L143.866 215.056 Q145.95 216.191 148.172 216.746 Q150.394 217.302 152.871 217.302 Q156.876 217.302 159.214 215.195 Q161.552 213.089 161.552 209.478 Q161.552 205.867 159.214 203.76 Q156.876 201.654 152.871 201.654 Q150.996 201.654 149.121 202.07 Q147.269 202.487 145.325 203.367 L145.325 186.006 Z\" fill=\"#000000\" fill-rule=\"evenodd\" fill-opacity=\"1\" /><path clip-path=\"url(#clip120)\" d=\"M175.44 214.686 L180.325 214.686 L180.325 220.566 L175.44 220.566 L175.44 214.686 Z\" fill=\"#000000\" fill-rule=\"evenodd\" fill-opacity=\"1\" /><path clip-path=\"url(#clip120)\" d=\"M189.329 186.006 L211.551 186.006 L211.551 187.996 L199.005 220.566 L194.121 220.566 L205.926 189.941 L189.329 189.941 L189.329 186.006 Z\" fill=\"#000000\" fill-rule=\"evenodd\" fill-opacity=\"1\" /><path clip-path=\"url(#clip120)\" d=\"M220.718 186.006 L239.074 186.006 L239.074 189.941 L225 189.941 L225 198.413 Q226.019 198.066 227.037 197.904 Q228.056 197.718 229.074 197.718 Q234.861 197.718 238.241 200.89 Q241.621 204.061 241.621 209.478 Q241.621 215.056 238.148 218.158 Q234.676 221.237 228.357 221.237 Q226.181 221.237 223.912 220.866 Q221.667 220.496 219.26 219.755 L219.26 215.056 Q221.343 216.191 223.565 216.746 Q225.787 217.302 228.264 217.302 Q232.269 217.302 234.607 215.195 Q236.945 213.089 236.945 209.478 Q236.945 205.867 234.607 203.76 Q232.269 201.654 228.264 201.654 Q226.389 201.654 224.514 202.07 Q222.662 202.487 220.718 203.367 L220.718 186.006 Z\" fill=\"#000000\" fill-rule=\"evenodd\" fill-opacity=\"1\" /><path clip-path=\"url(#clip120)\" d=\"M57.2247 1106.75 L44.4614 1106.75 L44.4614 1117.25 L39.1779 1117.25 L39.1779 1100.38 L59.58 1100.38 Q62.2218 1104.11 63.5904 1108.59 Q64.9272 1113.08 64.9272 1118.17 Q64.9272 1129.31 58.4342 1135.62 Q51.9093 1141.89 40.2919 1141.89 Q28.6427 1141.89 22.1496 1135.62 Q15.6248 1129.31 15.6248 1118.17 Q15.6248 1113.53 16.7706 1109.36 Q17.9164 1105.16 20.1444 1101.62 L26.9876 1101.62 Q23.9639 1105.19 22.4361 1109.2 Q20.9083 1113.21 20.9083 1117.63 Q20.9083 1126.35 25.7781 1130.75 Q30.6479 1135.11 40.2919 1135.11 Q49.9041 1135.11 54.7739 1130.75 Q59.6436 1126.35 59.6436 1117.63 Q59.6436 1114.23 59.0707 1111.55 Q58.466 1108.88 57.2247 1106.75 Z\" fill=\"#000000\" fill-rule=\"evenodd\" fill-opacity=\"1\" /><path clip-path=\"url(#clip120)\" d=\"M14.479 1088.89 L14.479 1083.03 L64.0042 1083.03 L64.0042 1088.89 L14.479 1088.89 Z\" fill=\"#000000\" fill-rule=\"evenodd\" fill-opacity=\"1\" /><path clip-path=\"url(#clip120)\" d=\"M32.4621 1056.97 Q32.4621 1061.68 36.1542 1064.42 Q39.8145 1067.15 46.212 1067.15 Q52.6095 1067.15 56.3017 1064.45 Q59.9619 1061.71 59.9619 1056.97 Q59.9619 1052.29 56.2698 1049.55 Q52.5777 1046.81 46.212 1046.81 Q39.8781 1046.81 36.186 1049.55 Q32.4621 1052.29 32.4621 1056.97 M27.4968 1056.97 Q27.4968 1049.33 32.4621 1044.97 Q37.4273 1040.61 46.212 1040.61 Q54.9649 1040.61 59.9619 1044.97 Q64.9272 1049.33 64.9272 1056.97 Q64.9272 1064.64 59.9619 1069 Q54.9649 1073.33 46.212 1073.33 Q37.4273 1073.33 32.4621 1069 Q27.4968 1064.64 27.4968 1056.97 Z\" fill=\"#000000\" fill-rule=\"evenodd\" fill-opacity=\"1\" /><path clip-path=\"url(#clip120)\" d=\"M46.212 1005.31 Q39.7508 1005.31 36.0905 1007.98 Q32.3984 1010.62 32.3984 1015.27 Q32.3984 1019.92 36.0905 1022.59 Q39.7508 1025.23 46.212 1025.23 Q52.6732 1025.23 56.3653 1022.59 Q60.0256 1019.92 60.0256 1015.27 Q60.0256 1010.62 56.3653 1007.98 Q52.6732 1005.31 46.212 1005.31 M33.7671 1025.23 Q30.5842 1023.39 29.0564 1020.59 Q27.4968 1017.75 27.4968 1013.84 Q27.4968 1007.35 32.6531 1003.3 Q37.8093 999.23 46.212 999.23 Q54.6147 999.23 59.771 1003.3 Q64.9272 1007.35 64.9272 1013.84 Q64.9272 1017.75 63.3994 1020.59 Q61.8398 1023.39 58.657 1025.23 L64.0042 1025.23 L64.0042 1031.12 L14.479 1031.12 L14.479 1025.23 L33.7671 1025.23 Z\" fill=\"#000000\" fill-rule=\"evenodd\" fill-opacity=\"1\" /><path clip-path=\"url(#clip120)\" d=\"M46.0847 973.322 Q46.0847 980.42 47.7079 983.157 Q49.3312 985.894 53.2461 985.894 Q56.3653 985.894 58.2114 983.857 Q60.0256 981.788 60.0256 978.255 Q60.0256 973.386 56.5881 970.457 Q53.1188 967.497 47.3897 967.497 L46.0847 967.497 L46.0847 973.322 M43.6657 961.641 L64.0042 961.641 L64.0042 967.497 L58.5933 967.497 Q61.8398 969.502 63.3994 972.494 Q64.9272 975.486 64.9272 979.815 Q64.9272 985.289 61.8716 988.536 Q58.7843 991.751 53.6281 991.751 Q47.6125 991.751 44.5569 987.74 Q41.5014 983.698 41.5014 975.709 L41.5014 967.497 L40.9285 967.497 Q36.8862 967.497 34.6901 970.171 Q32.4621 972.813 32.4621 977.619 Q32.4621 980.674 33.1941 983.571 Q33.9262 986.467 35.3903 989.141 L29.9795 989.141 Q28.7381 985.926 28.1334 982.902 Q27.4968 979.879 27.4968 977.014 Q27.4968 969.28 31.5072 965.46 Q35.5176 961.641 43.6657 961.641 Z\" fill=\"#000000\" fill-rule=\"evenodd\" fill-opacity=\"1\" /><path clip-path=\"url(#clip120)\" d=\"M14.479 949.578 L14.479 943.721 L64.0042 943.721 L64.0042 949.578 L14.479 949.578 Z\" fill=\"#000000\" fill-rule=\"evenodd\" fill-opacity=\"1\" /><path clip-path=\"url(#clip120)\" d=\"M16.4842 917.081 L16.4842 876.881 L21.895 876.881 L21.895 893.751 L64.0042 893.751 L64.0042 900.212 L21.895 900.212 L21.895 917.081 L16.4842 917.081 Z\" fill=\"#000000\" fill-rule=\"evenodd\" fill-opacity=\"1\" /><path clip-path=\"url(#clip120)\" d=\"M44.7161 851.514 L47.5806 851.514 L47.5806 878.441 Q53.6281 878.059 56.8109 874.813 Q59.9619 871.534 59.9619 865.71 Q59.9619 862.336 59.1344 859.185 Q58.3069 856.002 56.6518 852.883 L62.1899 852.883 Q63.5267 856.034 64.227 859.344 Q64.9272 862.654 64.9272 866.06 Q64.9272 874.59 59.9619 879.587 Q54.9967 884.552 46.5303 884.552 Q37.7774 884.552 32.6531 879.841 Q27.4968 875.099 27.4968 867.078 Q27.4968 859.885 32.1438 855.715 Q36.7589 851.514 44.7161 851.514 M42.9973 857.371 Q38.1912 857.434 35.3266 860.076 Q32.4621 862.686 32.4621 867.015 Q32.4621 871.916 35.2312 874.876 Q38.0002 877.804 43.0292 878.25 L42.9973 857.371 Z\" fill=\"#000000\" fill-rule=\"evenodd\" fill-opacity=\"1\" /><path clip-path=\"url(#clip120)\" d=\"M35.1993 814.147 Q31.2526 811.951 29.3747 808.896 Q27.4968 805.84 27.4968 801.702 Q27.4968 796.132 31.4117 793.109 Q35.2948 790.085 42.4881 790.085 L64.0042 790.085 L64.0042 795.973 L42.679 795.973 Q37.5546 795.973 35.072 797.788 Q32.5894 799.602 32.5894 803.326 Q32.5894 807.877 35.6131 810.519 Q38.6368 813.161 43.8567 813.161 L64.0042 813.161 L64.0042 819.049 L42.679 819.049 Q37.5228 819.049 35.072 820.863 Q32.5894 822.677 32.5894 826.465 Q32.5894 830.953 35.6449 833.595 Q38.6686 836.236 43.8567 836.236 L64.0042 836.236 L64.0042 842.125 L28.3562 842.125 L28.3562 836.236 L33.8944 836.236 Q30.616 834.231 29.0564 831.43 Q27.4968 828.629 27.4968 824.778 Q27.4968 820.895 29.4702 818.19 Q31.4436 815.452 35.1993 814.147 Z\" fill=\"#000000\" fill-rule=\"evenodd\" fill-opacity=\"1\" /><path clip-path=\"url(#clip120)\" d=\"M58.657 772.738 L77.5631 772.738 L77.5631 778.627 L28.3562 778.627 L28.3562 772.738 L33.7671 772.738 Q30.5842 770.892 29.0564 768.091 Q27.4968 765.259 27.4968 761.344 Q27.4968 754.851 32.6531 750.809 Q37.8093 746.735 46.212 746.735 Q54.6147 746.735 59.771 750.809 Q64.9272 754.851 64.9272 761.344 Q64.9272 765.259 63.3994 768.091 Q61.8398 770.892 58.657 772.738 M46.212 752.814 Q39.7508 752.814 36.0905 755.487 Q32.3984 758.129 32.3984 762.776 Q32.3984 767.423 36.0905 770.097 Q39.7508 772.738 46.212 772.738 Q52.6732 772.738 56.3653 770.097 Q60.0256 767.423 60.0256 762.776 Q60.0256 758.129 56.3653 755.487 Q52.6732 752.814 46.212 752.814 Z\" fill=\"#000000\" fill-rule=\"evenodd\" fill-opacity=\"1\" /><path clip-path=\"url(#clip120)\" d=\"M44.7161 706.535 L47.5806 706.535 L47.5806 733.462 Q53.6281 733.08 56.8109 729.834 Q59.9619 726.555 59.9619 720.731 Q59.9619 717.357 59.1344 714.206 Q58.3069 711.023 56.6518 707.904 L62.1899 707.904 Q63.5267 711.055 64.227 714.365 Q64.9272 717.675 64.9272 721.081 Q64.9272 729.611 59.9619 734.608 Q54.9967 739.573 46.5303 739.573 Q37.7774 739.573 32.6531 734.863 Q27.4968 730.12 27.4968 722.099 Q27.4968 714.906 32.1438 710.736 Q36.7589 706.535 44.7161 706.535 M42.9973 712.392 Q38.1912 712.455 35.3266 715.097 Q32.4621 717.707 32.4621 722.036 Q32.4621 726.937 35.2312 729.897 Q38.0002 732.825 43.0292 733.271 L42.9973 712.392 Z\" fill=\"#000000\" fill-rule=\"evenodd\" fill-opacity=\"1\" /><path clip-path=\"url(#clip120)\" d=\"M33.8307 676.266 Q33.2578 677.253 33.0032 678.431 Q32.7167 679.576 32.7167 680.977 Q32.7167 685.942 35.9632 688.616 Q39.1779 691.257 45.2253 691.257 L64.0042 691.257 L64.0042 697.146 L28.3562 697.146 L28.3562 691.257 L33.8944 691.257 Q30.6479 689.411 29.0883 686.451 Q27.4968 683.491 27.4968 679.258 Q27.4968 678.653 27.5923 677.921 Q27.656 677.189 27.8151 676.298 L33.8307 676.266 Z\" fill=\"#000000\" fill-rule=\"evenodd\" fill-opacity=\"1\" /><path clip-path=\"url(#clip120)\" d=\"M46.0847 653.923 Q46.0847 661.02 47.7079 663.758 Q49.3312 666.495 53.2461 666.495 Q56.3653 666.495 58.2114 664.458 Q60.0256 662.389 60.0256 658.856 Q60.0256 653.986 56.5881 651.058 Q53.1188 648.098 47.3897 648.098 L46.0847 648.098 L46.0847 653.923 M43.6657 642.241 L64.0042 642.241 L64.0042 648.098 L58.5933 648.098 Q61.8398 650.103 63.3994 653.095 Q64.9272 656.087 64.9272 660.416 Q64.9272 665.89 61.8716 669.137 Q58.7843 672.351 53.6281 672.351 Q47.6125 672.351 44.5569 668.341 Q41.5014 664.299 41.5014 656.31 L41.5014 648.098 L40.9285 648.098 Q36.8862 648.098 34.6901 650.772 Q32.4621 653.413 32.4621 658.219 Q32.4621 661.275 33.1941 664.171 Q33.9262 667.068 35.3903 669.741 L29.9795 669.741 Q28.7381 666.527 28.1334 663.503 Q27.4968 660.479 27.4968 657.615 Q27.4968 649.88 31.5072 646.061 Q35.5176 642.241 43.6657 642.241 Z\" fill=\"#000000\" fill-rule=\"evenodd\" fill-opacity=\"1\" /><path clip-path=\"url(#clip120)\" d=\"M18.2347 624.386 L28.3562 624.386 L28.3562 612.323 L32.9077 612.323 L32.9077 624.386 L52.2594 624.386 Q56.6199 624.386 57.8613 623.208 Q59.1026 621.999 59.1026 618.338 L59.1026 612.323 L64.0042 612.323 L64.0042 618.338 Q64.0042 625.118 61.4897 627.696 Q58.9434 630.274 52.2594 630.274 L32.9077 630.274 L32.9077 634.571 L28.3562 634.571 L28.3562 630.274 L18.2347 630.274 L18.2347 624.386 Z\" fill=\"#000000\" fill-rule=\"evenodd\" fill-opacity=\"1\" /><path clip-path=\"url(#clip120)\" d=\"M49.9359 605.225 L28.3562 605.225 L28.3562 599.368 L49.7131 599.368 Q54.7739 599.368 57.3202 597.395 Q59.8346 595.422 59.8346 591.475 Q59.8346 586.733 56.8109 583.995 Q53.7872 581.226 48.5673 581.226 L28.3562 581.226 L28.3562 575.37 L64.0042 575.37 L64.0042 581.226 L58.5296 581.226 Q61.7762 583.359 63.3676 586.191 Q64.9272 588.992 64.9272 592.716 Q64.9272 598.859 61.1078 602.042 Q57.2883 605.225 49.9359 605.225 M27.4968 590.488 L27.4968 590.488 Z\" fill=\"#000000\" fill-rule=\"evenodd\" fill-opacity=\"1\" /><path clip-path=\"url(#clip120)\" d=\"M33.8307 542.65 Q33.2578 543.637 33.0032 544.814 Q32.7167 545.96 32.7167 547.361 Q32.7167 552.326 35.9632 554.999 Q39.1779 557.641 45.2253 557.641 L64.0042 557.641 L64.0042 563.53 L28.3562 563.53 L28.3562 557.641 L33.8944 557.641 Q30.6479 555.795 29.0883 552.835 Q27.4968 549.875 27.4968 545.642 Q27.4968 545.037 27.5923 544.305 Q27.656 543.573 27.8151 542.682 L33.8307 542.65 Z\" fill=\"#000000\" fill-rule=\"evenodd\" fill-opacity=\"1\" /><path clip-path=\"url(#clip120)\" d=\"M44.7161 507.448 L47.5806 507.448 L47.5806 534.375 Q53.6281 533.993 56.8109 530.746 Q59.9619 527.468 59.9619 521.643 Q59.9619 518.269 59.1344 515.118 Q58.3069 511.935 56.6518 508.816 L62.1899 508.816 Q63.5267 511.967 64.227 515.277 Q64.9272 518.588 64.9272 521.993 Q64.9272 530.523 59.9619 535.52 Q54.9967 540.486 46.5303 540.486 Q37.7774 540.486 32.6531 535.775 Q27.4968 531.033 27.4968 523.012 Q27.4968 515.819 32.1438 511.649 Q36.7589 507.448 44.7161 507.448 M42.9973 513.304 Q38.1912 513.368 35.3266 516.01 Q32.4621 518.619 32.4621 522.948 Q32.4621 527.85 35.2312 530.81 Q38.0002 533.738 43.0292 534.184 L42.9973 513.304 Z\" fill=\"#000000\" fill-rule=\"evenodd\" fill-opacity=\"1\" /><path clip-path=\"url(#clip120)\" d=\"M14.5426 463.047 Q21.8632 467.312 29.0246 469.381 Q36.186 471.45 43.5384 471.45 Q50.8908 471.45 58.1159 469.381 Q65.3091 467.28 72.5979 463.047 L72.5979 468.139 Q65.1182 472.914 57.8931 475.301 Q50.668 477.656 43.5384 477.656 Q36.4406 477.656 29.2474 475.301 Q22.0542 472.946 14.5426 468.139 L14.5426 463.047 Z\" fill=\"#000000\" fill-rule=\"evenodd\" fill-opacity=\"1\" /><path clip-path=\"url(#clip120)\" d=\"M20.1444 415.845 L26.9239 415.845 Q23.9002 419.092 22.4043 422.784 Q20.9083 426.444 20.9083 430.582 Q20.9083 438.73 25.9054 443.059 Q30.8707 447.387 40.2919 447.387 Q49.6813 447.387 54.6784 443.059 Q59.6436 438.73 59.6436 430.582 Q59.6436 426.444 58.1477 422.784 Q56.6518 419.092 53.6281 415.845 L60.3439 415.845 Q62.6355 419.219 63.7814 423.007 Q64.9272 426.762 64.9272 430.964 Q64.9272 441.754 58.3387 447.96 Q51.7183 454.167 40.2919 454.167 Q28.8336 454.167 22.2451 447.96 Q15.6248 441.754 15.6248 430.964 Q15.6248 426.699 16.7706 422.943 Q17.8846 419.155 20.1444 415.845 Z\" fill=\"#000000\" fill-rule=\"evenodd\" fill-opacity=\"1\" /><path clip-path=\"url(#clip120)\" d=\"M14.5426 407.092 L14.5426 402 Q22.0542 397.225 29.2474 394.87 Q36.4406 392.483 43.5384 392.483 Q50.668 392.483 57.8931 394.87 Q65.1182 397.225 72.5979 402 L72.5979 407.092 Q65.3091 402.859 58.1159 400.79 Q50.8908 398.69 43.5384 398.69 Q36.186 398.69 29.0246 400.79 Q21.8632 402.859 14.5426 407.092 Z\" fill=\"#000000\" fill-rule=\"evenodd\" fill-opacity=\"1\" /><path clip-path=\"url(#clip120)\" d=\"M311.597 12.096 L319.78 12.096 L319.78 72.576 L311.597 72.576 L311.597 12.096 Z\" fill=\"#000000\" fill-rule=\"evenodd\" fill-opacity=\"1\" /><path clip-path=\"url(#clip120)\" d=\"M373.454 45.1919 L373.454 72.576 L366.001 72.576 L366.001 45.4349 Q366.001 38.994 363.489 35.7938 Q360.978 32.5936 355.954 32.5936 Q349.919 32.5936 346.435 36.4419 Q342.951 40.2903 342.951 46.9338 L342.951 72.576 L335.457 72.576 L335.457 27.2059 L342.951 27.2059 L342.951 34.2544 Q345.625 30.163 349.23 28.1376 Q352.876 26.1121 357.615 26.1121 Q365.433 26.1121 369.444 30.9732 Q373.454 35.7938 373.454 45.1919 Z\" fill=\"#000000\" fill-rule=\"evenodd\" fill-opacity=\"1\" /><path clip-path=\"url(#clip120)\" d=\"M411.29 9.54393 L411.29 15.7418 L404.16 15.7418 Q400.15 15.7418 398.57 17.3622 Q397.031 18.9825 397.031 23.1955 L397.031 27.2059 L409.305 27.2059 L409.305 32.9987 L397.031 32.9987 L397.031 72.576 L389.536 72.576 L389.536 32.9987 L382.407 32.9987 L382.407 27.2059 L389.536 27.2059 L389.536 24.0462 Q389.536 16.471 393.061 13.0277 Q396.585 9.54393 404.241 9.54393 L411.29 9.54393 Z\" fill=\"#000000\" fill-rule=\"evenodd\" fill-opacity=\"1\" /><path clip-path=\"url(#clip120)\" d=\"M417.528 9.54393 L424.982 9.54393 L424.982 72.576 L417.528 72.576 L417.528 9.54393 Z\" fill=\"#000000\" fill-rule=\"evenodd\" fill-opacity=\"1\" /><path clip-path=\"url(#clip120)\" d=\"M439.808 54.671 L439.808 27.2059 L447.262 27.2059 L447.262 54.3874 Q447.262 60.8284 449.773 64.0691 Q452.285 67.2693 457.308 67.2693 Q463.344 67.2693 466.828 63.421 Q470.352 59.5726 470.352 52.9291 L470.352 27.2059 L477.806 27.2059 L477.806 72.576 L470.352 72.576 L470.352 65.6084 Q467.638 69.7404 464.033 71.7658 Q460.468 73.7508 455.728 73.7508 Q447.91 73.7508 443.859 68.8897 Q439.808 64.0286 439.808 54.671 M458.564 26.1121 L458.564 26.1121 Z\" fill=\"#000000\" fill-rule=\"evenodd\" fill-opacity=\"1\" /><path clip-path=\"url(#clip120)\" d=\"M531.966 48.0275 L531.966 51.6733 L497.696 51.6733 Q498.182 59.3701 502.314 63.421 Q506.486 67.4314 513.899 67.4314 Q518.193 67.4314 522.203 66.3781 Q526.254 65.3249 530.224 63.2184 L530.224 70.267 Q526.214 71.9684 522.001 72.8596 Q517.788 73.7508 513.454 73.7508 Q502.597 73.7508 496.237 67.4314 Q489.918 61.1119 489.918 50.3365 Q489.918 39.1965 495.913 32.6746 Q501.949 26.1121 512.157 26.1121 Q521.312 26.1121 526.619 32.0264 Q531.966 37.9003 531.966 48.0275 M524.513 45.84 Q524.431 39.7232 521.069 36.0774 Q517.747 32.4315 512.238 32.4315 Q506 32.4315 502.233 35.9558 Q498.506 39.4801 497.939 45.8805 L524.513 45.84 Z\" fill=\"#000000\" fill-rule=\"evenodd\" fill-opacity=\"1\" /><path clip-path=\"url(#clip120)\" d=\"M581.914 45.1919 L581.914 72.576 L574.46 72.576 L574.46 45.4349 Q574.46 38.994 571.949 35.7938 Q569.437 32.5936 564.414 32.5936 Q558.378 32.5936 554.894 36.4419 Q551.411 40.2903 551.411 46.9338 L551.411 72.576 L543.916 72.576 L543.916 27.2059 L551.411 27.2059 L551.411 34.2544 Q554.084 30.163 557.689 28.1376 Q561.335 26.1121 566.075 26.1121 Q573.893 26.1121 577.903 30.9732 Q581.914 35.7938 581.914 45.1919 Z\" fill=\"#000000\" fill-rule=\"evenodd\" fill-opacity=\"1\" /><path clip-path=\"url(#clip120)\" d=\"M629.431 28.9478 L629.431 35.9153 Q626.271 34.1734 623.071 33.3227 Q619.911 32.4315 616.671 32.4315 Q609.419 32.4315 605.409 37.0496 Q601.399 41.6271 601.399 49.9314 Q601.399 58.2358 605.409 62.8538 Q609.419 67.4314 616.671 67.4314 Q619.911 67.4314 623.071 66.5807 Q626.271 65.6895 629.431 63.9476 L629.431 70.8341 Q626.312 72.2924 622.949 73.0216 Q619.628 73.7508 615.86 73.7508 Q605.612 73.7508 599.576 67.3098 Q593.54 60.8689 593.54 49.9314 Q593.54 38.832 599.616 32.472 Q605.733 26.1121 616.347 26.1121 Q619.79 26.1121 623.071 26.8413 Q626.352 27.5299 629.431 28.9478 Z\" fill=\"#000000\" fill-rule=\"evenodd\" fill-opacity=\"1\" /><path clip-path=\"url(#clip120)\" d=\"M681.201 48.0275 L681.201 51.6733 L646.931 51.6733 Q647.417 59.3701 651.549 63.421 Q655.721 67.4314 663.134 67.4314 Q667.428 67.4314 671.439 66.3781 Q675.49 65.3249 679.46 63.2184 L679.46 70.267 Q675.449 71.9684 671.236 72.8596 Q667.023 73.7508 662.689 73.7508 Q651.832 73.7508 645.473 67.4314 Q639.153 61.1119 639.153 50.3365 Q639.153 39.1965 645.148 32.6746 Q651.184 26.1121 661.393 26.1121 Q670.548 26.1121 675.854 32.0264 Q681.201 37.9003 681.201 48.0275 M673.748 45.84 Q673.667 39.7232 670.305 36.0774 Q666.983 32.4315 661.474 32.4315 Q655.235 32.4315 651.468 35.9558 Q647.741 39.4801 647.174 45.8805 L673.748 45.84 Z\" fill=\"#000000\" fill-rule=\"evenodd\" fill-opacity=\"1\" /><path clip-path=\"url(#clip120)\" d=\"M737.388 32.4315 Q731.392 32.4315 727.908 37.1306 Q724.425 41.7891 724.425 49.9314 Q724.425 58.0738 727.868 62.7728 Q731.352 67.4314 737.388 67.4314 Q743.342 67.4314 746.826 62.7323 Q750.31 58.0333 750.31 49.9314 Q750.31 41.8701 746.826 37.1711 Q743.342 32.4315 737.388 32.4315 M737.388 26.1121 Q747.11 26.1121 752.659 32.4315 Q758.209 38.7509 758.209 49.9314 Q758.209 61.0714 752.659 67.4314 Q747.11 73.7508 737.388 73.7508 Q727.625 73.7508 722.075 67.4314 Q716.566 61.0714 716.566 49.9314 Q716.566 38.7509 722.075 32.4315 Q727.625 26.1121 737.388 26.1121 Z\" fill=\"#000000\" fill-rule=\"evenodd\" fill-opacity=\"1\" /><path clip-path=\"url(#clip120)\" d=\"M793.533 9.54393 L793.533 15.7418 L786.403 15.7418 Q782.393 15.7418 780.813 17.3622 Q779.274 18.9825 779.274 23.1955 L779.274 27.2059 L791.548 27.2059 L791.548 32.9987 L779.274 32.9987 L779.274 72.576 L771.78 72.576 L771.78 32.9987 L764.65 32.9987 L764.65 27.2059 L771.78 27.2059 L771.78 24.0462 Q771.78 16.471 775.304 13.0277 Q778.828 9.54393 786.484 9.54393 L793.533 9.54393 Z\" fill=\"#000000\" fill-rule=\"evenodd\" fill-opacity=\"1\" /><path clip-path=\"url(#clip120)\" d=\"M833.353 65.7705 L833.353 89.8329 L825.859 89.8329 L825.859 27.2059 L833.353 27.2059 L833.353 34.0924 Q835.703 30.0415 839.268 28.0971 Q842.873 26.1121 847.856 26.1121 Q856.12 26.1121 861.264 32.6746 Q866.449 39.2371 866.449 49.9314 Q866.449 60.6258 861.264 67.1883 Q856.12 73.7508 847.856 73.7508 Q842.873 73.7508 839.268 71.8063 Q835.703 69.8214 833.353 65.7705 M858.712 49.9314 Q858.712 41.7081 855.309 37.0496 Q851.947 32.3505 846.033 32.3505 Q840.118 32.3505 836.716 37.0496 Q833.353 41.7081 833.353 49.9314 Q833.353 58.1548 836.716 62.8538 Q840.118 67.5124 846.033 67.5124 Q851.947 67.5124 855.309 62.8538 Q858.712 58.1548 858.712 49.9314 Z\" fill=\"#000000\" fill-rule=\"evenodd\" fill-opacity=\"1\" /><path clip-path=\"url(#clip120)\" d=\"M878.805 27.2059 L886.258 27.2059 L886.258 72.576 L878.805 72.576 L878.805 27.2059 M878.805 9.54393 L886.258 9.54393 L886.258 18.9825 L878.805 18.9825 L878.805 9.54393 Z\" fill=\"#000000\" fill-rule=\"evenodd\" fill-opacity=\"1\" /><path clip-path=\"url(#clip120)\" d=\"M928.145 34.1734 Q926.889 33.4443 925.39 33.1202 Q923.932 32.7556 922.149 32.7556 Q915.83 32.7556 912.427 36.8875 Q909.065 40.9789 909.065 48.6757 L909.065 72.576 L901.571 72.576 L901.571 27.2059 L909.065 27.2059 L909.065 34.2544 Q911.414 30.1225 915.182 28.1376 Q918.949 26.1121 924.337 26.1121 Q925.106 26.1121 926.038 26.2337 Q926.97 26.3147 928.104 26.5172 L928.145 34.1734 Z\" fill=\"#000000\" fill-rule=\"evenodd\" fill-opacity=\"1\" /><path clip-path=\"url(#clip120)\" d=\"M956.582 49.7694 Q947.548 49.7694 944.065 51.8354 Q940.581 53.9013 940.581 58.8839 Q940.581 62.8538 943.173 65.2034 Q945.807 67.5124 950.303 67.5124 Q956.501 67.5124 960.228 63.1374 Q963.995 58.7219 963.995 51.4303 L963.995 49.7694 L956.582 49.7694 M971.449 46.6907 L971.449 72.576 L963.995 72.576 L963.995 65.6895 Q961.443 69.8214 957.635 71.8063 Q953.827 73.7508 948.318 73.7508 Q941.351 73.7508 937.219 69.8619 Q933.127 65.9325 933.127 59.3701 Q933.127 51.7138 938.231 47.825 Q943.376 43.9361 953.544 43.9361 L963.995 43.9361 L963.995 43.2069 Q963.995 38.0623 960.592 35.2672 Q957.23 32.4315 951.113 32.4315 Q947.224 32.4315 943.538 33.3632 Q939.852 34.295 936.449 36.1584 L936.449 29.2718 Q940.54 27.692 944.389 26.9223 Q948.237 26.1121 951.883 26.1121 Q961.727 26.1121 966.588 31.2163 Q971.449 36.3204 971.449 46.6907 Z\" fill=\"#000000\" fill-rule=\"evenodd\" fill-opacity=\"1\" /><path clip-path=\"url(#clip120)\" d=\"M994.174 14.324 L994.174 27.2059 L1009.53 27.2059 L1009.53 32.9987 L994.174 32.9987 L994.174 57.6282 Q994.174 63.1779 995.673 64.7578 Q997.213 66.3376 1001.87 66.3376 L1009.53 66.3376 L1009.53 72.576 L1001.87 72.576 Q993.243 72.576 989.961 69.3758 Q986.68 66.1351 986.68 57.6282 L986.68 32.9987 L981.211 32.9987 L981.211 27.2059 L986.68 27.2059 L986.68 14.324 L994.174 14.324 Z\" fill=\"#000000\" fill-rule=\"evenodd\" fill-opacity=\"1\" /><path clip-path=\"url(#clip120)\" d=\"M1058.14 48.0275 L1058.14 51.6733 L1023.87 51.6733 Q1024.35 59.3701 1028.49 63.421 Q1032.66 67.4314 1040.07 67.4314 Q1044.37 67.4314 1048.38 66.3781 Q1052.43 65.3249 1056.4 63.2184 L1056.4 70.267 Q1052.39 71.9684 1048.17 72.8596 Q1043.96 73.7508 1039.63 73.7508 Q1028.77 73.7508 1022.41 67.4314 Q1016.09 61.1119 1016.09 50.3365 Q1016.09 39.1965 1022.09 32.6746 Q1028.12 26.1121 1038.33 26.1121 Q1047.48 26.1121 1052.79 32.0264 Q1058.14 37.9003 1058.14 48.0275 M1050.68 45.84 Q1050.6 39.7232 1047.24 36.0774 Q1043.92 32.4315 1038.41 32.4315 Q1032.17 32.4315 1028.4 35.9558 Q1024.68 39.4801 1024.11 45.8805 L1050.68 45.84 Z\" fill=\"#000000\" fill-rule=\"evenodd\" fill-opacity=\"1\" /><path clip-path=\"url(#clip120)\" d=\"M1103.95 65.7705 L1103.95 89.8329 L1096.46 89.8329 L1096.46 27.2059 L1103.95 27.2059 L1103.95 34.0924 Q1106.3 30.0415 1109.87 28.0971 Q1113.47 26.1121 1118.46 26.1121 Q1126.72 26.1121 1131.86 32.6746 Q1137.05 39.2371 1137.05 49.9314 Q1137.05 60.6258 1131.86 67.1883 Q1126.72 73.7508 1118.46 73.7508 Q1113.47 73.7508 1109.87 71.8063 Q1106.3 69.8214 1103.95 65.7705 M1129.31 49.9314 Q1129.31 41.7081 1125.91 37.0496 Q1122.55 32.3505 1116.63 32.3505 Q1110.72 32.3505 1107.32 37.0496 Q1103.95 41.7081 1103.95 49.9314 Q1103.95 58.1548 1107.32 62.8538 Q1110.72 67.5124 1116.63 67.5124 Q1122.55 67.5124 1125.91 62.8538 Q1129.31 58.1548 1129.31 49.9314 Z\" fill=\"#000000\" fill-rule=\"evenodd\" fill-opacity=\"1\" /><path clip-path=\"url(#clip120)\" d=\"M1166.99 32.4315 Q1160.99 32.4315 1157.51 37.1306 Q1154.02 41.7891 1154.02 49.9314 Q1154.02 58.0738 1157.47 62.7728 Q1160.95 67.4314 1166.99 67.4314 Q1172.94 67.4314 1176.42 62.7323 Q1179.91 58.0333 1179.91 49.9314 Q1179.91 41.8701 1176.42 37.1711 Q1172.94 32.4315 1166.99 32.4315 M1166.99 26.1121 Q1176.71 26.1121 1182.26 32.4315 Q1187.81 38.7509 1187.81 49.9314 Q1187.81 61.0714 1182.26 67.4314 Q1176.71 73.7508 1166.99 73.7508 Q1157.22 73.7508 1151.67 67.4314 Q1146.16 61.0714 1146.16 49.9314 Q1146.16 38.7509 1151.67 32.4315 Q1157.22 26.1121 1166.99 26.1121 Z\" fill=\"#000000\" fill-rule=\"evenodd\" fill-opacity=\"1\" /><path clip-path=\"url(#clip120)\" d=\"M1207.37 65.7705 L1207.37 89.8329 L1199.88 89.8329 L1199.88 27.2059 L1207.37 27.2059 L1207.37 34.0924 Q1209.72 30.0415 1213.29 28.0971 Q1216.89 26.1121 1221.88 26.1121 Q1230.14 26.1121 1235.28 32.6746 Q1240.47 39.2371 1240.47 49.9314 Q1240.47 60.6258 1235.28 67.1883 Q1230.14 73.7508 1221.88 73.7508 Q1216.89 73.7508 1213.29 71.8063 Q1209.72 69.8214 1207.37 65.7705 M1232.73 49.9314 Q1232.73 41.7081 1229.33 37.0496 Q1225.97 32.3505 1220.05 32.3505 Q1214.14 32.3505 1210.74 37.0496 Q1207.37 41.7081 1207.37 49.9314 Q1207.37 58.1548 1210.74 62.8538 Q1214.14 67.5124 1220.05 67.5124 Q1225.97 67.5124 1229.33 62.8538 Q1232.73 58.1548 1232.73 49.9314 Z\" fill=\"#000000\" fill-rule=\"evenodd\" fill-opacity=\"1\" /><path clip-path=\"url(#clip120)\" d=\"M1252.05 54.671 L1252.05 27.2059 L1259.51 27.2059 L1259.51 54.3874 Q1259.51 60.8284 1262.02 64.0691 Q1264.53 67.2693 1269.55 67.2693 Q1275.59 67.2693 1279.07 63.421 Q1282.6 59.5726 1282.6 52.9291 L1282.6 27.2059 L1290.05 27.2059 L1290.05 72.576 L1282.6 72.576 L1282.6 65.6084 Q1279.88 69.7404 1276.28 71.7658 Q1272.71 73.7508 1267.97 73.7508 Q1260.16 73.7508 1256.11 68.8897 Q1252.05 64.0286 1252.05 54.671 M1270.81 26.1121 L1270.81 26.1121 Z\" fill=\"#000000\" fill-rule=\"evenodd\" fill-opacity=\"1\" /><path clip-path=\"url(#clip120)\" d=\"M1305.41 9.54393 L1312.86 9.54393 L1312.86 72.576 L1305.41 72.576 L1305.41 9.54393 Z\" fill=\"#000000\" fill-rule=\"evenodd\" fill-opacity=\"1\" /><path clip-path=\"url(#clip120)\" d=\"M1349.07 49.7694 Q1340.04 49.7694 1336.56 51.8354 Q1333.07 53.9013 1333.07 58.8839 Q1333.07 62.8538 1335.67 65.2034 Q1338.3 67.5124 1342.8 67.5124 Q1348.99 67.5124 1352.72 63.1374 Q1356.49 58.7219 1356.49 51.4303 L1356.49 49.7694 L1349.07 49.7694 M1363.94 46.6907 L1363.94 72.576 L1356.49 72.576 L1356.49 65.6895 Q1353.94 69.8214 1350.13 71.8063 Q1346.32 73.7508 1340.81 73.7508 Q1333.84 73.7508 1329.71 69.8619 Q1325.62 65.9325 1325.62 59.3701 Q1325.62 51.7138 1330.72 47.825 Q1335.87 43.9361 1346.04 43.9361 L1356.49 43.9361 L1356.49 43.2069 Q1356.49 38.0623 1353.08 35.2672 Q1349.72 32.4315 1343.61 32.4315 Q1339.72 32.4315 1336.03 33.3632 Q1332.34 34.295 1328.94 36.1584 L1328.94 29.2718 Q1333.03 27.692 1336.88 26.9223 Q1340.73 26.1121 1344.38 26.1121 Q1354.22 26.1121 1359.08 31.2163 Q1363.94 36.3204 1363.94 46.6907 Z\" fill=\"#000000\" fill-rule=\"evenodd\" fill-opacity=\"1\" /><path clip-path=\"url(#clip120)\" d=\"M1386.67 14.324 L1386.67 27.2059 L1402.02 27.2059 L1402.02 32.9987 L1386.67 32.9987 L1386.67 57.6282 Q1386.67 63.1779 1388.17 64.7578 Q1389.7 66.3376 1394.36 66.3376 L1402.02 66.3376 L1402.02 72.576 L1394.36 72.576 Q1385.73 72.576 1382.45 69.3758 Q1379.17 66.1351 1379.17 57.6282 L1379.17 32.9987 L1373.7 32.9987 L1373.7 27.2059 L1379.17 27.2059 L1379.17 14.324 L1386.67 14.324 Z\" fill=\"#000000\" fill-rule=\"evenodd\" fill-opacity=\"1\" /><path clip-path=\"url(#clip120)\" d=\"M1411.82 27.2059 L1419.28 27.2059 L1419.28 72.576 L1411.82 72.576 L1411.82 27.2059 M1411.82 9.54393 L1419.28 9.54393 L1419.28 18.9825 L1411.82 18.9825 L1411.82 9.54393 Z\" fill=\"#000000\" fill-rule=\"evenodd\" fill-opacity=\"1\" /><path clip-path=\"url(#clip120)\" d=\"M1452.45 32.4315 Q1446.46 32.4315 1442.97 37.1306 Q1439.49 41.7891 1439.49 49.9314 Q1439.49 58.0738 1442.93 62.7728 Q1446.42 67.4314 1452.45 67.4314 Q1458.41 67.4314 1461.89 62.7323 Q1465.38 58.0333 1465.38 49.9314 Q1465.38 41.8701 1461.89 37.1711 Q1458.41 32.4315 1452.45 32.4315 M1452.45 26.1121 Q1462.18 26.1121 1467.73 32.4315 Q1473.27 38.7509 1473.27 49.9314 Q1473.27 61.0714 1467.73 67.4314 Q1462.18 73.7508 1452.45 73.7508 Q1442.69 73.7508 1437.14 67.4314 Q1431.63 61.0714 1431.63 49.9314 Q1431.63 38.7509 1437.14 32.4315 Q1442.69 26.1121 1452.45 26.1121 Z\" fill=\"#000000\" fill-rule=\"evenodd\" fill-opacity=\"1\" /><path clip-path=\"url(#clip120)\" d=\"M1523.34 45.1919 L1523.34 72.576 L1515.89 72.576 L1515.89 45.4349 Q1515.89 38.994 1513.38 35.7938 Q1510.87 32.5936 1505.84 32.5936 Q1499.81 32.5936 1496.32 36.4419 Q1492.84 40.2903 1492.84 46.9338 L1492.84 72.576 L1485.35 72.576 L1485.35 27.2059 L1492.84 27.2059 L1492.84 34.2544 Q1495.51 30.163 1499.12 28.1376 Q1502.77 26.1121 1507.5 26.1121 Q1515.32 26.1121 1519.33 30.9732 Q1523.34 35.7938 1523.34 45.1919 Z\" fill=\"#000000\" fill-rule=\"evenodd\" fill-opacity=\"1\" /><path clip-path=\"url(#clip120)\" d=\"M1582.16 32.4315 Q1576.17 32.4315 1572.68 37.1306 Q1569.2 41.7891 1569.2 49.9314 Q1569.2 58.0738 1572.64 62.7728 Q1576.13 67.4314 1582.16 67.4314 Q1588.12 67.4314 1591.6 62.7323 Q1595.09 58.0333 1595.09 49.9314 Q1595.09 41.8701 1591.6 37.1711 Q1588.12 32.4315 1582.16 32.4315 M1582.16 26.1121 Q1591.89 26.1121 1597.43 32.4315 Q1602.98 38.7509 1602.98 49.9314 Q1602.98 61.0714 1597.43 67.4314 Q1591.89 73.7508 1582.16 73.7508 Q1572.4 73.7508 1566.85 67.4314 Q1561.34 61.0714 1561.34 49.9314 Q1561.34 38.7509 1566.85 32.4315 Q1572.4 26.1121 1582.16 26.1121 Z\" fill=\"#000000\" fill-rule=\"evenodd\" fill-opacity=\"1\" /><path clip-path=\"url(#clip120)\" d=\"M1653.05 45.1919 L1653.05 72.576 L1645.6 72.576 L1645.6 45.4349 Q1645.6 38.994 1643.09 35.7938 Q1640.58 32.5936 1635.55 32.5936 Q1629.52 32.5936 1626.03 36.4419 Q1622.55 40.2903 1622.55 46.9338 L1622.55 72.576 L1615.06 72.576 L1615.06 27.2059 L1622.55 27.2059 L1622.55 34.2544 Q1625.22 30.163 1628.83 28.1376 Q1632.48 26.1121 1637.21 26.1121 Q1645.03 26.1121 1649.04 30.9732 Q1653.05 35.7938 1653.05 45.1919 Z\" fill=\"#000000\" fill-rule=\"evenodd\" fill-opacity=\"1\" /><path clip-path=\"url(#clip120)\" d=\"M1724.15 49.3643 Q1724.15 41.2625 1720.79 36.8065 Q1717.46 32.3505 1711.43 32.3505 Q1705.43 32.3505 1702.07 36.8065 Q1698.75 41.2625 1698.75 49.3643 Q1698.75 57.4256 1702.07 61.8816 Q1705.43 66.3376 1711.43 66.3376 Q1717.46 66.3376 1720.79 61.8816 Q1724.15 57.4256 1724.15 49.3643 M1731.6 66.9452 Q1731.6 78.5308 1726.46 84.1616 Q1721.31 89.8329 1710.7 89.8329 Q1706.77 89.8329 1703.29 89.2252 Q1699.8 88.6581 1696.52 87.4428 L1696.52 80.1917 Q1699.8 81.9741 1703 82.8248 Q1706.2 83.6755 1709.52 83.6755 Q1716.86 83.6755 1720.5 79.8271 Q1724.15 76.0193 1724.15 68.282 L1724.15 64.5957 Q1721.84 68.6061 1718.23 70.5911 Q1714.63 72.576 1709.6 72.576 Q1701.26 72.576 1696.16 66.2161 Q1691.05 59.8562 1691.05 49.3643 Q1691.05 38.832 1696.16 32.472 Q1701.26 26.1121 1709.6 26.1121 Q1714.63 26.1121 1718.23 28.0971 Q1721.84 30.082 1724.15 34.0924 L1724.15 27.2059 L1731.6 27.2059 L1731.6 66.9452 Z\" fill=\"#000000\" fill-rule=\"evenodd\" fill-opacity=\"1\" /><path clip-path=\"url(#clip120)\" d=\"M1746.95 9.54393 L1754.41 9.54393 L1754.41 72.576 L1746.95 72.576 L1746.95 9.54393 Z\" fill=\"#000000\" fill-rule=\"evenodd\" fill-opacity=\"1\" /><path clip-path=\"url(#clip120)\" d=\"M1787.58 32.4315 Q1781.59 32.4315 1778.11 37.1306 Q1774.62 41.7891 1774.62 49.9314 Q1774.62 58.0738 1778.06 62.7728 Q1781.55 67.4314 1787.58 67.4314 Q1793.54 67.4314 1797.02 62.7323 Q1800.51 58.0333 1800.51 49.9314 Q1800.51 41.8701 1797.02 37.1711 Q1793.54 32.4315 1787.58 32.4315 M1787.58 26.1121 Q1797.31 26.1121 1802.86 32.4315 Q1808.41 38.7509 1808.41 49.9314 Q1808.41 61.0714 1802.86 67.4314 Q1797.31 73.7508 1787.58 73.7508 Q1777.82 73.7508 1772.27 67.4314 Q1766.76 61.0714 1766.76 49.9314 Q1766.76 38.7509 1772.27 32.4315 Q1777.82 26.1121 1787.58 26.1121 Z\" fill=\"#000000\" fill-rule=\"evenodd\" fill-opacity=\"1\" /><path clip-path=\"url(#clip120)\" d=\"M1853.33 49.9314 Q1853.33 41.7081 1849.93 37.0496 Q1846.57 32.3505 1840.65 32.3505 Q1834.74 32.3505 1831.33 37.0496 Q1827.97 41.7081 1827.97 49.9314 Q1827.97 58.1548 1831.33 62.8538 Q1834.74 67.5124 1840.65 67.5124 Q1846.57 67.5124 1849.93 62.8538 Q1853.33 58.1548 1853.33 49.9314 M1827.97 34.0924 Q1830.32 30.0415 1833.89 28.0971 Q1837.49 26.1121 1842.47 26.1121 Q1850.74 26.1121 1855.88 32.6746 Q1861.07 39.2371 1861.07 49.9314 Q1861.07 60.6258 1855.88 67.1883 Q1850.74 73.7508 1842.47 73.7508 Q1837.49 73.7508 1833.89 71.8063 Q1830.32 69.8214 1827.97 65.7705 L1827.97 72.576 L1820.48 72.576 L1820.48 9.54393 L1827.97 9.54393 L1827.97 34.0924 Z\" fill=\"#000000\" fill-rule=\"evenodd\" fill-opacity=\"1\" /><path clip-path=\"url(#clip120)\" d=\"M1894.04 49.7694 Q1885.01 49.7694 1881.52 51.8354 Q1878.04 53.9013 1878.04 58.8839 Q1878.04 62.8538 1880.63 65.2034 Q1883.27 67.5124 1887.76 67.5124 Q1893.96 67.5124 1897.69 63.1374 Q1901.46 58.7219 1901.46 51.4303 L1901.46 49.7694 L1894.04 49.7694 M1908.91 46.6907 L1908.91 72.576 L1901.46 72.576 L1901.46 65.6895 Q1898.9 69.8214 1895.1 71.8063 Q1891.29 73.7508 1885.78 73.7508 Q1878.81 73.7508 1874.68 69.8619 Q1870.59 65.9325 1870.59 59.3701 Q1870.59 51.7138 1875.69 47.825 Q1880.84 43.9361 1891 43.9361 L1901.46 43.9361 L1901.46 43.2069 Q1901.46 38.0623 1898.05 35.2672 Q1894.69 32.4315 1888.57 32.4315 Q1884.68 32.4315 1881 33.3632 Q1877.31 34.295 1873.91 36.1584 L1873.91 29.2718 Q1878 27.692 1881.85 26.9223 Q1885.7 26.1121 1889.34 26.1121 Q1899.19 26.1121 1904.05 31.2163 Q1908.91 36.3204 1908.91 46.6907 Z\" fill=\"#000000\" fill-rule=\"evenodd\" fill-opacity=\"1\" /><path clip-path=\"url(#clip120)\" d=\"M1924.26 9.54393 L1931.72 9.54393 L1931.72 72.576 L1924.26 72.576 L1924.26 9.54393 Z\" fill=\"#000000\" fill-rule=\"evenodd\" fill-opacity=\"1\" /><path clip-path=\"url(#clip120)\" d=\"M1969.35 27.2059 L1976.8 27.2059 L1986.12 62.6108 L1995.4 27.2059 L2004.19 27.2059 L2013.5 62.6108 L2022.78 27.2059 L2030.23 27.2059 L2018.36 72.576 L2009.57 72.576 L1999.81 35.3887 L1990.01 72.576 L1981.22 72.576 L1969.35 27.2059 Z\" fill=\"#000000\" fill-rule=\"evenodd\" fill-opacity=\"1\" /><path clip-path=\"url(#clip120)\" d=\"M2062.15 49.7694 Q2053.12 49.7694 2049.64 51.8354 Q2046.15 53.9013 2046.15 58.8839 Q2046.15 62.8538 2048.75 65.2034 Q2051.38 67.5124 2055.88 67.5124 Q2062.07 67.5124 2065.8 63.1374 Q2069.57 58.7219 2069.57 51.4303 L2069.57 49.7694 L2062.15 49.7694 M2077.02 46.6907 L2077.02 72.576 L2069.57 72.576 L2069.57 65.6895 Q2067.02 69.8214 2063.21 71.8063 Q2059.4 73.7508 2053.89 73.7508 Q2046.92 73.7508 2042.79 69.8619 Q2038.7 65.9325 2038.7 59.3701 Q2038.7 51.7138 2043.8 47.825 Q2048.95 43.9361 2059.12 43.9361 L2069.57 43.9361 L2069.57 43.2069 Q2069.57 38.0623 2066.17 35.2672 Q2062.8 32.4315 2056.69 32.4315 Q2052.8 32.4315 2049.11 33.3632 Q2045.42 34.295 2042.02 36.1584 L2042.02 29.2718 Q2046.11 27.692 2049.96 26.9223 Q2053.81 26.1121 2057.46 26.1121 Q2067.3 26.1121 2072.16 31.2163 Q2077.02 36.3204 2077.02 46.6907 Z\" fill=\"#000000\" fill-rule=\"evenodd\" fill-opacity=\"1\" /><path clip-path=\"url(#clip120)\" d=\"M2118.66 34.1734 Q2117.41 33.4443 2115.91 33.1202 Q2114.45 32.7556 2112.67 32.7556 Q2106.35 32.7556 2102.95 36.8875 Q2099.59 40.9789 2099.59 48.6757 L2099.59 72.576 L2092.09 72.576 L2092.09 27.2059 L2099.59 27.2059 L2099.59 34.2544 Q2101.93 30.1225 2105.7 28.1376 Q2109.47 26.1121 2114.86 26.1121 Q2115.63 26.1121 2116.56 26.2337 Q2117.49 26.3147 2118.62 26.5172 L2118.66 34.1734 Z\" fill=\"#000000\" fill-rule=\"evenodd\" fill-opacity=\"1\" /><path clip-path=\"url(#clip120)\" d=\"M2160.35 35.9153 Q2163.14 30.8922 2167.03 28.5022 Q2170.92 26.1121 2176.19 26.1121 Q2183.28 26.1121 2187.13 31.0947 Q2190.97 36.0368 2190.97 45.1919 L2190.97 72.576 L2183.48 72.576 L2183.48 45.4349 Q2183.48 38.913 2181.17 35.7533 Q2178.86 32.5936 2174.12 32.5936 Q2168.33 32.5936 2164.97 36.4419 Q2161.6 40.2903 2161.6 46.9338 L2161.6 72.576 L2154.11 72.576 L2154.11 45.4349 Q2154.11 38.8725 2151.8 35.7533 Q2149.49 32.5936 2144.67 32.5936 Q2138.96 32.5936 2135.6 36.4824 Q2132.24 40.3308 2132.24 46.9338 L2132.24 72.576 L2124.74 72.576 L2124.74 27.2059 L2132.24 27.2059 L2132.24 34.2544 Q2134.79 30.082 2138.35 28.0971 Q2141.92 26.1121 2146.82 26.1121 Q2151.76 26.1121 2155.2 28.6237 Q2158.69 31.1352 2160.35 35.9153 Z\" fill=\"#000000\" fill-rule=\"evenodd\" fill-opacity=\"1\" /><path clip-path=\"url(#clip120)\" d=\"M2205.84 27.2059 L2213.29 27.2059 L2213.29 72.576 L2205.84 72.576 L2205.84 27.2059 M2205.84 9.54393 L2213.29 9.54393 L2213.29 18.9825 L2205.84 18.9825 L2205.84 9.54393 Z\" fill=\"#000000\" fill-rule=\"evenodd\" fill-opacity=\"1\" /><path clip-path=\"url(#clip120)\" d=\"M2266.6 45.1919 L2266.6 72.576 L2259.15 72.576 L2259.15 45.4349 Q2259.15 38.994 2256.64 35.7938 Q2254.13 32.5936 2249.1 32.5936 Q2243.07 32.5936 2239.58 36.4419 Q2236.1 40.2903 2236.1 46.9338 L2236.1 72.576 L2228.61 72.576 L2228.61 27.2059 L2236.1 27.2059 L2236.1 34.2544 Q2238.77 30.163 2242.38 28.1376 Q2246.03 26.1121 2250.76 26.1121 Q2258.58 26.1121 2262.59 30.9732 Q2266.6 35.7938 2266.6 45.1919 Z\" fill=\"#000000\" fill-rule=\"evenodd\" fill-opacity=\"1\" /><path clip-path=\"url(#clip120)\" d=\"M2311.33 49.3643 Q2311.33 41.2625 2307.96 36.8065 Q2304.64 32.3505 2298.61 32.3505 Q2292.61 32.3505 2289.25 36.8065 Q2285.93 41.2625 2285.93 49.3643 Q2285.93 57.4256 2289.25 61.8816 Q2292.61 66.3376 2298.61 66.3376 Q2304.64 66.3376 2307.96 61.8816 Q2311.33 57.4256 2311.33 49.3643 M2318.78 66.9452 Q2318.78 78.5308 2313.63 84.1616 Q2308.49 89.8329 2297.88 89.8329 Q2293.95 89.8329 2290.46 89.2252 Q2286.98 88.6581 2283.7 87.4428 L2283.7 80.1917 Q2286.98 81.9741 2290.18 82.8248 Q2293.38 83.6755 2296.7 83.6755 Q2304.03 83.6755 2307.68 79.8271 Q2311.33 76.0193 2311.33 68.282 L2311.33 64.5957 Q2309.02 68.6061 2305.41 70.5911 Q2301.81 72.576 2296.78 72.576 Q2288.44 72.576 2283.33 66.2161 Q2278.23 59.8562 2278.23 49.3643 Q2278.23 38.832 2283.33 32.472 Q2288.44 26.1121 2296.78 26.1121 Q2301.81 26.1121 2305.41 28.0971 Q2309.02 30.082 2311.33 34.0924 L2311.33 27.2059 L2318.78 27.2059 L2318.78 66.9452 Z\" fill=\"#000000\" fill-rule=\"evenodd\" fill-opacity=\"1\" /><polyline clip-path=\"url(#clip122)\" style=\"stroke:#009af9; stroke-linecap:butt; stroke-linejoin:round; stroke-width:4; stroke-opacity:1; fill:none\" points=\"\n",
       "  2294.03,1374.46 1206.02,1287.71 988.416,1027.45 553.213,680.431 353.019,420.17 336.351,159.909 \n",
       "  \"/>\n",
       "<circle clip-path=\"url(#clip122)\" cx=\"2294.03\" cy=\"1374.46\" r=\"14\" fill=\"#e26f46\" fill-rule=\"evenodd\" fill-opacity=\"1\" stroke=\"#000000\" stroke-opacity=\"1\" stroke-width=\"3.2\"/>\n",
       "<circle clip-path=\"url(#clip122)\" cx=\"1206.02\" cy=\"1287.71\" r=\"14\" fill=\"#e26f46\" fill-rule=\"evenodd\" fill-opacity=\"1\" stroke=\"#000000\" stroke-opacity=\"1\" stroke-width=\"3.2\"/>\n",
       "<circle clip-path=\"url(#clip122)\" cx=\"988.416\" cy=\"1027.45\" r=\"14\" fill=\"#e26f46\" fill-rule=\"evenodd\" fill-opacity=\"1\" stroke=\"#000000\" stroke-opacity=\"1\" stroke-width=\"3.2\"/>\n",
       "<circle clip-path=\"url(#clip122)\" cx=\"553.213\" cy=\"680.431\" r=\"14\" fill=\"#e26f46\" fill-rule=\"evenodd\" fill-opacity=\"1\" stroke=\"#000000\" stroke-opacity=\"1\" stroke-width=\"3.2\"/>\n",
       "<circle clip-path=\"url(#clip122)\" cx=\"353.019\" cy=\"420.17\" r=\"14\" fill=\"#e26f46\" fill-rule=\"evenodd\" fill-opacity=\"1\" stroke=\"#000000\" stroke-opacity=\"1\" stroke-width=\"3.2\"/>\n",
       "<circle clip-path=\"url(#clip122)\" cx=\"336.351\" cy=\"159.909\" r=\"14\" fill=\"#e26f46\" fill-rule=\"evenodd\" fill-opacity=\"1\" stroke=\"#000000\" stroke-opacity=\"1\" stroke-width=\"3.2\"/>\n",
       "<path clip-path=\"url(#clip120)\" d=\"\n",
       "M1914.03 321.906 L2283.58 321.906 L2283.58 166.386 L1914.03 166.386  Z\n",
       "  \" fill=\"#ffffff\" fill-rule=\"evenodd\" fill-opacity=\"1\"/>\n",
       "<polyline clip-path=\"url(#clip120)\" style=\"stroke:#000000; stroke-linecap:butt; stroke-linejoin:round; stroke-width:4; stroke-opacity:1; fill:none\" points=\"\n",
       "  1914.03,321.906 2283.58,321.906 2283.58,166.386 1914.03,166.386 1914.03,321.906 \n",
       "  \"/>\n",
       "<polyline clip-path=\"url(#clip120)\" style=\"stroke:#009af9; stroke-linecap:butt; stroke-linejoin:round; stroke-width:4; stroke-opacity:1; fill:none\" points=\"\n",
       "  1937.09,218.226 2075.43,218.226 \n",
       "  \"/>\n",
       "<path clip-path=\"url(#clip120)\" d=\"M2098.49 199.488 L2102.75 199.488 L2102.75 235.506 L2098.49 235.506 L2098.49 199.488 Z\" fill=\"#000000\" fill-rule=\"evenodd\" fill-opacity=\"1\" /><path clip-path=\"url(#clip120)\" d=\"M2111.66 209.58 L2115.92 209.58 L2115.92 235.506 L2111.66 235.506 L2111.66 209.58 M2111.66 199.488 L2115.92 199.488 L2115.92 204.881 L2111.66 204.881 L2111.66 199.488 Z\" fill=\"#000000\" fill-rule=\"evenodd\" fill-opacity=\"1\" /><path clip-path=\"url(#clip120)\" d=\"M2146.38 219.858 L2146.38 235.506 L2142.12 235.506 L2142.12 219.997 Q2142.12 216.317 2140.69 214.488 Q2139.25 212.659 2136.38 212.659 Q2132.93 212.659 2130.94 214.858 Q2128.95 217.057 2128.95 220.854 L2128.95 235.506 L2124.67 235.506 L2124.67 209.58 L2128.95 209.58 L2128.95 213.608 Q2130.48 211.27 2132.54 210.113 Q2134.62 208.955 2137.33 208.955 Q2141.8 208.955 2144.09 211.733 Q2146.38 214.488 2146.38 219.858 Z\" fill=\"#000000\" fill-rule=\"evenodd\" fill-opacity=\"1\" /><path clip-path=\"url(#clip120)\" d=\"M2177.05 221.479 L2177.05 223.562 L2157.47 223.562 Q2157.75 227.96 2160.11 230.275 Q2162.49 232.566 2166.73 232.566 Q2169.18 232.566 2171.48 231.965 Q2173.79 231.363 2176.06 230.159 L2176.06 234.187 Q2173.77 235.159 2171.36 235.668 Q2168.95 236.178 2166.48 236.178 Q2160.27 236.178 2156.64 232.566 Q2153.03 228.955 2153.03 222.798 Q2153.03 216.432 2156.45 212.705 Q2159.9 208.955 2165.73 208.955 Q2170.97 208.955 2174 212.335 Q2177.05 215.692 2177.05 221.479 M2172.8 220.229 Q2172.75 216.733 2170.83 214.65 Q2168.93 212.567 2165.78 212.567 Q2162.22 212.567 2160.06 214.58 Q2157.93 216.594 2157.61 220.252 L2172.8 220.229 Z\" fill=\"#000000\" fill-rule=\"evenodd\" fill-opacity=\"1\" /><circle clip-path=\"url(#clip120)\" cx=\"2006.26\" cy=\"270.066\" r=\"23\" fill=\"#e26f46\" fill-rule=\"evenodd\" fill-opacity=\"1\" stroke=\"#000000\" stroke-opacity=\"1\" stroke-width=\"5.12\"/>\n",
       "<path clip-path=\"url(#clip120)\" d=\"M2102.77 283.457 L2102.77 297.207 L2098.49 297.207 L2098.49 261.42 L2102.77 261.42 L2102.77 265.356 Q2104.11 263.041 2106.15 261.93 Q2108.21 260.795 2111.06 260.795 Q2115.78 260.795 2118.72 264.545 Q2121.68 268.295 2121.68 274.407 Q2121.68 280.518 2118.72 284.268 Q2115.78 288.018 2111.06 288.018 Q2108.21 288.018 2106.15 286.906 Q2104.11 285.772 2102.77 283.457 M2117.26 274.407 Q2117.26 269.707 2115.32 267.045 Q2113.4 264.36 2110.02 264.36 Q2106.64 264.36 2104.69 267.045 Q2102.77 269.707 2102.77 274.407 Q2102.77 279.106 2104.69 281.791 Q2106.64 284.453 2110.02 284.453 Q2113.4 284.453 2115.32 281.791 Q2117.26 279.106 2117.26 274.407 Z\" fill=\"#000000\" fill-rule=\"evenodd\" fill-opacity=\"1\" /><path clip-path=\"url(#clip120)\" d=\"M2138.79 264.407 Q2135.36 264.407 2133.37 267.092 Q2131.38 269.754 2131.38 274.407 Q2131.38 279.059 2133.35 281.744 Q2135.34 284.406 2138.79 284.406 Q2142.19 284.406 2144.18 281.721 Q2146.17 279.036 2146.17 274.407 Q2146.17 269.8 2144.18 267.115 Q2142.19 264.407 2138.79 264.407 M2138.79 260.795 Q2144.35 260.795 2147.52 264.407 Q2150.69 268.018 2150.69 274.407 Q2150.69 280.772 2147.52 284.406 Q2144.35 288.018 2138.79 288.018 Q2133.21 288.018 2130.04 284.406 Q2126.89 280.772 2126.89 274.407 Q2126.89 268.018 2130.04 264.407 Q2133.21 260.795 2138.79 260.795 Z\" fill=\"#000000\" fill-rule=\"evenodd\" fill-opacity=\"1\" /><path clip-path=\"url(#clip120)\" d=\"M2157.75 261.42 L2162.01 261.42 L2162.01 287.346 L2157.75 287.346 L2157.75 261.42 M2157.75 251.328 L2162.01 251.328 L2162.01 256.721 L2157.75 256.721 L2157.75 251.328 Z\" fill=\"#000000\" fill-rule=\"evenodd\" fill-opacity=\"1\" /><path clip-path=\"url(#clip120)\" d=\"M2192.47 271.698 L2192.47 287.346 L2188.21 287.346 L2188.21 271.837 Q2188.21 268.157 2186.78 266.328 Q2185.34 264.499 2182.47 264.499 Q2179.02 264.499 2177.03 266.698 Q2175.04 268.897 2175.04 272.694 L2175.04 287.346 L2170.76 287.346 L2170.76 261.42 L2175.04 261.42 L2175.04 265.448 Q2176.57 263.11 2178.63 261.953 Q2180.71 260.795 2183.42 260.795 Q2187.89 260.795 2190.18 263.573 Q2192.47 266.328 2192.47 271.698 Z\" fill=\"#000000\" fill-rule=\"evenodd\" fill-opacity=\"1\" /><path clip-path=\"url(#clip120)\" d=\"M2205.18 254.059 L2205.18 261.42 L2213.95 261.42 L2213.95 264.731 L2205.18 264.731 L2205.18 278.805 Q2205.18 281.976 2206.04 282.879 Q2206.92 283.781 2209.58 283.781 L2213.95 283.781 L2213.95 287.346 L2209.58 287.346 Q2204.65 287.346 2202.77 285.518 Q2200.9 283.666 2200.9 278.805 L2200.9 264.731 L2197.77 264.731 L2197.77 261.42 L2200.9 261.42 L2200.9 254.059 L2205.18 254.059 Z\" fill=\"#000000\" fill-rule=\"evenodd\" fill-opacity=\"1\" /><path clip-path=\"url(#clip120)\" d=\"M2236.08 262.184 L2236.08 266.212 Q2234.28 265.286 2232.33 264.823 Q2230.39 264.36 2228.3 264.36 Q2225.13 264.36 2223.54 265.333 Q2221.96 266.305 2221.96 268.249 Q2221.96 269.731 2223.1 270.587 Q2224.23 271.42 2227.66 272.184 L2229.11 272.508 Q2233.65 273.481 2235.55 275.263 Q2237.47 277.022 2237.47 280.194 Q2237.47 283.805 2234.6 285.911 Q2231.75 288.018 2226.75 288.018 Q2224.67 288.018 2222.4 287.601 Q2220.16 287.207 2217.66 286.397 L2217.66 281.999 Q2220.02 283.226 2222.31 283.851 Q2224.6 284.453 2226.85 284.453 Q2229.85 284.453 2231.48 283.434 Q2233.1 282.393 2233.1 280.518 Q2233.1 278.782 2231.92 277.856 Q2230.76 276.93 2226.8 276.073 L2225.32 275.726 Q2221.36 274.893 2219.6 273.18 Q2217.84 271.444 2217.84 268.434 Q2217.84 264.777 2220.43 262.786 Q2223.03 260.795 2227.79 260.795 Q2230.16 260.795 2232.24 261.143 Q2234.32 261.49 2236.08 262.184 Z\" fill=\"#000000\" fill-rule=\"evenodd\" fill-opacity=\"1\" /></svg>\n"
      ]
     },
     "execution_count": 68,
     "metadata": {},
     "output_type": "execute_result"
    }
   ],
   "source": [
    "xlabel!(\"Number of Pirates [Approximate]\")\n",
    "ylabel!(\"Global Temperature (C)\")\n",
    "title!(\"Influence of pirate population on global warming\")"
   ]
  },
  {
   "cell_type": "markdown",
   "id": "06bbcd26-274b-4344-b6a1-640cc660eeea",
   "metadata": {},
   "source": [
    "这看上去仍不对劲。自1860以来海盗数量是减少的，而从左往右看其实时间上是倒序的。\n",
    "我们来把 X 轴反过来，可以更清楚地看到时间顺序下海盗人口是如何导致全球温度的变化！"
   ]
  },
  {
   "cell_type": "code",
   "execution_count": 69,
   "id": "6c8430d6-b348-46d5-85de-e82e9dad7d5e",
   "metadata": {},
   "outputs": [
    {
     "data": {
      "image/svg+xml": [
       "<?xml version=\"1.0\" encoding=\"utf-8\"?>\n",
       "<svg xmlns=\"http://www.w3.org/2000/svg\" xmlns:xlink=\"http://www.w3.org/1999/xlink\" width=\"600\" height=\"400\" viewBox=\"0 0 2400 1600\">\n",
       "<defs>\n",
       "  <clipPath id=\"clip160\">\n",
       "    <rect x=\"0\" y=\"0\" width=\"2400\" height=\"1600\"/>\n",
       "  </clipPath>\n",
       "</defs>\n",
       "<path clip-path=\"url(#clip160)\" d=\"\n",
       "M0 1600 L2400 1600 L2400 0 L0 0  Z\n",
       "  \" fill=\"#ffffff\" fill-rule=\"evenodd\" fill-opacity=\"1\"/>\n",
       "<defs>\n",
       "  <clipPath id=\"clip161\">\n",
       "    <rect x=\"480\" y=\"0\" width=\"1681\" height=\"1600\"/>\n",
       "  </clipPath>\n",
       "</defs>\n",
       "<path clip-path=\"url(#clip160)\" d=\"\n",
       "M277.621 1410.9 L2352.76 1410.9 L2352.76 123.472 L277.621 123.472  Z\n",
       "  \" fill=\"#ffffff\" fill-rule=\"evenodd\" fill-opacity=\"1\"/>\n",
       "<defs>\n",
       "  <clipPath id=\"clip162\">\n",
       "    <rect x=\"277\" y=\"123\" width=\"2076\" height=\"1288\"/>\n",
       "  </clipPath>\n",
       "</defs>\n",
       "<polyline clip-path=\"url(#clip162)\" style=\"stroke:#000000; stroke-linecap:butt; stroke-linejoin:round; stroke-width:2; stroke-opacity:0.1; fill:none\" points=\"\n",
       "  2294.77,1410.9 2294.77,123.472 \n",
       "  \"/>\n",
       "<polyline clip-path=\"url(#clip162)\" style=\"stroke:#000000; stroke-linecap:butt; stroke-linejoin:round; stroke-width:2; stroke-opacity:0.1; fill:none\" points=\"\n",
       "  1859.56,1410.9 1859.56,123.472 \n",
       "  \"/>\n",
       "<polyline clip-path=\"url(#clip162)\" style=\"stroke:#000000; stroke-linecap:butt; stroke-linejoin:round; stroke-width:2; stroke-opacity:0.1; fill:none\" points=\"\n",
       "  1424.36,1410.9 1424.36,123.472 \n",
       "  \"/>\n",
       "<polyline clip-path=\"url(#clip162)\" style=\"stroke:#000000; stroke-linecap:butt; stroke-linejoin:round; stroke-width:2; stroke-opacity:0.1; fill:none\" points=\"\n",
       "  989.156,1410.9 989.156,123.472 \n",
       "  \"/>\n",
       "<polyline clip-path=\"url(#clip162)\" style=\"stroke:#000000; stroke-linecap:butt; stroke-linejoin:round; stroke-width:2; stroke-opacity:0.1; fill:none\" points=\"\n",
       "  553.952,1410.9 553.952,123.472 \n",
       "  \"/>\n",
       "<polyline clip-path=\"url(#clip160)\" style=\"stroke:#000000; stroke-linecap:butt; stroke-linejoin:round; stroke-width:4; stroke-opacity:1; fill:none\" points=\"\n",
       "  2352.76,1410.9 277.621,1410.9 \n",
       "  \"/>\n",
       "<polyline clip-path=\"url(#clip160)\" style=\"stroke:#000000; stroke-linecap:butt; stroke-linejoin:round; stroke-width:4; stroke-opacity:1; fill:none\" points=\"\n",
       "  2294.77,1410.9 2294.77,1392 \n",
       "  \"/>\n",
       "<polyline clip-path=\"url(#clip160)\" style=\"stroke:#000000; stroke-linecap:butt; stroke-linejoin:round; stroke-width:4; stroke-opacity:1; fill:none\" points=\"\n",
       "  1859.56,1410.9 1859.56,1392 \n",
       "  \"/>\n",
       "<polyline clip-path=\"url(#clip160)\" style=\"stroke:#000000; stroke-linecap:butt; stroke-linejoin:round; stroke-width:4; stroke-opacity:1; fill:none\" points=\"\n",
       "  1424.36,1410.9 1424.36,1392 \n",
       "  \"/>\n",
       "<polyline clip-path=\"url(#clip160)\" style=\"stroke:#000000; stroke-linecap:butt; stroke-linejoin:round; stroke-width:4; stroke-opacity:1; fill:none\" points=\"\n",
       "  989.156,1410.9 989.156,1392 \n",
       "  \"/>\n",
       "<polyline clip-path=\"url(#clip160)\" style=\"stroke:#000000; stroke-linecap:butt; stroke-linejoin:round; stroke-width:4; stroke-opacity:1; fill:none\" points=\"\n",
       "  553.952,1410.9 553.952,1392 \n",
       "  \"/>\n",
       "<path clip-path=\"url(#clip160)\" d=\"M2294.77 1441.82 Q2291.15 1441.82 2289.33 1445.38 Q2287.52 1448.92 2287.52 1456.05 Q2287.52 1463.16 2289.33 1466.72 Q2291.15 1470.26 2294.77 1470.26 Q2298.4 1470.26 2300.21 1466.72 Q2302.03 1463.16 2302.03 1456.05 Q2302.03 1448.92 2300.21 1445.38 Q2298.4 1441.82 2294.77 1441.82 M2294.77 1438.11 Q2300.58 1438.11 2303.63 1442.72 Q2306.71 1447.3 2306.71 1456.05 Q2306.71 1464.78 2303.63 1469.38 Q2300.58 1473.97 2294.77 1473.97 Q2288.96 1473.97 2285.88 1469.38 Q2282.82 1464.78 2282.82 1456.05 Q2282.82 1447.3 2285.88 1442.72 Q2288.96 1438.11 2294.77 1438.11 Z\" fill=\"#000000\" fill-rule=\"evenodd\" fill-opacity=\"1\" /><path clip-path=\"url(#clip160)\" d=\"M1766.46 1485.02 L1774.1 1485.02 L1774.1 1458.66 L1765.79 1460.32 L1765.79 1456.06 L1774.05 1454.4 L1778.73 1454.4 L1778.73 1485.02 L1786.37 1485.02 L1786.37 1488.96 L1766.46 1488.96 L1766.46 1485.02 Z\" fill=\"#000000\" fill-rule=\"evenodd\" fill-opacity=\"1\" /><path clip-path=\"url(#clip160)\" d=\"M1795.81 1483.08 L1800.7 1483.08 L1800.7 1488.96 L1795.81 1488.96 L1795.81 1483.08 Z\" fill=\"#000000\" fill-rule=\"evenodd\" fill-opacity=\"1\" /><path clip-path=\"url(#clip160)\" d=\"M1820.88 1457.48 Q1817.27 1457.48 1815.44 1461.04 Q1813.64 1464.58 1813.64 1471.71 Q1813.64 1478.82 1815.44 1482.38 Q1817.27 1485.92 1820.88 1485.92 Q1824.52 1485.92 1826.32 1482.38 Q1828.15 1478.82 1828.15 1471.71 Q1828.15 1464.58 1826.32 1461.04 Q1824.52 1457.48 1820.88 1457.48 M1820.88 1453.77 Q1826.69 1453.77 1829.75 1458.38 Q1832.83 1462.96 1832.83 1471.71 Q1832.83 1480.44 1829.75 1485.04 Q1826.69 1489.63 1820.88 1489.63 Q1815.07 1489.63 1811.99 1485.04 Q1808.94 1480.44 1808.94 1471.71 Q1808.94 1462.96 1811.99 1458.38 Q1815.07 1453.77 1820.88 1453.77 Z\" fill=\"#000000\" fill-rule=\"evenodd\" fill-opacity=\"1\" /><path clip-path=\"url(#clip160)\" d=\"M1869.21 1463.49 L1858.64 1474.12 L1869.21 1484.7 L1866.46 1487.5 L1855.84 1476.87 L1845.21 1487.5 L1842.48 1484.7 L1853.03 1474.12 L1842.48 1463.49 L1845.21 1460.69 L1855.84 1471.32 L1866.46 1460.69 L1869.21 1463.49 Z\" fill=\"#000000\" fill-rule=\"evenodd\" fill-opacity=\"1\" /><path clip-path=\"url(#clip160)\" d=\"M1881.58 1485.02 L1889.21 1485.02 L1889.21 1458.66 L1880.9 1460.32 L1880.9 1456.06 L1889.17 1454.4 L1893.84 1454.4 L1893.84 1485.02 L1901.48 1485.02 L1901.48 1488.96 L1881.58 1488.96 L1881.58 1485.02 Z\" fill=\"#000000\" fill-rule=\"evenodd\" fill-opacity=\"1\" /><path clip-path=\"url(#clip160)\" d=\"M1920.93 1457.48 Q1917.32 1457.48 1915.49 1461.04 Q1913.68 1464.58 1913.68 1471.71 Q1913.68 1478.82 1915.49 1482.38 Q1917.32 1485.92 1920.93 1485.92 Q1924.56 1485.92 1926.37 1482.38 Q1928.2 1478.82 1928.2 1471.71 Q1928.2 1464.58 1926.37 1461.04 Q1924.56 1457.48 1920.93 1457.48 M1920.93 1453.77 Q1926.74 1453.77 1929.79 1458.38 Q1932.87 1462.96 1932.87 1471.71 Q1932.87 1480.44 1929.79 1485.04 Q1926.74 1489.63 1920.93 1489.63 Q1915.12 1489.63 1912.04 1485.04 Q1908.98 1480.44 1908.98 1471.71 Q1908.98 1462.96 1912.04 1458.38 Q1915.12 1453.77 1920.93 1453.77 Z\" fill=\"#000000\" fill-rule=\"evenodd\" fill-opacity=\"1\" /><path clip-path=\"url(#clip160)\" d=\"M1945.55 1436.78 L1935.96 1451.77 L1945.55 1451.77 L1945.55 1436.78 M1944.55 1433.47 L1949.33 1433.47 L1949.33 1451.77 L1953.33 1451.77 L1953.33 1454.93 L1949.33 1454.93 L1949.33 1461.55 L1945.55 1461.55 L1945.55 1454.93 L1932.87 1454.93 L1932.87 1451.26 L1944.55 1433.47 Z\" fill=\"#000000\" fill-rule=\"evenodd\" fill-opacity=\"1\" /><path clip-path=\"url(#clip160)\" d=\"M1335.34 1485.02 L1351.66 1485.02 L1351.66 1488.96 L1329.72 1488.96 L1329.72 1485.02 Q1332.38 1482.27 1336.96 1477.64 Q1341.57 1472.98 1342.75 1471.64 Q1345 1469.12 1345.88 1467.38 Q1346.78 1465.62 1346.78 1463.93 Q1346.78 1461.18 1344.83 1459.44 Q1342.91 1457.71 1339.81 1457.71 Q1337.61 1457.71 1335.16 1458.47 Q1332.73 1459.23 1329.95 1460.79 L1329.95 1456.06 Q1332.77 1454.93 1335.23 1454.35 Q1337.68 1453.77 1339.72 1453.77 Q1345.09 1453.77 1348.28 1456.46 Q1351.48 1459.14 1351.48 1463.63 Q1351.48 1465.76 1350.67 1467.68 Q1349.88 1469.58 1347.77 1472.17 Q1347.2 1472.85 1344.09 1476.06 Q1340.99 1479.26 1335.34 1485.02 Z\" fill=\"#000000\" fill-rule=\"evenodd\" fill-opacity=\"1\" /><path clip-path=\"url(#clip160)\" d=\"M1361.48 1483.08 L1366.36 1483.08 L1366.36 1488.96 L1361.48 1488.96 L1361.48 1483.08 Z\" fill=\"#000000\" fill-rule=\"evenodd\" fill-opacity=\"1\" /><path clip-path=\"url(#clip160)\" d=\"M1386.55 1457.48 Q1382.94 1457.48 1381.11 1461.04 Q1379.3 1464.58 1379.3 1471.71 Q1379.3 1478.82 1381.11 1482.38 Q1382.94 1485.92 1386.55 1485.92 Q1390.18 1485.92 1391.99 1482.38 Q1393.82 1478.82 1393.82 1471.71 Q1393.82 1464.58 1391.99 1461.04 Q1390.18 1457.48 1386.55 1457.48 M1386.55 1453.77 Q1392.36 1453.77 1395.41 1458.38 Q1398.49 1462.96 1398.49 1471.71 Q1398.49 1480.44 1395.41 1485.04 Q1392.36 1489.63 1386.55 1489.63 Q1380.74 1489.63 1377.66 1485.04 Q1374.6 1480.44 1374.6 1471.71 Q1374.6 1462.96 1377.66 1458.38 Q1380.74 1453.77 1386.55 1453.77 Z\" fill=\"#000000\" fill-rule=\"evenodd\" fill-opacity=\"1\" /><path clip-path=\"url(#clip160)\" d=\"M1434.88 1463.49 L1424.3 1474.12 L1434.88 1484.7 L1432.13 1487.5 L1421.5 1476.87 L1410.88 1487.5 L1408.14 1484.7 L1418.7 1474.12 L1408.14 1463.49 L1410.88 1460.69 L1421.5 1471.32 L1432.13 1460.69 L1434.88 1463.49 Z\" fill=\"#000000\" fill-rule=\"evenodd\" fill-opacity=\"1\" /><path clip-path=\"url(#clip160)\" d=\"M1447.24 1485.02 L1454.88 1485.02 L1454.88 1458.66 L1446.57 1460.32 L1446.57 1456.06 L1454.83 1454.4 L1459.51 1454.4 L1459.51 1485.02 L1467.15 1485.02 L1467.15 1488.96 L1447.24 1488.96 L1447.24 1485.02 Z\" fill=\"#000000\" fill-rule=\"evenodd\" fill-opacity=\"1\" /><path clip-path=\"url(#clip160)\" d=\"M1486.59 1457.48 Q1482.98 1457.48 1481.15 1461.04 Q1479.35 1464.58 1479.35 1471.71 Q1479.35 1478.82 1481.15 1482.38 Q1482.98 1485.92 1486.59 1485.92 Q1490.23 1485.92 1492.03 1482.38 Q1493.86 1478.82 1493.86 1471.71 Q1493.86 1464.58 1492.03 1461.04 Q1490.23 1457.48 1486.59 1457.48 M1486.59 1453.77 Q1492.4 1453.77 1495.46 1458.38 Q1498.54 1462.96 1498.54 1471.71 Q1498.54 1480.44 1495.46 1485.04 Q1492.4 1489.63 1486.59 1489.63 Q1480.78 1489.63 1477.7 1485.04 Q1474.65 1480.44 1474.65 1471.71 Q1474.65 1462.96 1477.7 1458.38 Q1480.78 1453.77 1486.59 1453.77 Z\" fill=\"#000000\" fill-rule=\"evenodd\" fill-opacity=\"1\" /><path clip-path=\"url(#clip160)\" d=\"M1511.21 1436.78 L1501.62 1451.77 L1511.21 1451.77 L1511.21 1436.78 M1510.22 1433.47 L1514.99 1433.47 L1514.99 1451.77 L1519 1451.77 L1519 1454.93 L1514.99 1454.93 L1514.99 1461.55 L1511.21 1461.55 L1511.21 1454.93 L1498.54 1454.93 L1498.54 1451.26 L1510.22 1433.47 Z\" fill=\"#000000\" fill-rule=\"evenodd\" fill-opacity=\"1\" /><path clip-path=\"url(#clip160)\" d=\"M910.209 1470.32 Q913.566 1471.04 915.441 1473.31 Q917.339 1475.58 917.339 1478.91 Q917.339 1484.03 913.82 1486.83 Q910.302 1489.63 903.821 1489.63 Q901.645 1489.63 899.33 1489.19 Q897.038 1488.77 894.584 1487.91 L894.584 1483.4 Q896.529 1484.54 898.844 1485.11 Q901.159 1485.69 903.682 1485.69 Q908.08 1485.69 910.371 1483.96 Q912.686 1482.22 912.686 1478.91 Q912.686 1475.85 910.533 1474.14 Q908.404 1472.41 904.584 1472.41 L900.557 1472.41 L900.557 1468.56 L904.77 1468.56 Q908.219 1468.56 910.047 1467.2 Q911.876 1465.81 911.876 1463.22 Q911.876 1460.55 909.978 1459.14 Q908.103 1457.71 904.584 1457.71 Q902.663 1457.71 900.464 1458.12 Q898.265 1458.54 895.626 1459.42 L895.626 1455.25 Q898.288 1454.51 900.603 1454.14 Q902.941 1453.77 905.001 1453.77 Q910.325 1453.77 913.427 1456.2 Q916.529 1458.61 916.529 1462.73 Q916.529 1465.6 914.885 1467.59 Q913.242 1469.56 910.209 1470.32 Z\" fill=\"#000000\" fill-rule=\"evenodd\" fill-opacity=\"1\" /><path clip-path=\"url(#clip160)\" d=\"M926.205 1483.08 L931.089 1483.08 L931.089 1488.96 L926.205 1488.96 L926.205 1483.08 Z\" fill=\"#000000\" fill-rule=\"evenodd\" fill-opacity=\"1\" /><path clip-path=\"url(#clip160)\" d=\"M951.274 1457.48 Q947.663 1457.48 945.834 1461.04 Q944.029 1464.58 944.029 1471.71 Q944.029 1478.82 945.834 1482.38 Q947.663 1485.92 951.274 1485.92 Q954.908 1485.92 956.714 1482.38 Q958.542 1478.82 958.542 1471.71 Q958.542 1464.58 956.714 1461.04 Q954.908 1457.48 951.274 1457.48 M951.274 1453.77 Q957.084 1453.77 960.14 1458.38 Q963.218 1462.96 963.218 1471.71 Q963.218 1480.44 960.14 1485.04 Q957.084 1489.63 951.274 1489.63 Q945.464 1489.63 942.385 1485.04 Q939.33 1480.44 939.33 1471.71 Q939.33 1462.96 942.385 1458.38 Q945.464 1453.77 951.274 1453.77 Z\" fill=\"#000000\" fill-rule=\"evenodd\" fill-opacity=\"1\" /><path clip-path=\"url(#clip160)\" d=\"M999.607 1463.49 L989.028 1474.12 L999.607 1484.7 L996.852 1487.5 L986.227 1476.87 L975.603 1487.5 L972.871 1484.7 L983.427 1474.12 L972.871 1463.49 L975.603 1460.69 L986.227 1471.32 L996.852 1460.69 L999.607 1463.49 Z\" fill=\"#000000\" fill-rule=\"evenodd\" fill-opacity=\"1\" /><path clip-path=\"url(#clip160)\" d=\"M1011.97 1485.02 L1019.61 1485.02 L1019.61 1458.66 L1011.3 1460.32 L1011.3 1456.06 L1019.56 1454.4 L1024.24 1454.4 L1024.24 1485.02 L1031.88 1485.02 L1031.88 1488.96 L1011.97 1488.96 L1011.97 1485.02 Z\" fill=\"#000000\" fill-rule=\"evenodd\" fill-opacity=\"1\" /><path clip-path=\"url(#clip160)\" d=\"M1051.32 1457.48 Q1047.71 1457.48 1045.88 1461.04 Q1044.07 1464.58 1044.07 1471.71 Q1044.07 1478.82 1045.88 1482.38 Q1047.71 1485.92 1051.32 1485.92 Q1054.95 1485.92 1056.76 1482.38 Q1058.59 1478.82 1058.59 1471.71 Q1058.59 1464.58 1056.76 1461.04 Q1054.95 1457.48 1051.32 1457.48 M1051.32 1453.77 Q1057.13 1453.77 1060.19 1458.38 Q1063.26 1462.96 1063.26 1471.71 Q1063.26 1480.44 1060.19 1485.04 Q1057.13 1489.63 1051.32 1489.63 Q1045.51 1489.63 1042.43 1485.04 Q1039.38 1480.44 1039.38 1471.71 Q1039.38 1462.96 1042.43 1458.38 Q1045.51 1453.77 1051.32 1453.77 Z\" fill=\"#000000\" fill-rule=\"evenodd\" fill-opacity=\"1\" /><path clip-path=\"url(#clip160)\" d=\"M1075.94 1436.78 L1066.35 1451.77 L1075.94 1451.77 L1075.94 1436.78 M1074.94 1433.47 L1079.72 1433.47 L1079.72 1451.77 L1083.73 1451.77 L1083.73 1454.93 L1079.72 1454.93 L1079.72 1461.55 L1075.94 1461.55 L1075.94 1454.93 L1063.26 1454.93 L1063.26 1451.26 L1074.94 1433.47 Z\" fill=\"#000000\" fill-rule=\"evenodd\" fill-opacity=\"1\" /><path clip-path=\"url(#clip160)\" d=\"M474.335 1458.47 L462.529 1476.92 L474.335 1476.92 L474.335 1458.47 M473.108 1454.4 L478.988 1454.4 L478.988 1476.92 L483.918 1476.92 L483.918 1480.81 L478.988 1480.81 L478.988 1488.96 L474.335 1488.96 L474.335 1480.81 L458.733 1480.81 L458.733 1476.29 L473.108 1454.4 Z\" fill=\"#000000\" fill-rule=\"evenodd\" fill-opacity=\"1\" /><path clip-path=\"url(#clip160)\" d=\"M491.65 1483.08 L496.534 1483.08 L496.534 1488.96 L491.65 1488.96 L491.65 1483.08 Z\" fill=\"#000000\" fill-rule=\"evenodd\" fill-opacity=\"1\" /><path clip-path=\"url(#clip160)\" d=\"M516.719 1457.48 Q513.108 1457.48 511.279 1461.04 Q509.474 1464.58 509.474 1471.71 Q509.474 1478.82 511.279 1482.38 Q513.108 1485.92 516.719 1485.92 Q520.353 1485.92 522.159 1482.38 Q523.987 1478.82 523.987 1471.71 Q523.987 1464.58 522.159 1461.04 Q520.353 1457.48 516.719 1457.48 M516.719 1453.77 Q522.529 1453.77 525.585 1458.38 Q528.663 1462.96 528.663 1471.71 Q528.663 1480.44 525.585 1485.04 Q522.529 1489.63 516.719 1489.63 Q510.909 1489.63 507.83 1485.04 Q504.774 1480.44 504.774 1471.71 Q504.774 1462.96 507.83 1458.38 Q510.909 1453.77 516.719 1453.77 Z\" fill=\"#000000\" fill-rule=\"evenodd\" fill-opacity=\"1\" /><path clip-path=\"url(#clip160)\" d=\"M565.052 1463.49 L554.473 1474.12 L565.052 1484.7 L562.297 1487.5 L551.672 1476.87 L541.047 1487.5 L538.316 1484.7 L548.871 1474.12 L538.316 1463.49 L541.047 1460.69 L551.672 1471.32 L562.297 1460.69 L565.052 1463.49 Z\" fill=\"#000000\" fill-rule=\"evenodd\" fill-opacity=\"1\" /><path clip-path=\"url(#clip160)\" d=\"M577.413 1485.02 L585.052 1485.02 L585.052 1458.66 L576.742 1460.32 L576.742 1456.06 L585.006 1454.4 L589.681 1454.4 L589.681 1485.02 L597.32 1485.02 L597.32 1488.96 L577.413 1488.96 L577.413 1485.02 Z\" fill=\"#000000\" fill-rule=\"evenodd\" fill-opacity=\"1\" /><path clip-path=\"url(#clip160)\" d=\"M616.765 1457.48 Q613.154 1457.48 611.325 1461.04 Q609.519 1464.58 609.519 1471.71 Q609.519 1478.82 611.325 1482.38 Q613.154 1485.92 616.765 1485.92 Q620.399 1485.92 622.204 1482.38 Q624.033 1478.82 624.033 1471.71 Q624.033 1464.58 622.204 1461.04 Q620.399 1457.48 616.765 1457.48 M616.765 1453.77 Q622.575 1453.77 625.63 1458.38 Q628.709 1462.96 628.709 1471.71 Q628.709 1480.44 625.63 1485.04 Q622.575 1489.63 616.765 1489.63 Q610.954 1489.63 607.876 1485.04 Q604.82 1480.44 604.82 1471.71 Q604.82 1462.96 607.876 1458.38 Q610.954 1453.77 616.765 1453.77 Z\" fill=\"#000000\" fill-rule=\"evenodd\" fill-opacity=\"1\" /><path clip-path=\"url(#clip160)\" d=\"M641.385 1436.78 L631.793 1451.77 L641.385 1451.77 L641.385 1436.78 M640.389 1433.47 L645.166 1433.47 L645.166 1451.77 L649.172 1451.77 L649.172 1454.93 L645.166 1454.93 L645.166 1461.55 L641.385 1461.55 L641.385 1454.93 L628.709 1454.93 L628.709 1451.26 L640.389 1433.47 Z\" fill=\"#000000\" fill-rule=\"evenodd\" fill-opacity=\"1\" /><path clip-path=\"url(#clip160)\" d=\"M782.967 1526.67 L791.625 1526.67 L812.695 1566.42 L812.695 1526.67 L818.934 1526.67 L818.934 1574.19 L810.276 1574.19 L789.206 1534.43 L789.206 1574.19 L782.967 1574.19 L782.967 1526.67 Z\" fill=\"#000000\" fill-rule=\"evenodd\" fill-opacity=\"1\" /><path clip-path=\"url(#clip160)\" d=\"M830.869 1560.12 L830.869 1538.54 L836.726 1538.54 L836.726 1559.89 Q836.726 1564.96 838.699 1567.5 Q840.673 1570.02 844.619 1570.02 Q849.362 1570.02 852.099 1566.99 Q854.868 1563.97 854.868 1558.75 L854.868 1538.54 L860.725 1538.54 L860.725 1574.19 L854.868 1574.19 L854.868 1568.71 Q852.736 1571.96 849.903 1573.55 Q847.102 1575.11 843.378 1575.11 Q837.235 1575.11 834.052 1571.29 Q830.869 1567.47 830.869 1560.12 M845.606 1537.68 L845.606 1537.68 Z\" fill=\"#000000\" fill-rule=\"evenodd\" fill-opacity=\"1\" /><path clip-path=\"url(#clip160)\" d=\"M900.542 1545.38 Q902.738 1541.43 905.794 1539.56 Q908.849 1537.68 912.987 1537.68 Q918.557 1537.68 921.581 1541.59 Q924.604 1545.48 924.604 1552.67 L924.604 1574.19 L918.716 1574.19 L918.716 1552.86 Q918.716 1547.74 916.902 1545.25 Q915.088 1542.77 911.364 1542.77 Q906.812 1542.77 904.17 1545.79 Q901.529 1548.82 901.529 1554.04 L901.529 1574.19 L895.64 1574.19 L895.64 1552.86 Q895.64 1547.7 893.826 1545.25 Q892.012 1542.77 888.224 1542.77 Q883.737 1542.77 881.095 1545.83 Q878.453 1548.85 878.453 1554.04 L878.453 1574.19 L872.565 1574.19 L872.565 1538.54 L878.453 1538.54 L878.453 1544.08 Q880.458 1540.8 883.259 1539.24 Q886.06 1537.68 889.911 1537.68 Q893.794 1537.68 896.5 1539.65 Q899.237 1541.62 900.542 1545.38 Z\" fill=\"#000000\" fill-rule=\"evenodd\" fill-opacity=\"1\" /><path clip-path=\"url(#clip160)\" d=\"M961.876 1556.39 Q961.876 1549.93 959.202 1546.27 Q956.56 1542.58 951.913 1542.58 Q947.266 1542.58 944.593 1546.27 Q941.951 1549.93 941.951 1556.39 Q941.951 1562.85 944.593 1566.55 Q947.266 1570.21 951.913 1570.21 Q956.56 1570.21 959.202 1566.55 Q961.876 1562.85 961.876 1556.39 M941.951 1543.95 Q943.797 1540.77 946.598 1539.24 Q949.431 1537.68 953.346 1537.68 Q959.839 1537.68 963.881 1542.83 Q967.955 1547.99 967.955 1556.39 Q967.955 1564.8 963.881 1569.95 Q959.839 1575.11 953.346 1575.11 Q949.431 1575.11 946.598 1573.58 Q943.797 1572.02 941.951 1568.84 L941.951 1574.19 L936.063 1574.19 L936.063 1524.66 L941.951 1524.66 L941.951 1543.95 Z\" fill=\"#000000\" fill-rule=\"evenodd\" fill-opacity=\"1\" /><path clip-path=\"url(#clip160)\" d=\"M1008.15 1554.9 L1008.15 1557.76 L981.227 1557.76 Q981.609 1563.81 984.856 1566.99 Q988.134 1570.14 993.959 1570.14 Q997.333 1570.14 1000.48 1569.32 Q1003.67 1568.49 1006.79 1566.83 L1006.79 1572.37 Q1003.63 1573.71 1000.32 1574.41 Q997.014 1575.11 993.609 1575.11 Q985.079 1575.11 980.082 1570.14 Q975.116 1565.18 975.116 1556.71 Q975.116 1547.96 979.827 1542.83 Q984.569 1537.68 992.59 1537.68 Q999.783 1537.68 1003.95 1542.33 Q1008.15 1546.94 1008.15 1554.9 M1002.3 1553.18 Q1002.23 1548.37 999.592 1545.51 Q996.982 1542.64 992.654 1542.64 Q987.752 1542.64 984.792 1545.41 Q981.864 1548.18 981.418 1553.21 L1002.3 1553.18 Z\" fill=\"#000000\" fill-rule=\"evenodd\" fill-opacity=\"1\" /><path clip-path=\"url(#clip160)\" d=\"M1038.42 1544.01 Q1037.44 1543.44 1036.26 1543.18 Q1035.11 1542.9 1033.71 1542.9 Q1028.75 1542.9 1026.07 1546.14 Q1023.43 1549.36 1023.43 1555.41 L1023.43 1574.19 L1017.54 1574.19 L1017.54 1538.54 L1023.43 1538.54 L1023.43 1544.08 Q1025.28 1540.83 1028.24 1539.27 Q1031.2 1537.68 1035.43 1537.68 Q1036.04 1537.68 1036.77 1537.77 Q1037.5 1537.84 1038.39 1538 L1038.42 1544.01 Z\" fill=\"#000000\" fill-rule=\"evenodd\" fill-opacity=\"1\" /><path clip-path=\"url(#clip160)\" d=\"M1079.1 1542.64 Q1074.39 1542.64 1071.65 1546.34 Q1068.91 1550 1068.91 1556.39 Q1068.91 1562.79 1071.62 1566.48 Q1074.36 1570.14 1079.1 1570.14 Q1083.78 1570.14 1086.52 1566.45 Q1089.25 1562.76 1089.25 1556.39 Q1089.25 1550.06 1086.52 1546.37 Q1083.78 1542.64 1079.1 1542.64 M1079.1 1537.68 Q1086.74 1537.68 1091.1 1542.64 Q1095.46 1547.61 1095.46 1556.39 Q1095.46 1565.15 1091.1 1570.14 Q1086.74 1575.11 1079.1 1575.11 Q1071.43 1575.11 1067.07 1570.14 Q1062.74 1565.15 1062.74 1556.39 Q1062.74 1547.61 1067.07 1542.64 Q1071.43 1537.68 1079.1 1537.68 Z\" fill=\"#000000\" fill-rule=\"evenodd\" fill-opacity=\"1\" /><path clip-path=\"url(#clip160)\" d=\"M1123.21 1524.66 L1123.21 1529.53 L1117.61 1529.53 Q1114.46 1529.53 1113.22 1530.8 Q1112.01 1532.08 1112.01 1535.39 L1112.01 1538.54 L1121.65 1538.54 L1121.65 1543.09 L1112.01 1543.09 L1112.01 1574.19 L1106.12 1574.19 L1106.12 1543.09 L1100.52 1543.09 L1100.52 1538.54 L1106.12 1538.54 L1106.12 1536.05 Q1106.12 1530.1 1108.89 1527.4 Q1111.66 1524.66 1117.68 1524.66 L1123.21 1524.66 Z\" fill=\"#000000\" fill-rule=\"evenodd\" fill-opacity=\"1\" /><path clip-path=\"url(#clip160)\" d=\"M1155.52 1531.95 L1155.52 1549.8 L1163.6 1549.8 Q1168.09 1549.8 1170.54 1547.48 Q1172.99 1545.16 1172.99 1540.86 Q1172.99 1536.6 1170.54 1534.27 Q1168.09 1531.95 1163.6 1531.95 L1155.52 1531.95 M1149.09 1526.67 L1163.6 1526.67 Q1171.59 1526.67 1175.67 1530.29 Q1179.77 1533.89 1179.77 1540.86 Q1179.77 1547.9 1175.67 1551.49 Q1171.59 1555.09 1163.6 1555.09 L1155.52 1555.09 L1155.52 1574.19 L1149.09 1574.19 L1149.09 1526.67 Z\" fill=\"#000000\" fill-rule=\"evenodd\" fill-opacity=\"1\" /><path clip-path=\"url(#clip160)\" d=\"M1186.71 1538.54 L1192.57 1538.54 L1192.57 1574.19 L1186.71 1574.19 L1186.71 1538.54 M1186.71 1524.66 L1192.57 1524.66 L1192.57 1532.08 L1186.71 1532.08 L1186.71 1524.66 Z\" fill=\"#000000\" fill-rule=\"evenodd\" fill-opacity=\"1\" /><path clip-path=\"url(#clip160)\" d=\"M1225.48 1544.01 Q1224.49 1543.44 1223.32 1543.18 Q1222.17 1542.9 1220.77 1542.9 Q1215.8 1542.9 1213.13 1546.14 Q1210.49 1549.36 1210.49 1555.41 L1210.49 1574.19 L1204.6 1574.19 L1204.6 1538.54 L1210.49 1538.54 L1210.49 1544.08 Q1212.33 1540.83 1215.29 1539.27 Q1218.25 1537.68 1222.49 1537.68 Q1223.09 1537.68 1223.82 1537.77 Q1224.56 1537.84 1225.45 1538 L1225.48 1544.01 Z\" fill=\"#000000\" fill-rule=\"evenodd\" fill-opacity=\"1\" /><path clip-path=\"url(#clip160)\" d=\"M1247.82 1556.27 Q1240.73 1556.27 1237.99 1557.89 Q1235.25 1559.51 1235.25 1563.43 Q1235.25 1566.55 1237.29 1568.39 Q1239.36 1570.21 1242.89 1570.21 Q1247.76 1570.21 1250.69 1566.77 Q1253.65 1563.3 1253.65 1557.57 L1253.65 1556.27 L1247.82 1556.27 M1259.5 1553.85 L1259.5 1574.19 L1253.65 1574.19 L1253.65 1568.77 Q1251.64 1572.02 1248.65 1573.58 Q1245.66 1575.11 1241.33 1575.11 Q1235.86 1575.11 1232.61 1572.05 Q1229.39 1568.97 1229.39 1563.81 Q1229.39 1557.79 1233.4 1554.74 Q1237.45 1551.68 1245.44 1551.68 L1253.65 1551.68 L1253.65 1551.11 Q1253.65 1547.07 1250.97 1544.87 Q1248.33 1542.64 1243.53 1542.64 Q1240.47 1542.64 1237.57 1543.38 Q1234.68 1544.11 1232 1545.57 L1232 1540.16 Q1235.22 1538.92 1238.24 1538.31 Q1241.27 1537.68 1244.13 1537.68 Q1251.87 1537.68 1255.68 1541.69 Q1259.5 1545.7 1259.5 1553.85 Z\" fill=\"#000000\" fill-rule=\"evenodd\" fill-opacity=\"1\" /><path clip-path=\"url(#clip160)\" d=\"M1277.36 1528.42 L1277.36 1538.54 L1289.42 1538.54 L1289.42 1543.09 L1277.36 1543.09 L1277.36 1562.44 Q1277.36 1566.8 1278.54 1568.04 Q1279.75 1569.28 1283.41 1569.28 L1289.42 1569.28 L1289.42 1574.19 L1283.41 1574.19 Q1276.63 1574.19 1274.05 1571.67 Q1271.47 1569.12 1271.47 1562.44 L1271.47 1543.09 L1267.17 1543.09 L1267.17 1538.54 L1271.47 1538.54 L1271.47 1528.42 L1277.36 1528.42 Z\" fill=\"#000000\" fill-rule=\"evenodd\" fill-opacity=\"1\" /><path clip-path=\"url(#clip160)\" d=\"M1327.62 1554.9 L1327.62 1557.76 L1300.69 1557.76 Q1301.07 1563.81 1304.32 1566.99 Q1307.6 1570.14 1313.42 1570.14 Q1316.8 1570.14 1319.95 1569.32 Q1323.13 1568.49 1326.25 1566.83 L1326.25 1572.37 Q1323.1 1573.71 1319.79 1574.41 Q1316.48 1575.11 1313.07 1575.11 Q1304.54 1575.11 1299.54 1570.14 Q1294.58 1565.18 1294.58 1556.71 Q1294.58 1547.96 1299.29 1542.83 Q1304.03 1537.68 1312.05 1537.68 Q1319.25 1537.68 1323.42 1542.33 Q1327.62 1546.94 1327.62 1554.9 M1321.76 1553.18 Q1321.7 1548.37 1319.06 1545.51 Q1316.45 1542.64 1312.12 1542.64 Q1307.22 1542.64 1304.26 1545.41 Q1301.33 1548.18 1300.88 1553.21 L1321.76 1553.18 Z\" fill=\"#000000\" fill-rule=\"evenodd\" fill-opacity=\"1\" /><path clip-path=\"url(#clip160)\" d=\"M1359.96 1539.59 L1359.96 1545.13 Q1357.47 1543.85 1354.8 1543.22 Q1352.13 1542.58 1349.26 1542.58 Q1344.9 1542.58 1342.7 1543.92 Q1340.54 1545.25 1340.54 1547.93 Q1340.54 1549.96 1342.1 1551.14 Q1343.66 1552.29 1348.37 1553.34 L1350.37 1553.78 Q1356.61 1555.12 1359.22 1557.57 Q1361.86 1559.99 1361.86 1564.35 Q1361.86 1569.32 1357.92 1572.21 Q1354 1575.11 1347.13 1575.11 Q1344.26 1575.11 1341.14 1574.54 Q1338.06 1573.99 1334.62 1572.88 L1334.62 1566.83 Q1337.87 1568.52 1341.02 1569.38 Q1344.17 1570.21 1347.26 1570.21 Q1351.39 1570.21 1353.62 1568.81 Q1355.85 1567.37 1355.85 1564.8 Q1355.85 1562.41 1354.23 1561.14 Q1352.63 1559.86 1347.19 1558.68 L1345.15 1558.21 Q1339.71 1557.06 1337.29 1554.71 Q1334.87 1552.32 1334.87 1548.18 Q1334.87 1543.15 1338.44 1540.42 Q1342 1537.68 1348.56 1537.68 Q1351.81 1537.68 1354.67 1538.16 Q1357.54 1538.63 1359.96 1539.59 Z\" fill=\"#000000\" fill-rule=\"evenodd\" fill-opacity=\"1\" /><path clip-path=\"url(#clip160)\" d=\"M1391.37 1524.66 L1404.87 1524.66 L1404.87 1529.21 L1397.23 1529.21 L1397.23 1578.23 L1404.87 1578.23 L1404.87 1582.78 L1391.37 1582.78 L1391.37 1524.66 Z\" fill=\"#000000\" fill-rule=\"evenodd\" fill-opacity=\"1\" /><path clip-path=\"url(#clip160)\" d=\"M1433.48 1533 L1424.76 1556.65 L1442.23 1556.65 L1433.48 1533 M1429.85 1526.67 L1437.14 1526.67 L1455.25 1574.19 L1448.57 1574.19 L1444.24 1562 L1422.82 1562 L1418.49 1574.19 L1411.71 1574.19 L1429.85 1526.67 Z\" fill=\"#000000\" fill-rule=\"evenodd\" fill-opacity=\"1\" /><path clip-path=\"url(#clip160)\" d=\"M1467.6 1568.84 L1467.6 1587.74 L1461.71 1587.74 L1461.71 1538.54 L1467.6 1538.54 L1467.6 1543.95 Q1469.45 1540.77 1472.25 1539.24 Q1475.08 1537.68 1478.99 1537.68 Q1485.49 1537.68 1489.53 1542.83 Q1493.6 1547.99 1493.6 1556.39 Q1493.6 1564.8 1489.53 1569.95 Q1485.49 1575.11 1478.99 1575.11 Q1475.08 1575.11 1472.25 1573.58 Q1469.45 1572.02 1467.6 1568.84 M1487.52 1556.39 Q1487.52 1549.93 1484.85 1546.27 Q1482.21 1542.58 1477.56 1542.58 Q1472.91 1542.58 1470.24 1546.27 Q1467.6 1549.93 1467.6 1556.39 Q1467.6 1562.85 1470.24 1566.55 Q1472.91 1570.21 1477.56 1570.21 Q1482.21 1570.21 1484.85 1566.55 Q1487.52 1562.85 1487.52 1556.39 Z\" fill=\"#000000\" fill-rule=\"evenodd\" fill-opacity=\"1\" /><path clip-path=\"url(#clip160)\" d=\"M1508.98 1568.84 L1508.98 1587.74 L1503.09 1587.74 L1503.09 1538.54 L1508.98 1538.54 L1508.98 1543.95 Q1510.82 1540.77 1513.62 1539.24 Q1516.46 1537.68 1520.37 1537.68 Q1526.86 1537.68 1530.91 1542.83 Q1534.98 1547.99 1534.98 1556.39 Q1534.98 1564.8 1530.91 1569.95 Q1526.86 1575.11 1520.37 1575.11 Q1516.46 1575.11 1513.62 1573.58 Q1510.82 1572.02 1508.98 1568.84 M1528.9 1556.39 Q1528.9 1549.93 1526.23 1546.27 Q1523.59 1542.58 1518.94 1542.58 Q1514.29 1542.58 1511.62 1546.27 Q1508.98 1549.93 1508.98 1556.39 Q1508.98 1562.85 1511.62 1566.55 Q1514.29 1570.21 1518.94 1570.21 Q1523.59 1570.21 1526.23 1566.55 Q1528.9 1562.85 1528.9 1556.39 Z\" fill=\"#000000\" fill-rule=\"evenodd\" fill-opacity=\"1\" /><path clip-path=\"url(#clip160)\" d=\"M1565.34 1544.01 Q1564.36 1543.44 1563.18 1543.18 Q1562.03 1542.9 1560.63 1542.9 Q1555.67 1542.9 1553 1546.14 Q1550.35 1549.36 1550.35 1555.41 L1550.35 1574.19 L1544.47 1574.19 L1544.47 1538.54 L1550.35 1538.54 L1550.35 1544.08 Q1552.2 1540.83 1555.16 1539.27 Q1558.12 1537.68 1562.35 1537.68 Q1562.96 1537.68 1563.69 1537.77 Q1564.42 1537.84 1565.31 1538 L1565.34 1544.01 Z\" fill=\"#000000\" fill-rule=\"evenodd\" fill-opacity=\"1\" /><path clip-path=\"url(#clip160)\" d=\"M1583.87 1542.64 Q1579.16 1542.64 1576.42 1546.34 Q1573.68 1550 1573.68 1556.39 Q1573.68 1562.79 1576.39 1566.48 Q1579.13 1570.14 1583.87 1570.14 Q1588.55 1570.14 1591.28 1566.45 Q1594.02 1562.76 1594.02 1556.39 Q1594.02 1550.06 1591.28 1546.37 Q1588.55 1542.64 1583.87 1542.64 M1583.87 1537.68 Q1591.51 1537.68 1595.87 1542.64 Q1600.23 1547.61 1600.23 1556.39 Q1600.23 1565.15 1595.87 1570.14 Q1591.51 1575.11 1583.87 1575.11 Q1576.2 1575.11 1571.84 1570.14 Q1567.51 1565.15 1567.51 1556.39 Q1567.51 1547.61 1571.84 1542.64 Q1576.2 1537.68 1583.87 1537.68 Z\" fill=\"#000000\" fill-rule=\"evenodd\" fill-opacity=\"1\" /><path clip-path=\"url(#clip160)\" d=\"M1637.56 1538.54 L1624.67 1555.88 L1638.23 1574.19 L1631.33 1574.19 L1620.95 1560.18 L1610.57 1574.19 L1603.67 1574.19 L1617.51 1555.53 L1604.84 1538.54 L1611.75 1538.54 L1621.2 1551.24 L1630.66 1538.54 L1637.56 1538.54 Z\" fill=\"#000000\" fill-rule=\"evenodd\" fill-opacity=\"1\" /><path clip-path=\"url(#clip160)\" d=\"M1646.51 1538.54 L1652.36 1538.54 L1652.36 1574.19 L1646.51 1574.19 L1646.51 1538.54 M1646.51 1524.66 L1652.36 1524.66 L1652.36 1532.08 L1646.51 1532.08 L1646.51 1524.66 Z\" fill=\"#000000\" fill-rule=\"evenodd\" fill-opacity=\"1\" /><path clip-path=\"url(#clip160)\" d=\"M1692.37 1545.38 Q1694.57 1541.43 1697.62 1539.56 Q1700.68 1537.68 1704.82 1537.68 Q1710.39 1537.68 1713.41 1541.59 Q1716.43 1545.48 1716.43 1552.67 L1716.43 1574.19 L1710.55 1574.19 L1710.55 1552.86 Q1710.55 1547.74 1708.73 1545.25 Q1706.92 1542.77 1703.19 1542.77 Q1698.64 1542.77 1696 1545.79 Q1693.36 1548.82 1693.36 1554.04 L1693.36 1574.19 L1687.47 1574.19 L1687.47 1552.86 Q1687.47 1547.7 1685.66 1545.25 Q1683.84 1542.77 1680.05 1542.77 Q1675.57 1542.77 1672.93 1545.83 Q1670.28 1548.85 1670.28 1554.04 L1670.28 1574.19 L1664.39 1574.19 L1664.39 1538.54 L1670.28 1538.54 L1670.28 1544.08 Q1672.29 1540.8 1675.09 1539.24 Q1677.89 1537.68 1681.74 1537.68 Q1685.62 1537.68 1688.33 1539.65 Q1691.07 1541.62 1692.37 1545.38 Z\" fill=\"#000000\" fill-rule=\"evenodd\" fill-opacity=\"1\" /><path clip-path=\"url(#clip160)\" d=\"M1744.32 1556.27 Q1737.22 1556.27 1734.48 1557.89 Q1731.74 1559.51 1731.74 1563.43 Q1731.74 1566.55 1733.78 1568.39 Q1735.85 1570.21 1739.38 1570.21 Q1744.25 1570.21 1747.18 1566.77 Q1750.14 1563.3 1750.14 1557.57 L1750.14 1556.27 L1744.32 1556.27 M1756 1553.85 L1756 1574.19 L1750.14 1574.19 L1750.14 1568.77 Q1748.14 1572.02 1745.14 1573.58 Q1742.15 1575.11 1737.82 1575.11 Q1732.35 1575.11 1729.1 1572.05 Q1725.89 1568.97 1725.89 1563.81 Q1725.89 1557.79 1729.9 1554.74 Q1733.94 1551.68 1741.93 1551.68 L1750.14 1551.68 L1750.14 1551.11 Q1750.14 1547.07 1747.47 1544.87 Q1744.83 1542.64 1740.02 1542.64 Q1736.96 1542.64 1734.07 1543.38 Q1731.17 1544.11 1728.5 1545.57 L1728.5 1540.16 Q1731.71 1538.92 1734.74 1538.31 Q1737.76 1537.68 1740.62 1537.68 Q1748.36 1537.68 1752.18 1541.69 Q1756 1545.7 1756 1553.85 Z\" fill=\"#000000\" fill-rule=\"evenodd\" fill-opacity=\"1\" /><path clip-path=\"url(#clip160)\" d=\"M1773.85 1528.42 L1773.85 1538.54 L1785.92 1538.54 L1785.92 1543.09 L1773.85 1543.09 L1773.85 1562.44 Q1773.85 1566.8 1775.03 1568.04 Q1776.24 1569.28 1779.9 1569.28 L1785.92 1569.28 L1785.92 1574.19 L1779.9 1574.19 Q1773.12 1574.19 1770.54 1571.67 Q1767.97 1569.12 1767.97 1562.44 L1767.97 1543.09 L1763.67 1543.09 L1763.67 1538.54 L1767.97 1538.54 L1767.97 1528.42 L1773.85 1528.42 Z\" fill=\"#000000\" fill-rule=\"evenodd\" fill-opacity=\"1\" /><path clip-path=\"url(#clip160)\" d=\"M1824.11 1554.9 L1824.11 1557.76 L1797.18 1557.76 Q1797.57 1563.81 1800.81 1566.99 Q1804.09 1570.14 1809.92 1570.14 Q1813.29 1570.14 1816.44 1569.32 Q1819.62 1568.49 1822.74 1566.83 L1822.74 1572.37 Q1819.59 1573.71 1816.28 1574.41 Q1812.97 1575.11 1809.56 1575.11 Q1801.03 1575.11 1796.04 1570.14 Q1791.07 1565.18 1791.07 1556.71 Q1791.07 1547.96 1795.78 1542.83 Q1800.53 1537.68 1808.55 1537.68 Q1815.74 1537.68 1819.91 1542.33 Q1824.11 1546.94 1824.11 1554.9 M1818.25 1553.18 Q1818.19 1548.37 1815.55 1545.51 Q1812.94 1542.64 1808.61 1542.64 Q1803.71 1542.64 1800.75 1545.41 Q1797.82 1548.18 1797.37 1553.21 L1818.25 1553.18 Z\" fill=\"#000000\" fill-rule=\"evenodd\" fill-opacity=\"1\" /><path clip-path=\"url(#clip160)\" d=\"M1847.41 1524.66 L1847.41 1582.78 L1833.91 1582.78 L1833.91 1578.23 L1841.52 1578.23 L1841.52 1529.21 L1833.91 1529.21 L1833.91 1524.66 L1847.41 1524.66 Z\" fill=\"#000000\" fill-rule=\"evenodd\" fill-opacity=\"1\" /><polyline clip-path=\"url(#clip162)\" style=\"stroke:#000000; stroke-linecap:butt; stroke-linejoin:round; stroke-width:2; stroke-opacity:0.1; fill:none\" points=\"\n",
       "  2352.76,1287.71 277.621,1287.71 \n",
       "  \"/>\n",
       "<polyline clip-path=\"url(#clip162)\" style=\"stroke:#000000; stroke-linecap:butt; stroke-linejoin:round; stroke-width:2; stroke-opacity:0.1; fill:none\" points=\"\n",
       "  2352.76,1070.82 277.621,1070.82 \n",
       "  \"/>\n",
       "<polyline clip-path=\"url(#clip162)\" style=\"stroke:#000000; stroke-linecap:butt; stroke-linejoin:round; stroke-width:2; stroke-opacity:0.1; fill:none\" points=\"\n",
       "  2352.76,853.938 277.621,853.938 \n",
       "  \"/>\n",
       "<polyline clip-path=\"url(#clip162)\" style=\"stroke:#000000; stroke-linecap:butt; stroke-linejoin:round; stroke-width:2; stroke-opacity:0.1; fill:none\" points=\"\n",
       "  2352.76,637.054 277.621,637.054 \n",
       "  \"/>\n",
       "<polyline clip-path=\"url(#clip162)\" style=\"stroke:#000000; stroke-linecap:butt; stroke-linejoin:round; stroke-width:2; stroke-opacity:0.1; fill:none\" points=\"\n",
       "  2352.76,420.17 277.621,420.17 \n",
       "  \"/>\n",
       "<polyline clip-path=\"url(#clip162)\" style=\"stroke:#000000; stroke-linecap:butt; stroke-linejoin:round; stroke-width:2; stroke-opacity:0.1; fill:none\" points=\"\n",
       "  2352.76,203.286 277.621,203.286 \n",
       "  \"/>\n",
       "<polyline clip-path=\"url(#clip160)\" style=\"stroke:#000000; stroke-linecap:butt; stroke-linejoin:round; stroke-width:4; stroke-opacity:1; fill:none\" points=\"\n",
       "  277.621,1410.9 277.621,123.472 \n",
       "  \"/>\n",
       "<polyline clip-path=\"url(#clip160)\" style=\"stroke:#000000; stroke-linecap:butt; stroke-linejoin:round; stroke-width:4; stroke-opacity:1; fill:none\" points=\"\n",
       "  277.621,1287.71 296.518,1287.71 \n",
       "  \"/>\n",
       "<polyline clip-path=\"url(#clip160)\" style=\"stroke:#000000; stroke-linecap:butt; stroke-linejoin:round; stroke-width:4; stroke-opacity:1; fill:none\" points=\"\n",
       "  277.621,1070.82 296.518,1070.82 \n",
       "  \"/>\n",
       "<polyline clip-path=\"url(#clip160)\" style=\"stroke:#000000; stroke-linecap:butt; stroke-linejoin:round; stroke-width:4; stroke-opacity:1; fill:none\" points=\"\n",
       "  277.621,853.938 296.518,853.938 \n",
       "  \"/>\n",
       "<polyline clip-path=\"url(#clip160)\" style=\"stroke:#000000; stroke-linecap:butt; stroke-linejoin:round; stroke-width:4; stroke-opacity:1; fill:none\" points=\"\n",
       "  277.621,637.054 296.518,637.054 \n",
       "  \"/>\n",
       "<polyline clip-path=\"url(#clip160)\" style=\"stroke:#000000; stroke-linecap:butt; stroke-linejoin:round; stroke-width:4; stroke-opacity:1; fill:none\" points=\"\n",
       "  277.621,420.17 296.518,420.17 \n",
       "  \"/>\n",
       "<polyline clip-path=\"url(#clip160)\" style=\"stroke:#000000; stroke-linecap:butt; stroke-linejoin:round; stroke-width:4; stroke-opacity:1; fill:none\" points=\"\n",
       "  277.621,203.286 296.518,203.286 \n",
       "  \"/>\n",
       "<path clip-path=\"url(#clip160)\" d=\"M114.931 1301.05 L122.57 1301.05 L122.57 1274.69 L114.26 1276.35 L114.26 1272.09 L122.524 1270.43 L127.2 1270.43 L127.2 1301.05 L134.839 1301.05 L134.839 1304.99 L114.931 1304.99 L114.931 1301.05 Z\" fill=\"#000000\" fill-rule=\"evenodd\" fill-opacity=\"1\" /><path clip-path=\"url(#clip160)\" d=\"M157.13 1274.5 L145.325 1292.95 L157.13 1292.95 L157.13 1274.5 M155.903 1270.43 L161.783 1270.43 L161.783 1292.95 L166.714 1292.95 L166.714 1296.84 L161.783 1296.84 L161.783 1304.99 L157.13 1304.99 L157.13 1296.84 L141.529 1296.84 L141.529 1292.32 L155.903 1270.43 Z\" fill=\"#000000\" fill-rule=\"evenodd\" fill-opacity=\"1\" /><path clip-path=\"url(#clip160)\" d=\"M174.445 1299.11 L179.329 1299.11 L179.329 1304.99 L174.445 1304.99 L174.445 1299.11 Z\" fill=\"#000000\" fill-rule=\"evenodd\" fill-opacity=\"1\" /><path clip-path=\"url(#clip160)\" d=\"M189.561 1270.43 L207.917 1270.43 L207.917 1274.36 L193.843 1274.36 L193.843 1282.83 Q194.862 1282.49 195.88 1282.32 Q196.899 1282.14 197.917 1282.14 Q203.704 1282.14 207.084 1285.31 Q210.463 1288.48 210.463 1293.9 Q210.463 1299.48 206.991 1302.58 Q203.519 1305.66 197.2 1305.66 Q195.024 1305.66 192.755 1305.29 Q190.51 1304.92 188.102 1304.18 L188.102 1299.48 Q190.186 1300.61 192.408 1301.17 Q194.63 1301.72 197.107 1301.72 Q201.112 1301.72 203.449 1299.62 Q205.787 1297.51 205.787 1293.9 Q205.787 1290.29 203.449 1288.18 Q201.112 1286.07 197.107 1286.07 Q195.232 1286.07 193.357 1286.49 Q191.505 1286.91 189.561 1287.79 L189.561 1270.43 Z\" fill=\"#000000\" fill-rule=\"evenodd\" fill-opacity=\"1\" /><path clip-path=\"url(#clip160)\" d=\"M229.676 1273.51 Q226.065 1273.51 224.236 1277.07 Q222.431 1280.61 222.431 1287.74 Q222.431 1294.85 224.236 1298.41 Q226.065 1301.95 229.676 1301.95 Q233.31 1301.95 235.116 1298.41 Q236.945 1294.85 236.945 1287.74 Q236.945 1280.61 235.116 1277.07 Q233.31 1273.51 229.676 1273.51 M229.676 1269.8 Q235.486 1269.8 238.542 1274.41 Q241.621 1278.99 241.621 1287.74 Q241.621 1296.47 238.542 1301.07 Q235.486 1305.66 229.676 1305.66 Q223.866 1305.66 220.787 1301.07 Q217.732 1296.47 217.732 1287.74 Q217.732 1278.99 220.787 1274.41 Q223.866 1269.8 229.676 1269.8 Z\" fill=\"#000000\" fill-rule=\"evenodd\" fill-opacity=\"1\" /><path clip-path=\"url(#clip160)\" d=\"M115.927 1084.17 L123.566 1084.17 L123.566 1057.8 L115.256 1059.47 L115.256 1055.21 L123.519 1053.54 L128.195 1053.54 L128.195 1084.17 L135.834 1084.17 L135.834 1088.1 L115.927 1088.1 L115.927 1084.17 Z\" fill=\"#000000\" fill-rule=\"evenodd\" fill-opacity=\"1\" /><path clip-path=\"url(#clip160)\" d=\"M158.126 1057.62 L146.32 1076.07 L158.126 1076.07 L158.126 1057.62 M156.899 1053.54 L162.778 1053.54 L162.778 1076.07 L167.709 1076.07 L167.709 1079.95 L162.778 1079.95 L162.778 1088.1 L158.126 1088.1 L158.126 1079.95 L142.524 1079.95 L142.524 1075.44 L156.899 1053.54 Z\" fill=\"#000000\" fill-rule=\"evenodd\" fill-opacity=\"1\" /><path clip-path=\"url(#clip160)\" d=\"M175.44 1082.22 L180.325 1082.22 L180.325 1088.1 L175.44 1088.1 L175.44 1082.22 Z\" fill=\"#000000\" fill-rule=\"evenodd\" fill-opacity=\"1\" /><path clip-path=\"url(#clip160)\" d=\"M189.329 1053.54 L211.551 1053.54 L211.551 1055.53 L199.005 1088.1 L194.121 1088.1 L205.926 1057.48 L189.329 1057.48 L189.329 1053.54 Z\" fill=\"#000000\" fill-rule=\"evenodd\" fill-opacity=\"1\" /><path clip-path=\"url(#clip160)\" d=\"M220.718 1053.54 L239.074 1053.54 L239.074 1057.48 L225 1057.48 L225 1065.95 Q226.019 1065.6 227.037 1065.44 Q228.056 1065.26 229.074 1065.26 Q234.861 1065.26 238.241 1068.43 Q241.621 1071.6 241.621 1077.01 Q241.621 1082.59 238.148 1085.69 Q234.676 1088.77 228.357 1088.77 Q226.181 1088.77 223.912 1088.4 Q221.667 1088.03 219.26 1087.29 L219.26 1082.59 Q221.343 1083.73 223.565 1084.28 Q225.787 1084.84 228.264 1084.84 Q232.269 1084.84 234.607 1082.73 Q236.945 1080.63 236.945 1077.01 Q236.945 1073.4 234.607 1071.3 Q232.269 1069.19 228.264 1069.19 Q226.389 1069.19 224.514 1069.61 Q222.662 1070.02 220.718 1070.9 L220.718 1053.54 Z\" fill=\"#000000\" fill-rule=\"evenodd\" fill-opacity=\"1\" /><path clip-path=\"url(#clip160)\" d=\"M114.931 867.283 L122.57 867.283 L122.57 840.917 L114.26 842.584 L114.26 838.325 L122.524 836.658 L127.2 836.658 L127.2 867.283 L134.839 867.283 L134.839 871.218 L114.931 871.218 L114.931 867.283 Z\" fill=\"#000000\" fill-rule=\"evenodd\" fill-opacity=\"1\" /><path clip-path=\"url(#clip160)\" d=\"M144.329 836.658 L162.686 836.658 L162.686 840.593 L148.612 840.593 L148.612 849.065 Q149.63 848.718 150.649 848.556 Q151.667 848.371 152.686 848.371 Q158.473 848.371 161.852 851.542 Q165.232 854.714 165.232 860.13 Q165.232 865.709 161.76 868.811 Q158.288 871.889 151.968 871.889 Q149.792 871.889 147.524 871.519 Q145.279 871.149 142.871 870.408 L142.871 865.709 Q144.954 866.843 147.177 867.399 Q149.399 867.954 151.876 867.954 Q155.88 867.954 158.218 865.848 Q160.556 863.741 160.556 860.13 Q160.556 856.519 158.218 854.413 Q155.88 852.306 151.876 852.306 Q150.001 852.306 148.126 852.723 Q146.274 853.139 144.329 854.019 L144.329 836.658 Z\" fill=\"#000000\" fill-rule=\"evenodd\" fill-opacity=\"1\" /><path clip-path=\"url(#clip160)\" d=\"M174.445 865.338 L179.329 865.338 L179.329 871.218 L174.445 871.218 L174.445 865.338 Z\" fill=\"#000000\" fill-rule=\"evenodd\" fill-opacity=\"1\" /><path clip-path=\"url(#clip160)\" d=\"M199.514 839.737 Q195.903 839.737 194.075 843.302 Q192.269 846.843 192.269 853.973 Q192.269 861.079 194.075 864.644 Q195.903 868.186 199.514 868.186 Q203.149 868.186 204.954 864.644 Q206.783 861.079 206.783 853.973 Q206.783 846.843 204.954 843.302 Q203.149 839.737 199.514 839.737 M199.514 836.033 Q205.324 836.033 208.38 840.64 Q211.459 845.223 211.459 853.973 Q211.459 862.7 208.38 867.306 Q205.324 871.889 199.514 871.889 Q193.704 871.889 190.625 867.306 Q187.57 862.7 187.57 853.973 Q187.57 845.223 190.625 840.64 Q193.704 836.033 199.514 836.033 Z\" fill=\"#000000\" fill-rule=\"evenodd\" fill-opacity=\"1\" /><path clip-path=\"url(#clip160)\" d=\"M229.676 839.737 Q226.065 839.737 224.236 843.302 Q222.431 846.843 222.431 853.973 Q222.431 861.079 224.236 864.644 Q226.065 868.186 229.676 868.186 Q233.31 868.186 235.116 864.644 Q236.945 861.079 236.945 853.973 Q236.945 846.843 235.116 843.302 Q233.31 839.737 229.676 839.737 M229.676 836.033 Q235.486 836.033 238.542 840.64 Q241.621 845.223 241.621 853.973 Q241.621 862.7 238.542 867.306 Q235.486 871.889 229.676 871.889 Q223.866 871.889 220.787 867.306 Q217.732 862.7 217.732 853.973 Q217.732 845.223 220.787 840.64 Q223.866 836.033 229.676 836.033 Z\" fill=\"#000000\" fill-rule=\"evenodd\" fill-opacity=\"1\" /><path clip-path=\"url(#clip160)\" d=\"M115.927 650.399 L123.566 650.399 L123.566 624.033 L115.256 625.7 L115.256 621.441 L123.519 619.774 L128.195 619.774 L128.195 650.399 L135.834 650.399 L135.834 654.334 L115.927 654.334 L115.927 650.399 Z\" fill=\"#000000\" fill-rule=\"evenodd\" fill-opacity=\"1\" /><path clip-path=\"url(#clip160)\" d=\"M145.325 619.774 L163.681 619.774 L163.681 623.709 L149.607 623.709 L149.607 632.181 Q150.626 631.834 151.644 631.672 Q152.663 631.487 153.681 631.487 Q159.468 631.487 162.848 634.658 Q166.227 637.829 166.227 643.246 Q166.227 648.825 162.755 651.926 Q159.283 655.005 152.964 655.005 Q150.788 655.005 148.519 654.635 Q146.274 654.264 143.866 653.524 L143.866 648.825 Q145.95 649.959 148.172 650.514 Q150.394 651.07 152.871 651.07 Q156.876 651.07 159.214 648.964 Q161.552 646.857 161.552 643.246 Q161.552 639.635 159.214 637.528 Q156.876 635.422 152.871 635.422 Q150.996 635.422 149.121 635.839 Q147.269 636.255 145.325 637.135 L145.325 619.774 Z\" fill=\"#000000\" fill-rule=\"evenodd\" fill-opacity=\"1\" /><path clip-path=\"url(#clip160)\" d=\"M175.44 648.454 L180.325 648.454 L180.325 654.334 L175.44 654.334 L175.44 648.454 Z\" fill=\"#000000\" fill-rule=\"evenodd\" fill-opacity=\"1\" /><path clip-path=\"url(#clip160)\" d=\"M194.538 650.399 L210.857 650.399 L210.857 654.334 L188.913 654.334 L188.913 650.399 Q191.575 647.644 196.158 643.014 Q200.764 638.362 201.945 637.019 Q204.19 634.496 205.07 632.76 Q205.973 631.001 205.973 629.311 Q205.973 626.556 204.028 624.82 Q202.107 623.084 199.005 623.084 Q196.806 623.084 194.352 623.848 Q191.922 624.612 189.144 626.163 L189.144 621.441 Q191.968 620.306 194.422 619.728 Q196.875 619.149 198.912 619.149 Q204.283 619.149 207.477 621.834 Q210.672 624.519 210.672 629.01 Q210.672 631.14 209.861 633.061 Q209.074 634.959 206.968 637.552 Q206.389 638.223 203.287 641.44 Q200.186 644.635 194.538 650.399 Z\" fill=\"#000000\" fill-rule=\"evenodd\" fill-opacity=\"1\" /><path clip-path=\"url(#clip160)\" d=\"M220.718 619.774 L239.074 619.774 L239.074 623.709 L225 623.709 L225 632.181 Q226.019 631.834 227.037 631.672 Q228.056 631.487 229.074 631.487 Q234.861 631.487 238.241 634.658 Q241.621 637.829 241.621 643.246 Q241.621 648.825 238.148 651.926 Q234.676 655.005 228.357 655.005 Q226.181 655.005 223.912 654.635 Q221.667 654.264 219.26 653.524 L219.26 648.825 Q221.343 649.959 223.565 650.514 Q225.787 651.07 228.264 651.07 Q232.269 651.07 234.607 648.964 Q236.945 646.857 236.945 643.246 Q236.945 639.635 234.607 637.528 Q232.269 635.422 228.264 635.422 Q226.389 635.422 224.514 635.839 Q222.662 636.255 220.718 637.135 L220.718 619.774 Z\" fill=\"#000000\" fill-rule=\"evenodd\" fill-opacity=\"1\" /><path clip-path=\"url(#clip160)\" d=\"M114.931 433.515 L122.57 433.515 L122.57 407.149 L114.26 408.816 L114.26 404.556 L122.524 402.89 L127.2 402.89 L127.2 433.515 L134.839 433.515 L134.839 437.45 L114.931 437.45 L114.931 433.515 Z\" fill=\"#000000\" fill-rule=\"evenodd\" fill-opacity=\"1\" /><path clip-path=\"url(#clip160)\" d=\"M144.329 402.89 L162.686 402.89 L162.686 406.825 L148.612 406.825 L148.612 415.297 Q149.63 414.95 150.649 414.788 Q151.667 414.603 152.686 414.603 Q158.473 414.603 161.852 417.774 Q165.232 420.945 165.232 426.362 Q165.232 431.94 161.76 435.042 Q158.288 438.121 151.968 438.121 Q149.792 438.121 147.524 437.751 Q145.279 437.38 142.871 436.64 L142.871 431.94 Q144.954 433.075 147.177 433.63 Q149.399 434.186 151.876 434.186 Q155.88 434.186 158.218 432.079 Q160.556 429.973 160.556 426.362 Q160.556 422.751 158.218 420.644 Q155.88 418.538 151.876 418.538 Q150.001 418.538 148.126 418.954 Q146.274 419.371 144.329 420.251 L144.329 402.89 Z\" fill=\"#000000\" fill-rule=\"evenodd\" fill-opacity=\"1\" /><path clip-path=\"url(#clip160)\" d=\"M174.445 431.57 L179.329 431.57 L179.329 437.45 L174.445 437.45 L174.445 431.57 Z\" fill=\"#000000\" fill-rule=\"evenodd\" fill-opacity=\"1\" /><path clip-path=\"url(#clip160)\" d=\"M189.561 402.89 L207.917 402.89 L207.917 406.825 L193.843 406.825 L193.843 415.297 Q194.862 414.95 195.88 414.788 Q196.899 414.603 197.917 414.603 Q203.704 414.603 207.084 417.774 Q210.463 420.945 210.463 426.362 Q210.463 431.94 206.991 435.042 Q203.519 438.121 197.2 438.121 Q195.024 438.121 192.755 437.751 Q190.51 437.38 188.102 436.64 L188.102 431.94 Q190.186 433.075 192.408 433.63 Q194.63 434.186 197.107 434.186 Q201.112 434.186 203.449 432.079 Q205.787 429.973 205.787 426.362 Q205.787 422.751 203.449 420.644 Q201.112 418.538 197.107 418.538 Q195.232 418.538 193.357 418.954 Q191.505 419.371 189.561 420.251 L189.561 402.89 Z\" fill=\"#000000\" fill-rule=\"evenodd\" fill-opacity=\"1\" /><path clip-path=\"url(#clip160)\" d=\"M229.676 405.968 Q226.065 405.968 224.236 409.533 Q222.431 413.075 222.431 420.204 Q222.431 427.311 224.236 430.876 Q226.065 434.417 229.676 434.417 Q233.31 434.417 235.116 430.876 Q236.945 427.311 236.945 420.204 Q236.945 413.075 235.116 409.533 Q233.31 405.968 229.676 405.968 M229.676 402.265 Q235.486 402.265 238.542 406.871 Q241.621 411.454 241.621 420.204 Q241.621 428.931 238.542 433.538 Q235.486 438.121 229.676 438.121 Q223.866 438.121 220.787 433.538 Q217.732 428.931 217.732 420.204 Q217.732 411.454 220.787 406.871 Q223.866 402.265 229.676 402.265 Z\" fill=\"#000000\" fill-rule=\"evenodd\" fill-opacity=\"1\" /><path clip-path=\"url(#clip160)\" d=\"M115.927 216.63 L123.566 216.63 L123.566 190.265 L115.256 191.931 L115.256 187.672 L123.519 186.006 L128.195 186.006 L128.195 216.63 L135.834 216.63 L135.834 220.566 L115.927 220.566 L115.927 216.63 Z\" fill=\"#000000\" fill-rule=\"evenodd\" fill-opacity=\"1\" /><path clip-path=\"url(#clip160)\" d=\"M145.325 186.006 L163.681 186.006 L163.681 189.941 L149.607 189.941 L149.607 198.413 Q150.626 198.066 151.644 197.904 Q152.663 197.718 153.681 197.718 Q159.468 197.718 162.848 200.89 Q166.227 204.061 166.227 209.478 Q166.227 215.056 162.755 218.158 Q159.283 221.237 152.964 221.237 Q150.788 221.237 148.519 220.866 Q146.274 220.496 143.866 219.755 L143.866 215.056 Q145.95 216.191 148.172 216.746 Q150.394 217.302 152.871 217.302 Q156.876 217.302 159.214 215.195 Q161.552 213.089 161.552 209.478 Q161.552 205.867 159.214 203.76 Q156.876 201.654 152.871 201.654 Q150.996 201.654 149.121 202.07 Q147.269 202.487 145.325 203.367 L145.325 186.006 Z\" fill=\"#000000\" fill-rule=\"evenodd\" fill-opacity=\"1\" /><path clip-path=\"url(#clip160)\" d=\"M175.44 214.686 L180.325 214.686 L180.325 220.566 L175.44 220.566 L175.44 214.686 Z\" fill=\"#000000\" fill-rule=\"evenodd\" fill-opacity=\"1\" /><path clip-path=\"url(#clip160)\" d=\"M189.329 186.006 L211.551 186.006 L211.551 187.996 L199.005 220.566 L194.121 220.566 L205.926 189.941 L189.329 189.941 L189.329 186.006 Z\" fill=\"#000000\" fill-rule=\"evenodd\" fill-opacity=\"1\" /><path clip-path=\"url(#clip160)\" d=\"M220.718 186.006 L239.074 186.006 L239.074 189.941 L225 189.941 L225 198.413 Q226.019 198.066 227.037 197.904 Q228.056 197.718 229.074 197.718 Q234.861 197.718 238.241 200.89 Q241.621 204.061 241.621 209.478 Q241.621 215.056 238.148 218.158 Q234.676 221.237 228.357 221.237 Q226.181 221.237 223.912 220.866 Q221.667 220.496 219.26 219.755 L219.26 215.056 Q221.343 216.191 223.565 216.746 Q225.787 217.302 228.264 217.302 Q232.269 217.302 234.607 215.195 Q236.945 213.089 236.945 209.478 Q236.945 205.867 234.607 203.76 Q232.269 201.654 228.264 201.654 Q226.389 201.654 224.514 202.07 Q222.662 202.487 220.718 203.367 L220.718 186.006 Z\" fill=\"#000000\" fill-rule=\"evenodd\" fill-opacity=\"1\" /><path clip-path=\"url(#clip160)\" d=\"M57.2247 1106.75 L44.4614 1106.75 L44.4614 1117.25 L39.1779 1117.25 L39.1779 1100.38 L59.58 1100.38 Q62.2218 1104.11 63.5904 1108.59 Q64.9272 1113.08 64.9272 1118.17 Q64.9272 1129.31 58.4342 1135.62 Q51.9093 1141.89 40.2919 1141.89 Q28.6427 1141.89 22.1496 1135.62 Q15.6248 1129.31 15.6248 1118.17 Q15.6248 1113.53 16.7706 1109.36 Q17.9164 1105.16 20.1444 1101.62 L26.9876 1101.62 Q23.9639 1105.19 22.4361 1109.2 Q20.9083 1113.21 20.9083 1117.63 Q20.9083 1126.35 25.7781 1130.75 Q30.6479 1135.11 40.2919 1135.11 Q49.9041 1135.11 54.7739 1130.75 Q59.6436 1126.35 59.6436 1117.63 Q59.6436 1114.23 59.0707 1111.55 Q58.466 1108.88 57.2247 1106.75 Z\" fill=\"#000000\" fill-rule=\"evenodd\" fill-opacity=\"1\" /><path clip-path=\"url(#clip160)\" d=\"M14.479 1088.89 L14.479 1083.03 L64.0042 1083.03 L64.0042 1088.89 L14.479 1088.89 Z\" fill=\"#000000\" fill-rule=\"evenodd\" fill-opacity=\"1\" /><path clip-path=\"url(#clip160)\" d=\"M32.4621 1056.97 Q32.4621 1061.68 36.1542 1064.42 Q39.8145 1067.15 46.212 1067.15 Q52.6095 1067.15 56.3017 1064.45 Q59.9619 1061.71 59.9619 1056.97 Q59.9619 1052.29 56.2698 1049.55 Q52.5777 1046.81 46.212 1046.81 Q39.8781 1046.81 36.186 1049.55 Q32.4621 1052.29 32.4621 1056.97 M27.4968 1056.97 Q27.4968 1049.33 32.4621 1044.97 Q37.4273 1040.61 46.212 1040.61 Q54.9649 1040.61 59.9619 1044.97 Q64.9272 1049.33 64.9272 1056.97 Q64.9272 1064.64 59.9619 1069 Q54.9649 1073.33 46.212 1073.33 Q37.4273 1073.33 32.4621 1069 Q27.4968 1064.64 27.4968 1056.97 Z\" fill=\"#000000\" fill-rule=\"evenodd\" fill-opacity=\"1\" /><path clip-path=\"url(#clip160)\" d=\"M46.212 1005.31 Q39.7508 1005.31 36.0905 1007.98 Q32.3984 1010.62 32.3984 1015.27 Q32.3984 1019.92 36.0905 1022.59 Q39.7508 1025.23 46.212 1025.23 Q52.6732 1025.23 56.3653 1022.59 Q60.0256 1019.92 60.0256 1015.27 Q60.0256 1010.62 56.3653 1007.98 Q52.6732 1005.31 46.212 1005.31 M33.7671 1025.23 Q30.5842 1023.39 29.0564 1020.59 Q27.4968 1017.75 27.4968 1013.84 Q27.4968 1007.35 32.6531 1003.3 Q37.8093 999.23 46.212 999.23 Q54.6147 999.23 59.771 1003.3 Q64.9272 1007.35 64.9272 1013.84 Q64.9272 1017.75 63.3994 1020.59 Q61.8398 1023.39 58.657 1025.23 L64.0042 1025.23 L64.0042 1031.12 L14.479 1031.12 L14.479 1025.23 L33.7671 1025.23 Z\" fill=\"#000000\" fill-rule=\"evenodd\" fill-opacity=\"1\" /><path clip-path=\"url(#clip160)\" d=\"M46.0847 973.322 Q46.0847 980.42 47.7079 983.157 Q49.3312 985.894 53.2461 985.894 Q56.3653 985.894 58.2114 983.857 Q60.0256 981.788 60.0256 978.255 Q60.0256 973.386 56.5881 970.457 Q53.1188 967.497 47.3897 967.497 L46.0847 967.497 L46.0847 973.322 M43.6657 961.641 L64.0042 961.641 L64.0042 967.497 L58.5933 967.497 Q61.8398 969.502 63.3994 972.494 Q64.9272 975.486 64.9272 979.815 Q64.9272 985.289 61.8716 988.536 Q58.7843 991.751 53.6281 991.751 Q47.6125 991.751 44.5569 987.74 Q41.5014 983.698 41.5014 975.709 L41.5014 967.497 L40.9285 967.497 Q36.8862 967.497 34.6901 970.171 Q32.4621 972.813 32.4621 977.619 Q32.4621 980.674 33.1941 983.571 Q33.9262 986.467 35.3903 989.141 L29.9795 989.141 Q28.7381 985.926 28.1334 982.902 Q27.4968 979.879 27.4968 977.014 Q27.4968 969.28 31.5072 965.46 Q35.5176 961.641 43.6657 961.641 Z\" fill=\"#000000\" fill-rule=\"evenodd\" fill-opacity=\"1\" /><path clip-path=\"url(#clip160)\" d=\"M14.479 949.578 L14.479 943.721 L64.0042 943.721 L64.0042 949.578 L14.479 949.578 Z\" fill=\"#000000\" fill-rule=\"evenodd\" fill-opacity=\"1\" /><path clip-path=\"url(#clip160)\" d=\"M16.4842 917.081 L16.4842 876.881 L21.895 876.881 L21.895 893.751 L64.0042 893.751 L64.0042 900.212 L21.895 900.212 L21.895 917.081 L16.4842 917.081 Z\" fill=\"#000000\" fill-rule=\"evenodd\" fill-opacity=\"1\" /><path clip-path=\"url(#clip160)\" d=\"M44.7161 851.514 L47.5806 851.514 L47.5806 878.441 Q53.6281 878.059 56.8109 874.813 Q59.9619 871.534 59.9619 865.71 Q59.9619 862.336 59.1344 859.185 Q58.3069 856.002 56.6518 852.883 L62.1899 852.883 Q63.5267 856.034 64.227 859.344 Q64.9272 862.654 64.9272 866.06 Q64.9272 874.59 59.9619 879.587 Q54.9967 884.552 46.5303 884.552 Q37.7774 884.552 32.6531 879.841 Q27.4968 875.099 27.4968 867.078 Q27.4968 859.885 32.1438 855.715 Q36.7589 851.514 44.7161 851.514 M42.9973 857.371 Q38.1912 857.434 35.3266 860.076 Q32.4621 862.686 32.4621 867.015 Q32.4621 871.916 35.2312 874.876 Q38.0002 877.804 43.0292 878.25 L42.9973 857.371 Z\" fill=\"#000000\" fill-rule=\"evenodd\" fill-opacity=\"1\" /><path clip-path=\"url(#clip160)\" d=\"M35.1993 814.147 Q31.2526 811.951 29.3747 808.896 Q27.4968 805.84 27.4968 801.702 Q27.4968 796.132 31.4117 793.109 Q35.2948 790.085 42.4881 790.085 L64.0042 790.085 L64.0042 795.973 L42.679 795.973 Q37.5546 795.973 35.072 797.788 Q32.5894 799.602 32.5894 803.326 Q32.5894 807.877 35.6131 810.519 Q38.6368 813.161 43.8567 813.161 L64.0042 813.161 L64.0042 819.049 L42.679 819.049 Q37.5228 819.049 35.072 820.863 Q32.5894 822.677 32.5894 826.465 Q32.5894 830.953 35.6449 833.595 Q38.6686 836.236 43.8567 836.236 L64.0042 836.236 L64.0042 842.125 L28.3562 842.125 L28.3562 836.236 L33.8944 836.236 Q30.616 834.231 29.0564 831.43 Q27.4968 828.629 27.4968 824.778 Q27.4968 820.895 29.4702 818.19 Q31.4436 815.452 35.1993 814.147 Z\" fill=\"#000000\" fill-rule=\"evenodd\" fill-opacity=\"1\" /><path clip-path=\"url(#clip160)\" d=\"M58.657 772.738 L77.5631 772.738 L77.5631 778.627 L28.3562 778.627 L28.3562 772.738 L33.7671 772.738 Q30.5842 770.892 29.0564 768.091 Q27.4968 765.259 27.4968 761.344 Q27.4968 754.851 32.6531 750.809 Q37.8093 746.735 46.212 746.735 Q54.6147 746.735 59.771 750.809 Q64.9272 754.851 64.9272 761.344 Q64.9272 765.259 63.3994 768.091 Q61.8398 770.892 58.657 772.738 M46.212 752.814 Q39.7508 752.814 36.0905 755.487 Q32.3984 758.129 32.3984 762.776 Q32.3984 767.423 36.0905 770.097 Q39.7508 772.738 46.212 772.738 Q52.6732 772.738 56.3653 770.097 Q60.0256 767.423 60.0256 762.776 Q60.0256 758.129 56.3653 755.487 Q52.6732 752.814 46.212 752.814 Z\" fill=\"#000000\" fill-rule=\"evenodd\" fill-opacity=\"1\" /><path clip-path=\"url(#clip160)\" d=\"M44.7161 706.535 L47.5806 706.535 L47.5806 733.462 Q53.6281 733.08 56.8109 729.834 Q59.9619 726.555 59.9619 720.731 Q59.9619 717.357 59.1344 714.206 Q58.3069 711.023 56.6518 707.904 L62.1899 707.904 Q63.5267 711.055 64.227 714.365 Q64.9272 717.675 64.9272 721.081 Q64.9272 729.611 59.9619 734.608 Q54.9967 739.573 46.5303 739.573 Q37.7774 739.573 32.6531 734.863 Q27.4968 730.12 27.4968 722.099 Q27.4968 714.906 32.1438 710.736 Q36.7589 706.535 44.7161 706.535 M42.9973 712.392 Q38.1912 712.455 35.3266 715.097 Q32.4621 717.707 32.4621 722.036 Q32.4621 726.937 35.2312 729.897 Q38.0002 732.825 43.0292 733.271 L42.9973 712.392 Z\" fill=\"#000000\" fill-rule=\"evenodd\" fill-opacity=\"1\" /><path clip-path=\"url(#clip160)\" d=\"M33.8307 676.266 Q33.2578 677.253 33.0032 678.431 Q32.7167 679.576 32.7167 680.977 Q32.7167 685.942 35.9632 688.616 Q39.1779 691.257 45.2253 691.257 L64.0042 691.257 L64.0042 697.146 L28.3562 697.146 L28.3562 691.257 L33.8944 691.257 Q30.6479 689.411 29.0883 686.451 Q27.4968 683.491 27.4968 679.258 Q27.4968 678.653 27.5923 677.921 Q27.656 677.189 27.8151 676.298 L33.8307 676.266 Z\" fill=\"#000000\" fill-rule=\"evenodd\" fill-opacity=\"1\" /><path clip-path=\"url(#clip160)\" d=\"M46.0847 653.923 Q46.0847 661.02 47.7079 663.758 Q49.3312 666.495 53.2461 666.495 Q56.3653 666.495 58.2114 664.458 Q60.0256 662.389 60.0256 658.856 Q60.0256 653.986 56.5881 651.058 Q53.1188 648.098 47.3897 648.098 L46.0847 648.098 L46.0847 653.923 M43.6657 642.241 L64.0042 642.241 L64.0042 648.098 L58.5933 648.098 Q61.8398 650.103 63.3994 653.095 Q64.9272 656.087 64.9272 660.416 Q64.9272 665.89 61.8716 669.137 Q58.7843 672.351 53.6281 672.351 Q47.6125 672.351 44.5569 668.341 Q41.5014 664.299 41.5014 656.31 L41.5014 648.098 L40.9285 648.098 Q36.8862 648.098 34.6901 650.772 Q32.4621 653.413 32.4621 658.219 Q32.4621 661.275 33.1941 664.171 Q33.9262 667.068 35.3903 669.741 L29.9795 669.741 Q28.7381 666.527 28.1334 663.503 Q27.4968 660.479 27.4968 657.615 Q27.4968 649.88 31.5072 646.061 Q35.5176 642.241 43.6657 642.241 Z\" fill=\"#000000\" fill-rule=\"evenodd\" fill-opacity=\"1\" /><path clip-path=\"url(#clip160)\" d=\"M18.2347 624.386 L28.3562 624.386 L28.3562 612.323 L32.9077 612.323 L32.9077 624.386 L52.2594 624.386 Q56.6199 624.386 57.8613 623.208 Q59.1026 621.999 59.1026 618.338 L59.1026 612.323 L64.0042 612.323 L64.0042 618.338 Q64.0042 625.118 61.4897 627.696 Q58.9434 630.274 52.2594 630.274 L32.9077 630.274 L32.9077 634.571 L28.3562 634.571 L28.3562 630.274 L18.2347 630.274 L18.2347 624.386 Z\" fill=\"#000000\" fill-rule=\"evenodd\" fill-opacity=\"1\" /><path clip-path=\"url(#clip160)\" d=\"M49.9359 605.225 L28.3562 605.225 L28.3562 599.368 L49.7131 599.368 Q54.7739 599.368 57.3202 597.395 Q59.8346 595.422 59.8346 591.475 Q59.8346 586.733 56.8109 583.995 Q53.7872 581.226 48.5673 581.226 L28.3562 581.226 L28.3562 575.37 L64.0042 575.37 L64.0042 581.226 L58.5296 581.226 Q61.7762 583.359 63.3676 586.191 Q64.9272 588.992 64.9272 592.716 Q64.9272 598.859 61.1078 602.042 Q57.2883 605.225 49.9359 605.225 M27.4968 590.488 L27.4968 590.488 Z\" fill=\"#000000\" fill-rule=\"evenodd\" fill-opacity=\"1\" /><path clip-path=\"url(#clip160)\" d=\"M33.8307 542.65 Q33.2578 543.637 33.0032 544.814 Q32.7167 545.96 32.7167 547.361 Q32.7167 552.326 35.9632 554.999 Q39.1779 557.641 45.2253 557.641 L64.0042 557.641 L64.0042 563.53 L28.3562 563.53 L28.3562 557.641 L33.8944 557.641 Q30.6479 555.795 29.0883 552.835 Q27.4968 549.875 27.4968 545.642 Q27.4968 545.037 27.5923 544.305 Q27.656 543.573 27.8151 542.682 L33.8307 542.65 Z\" fill=\"#000000\" fill-rule=\"evenodd\" fill-opacity=\"1\" /><path clip-path=\"url(#clip160)\" d=\"M44.7161 507.448 L47.5806 507.448 L47.5806 534.375 Q53.6281 533.993 56.8109 530.746 Q59.9619 527.468 59.9619 521.643 Q59.9619 518.269 59.1344 515.118 Q58.3069 511.935 56.6518 508.816 L62.1899 508.816 Q63.5267 511.967 64.227 515.277 Q64.9272 518.588 64.9272 521.993 Q64.9272 530.523 59.9619 535.52 Q54.9967 540.486 46.5303 540.486 Q37.7774 540.486 32.6531 535.775 Q27.4968 531.033 27.4968 523.012 Q27.4968 515.819 32.1438 511.649 Q36.7589 507.448 44.7161 507.448 M42.9973 513.304 Q38.1912 513.368 35.3266 516.01 Q32.4621 518.619 32.4621 522.948 Q32.4621 527.85 35.2312 530.81 Q38.0002 533.738 43.0292 534.184 L42.9973 513.304 Z\" fill=\"#000000\" fill-rule=\"evenodd\" fill-opacity=\"1\" /><path clip-path=\"url(#clip160)\" d=\"M14.5426 463.047 Q21.8632 467.312 29.0246 469.381 Q36.186 471.45 43.5384 471.45 Q50.8908 471.45 58.1159 469.381 Q65.3091 467.28 72.5979 463.047 L72.5979 468.139 Q65.1182 472.914 57.8931 475.301 Q50.668 477.656 43.5384 477.656 Q36.4406 477.656 29.2474 475.301 Q22.0542 472.946 14.5426 468.139 L14.5426 463.047 Z\" fill=\"#000000\" fill-rule=\"evenodd\" fill-opacity=\"1\" /><path clip-path=\"url(#clip160)\" d=\"M20.1444 415.845 L26.9239 415.845 Q23.9002 419.092 22.4043 422.784 Q20.9083 426.444 20.9083 430.582 Q20.9083 438.73 25.9054 443.059 Q30.8707 447.387 40.2919 447.387 Q49.6813 447.387 54.6784 443.059 Q59.6436 438.73 59.6436 430.582 Q59.6436 426.444 58.1477 422.784 Q56.6518 419.092 53.6281 415.845 L60.3439 415.845 Q62.6355 419.219 63.7814 423.007 Q64.9272 426.762 64.9272 430.964 Q64.9272 441.754 58.3387 447.96 Q51.7183 454.167 40.2919 454.167 Q28.8336 454.167 22.2451 447.96 Q15.6248 441.754 15.6248 430.964 Q15.6248 426.699 16.7706 422.943 Q17.8846 419.155 20.1444 415.845 Z\" fill=\"#000000\" fill-rule=\"evenodd\" fill-opacity=\"1\" /><path clip-path=\"url(#clip160)\" d=\"M14.5426 407.092 L14.5426 402 Q22.0542 397.225 29.2474 394.87 Q36.4406 392.483 43.5384 392.483 Q50.668 392.483 57.8931 394.87 Q65.1182 397.225 72.5979 402 L72.5979 407.092 Q65.3091 402.859 58.1159 400.79 Q50.8908 398.69 43.5384 398.69 Q36.186 398.69 29.0246 400.79 Q21.8632 402.859 14.5426 407.092 Z\" fill=\"#000000\" fill-rule=\"evenodd\" fill-opacity=\"1\" /><path clip-path=\"url(#clip160)\" d=\"M311.597 12.096 L319.78 12.096 L319.78 72.576 L311.597 72.576 L311.597 12.096 Z\" fill=\"#000000\" fill-rule=\"evenodd\" fill-opacity=\"1\" /><path clip-path=\"url(#clip160)\" d=\"M373.454 45.1919 L373.454 72.576 L366.001 72.576 L366.001 45.4349 Q366.001 38.994 363.489 35.7938 Q360.978 32.5936 355.954 32.5936 Q349.919 32.5936 346.435 36.4419 Q342.951 40.2903 342.951 46.9338 L342.951 72.576 L335.457 72.576 L335.457 27.2059 L342.951 27.2059 L342.951 34.2544 Q345.625 30.163 349.23 28.1376 Q352.876 26.1121 357.615 26.1121 Q365.433 26.1121 369.444 30.9732 Q373.454 35.7938 373.454 45.1919 Z\" fill=\"#000000\" fill-rule=\"evenodd\" fill-opacity=\"1\" /><path clip-path=\"url(#clip160)\" d=\"M411.29 9.54393 L411.29 15.7418 L404.16 15.7418 Q400.15 15.7418 398.57 17.3622 Q397.031 18.9825 397.031 23.1955 L397.031 27.2059 L409.305 27.2059 L409.305 32.9987 L397.031 32.9987 L397.031 72.576 L389.536 72.576 L389.536 32.9987 L382.407 32.9987 L382.407 27.2059 L389.536 27.2059 L389.536 24.0462 Q389.536 16.471 393.061 13.0277 Q396.585 9.54393 404.241 9.54393 L411.29 9.54393 Z\" fill=\"#000000\" fill-rule=\"evenodd\" fill-opacity=\"1\" /><path clip-path=\"url(#clip160)\" d=\"M417.528 9.54393 L424.982 9.54393 L424.982 72.576 L417.528 72.576 L417.528 9.54393 Z\" fill=\"#000000\" fill-rule=\"evenodd\" fill-opacity=\"1\" /><path clip-path=\"url(#clip160)\" d=\"M439.808 54.671 L439.808 27.2059 L447.262 27.2059 L447.262 54.3874 Q447.262 60.8284 449.773 64.0691 Q452.285 67.2693 457.308 67.2693 Q463.344 67.2693 466.828 63.421 Q470.352 59.5726 470.352 52.9291 L470.352 27.2059 L477.806 27.2059 L477.806 72.576 L470.352 72.576 L470.352 65.6084 Q467.638 69.7404 464.033 71.7658 Q460.468 73.7508 455.728 73.7508 Q447.91 73.7508 443.859 68.8897 Q439.808 64.0286 439.808 54.671 M458.564 26.1121 L458.564 26.1121 Z\" fill=\"#000000\" fill-rule=\"evenodd\" fill-opacity=\"1\" /><path clip-path=\"url(#clip160)\" d=\"M531.966 48.0275 L531.966 51.6733 L497.696 51.6733 Q498.182 59.3701 502.314 63.421 Q506.486 67.4314 513.899 67.4314 Q518.193 67.4314 522.203 66.3781 Q526.254 65.3249 530.224 63.2184 L530.224 70.267 Q526.214 71.9684 522.001 72.8596 Q517.788 73.7508 513.454 73.7508 Q502.597 73.7508 496.237 67.4314 Q489.918 61.1119 489.918 50.3365 Q489.918 39.1965 495.913 32.6746 Q501.949 26.1121 512.157 26.1121 Q521.312 26.1121 526.619 32.0264 Q531.966 37.9003 531.966 48.0275 M524.513 45.84 Q524.431 39.7232 521.069 36.0774 Q517.747 32.4315 512.238 32.4315 Q506 32.4315 502.233 35.9558 Q498.506 39.4801 497.939 45.8805 L524.513 45.84 Z\" fill=\"#000000\" fill-rule=\"evenodd\" fill-opacity=\"1\" /><path clip-path=\"url(#clip160)\" d=\"M581.914 45.1919 L581.914 72.576 L574.46 72.576 L574.46 45.4349 Q574.46 38.994 571.949 35.7938 Q569.437 32.5936 564.414 32.5936 Q558.378 32.5936 554.894 36.4419 Q551.411 40.2903 551.411 46.9338 L551.411 72.576 L543.916 72.576 L543.916 27.2059 L551.411 27.2059 L551.411 34.2544 Q554.084 30.163 557.689 28.1376 Q561.335 26.1121 566.075 26.1121 Q573.893 26.1121 577.903 30.9732 Q581.914 35.7938 581.914 45.1919 Z\" fill=\"#000000\" fill-rule=\"evenodd\" fill-opacity=\"1\" /><path clip-path=\"url(#clip160)\" d=\"M629.431 28.9478 L629.431 35.9153 Q626.271 34.1734 623.071 33.3227 Q619.911 32.4315 616.671 32.4315 Q609.419 32.4315 605.409 37.0496 Q601.399 41.6271 601.399 49.9314 Q601.399 58.2358 605.409 62.8538 Q609.419 67.4314 616.671 67.4314 Q619.911 67.4314 623.071 66.5807 Q626.271 65.6895 629.431 63.9476 L629.431 70.8341 Q626.312 72.2924 622.949 73.0216 Q619.628 73.7508 615.86 73.7508 Q605.612 73.7508 599.576 67.3098 Q593.54 60.8689 593.54 49.9314 Q593.54 38.832 599.616 32.472 Q605.733 26.1121 616.347 26.1121 Q619.79 26.1121 623.071 26.8413 Q626.352 27.5299 629.431 28.9478 Z\" fill=\"#000000\" fill-rule=\"evenodd\" fill-opacity=\"1\" /><path clip-path=\"url(#clip160)\" d=\"M681.201 48.0275 L681.201 51.6733 L646.931 51.6733 Q647.417 59.3701 651.549 63.421 Q655.721 67.4314 663.134 67.4314 Q667.428 67.4314 671.439 66.3781 Q675.49 65.3249 679.46 63.2184 L679.46 70.267 Q675.449 71.9684 671.236 72.8596 Q667.023 73.7508 662.689 73.7508 Q651.832 73.7508 645.473 67.4314 Q639.153 61.1119 639.153 50.3365 Q639.153 39.1965 645.148 32.6746 Q651.184 26.1121 661.393 26.1121 Q670.548 26.1121 675.854 32.0264 Q681.201 37.9003 681.201 48.0275 M673.748 45.84 Q673.667 39.7232 670.305 36.0774 Q666.983 32.4315 661.474 32.4315 Q655.235 32.4315 651.468 35.9558 Q647.741 39.4801 647.174 45.8805 L673.748 45.84 Z\" fill=\"#000000\" fill-rule=\"evenodd\" fill-opacity=\"1\" /><path clip-path=\"url(#clip160)\" d=\"M737.388 32.4315 Q731.392 32.4315 727.908 37.1306 Q724.425 41.7891 724.425 49.9314 Q724.425 58.0738 727.868 62.7728 Q731.352 67.4314 737.388 67.4314 Q743.342 67.4314 746.826 62.7323 Q750.31 58.0333 750.31 49.9314 Q750.31 41.8701 746.826 37.1711 Q743.342 32.4315 737.388 32.4315 M737.388 26.1121 Q747.11 26.1121 752.659 32.4315 Q758.209 38.7509 758.209 49.9314 Q758.209 61.0714 752.659 67.4314 Q747.11 73.7508 737.388 73.7508 Q727.625 73.7508 722.075 67.4314 Q716.566 61.0714 716.566 49.9314 Q716.566 38.7509 722.075 32.4315 Q727.625 26.1121 737.388 26.1121 Z\" fill=\"#000000\" fill-rule=\"evenodd\" fill-opacity=\"1\" /><path clip-path=\"url(#clip160)\" d=\"M793.533 9.54393 L793.533 15.7418 L786.403 15.7418 Q782.393 15.7418 780.813 17.3622 Q779.274 18.9825 779.274 23.1955 L779.274 27.2059 L791.548 27.2059 L791.548 32.9987 L779.274 32.9987 L779.274 72.576 L771.78 72.576 L771.78 32.9987 L764.65 32.9987 L764.65 27.2059 L771.78 27.2059 L771.78 24.0462 Q771.78 16.471 775.304 13.0277 Q778.828 9.54393 786.484 9.54393 L793.533 9.54393 Z\" fill=\"#000000\" fill-rule=\"evenodd\" fill-opacity=\"1\" /><path clip-path=\"url(#clip160)\" d=\"M833.353 65.7705 L833.353 89.8329 L825.859 89.8329 L825.859 27.2059 L833.353 27.2059 L833.353 34.0924 Q835.703 30.0415 839.268 28.0971 Q842.873 26.1121 847.856 26.1121 Q856.12 26.1121 861.264 32.6746 Q866.449 39.2371 866.449 49.9314 Q866.449 60.6258 861.264 67.1883 Q856.12 73.7508 847.856 73.7508 Q842.873 73.7508 839.268 71.8063 Q835.703 69.8214 833.353 65.7705 M858.712 49.9314 Q858.712 41.7081 855.309 37.0496 Q851.947 32.3505 846.033 32.3505 Q840.118 32.3505 836.716 37.0496 Q833.353 41.7081 833.353 49.9314 Q833.353 58.1548 836.716 62.8538 Q840.118 67.5124 846.033 67.5124 Q851.947 67.5124 855.309 62.8538 Q858.712 58.1548 858.712 49.9314 Z\" fill=\"#000000\" fill-rule=\"evenodd\" fill-opacity=\"1\" /><path clip-path=\"url(#clip160)\" d=\"M878.805 27.2059 L886.258 27.2059 L886.258 72.576 L878.805 72.576 L878.805 27.2059 M878.805 9.54393 L886.258 9.54393 L886.258 18.9825 L878.805 18.9825 L878.805 9.54393 Z\" fill=\"#000000\" fill-rule=\"evenodd\" fill-opacity=\"1\" /><path clip-path=\"url(#clip160)\" d=\"M928.145 34.1734 Q926.889 33.4443 925.39 33.1202 Q923.932 32.7556 922.149 32.7556 Q915.83 32.7556 912.427 36.8875 Q909.065 40.9789 909.065 48.6757 L909.065 72.576 L901.571 72.576 L901.571 27.2059 L909.065 27.2059 L909.065 34.2544 Q911.414 30.1225 915.182 28.1376 Q918.949 26.1121 924.337 26.1121 Q925.106 26.1121 926.038 26.2337 Q926.97 26.3147 928.104 26.5172 L928.145 34.1734 Z\" fill=\"#000000\" fill-rule=\"evenodd\" fill-opacity=\"1\" /><path clip-path=\"url(#clip160)\" d=\"M956.582 49.7694 Q947.548 49.7694 944.065 51.8354 Q940.581 53.9013 940.581 58.8839 Q940.581 62.8538 943.173 65.2034 Q945.807 67.5124 950.303 67.5124 Q956.501 67.5124 960.228 63.1374 Q963.995 58.7219 963.995 51.4303 L963.995 49.7694 L956.582 49.7694 M971.449 46.6907 L971.449 72.576 L963.995 72.576 L963.995 65.6895 Q961.443 69.8214 957.635 71.8063 Q953.827 73.7508 948.318 73.7508 Q941.351 73.7508 937.219 69.8619 Q933.127 65.9325 933.127 59.3701 Q933.127 51.7138 938.231 47.825 Q943.376 43.9361 953.544 43.9361 L963.995 43.9361 L963.995 43.2069 Q963.995 38.0623 960.592 35.2672 Q957.23 32.4315 951.113 32.4315 Q947.224 32.4315 943.538 33.3632 Q939.852 34.295 936.449 36.1584 L936.449 29.2718 Q940.54 27.692 944.389 26.9223 Q948.237 26.1121 951.883 26.1121 Q961.727 26.1121 966.588 31.2163 Q971.449 36.3204 971.449 46.6907 Z\" fill=\"#000000\" fill-rule=\"evenodd\" fill-opacity=\"1\" /><path clip-path=\"url(#clip160)\" d=\"M994.174 14.324 L994.174 27.2059 L1009.53 27.2059 L1009.53 32.9987 L994.174 32.9987 L994.174 57.6282 Q994.174 63.1779 995.673 64.7578 Q997.213 66.3376 1001.87 66.3376 L1009.53 66.3376 L1009.53 72.576 L1001.87 72.576 Q993.243 72.576 989.961 69.3758 Q986.68 66.1351 986.68 57.6282 L986.68 32.9987 L981.211 32.9987 L981.211 27.2059 L986.68 27.2059 L986.68 14.324 L994.174 14.324 Z\" fill=\"#000000\" fill-rule=\"evenodd\" fill-opacity=\"1\" /><path clip-path=\"url(#clip160)\" d=\"M1058.14 48.0275 L1058.14 51.6733 L1023.87 51.6733 Q1024.35 59.3701 1028.49 63.421 Q1032.66 67.4314 1040.07 67.4314 Q1044.37 67.4314 1048.38 66.3781 Q1052.43 65.3249 1056.4 63.2184 L1056.4 70.267 Q1052.39 71.9684 1048.17 72.8596 Q1043.96 73.7508 1039.63 73.7508 Q1028.77 73.7508 1022.41 67.4314 Q1016.09 61.1119 1016.09 50.3365 Q1016.09 39.1965 1022.09 32.6746 Q1028.12 26.1121 1038.33 26.1121 Q1047.48 26.1121 1052.79 32.0264 Q1058.14 37.9003 1058.14 48.0275 M1050.68 45.84 Q1050.6 39.7232 1047.24 36.0774 Q1043.92 32.4315 1038.41 32.4315 Q1032.17 32.4315 1028.4 35.9558 Q1024.68 39.4801 1024.11 45.8805 L1050.68 45.84 Z\" fill=\"#000000\" fill-rule=\"evenodd\" fill-opacity=\"1\" /><path clip-path=\"url(#clip160)\" d=\"M1103.95 65.7705 L1103.95 89.8329 L1096.46 89.8329 L1096.46 27.2059 L1103.95 27.2059 L1103.95 34.0924 Q1106.3 30.0415 1109.87 28.0971 Q1113.47 26.1121 1118.46 26.1121 Q1126.72 26.1121 1131.86 32.6746 Q1137.05 39.2371 1137.05 49.9314 Q1137.05 60.6258 1131.86 67.1883 Q1126.72 73.7508 1118.46 73.7508 Q1113.47 73.7508 1109.87 71.8063 Q1106.3 69.8214 1103.95 65.7705 M1129.31 49.9314 Q1129.31 41.7081 1125.91 37.0496 Q1122.55 32.3505 1116.63 32.3505 Q1110.72 32.3505 1107.32 37.0496 Q1103.95 41.7081 1103.95 49.9314 Q1103.95 58.1548 1107.32 62.8538 Q1110.72 67.5124 1116.63 67.5124 Q1122.55 67.5124 1125.91 62.8538 Q1129.31 58.1548 1129.31 49.9314 Z\" fill=\"#000000\" fill-rule=\"evenodd\" fill-opacity=\"1\" /><path clip-path=\"url(#clip160)\" d=\"M1166.99 32.4315 Q1160.99 32.4315 1157.51 37.1306 Q1154.02 41.7891 1154.02 49.9314 Q1154.02 58.0738 1157.47 62.7728 Q1160.95 67.4314 1166.99 67.4314 Q1172.94 67.4314 1176.42 62.7323 Q1179.91 58.0333 1179.91 49.9314 Q1179.91 41.8701 1176.42 37.1711 Q1172.94 32.4315 1166.99 32.4315 M1166.99 26.1121 Q1176.71 26.1121 1182.26 32.4315 Q1187.81 38.7509 1187.81 49.9314 Q1187.81 61.0714 1182.26 67.4314 Q1176.71 73.7508 1166.99 73.7508 Q1157.22 73.7508 1151.67 67.4314 Q1146.16 61.0714 1146.16 49.9314 Q1146.16 38.7509 1151.67 32.4315 Q1157.22 26.1121 1166.99 26.1121 Z\" fill=\"#000000\" fill-rule=\"evenodd\" fill-opacity=\"1\" /><path clip-path=\"url(#clip160)\" d=\"M1207.37 65.7705 L1207.37 89.8329 L1199.88 89.8329 L1199.88 27.2059 L1207.37 27.2059 L1207.37 34.0924 Q1209.72 30.0415 1213.29 28.0971 Q1216.89 26.1121 1221.88 26.1121 Q1230.14 26.1121 1235.28 32.6746 Q1240.47 39.2371 1240.47 49.9314 Q1240.47 60.6258 1235.28 67.1883 Q1230.14 73.7508 1221.88 73.7508 Q1216.89 73.7508 1213.29 71.8063 Q1209.72 69.8214 1207.37 65.7705 M1232.73 49.9314 Q1232.73 41.7081 1229.33 37.0496 Q1225.97 32.3505 1220.05 32.3505 Q1214.14 32.3505 1210.74 37.0496 Q1207.37 41.7081 1207.37 49.9314 Q1207.37 58.1548 1210.74 62.8538 Q1214.14 67.5124 1220.05 67.5124 Q1225.97 67.5124 1229.33 62.8538 Q1232.73 58.1548 1232.73 49.9314 Z\" fill=\"#000000\" fill-rule=\"evenodd\" fill-opacity=\"1\" /><path clip-path=\"url(#clip160)\" d=\"M1252.05 54.671 L1252.05 27.2059 L1259.51 27.2059 L1259.51 54.3874 Q1259.51 60.8284 1262.02 64.0691 Q1264.53 67.2693 1269.55 67.2693 Q1275.59 67.2693 1279.07 63.421 Q1282.6 59.5726 1282.6 52.9291 L1282.6 27.2059 L1290.05 27.2059 L1290.05 72.576 L1282.6 72.576 L1282.6 65.6084 Q1279.88 69.7404 1276.28 71.7658 Q1272.71 73.7508 1267.97 73.7508 Q1260.16 73.7508 1256.11 68.8897 Q1252.05 64.0286 1252.05 54.671 M1270.81 26.1121 L1270.81 26.1121 Z\" fill=\"#000000\" fill-rule=\"evenodd\" fill-opacity=\"1\" /><path clip-path=\"url(#clip160)\" d=\"M1305.41 9.54393 L1312.86 9.54393 L1312.86 72.576 L1305.41 72.576 L1305.41 9.54393 Z\" fill=\"#000000\" fill-rule=\"evenodd\" fill-opacity=\"1\" /><path clip-path=\"url(#clip160)\" d=\"M1349.07 49.7694 Q1340.04 49.7694 1336.56 51.8354 Q1333.07 53.9013 1333.07 58.8839 Q1333.07 62.8538 1335.67 65.2034 Q1338.3 67.5124 1342.8 67.5124 Q1348.99 67.5124 1352.72 63.1374 Q1356.49 58.7219 1356.49 51.4303 L1356.49 49.7694 L1349.07 49.7694 M1363.94 46.6907 L1363.94 72.576 L1356.49 72.576 L1356.49 65.6895 Q1353.94 69.8214 1350.13 71.8063 Q1346.32 73.7508 1340.81 73.7508 Q1333.84 73.7508 1329.71 69.8619 Q1325.62 65.9325 1325.62 59.3701 Q1325.62 51.7138 1330.72 47.825 Q1335.87 43.9361 1346.04 43.9361 L1356.49 43.9361 L1356.49 43.2069 Q1356.49 38.0623 1353.08 35.2672 Q1349.72 32.4315 1343.61 32.4315 Q1339.72 32.4315 1336.03 33.3632 Q1332.34 34.295 1328.94 36.1584 L1328.94 29.2718 Q1333.03 27.692 1336.88 26.9223 Q1340.73 26.1121 1344.38 26.1121 Q1354.22 26.1121 1359.08 31.2163 Q1363.94 36.3204 1363.94 46.6907 Z\" fill=\"#000000\" fill-rule=\"evenodd\" fill-opacity=\"1\" /><path clip-path=\"url(#clip160)\" d=\"M1386.67 14.324 L1386.67 27.2059 L1402.02 27.2059 L1402.02 32.9987 L1386.67 32.9987 L1386.67 57.6282 Q1386.67 63.1779 1388.17 64.7578 Q1389.7 66.3376 1394.36 66.3376 L1402.02 66.3376 L1402.02 72.576 L1394.36 72.576 Q1385.73 72.576 1382.45 69.3758 Q1379.17 66.1351 1379.17 57.6282 L1379.17 32.9987 L1373.7 32.9987 L1373.7 27.2059 L1379.17 27.2059 L1379.17 14.324 L1386.67 14.324 Z\" fill=\"#000000\" fill-rule=\"evenodd\" fill-opacity=\"1\" /><path clip-path=\"url(#clip160)\" d=\"M1411.82 27.2059 L1419.28 27.2059 L1419.28 72.576 L1411.82 72.576 L1411.82 27.2059 M1411.82 9.54393 L1419.28 9.54393 L1419.28 18.9825 L1411.82 18.9825 L1411.82 9.54393 Z\" fill=\"#000000\" fill-rule=\"evenodd\" fill-opacity=\"1\" /><path clip-path=\"url(#clip160)\" d=\"M1452.45 32.4315 Q1446.46 32.4315 1442.97 37.1306 Q1439.49 41.7891 1439.49 49.9314 Q1439.49 58.0738 1442.93 62.7728 Q1446.42 67.4314 1452.45 67.4314 Q1458.41 67.4314 1461.89 62.7323 Q1465.38 58.0333 1465.38 49.9314 Q1465.38 41.8701 1461.89 37.1711 Q1458.41 32.4315 1452.45 32.4315 M1452.45 26.1121 Q1462.18 26.1121 1467.73 32.4315 Q1473.27 38.7509 1473.27 49.9314 Q1473.27 61.0714 1467.73 67.4314 Q1462.18 73.7508 1452.45 73.7508 Q1442.69 73.7508 1437.14 67.4314 Q1431.63 61.0714 1431.63 49.9314 Q1431.63 38.7509 1437.14 32.4315 Q1442.69 26.1121 1452.45 26.1121 Z\" fill=\"#000000\" fill-rule=\"evenodd\" fill-opacity=\"1\" /><path clip-path=\"url(#clip160)\" d=\"M1523.34 45.1919 L1523.34 72.576 L1515.89 72.576 L1515.89 45.4349 Q1515.89 38.994 1513.38 35.7938 Q1510.87 32.5936 1505.84 32.5936 Q1499.81 32.5936 1496.32 36.4419 Q1492.84 40.2903 1492.84 46.9338 L1492.84 72.576 L1485.35 72.576 L1485.35 27.2059 L1492.84 27.2059 L1492.84 34.2544 Q1495.51 30.163 1499.12 28.1376 Q1502.77 26.1121 1507.5 26.1121 Q1515.32 26.1121 1519.33 30.9732 Q1523.34 35.7938 1523.34 45.1919 Z\" fill=\"#000000\" fill-rule=\"evenodd\" fill-opacity=\"1\" /><path clip-path=\"url(#clip160)\" d=\"M1582.16 32.4315 Q1576.17 32.4315 1572.68 37.1306 Q1569.2 41.7891 1569.2 49.9314 Q1569.2 58.0738 1572.64 62.7728 Q1576.13 67.4314 1582.16 67.4314 Q1588.12 67.4314 1591.6 62.7323 Q1595.09 58.0333 1595.09 49.9314 Q1595.09 41.8701 1591.6 37.1711 Q1588.12 32.4315 1582.16 32.4315 M1582.16 26.1121 Q1591.89 26.1121 1597.43 32.4315 Q1602.98 38.7509 1602.98 49.9314 Q1602.98 61.0714 1597.43 67.4314 Q1591.89 73.7508 1582.16 73.7508 Q1572.4 73.7508 1566.85 67.4314 Q1561.34 61.0714 1561.34 49.9314 Q1561.34 38.7509 1566.85 32.4315 Q1572.4 26.1121 1582.16 26.1121 Z\" fill=\"#000000\" fill-rule=\"evenodd\" fill-opacity=\"1\" /><path clip-path=\"url(#clip160)\" d=\"M1653.05 45.1919 L1653.05 72.576 L1645.6 72.576 L1645.6 45.4349 Q1645.6 38.994 1643.09 35.7938 Q1640.58 32.5936 1635.55 32.5936 Q1629.52 32.5936 1626.03 36.4419 Q1622.55 40.2903 1622.55 46.9338 L1622.55 72.576 L1615.06 72.576 L1615.06 27.2059 L1622.55 27.2059 L1622.55 34.2544 Q1625.22 30.163 1628.83 28.1376 Q1632.48 26.1121 1637.21 26.1121 Q1645.03 26.1121 1649.04 30.9732 Q1653.05 35.7938 1653.05 45.1919 Z\" fill=\"#000000\" fill-rule=\"evenodd\" fill-opacity=\"1\" /><path clip-path=\"url(#clip160)\" d=\"M1724.15 49.3643 Q1724.15 41.2625 1720.79 36.8065 Q1717.46 32.3505 1711.43 32.3505 Q1705.43 32.3505 1702.07 36.8065 Q1698.75 41.2625 1698.75 49.3643 Q1698.75 57.4256 1702.07 61.8816 Q1705.43 66.3376 1711.43 66.3376 Q1717.46 66.3376 1720.79 61.8816 Q1724.15 57.4256 1724.15 49.3643 M1731.6 66.9452 Q1731.6 78.5308 1726.46 84.1616 Q1721.31 89.8329 1710.7 89.8329 Q1706.77 89.8329 1703.29 89.2252 Q1699.8 88.6581 1696.52 87.4428 L1696.52 80.1917 Q1699.8 81.9741 1703 82.8248 Q1706.2 83.6755 1709.52 83.6755 Q1716.86 83.6755 1720.5 79.8271 Q1724.15 76.0193 1724.15 68.282 L1724.15 64.5957 Q1721.84 68.6061 1718.23 70.5911 Q1714.63 72.576 1709.6 72.576 Q1701.26 72.576 1696.16 66.2161 Q1691.05 59.8562 1691.05 49.3643 Q1691.05 38.832 1696.16 32.472 Q1701.26 26.1121 1709.6 26.1121 Q1714.63 26.1121 1718.23 28.0971 Q1721.84 30.082 1724.15 34.0924 L1724.15 27.2059 L1731.6 27.2059 L1731.6 66.9452 Z\" fill=\"#000000\" fill-rule=\"evenodd\" fill-opacity=\"1\" /><path clip-path=\"url(#clip160)\" d=\"M1746.95 9.54393 L1754.41 9.54393 L1754.41 72.576 L1746.95 72.576 L1746.95 9.54393 Z\" fill=\"#000000\" fill-rule=\"evenodd\" fill-opacity=\"1\" /><path clip-path=\"url(#clip160)\" d=\"M1787.58 32.4315 Q1781.59 32.4315 1778.11 37.1306 Q1774.62 41.7891 1774.62 49.9314 Q1774.62 58.0738 1778.06 62.7728 Q1781.55 67.4314 1787.58 67.4314 Q1793.54 67.4314 1797.02 62.7323 Q1800.51 58.0333 1800.51 49.9314 Q1800.51 41.8701 1797.02 37.1711 Q1793.54 32.4315 1787.58 32.4315 M1787.58 26.1121 Q1797.31 26.1121 1802.86 32.4315 Q1808.41 38.7509 1808.41 49.9314 Q1808.41 61.0714 1802.86 67.4314 Q1797.31 73.7508 1787.58 73.7508 Q1777.82 73.7508 1772.27 67.4314 Q1766.76 61.0714 1766.76 49.9314 Q1766.76 38.7509 1772.27 32.4315 Q1777.82 26.1121 1787.58 26.1121 Z\" fill=\"#000000\" fill-rule=\"evenodd\" fill-opacity=\"1\" /><path clip-path=\"url(#clip160)\" d=\"M1853.33 49.9314 Q1853.33 41.7081 1849.93 37.0496 Q1846.57 32.3505 1840.65 32.3505 Q1834.74 32.3505 1831.33 37.0496 Q1827.97 41.7081 1827.97 49.9314 Q1827.97 58.1548 1831.33 62.8538 Q1834.74 67.5124 1840.65 67.5124 Q1846.57 67.5124 1849.93 62.8538 Q1853.33 58.1548 1853.33 49.9314 M1827.97 34.0924 Q1830.32 30.0415 1833.89 28.0971 Q1837.49 26.1121 1842.47 26.1121 Q1850.74 26.1121 1855.88 32.6746 Q1861.07 39.2371 1861.07 49.9314 Q1861.07 60.6258 1855.88 67.1883 Q1850.74 73.7508 1842.47 73.7508 Q1837.49 73.7508 1833.89 71.8063 Q1830.32 69.8214 1827.97 65.7705 L1827.97 72.576 L1820.48 72.576 L1820.48 9.54393 L1827.97 9.54393 L1827.97 34.0924 Z\" fill=\"#000000\" fill-rule=\"evenodd\" fill-opacity=\"1\" /><path clip-path=\"url(#clip160)\" d=\"M1894.04 49.7694 Q1885.01 49.7694 1881.52 51.8354 Q1878.04 53.9013 1878.04 58.8839 Q1878.04 62.8538 1880.63 65.2034 Q1883.27 67.5124 1887.76 67.5124 Q1893.96 67.5124 1897.69 63.1374 Q1901.46 58.7219 1901.46 51.4303 L1901.46 49.7694 L1894.04 49.7694 M1908.91 46.6907 L1908.91 72.576 L1901.46 72.576 L1901.46 65.6895 Q1898.9 69.8214 1895.1 71.8063 Q1891.29 73.7508 1885.78 73.7508 Q1878.81 73.7508 1874.68 69.8619 Q1870.59 65.9325 1870.59 59.3701 Q1870.59 51.7138 1875.69 47.825 Q1880.84 43.9361 1891 43.9361 L1901.46 43.9361 L1901.46 43.2069 Q1901.46 38.0623 1898.05 35.2672 Q1894.69 32.4315 1888.57 32.4315 Q1884.68 32.4315 1881 33.3632 Q1877.31 34.295 1873.91 36.1584 L1873.91 29.2718 Q1878 27.692 1881.85 26.9223 Q1885.7 26.1121 1889.34 26.1121 Q1899.19 26.1121 1904.05 31.2163 Q1908.91 36.3204 1908.91 46.6907 Z\" fill=\"#000000\" fill-rule=\"evenodd\" fill-opacity=\"1\" /><path clip-path=\"url(#clip160)\" d=\"M1924.26 9.54393 L1931.72 9.54393 L1931.72 72.576 L1924.26 72.576 L1924.26 9.54393 Z\" fill=\"#000000\" fill-rule=\"evenodd\" fill-opacity=\"1\" /><path clip-path=\"url(#clip160)\" d=\"M1969.35 27.2059 L1976.8 27.2059 L1986.12 62.6108 L1995.4 27.2059 L2004.19 27.2059 L2013.5 62.6108 L2022.78 27.2059 L2030.23 27.2059 L2018.36 72.576 L2009.57 72.576 L1999.81 35.3887 L1990.01 72.576 L1981.22 72.576 L1969.35 27.2059 Z\" fill=\"#000000\" fill-rule=\"evenodd\" fill-opacity=\"1\" /><path clip-path=\"url(#clip160)\" d=\"M2062.15 49.7694 Q2053.12 49.7694 2049.64 51.8354 Q2046.15 53.9013 2046.15 58.8839 Q2046.15 62.8538 2048.75 65.2034 Q2051.38 67.5124 2055.88 67.5124 Q2062.07 67.5124 2065.8 63.1374 Q2069.57 58.7219 2069.57 51.4303 L2069.57 49.7694 L2062.15 49.7694 M2077.02 46.6907 L2077.02 72.576 L2069.57 72.576 L2069.57 65.6895 Q2067.02 69.8214 2063.21 71.8063 Q2059.4 73.7508 2053.89 73.7508 Q2046.92 73.7508 2042.79 69.8619 Q2038.7 65.9325 2038.7 59.3701 Q2038.7 51.7138 2043.8 47.825 Q2048.95 43.9361 2059.12 43.9361 L2069.57 43.9361 L2069.57 43.2069 Q2069.57 38.0623 2066.17 35.2672 Q2062.8 32.4315 2056.69 32.4315 Q2052.8 32.4315 2049.11 33.3632 Q2045.42 34.295 2042.02 36.1584 L2042.02 29.2718 Q2046.11 27.692 2049.96 26.9223 Q2053.81 26.1121 2057.46 26.1121 Q2067.3 26.1121 2072.16 31.2163 Q2077.02 36.3204 2077.02 46.6907 Z\" fill=\"#000000\" fill-rule=\"evenodd\" fill-opacity=\"1\" /><path clip-path=\"url(#clip160)\" d=\"M2118.66 34.1734 Q2117.41 33.4443 2115.91 33.1202 Q2114.45 32.7556 2112.67 32.7556 Q2106.35 32.7556 2102.95 36.8875 Q2099.59 40.9789 2099.59 48.6757 L2099.59 72.576 L2092.09 72.576 L2092.09 27.2059 L2099.59 27.2059 L2099.59 34.2544 Q2101.93 30.1225 2105.7 28.1376 Q2109.47 26.1121 2114.86 26.1121 Q2115.63 26.1121 2116.56 26.2337 Q2117.49 26.3147 2118.62 26.5172 L2118.66 34.1734 Z\" fill=\"#000000\" fill-rule=\"evenodd\" fill-opacity=\"1\" /><path clip-path=\"url(#clip160)\" d=\"M2160.35 35.9153 Q2163.14 30.8922 2167.03 28.5022 Q2170.92 26.1121 2176.19 26.1121 Q2183.28 26.1121 2187.13 31.0947 Q2190.97 36.0368 2190.97 45.1919 L2190.97 72.576 L2183.48 72.576 L2183.48 45.4349 Q2183.48 38.913 2181.17 35.7533 Q2178.86 32.5936 2174.12 32.5936 Q2168.33 32.5936 2164.97 36.4419 Q2161.6 40.2903 2161.6 46.9338 L2161.6 72.576 L2154.11 72.576 L2154.11 45.4349 Q2154.11 38.8725 2151.8 35.7533 Q2149.49 32.5936 2144.67 32.5936 Q2138.96 32.5936 2135.6 36.4824 Q2132.24 40.3308 2132.24 46.9338 L2132.24 72.576 L2124.74 72.576 L2124.74 27.2059 L2132.24 27.2059 L2132.24 34.2544 Q2134.79 30.082 2138.35 28.0971 Q2141.92 26.1121 2146.82 26.1121 Q2151.76 26.1121 2155.2 28.6237 Q2158.69 31.1352 2160.35 35.9153 Z\" fill=\"#000000\" fill-rule=\"evenodd\" fill-opacity=\"1\" /><path clip-path=\"url(#clip160)\" d=\"M2205.84 27.2059 L2213.29 27.2059 L2213.29 72.576 L2205.84 72.576 L2205.84 27.2059 M2205.84 9.54393 L2213.29 9.54393 L2213.29 18.9825 L2205.84 18.9825 L2205.84 9.54393 Z\" fill=\"#000000\" fill-rule=\"evenodd\" fill-opacity=\"1\" /><path clip-path=\"url(#clip160)\" d=\"M2266.6 45.1919 L2266.6 72.576 L2259.15 72.576 L2259.15 45.4349 Q2259.15 38.994 2256.64 35.7938 Q2254.13 32.5936 2249.1 32.5936 Q2243.07 32.5936 2239.58 36.4419 Q2236.1 40.2903 2236.1 46.9338 L2236.1 72.576 L2228.61 72.576 L2228.61 27.2059 L2236.1 27.2059 L2236.1 34.2544 Q2238.77 30.163 2242.38 28.1376 Q2246.03 26.1121 2250.76 26.1121 Q2258.58 26.1121 2262.59 30.9732 Q2266.6 35.7938 2266.6 45.1919 Z\" fill=\"#000000\" fill-rule=\"evenodd\" fill-opacity=\"1\" /><path clip-path=\"url(#clip160)\" d=\"M2311.33 49.3643 Q2311.33 41.2625 2307.96 36.8065 Q2304.64 32.3505 2298.61 32.3505 Q2292.61 32.3505 2289.25 36.8065 Q2285.93 41.2625 2285.93 49.3643 Q2285.93 57.4256 2289.25 61.8816 Q2292.61 66.3376 2298.61 66.3376 Q2304.64 66.3376 2307.96 61.8816 Q2311.33 57.4256 2311.33 49.3643 M2318.78 66.9452 Q2318.78 78.5308 2313.63 84.1616 Q2308.49 89.8329 2297.88 89.8329 Q2293.95 89.8329 2290.46 89.2252 Q2286.98 88.6581 2283.7 87.4428 L2283.7 80.1917 Q2286.98 81.9741 2290.18 82.8248 Q2293.38 83.6755 2296.7 83.6755 Q2304.03 83.6755 2307.68 79.8271 Q2311.33 76.0193 2311.33 68.282 L2311.33 64.5957 Q2309.02 68.6061 2305.41 70.5911 Q2301.81 72.576 2296.78 72.576 Q2288.44 72.576 2283.33 66.2161 Q2278.23 59.8562 2278.23 49.3643 Q2278.23 38.832 2283.33 32.472 Q2288.44 26.1121 2296.78 26.1121 Q2301.81 26.1121 2305.41 28.0971 Q2309.02 30.082 2311.33 34.0924 L2311.33 27.2059 L2318.78 27.2059 L2318.78 66.9452 Z\" fill=\"#000000\" fill-rule=\"evenodd\" fill-opacity=\"1\" /><polyline clip-path=\"url(#clip162)\" style=\"stroke:#009af9; stroke-linecap:butt; stroke-linejoin:round; stroke-width:4; stroke-opacity:1; fill:none\" points=\"\n",
       "  336.351,1374.46 1424.36,1287.71 1641.96,1027.45 2077.16,680.431 2277.36,420.17 2294.03,159.909 \n",
       "  \"/>\n",
       "<circle clip-path=\"url(#clip162)\" cx=\"336.351\" cy=\"1374.46\" r=\"14\" fill=\"#e26f46\" fill-rule=\"evenodd\" fill-opacity=\"1\" stroke=\"#000000\" stroke-opacity=\"1\" stroke-width=\"3.2\"/>\n",
       "<circle clip-path=\"url(#clip162)\" cx=\"1424.36\" cy=\"1287.71\" r=\"14\" fill=\"#e26f46\" fill-rule=\"evenodd\" fill-opacity=\"1\" stroke=\"#000000\" stroke-opacity=\"1\" stroke-width=\"3.2\"/>\n",
       "<circle clip-path=\"url(#clip162)\" cx=\"1641.96\" cy=\"1027.45\" r=\"14\" fill=\"#e26f46\" fill-rule=\"evenodd\" fill-opacity=\"1\" stroke=\"#000000\" stroke-opacity=\"1\" stroke-width=\"3.2\"/>\n",
       "<circle clip-path=\"url(#clip162)\" cx=\"2077.16\" cy=\"680.431\" r=\"14\" fill=\"#e26f46\" fill-rule=\"evenodd\" fill-opacity=\"1\" stroke=\"#000000\" stroke-opacity=\"1\" stroke-width=\"3.2\"/>\n",
       "<circle clip-path=\"url(#clip162)\" cx=\"2277.36\" cy=\"420.17\" r=\"14\" fill=\"#e26f46\" fill-rule=\"evenodd\" fill-opacity=\"1\" stroke=\"#000000\" stroke-opacity=\"1\" stroke-width=\"3.2\"/>\n",
       "<circle clip-path=\"url(#clip162)\" cx=\"2294.03\" cy=\"159.909\" r=\"14\" fill=\"#e26f46\" fill-rule=\"evenodd\" fill-opacity=\"1\" stroke=\"#000000\" stroke-opacity=\"1\" stroke-width=\"3.2\"/>\n",
       "<path clip-path=\"url(#clip160)\" d=\"\n",
       "M1914.03 321.906 L2283.58 321.906 L2283.58 166.386 L1914.03 166.386  Z\n",
       "  \" fill=\"#ffffff\" fill-rule=\"evenodd\" fill-opacity=\"1\"/>\n",
       "<polyline clip-path=\"url(#clip160)\" style=\"stroke:#000000; stroke-linecap:butt; stroke-linejoin:round; stroke-width:4; stroke-opacity:1; fill:none\" points=\"\n",
       "  1914.03,321.906 2283.58,321.906 2283.58,166.386 1914.03,166.386 1914.03,321.906 \n",
       "  \"/>\n",
       "<polyline clip-path=\"url(#clip160)\" style=\"stroke:#009af9; stroke-linecap:butt; stroke-linejoin:round; stroke-width:4; stroke-opacity:1; fill:none\" points=\"\n",
       "  1937.09,218.226 2075.43,218.226 \n",
       "  \"/>\n",
       "<path clip-path=\"url(#clip160)\" d=\"M2098.49 199.488 L2102.75 199.488 L2102.75 235.506 L2098.49 235.506 L2098.49 199.488 Z\" fill=\"#000000\" fill-rule=\"evenodd\" fill-opacity=\"1\" /><path clip-path=\"url(#clip160)\" d=\"M2111.66 209.58 L2115.92 209.58 L2115.92 235.506 L2111.66 235.506 L2111.66 209.58 M2111.66 199.488 L2115.92 199.488 L2115.92 204.881 L2111.66 204.881 L2111.66 199.488 Z\" fill=\"#000000\" fill-rule=\"evenodd\" fill-opacity=\"1\" /><path clip-path=\"url(#clip160)\" d=\"M2146.38 219.858 L2146.38 235.506 L2142.12 235.506 L2142.12 219.997 Q2142.12 216.317 2140.69 214.488 Q2139.25 212.659 2136.38 212.659 Q2132.93 212.659 2130.94 214.858 Q2128.95 217.057 2128.95 220.854 L2128.95 235.506 L2124.67 235.506 L2124.67 209.58 L2128.95 209.58 L2128.95 213.608 Q2130.48 211.27 2132.54 210.113 Q2134.62 208.955 2137.33 208.955 Q2141.8 208.955 2144.09 211.733 Q2146.38 214.488 2146.38 219.858 Z\" fill=\"#000000\" fill-rule=\"evenodd\" fill-opacity=\"1\" /><path clip-path=\"url(#clip160)\" d=\"M2177.05 221.479 L2177.05 223.562 L2157.47 223.562 Q2157.75 227.96 2160.11 230.275 Q2162.49 232.566 2166.73 232.566 Q2169.18 232.566 2171.48 231.965 Q2173.79 231.363 2176.06 230.159 L2176.06 234.187 Q2173.77 235.159 2171.36 235.668 Q2168.95 236.178 2166.48 236.178 Q2160.27 236.178 2156.64 232.566 Q2153.03 228.955 2153.03 222.798 Q2153.03 216.432 2156.45 212.705 Q2159.9 208.955 2165.73 208.955 Q2170.97 208.955 2174 212.335 Q2177.05 215.692 2177.05 221.479 M2172.8 220.229 Q2172.75 216.733 2170.83 214.65 Q2168.93 212.567 2165.78 212.567 Q2162.22 212.567 2160.06 214.58 Q2157.93 216.594 2157.61 220.252 L2172.8 220.229 Z\" fill=\"#000000\" fill-rule=\"evenodd\" fill-opacity=\"1\" /><circle clip-path=\"url(#clip160)\" cx=\"2006.26\" cy=\"270.066\" r=\"23\" fill=\"#e26f46\" fill-rule=\"evenodd\" fill-opacity=\"1\" stroke=\"#000000\" stroke-opacity=\"1\" stroke-width=\"5.12\"/>\n",
       "<path clip-path=\"url(#clip160)\" d=\"M2102.77 283.457 L2102.77 297.207 L2098.49 297.207 L2098.49 261.42 L2102.77 261.42 L2102.77 265.356 Q2104.11 263.041 2106.15 261.93 Q2108.21 260.795 2111.06 260.795 Q2115.78 260.795 2118.72 264.545 Q2121.68 268.295 2121.68 274.407 Q2121.68 280.518 2118.72 284.268 Q2115.78 288.018 2111.06 288.018 Q2108.21 288.018 2106.15 286.906 Q2104.11 285.772 2102.77 283.457 M2117.26 274.407 Q2117.26 269.707 2115.32 267.045 Q2113.4 264.36 2110.02 264.36 Q2106.64 264.36 2104.69 267.045 Q2102.77 269.707 2102.77 274.407 Q2102.77 279.106 2104.69 281.791 Q2106.64 284.453 2110.02 284.453 Q2113.4 284.453 2115.32 281.791 Q2117.26 279.106 2117.26 274.407 Z\" fill=\"#000000\" fill-rule=\"evenodd\" fill-opacity=\"1\" /><path clip-path=\"url(#clip160)\" d=\"M2138.79 264.407 Q2135.36 264.407 2133.37 267.092 Q2131.38 269.754 2131.38 274.407 Q2131.38 279.059 2133.35 281.744 Q2135.34 284.406 2138.79 284.406 Q2142.19 284.406 2144.18 281.721 Q2146.17 279.036 2146.17 274.407 Q2146.17 269.8 2144.18 267.115 Q2142.19 264.407 2138.79 264.407 M2138.79 260.795 Q2144.35 260.795 2147.52 264.407 Q2150.69 268.018 2150.69 274.407 Q2150.69 280.772 2147.52 284.406 Q2144.35 288.018 2138.79 288.018 Q2133.21 288.018 2130.04 284.406 Q2126.89 280.772 2126.89 274.407 Q2126.89 268.018 2130.04 264.407 Q2133.21 260.795 2138.79 260.795 Z\" fill=\"#000000\" fill-rule=\"evenodd\" fill-opacity=\"1\" /><path clip-path=\"url(#clip160)\" d=\"M2157.75 261.42 L2162.01 261.42 L2162.01 287.346 L2157.75 287.346 L2157.75 261.42 M2157.75 251.328 L2162.01 251.328 L2162.01 256.721 L2157.75 256.721 L2157.75 251.328 Z\" fill=\"#000000\" fill-rule=\"evenodd\" fill-opacity=\"1\" /><path clip-path=\"url(#clip160)\" d=\"M2192.47 271.698 L2192.47 287.346 L2188.21 287.346 L2188.21 271.837 Q2188.21 268.157 2186.78 266.328 Q2185.34 264.499 2182.47 264.499 Q2179.02 264.499 2177.03 266.698 Q2175.04 268.897 2175.04 272.694 L2175.04 287.346 L2170.76 287.346 L2170.76 261.42 L2175.04 261.42 L2175.04 265.448 Q2176.57 263.11 2178.63 261.953 Q2180.71 260.795 2183.42 260.795 Q2187.89 260.795 2190.18 263.573 Q2192.47 266.328 2192.47 271.698 Z\" fill=\"#000000\" fill-rule=\"evenodd\" fill-opacity=\"1\" /><path clip-path=\"url(#clip160)\" d=\"M2205.18 254.059 L2205.18 261.42 L2213.95 261.42 L2213.95 264.731 L2205.18 264.731 L2205.18 278.805 Q2205.18 281.976 2206.04 282.879 Q2206.92 283.781 2209.58 283.781 L2213.95 283.781 L2213.95 287.346 L2209.58 287.346 Q2204.65 287.346 2202.77 285.518 Q2200.9 283.666 2200.9 278.805 L2200.9 264.731 L2197.77 264.731 L2197.77 261.42 L2200.9 261.42 L2200.9 254.059 L2205.18 254.059 Z\" fill=\"#000000\" fill-rule=\"evenodd\" fill-opacity=\"1\" /><path clip-path=\"url(#clip160)\" d=\"M2236.08 262.184 L2236.08 266.212 Q2234.28 265.286 2232.33 264.823 Q2230.39 264.36 2228.3 264.36 Q2225.13 264.36 2223.54 265.333 Q2221.96 266.305 2221.96 268.249 Q2221.96 269.731 2223.1 270.587 Q2224.23 271.42 2227.66 272.184 L2229.11 272.508 Q2233.65 273.481 2235.55 275.263 Q2237.47 277.022 2237.47 280.194 Q2237.47 283.805 2234.6 285.911 Q2231.75 288.018 2226.75 288.018 Q2224.67 288.018 2222.4 287.601 Q2220.16 287.207 2217.66 286.397 L2217.66 281.999 Q2220.02 283.226 2222.31 283.851 Q2224.6 284.453 2226.85 284.453 Q2229.85 284.453 2231.48 283.434 Q2233.1 282.393 2233.1 280.518 Q2233.1 278.782 2231.92 277.856 Q2230.76 276.93 2226.8 276.073 L2225.32 275.726 Q2221.36 274.893 2219.6 273.18 Q2217.84 271.444 2217.84 268.434 Q2217.84 264.777 2220.43 262.786 Q2223.03 260.795 2227.79 260.795 Q2230.16 260.795 2232.24 261.143 Q2234.32 261.49 2236.08 262.184 Z\" fill=\"#000000\" fill-rule=\"evenodd\" fill-opacity=\"1\" /></svg>\n"
      ]
     },
     "execution_count": 69,
     "metadata": {},
     "output_type": "execute_result"
    }
   ],
   "source": [
    "xflip!()"
   ]
  },
  {
   "cell_type": "markdown",
   "id": "f261c38a-2849-4598-b0bf-6d59ed145390",
   "metadata": {},
   "source": [
    "绘图就是这样简单！\n",
    "\n",
    "**注意** 这是一个关于人们是如何经常结合相关性和因果性的笑话。\n",
    "\n",
    "不需要修改语法，我们可以在 `unicodeplots()` 后端中绘制同样的图像"
   ]
  },
  {
   "cell_type": "code",
   "execution_count": 70,
   "id": "509caf2f-e8da-4936-b378-32f12fb84cbf",
   "metadata": {},
   "outputs": [
    {
     "data": {
      "text/plain": [
       "Plots.UnicodePlotsBackend()"
      ]
     },
     "execution_count": 70,
     "metadata": {},
     "output_type": "execute_result"
    }
   ],
   "source": [
    "unicodeplots()"
   ]
  },
  {
   "cell_type": "code",
   "execution_count": 71,
   "id": "f496238e-57bb-4412-a4e9-e19c9cf25a63",
   "metadata": {},
   "outputs": [
    {
     "data": {
      "text/plain": [
       "                          Influence of pirate population on global warming       \n",
       "                          +----------------------------------------+       \n",
       "                   15.842 | ⚬                                      | line  \n",
       "                          | |                                      | points\n",
       "                          | \\                                      |       \n",
       "                          | ⚬                                      |       \n",
       "                          | |*.                                    |       \n",
       "                          | | \\.                                   |       \n",
       "                          | |  \"⚬.                                 |       \n",
       "   Global Temperature (C) | |    \"*.                               |       \n",
       "                          | |      \"*.                             |       \n",
       "                          | |        \"*.                           |       \n",
       "                          | |          \"⚬.                         |       \n",
       "                          | |            \\.                        |       \n",
       "                          | |             \".                       |       \n",
       "                          | |               ⚬--_______             |       \n",
       "                   14.358 | |                         \"\"\"\"\"\"\\----⚬ |       \n",
       "                          +----------------------------------------+       \n",
       "                           -1332.49Number of Pirates [Approximate]46349.5        "
      ]
     },
     "execution_count": 71,
     "metadata": {},
     "output_type": "execute_result"
    }
   ],
   "source": [
    "plot(numpirates, globaltemperatures, label=\"line\")  \n",
    "scatter!(numpirates, globaltemperatures, label=\"points\") \n",
    "xlabel!(\"Number of Pirates [Approximate]\")\n",
    "ylabel!(\"Global Temperature (C)\")\n",
    "title!(\"Influence of pirate population on global warming\")"
   ]
  },
  {
   "cell_type": "markdown",
   "id": "1a511282-d299-4545-b2d3-dc67cd2bf698",
   "metadata": {},
   "source": [
    "注意到第二幅图和第一幅的区别！"
   ]
  },
  {
   "cell_type": "markdown",
   "id": "c9149b15-ace7-4b78-98b8-80fe62e9137b",
   "metadata": {
    "toc-hr-collapsed": true
   },
   "source": [
    "# 5. 多重派发\n",
    "---\n",
    "\n",
    "在这个 notebook 中我们将探索 Julia 的重要特性之一：**多重派发**。\n",
    "\n",
    "多重派发让软件更**通用（generic）、更快**！\n",
    "\n",
    "## 目录\n",
    "\n",
    "- [从熟悉的开始讲](#从熟悉的开始讲)\n",
    "- [指定传入变量的类型](#指定传入变量的类型)"
   ]
  },
  {
   "cell_type": "markdown",
   "id": "4f476178-d9cb-4bdf-8d1d-17756f11dd42",
   "metadata": {},
   "source": [
    "## 从熟悉的开始讲\n",
    "\n",
    "从我们已经接触过的知识来理解多重派发。\n",
    "\n",
    "我们可以声明一个 Julia 函数而不用给出传入变量的任何类型信息："
   ]
  },
  {
   "cell_type": "code",
   "execution_count": 72,
   "id": "29621579-1d0f-4fab-b3ea-09345ca8df09",
   "metadata": {},
   "outputs": [
    {
     "data": {
      "text/plain": [
       "f (generic function with 1 method)"
      ]
     },
     "execution_count": 72,
     "metadata": {},
     "output_type": "execute_result"
    }
   ],
   "source": [
    "f(x) = x^2"
   ]
  },
  {
   "cell_type": "markdown",
   "id": "10379636-1a67-4269-9556-13bac7bbfc01",
   "metadata": {},
   "source": [
    "Julia 自会判断哪些传入变量是合理的，哪些又是不合理的："
   ]
  },
  {
   "cell_type": "code",
   "execution_count": 73,
   "id": "5b819e8d-0c6d-437c-833d-05b8cc8fe291",
   "metadata": {},
   "outputs": [
    {
     "data": {
      "text/plain": [
       "100"
      ]
     },
     "execution_count": 73,
     "metadata": {},
     "output_type": "execute_result"
    }
   ],
   "source": [
    "f(10)"
   ]
  },
  {
   "cell_type": "code",
   "execution_count": 74,
   "id": "3d6d74e5-0cbd-43fc-818e-0d07faaf5099",
   "metadata": {},
   "outputs": [
    {
     "name": "stdout",
     "output_type": "stream",
     "text": [
      "MethodError: no method matching\n"
     ]
    }
   ],
   "source": [
    "try\n",
    "    f([1, 2, 3])\n",
    "catch e\n",
    "    println(\"MethodError: no method matching\")\n",
    "end"
   ]
  },
  {
   "cell_type": "markdown",
   "id": "07fc4175-e027-41c2-885b-20461e133964",
   "metadata": {},
   "source": [
    "## 指定传入变量的类型\n",
    "\n",
    "但是，我们*也可以*显式地指定传入变量的类型。\n",
    "\n",
    "比如，我们写一个只接受字符串类型传入变量的函数 `foo`。"
   ]
  },
  {
   "cell_type": "code",
   "execution_count": 75,
   "id": "2182fe3a-d82e-4364-8294-e44955e1b594",
   "metadata": {},
   "outputs": [
    {
     "data": {
      "text/plain": [
       "foo (generic function with 1 method)"
      ]
     },
     "execution_count": 75,
     "metadata": {},
     "output_type": "execute_result"
    }
   ],
   "source": [
    "foo(x::String, y::String) = println(\"My inputs x and y are both strings!\")"
   ]
  },
  {
   "cell_type": "markdown",
   "id": "72bba0ef-3902-4338-a4a9-08ffb153c613",
   "metadata": {},
   "source": [
    "可以看到，要限制 `x` 和 `y` 的类型为 `String`，只要在形参名后面加上两个冒号和关键字 `String` 就行了。\n",
    "\n",
    "现在 `foo` 只有在传入变量为 `String` 类型才正常工作。"
   ]
  },
  {
   "cell_type": "code",
   "execution_count": 76,
   "id": "bdac8746-92a2-4142-8880-a62973c78b21",
   "metadata": {},
   "outputs": [
    {
     "name": "stdout",
     "output_type": "stream",
     "text": [
      "My inputs x and y are both strings!\n"
     ]
    }
   ],
   "source": [
    "foo(\"hello\", \"hi!\")"
   ]
  },
  {
   "cell_type": "code",
   "execution_count": 77,
   "id": "e46f7c08-6e3e-4a30-9581-adfdca5d72a2",
   "metadata": {},
   "outputs": [
    {
     "name": "stdout",
     "output_type": "stream",
     "text": [
      "MethodError: no method matching\n"
     ]
    }
   ],
   "source": [
    "try\n",
    "    foo(3, 4)\n",
    "catch e\n",
    "    println(\"MethodError: no method matching\")\n",
    "end"
   ]
  },
  {
   "cell_type": "markdown",
   "id": "046b065b-49f9-4691-848d-356a188bb891",
   "metadata": {},
   "source": [
    "要让 `foo` 函数接受整型（`Int`）的传入变量，只要在声明 `foo` 函数时在形参后面加上 `::Int`。"
   ]
  },
  {
   "cell_type": "code",
   "execution_count": 78,
   "id": "207956f1-162d-4333-8af2-f9359f270d20",
   "metadata": {},
   "outputs": [
    {
     "data": {
      "text/plain": [
       "foo (generic function with 2 methods)"
      ]
     },
     "execution_count": 78,
     "metadata": {},
     "output_type": "execute_result"
    }
   ],
   "source": [
    "foo(x::Int, y::Int) = println(\"My inputs x and y are both integers!\")"
   ]
  },
  {
   "cell_type": "code",
   "execution_count": 79,
   "id": "ef6d07f5-8fb5-4cb5-90eb-fb179031b5bb",
   "metadata": {},
   "outputs": [
    {
     "name": "stdout",
     "output_type": "stream",
     "text": [
      "My inputs x and y are both integers!\n"
     ]
    }
   ],
   "source": [
    "foo(3, 4)"
   ]
  },
  {
   "cell_type": "markdown",
   "id": "30de3c06-a956-4613-b54f-321bb1a407a3",
   "metadata": {},
   "source": [
    "现在函数 `foo` 能接受整型变量了！但是注意，函数 `foo` 仍然能接受字符串变量！"
   ]
  },
  {
   "cell_type": "code",
   "execution_count": 80,
   "id": "91fb4e4b-aec9-422f-a167-adca0a242e19",
   "metadata": {},
   "outputs": [
    {
     "name": "stdout",
     "output_type": "stream",
     "text": [
      "My inputs x and y are both strings!\n"
     ]
    }
   ],
   "source": [
    "foo(\"hello\", \"hi!\")"
   ]
  },
  {
   "cell_type": "markdown",
   "id": "0b50f65a-6194-4dfa-be0b-19f0047db126",
   "metadata": {},
   "source": [
    "这就涉及到多重派发的核心了。当我们声明\n",
    "\n",
    "```julia\n",
    "foo(x::Int, y::Int) = println(\"My inputs x and y are both integers!\")\n",
    "```\n",
    "我们并没有重写或覆盖\n",
    "```julia\n",
    "foo(y::String, y::String)\n",
    "```\n",
    "而是给叫做 `foo` 的**通用函数（generic function）**添加了一个**新方法（method）**。\n",
    "\n",
    "一个**通用函数** 是一个表示特定操作的抽象概念。  \n",
    "举个例子，通用函数 `+` 代表了加法这个概念\n",
    "\n",
    "一个**方法** 是一个**通用函数** 接受*特定参数类型* 的一个具体实现。  \n",
    "举个例子，`+` 有279种方法（julia v1.6.4）以接受浮点数、整型、矩阵等等。\n",
    "\n",
    "我们可以通过函数 `methods` 来查看函数 `foo` 有多少种方法。"
   ]
  },
  {
   "cell_type": "code",
   "execution_count": 81,
   "id": "e7f400c6-039a-4f0f-9887-b15e2f108b96",
   "metadata": {},
   "outputs": [
    {
     "data": {
      "text/html": [
       "# 2 methods for generic function <b>foo</b>:<ul><li> foo(x::<b>String</b>, y::<b>String</b>) in Main at In[75]:1</li> <li> foo(x::<b>Int64</b>, y::<b>Int64</b>) in Main at In[78]:1</li> </ul>"
      ],
      "text/plain": [
       "# 2 methods for generic function \"foo\":\n",
       "[1] foo(x::String, y::String) in Main at In[75]:1\n",
       "[2] foo(x::Int64, y::Int64) in Main at In[78]:1"
      ]
     },
     "execution_count": 81,
     "metadata": {},
     "output_type": "execute_result"
    }
   ],
   "source": [
    "methods(foo)"
   ]
  },
  {
   "cell_type": "markdown",
   "id": "2b2a537c-a80f-47fc-9f4d-4a43bc0e952b",
   "metadata": {},
   "source": [
    "所以，我们现在可以在调用 `foo` 的时候传入整型或字符串了。\n",
    "当你调用 `foo` 时传入特定组合的参数时，Julia 将根据传入参数的类型派发对应的方法。*这* 就是多重派发。\n",
    "\n",
    "多重派发让我们的代码更加通用更加快。\n",
    "代码更加通用更灵活是因为我们是在写代码描述抽象操作例如加法和乘法，而不是描述具体的实现。\n",
    "同时，因为 Julia 可以为相关类型调用高效的方法，代码可以运行得很快。\n",
    "\n",
    "想查看我们调用一个通用函数时派发的是哪个方法，我们可以用宏 `@which`："
   ]
  },
  {
   "cell_type": "code",
   "execution_count": 82,
   "id": "d7b37496-f1e1-4d27-abd9-a74f57305cc5",
   "metadata": {},
   "outputs": [
    {
     "data": {
      "text/html": [
       "foo(x::<b>Int64</b>, y::<b>Int64</b>) in Main at In[78]:1"
      ],
      "text/plain": [
       "foo(x::Int64, y::Int64) in Main at In[78]:1"
      ]
     },
     "execution_count": 82,
     "metadata": {},
     "output_type": "execute_result"
    }
   ],
   "source": [
    "@which foo(3, 4)"
   ]
  },
  {
   "cell_type": "code",
   "execution_count": 83,
   "id": "136af9eb-94ac-471f-8612-c18442e3d1ae",
   "metadata": {},
   "outputs": [
    {
     "data": {
      "text/html": [
       "+(x::<b>Float64</b>, y::<b>Float64</b>) in Base at <a href=\"https://github.com/JuliaLang/julia/tree/35f0c911f443ae0d3933e1bce4321afd0f345aed/base/float.jl#L326\" target=\"_blank\">float.jl:326</a>"
      ],
      "text/plain": [
       "+(x::Float64, y::Float64) in Base at float.jl:326"
      ]
     },
     "execution_count": 83,
     "metadata": {},
     "output_type": "execute_result"
    }
   ],
   "source": [
    "@which 3.0 + 3.0"
   ]
  },
  {
   "cell_type": "markdown",
   "id": "c70acc71-2e57-4e61-895a-e45838c89563",
   "metadata": {},
   "source": [
    "考虑到一个特别写给浮点数的方法派发给了 `3.0 + 3.0`，生成的 LLVM 代码极其简练："
   ]
  },
  {
   "cell_type": "code",
   "execution_count": 84,
   "id": "53733c98-a865-4061-aa5b-39eb10b7032e",
   "metadata": {},
   "outputs": [
    {
     "name": "stdout",
     "output_type": "stream",
     "text": [
      "\u001b[90m;  @ float.jl:326 within `+'\u001b[39m\n",
      "\u001b[95mdefine\u001b[39m \u001b[36mdouble\u001b[39m \u001b[93m@\"julia_+_6884\"\u001b[39m\u001b[33m(\u001b[39m\u001b[36mdouble\u001b[39m \u001b[0m%0\u001b[0m, \u001b[36mdouble\u001b[39m \u001b[0m%1\u001b[33m)\u001b[39m \u001b[33m{\u001b[39m\n",
      "\u001b[91mtop:\u001b[39m\n",
      "  \u001b[0m%2 \u001b[0m= \u001b[96m\u001b[1mfadd\u001b[22m\u001b[39m \u001b[36mdouble\u001b[39m \u001b[0m%0\u001b[0m, \u001b[0m%1\n",
      "  \u001b[96m\u001b[1mret\u001b[22m\u001b[39m \u001b[36mdouble\u001b[39m \u001b[0m%2\n",
      "\u001b[33m}\u001b[39m\n"
     ]
    }
   ],
   "source": [
    "@code_llvm 3.0 + 3.0"
   ]
  },
  {
   "cell_type": "markdown",
   "id": "83163c2c-8cf4-4c84-b3b3-108034f12d5f",
   "metadata": {},
   "source": [
    "要注意的是 Julia 在我们写一般的函数定义时也很快，因为具体的、定制的方法最终是在后台调用的。\n",
    "\n",
    "举个例子，我们声明加法函数 `myadd` 时没有类型注释——"
   ]
  },
  {
   "cell_type": "code",
   "execution_count": 85,
   "id": "4ce7e03c-883b-496c-89b8-5faee26ddf35",
   "metadata": {},
   "outputs": [
    {
     "data": {
      "text/plain": [
       "myadd (generic function with 1 method)"
      ]
     },
     "execution_count": 85,
     "metadata": {},
     "output_type": "execute_result"
    }
   ],
   "source": [
    "myadd(x, y) = x + y"
   ]
  },
  {
   "cell_type": "markdown",
   "id": "6a725c25-319a-429e-b376-079620be1336",
   "metadata": {},
   "source": [
    "虽然我们没有限制 `x` 和 `y` 的类型，但是 `myadd(3.0, 3.0)` 生成的 LLVM 代码和 `3.0 + 3.0` 差不多"
   ]
  },
  {
   "cell_type": "code",
   "execution_count": 86,
   "id": "0d09ef3b-e5e5-47ae-8dfe-12d0e6dc1dd0",
   "metadata": {},
   "outputs": [
    {
     "name": "stdout",
     "output_type": "stream",
     "text": [
      "\u001b[90m;  @ In[85]:1 within `myadd'\u001b[39m\n",
      "\u001b[95mdefine\u001b[39m \u001b[36mdouble\u001b[39m \u001b[93m@julia_myadd_6938\u001b[39m\u001b[33m(\u001b[39m\u001b[36mdouble\u001b[39m \u001b[0m%0\u001b[0m, \u001b[36mdouble\u001b[39m \u001b[0m%1\u001b[33m)\u001b[39m \u001b[33m{\u001b[39m\n",
      "\u001b[91mtop:\u001b[39m\n",
      "\u001b[90m; ┌ @ float.jl:326 within `+'\u001b[39m\n",
      "   \u001b[0m%2 \u001b[0m= \u001b[96m\u001b[1mfadd\u001b[22m\u001b[39m \u001b[36mdouble\u001b[39m \u001b[0m%0\u001b[0m, \u001b[0m%1\n",
      "\u001b[90m; └\u001b[39m\n",
      "  \u001b[96m\u001b[1mret\u001b[22m\u001b[39m \u001b[36mdouble\u001b[39m \u001b[0m%2\n",
      "\u001b[33m}\u001b[39m\n"
     ]
    }
   ],
   "source": [
    "@code_llvm myadd(3.0, 3.0)"
   ]
  },
  {
   "cell_type": "markdown",
   "id": "d670557e-5faa-4a0d-b113-90a040264009",
   "metadata": {
    "tags": [],
    "toc-hr-collapsed": true
   },
   "source": [
    "# 6. Julia非常快\n",
    "---\n",
    "\n",
    "基准数值测试程序（benchmarks）通常被用来比较编程语言的性能。\n",
    "\n",
    "这些 benchmarks 可能引起很多的讨论，首先是作为基准测试的到底是什么，再有就是究竟是什么导致不同语言间的差异。\n",
    "\n",
    "这些简单的问题有时比你乍想之下复杂得多。"
   ]
  },
  {
   "cell_type": "markdown",
   "id": "38e6f513-e623-4ff9-b38e-42e950ff5883",
   "metadata": {},
   "source": [
    "## `sum`: 一个简单易懂的函数\n",
    "\n",
    "考虑**求和**函数 `sum(a)`，它是用来计算\n",
    "$$\\mathrm{sum}(a) = \\sum_{i=1}^n a_i$$\n",
    "其中 $n$ 是 `a` 的长度。"
   ]
  },
  {
   "cell_type": "code",
   "execution_count": 87,
   "id": "024dc2c6-5fc7-4197-94bd-4ffc43e2740c",
   "metadata": {
    "tags": []
   },
   "outputs": [
    {
     "data": {
      "text/plain": [
       "5.000462152725736e6"
      ]
     },
     "execution_count": 87,
     "metadata": {},
     "output_type": "execute_result"
    }
   ],
   "source": [
    "a = rand(10^7)  # 在[0,1)上均匀分布的随机数组成的1维向量\n",
    "sum(a)"
   ]
  },
  {
   "cell_type": "markdown",
   "id": "2dd26f96-68e2-4aa3-bf14-653679952dbb",
   "metadata": {},
   "source": [
    "预期结果应该在 $0.5 \\times 10^7$ 左右，因为所有元素的平均值应该是 0.5 左右"
   ]
  },
  {
   "cell_type": "markdown",
   "id": "b8af02f8-889b-4141-a1fa-413f1846d0fd",
   "metadata": {},
   "source": [
    "## 不同语言中的各种基准测试"
   ]
  },
  {
   "cell_type": "code",
   "execution_count": 88,
   "id": "1768de7d-c52e-48c8-b651-a9581ca46845",
   "metadata": {},
   "outputs": [
    {
     "name": "stdout",
     "output_type": "stream",
     "text": [
      "  0.035919 seconds (1 allocation: 16 bytes)\n"
     ]
    },
    {
     "data": {
      "text/plain": [
       "5.000462152725736e6"
      ]
     },
     "execution_count": 88,
     "metadata": {},
     "output_type": "execute_result"
    }
   ],
   "source": [
    "@time sum(a)"
   ]
  },
  {
   "cell_type": "markdown",
   "id": "ba7786f0-ffa0-42b5-bc3a-0124523cb37b",
   "metadata": {},
   "source": [
    "`@time` 宏会产生受干扰的结果，所以不是做基准测试的最佳选择！\n",
    "\n",
    "好在 Julia 有个 `BenchmarkTools.jl` 包来简单并准确地进行基准测试："
   ]
  },
  {
   "cell_type": "markdown",
   "id": "efdcdc10-4d87-4286-883b-b91fb919e2a5",
   "metadata": {},
   "source": [
    "```julia\n",
    "using Pkg\n",
    "Pkg.add(\"BenchmarkTools\")\n",
    "```"
   ]
  },
  {
   "cell_type": "code",
   "execution_count": 89,
   "id": "ec79e442-69f3-4d94-8aea-3a15734d3459",
   "metadata": {},
   "outputs": [],
   "source": [
    "using BenchmarkTools"
   ]
  },
  {
   "cell_type": "markdown",
   "id": "f3611d8c-b68a-4799-97cf-3effabb34452",
   "metadata": {},
   "source": [
    "###  1. C 语言\n",
    "\n",
    "C 语言对人类不友好但是对机器友好，经常作为一个黄金标准。\n",
    "在 C 语言的两倍以内通常来说就比较理想了。\n",
    "然而，即使仅考虑 C 语言，不同的 C 语言程序员也可能采用或不采用不同的优化方式。\n",
    "\n",
    "原作者不会 C 语言，所以他看不懂下面这个代码块中的代码，\n",
    "但是他知道 Julia 中可以编译、运行 C 语言代码。注意 `\"\"\"` 所包围的是个多行字符串。"
   ]
  },
  {
   "cell_type": "code",
   "execution_count": 90,
   "id": "1d1baed7-2634-484f-b57f-b0aed345f911",
   "metadata": {},
   "outputs": [
    {
     "data": {
      "text/plain": [
       "c_sum (generic function with 1 method)"
      ]
     },
     "execution_count": 90,
     "metadata": {},
     "output_type": "execute_result"
    }
   ],
   "source": [
    "using Libdl\n",
    "C_code = \"\"\"\n",
    "#include <stddef.h>\n",
    "double c_sum(size_t n, double *X) {\n",
    "    double s = 0.0;\n",
    "    for (size_t i = 0; i < n; ++i) {\n",
    "        s += X[i];\n",
    "    }\n",
    "    return s;\n",
    "}\n",
    "\"\"\"\n",
    "\n",
    "const Clib = tempname()  # 创建一个临时文件\n",
    "\n",
    "\n",
    "# 通过将 C_code 导入 gcc 来编译成共享链接库\n",
    "# (只有装了 gcc 才行):\n",
    "\n",
    "open(`gcc -fPIC -O3 -msse3 -xc -shared -o $(Clib * \".\" * Libdl.dlext) -`, \"w\") do f\n",
    "    print(f, C_code) \n",
    "end\n",
    "\n",
    "# 定义一个调用这个 C 语言函数的 Julia 函数：\n",
    "c_sum(X::Array{Float64}) = ccall((\"c_sum\", Clib), Float64, (Csize_t, Ptr{Float64}), length(X), X)"
   ]
  },
  {
   "cell_type": "code",
   "execution_count": 91,
   "id": "acecd6d0-6eab-4b1f-ba6f-f1d2a7e50835",
   "metadata": {},
   "outputs": [
    {
     "data": {
      "text/plain": [
       "5.000462152725685e6"
      ]
     },
     "execution_count": 91,
     "metadata": {},
     "output_type": "execute_result"
    }
   ],
   "source": [
    "c_sum(a)"
   ]
  },
  {
   "cell_type": "code",
   "execution_count": 92,
   "id": "dcb2aa5f-a453-483c-bde9-818221518c28",
   "metadata": {},
   "outputs": [
    {
     "data": {
      "text/plain": [
       "true"
      ]
     },
     "execution_count": 92,
     "metadata": {},
     "output_type": "execute_result"
    }
   ],
   "source": [
    "c_sum(a) ≈ sum(a)  # 输入\\approx后按<TAB>键得到≈符号"
   ]
  },
  {
   "cell_type": "code",
   "execution_count": 93,
   "id": "7050e10b-2121-4f9b-9d93-c7d07e0e6808",
   "metadata": {},
   "outputs": [
    {
     "data": {
      "text/plain": [
       "-5.029141902923584e-8"
      ]
     },
     "execution_count": 93,
     "metadata": {},
     "output_type": "execute_result"
    }
   ],
   "source": [
    "c_sum(a) - sum(a)  "
   ]
  },
  {
   "cell_type": "code",
   "execution_count": 94,
   "id": "d5021814-466b-477e-8786-34d23f8ffc64",
   "metadata": {},
   "outputs": [
    {
     "data": {
      "text/plain": [
       "isapprox (generic function with 38 methods)"
      ]
     },
     "execution_count": 94,
     "metadata": {},
     "output_type": "execute_result"
    }
   ],
   "source": [
    "≈  # `isapprox` 函数的别名"
   ]
  },
  {
   "cell_type": "markdown",
   "id": "b9331ec9-e5e5-49d0-8287-5b8d85c91a04",
   "metadata": {},
   "source": [
    "现在我们可以在 Julia 中直接对 C 语言代码进行基准测试了："
   ]
  },
  {
   "cell_type": "code",
   "execution_count": 95,
   "id": "b2dfd747-911c-4c29-8cbe-30bea2bb5f1c",
   "metadata": {},
   "outputs": [
    {
     "name": "stdout",
     "output_type": "stream",
     "text": [
      "C: 最快 35.189709 毫秒\n"
     ]
    }
   ],
   "source": [
    "c_bench = @benchmark c_sum($a)\n",
    "println(\"C: 最快 $(minimum(c_bench.times) / 1e6) 毫秒\")"
   ]
  },
  {
   "cell_type": "code",
   "execution_count": 96,
   "id": "7191672d-2a87-45bc-891d-7535db55346f",
   "metadata": {},
   "outputs": [
    {
     "data": {
      "text/plain": [
       "35.189709"
      ]
     },
     "execution_count": 96,
     "metadata": {},
     "output_type": "execute_result"
    }
   ],
   "source": [
    "d = Dict()  # 字典，也就是关联数组（键值对）\n",
    "d[\"C\"] = minimum(c_bench.times) / 1e6  # 毫秒"
   ]
  },
  {
   "cell_type": "code",
   "execution_count": 97,
   "id": "a84e9d4e-0357-48bc-b9f2-c399b2d8df2e",
   "metadata": {},
   "outputs": [
    {
     "data": {
      "text/plain": [
       "Plots.GRBackend()"
      ]
     },
     "execution_count": 97,
     "metadata": {},
     "output_type": "execute_result"
    }
   ],
   "source": [
    "using Plots\n",
    "gr()"
   ]
  },
  {
   "cell_type": "code",
   "execution_count": 98,
   "id": "ce26d6f1-eaf2-4eeb-8327-4865ef413616",
   "metadata": {},
   "outputs": [
    {
     "data": {
      "image/svg+xml": [
       "<?xml version=\"1.0\" encoding=\"utf-8\"?>\n",
       "<svg xmlns=\"http://www.w3.org/2000/svg\" xmlns:xlink=\"http://www.w3.org/1999/xlink\" width=\"600\" height=\"400\" viewBox=\"0 0 2400 1600\">\n",
       "<defs>\n",
       "  <clipPath id=\"clip200\">\n",
       "    <rect x=\"0\" y=\"0\" width=\"2400\" height=\"1600\"/>\n",
       "  </clipPath>\n",
       "</defs>\n",
       "<path clip-path=\"url(#clip200)\" d=\"\n",
       "M0 1600 L2400 1600 L2400 0 L0 0  Z\n",
       "  \" fill=\"#ffffff\" fill-rule=\"evenodd\" fill-opacity=\"1\"/>\n",
       "<defs>\n",
       "  <clipPath id=\"clip201\">\n",
       "    <rect x=\"480\" y=\"0\" width=\"1681\" height=\"1600\"/>\n",
       "  </clipPath>\n",
       "</defs>\n",
       "<path clip-path=\"url(#clip200)\" d=\"\n",
       "M247.459 1423.18 L2352.76 1423.18 L2352.76 47.2441 L247.459 47.2441  Z\n",
       "  \" fill=\"#ffffff\" fill-rule=\"evenodd\" fill-opacity=\"1\"/>\n",
       "<defs>\n",
       "  <clipPath id=\"clip202\">\n",
       "    <rect x=\"247\" y=\"47\" width=\"2106\" height=\"1377\"/>\n",
       "  </clipPath>\n",
       "</defs>\n",
       "<polyline clip-path=\"url(#clip202)\" style=\"stroke:#000000; stroke-linecap:butt; stroke-linejoin:round; stroke-width:2; stroke-opacity:0.1; fill:none\" points=\"\n",
       "  567.385,1423.18 567.385,47.2441 \n",
       "  \"/>\n",
       "<polyline clip-path=\"url(#clip202)\" style=\"stroke:#000000; stroke-linecap:butt; stroke-linejoin:round; stroke-width:2; stroke-opacity:0.1; fill:none\" points=\"\n",
       "  1066.82,1423.18 1066.82,47.2441 \n",
       "  \"/>\n",
       "<polyline clip-path=\"url(#clip202)\" style=\"stroke:#000000; stroke-linecap:butt; stroke-linejoin:round; stroke-width:2; stroke-opacity:0.1; fill:none\" points=\"\n",
       "  1566.25,1423.18 1566.25,47.2441 \n",
       "  \"/>\n",
       "<polyline clip-path=\"url(#clip202)\" style=\"stroke:#000000; stroke-linecap:butt; stroke-linejoin:round; stroke-width:2; stroke-opacity:0.1; fill:none\" points=\"\n",
       "  2065.68,1423.18 2065.68,47.2441 \n",
       "  \"/>\n",
       "<polyline clip-path=\"url(#clip200)\" style=\"stroke:#000000; stroke-linecap:butt; stroke-linejoin:round; stroke-width:4; stroke-opacity:1; fill:none\" points=\"\n",
       "  247.459,1423.18 2352.76,1423.18 \n",
       "  \"/>\n",
       "<polyline clip-path=\"url(#clip200)\" style=\"stroke:#000000; stroke-linecap:butt; stroke-linejoin:round; stroke-width:4; stroke-opacity:1; fill:none\" points=\"\n",
       "  567.385,1423.18 567.385,1404.28 \n",
       "  \"/>\n",
       "<polyline clip-path=\"url(#clip200)\" style=\"stroke:#000000; stroke-linecap:butt; stroke-linejoin:round; stroke-width:4; stroke-opacity:1; fill:none\" points=\"\n",
       "  1066.82,1423.18 1066.82,1404.28 \n",
       "  \"/>\n",
       "<polyline clip-path=\"url(#clip200)\" style=\"stroke:#000000; stroke-linecap:butt; stroke-linejoin:round; stroke-width:4; stroke-opacity:1; fill:none\" points=\"\n",
       "  1566.25,1423.18 1566.25,1404.28 \n",
       "  \"/>\n",
       "<polyline clip-path=\"url(#clip200)\" style=\"stroke:#000000; stroke-linecap:butt; stroke-linejoin:round; stroke-width:4; stroke-opacity:1; fill:none\" points=\"\n",
       "  2065.68,1423.18 2065.68,1404.28 \n",
       "  \"/>\n",
       "<path clip-path=\"url(#clip200)\" d=\"M534.11 1466.95 Q537.466 1467.66 539.341 1469.93 Q541.239 1472.2 541.239 1475.53 Q541.239 1480.65 537.721 1483.45 Q534.202 1486.25 527.721 1486.25 Q525.545 1486.25 523.23 1485.81 Q520.938 1485.39 518.485 1484.54 L518.485 1480.02 Q520.429 1481.16 522.744 1481.74 Q525.059 1482.32 527.582 1482.32 Q531.98 1482.32 534.272 1480.58 Q536.586 1478.84 536.586 1475.53 Q536.586 1472.48 534.434 1470.77 Q532.304 1469.03 528.485 1469.03 L524.457 1469.03 L524.457 1465.19 L528.67 1465.19 Q532.119 1465.19 533.947 1463.82 Q535.776 1462.43 535.776 1459.84 Q535.776 1457.18 533.878 1455.77 Q532.003 1454.33 528.485 1454.33 Q526.563 1454.33 524.364 1454.75 Q522.165 1455.16 519.526 1456.04 L519.526 1451.88 Q522.188 1451.14 524.503 1450.77 Q526.841 1450.39 528.901 1450.39 Q534.225 1450.39 537.327 1452.83 Q540.429 1455.23 540.429 1459.35 Q540.429 1462.22 538.785 1464.21 Q537.142 1466.18 534.11 1466.95 Z\" fill=\"#000000\" fill-rule=\"evenodd\" fill-opacity=\"1\" /><path clip-path=\"url(#clip200)\" d=\"M550.151 1451.02 L568.507 1451.02 L568.507 1454.96 L554.433 1454.96 L554.433 1463.43 Q555.452 1463.08 556.471 1462.92 Q557.489 1462.73 558.508 1462.73 Q564.295 1462.73 567.674 1465.9 Q571.054 1469.08 571.054 1474.49 Q571.054 1480.07 567.582 1483.17 Q564.109 1486.25 557.79 1486.25 Q555.614 1486.25 553.346 1485.88 Q551.1 1485.51 548.693 1484.77 L548.693 1480.07 Q550.776 1481.2 552.998 1481.76 Q555.221 1482.32 557.697 1482.32 Q561.702 1482.32 564.04 1480.21 Q566.378 1478.1 566.378 1474.49 Q566.378 1470.88 564.04 1468.77 Q561.702 1466.67 557.697 1466.67 Q555.822 1466.67 553.947 1467.08 Q552.096 1467.5 550.151 1468.38 L550.151 1451.02 Z\" fill=\"#000000\" fill-rule=\"evenodd\" fill-opacity=\"1\" /><path clip-path=\"url(#clip200)\" d=\"M580.267 1479.7 L585.151 1479.7 L585.151 1485.58 L580.267 1485.58 L580.267 1479.7 Z\" fill=\"#000000\" fill-rule=\"evenodd\" fill-opacity=\"1\" /><path clip-path=\"url(#clip200)\" d=\"M595.382 1451.02 L613.739 1451.02 L613.739 1454.96 L599.665 1454.96 L599.665 1463.43 Q600.683 1463.08 601.702 1462.92 Q602.72 1462.73 603.739 1462.73 Q609.526 1462.73 612.905 1465.9 Q616.285 1469.08 616.285 1474.49 Q616.285 1480.07 612.813 1483.17 Q609.341 1486.25 603.021 1486.25 Q600.845 1486.25 598.577 1485.88 Q596.331 1485.51 593.924 1484.77 L593.924 1480.07 Q596.007 1481.2 598.23 1481.76 Q600.452 1482.32 602.929 1482.32 Q606.933 1482.32 609.271 1480.21 Q611.609 1478.1 611.609 1474.49 Q611.609 1470.88 609.271 1468.77 Q606.933 1466.67 602.929 1466.67 Q601.054 1466.67 599.179 1467.08 Q597.327 1467.5 595.382 1468.38 L595.382 1451.02 Z\" fill=\"#000000\" fill-rule=\"evenodd\" fill-opacity=\"1\" /><path clip-path=\"url(#clip200)\" d=\"M1033.04 1466.95 Q1036.4 1467.66 1038.27 1469.93 Q1040.17 1472.2 1040.17 1475.53 Q1040.17 1480.65 1036.65 1483.45 Q1033.13 1486.25 1026.65 1486.25 Q1024.48 1486.25 1022.16 1485.81 Q1019.87 1485.39 1017.42 1484.54 L1017.42 1480.02 Q1019.36 1481.16 1021.68 1481.74 Q1023.99 1482.32 1026.51 1482.32 Q1030.91 1482.32 1033.2 1480.58 Q1035.52 1478.84 1035.52 1475.53 Q1035.52 1472.48 1033.37 1470.77 Q1031.24 1469.03 1027.42 1469.03 L1023.39 1469.03 L1023.39 1465.19 L1027.6 1465.19 Q1031.05 1465.19 1032.88 1463.82 Q1034.71 1462.43 1034.71 1459.84 Q1034.71 1457.18 1032.81 1455.77 Q1030.94 1454.33 1027.42 1454.33 Q1025.5 1454.33 1023.3 1454.75 Q1021.1 1455.16 1018.46 1456.04 L1018.46 1451.88 Q1021.12 1451.14 1023.44 1450.77 Q1025.77 1450.39 1027.83 1450.39 Q1033.16 1450.39 1036.26 1452.83 Q1039.36 1455.23 1039.36 1459.35 Q1039.36 1462.22 1037.72 1464.21 Q1036.07 1466.18 1033.04 1466.95 Z\" fill=\"#000000\" fill-rule=\"evenodd\" fill-opacity=\"1\" /><path clip-path=\"url(#clip200)\" d=\"M1059.62 1466.44 Q1056.47 1466.44 1054.62 1468.59 Q1052.79 1470.74 1052.79 1474.49 Q1052.79 1478.22 1054.62 1480.39 Q1056.47 1482.55 1059.62 1482.55 Q1062.76 1482.55 1064.59 1480.39 Q1066.44 1478.22 1066.44 1474.49 Q1066.44 1470.74 1064.59 1468.59 Q1062.76 1466.44 1059.62 1466.44 M1068.9 1451.78 L1068.9 1456.04 Q1067.14 1455.21 1065.33 1454.77 Q1063.55 1454.33 1061.79 1454.33 Q1057.16 1454.33 1054.71 1457.45 Q1052.28 1460.58 1051.93 1466.9 Q1053.3 1464.89 1055.36 1463.82 Q1057.42 1462.73 1059.89 1462.73 Q1065.1 1462.73 1068.11 1465.9 Q1071.14 1469.05 1071.14 1474.49 Q1071.14 1479.82 1068 1483.03 Q1064.85 1486.25 1059.62 1486.25 Q1053.62 1486.25 1050.45 1481.67 Q1047.28 1477.06 1047.28 1468.33 Q1047.28 1460.14 1051.17 1455.28 Q1055.06 1450.39 1061.61 1450.39 Q1063.37 1450.39 1065.15 1450.74 Q1066.95 1451.09 1068.9 1451.78 Z\" fill=\"#000000\" fill-rule=\"evenodd\" fill-opacity=\"1\" /><path clip-path=\"url(#clip200)\" d=\"M1079.2 1479.7 L1084.08 1479.7 L1084.08 1485.58 L1079.2 1485.58 L1079.2 1479.7 Z\" fill=\"#000000\" fill-rule=\"evenodd\" fill-opacity=\"1\" /><path clip-path=\"url(#clip200)\" d=\"M1104.27 1454.1 Q1100.66 1454.1 1098.83 1457.66 Q1097.02 1461.2 1097.02 1468.33 Q1097.02 1475.44 1098.83 1479.01 Q1100.66 1482.55 1104.27 1482.55 Q1107.9 1482.55 1109.71 1479.01 Q1111.54 1475.44 1111.54 1468.33 Q1111.54 1461.2 1109.71 1457.66 Q1107.9 1454.1 1104.27 1454.1 M1104.27 1450.39 Q1110.08 1450.39 1113.13 1455 Q1116.21 1459.58 1116.21 1468.33 Q1116.21 1477.06 1113.13 1481.67 Q1110.08 1486.25 1104.27 1486.25 Q1098.46 1486.25 1095.38 1481.67 Q1092.32 1477.06 1092.32 1468.33 Q1092.32 1459.58 1095.38 1455 Q1098.46 1450.39 1104.27 1450.39 Z\" fill=\"#000000\" fill-rule=\"evenodd\" fill-opacity=\"1\" /><path clip-path=\"url(#clip200)\" d=\"M1532.97 1466.95 Q1536.33 1467.66 1538.2 1469.93 Q1540.1 1472.2 1540.1 1475.53 Q1540.1 1480.65 1536.58 1483.45 Q1533.06 1486.25 1526.58 1486.25 Q1524.41 1486.25 1522.09 1485.81 Q1519.8 1485.39 1517.35 1484.54 L1517.35 1480.02 Q1519.29 1481.16 1521.6 1481.74 Q1523.92 1482.32 1526.44 1482.32 Q1530.84 1482.32 1533.13 1480.58 Q1535.45 1478.84 1535.45 1475.53 Q1535.45 1472.48 1533.29 1470.77 Q1531.16 1469.03 1527.35 1469.03 L1523.32 1469.03 L1523.32 1465.19 L1527.53 1465.19 Q1530.98 1465.19 1532.81 1463.82 Q1534.64 1462.43 1534.64 1459.84 Q1534.64 1457.18 1532.74 1455.77 Q1530.86 1454.33 1527.35 1454.33 Q1525.42 1454.33 1523.22 1454.75 Q1521.03 1455.16 1518.39 1456.04 L1518.39 1451.88 Q1521.05 1451.14 1523.36 1450.77 Q1525.7 1450.39 1527.76 1450.39 Q1533.09 1450.39 1536.19 1452.83 Q1539.29 1455.23 1539.29 1459.35 Q1539.29 1462.22 1537.65 1464.21 Q1536 1466.18 1532.97 1466.95 Z\" fill=\"#000000\" fill-rule=\"evenodd\" fill-opacity=\"1\" /><path clip-path=\"url(#clip200)\" d=\"M1559.54 1466.44 Q1556.4 1466.44 1554.54 1468.59 Q1552.72 1470.74 1552.72 1474.49 Q1552.72 1478.22 1554.54 1480.39 Q1556.4 1482.55 1559.54 1482.55 Q1562.69 1482.55 1564.52 1480.39 Q1566.37 1478.22 1566.37 1474.49 Q1566.37 1470.74 1564.52 1468.59 Q1562.69 1466.44 1559.54 1466.44 M1568.83 1451.78 L1568.83 1456.04 Q1567.07 1455.21 1565.26 1454.77 Q1563.48 1454.33 1561.72 1454.33 Q1557.09 1454.33 1554.64 1457.45 Q1552.21 1460.58 1551.86 1466.9 Q1553.22 1464.89 1555.28 1463.82 Q1557.35 1462.73 1559.82 1462.73 Q1565.03 1462.73 1568.04 1465.9 Q1571.07 1469.05 1571.07 1474.49 Q1571.07 1479.82 1567.92 1483.03 Q1564.78 1486.25 1559.54 1486.25 Q1553.55 1486.25 1550.38 1481.67 Q1547.21 1477.06 1547.21 1468.33 Q1547.21 1460.14 1551.1 1455.28 Q1554.98 1450.39 1561.53 1450.39 Q1563.29 1450.39 1565.08 1450.74 Q1566.88 1451.09 1568.83 1451.78 Z\" fill=\"#000000\" fill-rule=\"evenodd\" fill-opacity=\"1\" /><path clip-path=\"url(#clip200)\" d=\"M1579.13 1479.7 L1584.01 1479.7 L1584.01 1485.58 L1579.13 1485.58 L1579.13 1479.7 Z\" fill=\"#000000\" fill-rule=\"evenodd\" fill-opacity=\"1\" /><path clip-path=\"url(#clip200)\" d=\"M1594.24 1451.02 L1612.6 1451.02 L1612.6 1454.96 L1598.53 1454.96 L1598.53 1463.43 Q1599.54 1463.08 1600.56 1462.92 Q1601.58 1462.73 1602.6 1462.73 Q1608.39 1462.73 1611.77 1465.9 Q1615.15 1469.08 1615.15 1474.49 Q1615.15 1480.07 1611.67 1483.17 Q1608.2 1486.25 1601.88 1486.25 Q1599.71 1486.25 1597.44 1485.88 Q1595.19 1485.51 1592.78 1484.77 L1592.78 1480.07 Q1594.87 1481.2 1597.09 1481.76 Q1599.31 1482.32 1601.79 1482.32 Q1605.79 1482.32 1608.13 1480.21 Q1610.47 1478.1 1610.47 1474.49 Q1610.47 1470.88 1608.13 1468.77 Q1605.79 1466.67 1601.79 1466.67 Q1599.91 1466.67 1598.04 1467.08 Q1596.19 1467.5 1594.24 1468.38 L1594.24 1451.02 Z\" fill=\"#000000\" fill-rule=\"evenodd\" fill-opacity=\"1\" /><path clip-path=\"url(#clip200)\" d=\"M2031.9 1466.95 Q2035.26 1467.66 2037.13 1469.93 Q2039.03 1472.2 2039.03 1475.53 Q2039.03 1480.65 2035.51 1483.45 Q2032 1486.25 2025.51 1486.25 Q2023.34 1486.25 2021.02 1485.81 Q2018.73 1485.39 2016.28 1484.54 L2016.28 1480.02 Q2018.22 1481.16 2020.54 1481.74 Q2022.85 1482.32 2025.38 1482.32 Q2029.77 1482.32 2032.06 1480.58 Q2034.38 1478.84 2034.38 1475.53 Q2034.38 1472.48 2032.23 1470.77 Q2030.1 1469.03 2026.28 1469.03 L2022.25 1469.03 L2022.25 1465.19 L2026.46 1465.19 Q2029.91 1465.19 2031.74 1463.82 Q2033.57 1462.43 2033.57 1459.84 Q2033.57 1457.18 2031.67 1455.77 Q2029.8 1454.33 2026.28 1454.33 Q2024.36 1454.33 2022.16 1454.75 Q2019.96 1455.16 2017.32 1456.04 L2017.32 1451.88 Q2019.98 1451.14 2022.3 1450.77 Q2024.63 1450.39 2026.69 1450.39 Q2032.02 1450.39 2035.12 1452.83 Q2038.22 1455.23 2038.22 1459.35 Q2038.22 1462.22 2036.58 1464.21 Q2034.94 1466.18 2031.9 1466.95 Z\" fill=\"#000000\" fill-rule=\"evenodd\" fill-opacity=\"1\" /><path clip-path=\"url(#clip200)\" d=\"M2046.72 1451.02 L2068.94 1451.02 L2068.94 1453.01 L2056.39 1485.58 L2051.51 1485.58 L2063.31 1454.96 L2046.72 1454.96 L2046.72 1451.02 Z\" fill=\"#000000\" fill-rule=\"evenodd\" fill-opacity=\"1\" /><path clip-path=\"url(#clip200)\" d=\"M2078.06 1479.7 L2082.94 1479.7 L2082.94 1485.58 L2078.06 1485.58 L2078.06 1479.7 Z\" fill=\"#000000\" fill-rule=\"evenodd\" fill-opacity=\"1\" /><path clip-path=\"url(#clip200)\" d=\"M2103.13 1454.1 Q2099.52 1454.1 2097.69 1457.66 Q2095.88 1461.2 2095.88 1468.33 Q2095.88 1475.44 2097.69 1479.01 Q2099.52 1482.55 2103.13 1482.55 Q2106.76 1482.55 2108.57 1479.01 Q2110.4 1475.44 2110.4 1468.33 Q2110.4 1461.2 2108.57 1457.66 Q2106.76 1454.1 2103.13 1454.1 M2103.13 1450.39 Q2108.94 1450.39 2112 1455 Q2115.07 1459.58 2115.07 1468.33 Q2115.07 1477.06 2112 1481.67 Q2108.94 1486.25 2103.13 1486.25 Q2097.32 1486.25 2094.24 1481.67 Q2091.18 1477.06 2091.18 1468.33 Q2091.18 1459.58 2094.24 1455 Q2097.32 1450.39 2103.13 1450.39 Z\" fill=\"#000000\" fill-rule=\"evenodd\" fill-opacity=\"1\" /><path clip-path=\"url(#clip200)\" d=\"M1131.45 1539.24 Q1133.64 1535.29 1136.7 1533.41 Q1139.76 1531.54 1143.89 1531.54 Q1149.46 1531.54 1152.49 1535.45 Q1155.51 1539.33 1155.51 1546.53 L1155.51 1568.04 L1149.62 1568.04 L1149.62 1546.72 Q1149.62 1541.59 1147.81 1539.11 Q1145.99 1536.63 1142.27 1536.63 Q1137.72 1536.63 1135.08 1539.65 Q1132.43 1542.68 1132.43 1547.9 L1132.43 1568.04 L1126.55 1568.04 L1126.55 1546.72 Q1126.55 1541.56 1124.73 1539.11 Q1122.92 1536.63 1119.13 1536.63 Q1114.64 1536.63 1112 1539.68 Q1109.36 1542.71 1109.36 1547.9 L1109.36 1568.04 L1103.47 1568.04 L1103.47 1532.4 L1109.36 1532.4 L1109.36 1537.93 Q1111.36 1534.66 1114.17 1533.1 Q1116.97 1531.54 1120.82 1531.54 Q1124.7 1531.54 1127.41 1533.51 Q1130.14 1535.48 1131.45 1539.24 Z\" fill=\"#000000\" fill-rule=\"evenodd\" fill-opacity=\"1\" /><path clip-path=\"url(#clip200)\" d=\"M1167.19 1532.4 L1173.05 1532.4 L1173.05 1568.04 L1167.19 1568.04 L1167.19 1532.4 M1167.19 1518.52 L1173.05 1518.52 L1173.05 1525.93 L1167.19 1525.93 L1167.19 1518.52 Z\" fill=\"#000000\" fill-rule=\"evenodd\" fill-opacity=\"1\" /><path clip-path=\"url(#clip200)\" d=\"M1185.3 1518.52 L1191.16 1518.52 L1191.16 1568.04 L1185.3 1568.04 L1185.3 1518.52 Z\" fill=\"#000000\" fill-rule=\"evenodd\" fill-opacity=\"1\" /><path clip-path=\"url(#clip200)\" d=\"M1203.41 1518.52 L1209.27 1518.52 L1209.27 1568.04 L1203.41 1568.04 L1203.41 1518.52 Z\" fill=\"#000000\" fill-rule=\"evenodd\" fill-opacity=\"1\" /><path clip-path=\"url(#clip200)\" d=\"M1221.52 1532.4 L1227.38 1532.4 L1227.38 1568.04 L1221.52 1568.04 L1221.52 1532.4 M1221.52 1518.52 L1227.38 1518.52 L1227.38 1525.93 L1221.52 1525.93 L1221.52 1518.52 Z\" fill=\"#000000\" fill-rule=\"evenodd\" fill-opacity=\"1\" /><path clip-path=\"url(#clip200)\" d=\"M1262.36 1533.45 L1262.36 1538.98 Q1259.88 1537.71 1257.2 1537.07 Q1254.53 1536.44 1251.66 1536.44 Q1247.3 1536.44 1245.11 1537.77 Q1242.94 1539.11 1242.94 1541.79 Q1242.94 1543.82 1244.5 1545 Q1246.06 1546.15 1250.77 1547.2 L1252.78 1547.64 Q1259.02 1548.98 1261.63 1551.43 Q1264.27 1553.85 1264.27 1558.21 Q1264.27 1563.17 1260.32 1566.07 Q1256.41 1568.97 1249.53 1568.97 Q1246.67 1568.97 1243.55 1568.39 Q1240.46 1567.85 1237.02 1566.74 L1237.02 1560.69 Q1240.27 1562.38 1243.42 1563.24 Q1246.57 1564.07 1249.66 1564.07 Q1253.8 1564.07 1256.02 1562.66 Q1258.25 1561.23 1258.25 1558.65 Q1258.25 1556.27 1256.63 1554.99 Q1255.04 1553.72 1249.6 1552.54 L1247.56 1552.07 Q1242.12 1550.92 1239.7 1548.56 Q1237.28 1546.18 1237.28 1542.04 Q1237.28 1537.01 1240.84 1534.27 Q1244.41 1531.54 1250.96 1531.54 Q1254.21 1531.54 1257.08 1532.01 Q1259.94 1532.49 1262.36 1533.45 Z\" fill=\"#000000\" fill-rule=\"evenodd\" fill-opacity=\"1\" /><path clip-path=\"url(#clip200)\" d=\"M1304.09 1548.76 L1304.09 1551.62 L1277.16 1551.62 Q1277.54 1557.67 1280.79 1560.85 Q1284.07 1564 1289.89 1564 Q1293.26 1564 1296.42 1563.17 Q1299.6 1562.35 1302.72 1560.69 L1302.72 1566.23 Q1299.57 1567.57 1296.26 1568.27 Q1292.95 1568.97 1289.54 1568.97 Q1281.01 1568.97 1276.01 1564 Q1271.05 1559.04 1271.05 1550.57 Q1271.05 1541.82 1275.76 1536.69 Q1280.5 1531.54 1288.52 1531.54 Q1295.71 1531.54 1299.88 1536.18 Q1304.09 1540.8 1304.09 1548.76 M1298.23 1547.04 Q1298.17 1542.23 1295.52 1539.37 Q1292.91 1536.5 1288.59 1536.5 Q1283.68 1536.5 1280.72 1539.27 Q1277.8 1542.04 1277.35 1547.07 L1298.23 1547.04 Z\" fill=\"#000000\" fill-rule=\"evenodd\" fill-opacity=\"1\" /><path clip-path=\"url(#clip200)\" d=\"M1339.35 1533.76 L1339.35 1539.24 Q1336.87 1537.87 1334.35 1537.2 Q1331.87 1536.5 1329.33 1536.5 Q1323.63 1536.5 1320.48 1540.13 Q1317.33 1543.73 1317.33 1550.25 Q1317.33 1556.78 1320.48 1560.4 Q1323.63 1564 1329.33 1564 Q1331.87 1564 1334.35 1563.33 Q1336.87 1562.63 1339.35 1561.26 L1339.35 1566.68 Q1336.9 1567.82 1334.26 1568.39 Q1331.65 1568.97 1328.69 1568.97 Q1320.64 1568.97 1315.89 1563.91 Q1311.15 1558.85 1311.15 1550.25 Q1311.15 1541.53 1315.93 1536.53 Q1320.73 1531.54 1329.07 1531.54 Q1331.78 1531.54 1334.35 1532.11 Q1336.93 1532.65 1339.35 1533.76 Z\" fill=\"#000000\" fill-rule=\"evenodd\" fill-opacity=\"1\" /><path clip-path=\"url(#clip200)\" d=\"M1363.35 1536.5 Q1358.64 1536.5 1355.9 1540.19 Q1353.17 1543.85 1353.17 1550.25 Q1353.17 1556.65 1355.87 1560.34 Q1358.61 1564 1363.35 1564 Q1368.03 1564 1370.77 1560.31 Q1373.5 1556.62 1373.5 1550.25 Q1373.5 1543.92 1370.77 1540.23 Q1368.03 1536.5 1363.35 1536.5 M1363.35 1531.54 Q1370.99 1531.54 1375.35 1536.5 Q1379.71 1541.47 1379.71 1550.25 Q1379.71 1559 1375.35 1564 Q1370.99 1568.97 1363.35 1568.97 Q1355.68 1568.97 1351.32 1564 Q1346.99 1559 1346.99 1550.25 Q1346.99 1541.47 1351.32 1536.5 Q1355.68 1531.54 1363.35 1531.54 Z\" fill=\"#000000\" fill-rule=\"evenodd\" fill-opacity=\"1\" /><path clip-path=\"url(#clip200)\" d=\"M1419.05 1546.53 L1419.05 1568.04 L1413.19 1568.04 L1413.19 1546.72 Q1413.19 1541.66 1411.22 1539.14 Q1409.25 1536.63 1405.3 1536.63 Q1400.56 1536.63 1397.82 1539.65 Q1395.08 1542.68 1395.08 1547.9 L1395.08 1568.04 L1389.2 1568.04 L1389.2 1532.4 L1395.08 1532.4 L1395.08 1537.93 Q1397.18 1534.72 1400.02 1533.13 Q1402.88 1531.54 1406.61 1531.54 Q1412.75 1531.54 1415.9 1535.36 Q1419.05 1539.14 1419.05 1546.53 Z\" fill=\"#000000\" fill-rule=\"evenodd\" fill-opacity=\"1\" /><path clip-path=\"url(#clip200)\" d=\"M1454.19 1537.81 L1454.19 1518.52 L1460.05 1518.52 L1460.05 1568.04 L1454.19 1568.04 L1454.19 1562.7 Q1452.34 1565.88 1449.51 1567.44 Q1446.71 1568.97 1442.76 1568.97 Q1436.3 1568.97 1432.23 1563.81 Q1428.19 1558.65 1428.19 1550.25 Q1428.19 1541.85 1432.23 1536.69 Q1436.3 1531.54 1442.76 1531.54 Q1446.71 1531.54 1449.51 1533.1 Q1452.34 1534.62 1454.19 1537.81 M1434.23 1550.25 Q1434.23 1556.71 1436.87 1560.4 Q1439.55 1564.07 1444.2 1564.07 Q1448.84 1564.07 1451.52 1560.4 Q1454.19 1556.71 1454.19 1550.25 Q1454.19 1543.79 1451.52 1540.13 Q1448.84 1536.44 1444.2 1536.44 Q1439.55 1536.44 1436.87 1540.13 Q1434.23 1543.79 1434.23 1550.25 Z\" fill=\"#000000\" fill-rule=\"evenodd\" fill-opacity=\"1\" /><path clip-path=\"url(#clip200)\" d=\"M1494.83 1533.45 L1494.83 1538.98 Q1492.35 1537.71 1489.68 1537.07 Q1487 1536.44 1484.14 1536.44 Q1479.78 1536.44 1477.58 1537.77 Q1475.42 1539.11 1475.42 1541.79 Q1475.42 1543.82 1476.98 1545 Q1478.54 1546.15 1483.25 1547.2 L1485.25 1547.64 Q1491.49 1548.98 1494.1 1551.43 Q1496.74 1553.85 1496.74 1558.21 Q1496.74 1563.17 1492.8 1566.07 Q1488.88 1568.97 1482.01 1568.97 Q1479.14 1568.97 1476.02 1568.39 Q1472.94 1567.85 1469.5 1566.74 L1469.5 1560.69 Q1472.75 1562.38 1475.9 1563.24 Q1479.05 1564.07 1482.13 1564.07 Q1486.27 1564.07 1488.5 1562.66 Q1490.73 1561.23 1490.73 1558.65 Q1490.73 1556.27 1489.11 1554.99 Q1487.51 1553.72 1482.07 1552.54 L1480.03 1552.07 Q1474.59 1550.92 1472.17 1548.56 Q1469.75 1546.18 1469.75 1542.04 Q1469.75 1537.01 1473.32 1534.27 Q1476.88 1531.54 1483.44 1531.54 Q1486.69 1531.54 1489.55 1532.01 Q1492.42 1532.49 1494.83 1533.45 Z\" fill=\"#000000\" fill-rule=\"evenodd\" fill-opacity=\"1\" /><polyline clip-path=\"url(#clip202)\" style=\"stroke:#000000; stroke-linecap:butt; stroke-linejoin:round; stroke-width:2; stroke-opacity:0.1; fill:none\" points=\"\n",
       "  247.459,1384.24 2352.76,1384.24 \n",
       "  \"/>\n",
       "<polyline clip-path=\"url(#clip202)\" style=\"stroke:#000000; stroke-linecap:butt; stroke-linejoin:round; stroke-width:2; stroke-opacity:0.1; fill:none\" points=\"\n",
       "  247.459,1113.81 2352.76,1113.81 \n",
       "  \"/>\n",
       "<polyline clip-path=\"url(#clip202)\" style=\"stroke:#000000; stroke-linecap:butt; stroke-linejoin:round; stroke-width:2; stroke-opacity:0.1; fill:none\" points=\"\n",
       "  247.459,843.383 2352.76,843.383 \n",
       "  \"/>\n",
       "<polyline clip-path=\"url(#clip202)\" style=\"stroke:#000000; stroke-linecap:butt; stroke-linejoin:round; stroke-width:2; stroke-opacity:0.1; fill:none\" points=\"\n",
       "  247.459,572.955 2352.76,572.955 \n",
       "  \"/>\n",
       "<polyline clip-path=\"url(#clip202)\" style=\"stroke:#000000; stroke-linecap:butt; stroke-linejoin:round; stroke-width:2; stroke-opacity:0.1; fill:none\" points=\"\n",
       "  247.459,302.528 2352.76,302.528 \n",
       "  \"/>\n",
       "<polyline clip-path=\"url(#clip200)\" style=\"stroke:#000000; stroke-linecap:butt; stroke-linejoin:round; stroke-width:4; stroke-opacity:1; fill:none\" points=\"\n",
       "  247.459,1423.18 247.459,47.2441 \n",
       "  \"/>\n",
       "<polyline clip-path=\"url(#clip200)\" style=\"stroke:#000000; stroke-linecap:butt; stroke-linejoin:round; stroke-width:4; stroke-opacity:1; fill:none\" points=\"\n",
       "  247.459,1384.24 266.356,1384.24 \n",
       "  \"/>\n",
       "<polyline clip-path=\"url(#clip200)\" style=\"stroke:#000000; stroke-linecap:butt; stroke-linejoin:round; stroke-width:4; stroke-opacity:1; fill:none\" points=\"\n",
       "  247.459,1113.81 266.356,1113.81 \n",
       "  \"/>\n",
       "<polyline clip-path=\"url(#clip200)\" style=\"stroke:#000000; stroke-linecap:butt; stroke-linejoin:round; stroke-width:4; stroke-opacity:1; fill:none\" points=\"\n",
       "  247.459,843.383 266.356,843.383 \n",
       "  \"/>\n",
       "<polyline clip-path=\"url(#clip200)\" style=\"stroke:#000000; stroke-linecap:butt; stroke-linejoin:round; stroke-width:4; stroke-opacity:1; fill:none\" points=\"\n",
       "  247.459,572.955 266.356,572.955 \n",
       "  \"/>\n",
       "<polyline clip-path=\"url(#clip200)\" style=\"stroke:#000000; stroke-linecap:butt; stroke-linejoin:round; stroke-width:4; stroke-opacity:1; fill:none\" points=\"\n",
       "  247.459,302.528 266.356,302.528 \n",
       "  \"/>\n",
       "<path clip-path=\"url(#clip200)\" d=\"M154.283 1370.04 Q150.672 1370.04 148.843 1373.6 Q147.038 1377.14 147.038 1384.27 Q147.038 1391.38 148.843 1394.94 Q150.672 1398.49 154.283 1398.49 Q157.917 1398.49 159.723 1394.94 Q161.552 1391.38 161.552 1384.27 Q161.552 1377.14 159.723 1373.6 Q157.917 1370.04 154.283 1370.04 M154.283 1366.33 Q160.093 1366.33 163.149 1370.94 Q166.227 1375.52 166.227 1384.27 Q166.227 1393 163.149 1397.61 Q160.093 1402.19 154.283 1402.19 Q148.473 1402.19 145.394 1397.61 Q142.339 1393 142.339 1384.27 Q142.339 1375.52 145.394 1370.94 Q148.473 1366.33 154.283 1366.33 Z\" fill=\"#000000\" fill-rule=\"evenodd\" fill-opacity=\"1\" /><path clip-path=\"url(#clip200)\" d=\"M174.445 1395.64 L179.329 1395.64 L179.329 1401.52 L174.445 1401.52 L174.445 1395.64 Z\" fill=\"#000000\" fill-rule=\"evenodd\" fill-opacity=\"1\" /><path clip-path=\"url(#clip200)\" d=\"M199.514 1370.04 Q195.903 1370.04 194.075 1373.6 Q192.269 1377.14 192.269 1384.27 Q192.269 1391.38 194.075 1394.94 Q195.903 1398.49 199.514 1398.49 Q203.149 1398.49 204.954 1394.94 Q206.783 1391.38 206.783 1384.27 Q206.783 1377.14 204.954 1373.6 Q203.149 1370.04 199.514 1370.04 M199.514 1366.33 Q205.324 1366.33 208.38 1370.94 Q211.459 1375.52 211.459 1384.27 Q211.459 1393 208.38 1397.61 Q205.324 1402.19 199.514 1402.19 Q193.704 1402.19 190.625 1397.61 Q187.57 1393 187.57 1384.27 Q187.57 1375.52 190.625 1370.94 Q193.704 1366.33 199.514 1366.33 Z\" fill=\"#000000\" fill-rule=\"evenodd\" fill-opacity=\"1\" /><path clip-path=\"url(#clip200)\" d=\"M149.306 1127.16 L165.626 1127.16 L165.626 1131.09 L143.681 1131.09 L143.681 1127.16 Q146.343 1124.4 150.927 1119.77 Q155.533 1115.12 156.714 1113.78 Q158.959 1111.25 159.839 1109.52 Q160.741 1107.76 160.741 1106.07 Q160.741 1103.31 158.797 1101.58 Q156.876 1099.84 153.774 1099.84 Q151.575 1099.84 149.121 1100.6 Q146.691 1101.37 143.913 1102.92 L143.913 1098.2 Q146.737 1097.06 149.191 1096.48 Q151.644 1095.91 153.681 1095.91 Q159.052 1095.91 162.246 1098.59 Q165.44 1101.28 165.44 1105.77 Q165.44 1107.9 164.63 1109.82 Q163.843 1111.72 161.737 1114.31 Q161.158 1114.98 158.056 1118.2 Q154.954 1121.39 149.306 1127.16 Z\" fill=\"#000000\" fill-rule=\"evenodd\" fill-opacity=\"1\" /><path clip-path=\"url(#clip200)\" d=\"M175.44 1125.21 L180.325 1125.21 L180.325 1131.09 L175.44 1131.09 L175.44 1125.21 Z\" fill=\"#000000\" fill-rule=\"evenodd\" fill-opacity=\"1\" /><path clip-path=\"url(#clip200)\" d=\"M190.556 1096.53 L208.912 1096.53 L208.912 1100.47 L194.838 1100.47 L194.838 1108.94 Q195.857 1108.59 196.875 1108.43 Q197.894 1108.24 198.912 1108.24 Q204.699 1108.24 208.079 1111.41 Q211.459 1114.59 211.459 1120 Q211.459 1125.58 207.987 1128.68 Q204.514 1131.76 198.195 1131.76 Q196.019 1131.76 193.75 1131.39 Q191.505 1131.02 189.098 1130.28 L189.098 1125.58 Q191.181 1126.72 193.403 1127.27 Q195.625 1127.83 198.102 1127.83 Q202.107 1127.83 204.445 1125.72 Q206.783 1123.61 206.783 1120 Q206.783 1116.39 204.445 1114.29 Q202.107 1112.18 198.102 1112.18 Q196.227 1112.18 194.352 1112.6 Q192.5 1113.01 190.556 1113.89 L190.556 1096.53 Z\" fill=\"#000000\" fill-rule=\"evenodd\" fill-opacity=\"1\" /><path clip-path=\"url(#clip200)\" d=\"M144.329 826.103 L162.686 826.103 L162.686 830.038 L148.612 830.038 L148.612 838.51 Q149.63 838.163 150.649 838.001 Q151.667 837.816 152.686 837.816 Q158.473 837.816 161.852 840.987 Q165.232 844.158 165.232 849.575 Q165.232 855.154 161.76 858.256 Q158.288 861.334 151.968 861.334 Q149.792 861.334 147.524 860.964 Q145.279 860.594 142.871 859.853 L142.871 855.154 Q144.954 856.288 147.177 856.844 Q149.399 857.399 151.876 857.399 Q155.88 857.399 158.218 855.293 Q160.556 853.186 160.556 849.575 Q160.556 845.964 158.218 843.858 Q155.88 841.751 151.876 841.751 Q150.001 841.751 148.126 842.168 Q146.274 842.584 144.329 843.464 L144.329 826.103 Z\" fill=\"#000000\" fill-rule=\"evenodd\" fill-opacity=\"1\" /><path clip-path=\"url(#clip200)\" d=\"M174.445 854.783 L179.329 854.783 L179.329 860.663 L174.445 860.663 L174.445 854.783 Z\" fill=\"#000000\" fill-rule=\"evenodd\" fill-opacity=\"1\" /><path clip-path=\"url(#clip200)\" d=\"M199.514 829.182 Q195.903 829.182 194.075 832.747 Q192.269 836.288 192.269 843.418 Q192.269 850.524 194.075 854.089 Q195.903 857.631 199.514 857.631 Q203.149 857.631 204.954 854.089 Q206.783 850.524 206.783 843.418 Q206.783 836.288 204.954 832.747 Q203.149 829.182 199.514 829.182 M199.514 825.478 Q205.324 825.478 208.38 830.084 Q211.459 834.668 211.459 843.418 Q211.459 852.145 208.38 856.751 Q205.324 861.334 199.514 861.334 Q193.704 861.334 190.625 856.751 Q187.57 852.145 187.57 843.418 Q187.57 834.668 190.625 830.084 Q193.704 825.478 199.514 825.478 Z\" fill=\"#000000\" fill-rule=\"evenodd\" fill-opacity=\"1\" /><path clip-path=\"url(#clip200)\" d=\"M144.098 555.675 L166.32 555.675 L166.32 557.666 L153.774 590.235 L148.89 590.235 L160.695 559.611 L144.098 559.611 L144.098 555.675 Z\" fill=\"#000000\" fill-rule=\"evenodd\" fill-opacity=\"1\" /><path clip-path=\"url(#clip200)\" d=\"M175.44 584.356 L180.325 584.356 L180.325 590.235 L175.44 590.235 L175.44 584.356 Z\" fill=\"#000000\" fill-rule=\"evenodd\" fill-opacity=\"1\" /><path clip-path=\"url(#clip200)\" d=\"M190.556 555.675 L208.912 555.675 L208.912 559.611 L194.838 559.611 L194.838 568.083 Q195.857 567.736 196.875 567.573 Q197.894 567.388 198.912 567.388 Q204.699 567.388 208.079 570.56 Q211.459 573.731 211.459 579.147 Q211.459 584.726 207.987 587.828 Q204.514 590.907 198.195 590.907 Q196.019 590.907 193.75 590.536 Q191.505 590.166 189.098 589.425 L189.098 584.726 Q191.181 585.86 193.403 586.416 Q195.625 586.972 198.102 586.972 Q202.107 586.972 204.445 584.865 Q206.783 582.759 206.783 579.147 Q206.783 575.536 204.445 573.43 Q202.107 571.323 198.102 571.323 Q196.227 571.323 194.352 571.74 Q192.5 572.157 190.556 573.036 L190.556 555.675 Z\" fill=\"#000000\" fill-rule=\"evenodd\" fill-opacity=\"1\" /><path clip-path=\"url(#clip200)\" d=\"M114.931 315.873 L122.57 315.873 L122.57 289.507 L114.26 291.174 L114.26 286.914 L122.524 285.248 L127.2 285.248 L127.2 315.873 L134.839 315.873 L134.839 319.808 L114.931 319.808 L114.931 315.873 Z\" fill=\"#000000\" fill-rule=\"evenodd\" fill-opacity=\"1\" /><path clip-path=\"url(#clip200)\" d=\"M154.283 288.326 Q150.672 288.326 148.843 291.891 Q147.038 295.433 147.038 302.562 Q147.038 309.669 148.843 313.234 Q150.672 316.775 154.283 316.775 Q157.917 316.775 159.723 313.234 Q161.552 309.669 161.552 302.562 Q161.552 295.433 159.723 291.891 Q157.917 288.326 154.283 288.326 M154.283 284.623 Q160.093 284.623 163.149 289.229 Q166.227 293.813 166.227 302.562 Q166.227 311.289 163.149 315.896 Q160.093 320.479 154.283 320.479 Q148.473 320.479 145.394 315.896 Q142.339 311.289 142.339 302.562 Q142.339 293.813 145.394 289.229 Q148.473 284.623 154.283 284.623 Z\" fill=\"#000000\" fill-rule=\"evenodd\" fill-opacity=\"1\" /><path clip-path=\"url(#clip200)\" d=\"M174.445 313.928 L179.329 313.928 L179.329 319.808 L174.445 319.808 L174.445 313.928 Z\" fill=\"#000000\" fill-rule=\"evenodd\" fill-opacity=\"1\" /><path clip-path=\"url(#clip200)\" d=\"M199.514 288.326 Q195.903 288.326 194.075 291.891 Q192.269 295.433 192.269 302.562 Q192.269 309.669 194.075 313.234 Q195.903 316.775 199.514 316.775 Q203.149 316.775 204.954 313.234 Q206.783 309.669 206.783 302.562 Q206.783 295.433 204.954 291.891 Q203.149 288.326 199.514 288.326 M199.514 284.623 Q205.324 284.623 208.38 289.229 Q211.459 293.813 211.459 302.562 Q211.459 311.289 208.38 315.896 Q205.324 320.479 199.514 320.479 Q193.704 320.479 190.625 315.896 Q187.57 311.289 187.57 302.562 Q187.57 293.813 190.625 289.229 Q193.704 284.623 199.514 284.623 Z\" fill=\"#000000\" fill-rule=\"evenodd\" fill-opacity=\"1\" /><path clip-path=\"url(#clip200)\" d=\"M29.7248 796.386 L35.1993 796.386 Q33.8307 798.869 33.1623 801.383 Q32.4621 803.866 32.4621 806.412 Q32.4621 812.11 36.0905 815.261 Q39.6872 818.412 46.212 818.412 Q52.7369 818.412 56.3653 815.261 Q59.9619 812.11 59.9619 806.412 Q59.9619 803.866 59.2935 801.383 Q58.5933 798.869 57.2247 796.386 L62.6355 796.386 Q63.7814 798.837 64.3543 801.479 Q64.9272 804.089 64.9272 807.049 Q64.9272 815.102 59.8664 819.844 Q54.8057 824.586 46.212 824.586 Q37.491 824.586 32.4939 819.812 Q27.4968 815.006 27.4968 806.667 Q27.4968 803.962 28.0697 801.383 Q28.6108 798.805 29.7248 796.386 Z\" fill=\"#000000\" fill-rule=\"evenodd\" fill-opacity=\"1\" /><path clip-path=\"url(#clip200)\" d=\"M32.4621 772.388 Q32.4621 777.098 36.1542 779.836 Q39.8145 782.573 46.212 782.573 Q52.6095 782.573 56.3017 779.867 Q59.9619 777.13 59.9619 772.388 Q59.9619 767.709 56.2698 764.972 Q52.5777 762.234 46.212 762.234 Q39.8781 762.234 36.186 764.972 Q32.4621 767.709 32.4621 772.388 M27.4968 772.388 Q27.4968 764.749 32.4621 760.388 Q37.4273 756.028 46.212 756.028 Q54.9649 756.028 59.9619 760.388 Q64.9272 764.749 64.9272 772.388 Q64.9272 780.058 59.9619 784.419 Q54.9649 788.748 46.212 788.748 Q37.4273 788.748 32.4621 784.419 Q27.4968 780.058 27.4968 772.388 Z\" fill=\"#000000\" fill-rule=\"evenodd\" fill-opacity=\"1\" /><path clip-path=\"url(#clip200)\" d=\"M49.9359 746.925 L28.3562 746.925 L28.3562 741.068 L49.7131 741.068 Q54.7739 741.068 57.3202 739.095 Q59.8346 737.122 59.8346 733.175 Q59.8346 728.432 56.8109 725.695 Q53.7872 722.926 48.5673 722.926 L28.3562 722.926 L28.3562 717.07 L64.0042 717.07 L64.0042 722.926 L58.5296 722.926 Q61.7762 725.059 63.3676 727.891 Q64.9272 730.692 64.9272 734.416 Q64.9272 740.559 61.1078 743.742 Q57.2883 746.925 49.9359 746.925 M27.4968 732.188 L27.4968 732.188 Z\" fill=\"#000000\" fill-rule=\"evenodd\" fill-opacity=\"1\" /><path clip-path=\"url(#clip200)\" d=\"M42.4881 675.374 L64.0042 675.374 L64.0042 681.231 L42.679 681.231 Q37.6183 681.231 35.1038 683.204 Q32.5894 685.178 32.5894 689.124 Q32.5894 693.867 35.6131 696.604 Q38.6368 699.341 43.8567 699.341 L64.0042 699.341 L64.0042 705.229 L28.3562 705.229 L28.3562 699.341 L33.8944 699.341 Q30.6797 697.241 29.0883 694.408 Q27.4968 691.543 27.4968 687.819 Q27.4968 681.676 31.3163 678.525 Q35.1038 675.374 42.4881 675.374 Z\" fill=\"#000000\" fill-rule=\"evenodd\" fill-opacity=\"1\" /><path clip-path=\"url(#clip200)\" d=\"M18.2347 657.9 L28.3562 657.9 L28.3562 645.837 L32.9077 645.837 L32.9077 657.9 L52.2594 657.9 Q56.6199 657.9 57.8613 656.723 Q59.1026 655.513 59.1026 651.853 L59.1026 645.837 L64.0042 645.837 L64.0042 651.853 Q64.0042 658.633 61.4897 661.211 Q58.9434 663.789 52.2594 663.789 L32.9077 663.789 L32.9077 668.086 L28.3562 668.086 L28.3562 663.789 L18.2347 663.789 L18.2347 657.9 Z\" fill=\"#000000\" fill-rule=\"evenodd\" fill-opacity=\"1\" /><path clip-path=\"url(#clip202)\" d=\"\n",
       "M247.749 1276.07 L247.749 1384.24 L267.727 1384.24 L267.727 1276.07 L247.749 1276.07 L247.749 1276.07  Z\n",
       "  \" fill=\"#009af9\" fill-rule=\"evenodd\" fill-opacity=\"1\"/>\n",
       "<polyline clip-path=\"url(#clip202)\" style=\"stroke:#000000; stroke-linecap:butt; stroke-linejoin:round; stroke-width:4; stroke-opacity:1; fill:none\" points=\"\n",
       "  247.749,1276.07 247.749,1384.24 267.727,1384.24 267.727,1276.07 247.749,1276.07 \n",
       "  \"/>\n",
       "<path clip-path=\"url(#clip202)\" d=\"\n",
       "M267.727 1384.24 L267.727 1384.24 L287.704 1384.24 L287.704 1384.24 L267.727 1384.24 L267.727 1384.24  Z\n",
       "  \" fill=\"#009af9\" fill-rule=\"evenodd\" fill-opacity=\"1\"/>\n",
       "<polyline clip-path=\"url(#clip202)\" style=\"stroke:#000000; stroke-linecap:butt; stroke-linejoin:round; stroke-width:4; stroke-opacity:1; fill:none\" points=\"\n",
       "  267.727,1384.24 267.727,1384.24 287.704,1384.24 267.727,1384.24 \n",
       "  \"/>\n",
       "<path clip-path=\"url(#clip202)\" d=\"\n",
       "M287.704 1384.24 L287.704 1384.24 L307.681 1384.24 L307.681 1384.24 L287.704 1384.24 L287.704 1384.24  Z\n",
       "  \" fill=\"#009af9\" fill-rule=\"evenodd\" fill-opacity=\"1\"/>\n",
       "<polyline clip-path=\"url(#clip202)\" style=\"stroke:#000000; stroke-linecap:butt; stroke-linejoin:round; stroke-width:4; stroke-opacity:1; fill:none\" points=\"\n",
       "  287.704,1384.24 287.704,1384.24 307.681,1384.24 287.704,1384.24 \n",
       "  \"/>\n",
       "<path clip-path=\"url(#clip202)\" d=\"\n",
       "M307.681 1384.24 L307.681 1384.24 L327.658 1384.24 L327.658 1384.24 L307.681 1384.24 L307.681 1384.24  Z\n",
       "  \" fill=\"#009af9\" fill-rule=\"evenodd\" fill-opacity=\"1\"/>\n",
       "<polyline clip-path=\"url(#clip202)\" style=\"stroke:#000000; stroke-linecap:butt; stroke-linejoin:round; stroke-width:4; stroke-opacity:1; fill:none\" points=\"\n",
       "  307.681,1384.24 307.681,1384.24 327.658,1384.24 307.681,1384.24 \n",
       "  \"/>\n",
       "<path clip-path=\"url(#clip202)\" d=\"\n",
       "M327.658 1384.24 L327.658 1384.24 L347.635 1384.24 L347.635 1384.24 L327.658 1384.24 L327.658 1384.24  Z\n",
       "  \" fill=\"#009af9\" fill-rule=\"evenodd\" fill-opacity=\"1\"/>\n",
       "<polyline clip-path=\"url(#clip202)\" style=\"stroke:#000000; stroke-linecap:butt; stroke-linejoin:round; stroke-width:4; stroke-opacity:1; fill:none\" points=\"\n",
       "  327.658,1384.24 327.658,1384.24 347.635,1384.24 327.658,1384.24 \n",
       "  \"/>\n",
       "<path clip-path=\"url(#clip202)\" d=\"\n",
       "M347.635 1384.24 L347.635 1384.24 L367.613 1384.24 L367.613 1384.24 L347.635 1384.24 L347.635 1384.24  Z\n",
       "  \" fill=\"#009af9\" fill-rule=\"evenodd\" fill-opacity=\"1\"/>\n",
       "<polyline clip-path=\"url(#clip202)\" style=\"stroke:#000000; stroke-linecap:butt; stroke-linejoin:round; stroke-width:4; stroke-opacity:1; fill:none\" points=\"\n",
       "  347.635,1384.24 347.635,1384.24 367.613,1384.24 347.635,1384.24 \n",
       "  \"/>\n",
       "<path clip-path=\"url(#clip202)\" d=\"\n",
       "M367.613 1276.07 L367.613 1384.24 L387.59 1384.24 L387.59 1276.07 L367.613 1276.07 L367.613 1276.07  Z\n",
       "  \" fill=\"#009af9\" fill-rule=\"evenodd\" fill-opacity=\"1\"/>\n",
       "<polyline clip-path=\"url(#clip202)\" style=\"stroke:#000000; stroke-linecap:butt; stroke-linejoin:round; stroke-width:4; stroke-opacity:1; fill:none\" points=\"\n",
       "  367.613,1276.07 367.613,1384.24 387.59,1384.24 387.59,1276.07 367.613,1276.07 \n",
       "  \"/>\n",
       "<path clip-path=\"url(#clip202)\" d=\"\n",
       "M387.59 1384.24 L387.59 1384.24 L407.567 1384.24 L407.567 1384.24 L387.59 1384.24 L387.59 1384.24  Z\n",
       "  \" fill=\"#009af9\" fill-rule=\"evenodd\" fill-opacity=\"1\"/>\n",
       "<polyline clip-path=\"url(#clip202)\" style=\"stroke:#000000; stroke-linecap:butt; stroke-linejoin:round; stroke-width:4; stroke-opacity:1; fill:none\" points=\"\n",
       "  387.59,1384.24 387.59,1384.24 407.567,1384.24 387.59,1384.24 \n",
       "  \"/>\n",
       "<path clip-path=\"url(#clip202)\" d=\"\n",
       "M407.567 1276.07 L407.567 1384.24 L427.544 1384.24 L427.544 1276.07 L407.567 1276.07 L407.567 1276.07  Z\n",
       "  \" fill=\"#009af9\" fill-rule=\"evenodd\" fill-opacity=\"1\"/>\n",
       "<polyline clip-path=\"url(#clip202)\" style=\"stroke:#000000; stroke-linecap:butt; stroke-linejoin:round; stroke-width:4; stroke-opacity:1; fill:none\" points=\"\n",
       "  407.567,1276.07 407.567,1384.24 427.544,1384.24 427.544,1276.07 407.567,1276.07 \n",
       "  \"/>\n",
       "<path clip-path=\"url(#clip202)\" d=\"\n",
       "M427.544 1384.24 L427.544 1384.24 L447.522 1384.24 L447.522 1384.24 L427.544 1384.24 L427.544 1384.24  Z\n",
       "  \" fill=\"#009af9\" fill-rule=\"evenodd\" fill-opacity=\"1\"/>\n",
       "<polyline clip-path=\"url(#clip202)\" style=\"stroke:#000000; stroke-linecap:butt; stroke-linejoin:round; stroke-width:4; stroke-opacity:1; fill:none\" points=\"\n",
       "  427.544,1384.24 427.544,1384.24 447.522,1384.24 427.544,1384.24 \n",
       "  \"/>\n",
       "<path clip-path=\"url(#clip202)\" d=\"\n",
       "M447.522 1384.24 L447.522 1384.24 L467.499 1384.24 L467.499 1384.24 L447.522 1384.24 L447.522 1384.24  Z\n",
       "  \" fill=\"#009af9\" fill-rule=\"evenodd\" fill-opacity=\"1\"/>\n",
       "<polyline clip-path=\"url(#clip202)\" style=\"stroke:#000000; stroke-linecap:butt; stroke-linejoin:round; stroke-width:4; stroke-opacity:1; fill:none\" points=\"\n",
       "  447.522,1384.24 447.522,1384.24 467.499,1384.24 447.522,1384.24 \n",
       "  \"/>\n",
       "<path clip-path=\"url(#clip202)\" d=\"\n",
       "M467.499 1167.9 L467.499 1384.24 L487.476 1384.24 L487.476 1167.9 L467.499 1167.9 L467.499 1167.9  Z\n",
       "  \" fill=\"#009af9\" fill-rule=\"evenodd\" fill-opacity=\"1\"/>\n",
       "<polyline clip-path=\"url(#clip202)\" style=\"stroke:#000000; stroke-linecap:butt; stroke-linejoin:round; stroke-width:4; stroke-opacity:1; fill:none\" points=\"\n",
       "  467.499,1167.9 467.499,1384.24 487.476,1384.24 487.476,1167.9 467.499,1167.9 \n",
       "  \"/>\n",
       "<path clip-path=\"url(#clip202)\" d=\"\n",
       "M487.476 1276.07 L487.476 1384.24 L507.453 1384.24 L507.453 1276.07 L487.476 1276.07 L487.476 1276.07  Z\n",
       "  \" fill=\"#009af9\" fill-rule=\"evenodd\" fill-opacity=\"1\"/>\n",
       "<polyline clip-path=\"url(#clip202)\" style=\"stroke:#000000; stroke-linecap:butt; stroke-linejoin:round; stroke-width:4; stroke-opacity:1; fill:none\" points=\"\n",
       "  487.476,1276.07 487.476,1384.24 507.453,1384.24 507.453,1276.07 487.476,1276.07 \n",
       "  \"/>\n",
       "<path clip-path=\"url(#clip202)\" d=\"\n",
       "M507.453 1384.24 L507.453 1384.24 L527.43 1384.24 L527.43 1384.24 L507.453 1384.24 L507.453 1384.24  Z\n",
       "  \" fill=\"#009af9\" fill-rule=\"evenodd\" fill-opacity=\"1\"/>\n",
       "<polyline clip-path=\"url(#clip202)\" style=\"stroke:#000000; stroke-linecap:butt; stroke-linejoin:round; stroke-width:4; stroke-opacity:1; fill:none\" points=\"\n",
       "  507.453,1384.24 507.453,1384.24 527.43,1384.24 507.453,1384.24 \n",
       "  \"/>\n",
       "<path clip-path=\"url(#clip202)\" d=\"\n",
       "M527.43 1276.07 L527.43 1384.24 L547.408 1384.24 L547.408 1276.07 L527.43 1276.07 L527.43 1276.07  Z\n",
       "  \" fill=\"#009af9\" fill-rule=\"evenodd\" fill-opacity=\"1\"/>\n",
       "<polyline clip-path=\"url(#clip202)\" style=\"stroke:#000000; stroke-linecap:butt; stroke-linejoin:round; stroke-width:4; stroke-opacity:1; fill:none\" points=\"\n",
       "  527.43,1276.07 527.43,1384.24 547.408,1384.24 547.408,1276.07 527.43,1276.07 \n",
       "  \"/>\n",
       "<path clip-path=\"url(#clip202)\" d=\"\n",
       "M547.408 1384.24 L547.408 1384.24 L567.385 1384.24 L567.385 1384.24 L547.408 1384.24 L547.408 1384.24  Z\n",
       "  \" fill=\"#009af9\" fill-rule=\"evenodd\" fill-opacity=\"1\"/>\n",
       "<polyline clip-path=\"url(#clip202)\" style=\"stroke:#000000; stroke-linecap:butt; stroke-linejoin:round; stroke-width:4; stroke-opacity:1; fill:none\" points=\"\n",
       "  547.408,1384.24 547.408,1384.24 567.385,1384.24 547.408,1384.24 \n",
       "  \"/>\n",
       "<path clip-path=\"url(#clip202)\" d=\"\n",
       "M567.385 1167.9 L567.385 1384.24 L587.362 1384.24 L587.362 1167.9 L567.385 1167.9 L567.385 1167.9  Z\n",
       "  \" fill=\"#009af9\" fill-rule=\"evenodd\" fill-opacity=\"1\"/>\n",
       "<polyline clip-path=\"url(#clip202)\" style=\"stroke:#000000; stroke-linecap:butt; stroke-linejoin:round; stroke-width:4; stroke-opacity:1; fill:none\" points=\"\n",
       "  567.385,1167.9 567.385,1384.24 587.362,1384.24 587.362,1167.9 567.385,1167.9 \n",
       "  \"/>\n",
       "<path clip-path=\"url(#clip202)\" d=\"\n",
       "M587.362 951.554 L587.362 1384.24 L607.339 1384.24 L607.339 951.554 L587.362 951.554 L587.362 951.554  Z\n",
       "  \" fill=\"#009af9\" fill-rule=\"evenodd\" fill-opacity=\"1\"/>\n",
       "<polyline clip-path=\"url(#clip202)\" style=\"stroke:#000000; stroke-linecap:butt; stroke-linejoin:round; stroke-width:4; stroke-opacity:1; fill:none\" points=\"\n",
       "  587.362,951.554 587.362,1384.24 607.339,1384.24 607.339,951.554 587.362,951.554 \n",
       "  \"/>\n",
       "<path clip-path=\"url(#clip202)\" d=\"\n",
       "M607.339 1167.9 L607.339 1384.24 L627.316 1384.24 L627.316 1167.9 L607.339 1167.9 L607.339 1167.9  Z\n",
       "  \" fill=\"#009af9\" fill-rule=\"evenodd\" fill-opacity=\"1\"/>\n",
       "<polyline clip-path=\"url(#clip202)\" style=\"stroke:#000000; stroke-linecap:butt; stroke-linejoin:round; stroke-width:4; stroke-opacity:1; fill:none\" points=\"\n",
       "  607.339,1167.9 607.339,1384.24 627.316,1384.24 627.316,1167.9 607.339,1167.9 \n",
       "  \"/>\n",
       "<path clip-path=\"url(#clip202)\" d=\"\n",
       "M627.316 1059.73 L627.316 1384.24 L647.294 1384.24 L647.294 1059.73 L627.316 1059.73 L627.316 1059.73  Z\n",
       "  \" fill=\"#009af9\" fill-rule=\"evenodd\" fill-opacity=\"1\"/>\n",
       "<polyline clip-path=\"url(#clip202)\" style=\"stroke:#000000; stroke-linecap:butt; stroke-linejoin:round; stroke-width:4; stroke-opacity:1; fill:none\" points=\"\n",
       "  627.316,1059.73 627.316,1384.24 647.294,1384.24 647.294,1059.73 627.316,1059.73 \n",
       "  \"/>\n",
       "<path clip-path=\"url(#clip202)\" d=\"\n",
       "M647.294 627.041 L647.294 1384.24 L667.271 1384.24 L667.271 627.041 L647.294 627.041 L647.294 627.041  Z\n",
       "  \" fill=\"#009af9\" fill-rule=\"evenodd\" fill-opacity=\"1\"/>\n",
       "<polyline clip-path=\"url(#clip202)\" style=\"stroke:#000000; stroke-linecap:butt; stroke-linejoin:round; stroke-width:4; stroke-opacity:1; fill:none\" points=\"\n",
       "  647.294,627.041 647.294,1384.24 667.271,1384.24 667.271,627.041 647.294,627.041 \n",
       "  \"/>\n",
       "<path clip-path=\"url(#clip202)\" d=\"\n",
       "M667.271 735.212 L667.271 1384.24 L687.248 1384.24 L687.248 735.212 L667.271 735.212 L667.271 735.212  Z\n",
       "  \" fill=\"#009af9\" fill-rule=\"evenodd\" fill-opacity=\"1\"/>\n",
       "<polyline clip-path=\"url(#clip202)\" style=\"stroke:#000000; stroke-linecap:butt; stroke-linejoin:round; stroke-width:4; stroke-opacity:1; fill:none\" points=\"\n",
       "  667.271,735.212 667.271,1384.24 687.248,1384.24 687.248,735.212 667.271,735.212 \n",
       "  \"/>\n",
       "<path clip-path=\"url(#clip202)\" d=\"\n",
       "M687.248 86.1857 L687.248 1384.24 L707.225 1384.24 L707.225 86.1857 L687.248 86.1857 L687.248 86.1857  Z\n",
       "  \" fill=\"#009af9\" fill-rule=\"evenodd\" fill-opacity=\"1\"/>\n",
       "<polyline clip-path=\"url(#clip202)\" style=\"stroke:#000000; stroke-linecap:butt; stroke-linejoin:round; stroke-width:4; stroke-opacity:1; fill:none\" points=\"\n",
       "  687.248,86.1857 687.248,1384.24 707.225,1384.24 707.225,86.1857 687.248,86.1857 \n",
       "  \"/>\n",
       "<path clip-path=\"url(#clip202)\" d=\"\n",
       "M707.225 843.383 L707.225 1384.24 L727.203 1384.24 L727.203 843.383 L707.225 843.383 L707.225 843.383  Z\n",
       "  \" fill=\"#009af9\" fill-rule=\"evenodd\" fill-opacity=\"1\"/>\n",
       "<polyline clip-path=\"url(#clip202)\" style=\"stroke:#000000; stroke-linecap:butt; stroke-linejoin:round; stroke-width:4; stroke-opacity:1; fill:none\" points=\"\n",
       "  707.225,843.383 707.225,1384.24 727.203,1384.24 727.203,843.383 707.225,843.383 \n",
       "  \"/>\n",
       "<path clip-path=\"url(#clip202)\" d=\"\n",
       "M727.203 843.383 L727.203 1384.24 L747.18 1384.24 L747.18 843.383 L727.203 843.383 L727.203 843.383  Z\n",
       "  \" fill=\"#009af9\" fill-rule=\"evenodd\" fill-opacity=\"1\"/>\n",
       "<polyline clip-path=\"url(#clip202)\" style=\"stroke:#000000; stroke-linecap:butt; stroke-linejoin:round; stroke-width:4; stroke-opacity:1; fill:none\" points=\"\n",
       "  727.203,843.383 727.203,1384.24 747.18,1384.24 747.18,843.383 727.203,843.383 \n",
       "  \"/>\n",
       "<path clip-path=\"url(#clip202)\" d=\"\n",
       "M747.18 1059.73 L747.18 1384.24 L767.157 1384.24 L767.157 1059.73 L747.18 1059.73 L747.18 1059.73  Z\n",
       "  \" fill=\"#009af9\" fill-rule=\"evenodd\" fill-opacity=\"1\"/>\n",
       "<polyline clip-path=\"url(#clip202)\" style=\"stroke:#000000; stroke-linecap:butt; stroke-linejoin:round; stroke-width:4; stroke-opacity:1; fill:none\" points=\"\n",
       "  747.18,1059.73 747.18,1384.24 767.157,1384.24 767.157,1059.73 747.18,1059.73 \n",
       "  \"/>\n",
       "<path clip-path=\"url(#clip202)\" d=\"\n",
       "M767.157 302.528 L767.157 1384.24 L787.134 1384.24 L787.134 302.528 L767.157 302.528 L767.157 302.528  Z\n",
       "  \" fill=\"#009af9\" fill-rule=\"evenodd\" fill-opacity=\"1\"/>\n",
       "<polyline clip-path=\"url(#clip202)\" style=\"stroke:#000000; stroke-linecap:butt; stroke-linejoin:round; stroke-width:4; stroke-opacity:1; fill:none\" points=\"\n",
       "  767.157,302.528 767.157,1384.24 787.134,1384.24 787.134,302.528 767.157,302.528 \n",
       "  \"/>\n",
       "<path clip-path=\"url(#clip202)\" d=\"\n",
       "M787.134 1167.9 L787.134 1384.24 L807.111 1384.24 L807.111 1167.9 L787.134 1167.9 L787.134 1167.9  Z\n",
       "  \" fill=\"#009af9\" fill-rule=\"evenodd\" fill-opacity=\"1\"/>\n",
       "<polyline clip-path=\"url(#clip202)\" style=\"stroke:#000000; stroke-linecap:butt; stroke-linejoin:round; stroke-width:4; stroke-opacity:1; fill:none\" points=\"\n",
       "  787.134,1167.9 787.134,1384.24 807.111,1384.24 807.111,1167.9 787.134,1167.9 \n",
       "  \"/>\n",
       "<path clip-path=\"url(#clip202)\" d=\"\n",
       "M807.111 410.699 L807.111 1384.24 L827.089 1384.24 L827.089 410.699 L807.111 410.699 L807.111 410.699  Z\n",
       "  \" fill=\"#009af9\" fill-rule=\"evenodd\" fill-opacity=\"1\"/>\n",
       "<polyline clip-path=\"url(#clip202)\" style=\"stroke:#000000; stroke-linecap:butt; stroke-linejoin:round; stroke-width:4; stroke-opacity:1; fill:none\" points=\"\n",
       "  807.111,410.699 807.111,1384.24 827.089,1384.24 827.089,410.699 807.111,410.699 \n",
       "  \"/>\n",
       "<path clip-path=\"url(#clip202)\" d=\"\n",
       "M827.089 1276.07 L827.089 1384.24 L847.066 1384.24 L847.066 1276.07 L827.089 1276.07 L827.089 1276.07  Z\n",
       "  \" fill=\"#009af9\" fill-rule=\"evenodd\" fill-opacity=\"1\"/>\n",
       "<polyline clip-path=\"url(#clip202)\" style=\"stroke:#000000; stroke-linecap:butt; stroke-linejoin:round; stroke-width:4; stroke-opacity:1; fill:none\" points=\"\n",
       "  827.089,1276.07 827.089,1384.24 847.066,1384.24 847.066,1276.07 827.089,1276.07 \n",
       "  \"/>\n",
       "<path clip-path=\"url(#clip202)\" d=\"\n",
       "M847.066 1059.73 L847.066 1384.24 L867.043 1384.24 L867.043 1059.73 L847.066 1059.73 L847.066 1059.73  Z\n",
       "  \" fill=\"#009af9\" fill-rule=\"evenodd\" fill-opacity=\"1\"/>\n",
       "<polyline clip-path=\"url(#clip202)\" style=\"stroke:#000000; stroke-linecap:butt; stroke-linejoin:round; stroke-width:4; stroke-opacity:1; fill:none\" points=\"\n",
       "  847.066,1059.73 847.066,1384.24 867.043,1384.24 867.043,1059.73 847.066,1059.73 \n",
       "  \"/>\n",
       "<path clip-path=\"url(#clip202)\" d=\"\n",
       "M867.043 1384.24 L867.043 1384.24 L887.02 1384.24 L887.02 1384.24 L867.043 1384.24 L867.043 1384.24  Z\n",
       "  \" fill=\"#009af9\" fill-rule=\"evenodd\" fill-opacity=\"1\"/>\n",
       "<polyline clip-path=\"url(#clip202)\" style=\"stroke:#000000; stroke-linecap:butt; stroke-linejoin:round; stroke-width:4; stroke-opacity:1; fill:none\" points=\"\n",
       "  867.043,1384.24 867.043,1384.24 887.02,1384.24 867.043,1384.24 \n",
       "  \"/>\n",
       "<path clip-path=\"url(#clip202)\" d=\"\n",
       "M887.02 1276.07 L887.02 1384.24 L906.997 1384.24 L906.997 1276.07 L887.02 1276.07 L887.02 1276.07  Z\n",
       "  \" fill=\"#009af9\" fill-rule=\"evenodd\" fill-opacity=\"1\"/>\n",
       "<polyline clip-path=\"url(#clip202)\" style=\"stroke:#000000; stroke-linecap:butt; stroke-linejoin:round; stroke-width:4; stroke-opacity:1; fill:none\" points=\"\n",
       "  887.02,1276.07 887.02,1384.24 906.997,1384.24 906.997,1276.07 887.02,1276.07 \n",
       "  \"/>\n",
       "<path clip-path=\"url(#clip202)\" d=\"\n",
       "M906.997 951.554 L906.997 1384.24 L926.975 1384.24 L926.975 951.554 L906.997 951.554 L906.997 951.554  Z\n",
       "  \" fill=\"#009af9\" fill-rule=\"evenodd\" fill-opacity=\"1\"/>\n",
       "<polyline clip-path=\"url(#clip202)\" style=\"stroke:#000000; stroke-linecap:butt; stroke-linejoin:round; stroke-width:4; stroke-opacity:1; fill:none\" points=\"\n",
       "  906.997,951.554 906.997,1384.24 926.975,1384.24 926.975,951.554 906.997,951.554 \n",
       "  \"/>\n",
       "<path clip-path=\"url(#clip202)\" d=\"\n",
       "M926.975 1276.07 L926.975 1384.24 L946.952 1384.24 L946.952 1276.07 L926.975 1276.07 L926.975 1276.07  Z\n",
       "  \" fill=\"#009af9\" fill-rule=\"evenodd\" fill-opacity=\"1\"/>\n",
       "<polyline clip-path=\"url(#clip202)\" style=\"stroke:#000000; stroke-linecap:butt; stroke-linejoin:round; stroke-width:4; stroke-opacity:1; fill:none\" points=\"\n",
       "  926.975,1276.07 926.975,1384.24 946.952,1384.24 946.952,1276.07 926.975,1276.07 \n",
       "  \"/>\n",
       "<path clip-path=\"url(#clip202)\" d=\"\n",
       "M946.952 951.554 L946.952 1384.24 L966.929 1384.24 L966.929 951.554 L946.952 951.554 L946.952 951.554  Z\n",
       "  \" fill=\"#009af9\" fill-rule=\"evenodd\" fill-opacity=\"1\"/>\n",
       "<polyline clip-path=\"url(#clip202)\" style=\"stroke:#000000; stroke-linecap:butt; stroke-linejoin:round; stroke-width:4; stroke-opacity:1; fill:none\" points=\"\n",
       "  946.952,951.554 946.952,1384.24 966.929,1384.24 966.929,951.554 946.952,951.554 \n",
       "  \"/>\n",
       "<path clip-path=\"url(#clip202)\" d=\"\n",
       "M966.929 843.383 L966.929 1384.24 L986.906 1384.24 L986.906 843.383 L966.929 843.383 L966.929 843.383  Z\n",
       "  \" fill=\"#009af9\" fill-rule=\"evenodd\" fill-opacity=\"1\"/>\n",
       "<polyline clip-path=\"url(#clip202)\" style=\"stroke:#000000; stroke-linecap:butt; stroke-linejoin:round; stroke-width:4; stroke-opacity:1; fill:none\" points=\"\n",
       "  966.929,843.383 966.929,1384.24 986.906,1384.24 986.906,843.383 966.929,843.383 \n",
       "  \"/>\n",
       "<path clip-path=\"url(#clip202)\" d=\"\n",
       "M986.906 1167.9 L986.906 1384.24 L1006.88 1384.24 L1006.88 1167.9 L986.906 1167.9 L986.906 1167.9  Z\n",
       "  \" fill=\"#009af9\" fill-rule=\"evenodd\" fill-opacity=\"1\"/>\n",
       "<polyline clip-path=\"url(#clip202)\" style=\"stroke:#000000; stroke-linecap:butt; stroke-linejoin:round; stroke-width:4; stroke-opacity:1; fill:none\" points=\"\n",
       "  986.906,1167.9 986.906,1384.24 1006.88,1384.24 1006.88,1167.9 986.906,1167.9 \n",
       "  \"/>\n",
       "<path clip-path=\"url(#clip202)\" d=\"\n",
       "M1006.88 1276.07 L1006.88 1384.24 L1026.86 1384.24 L1026.86 1276.07 L1006.88 1276.07 L1006.88 1276.07  Z\n",
       "  \" fill=\"#009af9\" fill-rule=\"evenodd\" fill-opacity=\"1\"/>\n",
       "<polyline clip-path=\"url(#clip202)\" style=\"stroke:#000000; stroke-linecap:butt; stroke-linejoin:round; stroke-width:4; stroke-opacity:1; fill:none\" points=\"\n",
       "  1006.88,1276.07 1006.88,1384.24 1026.86,1384.24 1026.86,1276.07 1006.88,1276.07 \n",
       "  \"/>\n",
       "<path clip-path=\"url(#clip202)\" d=\"\n",
       "M1026.86 1276.07 L1026.86 1384.24 L1046.84 1384.24 L1046.84 1276.07 L1026.86 1276.07 L1026.86 1276.07  Z\n",
       "  \" fill=\"#009af9\" fill-rule=\"evenodd\" fill-opacity=\"1\"/>\n",
       "<polyline clip-path=\"url(#clip202)\" style=\"stroke:#000000; stroke-linecap:butt; stroke-linejoin:round; stroke-width:4; stroke-opacity:1; fill:none\" points=\"\n",
       "  1026.86,1276.07 1026.86,1384.24 1046.84,1384.24 1046.84,1276.07 1026.86,1276.07 \n",
       "  \"/>\n",
       "<path clip-path=\"url(#clip202)\" d=\"\n",
       "M1046.84 1384.24 L1046.84 1384.24 L1066.82 1384.24 L1066.82 1384.24 L1046.84 1384.24 L1046.84 1384.24  Z\n",
       "  \" fill=\"#009af9\" fill-rule=\"evenodd\" fill-opacity=\"1\"/>\n",
       "<polyline clip-path=\"url(#clip202)\" style=\"stroke:#000000; stroke-linecap:butt; stroke-linejoin:round; stroke-width:4; stroke-opacity:1; fill:none\" points=\"\n",
       "  1046.84,1384.24 1046.84,1384.24 1066.82,1384.24 1046.84,1384.24 \n",
       "  \"/>\n",
       "<path clip-path=\"url(#clip202)\" d=\"\n",
       "M1066.82 1276.07 L1066.82 1384.24 L1086.79 1384.24 L1086.79 1276.07 L1066.82 1276.07 L1066.82 1276.07  Z\n",
       "  \" fill=\"#009af9\" fill-rule=\"evenodd\" fill-opacity=\"1\"/>\n",
       "<polyline clip-path=\"url(#clip202)\" style=\"stroke:#000000; stroke-linecap:butt; stroke-linejoin:round; stroke-width:4; stroke-opacity:1; fill:none\" points=\"\n",
       "  1066.82,1276.07 1066.82,1384.24 1086.79,1384.24 1086.79,1276.07 1066.82,1276.07 \n",
       "  \"/>\n",
       "<path clip-path=\"url(#clip202)\" d=\"\n",
       "M1086.79 1384.24 L1086.79 1384.24 L1106.77 1384.24 L1106.77 1384.24 L1086.79 1384.24 L1086.79 1384.24  Z\n",
       "  \" fill=\"#009af9\" fill-rule=\"evenodd\" fill-opacity=\"1\"/>\n",
       "<polyline clip-path=\"url(#clip202)\" style=\"stroke:#000000; stroke-linecap:butt; stroke-linejoin:round; stroke-width:4; stroke-opacity:1; fill:none\" points=\"\n",
       "  1086.79,1384.24 1086.79,1384.24 1106.77,1384.24 1086.79,1384.24 \n",
       "  \"/>\n",
       "<path clip-path=\"url(#clip202)\" d=\"\n",
       "M1106.77 1276.07 L1106.77 1384.24 L1126.75 1384.24 L1126.75 1276.07 L1106.77 1276.07 L1106.77 1276.07  Z\n",
       "  \" fill=\"#009af9\" fill-rule=\"evenodd\" fill-opacity=\"1\"/>\n",
       "<polyline clip-path=\"url(#clip202)\" style=\"stroke:#000000; stroke-linecap:butt; stroke-linejoin:round; stroke-width:4; stroke-opacity:1; fill:none\" points=\"\n",
       "  1106.77,1276.07 1106.77,1384.24 1126.75,1384.24 1126.75,1276.07 1106.77,1276.07 \n",
       "  \"/>\n",
       "<path clip-path=\"url(#clip202)\" d=\"\n",
       "M1126.75 1276.07 L1126.75 1384.24 L1146.72 1384.24 L1146.72 1276.07 L1126.75 1276.07 L1126.75 1276.07  Z\n",
       "  \" fill=\"#009af9\" fill-rule=\"evenodd\" fill-opacity=\"1\"/>\n",
       "<polyline clip-path=\"url(#clip202)\" style=\"stroke:#000000; stroke-linecap:butt; stroke-linejoin:round; stroke-width:4; stroke-opacity:1; fill:none\" points=\"\n",
       "  1126.75,1276.07 1126.75,1384.24 1146.72,1384.24 1146.72,1276.07 1126.75,1276.07 \n",
       "  \"/>\n",
       "<path clip-path=\"url(#clip202)\" d=\"\n",
       "M1146.72 1384.24 L1146.72 1384.24 L1166.7 1384.24 L1166.7 1384.24 L1146.72 1384.24 L1146.72 1384.24  Z\n",
       "  \" fill=\"#009af9\" fill-rule=\"evenodd\" fill-opacity=\"1\"/>\n",
       "<polyline clip-path=\"url(#clip202)\" style=\"stroke:#000000; stroke-linecap:butt; stroke-linejoin:round; stroke-width:4; stroke-opacity:1; fill:none\" points=\"\n",
       "  1146.72,1384.24 1146.72,1384.24 1166.7,1384.24 1146.72,1384.24 \n",
       "  \"/>\n",
       "<path clip-path=\"url(#clip202)\" d=\"\n",
       "M1166.7 1059.73 L1166.7 1384.24 L1186.68 1384.24 L1186.68 1059.73 L1166.7 1059.73 L1166.7 1059.73  Z\n",
       "  \" fill=\"#009af9\" fill-rule=\"evenodd\" fill-opacity=\"1\"/>\n",
       "<polyline clip-path=\"url(#clip202)\" style=\"stroke:#000000; stroke-linecap:butt; stroke-linejoin:round; stroke-width:4; stroke-opacity:1; fill:none\" points=\"\n",
       "  1166.7,1059.73 1166.7,1384.24 1186.68,1384.24 1186.68,1059.73 1166.7,1059.73 \n",
       "  \"/>\n",
       "<path clip-path=\"url(#clip202)\" d=\"\n",
       "M1186.68 1384.24 L1186.68 1384.24 L1206.66 1384.24 L1206.66 1384.24 L1186.68 1384.24 L1186.68 1384.24  Z\n",
       "  \" fill=\"#009af9\" fill-rule=\"evenodd\" fill-opacity=\"1\"/>\n",
       "<polyline clip-path=\"url(#clip202)\" style=\"stroke:#000000; stroke-linecap:butt; stroke-linejoin:round; stroke-width:4; stroke-opacity:1; fill:none\" points=\"\n",
       "  1186.68,1384.24 1186.68,1384.24 1206.66,1384.24 1186.68,1384.24 \n",
       "  \"/>\n",
       "<path clip-path=\"url(#clip202)\" d=\"\n",
       "M1206.66 1384.24 L1206.66 1384.24 L1226.63 1384.24 L1226.63 1384.24 L1206.66 1384.24 L1206.66 1384.24  Z\n",
       "  \" fill=\"#009af9\" fill-rule=\"evenodd\" fill-opacity=\"1\"/>\n",
       "<polyline clip-path=\"url(#clip202)\" style=\"stroke:#000000; stroke-linecap:butt; stroke-linejoin:round; stroke-width:4; stroke-opacity:1; fill:none\" points=\"\n",
       "  1206.66,1384.24 1206.66,1384.24 1226.63,1384.24 1206.66,1384.24 \n",
       "  \"/>\n",
       "<path clip-path=\"url(#clip202)\" d=\"\n",
       "M1226.63 1059.73 L1226.63 1384.24 L1246.61 1384.24 L1246.61 1059.73 L1226.63 1059.73 L1226.63 1059.73  Z\n",
       "  \" fill=\"#009af9\" fill-rule=\"evenodd\" fill-opacity=\"1\"/>\n",
       "<polyline clip-path=\"url(#clip202)\" style=\"stroke:#000000; stroke-linecap:butt; stroke-linejoin:round; stroke-width:4; stroke-opacity:1; fill:none\" points=\"\n",
       "  1226.63,1059.73 1226.63,1384.24 1246.61,1384.24 1246.61,1059.73 1226.63,1059.73 \n",
       "  \"/>\n",
       "<path clip-path=\"url(#clip202)\" d=\"\n",
       "M1246.61 1384.24 L1246.61 1384.24 L1266.59 1384.24 L1266.59 1384.24 L1246.61 1384.24 L1246.61 1384.24  Z\n",
       "  \" fill=\"#009af9\" fill-rule=\"evenodd\" fill-opacity=\"1\"/>\n",
       "<polyline clip-path=\"url(#clip202)\" style=\"stroke:#000000; stroke-linecap:butt; stroke-linejoin:round; stroke-width:4; stroke-opacity:1; fill:none\" points=\"\n",
       "  1246.61,1384.24 1246.61,1384.24 1266.59,1384.24 1246.61,1384.24 \n",
       "  \"/>\n",
       "<path clip-path=\"url(#clip202)\" d=\"\n",
       "M1266.59 1276.07 L1266.59 1384.24 L1286.56 1384.24 L1286.56 1276.07 L1266.59 1276.07 L1266.59 1276.07  Z\n",
       "  \" fill=\"#009af9\" fill-rule=\"evenodd\" fill-opacity=\"1\"/>\n",
       "<polyline clip-path=\"url(#clip202)\" style=\"stroke:#000000; stroke-linecap:butt; stroke-linejoin:round; stroke-width:4; stroke-opacity:1; fill:none\" points=\"\n",
       "  1266.59,1276.07 1266.59,1384.24 1286.56,1384.24 1286.56,1276.07 1266.59,1276.07 \n",
       "  \"/>\n",
       "<path clip-path=\"url(#clip202)\" d=\"\n",
       "M1286.56 1384.24 L1286.56 1384.24 L1306.54 1384.24 L1306.54 1384.24 L1286.56 1384.24 L1286.56 1384.24  Z\n",
       "  \" fill=\"#009af9\" fill-rule=\"evenodd\" fill-opacity=\"1\"/>\n",
       "<polyline clip-path=\"url(#clip202)\" style=\"stroke:#000000; stroke-linecap:butt; stroke-linejoin:round; stroke-width:4; stroke-opacity:1; fill:none\" points=\"\n",
       "  1286.56,1384.24 1286.56,1384.24 1306.54,1384.24 1286.56,1384.24 \n",
       "  \"/>\n",
       "<path clip-path=\"url(#clip202)\" d=\"\n",
       "M1306.54 1276.07 L1306.54 1384.24 L1326.52 1384.24 L1326.52 1276.07 L1306.54 1276.07 L1306.54 1276.07  Z\n",
       "  \" fill=\"#009af9\" fill-rule=\"evenodd\" fill-opacity=\"1\"/>\n",
       "<polyline clip-path=\"url(#clip202)\" style=\"stroke:#000000; stroke-linecap:butt; stroke-linejoin:round; stroke-width:4; stroke-opacity:1; fill:none\" points=\"\n",
       "  1306.54,1276.07 1306.54,1384.24 1326.52,1384.24 1326.52,1276.07 1306.54,1276.07 \n",
       "  \"/>\n",
       "<path clip-path=\"url(#clip202)\" d=\"\n",
       "M1326.52 1384.24 L1326.52 1384.24 L1346.5 1384.24 L1346.5 1384.24 L1326.52 1384.24 L1326.52 1384.24  Z\n",
       "  \" fill=\"#009af9\" fill-rule=\"evenodd\" fill-opacity=\"1\"/>\n",
       "<polyline clip-path=\"url(#clip202)\" style=\"stroke:#000000; stroke-linecap:butt; stroke-linejoin:round; stroke-width:4; stroke-opacity:1; fill:none\" points=\"\n",
       "  1326.52,1384.24 1326.52,1384.24 1346.5,1384.24 1326.52,1384.24 \n",
       "  \"/>\n",
       "<path clip-path=\"url(#clip202)\" d=\"\n",
       "M1346.5 1384.24 L1346.5 1384.24 L1366.47 1384.24 L1366.47 1384.24 L1346.5 1384.24 L1346.5 1384.24  Z\n",
       "  \" fill=\"#009af9\" fill-rule=\"evenodd\" fill-opacity=\"1\"/>\n",
       "<polyline clip-path=\"url(#clip202)\" style=\"stroke:#000000; stroke-linecap:butt; stroke-linejoin:round; stroke-width:4; stroke-opacity:1; fill:none\" points=\"\n",
       "  1346.5,1384.24 1346.5,1384.24 1366.47,1384.24 1346.5,1384.24 \n",
       "  \"/>\n",
       "<path clip-path=\"url(#clip202)\" d=\"\n",
       "M1366.47 1384.24 L1366.47 1384.24 L1386.45 1384.24 L1386.45 1384.24 L1366.47 1384.24 L1366.47 1384.24  Z\n",
       "  \" fill=\"#009af9\" fill-rule=\"evenodd\" fill-opacity=\"1\"/>\n",
       "<polyline clip-path=\"url(#clip202)\" style=\"stroke:#000000; stroke-linecap:butt; stroke-linejoin:round; stroke-width:4; stroke-opacity:1; fill:none\" points=\"\n",
       "  1366.47,1384.24 1366.47,1384.24 1386.45,1384.24 1366.47,1384.24 \n",
       "  \"/>\n",
       "<path clip-path=\"url(#clip202)\" d=\"\n",
       "M1386.45 1384.24 L1386.45 1384.24 L1406.43 1384.24 L1406.43 1384.24 L1386.45 1384.24 L1386.45 1384.24  Z\n",
       "  \" fill=\"#009af9\" fill-rule=\"evenodd\" fill-opacity=\"1\"/>\n",
       "<polyline clip-path=\"url(#clip202)\" style=\"stroke:#000000; stroke-linecap:butt; stroke-linejoin:round; stroke-width:4; stroke-opacity:1; fill:none\" points=\"\n",
       "  1386.45,1384.24 1386.45,1384.24 1406.43,1384.24 1386.45,1384.24 \n",
       "  \"/>\n",
       "<path clip-path=\"url(#clip202)\" d=\"\n",
       "M1406.43 1384.24 L1406.43 1384.24 L1426.41 1384.24 L1426.41 1384.24 L1406.43 1384.24 L1406.43 1384.24  Z\n",
       "  \" fill=\"#009af9\" fill-rule=\"evenodd\" fill-opacity=\"1\"/>\n",
       "<polyline clip-path=\"url(#clip202)\" style=\"stroke:#000000; stroke-linecap:butt; stroke-linejoin:round; stroke-width:4; stroke-opacity:1; fill:none\" points=\"\n",
       "  1406.43,1384.24 1406.43,1384.24 1426.41,1384.24 1406.43,1384.24 \n",
       "  \"/>\n",
       "<path clip-path=\"url(#clip202)\" d=\"\n",
       "M1426.41 1276.07 L1426.41 1384.24 L1446.38 1384.24 L1446.38 1276.07 L1426.41 1276.07 L1426.41 1276.07  Z\n",
       "  \" fill=\"#009af9\" fill-rule=\"evenodd\" fill-opacity=\"1\"/>\n",
       "<polyline clip-path=\"url(#clip202)\" style=\"stroke:#000000; stroke-linecap:butt; stroke-linejoin:round; stroke-width:4; stroke-opacity:1; fill:none\" points=\"\n",
       "  1426.41,1276.07 1426.41,1384.24 1446.38,1384.24 1446.38,1276.07 1426.41,1276.07 \n",
       "  \"/>\n",
       "<path clip-path=\"url(#clip202)\" d=\"\n",
       "M1446.38 1276.07 L1446.38 1384.24 L1466.36 1384.24 L1466.36 1276.07 L1446.38 1276.07 L1446.38 1276.07  Z\n",
       "  \" fill=\"#009af9\" fill-rule=\"evenodd\" fill-opacity=\"1\"/>\n",
       "<polyline clip-path=\"url(#clip202)\" style=\"stroke:#000000; stroke-linecap:butt; stroke-linejoin:round; stroke-width:4; stroke-opacity:1; fill:none\" points=\"\n",
       "  1446.38,1276.07 1446.38,1384.24 1466.36,1384.24 1466.36,1276.07 1446.38,1276.07 \n",
       "  \"/>\n",
       "<path clip-path=\"url(#clip202)\" d=\"\n",
       "M1466.36 1384.24 L1466.36 1384.24 L1486.34 1384.24 L1486.34 1384.24 L1466.36 1384.24 L1466.36 1384.24  Z\n",
       "  \" fill=\"#009af9\" fill-rule=\"evenodd\" fill-opacity=\"1\"/>\n",
       "<polyline clip-path=\"url(#clip202)\" style=\"stroke:#000000; stroke-linecap:butt; stroke-linejoin:round; stroke-width:4; stroke-opacity:1; fill:none\" points=\"\n",
       "  1466.36,1384.24 1466.36,1384.24 1486.34,1384.24 1466.36,1384.24 \n",
       "  \"/>\n",
       "<path clip-path=\"url(#clip202)\" d=\"\n",
       "M1486.34 1384.24 L1486.34 1384.24 L1506.31 1384.24 L1506.31 1384.24 L1486.34 1384.24 L1486.34 1384.24  Z\n",
       "  \" fill=\"#009af9\" fill-rule=\"evenodd\" fill-opacity=\"1\"/>\n",
       "<polyline clip-path=\"url(#clip202)\" style=\"stroke:#000000; stroke-linecap:butt; stroke-linejoin:round; stroke-width:4; stroke-opacity:1; fill:none\" points=\"\n",
       "  1486.34,1384.24 1486.34,1384.24 1506.31,1384.24 1486.34,1384.24 \n",
       "  \"/>\n",
       "<path clip-path=\"url(#clip202)\" d=\"\n",
       "M1506.31 1384.24 L1506.31 1384.24 L1526.29 1384.24 L1526.29 1384.24 L1506.31 1384.24 L1506.31 1384.24  Z\n",
       "  \" fill=\"#009af9\" fill-rule=\"evenodd\" fill-opacity=\"1\"/>\n",
       "<polyline clip-path=\"url(#clip202)\" style=\"stroke:#000000; stroke-linecap:butt; stroke-linejoin:round; stroke-width:4; stroke-opacity:1; fill:none\" points=\"\n",
       "  1506.31,1384.24 1506.31,1384.24 1526.29,1384.24 1506.31,1384.24 \n",
       "  \"/>\n",
       "<path clip-path=\"url(#clip202)\" d=\"\n",
       "M1526.29 1384.24 L1526.29 1384.24 L1546.27 1384.24 L1546.27 1384.24 L1526.29 1384.24 L1526.29 1384.24  Z\n",
       "  \" fill=\"#009af9\" fill-rule=\"evenodd\" fill-opacity=\"1\"/>\n",
       "<polyline clip-path=\"url(#clip202)\" style=\"stroke:#000000; stroke-linecap:butt; stroke-linejoin:round; stroke-width:4; stroke-opacity:1; fill:none\" points=\"\n",
       "  1526.29,1384.24 1526.29,1384.24 1546.27,1384.24 1526.29,1384.24 \n",
       "  \"/>\n",
       "<path clip-path=\"url(#clip202)\" d=\"\n",
       "M1546.27 1384.24 L1546.27 1384.24 L1566.25 1384.24 L1566.25 1384.24 L1546.27 1384.24 L1546.27 1384.24  Z\n",
       "  \" fill=\"#009af9\" fill-rule=\"evenodd\" fill-opacity=\"1\"/>\n",
       "<polyline clip-path=\"url(#clip202)\" style=\"stroke:#000000; stroke-linecap:butt; stroke-linejoin:round; stroke-width:4; stroke-opacity:1; fill:none\" points=\"\n",
       "  1546.27,1384.24 1546.27,1384.24 1566.25,1384.24 1546.27,1384.24 \n",
       "  \"/>\n",
       "<path clip-path=\"url(#clip202)\" d=\"\n",
       "M1566.25 1276.07 L1566.25 1384.24 L1586.22 1384.24 L1586.22 1276.07 L1566.25 1276.07 L1566.25 1276.07  Z\n",
       "  \" fill=\"#009af9\" fill-rule=\"evenodd\" fill-opacity=\"1\"/>\n",
       "<polyline clip-path=\"url(#clip202)\" style=\"stroke:#000000; stroke-linecap:butt; stroke-linejoin:round; stroke-width:4; stroke-opacity:1; fill:none\" points=\"\n",
       "  1566.25,1276.07 1566.25,1384.24 1586.22,1384.24 1586.22,1276.07 1566.25,1276.07 \n",
       "  \"/>\n",
       "<path clip-path=\"url(#clip202)\" d=\"\n",
       "M1586.22 1384.24 L1586.22 1384.24 L1606.2 1384.24 L1606.2 1384.24 L1586.22 1384.24 L1586.22 1384.24  Z\n",
       "  \" fill=\"#009af9\" fill-rule=\"evenodd\" fill-opacity=\"1\"/>\n",
       "<polyline clip-path=\"url(#clip202)\" style=\"stroke:#000000; stroke-linecap:butt; stroke-linejoin:round; stroke-width:4; stroke-opacity:1; fill:none\" points=\"\n",
       "  1586.22,1384.24 1586.22,1384.24 1606.2,1384.24 1586.22,1384.24 \n",
       "  \"/>\n",
       "<path clip-path=\"url(#clip202)\" d=\"\n",
       "M1606.2 1384.24 L1606.2 1384.24 L1626.18 1384.24 L1626.18 1384.24 L1606.2 1384.24 L1606.2 1384.24  Z\n",
       "  \" fill=\"#009af9\" fill-rule=\"evenodd\" fill-opacity=\"1\"/>\n",
       "<polyline clip-path=\"url(#clip202)\" style=\"stroke:#000000; stroke-linecap:butt; stroke-linejoin:round; stroke-width:4; stroke-opacity:1; fill:none\" points=\"\n",
       "  1606.2,1384.24 1606.2,1384.24 1626.18,1384.24 1606.2,1384.24 \n",
       "  \"/>\n",
       "<path clip-path=\"url(#clip202)\" d=\"\n",
       "M1626.18 1384.24 L1626.18 1384.24 L1646.15 1384.24 L1646.15 1384.24 L1626.18 1384.24 L1626.18 1384.24  Z\n",
       "  \" fill=\"#009af9\" fill-rule=\"evenodd\" fill-opacity=\"1\"/>\n",
       "<polyline clip-path=\"url(#clip202)\" style=\"stroke:#000000; stroke-linecap:butt; stroke-linejoin:round; stroke-width:4; stroke-opacity:1; fill:none\" points=\"\n",
       "  1626.18,1384.24 1626.18,1384.24 1646.15,1384.24 1626.18,1384.24 \n",
       "  \"/>\n",
       "<path clip-path=\"url(#clip202)\" d=\"\n",
       "M1646.15 1384.24 L1646.15 1384.24 L1666.13 1384.24 L1666.13 1384.24 L1646.15 1384.24 L1646.15 1384.24  Z\n",
       "  \" fill=\"#009af9\" fill-rule=\"evenodd\" fill-opacity=\"1\"/>\n",
       "<polyline clip-path=\"url(#clip202)\" style=\"stroke:#000000; stroke-linecap:butt; stroke-linejoin:round; stroke-width:4; stroke-opacity:1; fill:none\" points=\"\n",
       "  1646.15,1384.24 1646.15,1384.24 1666.13,1384.24 1646.15,1384.24 \n",
       "  \"/>\n",
       "<path clip-path=\"url(#clip202)\" d=\"\n",
       "M1666.13 1384.24 L1666.13 1384.24 L1686.11 1384.24 L1686.11 1384.24 L1666.13 1384.24 L1666.13 1384.24  Z\n",
       "  \" fill=\"#009af9\" fill-rule=\"evenodd\" fill-opacity=\"1\"/>\n",
       "<polyline clip-path=\"url(#clip202)\" style=\"stroke:#000000; stroke-linecap:butt; stroke-linejoin:round; stroke-width:4; stroke-opacity:1; fill:none\" points=\"\n",
       "  1666.13,1384.24 1666.13,1384.24 1686.11,1384.24 1666.13,1384.24 \n",
       "  \"/>\n",
       "<path clip-path=\"url(#clip202)\" d=\"\n",
       "M1686.11 1384.24 L1686.11 1384.24 L1706.09 1384.24 L1706.09 1384.24 L1686.11 1384.24 L1686.11 1384.24  Z\n",
       "  \" fill=\"#009af9\" fill-rule=\"evenodd\" fill-opacity=\"1\"/>\n",
       "<polyline clip-path=\"url(#clip202)\" style=\"stroke:#000000; stroke-linecap:butt; stroke-linejoin:round; stroke-width:4; stroke-opacity:1; fill:none\" points=\"\n",
       "  1686.11,1384.24 1686.11,1384.24 1706.09,1384.24 1686.11,1384.24 \n",
       "  \"/>\n",
       "<path clip-path=\"url(#clip202)\" d=\"\n",
       "M1706.09 1384.24 L1706.09 1384.24 L1726.06 1384.24 L1726.06 1384.24 L1706.09 1384.24 L1706.09 1384.24  Z\n",
       "  \" fill=\"#009af9\" fill-rule=\"evenodd\" fill-opacity=\"1\"/>\n",
       "<polyline clip-path=\"url(#clip202)\" style=\"stroke:#000000; stroke-linecap:butt; stroke-linejoin:round; stroke-width:4; stroke-opacity:1; fill:none\" points=\"\n",
       "  1706.09,1384.24 1706.09,1384.24 1726.06,1384.24 1706.09,1384.24 \n",
       "  \"/>\n",
       "<path clip-path=\"url(#clip202)\" d=\"\n",
       "M1726.06 1384.24 L1726.06 1384.24 L1746.04 1384.24 L1746.04 1384.24 L1726.06 1384.24 L1726.06 1384.24  Z\n",
       "  \" fill=\"#009af9\" fill-rule=\"evenodd\" fill-opacity=\"1\"/>\n",
       "<polyline clip-path=\"url(#clip202)\" style=\"stroke:#000000; stroke-linecap:butt; stroke-linejoin:round; stroke-width:4; stroke-opacity:1; fill:none\" points=\"\n",
       "  1726.06,1384.24 1726.06,1384.24 1746.04,1384.24 1726.06,1384.24 \n",
       "  \"/>\n",
       "<path clip-path=\"url(#clip202)\" d=\"\n",
       "M1746.04 1384.24 L1746.04 1384.24 L1766.02 1384.24 L1766.02 1384.24 L1746.04 1384.24 L1746.04 1384.24  Z\n",
       "  \" fill=\"#009af9\" fill-rule=\"evenodd\" fill-opacity=\"1\"/>\n",
       "<polyline clip-path=\"url(#clip202)\" style=\"stroke:#000000; stroke-linecap:butt; stroke-linejoin:round; stroke-width:4; stroke-opacity:1; fill:none\" points=\"\n",
       "  1746.04,1384.24 1746.04,1384.24 1766.02,1384.24 1746.04,1384.24 \n",
       "  \"/>\n",
       "<path clip-path=\"url(#clip202)\" d=\"\n",
       "M1766.02 1384.24 L1766.02 1384.24 L1785.99 1384.24 L1785.99 1384.24 L1766.02 1384.24 L1766.02 1384.24  Z\n",
       "  \" fill=\"#009af9\" fill-rule=\"evenodd\" fill-opacity=\"1\"/>\n",
       "<polyline clip-path=\"url(#clip202)\" style=\"stroke:#000000; stroke-linecap:butt; stroke-linejoin:round; stroke-width:4; stroke-opacity:1; fill:none\" points=\"\n",
       "  1766.02,1384.24 1766.02,1384.24 1785.99,1384.24 1766.02,1384.24 \n",
       "  \"/>\n",
       "<path clip-path=\"url(#clip202)\" d=\"\n",
       "M1785.99 1276.07 L1785.99 1384.24 L1805.97 1384.24 L1805.97 1276.07 L1785.99 1276.07 L1785.99 1276.07  Z\n",
       "  \" fill=\"#009af9\" fill-rule=\"evenodd\" fill-opacity=\"1\"/>\n",
       "<polyline clip-path=\"url(#clip202)\" style=\"stroke:#000000; stroke-linecap:butt; stroke-linejoin:round; stroke-width:4; stroke-opacity:1; fill:none\" points=\"\n",
       "  1785.99,1276.07 1785.99,1384.24 1805.97,1384.24 1805.97,1276.07 1785.99,1276.07 \n",
       "  \"/>\n",
       "<path clip-path=\"url(#clip202)\" d=\"\n",
       "M1805.97 1384.24 L1805.97 1384.24 L1825.95 1384.24 L1825.95 1384.24 L1805.97 1384.24 L1805.97 1384.24  Z\n",
       "  \" fill=\"#009af9\" fill-rule=\"evenodd\" fill-opacity=\"1\"/>\n",
       "<polyline clip-path=\"url(#clip202)\" style=\"stroke:#000000; stroke-linecap:butt; stroke-linejoin:round; stroke-width:4; stroke-opacity:1; fill:none\" points=\"\n",
       "  1805.97,1384.24 1805.97,1384.24 1825.95,1384.24 1805.97,1384.24 \n",
       "  \"/>\n",
       "<path clip-path=\"url(#clip202)\" d=\"\n",
       "M1825.95 1384.24 L1825.95 1384.24 L1845.93 1384.24 L1845.93 1384.24 L1825.95 1384.24 L1825.95 1384.24  Z\n",
       "  \" fill=\"#009af9\" fill-rule=\"evenodd\" fill-opacity=\"1\"/>\n",
       "<polyline clip-path=\"url(#clip202)\" style=\"stroke:#000000; stroke-linecap:butt; stroke-linejoin:round; stroke-width:4; stroke-opacity:1; fill:none\" points=\"\n",
       "  1825.95,1384.24 1825.95,1384.24 1845.93,1384.24 1825.95,1384.24 \n",
       "  \"/>\n",
       "<path clip-path=\"url(#clip202)\" d=\"\n",
       "M1845.93 1276.07 L1845.93 1384.24 L1865.9 1384.24 L1865.9 1276.07 L1845.93 1276.07 L1845.93 1276.07  Z\n",
       "  \" fill=\"#009af9\" fill-rule=\"evenodd\" fill-opacity=\"1\"/>\n",
       "<polyline clip-path=\"url(#clip202)\" style=\"stroke:#000000; stroke-linecap:butt; stroke-linejoin:round; stroke-width:4; stroke-opacity:1; fill:none\" points=\"\n",
       "  1845.93,1276.07 1845.93,1384.24 1865.9,1384.24 1865.9,1276.07 1845.93,1276.07 \n",
       "  \"/>\n",
       "<path clip-path=\"url(#clip202)\" d=\"\n",
       "M1865.9 1384.24 L1865.9 1384.24 L1885.88 1384.24 L1885.88 1384.24 L1865.9 1384.24 L1865.9 1384.24  Z\n",
       "  \" fill=\"#009af9\" fill-rule=\"evenodd\" fill-opacity=\"1\"/>\n",
       "<polyline clip-path=\"url(#clip202)\" style=\"stroke:#000000; stroke-linecap:butt; stroke-linejoin:round; stroke-width:4; stroke-opacity:1; fill:none\" points=\"\n",
       "  1865.9,1384.24 1865.9,1384.24 1885.88,1384.24 1865.9,1384.24 \n",
       "  \"/>\n",
       "<path clip-path=\"url(#clip202)\" d=\"\n",
       "M1885.88 1384.24 L1885.88 1384.24 L1905.86 1384.24 L1905.86 1384.24 L1885.88 1384.24 L1885.88 1384.24  Z\n",
       "  \" fill=\"#009af9\" fill-rule=\"evenodd\" fill-opacity=\"1\"/>\n",
       "<polyline clip-path=\"url(#clip202)\" style=\"stroke:#000000; stroke-linecap:butt; stroke-linejoin:round; stroke-width:4; stroke-opacity:1; fill:none\" points=\"\n",
       "  1885.88,1384.24 1885.88,1384.24 1905.86,1384.24 1885.88,1384.24 \n",
       "  \"/>\n",
       "<path clip-path=\"url(#clip202)\" d=\"\n",
       "M1905.86 1384.24 L1905.86 1384.24 L1925.84 1384.24 L1925.84 1384.24 L1905.86 1384.24 L1905.86 1384.24  Z\n",
       "  \" fill=\"#009af9\" fill-rule=\"evenodd\" fill-opacity=\"1\"/>\n",
       "<polyline clip-path=\"url(#clip202)\" style=\"stroke:#000000; stroke-linecap:butt; stroke-linejoin:round; stroke-width:4; stroke-opacity:1; fill:none\" points=\"\n",
       "  1905.86,1384.24 1905.86,1384.24 1925.84,1384.24 1905.86,1384.24 \n",
       "  \"/>\n",
       "<path clip-path=\"url(#clip202)\" d=\"\n",
       "M1925.84 1384.24 L1925.84 1384.24 L1945.81 1384.24 L1945.81 1384.24 L1925.84 1384.24 L1925.84 1384.24  Z\n",
       "  \" fill=\"#009af9\" fill-rule=\"evenodd\" fill-opacity=\"1\"/>\n",
       "<polyline clip-path=\"url(#clip202)\" style=\"stroke:#000000; stroke-linecap:butt; stroke-linejoin:round; stroke-width:4; stroke-opacity:1; fill:none\" points=\"\n",
       "  1925.84,1384.24 1925.84,1384.24 1945.81,1384.24 1925.84,1384.24 \n",
       "  \"/>\n",
       "<path clip-path=\"url(#clip202)\" d=\"\n",
       "M1945.81 1276.07 L1945.81 1384.24 L1965.79 1384.24 L1965.79 1276.07 L1945.81 1276.07 L1945.81 1276.07  Z\n",
       "  \" fill=\"#009af9\" fill-rule=\"evenodd\" fill-opacity=\"1\"/>\n",
       "<polyline clip-path=\"url(#clip202)\" style=\"stroke:#000000; stroke-linecap:butt; stroke-linejoin:round; stroke-width:4; stroke-opacity:1; fill:none\" points=\"\n",
       "  1945.81,1276.07 1945.81,1384.24 1965.79,1384.24 1965.79,1276.07 1945.81,1276.07 \n",
       "  \"/>\n",
       "<path clip-path=\"url(#clip202)\" d=\"\n",
       "M1965.79 1384.24 L1965.79 1384.24 L1985.77 1384.24 L1985.77 1384.24 L1965.79 1384.24 L1965.79 1384.24  Z\n",
       "  \" fill=\"#009af9\" fill-rule=\"evenodd\" fill-opacity=\"1\"/>\n",
       "<polyline clip-path=\"url(#clip202)\" style=\"stroke:#000000; stroke-linecap:butt; stroke-linejoin:round; stroke-width:4; stroke-opacity:1; fill:none\" points=\"\n",
       "  1965.79,1384.24 1965.79,1384.24 1985.77,1384.24 1965.79,1384.24 \n",
       "  \"/>\n",
       "<path clip-path=\"url(#clip202)\" d=\"\n",
       "M1985.77 1384.24 L1985.77 1384.24 L2005.74 1384.24 L2005.74 1384.24 L1985.77 1384.24 L1985.77 1384.24  Z\n",
       "  \" fill=\"#009af9\" fill-rule=\"evenodd\" fill-opacity=\"1\"/>\n",
       "<polyline clip-path=\"url(#clip202)\" style=\"stroke:#000000; stroke-linecap:butt; stroke-linejoin:round; stroke-width:4; stroke-opacity:1; fill:none\" points=\"\n",
       "  1985.77,1384.24 1985.77,1384.24 2005.74,1384.24 1985.77,1384.24 \n",
       "  \"/>\n",
       "<path clip-path=\"url(#clip202)\" d=\"\n",
       "M2005.74 1384.24 L2005.74 1384.24 L2025.72 1384.24 L2025.72 1384.24 L2005.74 1384.24 L2005.74 1384.24  Z\n",
       "  \" fill=\"#009af9\" fill-rule=\"evenodd\" fill-opacity=\"1\"/>\n",
       "<polyline clip-path=\"url(#clip202)\" style=\"stroke:#000000; stroke-linecap:butt; stroke-linejoin:round; stroke-width:4; stroke-opacity:1; fill:none\" points=\"\n",
       "  2005.74,1384.24 2005.74,1384.24 2025.72,1384.24 2005.74,1384.24 \n",
       "  \"/>\n",
       "<path clip-path=\"url(#clip202)\" d=\"\n",
       "M2025.72 1384.24 L2025.72 1384.24 L2045.7 1384.24 L2045.7 1384.24 L2025.72 1384.24 L2025.72 1384.24  Z\n",
       "  \" fill=\"#009af9\" fill-rule=\"evenodd\" fill-opacity=\"1\"/>\n",
       "<polyline clip-path=\"url(#clip202)\" style=\"stroke:#000000; stroke-linecap:butt; stroke-linejoin:round; stroke-width:4; stroke-opacity:1; fill:none\" points=\"\n",
       "  2025.72,1384.24 2025.72,1384.24 2045.7,1384.24 2025.72,1384.24 \n",
       "  \"/>\n",
       "<path clip-path=\"url(#clip202)\" d=\"\n",
       "M2045.7 1384.24 L2045.7 1384.24 L2065.68 1384.24 L2065.68 1384.24 L2045.7 1384.24 L2045.7 1384.24  Z\n",
       "  \" fill=\"#009af9\" fill-rule=\"evenodd\" fill-opacity=\"1\"/>\n",
       "<polyline clip-path=\"url(#clip202)\" style=\"stroke:#000000; stroke-linecap:butt; stroke-linejoin:round; stroke-width:4; stroke-opacity:1; fill:none\" points=\"\n",
       "  2045.7,1384.24 2045.7,1384.24 2065.68,1384.24 2045.7,1384.24 \n",
       "  \"/>\n",
       "<path clip-path=\"url(#clip202)\" d=\"\n",
       "M2065.68 1384.24 L2065.68 1384.24 L2085.65 1384.24 L2085.65 1384.24 L2065.68 1384.24 L2065.68 1384.24  Z\n",
       "  \" fill=\"#009af9\" fill-rule=\"evenodd\" fill-opacity=\"1\"/>\n",
       "<polyline clip-path=\"url(#clip202)\" style=\"stroke:#000000; stroke-linecap:butt; stroke-linejoin:round; stroke-width:4; stroke-opacity:1; fill:none\" points=\"\n",
       "  2065.68,1384.24 2065.68,1384.24 2085.65,1384.24 2065.68,1384.24 \n",
       "  \"/>\n",
       "<path clip-path=\"url(#clip202)\" d=\"\n",
       "M2085.65 1384.24 L2085.65 1384.24 L2105.63 1384.24 L2105.63 1384.24 L2085.65 1384.24 L2085.65 1384.24  Z\n",
       "  \" fill=\"#009af9\" fill-rule=\"evenodd\" fill-opacity=\"1\"/>\n",
       "<polyline clip-path=\"url(#clip202)\" style=\"stroke:#000000; stroke-linecap:butt; stroke-linejoin:round; stroke-width:4; stroke-opacity:1; fill:none\" points=\"\n",
       "  2085.65,1384.24 2085.65,1384.24 2105.63,1384.24 2085.65,1384.24 \n",
       "  \"/>\n",
       "<path clip-path=\"url(#clip202)\" d=\"\n",
       "M2105.63 1384.24 L2105.63 1384.24 L2125.61 1384.24 L2125.61 1384.24 L2105.63 1384.24 L2105.63 1384.24  Z\n",
       "  \" fill=\"#009af9\" fill-rule=\"evenodd\" fill-opacity=\"1\"/>\n",
       "<polyline clip-path=\"url(#clip202)\" style=\"stroke:#000000; stroke-linecap:butt; stroke-linejoin:round; stroke-width:4; stroke-opacity:1; fill:none\" points=\"\n",
       "  2105.63,1384.24 2105.63,1384.24 2125.61,1384.24 2105.63,1384.24 \n",
       "  \"/>\n",
       "<path clip-path=\"url(#clip202)\" d=\"\n",
       "M2125.61 1384.24 L2125.61 1384.24 L2145.58 1384.24 L2145.58 1384.24 L2125.61 1384.24 L2125.61 1384.24  Z\n",
       "  \" fill=\"#009af9\" fill-rule=\"evenodd\" fill-opacity=\"1\"/>\n",
       "<polyline clip-path=\"url(#clip202)\" style=\"stroke:#000000; stroke-linecap:butt; stroke-linejoin:round; stroke-width:4; stroke-opacity:1; fill:none\" points=\"\n",
       "  2125.61,1384.24 2125.61,1384.24 2145.58,1384.24 2125.61,1384.24 \n",
       "  \"/>\n",
       "<path clip-path=\"url(#clip202)\" d=\"\n",
       "M2145.58 1384.24 L2145.58 1384.24 L2165.56 1384.24 L2165.56 1384.24 L2145.58 1384.24 L2145.58 1384.24  Z\n",
       "  \" fill=\"#009af9\" fill-rule=\"evenodd\" fill-opacity=\"1\"/>\n",
       "<polyline clip-path=\"url(#clip202)\" style=\"stroke:#000000; stroke-linecap:butt; stroke-linejoin:round; stroke-width:4; stroke-opacity:1; fill:none\" points=\"\n",
       "  2145.58,1384.24 2145.58,1384.24 2165.56,1384.24 2145.58,1384.24 \n",
       "  \"/>\n",
       "<path clip-path=\"url(#clip202)\" d=\"\n",
       "M2165.56 1384.24 L2165.56 1384.24 L2185.54 1384.24 L2185.54 1384.24 L2165.56 1384.24 L2165.56 1384.24  Z\n",
       "  \" fill=\"#009af9\" fill-rule=\"evenodd\" fill-opacity=\"1\"/>\n",
       "<polyline clip-path=\"url(#clip202)\" style=\"stroke:#000000; stroke-linecap:butt; stroke-linejoin:round; stroke-width:4; stroke-opacity:1; fill:none\" points=\"\n",
       "  2165.56,1384.24 2165.56,1384.24 2185.54,1384.24 2165.56,1384.24 \n",
       "  \"/>\n",
       "<path clip-path=\"url(#clip202)\" d=\"\n",
       "M2185.54 1384.24 L2185.54 1384.24 L2205.52 1384.24 L2205.52 1384.24 L2185.54 1384.24 L2185.54 1384.24  Z\n",
       "  \" fill=\"#009af9\" fill-rule=\"evenodd\" fill-opacity=\"1\"/>\n",
       "<polyline clip-path=\"url(#clip202)\" style=\"stroke:#000000; stroke-linecap:butt; stroke-linejoin:round; stroke-width:4; stroke-opacity:1; fill:none\" points=\"\n",
       "  2185.54,1384.24 2185.54,1384.24 2205.52,1384.24 2185.54,1384.24 \n",
       "  \"/>\n",
       "<path clip-path=\"url(#clip202)\" d=\"\n",
       "M2205.52 1384.24 L2205.52 1384.24 L2225.49 1384.24 L2225.49 1384.24 L2205.52 1384.24 L2205.52 1384.24  Z\n",
       "  \" fill=\"#009af9\" fill-rule=\"evenodd\" fill-opacity=\"1\"/>\n",
       "<polyline clip-path=\"url(#clip202)\" style=\"stroke:#000000; stroke-linecap:butt; stroke-linejoin:round; stroke-width:4; stroke-opacity:1; fill:none\" points=\"\n",
       "  2205.52,1384.24 2205.52,1384.24 2225.49,1384.24 2205.52,1384.24 \n",
       "  \"/>\n",
       "<path clip-path=\"url(#clip202)\" d=\"\n",
       "M2225.49 1276.07 L2225.49 1384.24 L2245.47 1384.24 L2245.47 1276.07 L2225.49 1276.07 L2225.49 1276.07  Z\n",
       "  \" fill=\"#009af9\" fill-rule=\"evenodd\" fill-opacity=\"1\"/>\n",
       "<polyline clip-path=\"url(#clip202)\" style=\"stroke:#000000; stroke-linecap:butt; stroke-linejoin:round; stroke-width:4; stroke-opacity:1; fill:none\" points=\"\n",
       "  2225.49,1276.07 2225.49,1384.24 2245.47,1384.24 2245.47,1276.07 2225.49,1276.07 \n",
       "  \"/>\n",
       "<path clip-path=\"url(#clip202)\" d=\"\n",
       "M2245.47 1384.24 L2245.47 1384.24 L2265.45 1384.24 L2265.45 1384.24 L2245.47 1384.24 L2245.47 1384.24  Z\n",
       "  \" fill=\"#009af9\" fill-rule=\"evenodd\" fill-opacity=\"1\"/>\n",
       "<polyline clip-path=\"url(#clip202)\" style=\"stroke:#000000; stroke-linecap:butt; stroke-linejoin:round; stroke-width:4; stroke-opacity:1; fill:none\" points=\"\n",
       "  2245.47,1384.24 2245.47,1384.24 2265.45,1384.24 2245.47,1384.24 \n",
       "  \"/>\n",
       "<path clip-path=\"url(#clip202)\" d=\"\n",
       "M2265.45 1384.24 L2265.45 1384.24 L2285.43 1384.24 L2285.43 1384.24 L2265.45 1384.24 L2265.45 1384.24  Z\n",
       "  \" fill=\"#009af9\" fill-rule=\"evenodd\" fill-opacity=\"1\"/>\n",
       "<polyline clip-path=\"url(#clip202)\" style=\"stroke:#000000; stroke-linecap:butt; stroke-linejoin:round; stroke-width:4; stroke-opacity:1; fill:none\" points=\"\n",
       "  2265.45,1384.24 2265.45,1384.24 2285.43,1384.24 2265.45,1384.24 \n",
       "  \"/>\n",
       "<path clip-path=\"url(#clip202)\" d=\"\n",
       "M2285.43 1384.24 L2285.43 1384.24 L2305.4 1384.24 L2305.4 1384.24 L2285.43 1384.24 L2285.43 1384.24  Z\n",
       "  \" fill=\"#009af9\" fill-rule=\"evenodd\" fill-opacity=\"1\"/>\n",
       "<polyline clip-path=\"url(#clip202)\" style=\"stroke:#000000; stroke-linecap:butt; stroke-linejoin:round; stroke-width:4; stroke-opacity:1; fill:none\" points=\"\n",
       "  2285.43,1384.24 2285.43,1384.24 2305.4,1384.24 2285.43,1384.24 \n",
       "  \"/>\n",
       "<path clip-path=\"url(#clip202)\" d=\"\n",
       "M2305.4 1384.24 L2305.4 1384.24 L2325.38 1384.24 L2325.38 1384.24 L2305.4 1384.24 L2305.4 1384.24  Z\n",
       "  \" fill=\"#009af9\" fill-rule=\"evenodd\" fill-opacity=\"1\"/>\n",
       "<polyline clip-path=\"url(#clip202)\" style=\"stroke:#000000; stroke-linecap:butt; stroke-linejoin:round; stroke-width:4; stroke-opacity:1; fill:none\" points=\"\n",
       "  2305.4,1384.24 2305.4,1384.24 2325.38,1384.24 2305.4,1384.24 \n",
       "  \"/>\n",
       "<path clip-path=\"url(#clip202)\" d=\"\n",
       "M2325.38 1384.24 L2325.38 1384.24 L2345.36 1384.24 L2345.36 1384.24 L2325.38 1384.24 L2325.38 1384.24  Z\n",
       "  \" fill=\"#009af9\" fill-rule=\"evenodd\" fill-opacity=\"1\"/>\n",
       "<polyline clip-path=\"url(#clip202)\" style=\"stroke:#000000; stroke-linecap:butt; stroke-linejoin:round; stroke-width:4; stroke-opacity:1; fill:none\" points=\"\n",
       "  2325.38,1384.24 2325.38,1384.24 2345.36,1384.24 2325.38,1384.24 \n",
       "  \"/>\n",
       "<path clip-path=\"url(#clip202)\" d=\"\n",
       "M2345.36 1276.07 L2345.36 1384.24 L2365.33 1384.24 L2365.33 1276.07 L2345.36 1276.07 L2345.36 1276.07  Z\n",
       "  \" fill=\"#009af9\" fill-rule=\"evenodd\" fill-opacity=\"1\"/>\n",
       "<polyline clip-path=\"url(#clip202)\" style=\"stroke:#000000; stroke-linecap:butt; stroke-linejoin:round; stroke-width:4; stroke-opacity:1; fill:none\" points=\"\n",
       "  2345.36,1276.07 2345.36,1384.24 2365.33,1384.24 2365.33,1276.07 2345.36,1276.07 \n",
       "  \"/>\n",
       "<path clip-path=\"url(#clip202)\" d=\"\n",
       "M2365.33 1384.24 L2365.33 1384.24 L2385.31 1384.24 L2385.31 1384.24 L2365.33 1384.24 L2365.33 1384.24  Z\n",
       "  \" fill=\"#009af9\" fill-rule=\"evenodd\" fill-opacity=\"1\"/>\n",
       "<polyline clip-path=\"url(#clip202)\" style=\"stroke:#000000; stroke-linecap:butt; stroke-linejoin:round; stroke-width:4; stroke-opacity:1; fill:none\" points=\"\n",
       "  2365.33,1384.24 2365.33,1384.24 2385.31,1384.24 2365.33,1384.24 \n",
       "  \"/>\n",
       "<path clip-path=\"url(#clip202)\" d=\"\n",
       "M2385.31 1384.24 L2385.31 1384.24 L2405.29 1384.24 L2405.29 1384.24 L2385.31 1384.24 L2385.31 1384.24  Z\n",
       "  \" fill=\"#009af9\" fill-rule=\"evenodd\" fill-opacity=\"1\"/>\n",
       "<polyline clip-path=\"url(#clip202)\" style=\"stroke:#000000; stroke-linecap:butt; stroke-linejoin:round; stroke-width:4; stroke-opacity:1; fill:none\" points=\"\n",
       "  2385.31,1384.24 2385.31,1384.24 2405.29,1384.24 2385.31,1384.24 \n",
       "  \"/>\n",
       "<path clip-path=\"url(#clip202)\" d=\"\n",
       "M2405.29 1384.24 L2405.29 1384.24 L2425.27 1384.24 L2425.27 1384.24 L2405.29 1384.24 L2405.29 1384.24  Z\n",
       "  \" fill=\"#009af9\" fill-rule=\"evenodd\" fill-opacity=\"1\"/>\n",
       "<polyline clip-path=\"url(#clip202)\" style=\"stroke:#000000; stroke-linecap:butt; stroke-linejoin:round; stroke-width:4; stroke-opacity:1; fill:none\" points=\"\n",
       "  2405.29,1384.24 2405.29,1384.24 2425.27,1384.24 2405.29,1384.24 \n",
       "  \"/>\n",
       "<path clip-path=\"url(#clip202)\" d=\"\n",
       "M2425.27 1384.24 L2425.27 1384.24 L2445.24 1384.24 L2445.24 1384.24 L2425.27 1384.24 L2425.27 1384.24  Z\n",
       "  \" fill=\"#009af9\" fill-rule=\"evenodd\" fill-opacity=\"1\"/>\n",
       "<polyline clip-path=\"url(#clip202)\" style=\"stroke:#000000; stroke-linecap:butt; stroke-linejoin:round; stroke-width:4; stroke-opacity:1; fill:none\" points=\"\n",
       "  2425.27,1384.24 2425.27,1384.24 2445.24,1384.24 2425.27,1384.24 \n",
       "  \"/>\n",
       "<path clip-path=\"url(#clip202)\" d=\"\n",
       "M2445.24 1384.24 L2445.24 1384.24 L2465.22 1384.24 L2465.22 1384.24 L2445.24 1384.24 L2445.24 1384.24  Z\n",
       "  \" fill=\"#009af9\" fill-rule=\"evenodd\" fill-opacity=\"1\"/>\n",
       "<polyline clip-path=\"url(#clip202)\" style=\"stroke:#000000; stroke-linecap:butt; stroke-linejoin:round; stroke-width:4; stroke-opacity:1; fill:none\" points=\"\n",
       "  2445.24,1384.24 2445.24,1384.24 2465.22,1384.24 2445.24,1384.24 \n",
       "  \"/>\n",
       "<path clip-path=\"url(#clip202)\" d=\"\n",
       "M2465.22 1384.24 L2465.22 1384.24 L2485.2 1384.24 L2485.2 1384.24 L2465.22 1384.24 L2465.22 1384.24  Z\n",
       "  \" fill=\"#009af9\" fill-rule=\"evenodd\" fill-opacity=\"1\"/>\n",
       "<polyline clip-path=\"url(#clip202)\" style=\"stroke:#000000; stroke-linecap:butt; stroke-linejoin:round; stroke-width:4; stroke-opacity:1; fill:none\" points=\"\n",
       "  2465.22,1384.24 2465.22,1384.24 2485.2,1384.24 2465.22,1384.24 \n",
       "  \"/>\n",
       "<path clip-path=\"url(#clip202)\" d=\"\n",
       "M2485.2 1384.24 L2485.2 1384.24 L2505.17 1384.24 L2505.17 1384.24 L2485.2 1384.24 L2485.2 1384.24  Z\n",
       "  \" fill=\"#009af9\" fill-rule=\"evenodd\" fill-opacity=\"1\"/>\n",
       "<polyline clip-path=\"url(#clip202)\" style=\"stroke:#000000; stroke-linecap:butt; stroke-linejoin:round; stroke-width:4; stroke-opacity:1; fill:none\" points=\"\n",
       "  2485.2,1384.24 2485.2,1384.24 2505.17,1384.24 2485.2,1384.24 \n",
       "  \"/>\n",
       "<path clip-path=\"url(#clip202)\" d=\"\n",
       "M2505.17 1384.24 L2505.17 1384.24 L2525.15 1384.24 L2525.15 1384.24 L2505.17 1384.24 L2505.17 1384.24  Z\n",
       "  \" fill=\"#009af9\" fill-rule=\"evenodd\" fill-opacity=\"1\"/>\n",
       "<polyline clip-path=\"url(#clip202)\" style=\"stroke:#000000; stroke-linecap:butt; stroke-linejoin:round; stroke-width:4; stroke-opacity:1; fill:none\" points=\"\n",
       "  2505.17,1384.24 2505.17,1384.24 2525.15,1384.24 2505.17,1384.24 \n",
       "  \"/>\n",
       "<path clip-path=\"url(#clip202)\" d=\"\n",
       "M2525.15 1384.24 L2525.15 1384.24 L2545.13 1384.24 L2545.13 1384.24 L2525.15 1384.24 L2525.15 1384.24  Z\n",
       "  \" fill=\"#009af9\" fill-rule=\"evenodd\" fill-opacity=\"1\"/>\n",
       "<polyline clip-path=\"url(#clip202)\" style=\"stroke:#000000; stroke-linecap:butt; stroke-linejoin:round; stroke-width:4; stroke-opacity:1; fill:none\" points=\"\n",
       "  2525.15,1384.24 2525.15,1384.24 2545.13,1384.24 2525.15,1384.24 \n",
       "  \"/>\n",
       "<path clip-path=\"url(#clip202)\" d=\"\n",
       "M2545.13 1384.24 L2545.13 1384.24 L2565.11 1384.24 L2565.11 1384.24 L2545.13 1384.24 L2545.13 1384.24  Z\n",
       "  \" fill=\"#009af9\" fill-rule=\"evenodd\" fill-opacity=\"1\"/>\n",
       "<polyline clip-path=\"url(#clip202)\" style=\"stroke:#000000; stroke-linecap:butt; stroke-linejoin:round; stroke-width:4; stroke-opacity:1; fill:none\" points=\"\n",
       "  2545.13,1384.24 2545.13,1384.24 2565.11,1384.24 2545.13,1384.24 \n",
       "  \"/>\n",
       "<path clip-path=\"url(#clip202)\" d=\"\n",
       "M2565.11 1384.24 L2565.11 1384.24 L2585.08 1384.24 L2585.08 1384.24 L2565.11 1384.24 L2565.11 1384.24  Z\n",
       "  \" fill=\"#009af9\" fill-rule=\"evenodd\" fill-opacity=\"1\"/>\n",
       "<polyline clip-path=\"url(#clip202)\" style=\"stroke:#000000; stroke-linecap:butt; stroke-linejoin:round; stroke-width:4; stroke-opacity:1; fill:none\" points=\"\n",
       "  2565.11,1384.24 2565.11,1384.24 2585.08,1384.24 2565.11,1384.24 \n",
       "  \"/>\n",
       "<path clip-path=\"url(#clip202)\" d=\"\n",
       "M2585.08 1384.24 L2585.08 1384.24 L2605.06 1384.24 L2605.06 1384.24 L2585.08 1384.24 L2585.08 1384.24  Z\n",
       "  \" fill=\"#009af9\" fill-rule=\"evenodd\" fill-opacity=\"1\"/>\n",
       "<polyline clip-path=\"url(#clip202)\" style=\"stroke:#000000; stroke-linecap:butt; stroke-linejoin:round; stroke-width:4; stroke-opacity:1; fill:none\" points=\"\n",
       "  2585.08,1384.24 2585.08,1384.24 2605.06,1384.24 2585.08,1384.24 \n",
       "  \"/>\n",
       "<path clip-path=\"url(#clip202)\" d=\"\n",
       "M2605.06 1276.07 L2605.06 1384.24 L2625.04 1384.24 L2625.04 1276.07 L2605.06 1276.07 L2605.06 1276.07  Z\n",
       "  \" fill=\"#009af9\" fill-rule=\"evenodd\" fill-opacity=\"1\"/>\n",
       "<polyline clip-path=\"url(#clip202)\" style=\"stroke:#000000; stroke-linecap:butt; stroke-linejoin:round; stroke-width:4; stroke-opacity:1; fill:none\" points=\"\n",
       "  2605.06,1276.07 2605.06,1384.24 2625.04,1384.24 2625.04,1276.07 2605.06,1276.07 \n",
       "  \"/>\n",
       "<path clip-path=\"url(#clip202)\" d=\"\n",
       "M2625.04 1384.24 L2625.04 1384.24 L2645.02 1384.24 L2645.02 1384.24 L2625.04 1384.24 L2625.04 1384.24  Z\n",
       "  \" fill=\"#009af9\" fill-rule=\"evenodd\" fill-opacity=\"1\"/>\n",
       "<polyline clip-path=\"url(#clip202)\" style=\"stroke:#000000; stroke-linecap:butt; stroke-linejoin:round; stroke-width:4; stroke-opacity:1; fill:none\" points=\"\n",
       "  2625.04,1384.24 2625.04,1384.24 2645.02,1384.24 2625.04,1384.24 \n",
       "  \"/>\n",
       "<path clip-path=\"url(#clip202)\" d=\"\n",
       "M2645.02 1384.24 L2645.02 1384.24 L2664.99 1384.24 L2664.99 1384.24 L2645.02 1384.24 L2645.02 1384.24  Z\n",
       "  \" fill=\"#009af9\" fill-rule=\"evenodd\" fill-opacity=\"1\"/>\n",
       "<polyline clip-path=\"url(#clip202)\" style=\"stroke:#000000; stroke-linecap:butt; stroke-linejoin:round; stroke-width:4; stroke-opacity:1; fill:none\" points=\"\n",
       "  2645.02,1384.24 2645.02,1384.24 2664.99,1384.24 2645.02,1384.24 \n",
       "  \"/>\n",
       "<path clip-path=\"url(#clip202)\" d=\"\n",
       "M2664.99 1384.24 L2664.99 1384.24 L2684.97 1384.24 L2684.97 1384.24 L2664.99 1384.24 L2664.99 1384.24  Z\n",
       "  \" fill=\"#009af9\" fill-rule=\"evenodd\" fill-opacity=\"1\"/>\n",
       "<polyline clip-path=\"url(#clip202)\" style=\"stroke:#000000; stroke-linecap:butt; stroke-linejoin:round; stroke-width:4; stroke-opacity:1; fill:none\" points=\"\n",
       "  2664.99,1384.24 2664.99,1384.24 2684.97,1384.24 2664.99,1384.24 \n",
       "  \"/>\n",
       "<path clip-path=\"url(#clip202)\" d=\"\n",
       "M2684.97 1384.24 L2684.97 1384.24 L2704.95 1384.24 L2704.95 1384.24 L2684.97 1384.24 L2684.97 1384.24  Z\n",
       "  \" fill=\"#009af9\" fill-rule=\"evenodd\" fill-opacity=\"1\"/>\n",
       "<polyline clip-path=\"url(#clip202)\" style=\"stroke:#000000; stroke-linecap:butt; stroke-linejoin:round; stroke-width:4; stroke-opacity:1; fill:none\" points=\"\n",
       "  2684.97,1384.24 2684.97,1384.24 2704.95,1384.24 2684.97,1384.24 \n",
       "  \"/>\n",
       "<path clip-path=\"url(#clip202)\" d=\"\n",
       "M2704.95 1384.24 L2704.95 1384.24 L2724.92 1384.24 L2724.92 1384.24 L2704.95 1384.24 L2704.95 1384.24  Z\n",
       "  \" fill=\"#009af9\" fill-rule=\"evenodd\" fill-opacity=\"1\"/>\n",
       "<polyline clip-path=\"url(#clip202)\" style=\"stroke:#000000; stroke-linecap:butt; stroke-linejoin:round; stroke-width:4; stroke-opacity:1; fill:none\" points=\"\n",
       "  2704.95,1384.24 2704.95,1384.24 2724.92,1384.24 2704.95,1384.24 \n",
       "  \"/>\n",
       "<path clip-path=\"url(#clip202)\" d=\"\n",
       "M2724.92 1384.24 L2724.92 1384.24 L2744.9 1384.24 L2744.9 1384.24 L2724.92 1384.24 L2724.92 1384.24  Z\n",
       "  \" fill=\"#009af9\" fill-rule=\"evenodd\" fill-opacity=\"1\"/>\n",
       "<polyline clip-path=\"url(#clip202)\" style=\"stroke:#000000; stroke-linecap:butt; stroke-linejoin:round; stroke-width:4; stroke-opacity:1; fill:none\" points=\"\n",
       "  2724.92,1384.24 2724.92,1384.24 2744.9,1384.24 2724.92,1384.24 \n",
       "  \"/>\n",
       "<path clip-path=\"url(#clip202)\" d=\"\n",
       "M2744.9 1384.24 L2744.9 1384.24 L2764.88 1384.24 L2764.88 1384.24 L2744.9 1384.24 L2744.9 1384.24  Z\n",
       "  \" fill=\"#009af9\" fill-rule=\"evenodd\" fill-opacity=\"1\"/>\n",
       "<polyline clip-path=\"url(#clip202)\" style=\"stroke:#000000; stroke-linecap:butt; stroke-linejoin:round; stroke-width:4; stroke-opacity:1; fill:none\" points=\"\n",
       "  2744.9,1384.24 2744.9,1384.24 2764.88,1384.24 2744.9,1384.24 \n",
       "  \"/>\n",
       "<path clip-path=\"url(#clip202)\" d=\"\n",
       "M2764.88 1384.24 L2764.88 1384.24 L2784.86 1384.24 L2784.86 1384.24 L2764.88 1384.24 L2764.88 1384.24  Z\n",
       "  \" fill=\"#009af9\" fill-rule=\"evenodd\" fill-opacity=\"1\"/>\n",
       "<polyline clip-path=\"url(#clip202)\" style=\"stroke:#000000; stroke-linecap:butt; stroke-linejoin:round; stroke-width:4; stroke-opacity:1; fill:none\" points=\"\n",
       "  2764.88,1384.24 2764.88,1384.24 2784.86,1384.24 2764.88,1384.24 \n",
       "  \"/>\n",
       "<path clip-path=\"url(#clip202)\" d=\"\n",
       "M2784.86 1384.24 L2784.86 1384.24 L2804.83 1384.24 L2804.83 1384.24 L2784.86 1384.24 L2784.86 1384.24  Z\n",
       "  \" fill=\"#009af9\" fill-rule=\"evenodd\" fill-opacity=\"1\"/>\n",
       "<polyline clip-path=\"url(#clip202)\" style=\"stroke:#000000; stroke-linecap:butt; stroke-linejoin:round; stroke-width:4; stroke-opacity:1; fill:none\" points=\"\n",
       "  2784.86,1384.24 2784.86,1384.24 2804.83,1384.24 2784.86,1384.24 \n",
       "  \"/>\n",
       "<path clip-path=\"url(#clip202)\" d=\"\n",
       "M2804.83 1384.24 L2804.83 1384.24 L2824.81 1384.24 L2824.81 1384.24 L2804.83 1384.24 L2804.83 1384.24  Z\n",
       "  \" fill=\"#009af9\" fill-rule=\"evenodd\" fill-opacity=\"1\"/>\n",
       "<polyline clip-path=\"url(#clip202)\" style=\"stroke:#000000; stroke-linecap:butt; stroke-linejoin:round; stroke-width:4; stroke-opacity:1; fill:none\" points=\"\n",
       "  2804.83,1384.24 2804.83,1384.24 2824.81,1384.24 2804.83,1384.24 \n",
       "  \"/>\n",
       "<path clip-path=\"url(#clip202)\" d=\"\n",
       "M2824.81 1384.24 L2824.81 1384.24 L2844.79 1384.24 L2844.79 1384.24 L2824.81 1384.24 L2824.81 1384.24  Z\n",
       "  \" fill=\"#009af9\" fill-rule=\"evenodd\" fill-opacity=\"1\"/>\n",
       "<polyline clip-path=\"url(#clip202)\" style=\"stroke:#000000; stroke-linecap:butt; stroke-linejoin:round; stroke-width:4; stroke-opacity:1; fill:none\" points=\"\n",
       "  2824.81,1384.24 2824.81,1384.24 2844.79,1384.24 2824.81,1384.24 \n",
       "  \"/>\n",
       "<path clip-path=\"url(#clip202)\" d=\"\n",
       "M2844.79 1384.24 L2844.79 1384.24 L2864.76 1384.24 L2864.76 1384.24 L2844.79 1384.24 L2844.79 1384.24  Z\n",
       "  \" fill=\"#009af9\" fill-rule=\"evenodd\" fill-opacity=\"1\"/>\n",
       "<polyline clip-path=\"url(#clip202)\" style=\"stroke:#000000; stroke-linecap:butt; stroke-linejoin:round; stroke-width:4; stroke-opacity:1; fill:none\" points=\"\n",
       "  2844.79,1384.24 2844.79,1384.24 2864.76,1384.24 2844.79,1384.24 \n",
       "  \"/>\n",
       "<path clip-path=\"url(#clip202)\" d=\"\n",
       "M2864.76 1384.24 L2864.76 1384.24 L2884.74 1384.24 L2884.74 1384.24 L2864.76 1384.24 L2864.76 1384.24  Z\n",
       "  \" fill=\"#009af9\" fill-rule=\"evenodd\" fill-opacity=\"1\"/>\n",
       "<polyline clip-path=\"url(#clip202)\" style=\"stroke:#000000; stroke-linecap:butt; stroke-linejoin:round; stroke-width:4; stroke-opacity:1; fill:none\" points=\"\n",
       "  2864.76,1384.24 2864.76,1384.24 2884.74,1384.24 2864.76,1384.24 \n",
       "  \"/>\n",
       "<path clip-path=\"url(#clip202)\" d=\"\n",
       "M2884.74 1384.24 L2884.74 1384.24 L2904.72 1384.24 L2904.72 1384.24 L2884.74 1384.24 L2884.74 1384.24  Z\n",
       "  \" fill=\"#009af9\" fill-rule=\"evenodd\" fill-opacity=\"1\"/>\n",
       "<polyline clip-path=\"url(#clip202)\" style=\"stroke:#000000; stroke-linecap:butt; stroke-linejoin:round; stroke-width:4; stroke-opacity:1; fill:none\" points=\"\n",
       "  2884.74,1384.24 2884.74,1384.24 2904.72,1384.24 2884.74,1384.24 \n",
       "  \"/>\n",
       "<path clip-path=\"url(#clip202)\" d=\"\n",
       "M2904.72 1384.24 L2904.72 1384.24 L2924.7 1384.24 L2924.7 1384.24 L2904.72 1384.24 L2904.72 1384.24  Z\n",
       "  \" fill=\"#009af9\" fill-rule=\"evenodd\" fill-opacity=\"1\"/>\n",
       "<polyline clip-path=\"url(#clip202)\" style=\"stroke:#000000; stroke-linecap:butt; stroke-linejoin:round; stroke-width:4; stroke-opacity:1; fill:none\" points=\"\n",
       "  2904.72,1384.24 2904.72,1384.24 2924.7,1384.24 2904.72,1384.24 \n",
       "  \"/>\n",
       "<path clip-path=\"url(#clip202)\" d=\"\n",
       "M2924.7 1384.24 L2924.7 1384.24 L2944.67 1384.24 L2944.67 1384.24 L2924.7 1384.24 L2924.7 1384.24  Z\n",
       "  \" fill=\"#009af9\" fill-rule=\"evenodd\" fill-opacity=\"1\"/>\n",
       "<polyline clip-path=\"url(#clip202)\" style=\"stroke:#000000; stroke-linecap:butt; stroke-linejoin:round; stroke-width:4; stroke-opacity:1; fill:none\" points=\"\n",
       "  2924.7,1384.24 2924.7,1384.24 2944.67,1384.24 2924.7,1384.24 \n",
       "  \"/>\n",
       "<path clip-path=\"url(#clip202)\" d=\"\n",
       "M2944.67 1384.24 L2944.67 1384.24 L2964.65 1384.24 L2964.65 1384.24 L2944.67 1384.24 L2944.67 1384.24  Z\n",
       "  \" fill=\"#009af9\" fill-rule=\"evenodd\" fill-opacity=\"1\"/>\n",
       "<polyline clip-path=\"url(#clip202)\" style=\"stroke:#000000; stroke-linecap:butt; stroke-linejoin:round; stroke-width:4; stroke-opacity:1; fill:none\" points=\"\n",
       "  2944.67,1384.24 2944.67,1384.24 2964.65,1384.24 2944.67,1384.24 \n",
       "  \"/>\n",
       "<path clip-path=\"url(#clip202)\" d=\"\n",
       "M2964.65 1384.24 L2964.65 1384.24 L2984.63 1384.24 L2984.63 1384.24 L2964.65 1384.24 L2964.65 1384.24  Z\n",
       "  \" fill=\"#009af9\" fill-rule=\"evenodd\" fill-opacity=\"1\"/>\n",
       "<polyline clip-path=\"url(#clip202)\" style=\"stroke:#000000; stroke-linecap:butt; stroke-linejoin:round; stroke-width:4; stroke-opacity:1; fill:none\" points=\"\n",
       "  2964.65,1384.24 2964.65,1384.24 2984.63,1384.24 2964.65,1384.24 \n",
       "  \"/>\n",
       "<path clip-path=\"url(#clip202)\" d=\"\n",
       "M2984.63 1384.24 L2984.63 1384.24 L3004.6 1384.24 L3004.6 1384.24 L2984.63 1384.24 L2984.63 1384.24  Z\n",
       "  \" fill=\"#009af9\" fill-rule=\"evenodd\" fill-opacity=\"1\"/>\n",
       "<polyline clip-path=\"url(#clip202)\" style=\"stroke:#000000; stroke-linecap:butt; stroke-linejoin:round; stroke-width:4; stroke-opacity:1; fill:none\" points=\"\n",
       "  2984.63,1384.24 2984.63,1384.24 3004.6,1384.24 2984.63,1384.24 \n",
       "  \"/>\n",
       "<path clip-path=\"url(#clip202)\" d=\"\n",
       "M3004.6 1384.24 L3004.6 1384.24 L3024.58 1384.24 L3024.58 1384.24 L3004.6 1384.24 L3004.6 1384.24  Z\n",
       "  \" fill=\"#009af9\" fill-rule=\"evenodd\" fill-opacity=\"1\"/>\n",
       "<polyline clip-path=\"url(#clip202)\" style=\"stroke:#000000; stroke-linecap:butt; stroke-linejoin:round; stroke-width:4; stroke-opacity:1; fill:none\" points=\"\n",
       "  3004.6,1384.24 3004.6,1384.24 3024.58,1384.24 3004.6,1384.24 \n",
       "  \"/>\n",
       "<path clip-path=\"url(#clip202)\" d=\"\n",
       "M3024.58 1384.24 L3024.58 1384.24 L3044.56 1384.24 L3044.56 1384.24 L3024.58 1384.24 L3024.58 1384.24  Z\n",
       "  \" fill=\"#009af9\" fill-rule=\"evenodd\" fill-opacity=\"1\"/>\n",
       "<polyline clip-path=\"url(#clip202)\" style=\"stroke:#000000; stroke-linecap:butt; stroke-linejoin:round; stroke-width:4; stroke-opacity:1; fill:none\" points=\"\n",
       "  3024.58,1384.24 3024.58,1384.24 3044.56,1384.24 3024.58,1384.24 \n",
       "  \"/>\n",
       "<path clip-path=\"url(#clip202)\" d=\"\n",
       "M3044.56 1384.24 L3044.56 1384.24 L3064.54 1384.24 L3064.54 1384.24 L3044.56 1384.24 L3044.56 1384.24  Z\n",
       "  \" fill=\"#009af9\" fill-rule=\"evenodd\" fill-opacity=\"1\"/>\n",
       "<polyline clip-path=\"url(#clip202)\" style=\"stroke:#000000; stroke-linecap:butt; stroke-linejoin:round; stroke-width:4; stroke-opacity:1; fill:none\" points=\"\n",
       "  3044.56,1384.24 3044.56,1384.24 3064.54,1384.24 3044.56,1384.24 \n",
       "  \"/>\n",
       "<path clip-path=\"url(#clip202)\" d=\"\n",
       "M3064.54 1384.24 L3064.54 1384.24 L3084.51 1384.24 L3084.51 1384.24 L3064.54 1384.24 L3064.54 1384.24  Z\n",
       "  \" fill=\"#009af9\" fill-rule=\"evenodd\" fill-opacity=\"1\"/>\n",
       "<polyline clip-path=\"url(#clip202)\" style=\"stroke:#000000; stroke-linecap:butt; stroke-linejoin:round; stroke-width:4; stroke-opacity:1; fill:none\" points=\"\n",
       "  3064.54,1384.24 3064.54,1384.24 3084.51,1384.24 3064.54,1384.24 \n",
       "  \"/>\n",
       "<path clip-path=\"url(#clip202)\" d=\"\n",
       "M3084.51 1384.24 L3084.51 1384.24 L3104.49 1384.24 L3104.49 1384.24 L3084.51 1384.24 L3084.51 1384.24  Z\n",
       "  \" fill=\"#009af9\" fill-rule=\"evenodd\" fill-opacity=\"1\"/>\n",
       "<polyline clip-path=\"url(#clip202)\" style=\"stroke:#000000; stroke-linecap:butt; stroke-linejoin:round; stroke-width:4; stroke-opacity:1; fill:none\" points=\"\n",
       "  3084.51,1384.24 3084.51,1384.24 3104.49,1384.24 3084.51,1384.24 \n",
       "  \"/>\n",
       "<path clip-path=\"url(#clip202)\" d=\"\n",
       "M3104.49 1384.24 L3104.49 1384.24 L3124.47 1384.24 L3124.47 1384.24 L3104.49 1384.24 L3104.49 1384.24  Z\n",
       "  \" fill=\"#009af9\" fill-rule=\"evenodd\" fill-opacity=\"1\"/>\n",
       "<polyline clip-path=\"url(#clip202)\" style=\"stroke:#000000; stroke-linecap:butt; stroke-linejoin:round; stroke-width:4; stroke-opacity:1; fill:none\" points=\"\n",
       "  3104.49,1384.24 3104.49,1384.24 3124.47,1384.24 3104.49,1384.24 \n",
       "  \"/>\n",
       "<path clip-path=\"url(#clip202)\" d=\"\n",
       "M3124.47 1384.24 L3124.47 1384.24 L3144.45 1384.24 L3144.45 1384.24 L3124.47 1384.24 L3124.47 1384.24  Z\n",
       "  \" fill=\"#009af9\" fill-rule=\"evenodd\" fill-opacity=\"1\"/>\n",
       "<polyline clip-path=\"url(#clip202)\" style=\"stroke:#000000; stroke-linecap:butt; stroke-linejoin:round; stroke-width:4; stroke-opacity:1; fill:none\" points=\"\n",
       "  3124.47,1384.24 3124.47,1384.24 3144.45,1384.24 3124.47,1384.24 \n",
       "  \"/>\n",
       "<path clip-path=\"url(#clip202)\" d=\"\n",
       "M3144.45 1384.24 L3144.45 1384.24 L3164.42 1384.24 L3164.42 1384.24 L3144.45 1384.24 L3144.45 1384.24  Z\n",
       "  \" fill=\"#009af9\" fill-rule=\"evenodd\" fill-opacity=\"1\"/>\n",
       "<polyline clip-path=\"url(#clip202)\" style=\"stroke:#000000; stroke-linecap:butt; stroke-linejoin:round; stroke-width:4; stroke-opacity:1; fill:none\" points=\"\n",
       "  3144.45,1384.24 3144.45,1384.24 3164.42,1384.24 3144.45,1384.24 \n",
       "  \"/>\n",
       "<path clip-path=\"url(#clip202)\" d=\"\n",
       "M3164.42 1384.24 L3164.42 1384.24 L3184.4 1384.24 L3184.4 1384.24 L3164.42 1384.24 L3164.42 1384.24  Z\n",
       "  \" fill=\"#009af9\" fill-rule=\"evenodd\" fill-opacity=\"1\"/>\n",
       "<polyline clip-path=\"url(#clip202)\" style=\"stroke:#000000; stroke-linecap:butt; stroke-linejoin:round; stroke-width:4; stroke-opacity:1; fill:none\" points=\"\n",
       "  3164.42,1384.24 3164.42,1384.24 3184.4,1384.24 3164.42,1384.24 \n",
       "  \"/>\n",
       "<path clip-path=\"url(#clip202)\" d=\"\n",
       "M3184.4 1384.24 L3184.4 1384.24 L3204.38 1384.24 L3204.38 1384.24 L3184.4 1384.24 L3184.4 1384.24  Z\n",
       "  \" fill=\"#009af9\" fill-rule=\"evenodd\" fill-opacity=\"1\"/>\n",
       "<polyline clip-path=\"url(#clip202)\" style=\"stroke:#000000; stroke-linecap:butt; stroke-linejoin:round; stroke-width:4; stroke-opacity:1; fill:none\" points=\"\n",
       "  3184.4,1384.24 3184.4,1384.24 3204.38,1384.24 3184.4,1384.24 \n",
       "  \"/>\n",
       "<path clip-path=\"url(#clip202)\" d=\"\n",
       "M3204.38 1384.24 L3204.38 1384.24 L3224.35 1384.24 L3224.35 1384.24 L3204.38 1384.24 L3204.38 1384.24  Z\n",
       "  \" fill=\"#009af9\" fill-rule=\"evenodd\" fill-opacity=\"1\"/>\n",
       "<polyline clip-path=\"url(#clip202)\" style=\"stroke:#000000; stroke-linecap:butt; stroke-linejoin:round; stroke-width:4; stroke-opacity:1; fill:none\" points=\"\n",
       "  3204.38,1384.24 3204.38,1384.24 3224.35,1384.24 3204.38,1384.24 \n",
       "  \"/>\n",
       "<path clip-path=\"url(#clip202)\" d=\"\n",
       "M3224.35 1384.24 L3224.35 1384.24 L3244.33 1384.24 L3244.33 1384.24 L3224.35 1384.24 L3224.35 1384.24  Z\n",
       "  \" fill=\"#009af9\" fill-rule=\"evenodd\" fill-opacity=\"1\"/>\n",
       "<polyline clip-path=\"url(#clip202)\" style=\"stroke:#000000; stroke-linecap:butt; stroke-linejoin:round; stroke-width:4; stroke-opacity:1; fill:none\" points=\"\n",
       "  3224.35,1384.24 3224.35,1384.24 3244.33,1384.24 3224.35,1384.24 \n",
       "  \"/>\n",
       "<path clip-path=\"url(#clip202)\" d=\"\n",
       "M3244.33 1276.07 L3244.33 1384.24 L3264.31 1384.24 L3264.31 1276.07 L3244.33 1276.07 L3244.33 1276.07  Z\n",
       "  \" fill=\"#009af9\" fill-rule=\"evenodd\" fill-opacity=\"1\"/>\n",
       "<polyline clip-path=\"url(#clip202)\" style=\"stroke:#000000; stroke-linecap:butt; stroke-linejoin:round; stroke-width:4; stroke-opacity:1; fill:none\" points=\"\n",
       "  3244.33,1276.07 3244.33,1384.24 3264.31,1384.24 3264.31,1276.07 3244.33,1276.07 \n",
       "  \"/>\n",
       "<path clip-path=\"url(#clip202)\" d=\"\n",
       "M3264.31 1384.24 L3264.31 1384.24 L3284.29 1384.24 L3284.29 1384.24 L3264.31 1384.24 L3264.31 1384.24  Z\n",
       "  \" fill=\"#009af9\" fill-rule=\"evenodd\" fill-opacity=\"1\"/>\n",
       "<polyline clip-path=\"url(#clip202)\" style=\"stroke:#000000; stroke-linecap:butt; stroke-linejoin:round; stroke-width:4; stroke-opacity:1; fill:none\" points=\"\n",
       "  3264.31,1384.24 3264.31,1384.24 3284.29,1384.24 3264.31,1384.24 \n",
       "  \"/>\n",
       "<path clip-path=\"url(#clip202)\" d=\"\n",
       "M3284.29 1384.24 L3284.29 1384.24 L3304.26 1384.24 L3304.26 1384.24 L3284.29 1384.24 L3284.29 1384.24  Z\n",
       "  \" fill=\"#009af9\" fill-rule=\"evenodd\" fill-opacity=\"1\"/>\n",
       "<polyline clip-path=\"url(#clip202)\" style=\"stroke:#000000; stroke-linecap:butt; stroke-linejoin:round; stroke-width:4; stroke-opacity:1; fill:none\" points=\"\n",
       "  3284.29,1384.24 3284.29,1384.24 3304.26,1384.24 3284.29,1384.24 \n",
       "  \"/>\n",
       "<path clip-path=\"url(#clip202)\" d=\"\n",
       "M3304.26 1384.24 L3304.26 1384.24 L3324.24 1384.24 L3324.24 1384.24 L3304.26 1384.24 L3304.26 1384.24  Z\n",
       "  \" fill=\"#009af9\" fill-rule=\"evenodd\" fill-opacity=\"1\"/>\n",
       "<polyline clip-path=\"url(#clip202)\" style=\"stroke:#000000; stroke-linecap:butt; stroke-linejoin:round; stroke-width:4; stroke-opacity:1; fill:none\" points=\"\n",
       "  3304.26,1384.24 3304.26,1384.24 3324.24,1384.24 3304.26,1384.24 \n",
       "  \"/>\n",
       "<path clip-path=\"url(#clip202)\" d=\"\n",
       "M3324.24 1384.24 L3324.24 1384.24 L3344.22 1384.24 L3344.22 1384.24 L3324.24 1384.24 L3324.24 1384.24  Z\n",
       "  \" fill=\"#009af9\" fill-rule=\"evenodd\" fill-opacity=\"1\"/>\n",
       "<polyline clip-path=\"url(#clip202)\" style=\"stroke:#000000; stroke-linecap:butt; stroke-linejoin:round; stroke-width:4; stroke-opacity:1; fill:none\" points=\"\n",
       "  3324.24,1384.24 3324.24,1384.24 3344.22,1384.24 3324.24,1384.24 \n",
       "  \"/>\n",
       "<path clip-path=\"url(#clip202)\" d=\"\n",
       "M3344.22 1384.24 L3344.22 1384.24 L3364.19 1384.24 L3364.19 1384.24 L3344.22 1384.24 L3344.22 1384.24  Z\n",
       "  \" fill=\"#009af9\" fill-rule=\"evenodd\" fill-opacity=\"1\"/>\n",
       "<polyline clip-path=\"url(#clip202)\" style=\"stroke:#000000; stroke-linecap:butt; stroke-linejoin:round; stroke-width:4; stroke-opacity:1; fill:none\" points=\"\n",
       "  3344.22,1384.24 3344.22,1384.24 3364.19,1384.24 3344.22,1384.24 \n",
       "  \"/>\n",
       "<path clip-path=\"url(#clip202)\" d=\"\n",
       "M3364.19 1384.24 L3364.19 1384.24 L3384.17 1384.24 L3384.17 1384.24 L3364.19 1384.24 L3364.19 1384.24  Z\n",
       "  \" fill=\"#009af9\" fill-rule=\"evenodd\" fill-opacity=\"1\"/>\n",
       "<polyline clip-path=\"url(#clip202)\" style=\"stroke:#000000; stroke-linecap:butt; stroke-linejoin:round; stroke-width:4; stroke-opacity:1; fill:none\" points=\"\n",
       "  3364.19,1384.24 3364.19,1384.24 3384.17,1384.24 3364.19,1384.24 \n",
       "  \"/>\n",
       "<path clip-path=\"url(#clip202)\" d=\"\n",
       "M3384.17 1384.24 L3384.17 1384.24 L3404.15 1384.24 L3404.15 1384.24 L3384.17 1384.24 L3384.17 1384.24  Z\n",
       "  \" fill=\"#009af9\" fill-rule=\"evenodd\" fill-opacity=\"1\"/>\n",
       "<polyline clip-path=\"url(#clip202)\" style=\"stroke:#000000; stroke-linecap:butt; stroke-linejoin:round; stroke-width:4; stroke-opacity:1; fill:none\" points=\"\n",
       "  3384.17,1384.24 3384.17,1384.24 3404.15,1384.24 3384.17,1384.24 \n",
       "  \"/>\n",
       "<path clip-path=\"url(#clip202)\" d=\"\n",
       "M3404.15 1384.24 L3404.15 1384.24 L3424.13 1384.24 L3424.13 1384.24 L3404.15 1384.24 L3404.15 1384.24  Z\n",
       "  \" fill=\"#009af9\" fill-rule=\"evenodd\" fill-opacity=\"1\"/>\n",
       "<polyline clip-path=\"url(#clip202)\" style=\"stroke:#000000; stroke-linecap:butt; stroke-linejoin:round; stroke-width:4; stroke-opacity:1; fill:none\" points=\"\n",
       "  3404.15,1384.24 3404.15,1384.24 3424.13,1384.24 3404.15,1384.24 \n",
       "  \"/>\n",
       "<path clip-path=\"url(#clip202)\" d=\"\n",
       "M3424.13 1384.24 L3424.13 1384.24 L3444.1 1384.24 L3444.1 1384.24 L3424.13 1384.24 L3424.13 1384.24  Z\n",
       "  \" fill=\"#009af9\" fill-rule=\"evenodd\" fill-opacity=\"1\"/>\n",
       "<polyline clip-path=\"url(#clip202)\" style=\"stroke:#000000; stroke-linecap:butt; stroke-linejoin:round; stroke-width:4; stroke-opacity:1; fill:none\" points=\"\n",
       "  3424.13,1384.24 3424.13,1384.24 3444.1,1384.24 3424.13,1384.24 \n",
       "  \"/>\n",
       "<path clip-path=\"url(#clip202)\" d=\"\n",
       "M3444.1 1384.24 L3444.1 1384.24 L3464.08 1384.24 L3464.08 1384.24 L3444.1 1384.24 L3444.1 1384.24  Z\n",
       "  \" fill=\"#009af9\" fill-rule=\"evenodd\" fill-opacity=\"1\"/>\n",
       "<polyline clip-path=\"url(#clip202)\" style=\"stroke:#000000; stroke-linecap:butt; stroke-linejoin:round; stroke-width:4; stroke-opacity:1; fill:none\" points=\"\n",
       "  3444.1,1384.24 3444.1,1384.24 3464.08,1384.24 3444.1,1384.24 \n",
       "  \"/>\n",
       "<path clip-path=\"url(#clip202)\" d=\"\n",
       "M3464.08 1384.24 L3464.08 1384.24 L3484.06 1384.24 L3484.06 1384.24 L3464.08 1384.24 L3464.08 1384.24  Z\n",
       "  \" fill=\"#009af9\" fill-rule=\"evenodd\" fill-opacity=\"1\"/>\n",
       "<polyline clip-path=\"url(#clip202)\" style=\"stroke:#000000; stroke-linecap:butt; stroke-linejoin:round; stroke-width:4; stroke-opacity:1; fill:none\" points=\"\n",
       "  3464.08,1384.24 3464.08,1384.24 3484.06,1384.24 3464.08,1384.24 \n",
       "  \"/>\n",
       "<path clip-path=\"url(#clip202)\" d=\"\n",
       "M3484.06 1384.24 L3484.06 1384.24 L3504.04 1384.24 L3504.04 1384.24 L3484.06 1384.24 L3484.06 1384.24  Z\n",
       "  \" fill=\"#009af9\" fill-rule=\"evenodd\" fill-opacity=\"1\"/>\n",
       "<polyline clip-path=\"url(#clip202)\" style=\"stroke:#000000; stroke-linecap:butt; stroke-linejoin:round; stroke-width:4; stroke-opacity:1; fill:none\" points=\"\n",
       "  3484.06,1384.24 3484.06,1384.24 3504.04,1384.24 3484.06,1384.24 \n",
       "  \"/>\n",
       "<path clip-path=\"url(#clip202)\" d=\"\n",
       "M3504.04 1384.24 L3504.04 1384.24 L3524.01 1384.24 L3524.01 1384.24 L3504.04 1384.24 L3504.04 1384.24  Z\n",
       "  \" fill=\"#009af9\" fill-rule=\"evenodd\" fill-opacity=\"1\"/>\n",
       "<polyline clip-path=\"url(#clip202)\" style=\"stroke:#000000; stroke-linecap:butt; stroke-linejoin:round; stroke-width:4; stroke-opacity:1; fill:none\" points=\"\n",
       "  3504.04,1384.24 3504.04,1384.24 3524.01,1384.24 3504.04,1384.24 \n",
       "  \"/>\n",
       "<path clip-path=\"url(#clip202)\" d=\"\n",
       "M3524.01 1384.24 L3524.01 1384.24 L3543.99 1384.24 L3543.99 1384.24 L3524.01 1384.24 L3524.01 1384.24  Z\n",
       "  \" fill=\"#009af9\" fill-rule=\"evenodd\" fill-opacity=\"1\"/>\n",
       "<polyline clip-path=\"url(#clip202)\" style=\"stroke:#000000; stroke-linecap:butt; stroke-linejoin:round; stroke-width:4; stroke-opacity:1; fill:none\" points=\"\n",
       "  3524.01,1384.24 3524.01,1384.24 3543.99,1384.24 3524.01,1384.24 \n",
       "  \"/>\n",
       "<path clip-path=\"url(#clip202)\" d=\"\n",
       "M3543.99 1384.24 L3543.99 1384.24 L3563.97 1384.24 L3563.97 1384.24 L3543.99 1384.24 L3543.99 1384.24  Z\n",
       "  \" fill=\"#009af9\" fill-rule=\"evenodd\" fill-opacity=\"1\"/>\n",
       "<polyline clip-path=\"url(#clip202)\" style=\"stroke:#000000; stroke-linecap:butt; stroke-linejoin:round; stroke-width:4; stroke-opacity:1; fill:none\" points=\"\n",
       "  3543.99,1384.24 3543.99,1384.24 3563.97,1384.24 3543.99,1384.24 \n",
       "  \"/>\n",
       "<path clip-path=\"url(#clip202)\" d=\"\n",
       "M3563.97 1384.24 L3563.97 1384.24 L3583.94 1384.24 L3583.94 1384.24 L3563.97 1384.24 L3563.97 1384.24  Z\n",
       "  \" fill=\"#009af9\" fill-rule=\"evenodd\" fill-opacity=\"1\"/>\n",
       "<polyline clip-path=\"url(#clip202)\" style=\"stroke:#000000; stroke-linecap:butt; stroke-linejoin:round; stroke-width:4; stroke-opacity:1; fill:none\" points=\"\n",
       "  3563.97,1384.24 3563.97,1384.24 3583.94,1384.24 3563.97,1384.24 \n",
       "  \"/>\n",
       "<path clip-path=\"url(#clip202)\" d=\"\n",
       "M3583.94 1384.24 L3583.94 1384.24 L3603.92 1384.24 L3603.92 1384.24 L3583.94 1384.24 L3583.94 1384.24  Z\n",
       "  \" fill=\"#009af9\" fill-rule=\"evenodd\" fill-opacity=\"1\"/>\n",
       "<polyline clip-path=\"url(#clip202)\" style=\"stroke:#000000; stroke-linecap:butt; stroke-linejoin:round; stroke-width:4; stroke-opacity:1; fill:none\" points=\"\n",
       "  3583.94,1384.24 3583.94,1384.24 3603.92,1384.24 3583.94,1384.24 \n",
       "  \"/>\n",
       "<path clip-path=\"url(#clip202)\" d=\"\n",
       "M3603.92 1384.24 L3603.92 1384.24 L3623.9 1384.24 L3623.9 1384.24 L3603.92 1384.24 L3603.92 1384.24  Z\n",
       "  \" fill=\"#009af9\" fill-rule=\"evenodd\" fill-opacity=\"1\"/>\n",
       "<polyline clip-path=\"url(#clip202)\" style=\"stroke:#000000; stroke-linecap:butt; stroke-linejoin:round; stroke-width:4; stroke-opacity:1; fill:none\" points=\"\n",
       "  3603.92,1384.24 3603.92,1384.24 3623.9,1384.24 3603.92,1384.24 \n",
       "  \"/>\n",
       "<path clip-path=\"url(#clip202)\" d=\"\n",
       "M3623.9 1384.24 L3623.9 1384.24 L3643.88 1384.24 L3643.88 1384.24 L3623.9 1384.24 L3623.9 1384.24  Z\n",
       "  \" fill=\"#009af9\" fill-rule=\"evenodd\" fill-opacity=\"1\"/>\n",
       "<polyline clip-path=\"url(#clip202)\" style=\"stroke:#000000; stroke-linecap:butt; stroke-linejoin:round; stroke-width:4; stroke-opacity:1; fill:none\" points=\"\n",
       "  3623.9,1384.24 3623.9,1384.24 3643.88,1384.24 3623.9,1384.24 \n",
       "  \"/>\n",
       "<path clip-path=\"url(#clip202)\" d=\"\n",
       "M3643.88 1384.24 L3643.88 1384.24 L3663.85 1384.24 L3663.85 1384.24 L3643.88 1384.24 L3643.88 1384.24  Z\n",
       "  \" fill=\"#009af9\" fill-rule=\"evenodd\" fill-opacity=\"1\"/>\n",
       "<polyline clip-path=\"url(#clip202)\" style=\"stroke:#000000; stroke-linecap:butt; stroke-linejoin:round; stroke-width:4; stroke-opacity:1; fill:none\" points=\"\n",
       "  3643.88,1384.24 3643.88,1384.24 3663.85,1384.24 3643.88,1384.24 \n",
       "  \"/>\n",
       "<path clip-path=\"url(#clip202)\" d=\"\n",
       "M3663.85 1384.24 L3663.85 1384.24 L3683.83 1384.24 L3683.83 1384.24 L3663.85 1384.24 L3663.85 1384.24  Z\n",
       "  \" fill=\"#009af9\" fill-rule=\"evenodd\" fill-opacity=\"1\"/>\n",
       "<polyline clip-path=\"url(#clip202)\" style=\"stroke:#000000; stroke-linecap:butt; stroke-linejoin:round; stroke-width:4; stroke-opacity:1; fill:none\" points=\"\n",
       "  3663.85,1384.24 3663.85,1384.24 3683.83,1384.24 3663.85,1384.24 \n",
       "  \"/>\n",
       "<path clip-path=\"url(#clip202)\" d=\"\n",
       "M3683.83 1384.24 L3683.83 1384.24 L3703.81 1384.24 L3703.81 1384.24 L3683.83 1384.24 L3683.83 1384.24  Z\n",
       "  \" fill=\"#009af9\" fill-rule=\"evenodd\" fill-opacity=\"1\"/>\n",
       "<polyline clip-path=\"url(#clip202)\" style=\"stroke:#000000; stroke-linecap:butt; stroke-linejoin:round; stroke-width:4; stroke-opacity:1; fill:none\" points=\"\n",
       "  3683.83,1384.24 3683.83,1384.24 3703.81,1384.24 3683.83,1384.24 \n",
       "  \"/>\n",
       "<path clip-path=\"url(#clip202)\" d=\"\n",
       "M3703.81 1384.24 L3703.81 1384.24 L3723.78 1384.24 L3723.78 1384.24 L3703.81 1384.24 L3703.81 1384.24  Z\n",
       "  \" fill=\"#009af9\" fill-rule=\"evenodd\" fill-opacity=\"1\"/>\n",
       "<polyline clip-path=\"url(#clip202)\" style=\"stroke:#000000; stroke-linecap:butt; stroke-linejoin:round; stroke-width:4; stroke-opacity:1; fill:none\" points=\"\n",
       "  3703.81,1384.24 3703.81,1384.24 3723.78,1384.24 3703.81,1384.24 \n",
       "  \"/>\n",
       "<path clip-path=\"url(#clip202)\" d=\"\n",
       "M3723.78 1384.24 L3723.78 1384.24 L3743.76 1384.24 L3743.76 1384.24 L3723.78 1384.24 L3723.78 1384.24  Z\n",
       "  \" fill=\"#009af9\" fill-rule=\"evenodd\" fill-opacity=\"1\"/>\n",
       "<polyline clip-path=\"url(#clip202)\" style=\"stroke:#000000; stroke-linecap:butt; stroke-linejoin:round; stroke-width:4; stroke-opacity:1; fill:none\" points=\"\n",
       "  3723.78,1384.24 3723.78,1384.24 3743.76,1384.24 3723.78,1384.24 \n",
       "  \"/>\n",
       "<path clip-path=\"url(#clip202)\" d=\"\n",
       "M3743.76 1384.24 L3743.76 1384.24 L3763.74 1384.24 L3763.74 1384.24 L3743.76 1384.24 L3743.76 1384.24  Z\n",
       "  \" fill=\"#009af9\" fill-rule=\"evenodd\" fill-opacity=\"1\"/>\n",
       "<polyline clip-path=\"url(#clip202)\" style=\"stroke:#000000; stroke-linecap:butt; stroke-linejoin:round; stroke-width:4; stroke-opacity:1; fill:none\" points=\"\n",
       "  3743.76,1384.24 3743.76,1384.24 3763.74,1384.24 3743.76,1384.24 \n",
       "  \"/>\n",
       "<path clip-path=\"url(#clip202)\" d=\"\n",
       "M3763.74 1384.24 L3763.74 1384.24 L3783.72 1384.24 L3783.72 1384.24 L3763.74 1384.24 L3763.74 1384.24  Z\n",
       "  \" fill=\"#009af9\" fill-rule=\"evenodd\" fill-opacity=\"1\"/>\n",
       "<polyline clip-path=\"url(#clip202)\" style=\"stroke:#000000; stroke-linecap:butt; stroke-linejoin:round; stroke-width:4; stroke-opacity:1; fill:none\" points=\"\n",
       "  3763.74,1384.24 3763.74,1384.24 3783.72,1384.24 3763.74,1384.24 \n",
       "  \"/>\n",
       "<path clip-path=\"url(#clip202)\" d=\"\n",
       "M3783.72 1384.24 L3783.72 1384.24 L3803.69 1384.24 L3803.69 1384.24 L3783.72 1384.24 L3783.72 1384.24  Z\n",
       "  \" fill=\"#009af9\" fill-rule=\"evenodd\" fill-opacity=\"1\"/>\n",
       "<polyline clip-path=\"url(#clip202)\" style=\"stroke:#000000; stroke-linecap:butt; stroke-linejoin:round; stroke-width:4; stroke-opacity:1; fill:none\" points=\"\n",
       "  3783.72,1384.24 3783.72,1384.24 3803.69,1384.24 3783.72,1384.24 \n",
       "  \"/>\n",
       "<path clip-path=\"url(#clip202)\" d=\"\n",
       "M3803.69 1384.24 L3803.69 1384.24 L3823.67 1384.24 L3823.67 1384.24 L3803.69 1384.24 L3803.69 1384.24  Z\n",
       "  \" fill=\"#009af9\" fill-rule=\"evenodd\" fill-opacity=\"1\"/>\n",
       "<polyline clip-path=\"url(#clip202)\" style=\"stroke:#000000; stroke-linecap:butt; stroke-linejoin:round; stroke-width:4; stroke-opacity:1; fill:none\" points=\"\n",
       "  3803.69,1384.24 3803.69,1384.24 3823.67,1384.24 3803.69,1384.24 \n",
       "  \"/>\n",
       "<path clip-path=\"url(#clip202)\" d=\"\n",
       "M3823.67 1276.07 L3823.67 1384.24 L3843.65 1384.24 L3843.65 1276.07 L3823.67 1276.07 L3823.67 1276.07  Z\n",
       "  \" fill=\"#009af9\" fill-rule=\"evenodd\" fill-opacity=\"1\"/>\n",
       "<polyline clip-path=\"url(#clip202)\" style=\"stroke:#000000; stroke-linecap:butt; stroke-linejoin:round; stroke-width:4; stroke-opacity:1; fill:none\" points=\"\n",
       "  3823.67,1276.07 3823.67,1384.24 3843.65,1384.24 3843.65,1276.07 3823.67,1276.07 \n",
       "  \"/>\n",
       "<path clip-path=\"url(#clip202)\" d=\"\n",
       "M3843.65 1384.24 L3843.65 1384.24 L3863.63 1384.24 L3863.63 1384.24 L3843.65 1384.24 L3843.65 1384.24  Z\n",
       "  \" fill=\"#009af9\" fill-rule=\"evenodd\" fill-opacity=\"1\"/>\n",
       "<polyline clip-path=\"url(#clip202)\" style=\"stroke:#000000; stroke-linecap:butt; stroke-linejoin:round; stroke-width:4; stroke-opacity:1; fill:none\" points=\"\n",
       "  3843.65,1384.24 3843.65,1384.24 3863.63,1384.24 3843.65,1384.24 \n",
       "  \"/>\n",
       "<path clip-path=\"url(#clip202)\" d=\"\n",
       "M3863.63 1384.24 L3863.63 1384.24 L3883.6 1384.24 L3883.6 1384.24 L3863.63 1384.24 L3863.63 1384.24  Z\n",
       "  \" fill=\"#009af9\" fill-rule=\"evenodd\" fill-opacity=\"1\"/>\n",
       "<polyline clip-path=\"url(#clip202)\" style=\"stroke:#000000; stroke-linecap:butt; stroke-linejoin:round; stroke-width:4; stroke-opacity:1; fill:none\" points=\"\n",
       "  3863.63,1384.24 3863.63,1384.24 3883.6,1384.24 3863.63,1384.24 \n",
       "  \"/>\n",
       "<path clip-path=\"url(#clip202)\" d=\"\n",
       "M3883.6 1384.24 L3883.6 1384.24 L3903.58 1384.24 L3903.58 1384.24 L3883.6 1384.24 L3883.6 1384.24  Z\n",
       "  \" fill=\"#009af9\" fill-rule=\"evenodd\" fill-opacity=\"1\"/>\n",
       "<polyline clip-path=\"url(#clip202)\" style=\"stroke:#000000; stroke-linecap:butt; stroke-linejoin:round; stroke-width:4; stroke-opacity:1; fill:none\" points=\"\n",
       "  3883.6,1384.24 3883.6,1384.24 3903.58,1384.24 3883.6,1384.24 \n",
       "  \"/>\n",
       "<path clip-path=\"url(#clip202)\" d=\"\n",
       "M3903.58 1384.24 L3903.58 1384.24 L3923.56 1384.24 L3923.56 1384.24 L3903.58 1384.24 L3903.58 1384.24  Z\n",
       "  \" fill=\"#009af9\" fill-rule=\"evenodd\" fill-opacity=\"1\"/>\n",
       "<polyline clip-path=\"url(#clip202)\" style=\"stroke:#000000; stroke-linecap:butt; stroke-linejoin:round; stroke-width:4; stroke-opacity:1; fill:none\" points=\"\n",
       "  3903.58,1384.24 3903.58,1384.24 3923.56,1384.24 3903.58,1384.24 \n",
       "  \"/>\n",
       "<path clip-path=\"url(#clip202)\" d=\"\n",
       "M3923.56 1384.24 L3923.56 1384.24 L3943.53 1384.24 L3943.53 1384.24 L3923.56 1384.24 L3923.56 1384.24  Z\n",
       "  \" fill=\"#009af9\" fill-rule=\"evenodd\" fill-opacity=\"1\"/>\n",
       "<polyline clip-path=\"url(#clip202)\" style=\"stroke:#000000; stroke-linecap:butt; stroke-linejoin:round; stroke-width:4; stroke-opacity:1; fill:none\" points=\"\n",
       "  3923.56,1384.24 3923.56,1384.24 3943.53,1384.24 3923.56,1384.24 \n",
       "  \"/>\n",
       "<path clip-path=\"url(#clip202)\" d=\"\n",
       "M3943.53 1384.24 L3943.53 1384.24 L3963.51 1384.24 L3963.51 1384.24 L3943.53 1384.24 L3943.53 1384.24  Z\n",
       "  \" fill=\"#009af9\" fill-rule=\"evenodd\" fill-opacity=\"1\"/>\n",
       "<polyline clip-path=\"url(#clip202)\" style=\"stroke:#000000; stroke-linecap:butt; stroke-linejoin:round; stroke-width:4; stroke-opacity:1; fill:none\" points=\"\n",
       "  3943.53,1384.24 3943.53,1384.24 3963.51,1384.24 3943.53,1384.24 \n",
       "  \"/>\n",
       "<path clip-path=\"url(#clip202)\" d=\"\n",
       "M3963.51 1384.24 L3963.51 1384.24 L3983.49 1384.24 L3983.49 1384.24 L3963.51 1384.24 L3963.51 1384.24  Z\n",
       "  \" fill=\"#009af9\" fill-rule=\"evenodd\" fill-opacity=\"1\"/>\n",
       "<polyline clip-path=\"url(#clip202)\" style=\"stroke:#000000; stroke-linecap:butt; stroke-linejoin:round; stroke-width:4; stroke-opacity:1; fill:none\" points=\"\n",
       "  3963.51,1384.24 3963.51,1384.24 3983.49,1384.24 3963.51,1384.24 \n",
       "  \"/>\n",
       "<path clip-path=\"url(#clip202)\" d=\"\n",
       "M3983.49 1384.24 L3983.49 1384.24 L4003.47 1384.24 L4003.47 1384.24 L3983.49 1384.24 L3983.49 1384.24  Z\n",
       "  \" fill=\"#009af9\" fill-rule=\"evenodd\" fill-opacity=\"1\"/>\n",
       "<polyline clip-path=\"url(#clip202)\" style=\"stroke:#000000; stroke-linecap:butt; stroke-linejoin:round; stroke-width:4; stroke-opacity:1; fill:none\" points=\"\n",
       "  3983.49,1384.24 3983.49,1384.24 4003.47,1384.24 3983.49,1384.24 \n",
       "  \"/>\n",
       "<path clip-path=\"url(#clip202)\" d=\"\n",
       "M4003.47 1384.24 L4003.47 1384.24 L4023.44 1384.24 L4023.44 1384.24 L4003.47 1384.24 L4003.47 1384.24  Z\n",
       "  \" fill=\"#009af9\" fill-rule=\"evenodd\" fill-opacity=\"1\"/>\n",
       "<polyline clip-path=\"url(#clip202)\" style=\"stroke:#000000; stroke-linecap:butt; stroke-linejoin:round; stroke-width:4; stroke-opacity:1; fill:none\" points=\"\n",
       "  4003.47,1384.24 4003.47,1384.24 4023.44,1384.24 4003.47,1384.24 \n",
       "  \"/>\n",
       "<path clip-path=\"url(#clip202)\" d=\"\n",
       "M4023.44 1384.24 L4023.44 1384.24 L4043.42 1384.24 L4043.42 1384.24 L4023.44 1384.24 L4023.44 1384.24  Z\n",
       "  \" fill=\"#009af9\" fill-rule=\"evenodd\" fill-opacity=\"1\"/>\n",
       "<polyline clip-path=\"url(#clip202)\" style=\"stroke:#000000; stroke-linecap:butt; stroke-linejoin:round; stroke-width:4; stroke-opacity:1; fill:none\" points=\"\n",
       "  4023.44,1384.24 4023.44,1384.24 4043.42,1384.24 4023.44,1384.24 \n",
       "  \"/>\n",
       "<path clip-path=\"url(#clip202)\" d=\"\n",
       "M4043.42 1384.24 L4043.42 1384.24 L4063.4 1384.24 L4063.4 1384.24 L4043.42 1384.24 L4043.42 1384.24  Z\n",
       "  \" fill=\"#009af9\" fill-rule=\"evenodd\" fill-opacity=\"1\"/>\n",
       "<polyline clip-path=\"url(#clip202)\" style=\"stroke:#000000; stroke-linecap:butt; stroke-linejoin:round; stroke-width:4; stroke-opacity:1; fill:none\" points=\"\n",
       "  4043.42,1384.24 4043.42,1384.24 4063.4,1384.24 4043.42,1384.24 \n",
       "  \"/>\n",
       "<path clip-path=\"url(#clip202)\" d=\"\n",
       "M4063.4 1384.24 L4063.4 1384.24 L4083.37 1384.24 L4083.37 1384.24 L4063.4 1384.24 L4063.4 1384.24  Z\n",
       "  \" fill=\"#009af9\" fill-rule=\"evenodd\" fill-opacity=\"1\"/>\n",
       "<polyline clip-path=\"url(#clip202)\" style=\"stroke:#000000; stroke-linecap:butt; stroke-linejoin:round; stroke-width:4; stroke-opacity:1; fill:none\" points=\"\n",
       "  4063.4,1384.24 4063.4,1384.24 4083.37,1384.24 4063.4,1384.24 \n",
       "  \"/>\n",
       "<path clip-path=\"url(#clip202)\" d=\"\n",
       "M4083.37 1384.24 L4083.37 1384.24 L4103.35 1384.24 L4103.35 1384.24 L4083.37 1384.24 L4083.37 1384.24  Z\n",
       "  \" fill=\"#009af9\" fill-rule=\"evenodd\" fill-opacity=\"1\"/>\n",
       "<polyline clip-path=\"url(#clip202)\" style=\"stroke:#000000; stroke-linecap:butt; stroke-linejoin:round; stroke-width:4; stroke-opacity:1; fill:none\" points=\"\n",
       "  4083.37,1384.24 4083.37,1384.24 4103.35,1384.24 4083.37,1384.24 \n",
       "  \"/>\n",
       "<path clip-path=\"url(#clip202)\" d=\"\n",
       "M4103.35 1384.24 L4103.35 1384.24 L4123.33 1384.24 L4123.33 1384.24 L4103.35 1384.24 L4103.35 1384.24  Z\n",
       "  \" fill=\"#009af9\" fill-rule=\"evenodd\" fill-opacity=\"1\"/>\n",
       "<polyline clip-path=\"url(#clip202)\" style=\"stroke:#000000; stroke-linecap:butt; stroke-linejoin:round; stroke-width:4; stroke-opacity:1; fill:none\" points=\"\n",
       "  4103.35,1384.24 4103.35,1384.24 4123.33,1384.24 4103.35,1384.24 \n",
       "  \"/>\n",
       "<path clip-path=\"url(#clip202)\" d=\"\n",
       "M4123.33 1276.07 L4123.33 1384.24 L4143.31 1384.24 L4143.31 1276.07 L4123.33 1276.07 L4123.33 1276.07  Z\n",
       "  \" fill=\"#009af9\" fill-rule=\"evenodd\" fill-opacity=\"1\"/>\n",
       "<polyline clip-path=\"url(#clip202)\" style=\"stroke:#000000; stroke-linecap:butt; stroke-linejoin:round; stroke-width:4; stroke-opacity:1; fill:none\" points=\"\n",
       "  4123.33,1276.07 4123.33,1384.24 4143.31,1384.24 4143.31,1276.07 4123.33,1276.07 \n",
       "  \"/>\n",
       "<path clip-path=\"url(#clip202)\" d=\"\n",
       "M4143.31 1384.24 L4143.31 1384.24 L4163.28 1384.24 L4163.28 1384.24 L4143.31 1384.24 L4143.31 1384.24  Z\n",
       "  \" fill=\"#009af9\" fill-rule=\"evenodd\" fill-opacity=\"1\"/>\n",
       "<polyline clip-path=\"url(#clip202)\" style=\"stroke:#000000; stroke-linecap:butt; stroke-linejoin:round; stroke-width:4; stroke-opacity:1; fill:none\" points=\"\n",
       "  4143.31,1384.24 4143.31,1384.24 4163.28,1384.24 4143.31,1384.24 \n",
       "  \"/>\n",
       "<path clip-path=\"url(#clip202)\" d=\"\n",
       "M4163.28 1384.24 L4163.28 1384.24 L4183.26 1384.24 L4183.26 1384.24 L4163.28 1384.24 L4163.28 1384.24  Z\n",
       "  \" fill=\"#009af9\" fill-rule=\"evenodd\" fill-opacity=\"1\"/>\n",
       "<polyline clip-path=\"url(#clip202)\" style=\"stroke:#000000; stroke-linecap:butt; stroke-linejoin:round; stroke-width:4; stroke-opacity:1; fill:none\" points=\"\n",
       "  4163.28,1384.24 4163.28,1384.24 4183.26,1384.24 4163.28,1384.24 \n",
       "  \"/>\n",
       "<path clip-path=\"url(#clip202)\" d=\"\n",
       "M4183.26 1384.24 L4183.26 1384.24 L4203.24 1384.24 L4203.24 1384.24 L4183.26 1384.24 L4183.26 1384.24  Z\n",
       "  \" fill=\"#009af9\" fill-rule=\"evenodd\" fill-opacity=\"1\"/>\n",
       "<polyline clip-path=\"url(#clip202)\" style=\"stroke:#000000; stroke-linecap:butt; stroke-linejoin:round; stroke-width:4; stroke-opacity:1; fill:none\" points=\"\n",
       "  4183.26,1384.24 4183.26,1384.24 4203.24,1384.24 4183.26,1384.24 \n",
       "  \"/>\n",
       "<path clip-path=\"url(#clip202)\" d=\"\n",
       "M4203.24 1384.24 L4203.24 1384.24 L4223.22 1384.24 L4223.22 1384.24 L4203.24 1384.24 L4203.24 1384.24  Z\n",
       "  \" fill=\"#009af9\" fill-rule=\"evenodd\" fill-opacity=\"1\"/>\n",
       "<polyline clip-path=\"url(#clip202)\" style=\"stroke:#000000; stroke-linecap:butt; stroke-linejoin:round; stroke-width:4; stroke-opacity:1; fill:none\" points=\"\n",
       "  4203.24,1384.24 4203.24,1384.24 4223.22,1384.24 4203.24,1384.24 \n",
       "  \"/>\n",
       "<path clip-path=\"url(#clip202)\" d=\"\n",
       "M4223.22 1384.24 L4223.22 1384.24 L4243.19 1384.24 L4243.19 1384.24 L4223.22 1384.24 L4223.22 1384.24  Z\n",
       "  \" fill=\"#009af9\" fill-rule=\"evenodd\" fill-opacity=\"1\"/>\n",
       "<polyline clip-path=\"url(#clip202)\" style=\"stroke:#000000; stroke-linecap:butt; stroke-linejoin:round; stroke-width:4; stroke-opacity:1; fill:none\" points=\"\n",
       "  4223.22,1384.24 4223.22,1384.24 4243.19,1384.24 4223.22,1384.24 \n",
       "  \"/>\n",
       "<path clip-path=\"url(#clip202)\" d=\"\n",
       "M4243.19 1384.24 L4243.19 1384.24 L4263.17 1384.24 L4263.17 1384.24 L4243.19 1384.24 L4243.19 1384.24  Z\n",
       "  \" fill=\"#009af9\" fill-rule=\"evenodd\" fill-opacity=\"1\"/>\n",
       "<polyline clip-path=\"url(#clip202)\" style=\"stroke:#000000; stroke-linecap:butt; stroke-linejoin:round; stroke-width:4; stroke-opacity:1; fill:none\" points=\"\n",
       "  4243.19,1384.24 4243.19,1384.24 4263.17,1384.24 4243.19,1384.24 \n",
       "  \"/>\n",
       "<path clip-path=\"url(#clip202)\" d=\"\n",
       "M4263.17 1384.24 L4263.17 1384.24 L4283.15 1384.24 L4283.15 1384.24 L4263.17 1384.24 L4263.17 1384.24  Z\n",
       "  \" fill=\"#009af9\" fill-rule=\"evenodd\" fill-opacity=\"1\"/>\n",
       "<polyline clip-path=\"url(#clip202)\" style=\"stroke:#000000; stroke-linecap:butt; stroke-linejoin:round; stroke-width:4; stroke-opacity:1; fill:none\" points=\"\n",
       "  4263.17,1384.24 4263.17,1384.24 4283.15,1384.24 4263.17,1384.24 \n",
       "  \"/>\n",
       "<path clip-path=\"url(#clip202)\" d=\"\n",
       "M4283.15 1384.24 L4283.15 1384.24 L4303.12 1384.24 L4303.12 1384.24 L4283.15 1384.24 L4283.15 1384.24  Z\n",
       "  \" fill=\"#009af9\" fill-rule=\"evenodd\" fill-opacity=\"1\"/>\n",
       "<polyline clip-path=\"url(#clip202)\" style=\"stroke:#000000; stroke-linecap:butt; stroke-linejoin:round; stroke-width:4; stroke-opacity:1; fill:none\" points=\"\n",
       "  4283.15,1384.24 4283.15,1384.24 4303.12,1384.24 4283.15,1384.24 \n",
       "  \"/>\n",
       "<path clip-path=\"url(#clip202)\" d=\"\n",
       "M4303.12 1384.24 L4303.12 1384.24 L4323.1 1384.24 L4323.1 1384.24 L4303.12 1384.24 L4303.12 1384.24  Z\n",
       "  \" fill=\"#009af9\" fill-rule=\"evenodd\" fill-opacity=\"1\"/>\n",
       "<polyline clip-path=\"url(#clip202)\" style=\"stroke:#000000; stroke-linecap:butt; stroke-linejoin:round; stroke-width:4; stroke-opacity:1; fill:none\" points=\"\n",
       "  4303.12,1384.24 4303.12,1384.24 4323.1,1384.24 4303.12,1384.24 \n",
       "  \"/>\n",
       "<path clip-path=\"url(#clip202)\" d=\"\n",
       "M4323.1 1384.24 L4323.1 1384.24 L4343.08 1384.24 L4343.08 1384.24 L4323.1 1384.24 L4323.1 1384.24  Z\n",
       "  \" fill=\"#009af9\" fill-rule=\"evenodd\" fill-opacity=\"1\"/>\n",
       "<polyline clip-path=\"url(#clip202)\" style=\"stroke:#000000; stroke-linecap:butt; stroke-linejoin:round; stroke-width:4; stroke-opacity:1; fill:none\" points=\"\n",
       "  4323.1,1384.24 4323.1,1384.24 4343.08,1384.24 4323.1,1384.24 \n",
       "  \"/>\n",
       "<path clip-path=\"url(#clip202)\" d=\"\n",
       "M4343.08 1384.24 L4343.08 1384.24 L4363.06 1384.24 L4363.06 1384.24 L4343.08 1384.24 L4343.08 1384.24  Z\n",
       "  \" fill=\"#009af9\" fill-rule=\"evenodd\" fill-opacity=\"1\"/>\n",
       "<polyline clip-path=\"url(#clip202)\" style=\"stroke:#000000; stroke-linecap:butt; stroke-linejoin:round; stroke-width:4; stroke-opacity:1; fill:none\" points=\"\n",
       "  4343.08,1384.24 4343.08,1384.24 4363.06,1384.24 4343.08,1384.24 \n",
       "  \"/>\n",
       "<path clip-path=\"url(#clip202)\" d=\"\n",
       "M4363.06 1384.24 L4363.06 1384.24 L4383.03 1384.24 L4383.03 1384.24 L4363.06 1384.24 L4363.06 1384.24  Z\n",
       "  \" fill=\"#009af9\" fill-rule=\"evenodd\" fill-opacity=\"1\"/>\n",
       "<polyline clip-path=\"url(#clip202)\" style=\"stroke:#000000; stroke-linecap:butt; stroke-linejoin:round; stroke-width:4; stroke-opacity:1; fill:none\" points=\"\n",
       "  4363.06,1384.24 4363.06,1384.24 4383.03,1384.24 4363.06,1384.24 \n",
       "  \"/>\n",
       "<path clip-path=\"url(#clip202)\" d=\"\n",
       "M4383.03 1384.24 L4383.03 1384.24 L4403.01 1384.24 L4403.01 1384.24 L4383.03 1384.24 L4383.03 1384.24  Z\n",
       "  \" fill=\"#009af9\" fill-rule=\"evenodd\" fill-opacity=\"1\"/>\n",
       "<polyline clip-path=\"url(#clip202)\" style=\"stroke:#000000; stroke-linecap:butt; stroke-linejoin:round; stroke-width:4; stroke-opacity:1; fill:none\" points=\"\n",
       "  4383.03,1384.24 4383.03,1384.24 4403.01,1384.24 4383.03,1384.24 \n",
       "  \"/>\n",
       "<path clip-path=\"url(#clip202)\" d=\"\n",
       "M4403.01 1384.24 L4403.01 1384.24 L4422.99 1384.24 L4422.99 1384.24 L4403.01 1384.24 L4403.01 1384.24  Z\n",
       "  \" fill=\"#009af9\" fill-rule=\"evenodd\" fill-opacity=\"1\"/>\n",
       "<polyline clip-path=\"url(#clip202)\" style=\"stroke:#000000; stroke-linecap:butt; stroke-linejoin:round; stroke-width:4; stroke-opacity:1; fill:none\" points=\"\n",
       "  4403.01,1384.24 4403.01,1384.24 4422.99,1384.24 4403.01,1384.24 \n",
       "  \"/>\n",
       "<path clip-path=\"url(#clip202)\" d=\"\n",
       "M4422.99 1384.24 L4422.99 1384.24 L4442.96 1384.24 L4442.96 1384.24 L4422.99 1384.24 L4422.99 1384.24  Z\n",
       "  \" fill=\"#009af9\" fill-rule=\"evenodd\" fill-opacity=\"1\"/>\n",
       "<polyline clip-path=\"url(#clip202)\" style=\"stroke:#000000; stroke-linecap:butt; stroke-linejoin:round; stroke-width:4; stroke-opacity:1; fill:none\" points=\"\n",
       "  4422.99,1384.24 4422.99,1384.24 4442.96,1384.24 4422.99,1384.24 \n",
       "  \"/>\n",
       "<path clip-path=\"url(#clip202)\" d=\"\n",
       "M4442.96 1384.24 L4442.96 1384.24 L4462.94 1384.24 L4462.94 1384.24 L4442.96 1384.24 L4442.96 1384.24  Z\n",
       "  \" fill=\"#009af9\" fill-rule=\"evenodd\" fill-opacity=\"1\"/>\n",
       "<polyline clip-path=\"url(#clip202)\" style=\"stroke:#000000; stroke-linecap:butt; stroke-linejoin:round; stroke-width:4; stroke-opacity:1; fill:none\" points=\"\n",
       "  4442.96,1384.24 4442.96,1384.24 4462.94,1384.24 4442.96,1384.24 \n",
       "  \"/>\n",
       "<path clip-path=\"url(#clip202)\" d=\"\n",
       "M4462.94 1384.24 L4462.94 1384.24 L4482.92 1384.24 L4482.92 1384.24 L4462.94 1384.24 L4462.94 1384.24  Z\n",
       "  \" fill=\"#009af9\" fill-rule=\"evenodd\" fill-opacity=\"1\"/>\n",
       "<polyline clip-path=\"url(#clip202)\" style=\"stroke:#000000; stroke-linecap:butt; stroke-linejoin:round; stroke-width:4; stroke-opacity:1; fill:none\" points=\"\n",
       "  4462.94,1384.24 4462.94,1384.24 4482.92,1384.24 4462.94,1384.24 \n",
       "  \"/>\n",
       "<path clip-path=\"url(#clip202)\" d=\"\n",
       "M4482.92 1384.24 L4482.92 1384.24 L4502.9 1384.24 L4502.9 1384.24 L4482.92 1384.24 L4482.92 1384.24  Z\n",
       "  \" fill=\"#009af9\" fill-rule=\"evenodd\" fill-opacity=\"1\"/>\n",
       "<polyline clip-path=\"url(#clip202)\" style=\"stroke:#000000; stroke-linecap:butt; stroke-linejoin:round; stroke-width:4; stroke-opacity:1; fill:none\" points=\"\n",
       "  4482.92,1384.24 4482.92,1384.24 4502.9,1384.24 4482.92,1384.24 \n",
       "  \"/>\n",
       "<path clip-path=\"url(#clip202)\" d=\"\n",
       "M4502.9 1384.24 L4502.9 1384.24 L4522.87 1384.24 L4522.87 1384.24 L4502.9 1384.24 L4502.9 1384.24  Z\n",
       "  \" fill=\"#009af9\" fill-rule=\"evenodd\" fill-opacity=\"1\"/>\n",
       "<polyline clip-path=\"url(#clip202)\" style=\"stroke:#000000; stroke-linecap:butt; stroke-linejoin:round; stroke-width:4; stroke-opacity:1; fill:none\" points=\"\n",
       "  4502.9,1384.24 4502.9,1384.24 4522.87,1384.24 4502.9,1384.24 \n",
       "  \"/>\n",
       "<path clip-path=\"url(#clip202)\" d=\"\n",
       "M4522.87 1384.24 L4522.87 1384.24 L4542.85 1384.24 L4542.85 1384.24 L4522.87 1384.24 L4522.87 1384.24  Z\n",
       "  \" fill=\"#009af9\" fill-rule=\"evenodd\" fill-opacity=\"1\"/>\n",
       "<polyline clip-path=\"url(#clip202)\" style=\"stroke:#000000; stroke-linecap:butt; stroke-linejoin:round; stroke-width:4; stroke-opacity:1; fill:none\" points=\"\n",
       "  4522.87,1384.24 4522.87,1384.24 4542.85,1384.24 4522.87,1384.24 \n",
       "  \"/>\n",
       "<path clip-path=\"url(#clip202)\" d=\"\n",
       "M4542.85 1384.24 L4542.85 1384.24 L4562.83 1384.24 L4562.83 1384.24 L4542.85 1384.24 L4542.85 1384.24  Z\n",
       "  \" fill=\"#009af9\" fill-rule=\"evenodd\" fill-opacity=\"1\"/>\n",
       "<polyline clip-path=\"url(#clip202)\" style=\"stroke:#000000; stroke-linecap:butt; stroke-linejoin:round; stroke-width:4; stroke-opacity:1; fill:none\" points=\"\n",
       "  4542.85,1384.24 4542.85,1384.24 4562.83,1384.24 4542.85,1384.24 \n",
       "  \"/>\n",
       "<path clip-path=\"url(#clip202)\" d=\"\n",
       "M4562.83 1384.24 L4562.83 1384.24 L4582.8 1384.24 L4582.8 1384.24 L4562.83 1384.24 L4562.83 1384.24  Z\n",
       "  \" fill=\"#009af9\" fill-rule=\"evenodd\" fill-opacity=\"1\"/>\n",
       "<polyline clip-path=\"url(#clip202)\" style=\"stroke:#000000; stroke-linecap:butt; stroke-linejoin:round; stroke-width:4; stroke-opacity:1; fill:none\" points=\"\n",
       "  4562.83,1384.24 4562.83,1384.24 4582.8,1384.24 4562.83,1384.24 \n",
       "  \"/>\n",
       "<path clip-path=\"url(#clip202)\" d=\"\n",
       "M4582.8 1384.24 L4582.8 1384.24 L4602.78 1384.24 L4602.78 1384.24 L4582.8 1384.24 L4582.8 1384.24  Z\n",
       "  \" fill=\"#009af9\" fill-rule=\"evenodd\" fill-opacity=\"1\"/>\n",
       "<polyline clip-path=\"url(#clip202)\" style=\"stroke:#000000; stroke-linecap:butt; stroke-linejoin:round; stroke-width:4; stroke-opacity:1; fill:none\" points=\"\n",
       "  4582.8,1384.24 4582.8,1384.24 4602.78,1384.24 4582.8,1384.24 \n",
       "  \"/>\n",
       "<path clip-path=\"url(#clip202)\" d=\"\n",
       "M4602.78 1384.24 L4602.78 1384.24 L4622.76 1384.24 L4622.76 1384.24 L4602.78 1384.24 L4602.78 1384.24  Z\n",
       "  \" fill=\"#009af9\" fill-rule=\"evenodd\" fill-opacity=\"1\"/>\n",
       "<polyline clip-path=\"url(#clip202)\" style=\"stroke:#000000; stroke-linecap:butt; stroke-linejoin:round; stroke-width:4; stroke-opacity:1; fill:none\" points=\"\n",
       "  4602.78,1384.24 4602.78,1384.24 4622.76,1384.24 4602.78,1384.24 \n",
       "  \"/>\n",
       "<path clip-path=\"url(#clip202)\" d=\"\n",
       "M4622.76 1384.24 L4622.76 1384.24 L4642.74 1384.24 L4642.74 1384.24 L4622.76 1384.24 L4622.76 1384.24  Z\n",
       "  \" fill=\"#009af9\" fill-rule=\"evenodd\" fill-opacity=\"1\"/>\n",
       "<polyline clip-path=\"url(#clip202)\" style=\"stroke:#000000; stroke-linecap:butt; stroke-linejoin:round; stroke-width:4; stroke-opacity:1; fill:none\" points=\"\n",
       "  4622.76,1384.24 4622.76,1384.24 4642.74,1384.24 4622.76,1384.24 \n",
       "  \"/>\n",
       "<path clip-path=\"url(#clip202)\" d=\"\n",
       "M4642.74 1384.24 L4642.74 1384.24 L4662.71 1384.24 L4662.71 1384.24 L4642.74 1384.24 L4642.74 1384.24  Z\n",
       "  \" fill=\"#009af9\" fill-rule=\"evenodd\" fill-opacity=\"1\"/>\n",
       "<polyline clip-path=\"url(#clip202)\" style=\"stroke:#000000; stroke-linecap:butt; stroke-linejoin:round; stroke-width:4; stroke-opacity:1; fill:none\" points=\"\n",
       "  4642.74,1384.24 4642.74,1384.24 4662.71,1384.24 4642.74,1384.24 \n",
       "  \"/>\n",
       "<path clip-path=\"url(#clip202)\" d=\"\n",
       "M4662.71 1276.07 L4662.71 1384.24 L4682.69 1384.24 L4682.69 1276.07 L4662.71 1276.07 L4662.71 1276.07  Z\n",
       "  \" fill=\"#009af9\" fill-rule=\"evenodd\" fill-opacity=\"1\"/>\n",
       "<polyline clip-path=\"url(#clip202)\" style=\"stroke:#000000; stroke-linecap:butt; stroke-linejoin:round; stroke-width:4; stroke-opacity:1; fill:none\" points=\"\n",
       "  4662.71,1276.07 4662.71,1384.24 4682.69,1384.24 4682.69,1276.07 4662.71,1276.07 \n",
       "  \"/>\n",
       "<path clip-path=\"url(#clip202)\" d=\"\n",
       "M4682.69 1384.24 L4682.69 1384.24 L4702.67 1384.24 L4702.67 1384.24 L4682.69 1384.24 L4682.69 1384.24  Z\n",
       "  \" fill=\"#009af9\" fill-rule=\"evenodd\" fill-opacity=\"1\"/>\n",
       "<polyline clip-path=\"url(#clip202)\" style=\"stroke:#000000; stroke-linecap:butt; stroke-linejoin:round; stroke-width:4; stroke-opacity:1; fill:none\" points=\"\n",
       "  4682.69,1384.24 4682.69,1384.24 4702.67,1384.24 4682.69,1384.24 \n",
       "  \"/>\n",
       "<path clip-path=\"url(#clip202)\" d=\"\n",
       "M4702.67 1276.07 L4702.67 1384.24 L4722.65 1384.24 L4722.65 1276.07 L4702.67 1276.07 L4702.67 1276.07  Z\n",
       "  \" fill=\"#009af9\" fill-rule=\"evenodd\" fill-opacity=\"1\"/>\n",
       "<polyline clip-path=\"url(#clip202)\" style=\"stroke:#000000; stroke-linecap:butt; stroke-linejoin:round; stroke-width:4; stroke-opacity:1; fill:none\" points=\"\n",
       "  4702.67,1276.07 4702.67,1384.24 4722.65,1384.24 4722.65,1276.07 4702.67,1276.07 \n",
       "  \"/>\n",
       "<path clip-path=\"url(#clip202)\" d=\"\n",
       "M4722.65 1384.24 L4722.65 1384.24 L4742.62 1384.24 L4742.62 1384.24 L4722.65 1384.24 L4722.65 1384.24  Z\n",
       "  \" fill=\"#009af9\" fill-rule=\"evenodd\" fill-opacity=\"1\"/>\n",
       "<polyline clip-path=\"url(#clip202)\" style=\"stroke:#000000; stroke-linecap:butt; stroke-linejoin:round; stroke-width:4; stroke-opacity:1; fill:none\" points=\"\n",
       "  4722.65,1384.24 4722.65,1384.24 4742.62,1384.24 4722.65,1384.24 \n",
       "  \"/>\n",
       "<path clip-path=\"url(#clip202)\" d=\"\n",
       "M4742.62 1384.24 L4742.62 1384.24 L4762.6 1384.24 L4762.6 1384.24 L4742.62 1384.24 L4742.62 1384.24  Z\n",
       "  \" fill=\"#009af9\" fill-rule=\"evenodd\" fill-opacity=\"1\"/>\n",
       "<polyline clip-path=\"url(#clip202)\" style=\"stroke:#000000; stroke-linecap:butt; stroke-linejoin:round; stroke-width:4; stroke-opacity:1; fill:none\" points=\"\n",
       "  4742.62,1384.24 4742.62,1384.24 4762.6,1384.24 4742.62,1384.24 \n",
       "  \"/>\n",
       "<path clip-path=\"url(#clip202)\" d=\"\n",
       "M4762.6 1384.24 L4762.6 1384.24 L4782.58 1384.24 L4782.58 1384.24 L4762.6 1384.24 L4762.6 1384.24  Z\n",
       "  \" fill=\"#009af9\" fill-rule=\"evenodd\" fill-opacity=\"1\"/>\n",
       "<polyline clip-path=\"url(#clip202)\" style=\"stroke:#000000; stroke-linecap:butt; stroke-linejoin:round; stroke-width:4; stroke-opacity:1; fill:none\" points=\"\n",
       "  4762.6,1384.24 4762.6,1384.24 4782.58,1384.24 4762.6,1384.24 \n",
       "  \"/>\n",
       "<path clip-path=\"url(#clip202)\" d=\"\n",
       "M4782.58 1384.24 L4782.58 1384.24 L4802.55 1384.24 L4802.55 1384.24 L4782.58 1384.24 L4782.58 1384.24  Z\n",
       "  \" fill=\"#009af9\" fill-rule=\"evenodd\" fill-opacity=\"1\"/>\n",
       "<polyline clip-path=\"url(#clip202)\" style=\"stroke:#000000; stroke-linecap:butt; stroke-linejoin:round; stroke-width:4; stroke-opacity:1; fill:none\" points=\"\n",
       "  4782.58,1384.24 4782.58,1384.24 4802.55,1384.24 4782.58,1384.24 \n",
       "  \"/>\n",
       "<path clip-path=\"url(#clip202)\" d=\"\n",
       "M4802.55 1384.24 L4802.55 1384.24 L4822.53 1384.24 L4822.53 1384.24 L4802.55 1384.24 L4802.55 1384.24  Z\n",
       "  \" fill=\"#009af9\" fill-rule=\"evenodd\" fill-opacity=\"1\"/>\n",
       "<polyline clip-path=\"url(#clip202)\" style=\"stroke:#000000; stroke-linecap:butt; stroke-linejoin:round; stroke-width:4; stroke-opacity:1; fill:none\" points=\"\n",
       "  4802.55,1384.24 4802.55,1384.24 4822.53,1384.24 4802.55,1384.24 \n",
       "  \"/>\n",
       "<path clip-path=\"url(#clip202)\" d=\"\n",
       "M4822.53 1384.24 L4822.53 1384.24 L4842.51 1384.24 L4842.51 1384.24 L4822.53 1384.24 L4822.53 1384.24  Z\n",
       "  \" fill=\"#009af9\" fill-rule=\"evenodd\" fill-opacity=\"1\"/>\n",
       "<polyline clip-path=\"url(#clip202)\" style=\"stroke:#000000; stroke-linecap:butt; stroke-linejoin:round; stroke-width:4; stroke-opacity:1; fill:none\" points=\"\n",
       "  4822.53,1384.24 4822.53,1384.24 4842.51,1384.24 4822.53,1384.24 \n",
       "  \"/>\n",
       "<path clip-path=\"url(#clip202)\" d=\"\n",
       "M4842.51 1384.24 L4842.51 1384.24 L4862.49 1384.24 L4862.49 1384.24 L4842.51 1384.24 L4842.51 1384.24  Z\n",
       "  \" fill=\"#009af9\" fill-rule=\"evenodd\" fill-opacity=\"1\"/>\n",
       "<polyline clip-path=\"url(#clip202)\" style=\"stroke:#000000; stroke-linecap:butt; stroke-linejoin:round; stroke-width:4; stroke-opacity:1; fill:none\" points=\"\n",
       "  4842.51,1384.24 4842.51,1384.24 4862.49,1384.24 4842.51,1384.24 \n",
       "  \"/>\n",
       "<path clip-path=\"url(#clip202)\" d=\"\n",
       "M4862.49 1384.24 L4862.49 1384.24 L4882.46 1384.24 L4882.46 1384.24 L4862.49 1384.24 L4862.49 1384.24  Z\n",
       "  \" fill=\"#009af9\" fill-rule=\"evenodd\" fill-opacity=\"1\"/>\n",
       "<polyline clip-path=\"url(#clip202)\" style=\"stroke:#000000; stroke-linecap:butt; stroke-linejoin:round; stroke-width:4; stroke-opacity:1; fill:none\" points=\"\n",
       "  4862.49,1384.24 4862.49,1384.24 4882.46,1384.24 4862.49,1384.24 \n",
       "  \"/>\n",
       "<path clip-path=\"url(#clip202)\" d=\"\n",
       "M4882.46 1384.24 L4882.46 1384.24 L4902.44 1384.24 L4902.44 1384.24 L4882.46 1384.24 L4882.46 1384.24  Z\n",
       "  \" fill=\"#009af9\" fill-rule=\"evenodd\" fill-opacity=\"1\"/>\n",
       "<polyline clip-path=\"url(#clip202)\" style=\"stroke:#000000; stroke-linecap:butt; stroke-linejoin:round; stroke-width:4; stroke-opacity:1; fill:none\" points=\"\n",
       "  4882.46,1384.24 4882.46,1384.24 4902.44,1384.24 4882.46,1384.24 \n",
       "  \"/>\n",
       "<path clip-path=\"url(#clip202)\" d=\"\n",
       "M4902.44 1384.24 L4902.44 1384.24 L4922.42 1384.24 L4922.42 1384.24 L4902.44 1384.24 L4902.44 1384.24  Z\n",
       "  \" fill=\"#009af9\" fill-rule=\"evenodd\" fill-opacity=\"1\"/>\n",
       "<polyline clip-path=\"url(#clip202)\" style=\"stroke:#000000; stroke-linecap:butt; stroke-linejoin:round; stroke-width:4; stroke-opacity:1; fill:none\" points=\"\n",
       "  4902.44,1384.24 4902.44,1384.24 4922.42,1384.24 4902.44,1384.24 \n",
       "  \"/>\n",
       "<path clip-path=\"url(#clip202)\" d=\"\n",
       "M4922.42 1384.24 L4922.42 1384.24 L4942.39 1384.24 L4942.39 1384.24 L4922.42 1384.24 L4922.42 1384.24  Z\n",
       "  \" fill=\"#009af9\" fill-rule=\"evenodd\" fill-opacity=\"1\"/>\n",
       "<polyline clip-path=\"url(#clip202)\" style=\"stroke:#000000; stroke-linecap:butt; stroke-linejoin:round; stroke-width:4; stroke-opacity:1; fill:none\" points=\"\n",
       "  4922.42,1384.24 4922.42,1384.24 4942.39,1384.24 4922.42,1384.24 \n",
       "  \"/>\n",
       "<path clip-path=\"url(#clip202)\" d=\"\n",
       "M4942.39 1384.24 L4942.39 1384.24 L4962.37 1384.24 L4962.37 1384.24 L4942.39 1384.24 L4942.39 1384.24  Z\n",
       "  \" fill=\"#009af9\" fill-rule=\"evenodd\" fill-opacity=\"1\"/>\n",
       "<polyline clip-path=\"url(#clip202)\" style=\"stroke:#000000; stroke-linecap:butt; stroke-linejoin:round; stroke-width:4; stroke-opacity:1; fill:none\" points=\"\n",
       "  4942.39,1384.24 4942.39,1384.24 4962.37,1384.24 4942.39,1384.24 \n",
       "  \"/>\n",
       "<path clip-path=\"url(#clip202)\" d=\"\n",
       "M4962.37 1384.24 L4962.37 1384.24 L4982.35 1384.24 L4982.35 1384.24 L4962.37 1384.24 L4962.37 1384.24  Z\n",
       "  \" fill=\"#009af9\" fill-rule=\"evenodd\" fill-opacity=\"1\"/>\n",
       "<polyline clip-path=\"url(#clip202)\" style=\"stroke:#000000; stroke-linecap:butt; stroke-linejoin:round; stroke-width:4; stroke-opacity:1; fill:none\" points=\"\n",
       "  4962.37,1384.24 4962.37,1384.24 4982.35,1384.24 4962.37,1384.24 \n",
       "  \"/>\n",
       "<path clip-path=\"url(#clip202)\" d=\"\n",
       "M4982.35 1384.24 L4982.35 1384.24 L5002.33 1384.24 L5002.33 1384.24 L4982.35 1384.24 L4982.35 1384.24  Z\n",
       "  \" fill=\"#009af9\" fill-rule=\"evenodd\" fill-opacity=\"1\"/>\n",
       "<polyline clip-path=\"url(#clip202)\" style=\"stroke:#000000; stroke-linecap:butt; stroke-linejoin:round; stroke-width:4; stroke-opacity:1; fill:none\" points=\"\n",
       "  4982.35,1384.24 4982.35,1384.24 5002.33,1384.24 4982.35,1384.24 \n",
       "  \"/>\n",
       "<path clip-path=\"url(#clip202)\" d=\"\n",
       "M5002.33 1384.24 L5002.33 1384.24 L5022.3 1384.24 L5022.3 1384.24 L5002.33 1384.24 L5002.33 1384.24  Z\n",
       "  \" fill=\"#009af9\" fill-rule=\"evenodd\" fill-opacity=\"1\"/>\n",
       "<polyline clip-path=\"url(#clip202)\" style=\"stroke:#000000; stroke-linecap:butt; stroke-linejoin:round; stroke-width:4; stroke-opacity:1; fill:none\" points=\"\n",
       "  5002.33,1384.24 5002.33,1384.24 5022.3,1384.24 5002.33,1384.24 \n",
       "  \"/>\n",
       "<path clip-path=\"url(#clip202)\" d=\"\n",
       "M5022.3 1384.24 L5022.3 1384.24 L5042.28 1384.24 L5042.28 1384.24 L5022.3 1384.24 L5022.3 1384.24  Z\n",
       "  \" fill=\"#009af9\" fill-rule=\"evenodd\" fill-opacity=\"1\"/>\n",
       "<polyline clip-path=\"url(#clip202)\" style=\"stroke:#000000; stroke-linecap:butt; stroke-linejoin:round; stroke-width:4; stroke-opacity:1; fill:none\" points=\"\n",
       "  5022.3,1384.24 5022.3,1384.24 5042.28,1384.24 5022.3,1384.24 \n",
       "  \"/>\n",
       "<path clip-path=\"url(#clip202)\" d=\"\n",
       "M5042.28 1384.24 L5042.28 1384.24 L5062.26 1384.24 L5062.26 1384.24 L5042.28 1384.24 L5042.28 1384.24  Z\n",
       "  \" fill=\"#009af9\" fill-rule=\"evenodd\" fill-opacity=\"1\"/>\n",
       "<polyline clip-path=\"url(#clip202)\" style=\"stroke:#000000; stroke-linecap:butt; stroke-linejoin:round; stroke-width:4; stroke-opacity:1; fill:none\" points=\"\n",
       "  5042.28,1384.24 5042.28,1384.24 5062.26,1384.24 5042.28,1384.24 \n",
       "  \"/>\n",
       "<path clip-path=\"url(#clip202)\" d=\"\n",
       "M5062.26 1384.24 L5062.26 1384.24 L5082.24 1384.24 L5082.24 1384.24 L5062.26 1384.24 L5062.26 1384.24  Z\n",
       "  \" fill=\"#009af9\" fill-rule=\"evenodd\" fill-opacity=\"1\"/>\n",
       "<polyline clip-path=\"url(#clip202)\" style=\"stroke:#000000; stroke-linecap:butt; stroke-linejoin:round; stroke-width:4; stroke-opacity:1; fill:none\" points=\"\n",
       "  5062.26,1384.24 5062.26,1384.24 5082.24,1384.24 5062.26,1384.24 \n",
       "  \"/>\n",
       "<path clip-path=\"url(#clip202)\" d=\"\n",
       "M5082.24 1384.24 L5082.24 1384.24 L5102.21 1384.24 L5102.21 1384.24 L5082.24 1384.24 L5082.24 1384.24  Z\n",
       "  \" fill=\"#009af9\" fill-rule=\"evenodd\" fill-opacity=\"1\"/>\n",
       "<polyline clip-path=\"url(#clip202)\" style=\"stroke:#000000; stroke-linecap:butt; stroke-linejoin:round; stroke-width:4; stroke-opacity:1; fill:none\" points=\"\n",
       "  5082.24,1384.24 5082.24,1384.24 5102.21,1384.24 5082.24,1384.24 \n",
       "  \"/>\n",
       "<path clip-path=\"url(#clip202)\" d=\"\n",
       "M5102.21 1384.24 L5102.21 1384.24 L5122.19 1384.24 L5122.19 1384.24 L5102.21 1384.24 L5102.21 1384.24  Z\n",
       "  \" fill=\"#009af9\" fill-rule=\"evenodd\" fill-opacity=\"1\"/>\n",
       "<polyline clip-path=\"url(#clip202)\" style=\"stroke:#000000; stroke-linecap:butt; stroke-linejoin:round; stroke-width:4; stroke-opacity:1; fill:none\" points=\"\n",
       "  5102.21,1384.24 5102.21,1384.24 5122.19,1384.24 5102.21,1384.24 \n",
       "  \"/>\n",
       "<path clip-path=\"url(#clip202)\" d=\"\n",
       "M5122.19 1384.24 L5122.19 1384.24 L5142.17 1384.24 L5142.17 1384.24 L5122.19 1384.24 L5122.19 1384.24  Z\n",
       "  \" fill=\"#009af9\" fill-rule=\"evenodd\" fill-opacity=\"1\"/>\n",
       "<polyline clip-path=\"url(#clip202)\" style=\"stroke:#000000; stroke-linecap:butt; stroke-linejoin:round; stroke-width:4; stroke-opacity:1; fill:none\" points=\"\n",
       "  5122.19,1384.24 5122.19,1384.24 5142.17,1384.24 5122.19,1384.24 \n",
       "  \"/>\n",
       "<path clip-path=\"url(#clip202)\" d=\"\n",
       "M5142.17 1384.24 L5142.17 1384.24 L5162.14 1384.24 L5162.14 1384.24 L5142.17 1384.24 L5142.17 1384.24  Z\n",
       "  \" fill=\"#009af9\" fill-rule=\"evenodd\" fill-opacity=\"1\"/>\n",
       "<polyline clip-path=\"url(#clip202)\" style=\"stroke:#000000; stroke-linecap:butt; stroke-linejoin:round; stroke-width:4; stroke-opacity:1; fill:none\" points=\"\n",
       "  5142.17,1384.24 5142.17,1384.24 5162.14,1384.24 5142.17,1384.24 \n",
       "  \"/>\n",
       "<path clip-path=\"url(#clip202)\" d=\"\n",
       "M5162.14 1384.24 L5162.14 1384.24 L5182.12 1384.24 L5182.12 1384.24 L5162.14 1384.24 L5162.14 1384.24  Z\n",
       "  \" fill=\"#009af9\" fill-rule=\"evenodd\" fill-opacity=\"1\"/>\n",
       "<polyline clip-path=\"url(#clip202)\" style=\"stroke:#000000; stroke-linecap:butt; stroke-linejoin:round; stroke-width:4; stroke-opacity:1; fill:none\" points=\"\n",
       "  5162.14,1384.24 5162.14,1384.24 5182.12,1384.24 5162.14,1384.24 \n",
       "  \"/>\n",
       "<path clip-path=\"url(#clip202)\" d=\"\n",
       "M5182.12 1384.24 L5182.12 1384.24 L5202.1 1384.24 L5202.1 1384.24 L5182.12 1384.24 L5182.12 1384.24  Z\n",
       "  \" fill=\"#009af9\" fill-rule=\"evenodd\" fill-opacity=\"1\"/>\n",
       "<polyline clip-path=\"url(#clip202)\" style=\"stroke:#000000; stroke-linecap:butt; stroke-linejoin:round; stroke-width:4; stroke-opacity:1; fill:none\" points=\"\n",
       "  5182.12,1384.24 5182.12,1384.24 5202.1,1384.24 5182.12,1384.24 \n",
       "  \"/>\n",
       "<path clip-path=\"url(#clip202)\" d=\"\n",
       "M5202.1 1384.24 L5202.1 1384.24 L5222.08 1384.24 L5222.08 1384.24 L5202.1 1384.24 L5202.1 1384.24  Z\n",
       "  \" fill=\"#009af9\" fill-rule=\"evenodd\" fill-opacity=\"1\"/>\n",
       "<polyline clip-path=\"url(#clip202)\" style=\"stroke:#000000; stroke-linecap:butt; stroke-linejoin:round; stroke-width:4; stroke-opacity:1; fill:none\" points=\"\n",
       "  5202.1,1384.24 5202.1,1384.24 5222.08,1384.24 5202.1,1384.24 \n",
       "  \"/>\n",
       "<path clip-path=\"url(#clip202)\" d=\"\n",
       "M5222.08 1384.24 L5222.08 1384.24 L5242.05 1384.24 L5242.05 1384.24 L5222.08 1384.24 L5222.08 1384.24  Z\n",
       "  \" fill=\"#009af9\" fill-rule=\"evenodd\" fill-opacity=\"1\"/>\n",
       "<polyline clip-path=\"url(#clip202)\" style=\"stroke:#000000; stroke-linecap:butt; stroke-linejoin:round; stroke-width:4; stroke-opacity:1; fill:none\" points=\"\n",
       "  5222.08,1384.24 5222.08,1384.24 5242.05,1384.24 5222.08,1384.24 \n",
       "  \"/>\n",
       "<path clip-path=\"url(#clip202)\" d=\"\n",
       "M5242.05 1384.24 L5242.05 1384.24 L5262.03 1384.24 L5262.03 1384.24 L5242.05 1384.24 L5242.05 1384.24  Z\n",
       "  \" fill=\"#009af9\" fill-rule=\"evenodd\" fill-opacity=\"1\"/>\n",
       "<polyline clip-path=\"url(#clip202)\" style=\"stroke:#000000; stroke-linecap:butt; stroke-linejoin:round; stroke-width:4; stroke-opacity:1; fill:none\" points=\"\n",
       "  5242.05,1384.24 5242.05,1384.24 5262.03,1384.24 5242.05,1384.24 \n",
       "  \"/>\n",
       "<path clip-path=\"url(#clip202)\" d=\"\n",
       "M5262.03 1384.24 L5262.03 1384.24 L5282.01 1384.24 L5282.01 1384.24 L5262.03 1384.24 L5262.03 1384.24  Z\n",
       "  \" fill=\"#009af9\" fill-rule=\"evenodd\" fill-opacity=\"1\"/>\n",
       "<polyline clip-path=\"url(#clip202)\" style=\"stroke:#000000; stroke-linecap:butt; stroke-linejoin:round; stroke-width:4; stroke-opacity:1; fill:none\" points=\"\n",
       "  5262.03,1384.24 5262.03,1384.24 5282.01,1384.24 5262.03,1384.24 \n",
       "  \"/>\n",
       "<path clip-path=\"url(#clip202)\" d=\"\n",
       "M5282.01 1384.24 L5282.01 1384.24 L5301.98 1384.24 L5301.98 1384.24 L5282.01 1384.24 L5282.01 1384.24  Z\n",
       "  \" fill=\"#009af9\" fill-rule=\"evenodd\" fill-opacity=\"1\"/>\n",
       "<polyline clip-path=\"url(#clip202)\" style=\"stroke:#000000; stroke-linecap:butt; stroke-linejoin:round; stroke-width:4; stroke-opacity:1; fill:none\" points=\"\n",
       "  5282.01,1384.24 5282.01,1384.24 5301.98,1384.24 5282.01,1384.24 \n",
       "  \"/>\n",
       "<path clip-path=\"url(#clip202)\" d=\"\n",
       "M5301.98 1276.07 L5301.98 1384.24 L5321.96 1384.24 L5321.96 1276.07 L5301.98 1276.07 L5301.98 1276.07  Z\n",
       "  \" fill=\"#009af9\" fill-rule=\"evenodd\" fill-opacity=\"1\"/>\n",
       "<polyline clip-path=\"url(#clip202)\" style=\"stroke:#000000; stroke-linecap:butt; stroke-linejoin:round; stroke-width:4; stroke-opacity:1; fill:none\" points=\"\n",
       "  5301.98,1276.07 5301.98,1384.24 5321.96,1384.24 5321.96,1276.07 5301.98,1276.07 \n",
       "  \"/>\n",
       "<path clip-path=\"url(#clip202)\" d=\"\n",
       "M5321.96 1384.24 L5321.96 1384.24 L5341.94 1384.24 L5341.94 1384.24 L5321.96 1384.24 L5321.96 1384.24  Z\n",
       "  \" fill=\"#009af9\" fill-rule=\"evenodd\" fill-opacity=\"1\"/>\n",
       "<polyline clip-path=\"url(#clip202)\" style=\"stroke:#000000; stroke-linecap:butt; stroke-linejoin:round; stroke-width:4; stroke-opacity:1; fill:none\" points=\"\n",
       "  5321.96,1384.24 5321.96,1384.24 5341.94,1384.24 5321.96,1384.24 \n",
       "  \"/>\n",
       "<path clip-path=\"url(#clip202)\" d=\"\n",
       "M5341.94 1384.24 L5341.94 1384.24 L5361.92 1384.24 L5361.92 1384.24 L5341.94 1384.24 L5341.94 1384.24  Z\n",
       "  \" fill=\"#009af9\" fill-rule=\"evenodd\" fill-opacity=\"1\"/>\n",
       "<polyline clip-path=\"url(#clip202)\" style=\"stroke:#000000; stroke-linecap:butt; stroke-linejoin:round; stroke-width:4; stroke-opacity:1; fill:none\" points=\"\n",
       "  5341.94,1384.24 5341.94,1384.24 5361.92,1384.24 5341.94,1384.24 \n",
       "  \"/>\n",
       "<path clip-path=\"url(#clip202)\" d=\"\n",
       "M5361.92 1384.24 L5361.92 1384.24 L5381.89 1384.24 L5381.89 1384.24 L5361.92 1384.24 L5361.92 1384.24  Z\n",
       "  \" fill=\"#009af9\" fill-rule=\"evenodd\" fill-opacity=\"1\"/>\n",
       "<polyline clip-path=\"url(#clip202)\" style=\"stroke:#000000; stroke-linecap:butt; stroke-linejoin:round; stroke-width:4; stroke-opacity:1; fill:none\" points=\"\n",
       "  5361.92,1384.24 5361.92,1384.24 5381.89,1384.24 5361.92,1384.24 \n",
       "  \"/>\n",
       "<path clip-path=\"url(#clip202)\" d=\"\n",
       "M5381.89 1384.24 L5381.89 1384.24 L5401.87 1384.24 L5401.87 1384.24 L5381.89 1384.24 L5381.89 1384.24  Z\n",
       "  \" fill=\"#009af9\" fill-rule=\"evenodd\" fill-opacity=\"1\"/>\n",
       "<polyline clip-path=\"url(#clip202)\" style=\"stroke:#000000; stroke-linecap:butt; stroke-linejoin:round; stroke-width:4; stroke-opacity:1; fill:none\" points=\"\n",
       "  5381.89,1384.24 5381.89,1384.24 5401.87,1384.24 5381.89,1384.24 \n",
       "  \"/>\n",
       "<path clip-path=\"url(#clip202)\" d=\"\n",
       "M5401.87 1384.24 L5401.87 1384.24 L5421.85 1384.24 L5421.85 1384.24 L5401.87 1384.24 L5401.87 1384.24  Z\n",
       "  \" fill=\"#009af9\" fill-rule=\"evenodd\" fill-opacity=\"1\"/>\n",
       "<polyline clip-path=\"url(#clip202)\" style=\"stroke:#000000; stroke-linecap:butt; stroke-linejoin:round; stroke-width:4; stroke-opacity:1; fill:none\" points=\"\n",
       "  5401.87,1384.24 5401.87,1384.24 5421.85,1384.24 5401.87,1384.24 \n",
       "  \"/>\n",
       "<path clip-path=\"url(#clip202)\" d=\"\n",
       "M5421.85 1384.24 L5421.85 1384.24 L5441.83 1384.24 L5441.83 1384.24 L5421.85 1384.24 L5421.85 1384.24  Z\n",
       "  \" fill=\"#009af9\" fill-rule=\"evenodd\" fill-opacity=\"1\"/>\n",
       "<polyline clip-path=\"url(#clip202)\" style=\"stroke:#000000; stroke-linecap:butt; stroke-linejoin:round; stroke-width:4; stroke-opacity:1; fill:none\" points=\"\n",
       "  5421.85,1384.24 5421.85,1384.24 5441.83,1384.24 5421.85,1384.24 \n",
       "  \"/>\n",
       "<path clip-path=\"url(#clip202)\" d=\"\n",
       "M5441.83 1384.24 L5441.83 1384.24 L5461.8 1384.24 L5461.8 1384.24 L5441.83 1384.24 L5441.83 1384.24  Z\n",
       "  \" fill=\"#009af9\" fill-rule=\"evenodd\" fill-opacity=\"1\"/>\n",
       "<polyline clip-path=\"url(#clip202)\" style=\"stroke:#000000; stroke-linecap:butt; stroke-linejoin:round; stroke-width:4; stroke-opacity:1; fill:none\" points=\"\n",
       "  5441.83,1384.24 5441.83,1384.24 5461.8,1384.24 5441.83,1384.24 \n",
       "  \"/>\n",
       "<path clip-path=\"url(#clip202)\" d=\"\n",
       "M5461.8 1384.24 L5461.8 1384.24 L5481.78 1384.24 L5481.78 1384.24 L5461.8 1384.24 L5461.8 1384.24  Z\n",
       "  \" fill=\"#009af9\" fill-rule=\"evenodd\" fill-opacity=\"1\"/>\n",
       "<polyline clip-path=\"url(#clip202)\" style=\"stroke:#000000; stroke-linecap:butt; stroke-linejoin:round; stroke-width:4; stroke-opacity:1; fill:none\" points=\"\n",
       "  5461.8,1384.24 5461.8,1384.24 5481.78,1384.24 5461.8,1384.24 \n",
       "  \"/>\n",
       "<path clip-path=\"url(#clip202)\" d=\"\n",
       "M5481.78 1384.24 L5481.78 1384.24 L5501.76 1384.24 L5501.76 1384.24 L5481.78 1384.24 L5481.78 1384.24  Z\n",
       "  \" fill=\"#009af9\" fill-rule=\"evenodd\" fill-opacity=\"1\"/>\n",
       "<polyline clip-path=\"url(#clip202)\" style=\"stroke:#000000; stroke-linecap:butt; stroke-linejoin:round; stroke-width:4; stroke-opacity:1; fill:none\" points=\"\n",
       "  5481.78,1384.24 5481.78,1384.24 5501.76,1384.24 5481.78,1384.24 \n",
       "  \"/>\n",
       "<path clip-path=\"url(#clip202)\" d=\"\n",
       "M5501.76 1384.24 L5501.76 1384.24 L5521.73 1384.24 L5521.73 1384.24 L5501.76 1384.24 L5501.76 1384.24  Z\n",
       "  \" fill=\"#009af9\" fill-rule=\"evenodd\" fill-opacity=\"1\"/>\n",
       "<polyline clip-path=\"url(#clip202)\" style=\"stroke:#000000; stroke-linecap:butt; stroke-linejoin:round; stroke-width:4; stroke-opacity:1; fill:none\" points=\"\n",
       "  5501.76,1384.24 5501.76,1384.24 5521.73,1384.24 5501.76,1384.24 \n",
       "  \"/>\n",
       "<path clip-path=\"url(#clip202)\" d=\"\n",
       "M5521.73 1384.24 L5521.73 1384.24 L5541.71 1384.24 L5541.71 1384.24 L5521.73 1384.24 L5521.73 1384.24  Z\n",
       "  \" fill=\"#009af9\" fill-rule=\"evenodd\" fill-opacity=\"1\"/>\n",
       "<polyline clip-path=\"url(#clip202)\" style=\"stroke:#000000; stroke-linecap:butt; stroke-linejoin:round; stroke-width:4; stroke-opacity:1; fill:none\" points=\"\n",
       "  5521.73,1384.24 5521.73,1384.24 5541.71,1384.24 5521.73,1384.24 \n",
       "  \"/>\n",
       "<path clip-path=\"url(#clip202)\" d=\"\n",
       "M5541.71 1384.24 L5541.71 1384.24 L5561.69 1384.24 L5561.69 1384.24 L5541.71 1384.24 L5541.71 1384.24  Z\n",
       "  \" fill=\"#009af9\" fill-rule=\"evenodd\" fill-opacity=\"1\"/>\n",
       "<polyline clip-path=\"url(#clip202)\" style=\"stroke:#000000; stroke-linecap:butt; stroke-linejoin:round; stroke-width:4; stroke-opacity:1; fill:none\" points=\"\n",
       "  5541.71,1384.24 5541.71,1384.24 5561.69,1384.24 5541.71,1384.24 \n",
       "  \"/>\n",
       "<path clip-path=\"url(#clip202)\" d=\"\n",
       "M5561.69 1384.24 L5561.69 1384.24 L5581.67 1384.24 L5581.67 1384.24 L5561.69 1384.24 L5561.69 1384.24  Z\n",
       "  \" fill=\"#009af9\" fill-rule=\"evenodd\" fill-opacity=\"1\"/>\n",
       "<polyline clip-path=\"url(#clip202)\" style=\"stroke:#000000; stroke-linecap:butt; stroke-linejoin:round; stroke-width:4; stroke-opacity:1; fill:none\" points=\"\n",
       "  5561.69,1384.24 5561.69,1384.24 5581.67,1384.24 5561.69,1384.24 \n",
       "  \"/>\n",
       "<path clip-path=\"url(#clip202)\" d=\"\n",
       "M5581.67 1384.24 L5581.67 1384.24 L5601.64 1384.24 L5601.64 1384.24 L5581.67 1384.24 L5581.67 1384.24  Z\n",
       "  \" fill=\"#009af9\" fill-rule=\"evenodd\" fill-opacity=\"1\"/>\n",
       "<polyline clip-path=\"url(#clip202)\" style=\"stroke:#000000; stroke-linecap:butt; stroke-linejoin:round; stroke-width:4; stroke-opacity:1; fill:none\" points=\"\n",
       "  5581.67,1384.24 5581.67,1384.24 5601.64,1384.24 5581.67,1384.24 \n",
       "  \"/>\n",
       "<path clip-path=\"url(#clip202)\" d=\"\n",
       "M5601.64 1384.24 L5601.64 1384.24 L5621.62 1384.24 L5621.62 1384.24 L5601.64 1384.24 L5601.64 1384.24  Z\n",
       "  \" fill=\"#009af9\" fill-rule=\"evenodd\" fill-opacity=\"1\"/>\n",
       "<polyline clip-path=\"url(#clip202)\" style=\"stroke:#000000; stroke-linecap:butt; stroke-linejoin:round; stroke-width:4; stroke-opacity:1; fill:none\" points=\"\n",
       "  5601.64,1384.24 5601.64,1384.24 5621.62,1384.24 5601.64,1384.24 \n",
       "  \"/>\n",
       "<path clip-path=\"url(#clip202)\" d=\"\n",
       "M5621.62 1384.24 L5621.62 1384.24 L5641.6 1384.24 L5641.6 1384.24 L5621.62 1384.24 L5621.62 1384.24  Z\n",
       "  \" fill=\"#009af9\" fill-rule=\"evenodd\" fill-opacity=\"1\"/>\n",
       "<polyline clip-path=\"url(#clip202)\" style=\"stroke:#000000; stroke-linecap:butt; stroke-linejoin:round; stroke-width:4; stroke-opacity:1; fill:none\" points=\"\n",
       "  5621.62,1384.24 5621.62,1384.24 5641.6,1384.24 5621.62,1384.24 \n",
       "  \"/>\n",
       "<path clip-path=\"url(#clip202)\" d=\"\n",
       "M5641.6 1384.24 L5641.6 1384.24 L5661.57 1384.24 L5661.57 1384.24 L5641.6 1384.24 L5641.6 1384.24  Z\n",
       "  \" fill=\"#009af9\" fill-rule=\"evenodd\" fill-opacity=\"1\"/>\n",
       "<polyline clip-path=\"url(#clip202)\" style=\"stroke:#000000; stroke-linecap:butt; stroke-linejoin:round; stroke-width:4; stroke-opacity:1; fill:none\" points=\"\n",
       "  5641.6,1384.24 5641.6,1384.24 5661.57,1384.24 5641.6,1384.24 \n",
       "  \"/>\n",
       "<path clip-path=\"url(#clip202)\" d=\"\n",
       "M5661.57 1384.24 L5661.57 1384.24 L5681.55 1384.24 L5681.55 1384.24 L5661.57 1384.24 L5661.57 1384.24  Z\n",
       "  \" fill=\"#009af9\" fill-rule=\"evenodd\" fill-opacity=\"1\"/>\n",
       "<polyline clip-path=\"url(#clip202)\" style=\"stroke:#000000; stroke-linecap:butt; stroke-linejoin:round; stroke-width:4; stroke-opacity:1; fill:none\" points=\"\n",
       "  5661.57,1384.24 5661.57,1384.24 5681.55,1384.24 5661.57,1384.24 \n",
       "  \"/>\n",
       "<path clip-path=\"url(#clip202)\" d=\"\n",
       "M5681.55 1384.24 L5681.55 1384.24 L5701.53 1384.24 L5701.53 1384.24 L5681.55 1384.24 L5681.55 1384.24  Z\n",
       "  \" fill=\"#009af9\" fill-rule=\"evenodd\" fill-opacity=\"1\"/>\n",
       "<polyline clip-path=\"url(#clip202)\" style=\"stroke:#000000; stroke-linecap:butt; stroke-linejoin:round; stroke-width:4; stroke-opacity:1; fill:none\" points=\"\n",
       "  5681.55,1384.24 5681.55,1384.24 5701.53,1384.24 5681.55,1384.24 \n",
       "  \"/>\n",
       "<path clip-path=\"url(#clip202)\" d=\"\n",
       "M5701.53 1384.24 L5701.53 1384.24 L5721.51 1384.24 L5721.51 1384.24 L5701.53 1384.24 L5701.53 1384.24  Z\n",
       "  \" fill=\"#009af9\" fill-rule=\"evenodd\" fill-opacity=\"1\"/>\n",
       "<polyline clip-path=\"url(#clip202)\" style=\"stroke:#000000; stroke-linecap:butt; stroke-linejoin:round; stroke-width:4; stroke-opacity:1; fill:none\" points=\"\n",
       "  5701.53,1384.24 5701.53,1384.24 5721.51,1384.24 5701.53,1384.24 \n",
       "  \"/>\n",
       "<path clip-path=\"url(#clip202)\" d=\"\n",
       "M5721.51 1276.07 L5721.51 1384.24 L5741.48 1384.24 L5741.48 1276.07 L5721.51 1276.07 L5721.51 1276.07  Z\n",
       "  \" fill=\"#009af9\" fill-rule=\"evenodd\" fill-opacity=\"1\"/>\n",
       "<polyline clip-path=\"url(#clip202)\" style=\"stroke:#000000; stroke-linecap:butt; stroke-linejoin:round; stroke-width:4; stroke-opacity:1; fill:none\" points=\"\n",
       "  5721.51,1276.07 5721.51,1384.24 5741.48,1384.24 5741.48,1276.07 5721.51,1276.07 \n",
       "  \"/>\n",
       "<path clip-path=\"url(#clip202)\" d=\"\n",
       "M5741.48 1384.24 L5741.48 1384.24 L5761.46 1384.24 L5761.46 1384.24 L5741.48 1384.24 L5741.48 1384.24  Z\n",
       "  \" fill=\"#009af9\" fill-rule=\"evenodd\" fill-opacity=\"1\"/>\n",
       "<polyline clip-path=\"url(#clip202)\" style=\"stroke:#000000; stroke-linecap:butt; stroke-linejoin:round; stroke-width:4; stroke-opacity:1; fill:none\" points=\"\n",
       "  5741.48,1384.24 5741.48,1384.24 5761.46,1384.24 5741.48,1384.24 \n",
       "  \"/>\n",
       "<path clip-path=\"url(#clip202)\" d=\"\n",
       "M5761.46 1384.24 L5761.46 1384.24 L5781.44 1384.24 L5781.44 1384.24 L5761.46 1384.24 L5761.46 1384.24  Z\n",
       "  \" fill=\"#009af9\" fill-rule=\"evenodd\" fill-opacity=\"1\"/>\n",
       "<polyline clip-path=\"url(#clip202)\" style=\"stroke:#000000; stroke-linecap:butt; stroke-linejoin:round; stroke-width:4; stroke-opacity:1; fill:none\" points=\"\n",
       "  5761.46,1384.24 5761.46,1384.24 5781.44,1384.24 5761.46,1384.24 \n",
       "  \"/>\n",
       "<path clip-path=\"url(#clip202)\" d=\"\n",
       "M5781.44 1384.24 L5781.44 1384.24 L5801.41 1384.24 L5801.41 1384.24 L5781.44 1384.24 L5781.44 1384.24  Z\n",
       "  \" fill=\"#009af9\" fill-rule=\"evenodd\" fill-opacity=\"1\"/>\n",
       "<polyline clip-path=\"url(#clip202)\" style=\"stroke:#000000; stroke-linecap:butt; stroke-linejoin:round; stroke-width:4; stroke-opacity:1; fill:none\" points=\"\n",
       "  5781.44,1384.24 5781.44,1384.24 5801.41,1384.24 5781.44,1384.24 \n",
       "  \"/>\n",
       "<path clip-path=\"url(#clip202)\" d=\"\n",
       "M5801.41 1384.24 L5801.41 1384.24 L5821.39 1384.24 L5821.39 1384.24 L5801.41 1384.24 L5801.41 1384.24  Z\n",
       "  \" fill=\"#009af9\" fill-rule=\"evenodd\" fill-opacity=\"1\"/>\n",
       "<polyline clip-path=\"url(#clip202)\" style=\"stroke:#000000; stroke-linecap:butt; stroke-linejoin:round; stroke-width:4; stroke-opacity:1; fill:none\" points=\"\n",
       "  5801.41,1384.24 5801.41,1384.24 5821.39,1384.24 5801.41,1384.24 \n",
       "  \"/>\n",
       "<path clip-path=\"url(#clip202)\" d=\"\n",
       "M5821.39 1384.24 L5821.39 1384.24 L5841.37 1384.24 L5841.37 1384.24 L5821.39 1384.24 L5821.39 1384.24  Z\n",
       "  \" fill=\"#009af9\" fill-rule=\"evenodd\" fill-opacity=\"1\"/>\n",
       "<polyline clip-path=\"url(#clip202)\" style=\"stroke:#000000; stroke-linecap:butt; stroke-linejoin:round; stroke-width:4; stroke-opacity:1; fill:none\" points=\"\n",
       "  5821.39,1384.24 5821.39,1384.24 5841.37,1384.24 5821.39,1384.24 \n",
       "  \"/>\n",
       "<path clip-path=\"url(#clip202)\" d=\"\n",
       "M5841.37 1384.24 L5841.37 1384.24 L5861.35 1384.24 L5861.35 1384.24 L5841.37 1384.24 L5841.37 1384.24  Z\n",
       "  \" fill=\"#009af9\" fill-rule=\"evenodd\" fill-opacity=\"1\"/>\n",
       "<polyline clip-path=\"url(#clip202)\" style=\"stroke:#000000; stroke-linecap:butt; stroke-linejoin:round; stroke-width:4; stroke-opacity:1; fill:none\" points=\"\n",
       "  5841.37,1384.24 5841.37,1384.24 5861.35,1384.24 5841.37,1384.24 \n",
       "  \"/>\n",
       "<path clip-path=\"url(#clip202)\" d=\"\n",
       "M5861.35 1384.24 L5861.35 1384.24 L5881.32 1384.24 L5881.32 1384.24 L5861.35 1384.24 L5861.35 1384.24  Z\n",
       "  \" fill=\"#009af9\" fill-rule=\"evenodd\" fill-opacity=\"1\"/>\n",
       "<polyline clip-path=\"url(#clip202)\" style=\"stroke:#000000; stroke-linecap:butt; stroke-linejoin:round; stroke-width:4; stroke-opacity:1; fill:none\" points=\"\n",
       "  5861.35,1384.24 5861.35,1384.24 5881.32,1384.24 5861.35,1384.24 \n",
       "  \"/>\n",
       "<path clip-path=\"url(#clip202)\" d=\"\n",
       "M5881.32 1384.24 L5881.32 1384.24 L5901.3 1384.24 L5901.3 1384.24 L5881.32 1384.24 L5881.32 1384.24  Z\n",
       "  \" fill=\"#009af9\" fill-rule=\"evenodd\" fill-opacity=\"1\"/>\n",
       "<polyline clip-path=\"url(#clip202)\" style=\"stroke:#000000; stroke-linecap:butt; stroke-linejoin:round; stroke-width:4; stroke-opacity:1; fill:none\" points=\"\n",
       "  5881.32,1384.24 5881.32,1384.24 5901.3,1384.24 5881.32,1384.24 \n",
       "  \"/>\n",
       "<path clip-path=\"url(#clip202)\" d=\"\n",
       "M5901.3 1384.24 L5901.3 1384.24 L5921.28 1384.24 L5921.28 1384.24 L5901.3 1384.24 L5901.3 1384.24  Z\n",
       "  \" fill=\"#009af9\" fill-rule=\"evenodd\" fill-opacity=\"1\"/>\n",
       "<polyline clip-path=\"url(#clip202)\" style=\"stroke:#000000; stroke-linecap:butt; stroke-linejoin:round; stroke-width:4; stroke-opacity:1; fill:none\" points=\"\n",
       "  5901.3,1384.24 5901.3,1384.24 5921.28,1384.24 5901.3,1384.24 \n",
       "  \"/>\n",
       "<path clip-path=\"url(#clip202)\" d=\"\n",
       "M5921.28 1384.24 L5921.28 1384.24 L5941.26 1384.24 L5941.26 1384.24 L5921.28 1384.24 L5921.28 1384.24  Z\n",
       "  \" fill=\"#009af9\" fill-rule=\"evenodd\" fill-opacity=\"1\"/>\n",
       "<polyline clip-path=\"url(#clip202)\" style=\"stroke:#000000; stroke-linecap:butt; stroke-linejoin:round; stroke-width:4; stroke-opacity:1; fill:none\" points=\"\n",
       "  5921.28,1384.24 5921.28,1384.24 5941.26,1384.24 5921.28,1384.24 \n",
       "  \"/>\n",
       "<path clip-path=\"url(#clip202)\" d=\"\n",
       "M5941.26 1384.24 L5941.26 1384.24 L5961.23 1384.24 L5961.23 1384.24 L5941.26 1384.24 L5941.26 1384.24  Z\n",
       "  \" fill=\"#009af9\" fill-rule=\"evenodd\" fill-opacity=\"1\"/>\n",
       "<polyline clip-path=\"url(#clip202)\" style=\"stroke:#000000; stroke-linecap:butt; stroke-linejoin:round; stroke-width:4; stroke-opacity:1; fill:none\" points=\"\n",
       "  5941.26,1384.24 5941.26,1384.24 5961.23,1384.24 5941.26,1384.24 \n",
       "  \"/>\n",
       "<path clip-path=\"url(#clip202)\" d=\"\n",
       "M5961.23 1384.24 L5961.23 1384.24 L5981.21 1384.24 L5981.21 1384.24 L5961.23 1384.24 L5961.23 1384.24  Z\n",
       "  \" fill=\"#009af9\" fill-rule=\"evenodd\" fill-opacity=\"1\"/>\n",
       "<polyline clip-path=\"url(#clip202)\" style=\"stroke:#000000; stroke-linecap:butt; stroke-linejoin:round; stroke-width:4; stroke-opacity:1; fill:none\" points=\"\n",
       "  5961.23,1384.24 5961.23,1384.24 5981.21,1384.24 5961.23,1384.24 \n",
       "  \"/>\n",
       "<path clip-path=\"url(#clip202)\" d=\"\n",
       "M5981.21 1384.24 L5981.21 1384.24 L6001.19 1384.24 L6001.19 1384.24 L5981.21 1384.24 L5981.21 1384.24  Z\n",
       "  \" fill=\"#009af9\" fill-rule=\"evenodd\" fill-opacity=\"1\"/>\n",
       "<polyline clip-path=\"url(#clip202)\" style=\"stroke:#000000; stroke-linecap:butt; stroke-linejoin:round; stroke-width:4; stroke-opacity:1; fill:none\" points=\"\n",
       "  5981.21,1384.24 5981.21,1384.24 6001.19,1384.24 5981.21,1384.24 \n",
       "  \"/>\n",
       "<path clip-path=\"url(#clip202)\" d=\"\n",
       "M6001.19 1384.24 L6001.19 1384.24 L6021.16 1384.24 L6021.16 1384.24 L6001.19 1384.24 L6001.19 1384.24  Z\n",
       "  \" fill=\"#009af9\" fill-rule=\"evenodd\" fill-opacity=\"1\"/>\n",
       "<polyline clip-path=\"url(#clip202)\" style=\"stroke:#000000; stroke-linecap:butt; stroke-linejoin:round; stroke-width:4; stroke-opacity:1; fill:none\" points=\"\n",
       "  6001.19,1384.24 6001.19,1384.24 6021.16,1384.24 6001.19,1384.24 \n",
       "  \"/>\n",
       "<path clip-path=\"url(#clip202)\" d=\"\n",
       "M6021.16 1384.24 L6021.16 1384.24 L6041.14 1384.24 L6041.14 1384.24 L6021.16 1384.24 L6021.16 1384.24  Z\n",
       "  \" fill=\"#009af9\" fill-rule=\"evenodd\" fill-opacity=\"1\"/>\n",
       "<polyline clip-path=\"url(#clip202)\" style=\"stroke:#000000; stroke-linecap:butt; stroke-linejoin:round; stroke-width:4; stroke-opacity:1; fill:none\" points=\"\n",
       "  6021.16,1384.24 6021.16,1384.24 6041.14,1384.24 6021.16,1384.24 \n",
       "  \"/>\n",
       "<path clip-path=\"url(#clip202)\" d=\"\n",
       "M6041.14 1384.24 L6041.14 1384.24 L6061.12 1384.24 L6061.12 1384.24 L6041.14 1384.24 L6041.14 1384.24  Z\n",
       "  \" fill=\"#009af9\" fill-rule=\"evenodd\" fill-opacity=\"1\"/>\n",
       "<polyline clip-path=\"url(#clip202)\" style=\"stroke:#000000; stroke-linecap:butt; stroke-linejoin:round; stroke-width:4; stroke-opacity:1; fill:none\" points=\"\n",
       "  6041.14,1384.24 6041.14,1384.24 6061.12,1384.24 6041.14,1384.24 \n",
       "  \"/>\n",
       "<path clip-path=\"url(#clip202)\" d=\"\n",
       "M6061.12 1384.24 L6061.12 1384.24 L6081.1 1384.24 L6081.1 1384.24 L6061.12 1384.24 L6061.12 1384.24  Z\n",
       "  \" fill=\"#009af9\" fill-rule=\"evenodd\" fill-opacity=\"1\"/>\n",
       "<polyline clip-path=\"url(#clip202)\" style=\"stroke:#000000; stroke-linecap:butt; stroke-linejoin:round; stroke-width:4; stroke-opacity:1; fill:none\" points=\"\n",
       "  6061.12,1384.24 6061.12,1384.24 6081.1,1384.24 6061.12,1384.24 \n",
       "  \"/>\n",
       "<path clip-path=\"url(#clip202)\" d=\"\n",
       "M6081.1 1384.24 L6081.1 1384.24 L6101.07 1384.24 L6101.07 1384.24 L6081.1 1384.24 L6081.1 1384.24  Z\n",
       "  \" fill=\"#009af9\" fill-rule=\"evenodd\" fill-opacity=\"1\"/>\n",
       "<polyline clip-path=\"url(#clip202)\" style=\"stroke:#000000; stroke-linecap:butt; stroke-linejoin:round; stroke-width:4; stroke-opacity:1; fill:none\" points=\"\n",
       "  6081.1,1384.24 6081.1,1384.24 6101.07,1384.24 6081.1,1384.24 \n",
       "  \"/>\n",
       "<path clip-path=\"url(#clip202)\" d=\"\n",
       "M6101.07 1384.24 L6101.07 1384.24 L6121.05 1384.24 L6121.05 1384.24 L6101.07 1384.24 L6101.07 1384.24  Z\n",
       "  \" fill=\"#009af9\" fill-rule=\"evenodd\" fill-opacity=\"1\"/>\n",
       "<polyline clip-path=\"url(#clip202)\" style=\"stroke:#000000; stroke-linecap:butt; stroke-linejoin:round; stroke-width:4; stroke-opacity:1; fill:none\" points=\"\n",
       "  6101.07,1384.24 6101.07,1384.24 6121.05,1384.24 6101.07,1384.24 \n",
       "  \"/>\n",
       "<path clip-path=\"url(#clip202)\" d=\"\n",
       "M6121.05 1384.24 L6121.05 1384.24 L6141.03 1384.24 L6141.03 1384.24 L6121.05 1384.24 L6121.05 1384.24  Z\n",
       "  \" fill=\"#009af9\" fill-rule=\"evenodd\" fill-opacity=\"1\"/>\n",
       "<polyline clip-path=\"url(#clip202)\" style=\"stroke:#000000; stroke-linecap:butt; stroke-linejoin:round; stroke-width:4; stroke-opacity:1; fill:none\" points=\"\n",
       "  6121.05,1384.24 6121.05,1384.24 6141.03,1384.24 6121.05,1384.24 \n",
       "  \"/>\n",
       "<path clip-path=\"url(#clip202)\" d=\"\n",
       "M6141.03 1384.24 L6141.03 1384.24 L6161 1384.24 L6161 1384.24 L6141.03 1384.24 L6141.03 1384.24  Z\n",
       "  \" fill=\"#009af9\" fill-rule=\"evenodd\" fill-opacity=\"1\"/>\n",
       "<polyline clip-path=\"url(#clip202)\" style=\"stroke:#000000; stroke-linecap:butt; stroke-linejoin:round; stroke-width:4; stroke-opacity:1; fill:none\" points=\"\n",
       "  6141.03,1384.24 6141.03,1384.24 6161,1384.24 6141.03,1384.24 \n",
       "  \"/>\n",
       "<path clip-path=\"url(#clip202)\" d=\"\n",
       "M6161 1384.24 L6161 1384.24 L6180.98 1384.24 L6180.98 1384.24 L6161 1384.24 L6161 1384.24  Z\n",
       "  \" fill=\"#009af9\" fill-rule=\"evenodd\" fill-opacity=\"1\"/>\n",
       "<polyline clip-path=\"url(#clip202)\" style=\"stroke:#000000; stroke-linecap:butt; stroke-linejoin:round; stroke-width:4; stroke-opacity:1; fill:none\" points=\"\n",
       "  6161,1384.24 6161,1384.24 6180.98,1384.24 6161,1384.24 \n",
       "  \"/>\n",
       "<path clip-path=\"url(#clip202)\" d=\"\n",
       "M6180.98 1384.24 L6180.98 1384.24 L6200.96 1384.24 L6200.96 1384.24 L6180.98 1384.24 L6180.98 1384.24  Z\n",
       "  \" fill=\"#009af9\" fill-rule=\"evenodd\" fill-opacity=\"1\"/>\n",
       "<polyline clip-path=\"url(#clip202)\" style=\"stroke:#000000; stroke-linecap:butt; stroke-linejoin:round; stroke-width:4; stroke-opacity:1; fill:none\" points=\"\n",
       "  6180.98,1384.24 6180.98,1384.24 6200.96,1384.24 6180.98,1384.24 \n",
       "  \"/>\n",
       "<path clip-path=\"url(#clip202)\" d=\"\n",
       "M6200.96 1384.24 L6200.96 1384.24 L6220.94 1384.24 L6220.94 1384.24 L6200.96 1384.24 L6200.96 1384.24  Z\n",
       "  \" fill=\"#009af9\" fill-rule=\"evenodd\" fill-opacity=\"1\"/>\n",
       "<polyline clip-path=\"url(#clip202)\" style=\"stroke:#000000; stroke-linecap:butt; stroke-linejoin:round; stroke-width:4; stroke-opacity:1; fill:none\" points=\"\n",
       "  6200.96,1384.24 6200.96,1384.24 6220.94,1384.24 6200.96,1384.24 \n",
       "  \"/>\n",
       "<path clip-path=\"url(#clip202)\" d=\"\n",
       "M6220.94 1384.24 L6220.94 1384.24 L6240.91 1384.24 L6240.91 1384.24 L6220.94 1384.24 L6220.94 1384.24  Z\n",
       "  \" fill=\"#009af9\" fill-rule=\"evenodd\" fill-opacity=\"1\"/>\n",
       "<polyline clip-path=\"url(#clip202)\" style=\"stroke:#000000; stroke-linecap:butt; stroke-linejoin:round; stroke-width:4; stroke-opacity:1; fill:none\" points=\"\n",
       "  6220.94,1384.24 6220.94,1384.24 6240.91,1384.24 6220.94,1384.24 \n",
       "  \"/>\n",
       "<path clip-path=\"url(#clip202)\" d=\"\n",
       "M6240.91 1384.24 L6240.91 1384.24 L6260.89 1384.24 L6260.89 1384.24 L6240.91 1384.24 L6240.91 1384.24  Z\n",
       "  \" fill=\"#009af9\" fill-rule=\"evenodd\" fill-opacity=\"1\"/>\n",
       "<polyline clip-path=\"url(#clip202)\" style=\"stroke:#000000; stroke-linecap:butt; stroke-linejoin:round; stroke-width:4; stroke-opacity:1; fill:none\" points=\"\n",
       "  6240.91,1384.24 6240.91,1384.24 6260.89,1384.24 6240.91,1384.24 \n",
       "  \"/>\n",
       "<path clip-path=\"url(#clip202)\" d=\"\n",
       "M6260.89 1384.24 L6260.89 1384.24 L6280.87 1384.24 L6280.87 1384.24 L6260.89 1384.24 L6260.89 1384.24  Z\n",
       "  \" fill=\"#009af9\" fill-rule=\"evenodd\" fill-opacity=\"1\"/>\n",
       "<polyline clip-path=\"url(#clip202)\" style=\"stroke:#000000; stroke-linecap:butt; stroke-linejoin:round; stroke-width:4; stroke-opacity:1; fill:none\" points=\"\n",
       "  6260.89,1384.24 6260.89,1384.24 6280.87,1384.24 6260.89,1384.24 \n",
       "  \"/>\n",
       "<path clip-path=\"url(#clip202)\" d=\"\n",
       "M6280.87 1384.24 L6280.87 1384.24 L6300.85 1384.24 L6300.85 1384.24 L6280.87 1384.24 L6280.87 1384.24  Z\n",
       "  \" fill=\"#009af9\" fill-rule=\"evenodd\" fill-opacity=\"1\"/>\n",
       "<polyline clip-path=\"url(#clip202)\" style=\"stroke:#000000; stroke-linecap:butt; stroke-linejoin:round; stroke-width:4; stroke-opacity:1; fill:none\" points=\"\n",
       "  6280.87,1384.24 6280.87,1384.24 6300.85,1384.24 6280.87,1384.24 \n",
       "  \"/>\n",
       "<path clip-path=\"url(#clip202)\" d=\"\n",
       "M6300.85 1384.24 L6300.85 1384.24 L6320.82 1384.24 L6320.82 1384.24 L6300.85 1384.24 L6300.85 1384.24  Z\n",
       "  \" fill=\"#009af9\" fill-rule=\"evenodd\" fill-opacity=\"1\"/>\n",
       "<polyline clip-path=\"url(#clip202)\" style=\"stroke:#000000; stroke-linecap:butt; stroke-linejoin:round; stroke-width:4; stroke-opacity:1; fill:none\" points=\"\n",
       "  6300.85,1384.24 6300.85,1384.24 6320.82,1384.24 6300.85,1384.24 \n",
       "  \"/>\n",
       "<path clip-path=\"url(#clip202)\" d=\"\n",
       "M6320.82 1384.24 L6320.82 1384.24 L6340.8 1384.24 L6340.8 1384.24 L6320.82 1384.24 L6320.82 1384.24  Z\n",
       "  \" fill=\"#009af9\" fill-rule=\"evenodd\" fill-opacity=\"1\"/>\n",
       "<polyline clip-path=\"url(#clip202)\" style=\"stroke:#000000; stroke-linecap:butt; stroke-linejoin:round; stroke-width:4; stroke-opacity:1; fill:none\" points=\"\n",
       "  6320.82,1384.24 6320.82,1384.24 6340.8,1384.24 6320.82,1384.24 \n",
       "  \"/>\n",
       "<path clip-path=\"url(#clip202)\" d=\"\n",
       "M6340.8 1276.07 L6340.8 1384.24 L6360.78 1384.24 L6360.78 1276.07 L6340.8 1276.07 L6340.8 1276.07  Z\n",
       "  \" fill=\"#009af9\" fill-rule=\"evenodd\" fill-opacity=\"1\"/>\n",
       "<polyline clip-path=\"url(#clip202)\" style=\"stroke:#000000; stroke-linecap:butt; stroke-linejoin:round; stroke-width:4; stroke-opacity:1; fill:none\" points=\"\n",
       "  6340.8,1276.07 6340.8,1384.24 6360.78,1384.24 6360.78,1276.07 6340.8,1276.07 \n",
       "  \"/>\n",
       "<path clip-path=\"url(#clip202)\" d=\"\n",
       "M6360.78 1384.24 L6360.78 1384.24 L6380.75 1384.24 L6380.75 1384.24 L6360.78 1384.24 L6360.78 1384.24  Z\n",
       "  \" fill=\"#009af9\" fill-rule=\"evenodd\" fill-opacity=\"1\"/>\n",
       "<polyline clip-path=\"url(#clip202)\" style=\"stroke:#000000; stroke-linecap:butt; stroke-linejoin:round; stroke-width:4; stroke-opacity:1; fill:none\" points=\"\n",
       "  6360.78,1384.24 6360.78,1384.24 6380.75,1384.24 6360.78,1384.24 \n",
       "  \"/>\n",
       "<path clip-path=\"url(#clip202)\" d=\"\n",
       "M6380.75 1276.07 L6380.75 1384.24 L6400.73 1384.24 L6400.73 1276.07 L6380.75 1276.07 L6380.75 1276.07  Z\n",
       "  \" fill=\"#009af9\" fill-rule=\"evenodd\" fill-opacity=\"1\"/>\n",
       "<polyline clip-path=\"url(#clip202)\" style=\"stroke:#000000; stroke-linecap:butt; stroke-linejoin:round; stroke-width:4; stroke-opacity:1; fill:none\" points=\"\n",
       "  6380.75,1276.07 6380.75,1384.24 6400.73,1384.24 6400.73,1276.07 6380.75,1276.07 \n",
       "  \"/>\n",
       "<path clip-path=\"url(#clip202)\" d=\"\n",
       "M6400.73 1384.24 L6400.73 1384.24 L6420.71 1384.24 L6420.71 1384.24 L6400.73 1384.24 L6400.73 1384.24  Z\n",
       "  \" fill=\"#009af9\" fill-rule=\"evenodd\" fill-opacity=\"1\"/>\n",
       "<polyline clip-path=\"url(#clip202)\" style=\"stroke:#000000; stroke-linecap:butt; stroke-linejoin:round; stroke-width:4; stroke-opacity:1; fill:none\" points=\"\n",
       "  6400.73,1384.24 6400.73,1384.24 6420.71,1384.24 6400.73,1384.24 \n",
       "  \"/>\n",
       "<path clip-path=\"url(#clip202)\" d=\"\n",
       "M6420.71 1384.24 L6420.71 1384.24 L6440.69 1384.24 L6440.69 1384.24 L6420.71 1384.24 L6420.71 1384.24  Z\n",
       "  \" fill=\"#009af9\" fill-rule=\"evenodd\" fill-opacity=\"1\"/>\n",
       "<polyline clip-path=\"url(#clip202)\" style=\"stroke:#000000; stroke-linecap:butt; stroke-linejoin:round; stroke-width:4; stroke-opacity:1; fill:none\" points=\"\n",
       "  6420.71,1384.24 6420.71,1384.24 6440.69,1384.24 6420.71,1384.24 \n",
       "  \"/>\n",
       "<path clip-path=\"url(#clip202)\" d=\"\n",
       "M6440.69 1384.24 L6440.69 1384.24 L6460.66 1384.24 L6460.66 1384.24 L6440.69 1384.24 L6440.69 1384.24  Z\n",
       "  \" fill=\"#009af9\" fill-rule=\"evenodd\" fill-opacity=\"1\"/>\n",
       "<polyline clip-path=\"url(#clip202)\" style=\"stroke:#000000; stroke-linecap:butt; stroke-linejoin:round; stroke-width:4; stroke-opacity:1; fill:none\" points=\"\n",
       "  6440.69,1384.24 6440.69,1384.24 6460.66,1384.24 6440.69,1384.24 \n",
       "  \"/>\n",
       "<path clip-path=\"url(#clip202)\" d=\"\n",
       "M6460.66 1384.24 L6460.66 1384.24 L6480.64 1384.24 L6480.64 1384.24 L6460.66 1384.24 L6460.66 1384.24  Z\n",
       "  \" fill=\"#009af9\" fill-rule=\"evenodd\" fill-opacity=\"1\"/>\n",
       "<polyline clip-path=\"url(#clip202)\" style=\"stroke:#000000; stroke-linecap:butt; stroke-linejoin:round; stroke-width:4; stroke-opacity:1; fill:none\" points=\"\n",
       "  6460.66,1384.24 6460.66,1384.24 6480.64,1384.24 6460.66,1384.24 \n",
       "  \"/>\n",
       "<path clip-path=\"url(#clip202)\" d=\"\n",
       "M6480.64 1384.24 L6480.64 1384.24 L6500.62 1384.24 L6500.62 1384.24 L6480.64 1384.24 L6480.64 1384.24  Z\n",
       "  \" fill=\"#009af9\" fill-rule=\"evenodd\" fill-opacity=\"1\"/>\n",
       "<polyline clip-path=\"url(#clip202)\" style=\"stroke:#000000; stroke-linecap:butt; stroke-linejoin:round; stroke-width:4; stroke-opacity:1; fill:none\" points=\"\n",
       "  6480.64,1384.24 6480.64,1384.24 6500.62,1384.24 6480.64,1384.24 \n",
       "  \"/>\n",
       "<path clip-path=\"url(#clip202)\" d=\"\n",
       "M6500.62 1384.24 L6500.62 1384.24 L6520.59 1384.24 L6520.59 1384.24 L6500.62 1384.24 L6500.62 1384.24  Z\n",
       "  \" fill=\"#009af9\" fill-rule=\"evenodd\" fill-opacity=\"1\"/>\n",
       "<polyline clip-path=\"url(#clip202)\" style=\"stroke:#000000; stroke-linecap:butt; stroke-linejoin:round; stroke-width:4; stroke-opacity:1; fill:none\" points=\"\n",
       "  6500.62,1384.24 6500.62,1384.24 6520.59,1384.24 6500.62,1384.24 \n",
       "  \"/>\n",
       "<path clip-path=\"url(#clip202)\" d=\"\n",
       "M6520.59 1384.24 L6520.59 1384.24 L6540.57 1384.24 L6540.57 1384.24 L6520.59 1384.24 L6520.59 1384.24  Z\n",
       "  \" fill=\"#009af9\" fill-rule=\"evenodd\" fill-opacity=\"1\"/>\n",
       "<polyline clip-path=\"url(#clip202)\" style=\"stroke:#000000; stroke-linecap:butt; stroke-linejoin:round; stroke-width:4; stroke-opacity:1; fill:none\" points=\"\n",
       "  6520.59,1384.24 6520.59,1384.24 6540.57,1384.24 6520.59,1384.24 \n",
       "  \"/>\n",
       "<path clip-path=\"url(#clip202)\" d=\"\n",
       "M6540.57 1384.24 L6540.57 1384.24 L6560.55 1384.24 L6560.55 1384.24 L6540.57 1384.24 L6540.57 1384.24  Z\n",
       "  \" fill=\"#009af9\" fill-rule=\"evenodd\" fill-opacity=\"1\"/>\n",
       "<polyline clip-path=\"url(#clip202)\" style=\"stroke:#000000; stroke-linecap:butt; stroke-linejoin:round; stroke-width:4; stroke-opacity:1; fill:none\" points=\"\n",
       "  6540.57,1384.24 6540.57,1384.24 6560.55,1384.24 6540.57,1384.24 \n",
       "  \"/>\n",
       "<path clip-path=\"url(#clip202)\" d=\"\n",
       "M6560.55 1384.24 L6560.55 1384.24 L6580.53 1384.24 L6580.53 1384.24 L6560.55 1384.24 L6560.55 1384.24  Z\n",
       "  \" fill=\"#009af9\" fill-rule=\"evenodd\" fill-opacity=\"1\"/>\n",
       "<polyline clip-path=\"url(#clip202)\" style=\"stroke:#000000; stroke-linecap:butt; stroke-linejoin:round; stroke-width:4; stroke-opacity:1; fill:none\" points=\"\n",
       "  6560.55,1384.24 6560.55,1384.24 6580.53,1384.24 6560.55,1384.24 \n",
       "  \"/>\n",
       "<path clip-path=\"url(#clip202)\" d=\"\n",
       "M6580.53 1384.24 L6580.53 1384.24 L6600.5 1384.24 L6600.5 1384.24 L6580.53 1384.24 L6580.53 1384.24  Z\n",
       "  \" fill=\"#009af9\" fill-rule=\"evenodd\" fill-opacity=\"1\"/>\n",
       "<polyline clip-path=\"url(#clip202)\" style=\"stroke:#000000; stroke-linecap:butt; stroke-linejoin:round; stroke-width:4; stroke-opacity:1; fill:none\" points=\"\n",
       "  6580.53,1384.24 6580.53,1384.24 6600.5,1384.24 6580.53,1384.24 \n",
       "  \"/>\n",
       "<path clip-path=\"url(#clip202)\" d=\"\n",
       "M6600.5 1384.24 L6600.5 1384.24 L6620.48 1384.24 L6620.48 1384.24 L6600.5 1384.24 L6600.5 1384.24  Z\n",
       "  \" fill=\"#009af9\" fill-rule=\"evenodd\" fill-opacity=\"1\"/>\n",
       "<polyline clip-path=\"url(#clip202)\" style=\"stroke:#000000; stroke-linecap:butt; stroke-linejoin:round; stroke-width:4; stroke-opacity:1; fill:none\" points=\"\n",
       "  6600.5,1384.24 6600.5,1384.24 6620.48,1384.24 6600.5,1384.24 \n",
       "  \"/>\n",
       "<path clip-path=\"url(#clip202)\" d=\"\n",
       "M6620.48 1384.24 L6620.48 1384.24 L6640.46 1384.24 L6640.46 1384.24 L6620.48 1384.24 L6620.48 1384.24  Z\n",
       "  \" fill=\"#009af9\" fill-rule=\"evenodd\" fill-opacity=\"1\"/>\n",
       "<polyline clip-path=\"url(#clip202)\" style=\"stroke:#000000; stroke-linecap:butt; stroke-linejoin:round; stroke-width:4; stroke-opacity:1; fill:none\" points=\"\n",
       "  6620.48,1384.24 6620.48,1384.24 6640.46,1384.24 6620.48,1384.24 \n",
       "  \"/>\n",
       "<path clip-path=\"url(#clip202)\" d=\"\n",
       "M6640.46 1384.24 L6640.46 1384.24 L6660.44 1384.24 L6660.44 1384.24 L6640.46 1384.24 L6640.46 1384.24  Z\n",
       "  \" fill=\"#009af9\" fill-rule=\"evenodd\" fill-opacity=\"1\"/>\n",
       "<polyline clip-path=\"url(#clip202)\" style=\"stroke:#000000; stroke-linecap:butt; stroke-linejoin:round; stroke-width:4; stroke-opacity:1; fill:none\" points=\"\n",
       "  6640.46,1384.24 6640.46,1384.24 6660.44,1384.24 6640.46,1384.24 \n",
       "  \"/>\n",
       "<path clip-path=\"url(#clip202)\" d=\"\n",
       "M6660.44 1384.24 L6660.44 1384.24 L6680.41 1384.24 L6680.41 1384.24 L6660.44 1384.24 L6660.44 1384.24  Z\n",
       "  \" fill=\"#009af9\" fill-rule=\"evenodd\" fill-opacity=\"1\"/>\n",
       "<polyline clip-path=\"url(#clip202)\" style=\"stroke:#000000; stroke-linecap:butt; stroke-linejoin:round; stroke-width:4; stroke-opacity:1; fill:none\" points=\"\n",
       "  6660.44,1384.24 6660.44,1384.24 6680.41,1384.24 6660.44,1384.24 \n",
       "  \"/>\n",
       "<path clip-path=\"url(#clip202)\" d=\"\n",
       "M6680.41 1384.24 L6680.41 1384.24 L6700.39 1384.24 L6700.39 1384.24 L6680.41 1384.24 L6680.41 1384.24  Z\n",
       "  \" fill=\"#009af9\" fill-rule=\"evenodd\" fill-opacity=\"1\"/>\n",
       "<polyline clip-path=\"url(#clip202)\" style=\"stroke:#000000; stroke-linecap:butt; stroke-linejoin:round; stroke-width:4; stroke-opacity:1; fill:none\" points=\"\n",
       "  6680.41,1384.24 6680.41,1384.24 6700.39,1384.24 6680.41,1384.24 \n",
       "  \"/>\n",
       "<path clip-path=\"url(#clip202)\" d=\"\n",
       "M6700.39 1384.24 L6700.39 1384.24 L6720.37 1384.24 L6720.37 1384.24 L6700.39 1384.24 L6700.39 1384.24  Z\n",
       "  \" fill=\"#009af9\" fill-rule=\"evenodd\" fill-opacity=\"1\"/>\n",
       "<polyline clip-path=\"url(#clip202)\" style=\"stroke:#000000; stroke-linecap:butt; stroke-linejoin:round; stroke-width:4; stroke-opacity:1; fill:none\" points=\"\n",
       "  6700.39,1384.24 6700.39,1384.24 6720.37,1384.24 6700.39,1384.24 \n",
       "  \"/>\n",
       "<path clip-path=\"url(#clip202)\" d=\"\n",
       "M6720.37 1384.24 L6720.37 1384.24 L6740.34 1384.24 L6740.34 1384.24 L6720.37 1384.24 L6720.37 1384.24  Z\n",
       "  \" fill=\"#009af9\" fill-rule=\"evenodd\" fill-opacity=\"1\"/>\n",
       "<polyline clip-path=\"url(#clip202)\" style=\"stroke:#000000; stroke-linecap:butt; stroke-linejoin:round; stroke-width:4; stroke-opacity:1; fill:none\" points=\"\n",
       "  6720.37,1384.24 6720.37,1384.24 6740.34,1384.24 6720.37,1384.24 \n",
       "  \"/>\n",
       "<path clip-path=\"url(#clip202)\" d=\"\n",
       "M6740.34 1384.24 L6740.34 1384.24 L6760.32 1384.24 L6760.32 1384.24 L6740.34 1384.24 L6740.34 1384.24  Z\n",
       "  \" fill=\"#009af9\" fill-rule=\"evenodd\" fill-opacity=\"1\"/>\n",
       "<polyline clip-path=\"url(#clip202)\" style=\"stroke:#000000; stroke-linecap:butt; stroke-linejoin:round; stroke-width:4; stroke-opacity:1; fill:none\" points=\"\n",
       "  6740.34,1384.24 6740.34,1384.24 6760.32,1384.24 6740.34,1384.24 \n",
       "  \"/>\n",
       "<path clip-path=\"url(#clip202)\" d=\"\n",
       "M6760.32 1384.24 L6760.32 1384.24 L6780.3 1384.24 L6780.3 1384.24 L6760.32 1384.24 L6760.32 1384.24  Z\n",
       "  \" fill=\"#009af9\" fill-rule=\"evenodd\" fill-opacity=\"1\"/>\n",
       "<polyline clip-path=\"url(#clip202)\" style=\"stroke:#000000; stroke-linecap:butt; stroke-linejoin:round; stroke-width:4; stroke-opacity:1; fill:none\" points=\"\n",
       "  6760.32,1384.24 6760.32,1384.24 6780.3,1384.24 6760.32,1384.24 \n",
       "  \"/>\n",
       "<path clip-path=\"url(#clip202)\" d=\"\n",
       "M6780.3 1384.24 L6780.3 1384.24 L6800.28 1384.24 L6800.28 1384.24 L6780.3 1384.24 L6780.3 1384.24  Z\n",
       "  \" fill=\"#009af9\" fill-rule=\"evenodd\" fill-opacity=\"1\"/>\n",
       "<polyline clip-path=\"url(#clip202)\" style=\"stroke:#000000; stroke-linecap:butt; stroke-linejoin:round; stroke-width:4; stroke-opacity:1; fill:none\" points=\"\n",
       "  6780.3,1384.24 6780.3,1384.24 6800.28,1384.24 6780.3,1384.24 \n",
       "  \"/>\n",
       "<path clip-path=\"url(#clip202)\" d=\"\n",
       "M6800.28 1384.24 L6800.28 1384.24 L6820.25 1384.24 L6820.25 1384.24 L6800.28 1384.24 L6800.28 1384.24  Z\n",
       "  \" fill=\"#009af9\" fill-rule=\"evenodd\" fill-opacity=\"1\"/>\n",
       "<polyline clip-path=\"url(#clip202)\" style=\"stroke:#000000; stroke-linecap:butt; stroke-linejoin:round; stroke-width:4; stroke-opacity:1; fill:none\" points=\"\n",
       "  6800.28,1384.24 6800.28,1384.24 6820.25,1384.24 6800.28,1384.24 \n",
       "  \"/>\n",
       "<path clip-path=\"url(#clip202)\" d=\"\n",
       "M6820.25 1384.24 L6820.25 1384.24 L6840.23 1384.24 L6840.23 1384.24 L6820.25 1384.24 L6820.25 1384.24  Z\n",
       "  \" fill=\"#009af9\" fill-rule=\"evenodd\" fill-opacity=\"1\"/>\n",
       "<polyline clip-path=\"url(#clip202)\" style=\"stroke:#000000; stroke-linecap:butt; stroke-linejoin:round; stroke-width:4; stroke-opacity:1; fill:none\" points=\"\n",
       "  6820.25,1384.24 6820.25,1384.24 6840.23,1384.24 6820.25,1384.24 \n",
       "  \"/>\n",
       "<path clip-path=\"url(#clip202)\" d=\"\n",
       "M6840.23 1384.24 L6840.23 1384.24 L6860.21 1384.24 L6860.21 1384.24 L6840.23 1384.24 L6840.23 1384.24  Z\n",
       "  \" fill=\"#009af9\" fill-rule=\"evenodd\" fill-opacity=\"1\"/>\n",
       "<polyline clip-path=\"url(#clip202)\" style=\"stroke:#000000; stroke-linecap:butt; stroke-linejoin:round; stroke-width:4; stroke-opacity:1; fill:none\" points=\"\n",
       "  6840.23,1384.24 6840.23,1384.24 6860.21,1384.24 6840.23,1384.24 \n",
       "  \"/>\n",
       "<path clip-path=\"url(#clip202)\" d=\"\n",
       "M6860.21 1384.24 L6860.21 1384.24 L6880.18 1384.24 L6880.18 1384.24 L6860.21 1384.24 L6860.21 1384.24  Z\n",
       "  \" fill=\"#009af9\" fill-rule=\"evenodd\" fill-opacity=\"1\"/>\n",
       "<polyline clip-path=\"url(#clip202)\" style=\"stroke:#000000; stroke-linecap:butt; stroke-linejoin:round; stroke-width:4; stroke-opacity:1; fill:none\" points=\"\n",
       "  6860.21,1384.24 6860.21,1384.24 6880.18,1384.24 6860.21,1384.24 \n",
       "  \"/>\n",
       "<path clip-path=\"url(#clip202)\" d=\"\n",
       "M6880.18 1384.24 L6880.18 1384.24 L6900.16 1384.24 L6900.16 1384.24 L6880.18 1384.24 L6880.18 1384.24  Z\n",
       "  \" fill=\"#009af9\" fill-rule=\"evenodd\" fill-opacity=\"1\"/>\n",
       "<polyline clip-path=\"url(#clip202)\" style=\"stroke:#000000; stroke-linecap:butt; stroke-linejoin:round; stroke-width:4; stroke-opacity:1; fill:none\" points=\"\n",
       "  6880.18,1384.24 6880.18,1384.24 6900.16,1384.24 6880.18,1384.24 \n",
       "  \"/>\n",
       "<path clip-path=\"url(#clip202)\" d=\"\n",
       "M6900.16 1384.24 L6900.16 1384.24 L6920.14 1384.24 L6920.14 1384.24 L6900.16 1384.24 L6900.16 1384.24  Z\n",
       "  \" fill=\"#009af9\" fill-rule=\"evenodd\" fill-opacity=\"1\"/>\n",
       "<polyline clip-path=\"url(#clip202)\" style=\"stroke:#000000; stroke-linecap:butt; stroke-linejoin:round; stroke-width:4; stroke-opacity:1; fill:none\" points=\"\n",
       "  6900.16,1384.24 6900.16,1384.24 6920.14,1384.24 6900.16,1384.24 \n",
       "  \"/>\n",
       "<path clip-path=\"url(#clip202)\" d=\"\n",
       "M6920.14 1384.24 L6920.14 1384.24 L6940.12 1384.24 L6940.12 1384.24 L6920.14 1384.24 L6920.14 1384.24  Z\n",
       "  \" fill=\"#009af9\" fill-rule=\"evenodd\" fill-opacity=\"1\"/>\n",
       "<polyline clip-path=\"url(#clip202)\" style=\"stroke:#000000; stroke-linecap:butt; stroke-linejoin:round; stroke-width:4; stroke-opacity:1; fill:none\" points=\"\n",
       "  6920.14,1384.24 6920.14,1384.24 6940.12,1384.24 6920.14,1384.24 \n",
       "  \"/>\n",
       "<path clip-path=\"url(#clip202)\" d=\"\n",
       "M6940.12 1384.24 L6940.12 1384.24 L6960.09 1384.24 L6960.09 1384.24 L6940.12 1384.24 L6940.12 1384.24  Z\n",
       "  \" fill=\"#009af9\" fill-rule=\"evenodd\" fill-opacity=\"1\"/>\n",
       "<polyline clip-path=\"url(#clip202)\" style=\"stroke:#000000; stroke-linecap:butt; stroke-linejoin:round; stroke-width:4; stroke-opacity:1; fill:none\" points=\"\n",
       "  6940.12,1384.24 6940.12,1384.24 6960.09,1384.24 6940.12,1384.24 \n",
       "  \"/>\n",
       "<path clip-path=\"url(#clip202)\" d=\"\n",
       "M6960.09 1384.24 L6960.09 1384.24 L6980.07 1384.24 L6980.07 1384.24 L6960.09 1384.24 L6960.09 1384.24  Z\n",
       "  \" fill=\"#009af9\" fill-rule=\"evenodd\" fill-opacity=\"1\"/>\n",
       "<polyline clip-path=\"url(#clip202)\" style=\"stroke:#000000; stroke-linecap:butt; stroke-linejoin:round; stroke-width:4; stroke-opacity:1; fill:none\" points=\"\n",
       "  6960.09,1384.24 6960.09,1384.24 6980.07,1384.24 6960.09,1384.24 \n",
       "  \"/>\n",
       "<path clip-path=\"url(#clip202)\" d=\"\n",
       "M6980.07 1384.24 L6980.07 1384.24 L7000.05 1384.24 L7000.05 1384.24 L6980.07 1384.24 L6980.07 1384.24  Z\n",
       "  \" fill=\"#009af9\" fill-rule=\"evenodd\" fill-opacity=\"1\"/>\n",
       "<polyline clip-path=\"url(#clip202)\" style=\"stroke:#000000; stroke-linecap:butt; stroke-linejoin:round; stroke-width:4; stroke-opacity:1; fill:none\" points=\"\n",
       "  6980.07,1384.24 6980.07,1384.24 7000.05,1384.24 6980.07,1384.24 \n",
       "  \"/>\n",
       "<path clip-path=\"url(#clip202)\" d=\"\n",
       "M7000.05 1384.24 L7000.05 1384.24 L7020.02 1384.24 L7020.02 1384.24 L7000.05 1384.24 L7000.05 1384.24  Z\n",
       "  \" fill=\"#009af9\" fill-rule=\"evenodd\" fill-opacity=\"1\"/>\n",
       "<polyline clip-path=\"url(#clip202)\" style=\"stroke:#000000; stroke-linecap:butt; stroke-linejoin:round; stroke-width:4; stroke-opacity:1; fill:none\" points=\"\n",
       "  7000.05,1384.24 7000.05,1384.24 7020.02,1384.24 7000.05,1384.24 \n",
       "  \"/>\n",
       "<path clip-path=\"url(#clip202)\" d=\"\n",
       "M7020.02 1384.24 L7020.02 1384.24 L7040 1384.24 L7040 1384.24 L7020.02 1384.24 L7020.02 1384.24  Z\n",
       "  \" fill=\"#009af9\" fill-rule=\"evenodd\" fill-opacity=\"1\"/>\n",
       "<polyline clip-path=\"url(#clip202)\" style=\"stroke:#000000; stroke-linecap:butt; stroke-linejoin:round; stroke-width:4; stroke-opacity:1; fill:none\" points=\"\n",
       "  7020.02,1384.24 7020.02,1384.24 7040,1384.24 7020.02,1384.24 \n",
       "  \"/>\n",
       "<path clip-path=\"url(#clip202)\" d=\"\n",
       "M7040 1384.24 L7040 1384.24 L7059.98 1384.24 L7059.98 1384.24 L7040 1384.24 L7040 1384.24  Z\n",
       "  \" fill=\"#009af9\" fill-rule=\"evenodd\" fill-opacity=\"1\"/>\n",
       "<polyline clip-path=\"url(#clip202)\" style=\"stroke:#000000; stroke-linecap:butt; stroke-linejoin:round; stroke-width:4; stroke-opacity:1; fill:none\" points=\"\n",
       "  7040,1384.24 7040,1384.24 7059.98,1384.24 7040,1384.24 \n",
       "  \"/>\n",
       "<path clip-path=\"url(#clip202)\" d=\"\n",
       "M7059.98 1384.24 L7059.98 1384.24 L7079.96 1384.24 L7079.96 1384.24 L7059.98 1384.24 L7059.98 1384.24  Z\n",
       "  \" fill=\"#009af9\" fill-rule=\"evenodd\" fill-opacity=\"1\"/>\n",
       "<polyline clip-path=\"url(#clip202)\" style=\"stroke:#000000; stroke-linecap:butt; stroke-linejoin:round; stroke-width:4; stroke-opacity:1; fill:none\" points=\"\n",
       "  7059.98,1384.24 7059.98,1384.24 7079.96,1384.24 7059.98,1384.24 \n",
       "  \"/>\n",
       "<path clip-path=\"url(#clip202)\" d=\"\n",
       "M7079.96 1384.24 L7079.96 1384.24 L7099.93 1384.24 L7099.93 1384.24 L7079.96 1384.24 L7079.96 1384.24  Z\n",
       "  \" fill=\"#009af9\" fill-rule=\"evenodd\" fill-opacity=\"1\"/>\n",
       "<polyline clip-path=\"url(#clip202)\" style=\"stroke:#000000; stroke-linecap:butt; stroke-linejoin:round; stroke-width:4; stroke-opacity:1; fill:none\" points=\"\n",
       "  7079.96,1384.24 7079.96,1384.24 7099.93,1384.24 7079.96,1384.24 \n",
       "  \"/>\n",
       "<path clip-path=\"url(#clip202)\" d=\"\n",
       "M7099.93 1384.24 L7099.93 1384.24 L7119.91 1384.24 L7119.91 1384.24 L7099.93 1384.24 L7099.93 1384.24  Z\n",
       "  \" fill=\"#009af9\" fill-rule=\"evenodd\" fill-opacity=\"1\"/>\n",
       "<polyline clip-path=\"url(#clip202)\" style=\"stroke:#000000; stroke-linecap:butt; stroke-linejoin:round; stroke-width:4; stroke-opacity:1; fill:none\" points=\"\n",
       "  7099.93,1384.24 7099.93,1384.24 7119.91,1384.24 7099.93,1384.24 \n",
       "  \"/>\n",
       "<path clip-path=\"url(#clip202)\" d=\"\n",
       "M7119.91 1384.24 L7119.91 1384.24 L7139.89 1384.24 L7139.89 1384.24 L7119.91 1384.24 L7119.91 1384.24  Z\n",
       "  \" fill=\"#009af9\" fill-rule=\"evenodd\" fill-opacity=\"1\"/>\n",
       "<polyline clip-path=\"url(#clip202)\" style=\"stroke:#000000; stroke-linecap:butt; stroke-linejoin:round; stroke-width:4; stroke-opacity:1; fill:none\" points=\"\n",
       "  7119.91,1384.24 7119.91,1384.24 7139.89,1384.24 7119.91,1384.24 \n",
       "  \"/>\n",
       "<path clip-path=\"url(#clip202)\" d=\"\n",
       "M7139.89 1384.24 L7139.89 1384.24 L7159.87 1384.24 L7159.87 1384.24 L7139.89 1384.24 L7139.89 1384.24  Z\n",
       "  \" fill=\"#009af9\" fill-rule=\"evenodd\" fill-opacity=\"1\"/>\n",
       "<polyline clip-path=\"url(#clip202)\" style=\"stroke:#000000; stroke-linecap:butt; stroke-linejoin:round; stroke-width:4; stroke-opacity:1; fill:none\" points=\"\n",
       "  7139.89,1384.24 7139.89,1384.24 7159.87,1384.24 7139.89,1384.24 \n",
       "  \"/>\n",
       "<path clip-path=\"url(#clip202)\" d=\"\n",
       "M7159.87 1384.24 L7159.87 1384.24 L7179.84 1384.24 L7179.84 1384.24 L7159.87 1384.24 L7159.87 1384.24  Z\n",
       "  \" fill=\"#009af9\" fill-rule=\"evenodd\" fill-opacity=\"1\"/>\n",
       "<polyline clip-path=\"url(#clip202)\" style=\"stroke:#000000; stroke-linecap:butt; stroke-linejoin:round; stroke-width:4; stroke-opacity:1; fill:none\" points=\"\n",
       "  7159.87,1384.24 7159.87,1384.24 7179.84,1384.24 7159.87,1384.24 \n",
       "  \"/>\n",
       "<path clip-path=\"url(#clip202)\" d=\"\n",
       "M7179.84 1384.24 L7179.84 1384.24 L7199.82 1384.24 L7199.82 1384.24 L7179.84 1384.24 L7179.84 1384.24  Z\n",
       "  \" fill=\"#009af9\" fill-rule=\"evenodd\" fill-opacity=\"1\"/>\n",
       "<polyline clip-path=\"url(#clip202)\" style=\"stroke:#000000; stroke-linecap:butt; stroke-linejoin:round; stroke-width:4; stroke-opacity:1; fill:none\" points=\"\n",
       "  7179.84,1384.24 7179.84,1384.24 7199.82,1384.24 7179.84,1384.24 \n",
       "  \"/>\n",
       "<path clip-path=\"url(#clip202)\" d=\"\n",
       "M7199.82 1384.24 L7199.82 1384.24 L7219.8 1384.24 L7219.8 1384.24 L7199.82 1384.24 L7199.82 1384.24  Z\n",
       "  \" fill=\"#009af9\" fill-rule=\"evenodd\" fill-opacity=\"1\"/>\n",
       "<polyline clip-path=\"url(#clip202)\" style=\"stroke:#000000; stroke-linecap:butt; stroke-linejoin:round; stroke-width:4; stroke-opacity:1; fill:none\" points=\"\n",
       "  7199.82,1384.24 7199.82,1384.24 7219.8,1384.24 7199.82,1384.24 \n",
       "  \"/>\n",
       "<path clip-path=\"url(#clip202)\" d=\"\n",
       "M7219.8 1384.24 L7219.8 1384.24 L7239.77 1384.24 L7239.77 1384.24 L7219.8 1384.24 L7219.8 1384.24  Z\n",
       "  \" fill=\"#009af9\" fill-rule=\"evenodd\" fill-opacity=\"1\"/>\n",
       "<polyline clip-path=\"url(#clip202)\" style=\"stroke:#000000; stroke-linecap:butt; stroke-linejoin:round; stroke-width:4; stroke-opacity:1; fill:none\" points=\"\n",
       "  7219.8,1384.24 7219.8,1384.24 7239.77,1384.24 7219.8,1384.24 \n",
       "  \"/>\n",
       "<path clip-path=\"url(#clip202)\" d=\"\n",
       "M7239.77 1384.24 L7239.77 1384.24 L7259.75 1384.24 L7259.75 1384.24 L7239.77 1384.24 L7239.77 1384.24  Z\n",
       "  \" fill=\"#009af9\" fill-rule=\"evenodd\" fill-opacity=\"1\"/>\n",
       "<polyline clip-path=\"url(#clip202)\" style=\"stroke:#000000; stroke-linecap:butt; stroke-linejoin:round; stroke-width:4; stroke-opacity:1; fill:none\" points=\"\n",
       "  7239.77,1384.24 7239.77,1384.24 7259.75,1384.24 7239.77,1384.24 \n",
       "  \"/>\n",
       "<path clip-path=\"url(#clip202)\" d=\"\n",
       "M7259.75 1384.24 L7259.75 1384.24 L7279.73 1384.24 L7279.73 1384.24 L7259.75 1384.24 L7259.75 1384.24  Z\n",
       "  \" fill=\"#009af9\" fill-rule=\"evenodd\" fill-opacity=\"1\"/>\n",
       "<polyline clip-path=\"url(#clip202)\" style=\"stroke:#000000; stroke-linecap:butt; stroke-linejoin:round; stroke-width:4; stroke-opacity:1; fill:none\" points=\"\n",
       "  7259.75,1384.24 7259.75,1384.24 7279.73,1384.24 7259.75,1384.24 \n",
       "  \"/>\n",
       "<path clip-path=\"url(#clip202)\" d=\"\n",
       "M7279.73 1384.24 L7279.73 1384.24 L7299.71 1384.24 L7299.71 1384.24 L7279.73 1384.24 L7279.73 1384.24  Z\n",
       "  \" fill=\"#009af9\" fill-rule=\"evenodd\" fill-opacity=\"1\"/>\n",
       "<polyline clip-path=\"url(#clip202)\" style=\"stroke:#000000; stroke-linecap:butt; stroke-linejoin:round; stroke-width:4; stroke-opacity:1; fill:none\" points=\"\n",
       "  7279.73,1384.24 7279.73,1384.24 7299.71,1384.24 7279.73,1384.24 \n",
       "  \"/>\n",
       "<path clip-path=\"url(#clip202)\" d=\"\n",
       "M7299.71 1384.24 L7299.71 1384.24 L7319.68 1384.24 L7319.68 1384.24 L7299.71 1384.24 L7299.71 1384.24  Z\n",
       "  \" fill=\"#009af9\" fill-rule=\"evenodd\" fill-opacity=\"1\"/>\n",
       "<polyline clip-path=\"url(#clip202)\" style=\"stroke:#000000; stroke-linecap:butt; stroke-linejoin:round; stroke-width:4; stroke-opacity:1; fill:none\" points=\"\n",
       "  7299.71,1384.24 7299.71,1384.24 7319.68,1384.24 7299.71,1384.24 \n",
       "  \"/>\n",
       "<path clip-path=\"url(#clip202)\" d=\"\n",
       "M7319.68 1384.24 L7319.68 1384.24 L7339.66 1384.24 L7339.66 1384.24 L7319.68 1384.24 L7319.68 1384.24  Z\n",
       "  \" fill=\"#009af9\" fill-rule=\"evenodd\" fill-opacity=\"1\"/>\n",
       "<polyline clip-path=\"url(#clip202)\" style=\"stroke:#000000; stroke-linecap:butt; stroke-linejoin:round; stroke-width:4; stroke-opacity:1; fill:none\" points=\"\n",
       "  7319.68,1384.24 7319.68,1384.24 7339.66,1384.24 7319.68,1384.24 \n",
       "  \"/>\n",
       "<path clip-path=\"url(#clip202)\" d=\"\n",
       "M7339.66 1384.24 L7339.66 1384.24 L7359.64 1384.24 L7359.64 1384.24 L7339.66 1384.24 L7339.66 1384.24  Z\n",
       "  \" fill=\"#009af9\" fill-rule=\"evenodd\" fill-opacity=\"1\"/>\n",
       "<polyline clip-path=\"url(#clip202)\" style=\"stroke:#000000; stroke-linecap:butt; stroke-linejoin:round; stroke-width:4; stroke-opacity:1; fill:none\" points=\"\n",
       "  7339.66,1384.24 7339.66,1384.24 7359.64,1384.24 7339.66,1384.24 \n",
       "  \"/>\n",
       "<path clip-path=\"url(#clip202)\" d=\"\n",
       "M7359.64 1384.24 L7359.64 1384.24 L7379.61 1384.24 L7379.61 1384.24 L7359.64 1384.24 L7359.64 1384.24  Z\n",
       "  \" fill=\"#009af9\" fill-rule=\"evenodd\" fill-opacity=\"1\"/>\n",
       "<polyline clip-path=\"url(#clip202)\" style=\"stroke:#000000; stroke-linecap:butt; stroke-linejoin:round; stroke-width:4; stroke-opacity:1; fill:none\" points=\"\n",
       "  7359.64,1384.24 7359.64,1384.24 7379.61,1384.24 7359.64,1384.24 \n",
       "  \"/>\n",
       "<path clip-path=\"url(#clip202)\" d=\"\n",
       "M7379.61 1384.24 L7379.61 1384.24 L7399.59 1384.24 L7399.59 1384.24 L7379.61 1384.24 L7379.61 1384.24  Z\n",
       "  \" fill=\"#009af9\" fill-rule=\"evenodd\" fill-opacity=\"1\"/>\n",
       "<polyline clip-path=\"url(#clip202)\" style=\"stroke:#000000; stroke-linecap:butt; stroke-linejoin:round; stroke-width:4; stroke-opacity:1; fill:none\" points=\"\n",
       "  7379.61,1384.24 7379.61,1384.24 7399.59,1384.24 7379.61,1384.24 \n",
       "  \"/>\n",
       "<path clip-path=\"url(#clip202)\" d=\"\n",
       "M7399.59 1384.24 L7399.59 1384.24 L7419.57 1384.24 L7419.57 1384.24 L7399.59 1384.24 L7399.59 1384.24  Z\n",
       "  \" fill=\"#009af9\" fill-rule=\"evenodd\" fill-opacity=\"1\"/>\n",
       "<polyline clip-path=\"url(#clip202)\" style=\"stroke:#000000; stroke-linecap:butt; stroke-linejoin:round; stroke-width:4; stroke-opacity:1; fill:none\" points=\"\n",
       "  7399.59,1384.24 7399.59,1384.24 7419.57,1384.24 7399.59,1384.24 \n",
       "  \"/>\n",
       "<path clip-path=\"url(#clip202)\" d=\"\n",
       "M7419.57 1384.24 L7419.57 1384.24 L7439.55 1384.24 L7439.55 1384.24 L7419.57 1384.24 L7419.57 1384.24  Z\n",
       "  \" fill=\"#009af9\" fill-rule=\"evenodd\" fill-opacity=\"1\"/>\n",
       "<polyline clip-path=\"url(#clip202)\" style=\"stroke:#000000; stroke-linecap:butt; stroke-linejoin:round; stroke-width:4; stroke-opacity:1; fill:none\" points=\"\n",
       "  7419.57,1384.24 7419.57,1384.24 7439.55,1384.24 7419.57,1384.24 \n",
       "  \"/>\n",
       "<path clip-path=\"url(#clip202)\" d=\"\n",
       "M7439.55 1276.07 L7439.55 1384.24 L7459.52 1384.24 L7459.52 1276.07 L7439.55 1276.07 L7439.55 1276.07  Z\n",
       "  \" fill=\"#009af9\" fill-rule=\"evenodd\" fill-opacity=\"1\"/>\n",
       "<polyline clip-path=\"url(#clip202)\" style=\"stroke:#000000; stroke-linecap:butt; stroke-linejoin:round; stroke-width:4; stroke-opacity:1; fill:none\" points=\"\n",
       "  7439.55,1276.07 7439.55,1384.24 7459.52,1384.24 7459.52,1276.07 7439.55,1276.07 \n",
       "  \"/>\n",
       "<path clip-path=\"url(#clip202)\" d=\"\n",
       "M7459.52 1384.24 L7459.52 1384.24 L7479.5 1384.24 L7479.5 1384.24 L7459.52 1384.24 L7459.52 1384.24  Z\n",
       "  \" fill=\"#009af9\" fill-rule=\"evenodd\" fill-opacity=\"1\"/>\n",
       "<polyline clip-path=\"url(#clip202)\" style=\"stroke:#000000; stroke-linecap:butt; stroke-linejoin:round; stroke-width:4; stroke-opacity:1; fill:none\" points=\"\n",
       "  7459.52,1384.24 7459.52,1384.24 7479.5,1384.24 7459.52,1384.24 \n",
       "  \"/>\n",
       "<path clip-path=\"url(#clip202)\" d=\"\n",
       "M7479.5 1384.24 L7479.5 1384.24 L7499.48 1384.24 L7499.48 1384.24 L7479.5 1384.24 L7479.5 1384.24  Z\n",
       "  \" fill=\"#009af9\" fill-rule=\"evenodd\" fill-opacity=\"1\"/>\n",
       "<polyline clip-path=\"url(#clip202)\" style=\"stroke:#000000; stroke-linecap:butt; stroke-linejoin:round; stroke-width:4; stroke-opacity:1; fill:none\" points=\"\n",
       "  7479.5,1384.24 7479.5,1384.24 7499.48,1384.24 7479.5,1384.24 \n",
       "  \"/>\n",
       "<path clip-path=\"url(#clip202)\" d=\"\n",
       "M7499.48 1384.24 L7499.48 1384.24 L7519.46 1384.24 L7519.46 1384.24 L7499.48 1384.24 L7499.48 1384.24  Z\n",
       "  \" fill=\"#009af9\" fill-rule=\"evenodd\" fill-opacity=\"1\"/>\n",
       "<polyline clip-path=\"url(#clip202)\" style=\"stroke:#000000; stroke-linecap:butt; stroke-linejoin:round; stroke-width:4; stroke-opacity:1; fill:none\" points=\"\n",
       "  7499.48,1384.24 7499.48,1384.24 7519.46,1384.24 7499.48,1384.24 \n",
       "  \"/>\n",
       "<path clip-path=\"url(#clip202)\" d=\"\n",
       "M7519.46 1384.24 L7519.46 1384.24 L7539.43 1384.24 L7539.43 1384.24 L7519.46 1384.24 L7519.46 1384.24  Z\n",
       "  \" fill=\"#009af9\" fill-rule=\"evenodd\" fill-opacity=\"1\"/>\n",
       "<polyline clip-path=\"url(#clip202)\" style=\"stroke:#000000; stroke-linecap:butt; stroke-linejoin:round; stroke-width:4; stroke-opacity:1; fill:none\" points=\"\n",
       "  7519.46,1384.24 7519.46,1384.24 7539.43,1384.24 7519.46,1384.24 \n",
       "  \"/>\n",
       "<path clip-path=\"url(#clip202)\" d=\"\n",
       "M7539.43 1384.24 L7539.43 1384.24 L7559.41 1384.24 L7559.41 1384.24 L7539.43 1384.24 L7539.43 1384.24  Z\n",
       "  \" fill=\"#009af9\" fill-rule=\"evenodd\" fill-opacity=\"1\"/>\n",
       "<polyline clip-path=\"url(#clip202)\" style=\"stroke:#000000; stroke-linecap:butt; stroke-linejoin:round; stroke-width:4; stroke-opacity:1; fill:none\" points=\"\n",
       "  7539.43,1384.24 7539.43,1384.24 7559.41,1384.24 7539.43,1384.24 \n",
       "  \"/>\n",
       "<path clip-path=\"url(#clip202)\" d=\"\n",
       "M7559.41 1384.24 L7559.41 1384.24 L7579.39 1384.24 L7579.39 1384.24 L7559.41 1384.24 L7559.41 1384.24  Z\n",
       "  \" fill=\"#009af9\" fill-rule=\"evenodd\" fill-opacity=\"1\"/>\n",
       "<polyline clip-path=\"url(#clip202)\" style=\"stroke:#000000; stroke-linecap:butt; stroke-linejoin:round; stroke-width:4; stroke-opacity:1; fill:none\" points=\"\n",
       "  7559.41,1384.24 7559.41,1384.24 7579.39,1384.24 7559.41,1384.24 \n",
       "  \"/>\n",
       "<path clip-path=\"url(#clip202)\" d=\"\n",
       "M7579.39 1384.24 L7579.39 1384.24 L7599.36 1384.24 L7599.36 1384.24 L7579.39 1384.24 L7579.39 1384.24  Z\n",
       "  \" fill=\"#009af9\" fill-rule=\"evenodd\" fill-opacity=\"1\"/>\n",
       "<polyline clip-path=\"url(#clip202)\" style=\"stroke:#000000; stroke-linecap:butt; stroke-linejoin:round; stroke-width:4; stroke-opacity:1; fill:none\" points=\"\n",
       "  7579.39,1384.24 7579.39,1384.24 7599.36,1384.24 7579.39,1384.24 \n",
       "  \"/>\n",
       "<path clip-path=\"url(#clip202)\" d=\"\n",
       "M7599.36 1384.24 L7599.36 1384.24 L7619.34 1384.24 L7619.34 1384.24 L7599.36 1384.24 L7599.36 1384.24  Z\n",
       "  \" fill=\"#009af9\" fill-rule=\"evenodd\" fill-opacity=\"1\"/>\n",
       "<polyline clip-path=\"url(#clip202)\" style=\"stroke:#000000; stroke-linecap:butt; stroke-linejoin:round; stroke-width:4; stroke-opacity:1; fill:none\" points=\"\n",
       "  7599.36,1384.24 7599.36,1384.24 7619.34,1384.24 7599.36,1384.24 \n",
       "  \"/>\n",
       "<path clip-path=\"url(#clip202)\" d=\"\n",
       "M7619.34 1384.24 L7619.34 1384.24 L7639.32 1384.24 L7639.32 1384.24 L7619.34 1384.24 L7619.34 1384.24  Z\n",
       "  \" fill=\"#009af9\" fill-rule=\"evenodd\" fill-opacity=\"1\"/>\n",
       "<polyline clip-path=\"url(#clip202)\" style=\"stroke:#000000; stroke-linecap:butt; stroke-linejoin:round; stroke-width:4; stroke-opacity:1; fill:none\" points=\"\n",
       "  7619.34,1384.24 7619.34,1384.24 7639.32,1384.24 7619.34,1384.24 \n",
       "  \"/>\n",
       "<path clip-path=\"url(#clip202)\" d=\"\n",
       "M7639.32 1384.24 L7639.32 1384.24 L7659.3 1384.24 L7659.3 1384.24 L7639.32 1384.24 L7639.32 1384.24  Z\n",
       "  \" fill=\"#009af9\" fill-rule=\"evenodd\" fill-opacity=\"1\"/>\n",
       "<polyline clip-path=\"url(#clip202)\" style=\"stroke:#000000; stroke-linecap:butt; stroke-linejoin:round; stroke-width:4; stroke-opacity:1; fill:none\" points=\"\n",
       "  7639.32,1384.24 7639.32,1384.24 7659.3,1384.24 7639.32,1384.24 \n",
       "  \"/>\n",
       "<path clip-path=\"url(#clip202)\" d=\"\n",
       "M7659.3 1384.24 L7659.3 1384.24 L7679.27 1384.24 L7679.27 1384.24 L7659.3 1384.24 L7659.3 1384.24  Z\n",
       "  \" fill=\"#009af9\" fill-rule=\"evenodd\" fill-opacity=\"1\"/>\n",
       "<polyline clip-path=\"url(#clip202)\" style=\"stroke:#000000; stroke-linecap:butt; stroke-linejoin:round; stroke-width:4; stroke-opacity:1; fill:none\" points=\"\n",
       "  7659.3,1384.24 7659.3,1384.24 7679.27,1384.24 7659.3,1384.24 \n",
       "  \"/>\n",
       "<path clip-path=\"url(#clip202)\" d=\"\n",
       "M7679.27 1384.24 L7679.27 1384.24 L7699.25 1384.24 L7699.25 1384.24 L7679.27 1384.24 L7679.27 1384.24  Z\n",
       "  \" fill=\"#009af9\" fill-rule=\"evenodd\" fill-opacity=\"1\"/>\n",
       "<polyline clip-path=\"url(#clip202)\" style=\"stroke:#000000; stroke-linecap:butt; stroke-linejoin:round; stroke-width:4; stroke-opacity:1; fill:none\" points=\"\n",
       "  7679.27,1384.24 7679.27,1384.24 7699.25,1384.24 7679.27,1384.24 \n",
       "  \"/>\n",
       "<path clip-path=\"url(#clip202)\" d=\"\n",
       "M7699.25 1384.24 L7699.25 1384.24 L7719.23 1384.24 L7719.23 1384.24 L7699.25 1384.24 L7699.25 1384.24  Z\n",
       "  \" fill=\"#009af9\" fill-rule=\"evenodd\" fill-opacity=\"1\"/>\n",
       "<polyline clip-path=\"url(#clip202)\" style=\"stroke:#000000; stroke-linecap:butt; stroke-linejoin:round; stroke-width:4; stroke-opacity:1; fill:none\" points=\"\n",
       "  7699.25,1384.24 7699.25,1384.24 7719.23,1384.24 7699.25,1384.24 \n",
       "  \"/>\n",
       "<path clip-path=\"url(#clip202)\" d=\"\n",
       "M7719.23 1384.24 L7719.23 1384.24 L7739.2 1384.24 L7739.2 1384.24 L7719.23 1384.24 L7719.23 1384.24  Z\n",
       "  \" fill=\"#009af9\" fill-rule=\"evenodd\" fill-opacity=\"1\"/>\n",
       "<polyline clip-path=\"url(#clip202)\" style=\"stroke:#000000; stroke-linecap:butt; stroke-linejoin:round; stroke-width:4; stroke-opacity:1; fill:none\" points=\"\n",
       "  7719.23,1384.24 7719.23,1384.24 7739.2,1384.24 7719.23,1384.24 \n",
       "  \"/>\n",
       "<path clip-path=\"url(#clip202)\" d=\"\n",
       "M7739.2 1384.24 L7739.2 1384.24 L7759.18 1384.24 L7759.18 1384.24 L7739.2 1384.24 L7739.2 1384.24  Z\n",
       "  \" fill=\"#009af9\" fill-rule=\"evenodd\" fill-opacity=\"1\"/>\n",
       "<polyline clip-path=\"url(#clip202)\" style=\"stroke:#000000; stroke-linecap:butt; stroke-linejoin:round; stroke-width:4; stroke-opacity:1; fill:none\" points=\"\n",
       "  7739.2,1384.24 7739.2,1384.24 7759.18,1384.24 7739.2,1384.24 \n",
       "  \"/>\n",
       "<path clip-path=\"url(#clip202)\" d=\"\n",
       "M7759.18 1384.24 L7759.18 1384.24 L7779.16 1384.24 L7779.16 1384.24 L7759.18 1384.24 L7759.18 1384.24  Z\n",
       "  \" fill=\"#009af9\" fill-rule=\"evenodd\" fill-opacity=\"1\"/>\n",
       "<polyline clip-path=\"url(#clip202)\" style=\"stroke:#000000; stroke-linecap:butt; stroke-linejoin:round; stroke-width:4; stroke-opacity:1; fill:none\" points=\"\n",
       "  7759.18,1384.24 7759.18,1384.24 7779.16,1384.24 7759.18,1384.24 \n",
       "  \"/>\n",
       "<path clip-path=\"url(#clip202)\" d=\"\n",
       "M7779.16 1384.24 L7779.16 1384.24 L7799.14 1384.24 L7799.14 1384.24 L7779.16 1384.24 L7779.16 1384.24  Z\n",
       "  \" fill=\"#009af9\" fill-rule=\"evenodd\" fill-opacity=\"1\"/>\n",
       "<polyline clip-path=\"url(#clip202)\" style=\"stroke:#000000; stroke-linecap:butt; stroke-linejoin:round; stroke-width:4; stroke-opacity:1; fill:none\" points=\"\n",
       "  7779.16,1384.24 7779.16,1384.24 7799.14,1384.24 7779.16,1384.24 \n",
       "  \"/>\n",
       "<path clip-path=\"url(#clip202)\" d=\"\n",
       "M7799.14 1384.24 L7799.14 1384.24 L7819.11 1384.24 L7819.11 1384.24 L7799.14 1384.24 L7799.14 1384.24  Z\n",
       "  \" fill=\"#009af9\" fill-rule=\"evenodd\" fill-opacity=\"1\"/>\n",
       "<polyline clip-path=\"url(#clip202)\" style=\"stroke:#000000; stroke-linecap:butt; stroke-linejoin:round; stroke-width:4; stroke-opacity:1; fill:none\" points=\"\n",
       "  7799.14,1384.24 7799.14,1384.24 7819.11,1384.24 7799.14,1384.24 \n",
       "  \"/>\n",
       "<path clip-path=\"url(#clip202)\" d=\"\n",
       "M7819.11 1384.24 L7819.11 1384.24 L7839.09 1384.24 L7839.09 1384.24 L7819.11 1384.24 L7819.11 1384.24  Z\n",
       "  \" fill=\"#009af9\" fill-rule=\"evenodd\" fill-opacity=\"1\"/>\n",
       "<polyline clip-path=\"url(#clip202)\" style=\"stroke:#000000; stroke-linecap:butt; stroke-linejoin:round; stroke-width:4; stroke-opacity:1; fill:none\" points=\"\n",
       "  7819.11,1384.24 7819.11,1384.24 7839.09,1384.24 7819.11,1384.24 \n",
       "  \"/>\n",
       "<path clip-path=\"url(#clip202)\" d=\"\n",
       "M7839.09 1384.24 L7839.09 1384.24 L7859.07 1384.24 L7859.07 1384.24 L7839.09 1384.24 L7839.09 1384.24  Z\n",
       "  \" fill=\"#009af9\" fill-rule=\"evenodd\" fill-opacity=\"1\"/>\n",
       "<polyline clip-path=\"url(#clip202)\" style=\"stroke:#000000; stroke-linecap:butt; stroke-linejoin:round; stroke-width:4; stroke-opacity:1; fill:none\" points=\"\n",
       "  7839.09,1384.24 7839.09,1384.24 7859.07,1384.24 7839.09,1384.24 \n",
       "  \"/>\n",
       "<path clip-path=\"url(#clip202)\" d=\"\n",
       "M7859.07 1384.24 L7859.07 1384.24 L7879.05 1384.24 L7879.05 1384.24 L7859.07 1384.24 L7859.07 1384.24  Z\n",
       "  \" fill=\"#009af9\" fill-rule=\"evenodd\" fill-opacity=\"1\"/>\n",
       "<polyline clip-path=\"url(#clip202)\" style=\"stroke:#000000; stroke-linecap:butt; stroke-linejoin:round; stroke-width:4; stroke-opacity:1; fill:none\" points=\"\n",
       "  7859.07,1384.24 7859.07,1384.24 7879.05,1384.24 7859.07,1384.24 \n",
       "  \"/>\n",
       "<path clip-path=\"url(#clip202)\" d=\"\n",
       "M7879.05 1384.24 L7879.05 1384.24 L7899.02 1384.24 L7899.02 1384.24 L7879.05 1384.24 L7879.05 1384.24  Z\n",
       "  \" fill=\"#009af9\" fill-rule=\"evenodd\" fill-opacity=\"1\"/>\n",
       "<polyline clip-path=\"url(#clip202)\" style=\"stroke:#000000; stroke-linecap:butt; stroke-linejoin:round; stroke-width:4; stroke-opacity:1; fill:none\" points=\"\n",
       "  7879.05,1384.24 7879.05,1384.24 7899.02,1384.24 7879.05,1384.24 \n",
       "  \"/>\n",
       "<path clip-path=\"url(#clip202)\" d=\"\n",
       "M7899.02 1384.24 L7899.02 1384.24 L7919 1384.24 L7919 1384.24 L7899.02 1384.24 L7899.02 1384.24  Z\n",
       "  \" fill=\"#009af9\" fill-rule=\"evenodd\" fill-opacity=\"1\"/>\n",
       "<polyline clip-path=\"url(#clip202)\" style=\"stroke:#000000; stroke-linecap:butt; stroke-linejoin:round; stroke-width:4; stroke-opacity:1; fill:none\" points=\"\n",
       "  7899.02,1384.24 7899.02,1384.24 7919,1384.24 7899.02,1384.24 \n",
       "  \"/>\n",
       "<path clip-path=\"url(#clip202)\" d=\"\n",
       "M7919 1276.07 L7919 1384.24 L7938.98 1384.24 L7938.98 1276.07 L7919 1276.07 L7919 1276.07  Z\n",
       "  \" fill=\"#009af9\" fill-rule=\"evenodd\" fill-opacity=\"1\"/>\n",
       "<polyline clip-path=\"url(#clip202)\" style=\"stroke:#000000; stroke-linecap:butt; stroke-linejoin:round; stroke-width:4; stroke-opacity:1; fill:none\" points=\"\n",
       "  7919,1276.07 7919,1384.24 7938.98,1384.24 7938.98,1276.07 7919,1276.07 \n",
       "  \"/>\n",
       "<path clip-path=\"url(#clip202)\" d=\"\n",
       "M7938.98 1384.24 L7938.98 1384.24 L7958.95 1384.24 L7958.95 1384.24 L7938.98 1384.24 L7938.98 1384.24  Z\n",
       "  \" fill=\"#009af9\" fill-rule=\"evenodd\" fill-opacity=\"1\"/>\n",
       "<polyline clip-path=\"url(#clip202)\" style=\"stroke:#000000; stroke-linecap:butt; stroke-linejoin:round; stroke-width:4; stroke-opacity:1; fill:none\" points=\"\n",
       "  7938.98,1384.24 7938.98,1384.24 7958.95,1384.24 7938.98,1384.24 \n",
       "  \"/>\n",
       "<path clip-path=\"url(#clip202)\" d=\"\n",
       "M7958.95 1384.24 L7958.95 1384.24 L7978.93 1384.24 L7978.93 1384.24 L7958.95 1384.24 L7958.95 1384.24  Z\n",
       "  \" fill=\"#009af9\" fill-rule=\"evenodd\" fill-opacity=\"1\"/>\n",
       "<polyline clip-path=\"url(#clip202)\" style=\"stroke:#000000; stroke-linecap:butt; stroke-linejoin:round; stroke-width:4; stroke-opacity:1; fill:none\" points=\"\n",
       "  7958.95,1384.24 7958.95,1384.24 7978.93,1384.24 7958.95,1384.24 \n",
       "  \"/>\n",
       "<path clip-path=\"url(#clip202)\" d=\"\n",
       "M7978.93 1276.07 L7978.93 1384.24 L7998.91 1384.24 L7998.91 1276.07 L7978.93 1276.07 L7978.93 1276.07  Z\n",
       "  \" fill=\"#009af9\" fill-rule=\"evenodd\" fill-opacity=\"1\"/>\n",
       "<polyline clip-path=\"url(#clip202)\" style=\"stroke:#000000; stroke-linecap:butt; stroke-linejoin:round; stroke-width:4; stroke-opacity:1; fill:none\" points=\"\n",
       "  7978.93,1276.07 7978.93,1384.24 7998.91,1384.24 7998.91,1276.07 7978.93,1276.07 \n",
       "  \"/>\n",
       "<path clip-path=\"url(#clip202)\" d=\"\n",
       "M7998.91 1276.07 L7998.91 1384.24 L8018.89 1384.24 L8018.89 1276.07 L7998.91 1276.07 L7998.91 1276.07  Z\n",
       "  \" fill=\"#009af9\" fill-rule=\"evenodd\" fill-opacity=\"1\"/>\n",
       "<polyline clip-path=\"url(#clip202)\" style=\"stroke:#000000; stroke-linecap:butt; stroke-linejoin:round; stroke-width:4; stroke-opacity:1; fill:none\" points=\"\n",
       "  7998.91,1276.07 7998.91,1384.24 8018.89,1384.24 8018.89,1276.07 7998.91,1276.07 \n",
       "  \"/>\n",
       "<path clip-path=\"url(#clip202)\" d=\"\n",
       "M8018.89 1384.24 L8018.89 1384.24 L8038.86 1384.24 L8038.86 1384.24 L8018.89 1384.24 L8018.89 1384.24  Z\n",
       "  \" fill=\"#009af9\" fill-rule=\"evenodd\" fill-opacity=\"1\"/>\n",
       "<polyline clip-path=\"url(#clip202)\" style=\"stroke:#000000; stroke-linecap:butt; stroke-linejoin:round; stroke-width:4; stroke-opacity:1; fill:none\" points=\"\n",
       "  8018.89,1384.24 8018.89,1384.24 8038.86,1384.24 8018.89,1384.24 \n",
       "  \"/>\n",
       "<path clip-path=\"url(#clip202)\" d=\"\n",
       "M8038.86 1384.24 L8038.86 1384.24 L8058.84 1384.24 L8058.84 1384.24 L8038.86 1384.24 L8038.86 1384.24  Z\n",
       "  \" fill=\"#009af9\" fill-rule=\"evenodd\" fill-opacity=\"1\"/>\n",
       "<polyline clip-path=\"url(#clip202)\" style=\"stroke:#000000; stroke-linecap:butt; stroke-linejoin:round; stroke-width:4; stroke-opacity:1; fill:none\" points=\"\n",
       "  8038.86,1384.24 8038.86,1384.24 8058.84,1384.24 8038.86,1384.24 \n",
       "  \"/>\n",
       "<path clip-path=\"url(#clip202)\" d=\"\n",
       "M8058.84 1384.24 L8058.84 1384.24 L8078.82 1384.24 L8078.82 1384.24 L8058.84 1384.24 L8058.84 1384.24  Z\n",
       "  \" fill=\"#009af9\" fill-rule=\"evenodd\" fill-opacity=\"1\"/>\n",
       "<polyline clip-path=\"url(#clip202)\" style=\"stroke:#000000; stroke-linecap:butt; stroke-linejoin:round; stroke-width:4; stroke-opacity:1; fill:none\" points=\"\n",
       "  8058.84,1384.24 8058.84,1384.24 8078.82,1384.24 8058.84,1384.24 \n",
       "  \"/>\n",
       "<path clip-path=\"url(#clip202)\" d=\"\n",
       "M8078.82 1384.24 L8078.82 1384.24 L8098.79 1384.24 L8098.79 1384.24 L8078.82 1384.24 L8078.82 1384.24  Z\n",
       "  \" fill=\"#009af9\" fill-rule=\"evenodd\" fill-opacity=\"1\"/>\n",
       "<polyline clip-path=\"url(#clip202)\" style=\"stroke:#000000; stroke-linecap:butt; stroke-linejoin:round; stroke-width:4; stroke-opacity:1; fill:none\" points=\"\n",
       "  8078.82,1384.24 8078.82,1384.24 8098.79,1384.24 8078.82,1384.24 \n",
       "  \"/>\n",
       "<path clip-path=\"url(#clip202)\" d=\"\n",
       "M8098.79 1384.24 L8098.79 1384.24 L8118.77 1384.24 L8118.77 1384.24 L8098.79 1384.24 L8098.79 1384.24  Z\n",
       "  \" fill=\"#009af9\" fill-rule=\"evenodd\" fill-opacity=\"1\"/>\n",
       "<polyline clip-path=\"url(#clip202)\" style=\"stroke:#000000; stroke-linecap:butt; stroke-linejoin:round; stroke-width:4; stroke-opacity:1; fill:none\" points=\"\n",
       "  8098.79,1384.24 8098.79,1384.24 8118.77,1384.24 8098.79,1384.24 \n",
       "  \"/>\n",
       "<path clip-path=\"url(#clip202)\" d=\"\n",
       "M8118.77 1384.24 L8118.77 1384.24 L8138.75 1384.24 L8138.75 1384.24 L8118.77 1384.24 L8118.77 1384.24  Z\n",
       "  \" fill=\"#009af9\" fill-rule=\"evenodd\" fill-opacity=\"1\"/>\n",
       "<polyline clip-path=\"url(#clip202)\" style=\"stroke:#000000; stroke-linecap:butt; stroke-linejoin:round; stroke-width:4; stroke-opacity:1; fill:none\" points=\"\n",
       "  8118.77,1384.24 8118.77,1384.24 8138.75,1384.24 8118.77,1384.24 \n",
       "  \"/>\n",
       "<path clip-path=\"url(#clip202)\" d=\"\n",
       "M8138.75 1384.24 L8138.75 1384.24 L8158.73 1384.24 L8158.73 1384.24 L8138.75 1384.24 L8138.75 1384.24  Z\n",
       "  \" fill=\"#009af9\" fill-rule=\"evenodd\" fill-opacity=\"1\"/>\n",
       "<polyline clip-path=\"url(#clip202)\" style=\"stroke:#000000; stroke-linecap:butt; stroke-linejoin:round; stroke-width:4; stroke-opacity:1; fill:none\" points=\"\n",
       "  8138.75,1384.24 8138.75,1384.24 8158.73,1384.24 8138.75,1384.24 \n",
       "  \"/>\n",
       "<path clip-path=\"url(#clip202)\" d=\"\n",
       "M8158.73 1384.24 L8158.73 1384.24 L8178.7 1384.24 L8178.7 1384.24 L8158.73 1384.24 L8158.73 1384.24  Z\n",
       "  \" fill=\"#009af9\" fill-rule=\"evenodd\" fill-opacity=\"1\"/>\n",
       "<polyline clip-path=\"url(#clip202)\" style=\"stroke:#000000; stroke-linecap:butt; stroke-linejoin:round; stroke-width:4; stroke-opacity:1; fill:none\" points=\"\n",
       "  8158.73,1384.24 8158.73,1384.24 8178.7,1384.24 8158.73,1384.24 \n",
       "  \"/>\n",
       "<path clip-path=\"url(#clip202)\" d=\"\n",
       "M8178.7 1384.24 L8178.7 1384.24 L8198.68 1384.24 L8198.68 1384.24 L8178.7 1384.24 L8178.7 1384.24  Z\n",
       "  \" fill=\"#009af9\" fill-rule=\"evenodd\" fill-opacity=\"1\"/>\n",
       "<polyline clip-path=\"url(#clip202)\" style=\"stroke:#000000; stroke-linecap:butt; stroke-linejoin:round; stroke-width:4; stroke-opacity:1; fill:none\" points=\"\n",
       "  8178.7,1384.24 8178.7,1384.24 8198.68,1384.24 8178.7,1384.24 \n",
       "  \"/>\n",
       "<path clip-path=\"url(#clip202)\" d=\"\n",
       "M8198.68 1384.24 L8198.68 1384.24 L8218.66 1384.24 L8218.66 1384.24 L8198.68 1384.24 L8198.68 1384.24  Z\n",
       "  \" fill=\"#009af9\" fill-rule=\"evenodd\" fill-opacity=\"1\"/>\n",
       "<polyline clip-path=\"url(#clip202)\" style=\"stroke:#000000; stroke-linecap:butt; stroke-linejoin:round; stroke-width:4; stroke-opacity:1; fill:none\" points=\"\n",
       "  8198.68,1384.24 8198.68,1384.24 8218.66,1384.24 8198.68,1384.24 \n",
       "  \"/>\n",
       "<path clip-path=\"url(#clip202)\" d=\"\n",
       "M8218.66 1384.24 L8218.66 1384.24 L8238.64 1384.24 L8238.64 1384.24 L8218.66 1384.24 L8218.66 1384.24  Z\n",
       "  \" fill=\"#009af9\" fill-rule=\"evenodd\" fill-opacity=\"1\"/>\n",
       "<polyline clip-path=\"url(#clip202)\" style=\"stroke:#000000; stroke-linecap:butt; stroke-linejoin:round; stroke-width:4; stroke-opacity:1; fill:none\" points=\"\n",
       "  8218.66,1384.24 8218.66,1384.24 8238.64,1384.24 8218.66,1384.24 \n",
       "  \"/>\n",
       "<path clip-path=\"url(#clip202)\" d=\"\n",
       "M8238.64 1384.24 L8238.64 1384.24 L8258.61 1384.24 L8258.61 1384.24 L8238.64 1384.24 L8238.64 1384.24  Z\n",
       "  \" fill=\"#009af9\" fill-rule=\"evenodd\" fill-opacity=\"1\"/>\n",
       "<polyline clip-path=\"url(#clip202)\" style=\"stroke:#000000; stroke-linecap:butt; stroke-linejoin:round; stroke-width:4; stroke-opacity:1; fill:none\" points=\"\n",
       "  8238.64,1384.24 8238.64,1384.24 8258.61,1384.24 8238.64,1384.24 \n",
       "  \"/>\n",
       "<path clip-path=\"url(#clip202)\" d=\"\n",
       "M8258.61 1384.24 L8258.61 1384.24 L8278.59 1384.24 L8278.59 1384.24 L8258.61 1384.24 L8258.61 1384.24  Z\n",
       "  \" fill=\"#009af9\" fill-rule=\"evenodd\" fill-opacity=\"1\"/>\n",
       "<polyline clip-path=\"url(#clip202)\" style=\"stroke:#000000; stroke-linecap:butt; stroke-linejoin:round; stroke-width:4; stroke-opacity:1; fill:none\" points=\"\n",
       "  8258.61,1384.24 8258.61,1384.24 8278.59,1384.24 8258.61,1384.24 \n",
       "  \"/>\n",
       "<path clip-path=\"url(#clip202)\" d=\"\n",
       "M8278.59 1384.24 L8278.59 1384.24 L8298.57 1384.24 L8298.57 1384.24 L8278.59 1384.24 L8278.59 1384.24  Z\n",
       "  \" fill=\"#009af9\" fill-rule=\"evenodd\" fill-opacity=\"1\"/>\n",
       "<polyline clip-path=\"url(#clip202)\" style=\"stroke:#000000; stroke-linecap:butt; stroke-linejoin:round; stroke-width:4; stroke-opacity:1; fill:none\" points=\"\n",
       "  8278.59,1384.24 8278.59,1384.24 8298.57,1384.24 8278.59,1384.24 \n",
       "  \"/>\n",
       "<path clip-path=\"url(#clip202)\" d=\"\n",
       "M8298.57 1384.24 L8298.57 1384.24 L8318.54 1384.24 L8318.54 1384.24 L8298.57 1384.24 L8298.57 1384.24  Z\n",
       "  \" fill=\"#009af9\" fill-rule=\"evenodd\" fill-opacity=\"1\"/>\n",
       "<polyline clip-path=\"url(#clip202)\" style=\"stroke:#000000; stroke-linecap:butt; stroke-linejoin:round; stroke-width:4; stroke-opacity:1; fill:none\" points=\"\n",
       "  8298.57,1384.24 8298.57,1384.24 8318.54,1384.24 8298.57,1384.24 \n",
       "  \"/>\n",
       "<path clip-path=\"url(#clip202)\" d=\"\n",
       "M8318.54 1384.24 L8318.54 1384.24 L8338.52 1384.24 L8338.52 1384.24 L8318.54 1384.24 L8318.54 1384.24  Z\n",
       "  \" fill=\"#009af9\" fill-rule=\"evenodd\" fill-opacity=\"1\"/>\n",
       "<polyline clip-path=\"url(#clip202)\" style=\"stroke:#000000; stroke-linecap:butt; stroke-linejoin:round; stroke-width:4; stroke-opacity:1; fill:none\" points=\"\n",
       "  8318.54,1384.24 8318.54,1384.24 8338.52,1384.24 8318.54,1384.24 \n",
       "  \"/>\n",
       "<path clip-path=\"url(#clip202)\" d=\"\n",
       "M8338.52 1384.24 L8338.52 1384.24 L8358.5 1384.24 L8358.5 1384.24 L8338.52 1384.24 L8338.52 1384.24  Z\n",
       "  \" fill=\"#009af9\" fill-rule=\"evenodd\" fill-opacity=\"1\"/>\n",
       "<polyline clip-path=\"url(#clip202)\" style=\"stroke:#000000; stroke-linecap:butt; stroke-linejoin:round; stroke-width:4; stroke-opacity:1; fill:none\" points=\"\n",
       "  8338.52,1384.24 8338.52,1384.24 8358.5,1384.24 8338.52,1384.24 \n",
       "  \"/>\n",
       "<path clip-path=\"url(#clip202)\" d=\"\n",
       "M8358.5 1384.24 L8358.5 1384.24 L8378.48 1384.24 L8378.48 1384.24 L8358.5 1384.24 L8358.5 1384.24  Z\n",
       "  \" fill=\"#009af9\" fill-rule=\"evenodd\" fill-opacity=\"1\"/>\n",
       "<polyline clip-path=\"url(#clip202)\" style=\"stroke:#000000; stroke-linecap:butt; stroke-linejoin:round; stroke-width:4; stroke-opacity:1; fill:none\" points=\"\n",
       "  8358.5,1384.24 8358.5,1384.24 8378.48,1384.24 8358.5,1384.24 \n",
       "  \"/>\n",
       "<path clip-path=\"url(#clip202)\" d=\"\n",
       "M8378.48 1384.24 L8378.48 1384.24 L8398.45 1384.24 L8398.45 1384.24 L8378.48 1384.24 L8378.48 1384.24  Z\n",
       "  \" fill=\"#009af9\" fill-rule=\"evenodd\" fill-opacity=\"1\"/>\n",
       "<polyline clip-path=\"url(#clip202)\" style=\"stroke:#000000; stroke-linecap:butt; stroke-linejoin:round; stroke-width:4; stroke-opacity:1; fill:none\" points=\"\n",
       "  8378.48,1384.24 8378.48,1384.24 8398.45,1384.24 8378.48,1384.24 \n",
       "  \"/>\n",
       "<path clip-path=\"url(#clip202)\" d=\"\n",
       "M8398.45 1384.24 L8398.45 1384.24 L8418.43 1384.24 L8418.43 1384.24 L8398.45 1384.24 L8398.45 1384.24  Z\n",
       "  \" fill=\"#009af9\" fill-rule=\"evenodd\" fill-opacity=\"1\"/>\n",
       "<polyline clip-path=\"url(#clip202)\" style=\"stroke:#000000; stroke-linecap:butt; stroke-linejoin:round; stroke-width:4; stroke-opacity:1; fill:none\" points=\"\n",
       "  8398.45,1384.24 8398.45,1384.24 8418.43,1384.24 8398.45,1384.24 \n",
       "  \"/>\n",
       "<path clip-path=\"url(#clip202)\" d=\"\n",
       "M8418.43 1384.24 L8418.43 1384.24 L8438.41 1384.24 L8438.41 1384.24 L8418.43 1384.24 L8418.43 1384.24  Z\n",
       "  \" fill=\"#009af9\" fill-rule=\"evenodd\" fill-opacity=\"1\"/>\n",
       "<polyline clip-path=\"url(#clip202)\" style=\"stroke:#000000; stroke-linecap:butt; stroke-linejoin:round; stroke-width:4; stroke-opacity:1; fill:none\" points=\"\n",
       "  8418.43,1384.24 8418.43,1384.24 8438.41,1384.24 8418.43,1384.24 \n",
       "  \"/>\n",
       "<path clip-path=\"url(#clip202)\" d=\"\n",
       "M8438.41 1384.24 L8438.41 1384.24 L8458.38 1384.24 L8458.38 1384.24 L8438.41 1384.24 L8438.41 1384.24  Z\n",
       "  \" fill=\"#009af9\" fill-rule=\"evenodd\" fill-opacity=\"1\"/>\n",
       "<polyline clip-path=\"url(#clip202)\" style=\"stroke:#000000; stroke-linecap:butt; stroke-linejoin:round; stroke-width:4; stroke-opacity:1; fill:none\" points=\"\n",
       "  8438.41,1384.24 8438.41,1384.24 8458.38,1384.24 8438.41,1384.24 \n",
       "  \"/>\n",
       "<path clip-path=\"url(#clip202)\" d=\"\n",
       "M8458.38 1384.24 L8458.38 1384.24 L8478.36 1384.24 L8478.36 1384.24 L8458.38 1384.24 L8458.38 1384.24  Z\n",
       "  \" fill=\"#009af9\" fill-rule=\"evenodd\" fill-opacity=\"1\"/>\n",
       "<polyline clip-path=\"url(#clip202)\" style=\"stroke:#000000; stroke-linecap:butt; stroke-linejoin:round; stroke-width:4; stroke-opacity:1; fill:none\" points=\"\n",
       "  8458.38,1384.24 8458.38,1384.24 8478.36,1384.24 8458.38,1384.24 \n",
       "  \"/>\n",
       "<path clip-path=\"url(#clip202)\" d=\"\n",
       "M8478.36 1384.24 L8478.36 1384.24 L8498.34 1384.24 L8498.34 1384.24 L8478.36 1384.24 L8478.36 1384.24  Z\n",
       "  \" fill=\"#009af9\" fill-rule=\"evenodd\" fill-opacity=\"1\"/>\n",
       "<polyline clip-path=\"url(#clip202)\" style=\"stroke:#000000; stroke-linecap:butt; stroke-linejoin:round; stroke-width:4; stroke-opacity:1; fill:none\" points=\"\n",
       "  8478.36,1384.24 8478.36,1384.24 8498.34,1384.24 8478.36,1384.24 \n",
       "  \"/>\n",
       "<path clip-path=\"url(#clip202)\" d=\"\n",
       "M8498.34 1384.24 L8498.34 1384.24 L8518.32 1384.24 L8518.32 1384.24 L8498.34 1384.24 L8498.34 1384.24  Z\n",
       "  \" fill=\"#009af9\" fill-rule=\"evenodd\" fill-opacity=\"1\"/>\n",
       "<polyline clip-path=\"url(#clip202)\" style=\"stroke:#000000; stroke-linecap:butt; stroke-linejoin:round; stroke-width:4; stroke-opacity:1; fill:none\" points=\"\n",
       "  8498.34,1384.24 8498.34,1384.24 8518.32,1384.24 8498.34,1384.24 \n",
       "  \"/>\n",
       "<path clip-path=\"url(#clip202)\" d=\"\n",
       "M8518.32 1384.24 L8518.32 1384.24 L8538.29 1384.24 L8538.29 1384.24 L8518.32 1384.24 L8518.32 1384.24  Z\n",
       "  \" fill=\"#009af9\" fill-rule=\"evenodd\" fill-opacity=\"1\"/>\n",
       "<polyline clip-path=\"url(#clip202)\" style=\"stroke:#000000; stroke-linecap:butt; stroke-linejoin:round; stroke-width:4; stroke-opacity:1; fill:none\" points=\"\n",
       "  8518.32,1384.24 8518.32,1384.24 8538.29,1384.24 8518.32,1384.24 \n",
       "  \"/>\n",
       "<path clip-path=\"url(#clip202)\" d=\"\n",
       "M8538.29 1276.07 L8538.29 1384.24 L8558.27 1384.24 L8558.27 1276.07 L8538.29 1276.07 L8538.29 1276.07  Z\n",
       "  \" fill=\"#009af9\" fill-rule=\"evenodd\" fill-opacity=\"1\"/>\n",
       "<polyline clip-path=\"url(#clip202)\" style=\"stroke:#000000; stroke-linecap:butt; stroke-linejoin:round; stroke-width:4; stroke-opacity:1; fill:none\" points=\"\n",
       "  8538.29,1276.07 8538.29,1384.24 8558.27,1384.24 8558.27,1276.07 8538.29,1276.07 \n",
       "  \"/>\n",
       "<path clip-path=\"url(#clip202)\" d=\"\n",
       "M8558.27 1384.24 L8558.27 1384.24 L8578.25 1384.24 L8578.25 1384.24 L8558.27 1384.24 L8558.27 1384.24  Z\n",
       "  \" fill=\"#009af9\" fill-rule=\"evenodd\" fill-opacity=\"1\"/>\n",
       "<polyline clip-path=\"url(#clip202)\" style=\"stroke:#000000; stroke-linecap:butt; stroke-linejoin:round; stroke-width:4; stroke-opacity:1; fill:none\" points=\"\n",
       "  8558.27,1384.24 8558.27,1384.24 8578.25,1384.24 8558.27,1384.24 \n",
       "  \"/>\n",
       "<path clip-path=\"url(#clip202)\" d=\"\n",
       "M8578.25 1384.24 L8578.25 1384.24 L8598.22 1384.24 L8598.22 1384.24 L8578.25 1384.24 L8578.25 1384.24  Z\n",
       "  \" fill=\"#009af9\" fill-rule=\"evenodd\" fill-opacity=\"1\"/>\n",
       "<polyline clip-path=\"url(#clip202)\" style=\"stroke:#000000; stroke-linecap:butt; stroke-linejoin:round; stroke-width:4; stroke-opacity:1; fill:none\" points=\"\n",
       "  8578.25,1384.24 8578.25,1384.24 8598.22,1384.24 8578.25,1384.24 \n",
       "  \"/>\n",
       "<path clip-path=\"url(#clip202)\" d=\"\n",
       "M8598.22 1384.24 L8598.22 1384.24 L8618.2 1384.24 L8618.2 1384.24 L8598.22 1384.24 L8598.22 1384.24  Z\n",
       "  \" fill=\"#009af9\" fill-rule=\"evenodd\" fill-opacity=\"1\"/>\n",
       "<polyline clip-path=\"url(#clip202)\" style=\"stroke:#000000; stroke-linecap:butt; stroke-linejoin:round; stroke-width:4; stroke-opacity:1; fill:none\" points=\"\n",
       "  8598.22,1384.24 8598.22,1384.24 8618.2,1384.24 8598.22,1384.24 \n",
       "  \"/>\n",
       "<path clip-path=\"url(#clip202)\" d=\"\n",
       "M8618.2 1384.24 L8618.2 1384.24 L8638.18 1384.24 L8638.18 1384.24 L8618.2 1384.24 L8618.2 1384.24  Z\n",
       "  \" fill=\"#009af9\" fill-rule=\"evenodd\" fill-opacity=\"1\"/>\n",
       "<polyline clip-path=\"url(#clip202)\" style=\"stroke:#000000; stroke-linecap:butt; stroke-linejoin:round; stroke-width:4; stroke-opacity:1; fill:none\" points=\"\n",
       "  8618.2,1384.24 8618.2,1384.24 8638.18,1384.24 8618.2,1384.24 \n",
       "  \"/>\n",
       "<path clip-path=\"url(#clip202)\" d=\"\n",
       "M8638.18 1384.24 L8638.18 1384.24 L8658.16 1384.24 L8658.16 1384.24 L8638.18 1384.24 L8638.18 1384.24  Z\n",
       "  \" fill=\"#009af9\" fill-rule=\"evenodd\" fill-opacity=\"1\"/>\n",
       "<polyline clip-path=\"url(#clip202)\" style=\"stroke:#000000; stroke-linecap:butt; stroke-linejoin:round; stroke-width:4; stroke-opacity:1; fill:none\" points=\"\n",
       "  8638.18,1384.24 8638.18,1384.24 8658.16,1384.24 8638.18,1384.24 \n",
       "  \"/>\n",
       "<path clip-path=\"url(#clip202)\" d=\"\n",
       "M8658.16 1384.24 L8658.16 1384.24 L8678.13 1384.24 L8678.13 1384.24 L8658.16 1384.24 L8658.16 1384.24  Z\n",
       "  \" fill=\"#009af9\" fill-rule=\"evenodd\" fill-opacity=\"1\"/>\n",
       "<polyline clip-path=\"url(#clip202)\" style=\"stroke:#000000; stroke-linecap:butt; stroke-linejoin:round; stroke-width:4; stroke-opacity:1; fill:none\" points=\"\n",
       "  8658.16,1384.24 8658.16,1384.24 8678.13,1384.24 8658.16,1384.24 \n",
       "  \"/>\n",
       "<path clip-path=\"url(#clip202)\" d=\"\n",
       "M8678.13 1384.24 L8678.13 1384.24 L8698.11 1384.24 L8698.11 1384.24 L8678.13 1384.24 L8678.13 1384.24  Z\n",
       "  \" fill=\"#009af9\" fill-rule=\"evenodd\" fill-opacity=\"1\"/>\n",
       "<polyline clip-path=\"url(#clip202)\" style=\"stroke:#000000; stroke-linecap:butt; stroke-linejoin:round; stroke-width:4; stroke-opacity:1; fill:none\" points=\"\n",
       "  8678.13,1384.24 8678.13,1384.24 8698.11,1384.24 8678.13,1384.24 \n",
       "  \"/>\n",
       "<path clip-path=\"url(#clip202)\" d=\"\n",
       "M8698.11 1384.24 L8698.11 1384.24 L8718.09 1384.24 L8718.09 1384.24 L8698.11 1384.24 L8698.11 1384.24  Z\n",
       "  \" fill=\"#009af9\" fill-rule=\"evenodd\" fill-opacity=\"1\"/>\n",
       "<polyline clip-path=\"url(#clip202)\" style=\"stroke:#000000; stroke-linecap:butt; stroke-linejoin:round; stroke-width:4; stroke-opacity:1; fill:none\" points=\"\n",
       "  8698.11,1384.24 8698.11,1384.24 8718.09,1384.24 8698.11,1384.24 \n",
       "  \"/>\n",
       "<path clip-path=\"url(#clip202)\" d=\"\n",
       "M8718.09 1384.24 L8718.09 1384.24 L8738.07 1384.24 L8738.07 1384.24 L8718.09 1384.24 L8718.09 1384.24  Z\n",
       "  \" fill=\"#009af9\" fill-rule=\"evenodd\" fill-opacity=\"1\"/>\n",
       "<polyline clip-path=\"url(#clip202)\" style=\"stroke:#000000; stroke-linecap:butt; stroke-linejoin:round; stroke-width:4; stroke-opacity:1; fill:none\" points=\"\n",
       "  8718.09,1384.24 8718.09,1384.24 8738.07,1384.24 8718.09,1384.24 \n",
       "  \"/>\n",
       "<path clip-path=\"url(#clip202)\" d=\"\n",
       "M8738.07 1384.24 L8738.07 1384.24 L8758.04 1384.24 L8758.04 1384.24 L8738.07 1384.24 L8738.07 1384.24  Z\n",
       "  \" fill=\"#009af9\" fill-rule=\"evenodd\" fill-opacity=\"1\"/>\n",
       "<polyline clip-path=\"url(#clip202)\" style=\"stroke:#000000; stroke-linecap:butt; stroke-linejoin:round; stroke-width:4; stroke-opacity:1; fill:none\" points=\"\n",
       "  8738.07,1384.24 8738.07,1384.24 8758.04,1384.24 8738.07,1384.24 \n",
       "  \"/>\n",
       "<path clip-path=\"url(#clip202)\" d=\"\n",
       "M8758.04 1384.24 L8758.04 1384.24 L8778.02 1384.24 L8778.02 1384.24 L8758.04 1384.24 L8758.04 1384.24  Z\n",
       "  \" fill=\"#009af9\" fill-rule=\"evenodd\" fill-opacity=\"1\"/>\n",
       "<polyline clip-path=\"url(#clip202)\" style=\"stroke:#000000; stroke-linecap:butt; stroke-linejoin:round; stroke-width:4; stroke-opacity:1; fill:none\" points=\"\n",
       "  8758.04,1384.24 8758.04,1384.24 8778.02,1384.24 8758.04,1384.24 \n",
       "  \"/>\n",
       "<path clip-path=\"url(#clip202)\" d=\"\n",
       "M8778.02 1384.24 L8778.02 1384.24 L8798 1384.24 L8798 1384.24 L8778.02 1384.24 L8778.02 1384.24  Z\n",
       "  \" fill=\"#009af9\" fill-rule=\"evenodd\" fill-opacity=\"1\"/>\n",
       "<polyline clip-path=\"url(#clip202)\" style=\"stroke:#000000; stroke-linecap:butt; stroke-linejoin:round; stroke-width:4; stroke-opacity:1; fill:none\" points=\"\n",
       "  8778.02,1384.24 8778.02,1384.24 8798,1384.24 8778.02,1384.24 \n",
       "  \"/>\n",
       "<path clip-path=\"url(#clip202)\" d=\"\n",
       "M8798 1384.24 L8798 1384.24 L8817.97 1384.24 L8817.97 1384.24 L8798 1384.24 L8798 1384.24  Z\n",
       "  \" fill=\"#009af9\" fill-rule=\"evenodd\" fill-opacity=\"1\"/>\n",
       "<polyline clip-path=\"url(#clip202)\" style=\"stroke:#000000; stroke-linecap:butt; stroke-linejoin:round; stroke-width:4; stroke-opacity:1; fill:none\" points=\"\n",
       "  8798,1384.24 8798,1384.24 8817.97,1384.24 8798,1384.24 \n",
       "  \"/>\n",
       "<path clip-path=\"url(#clip202)\" d=\"\n",
       "M8817.97 1384.24 L8817.97 1384.24 L8837.95 1384.24 L8837.95 1384.24 L8817.97 1384.24 L8817.97 1384.24  Z\n",
       "  \" fill=\"#009af9\" fill-rule=\"evenodd\" fill-opacity=\"1\"/>\n",
       "<polyline clip-path=\"url(#clip202)\" style=\"stroke:#000000; stroke-linecap:butt; stroke-linejoin:round; stroke-width:4; stroke-opacity:1; fill:none\" points=\"\n",
       "  8817.97,1384.24 8817.97,1384.24 8837.95,1384.24 8817.97,1384.24 \n",
       "  \"/>\n",
       "<path clip-path=\"url(#clip202)\" d=\"\n",
       "M8837.95 1384.24 L8837.95 1384.24 L8857.93 1384.24 L8857.93 1384.24 L8837.95 1384.24 L8837.95 1384.24  Z\n",
       "  \" fill=\"#009af9\" fill-rule=\"evenodd\" fill-opacity=\"1\"/>\n",
       "<polyline clip-path=\"url(#clip202)\" style=\"stroke:#000000; stroke-linecap:butt; stroke-linejoin:round; stroke-width:4; stroke-opacity:1; fill:none\" points=\"\n",
       "  8837.95,1384.24 8837.95,1384.24 8857.93,1384.24 8837.95,1384.24 \n",
       "  \"/>\n",
       "<path clip-path=\"url(#clip202)\" d=\"\n",
       "M8857.93 1384.24 L8857.93 1384.24 L8877.91 1384.24 L8877.91 1384.24 L8857.93 1384.24 L8857.93 1384.24  Z\n",
       "  \" fill=\"#009af9\" fill-rule=\"evenodd\" fill-opacity=\"1\"/>\n",
       "<polyline clip-path=\"url(#clip202)\" style=\"stroke:#000000; stroke-linecap:butt; stroke-linejoin:round; stroke-width:4; stroke-opacity:1; fill:none\" points=\"\n",
       "  8857.93,1384.24 8857.93,1384.24 8877.91,1384.24 8857.93,1384.24 \n",
       "  \"/>\n",
       "<path clip-path=\"url(#clip202)\" d=\"\n",
       "M8877.91 1384.24 L8877.91 1384.24 L8897.88 1384.24 L8897.88 1384.24 L8877.91 1384.24 L8877.91 1384.24  Z\n",
       "  \" fill=\"#009af9\" fill-rule=\"evenodd\" fill-opacity=\"1\"/>\n",
       "<polyline clip-path=\"url(#clip202)\" style=\"stroke:#000000; stroke-linecap:butt; stroke-linejoin:round; stroke-width:4; stroke-opacity:1; fill:none\" points=\"\n",
       "  8877.91,1384.24 8877.91,1384.24 8897.88,1384.24 8877.91,1384.24 \n",
       "  \"/>\n",
       "<path clip-path=\"url(#clip202)\" d=\"\n",
       "M8897.88 1384.24 L8897.88 1384.24 L8917.86 1384.24 L8917.86 1384.24 L8897.88 1384.24 L8897.88 1384.24  Z\n",
       "  \" fill=\"#009af9\" fill-rule=\"evenodd\" fill-opacity=\"1\"/>\n",
       "<polyline clip-path=\"url(#clip202)\" style=\"stroke:#000000; stroke-linecap:butt; stroke-linejoin:round; stroke-width:4; stroke-opacity:1; fill:none\" points=\"\n",
       "  8897.88,1384.24 8897.88,1384.24 8917.86,1384.24 8897.88,1384.24 \n",
       "  \"/>\n",
       "<path clip-path=\"url(#clip202)\" d=\"\n",
       "M8917.86 1384.24 L8917.86 1384.24 L8937.84 1384.24 L8937.84 1384.24 L8917.86 1384.24 L8917.86 1384.24  Z\n",
       "  \" fill=\"#009af9\" fill-rule=\"evenodd\" fill-opacity=\"1\"/>\n",
       "<polyline clip-path=\"url(#clip202)\" style=\"stroke:#000000; stroke-linecap:butt; stroke-linejoin:round; stroke-width:4; stroke-opacity:1; fill:none\" points=\"\n",
       "  8917.86,1384.24 8917.86,1384.24 8937.84,1384.24 8917.86,1384.24 \n",
       "  \"/>\n",
       "<path clip-path=\"url(#clip202)\" d=\"\n",
       "M8937.84 1384.24 L8937.84 1384.24 L8957.81 1384.24 L8957.81 1384.24 L8937.84 1384.24 L8937.84 1384.24  Z\n",
       "  \" fill=\"#009af9\" fill-rule=\"evenodd\" fill-opacity=\"1\"/>\n",
       "<polyline clip-path=\"url(#clip202)\" style=\"stroke:#000000; stroke-linecap:butt; stroke-linejoin:round; stroke-width:4; stroke-opacity:1; fill:none\" points=\"\n",
       "  8937.84,1384.24 8937.84,1384.24 8957.81,1384.24 8937.84,1384.24 \n",
       "  \"/>\n",
       "<path clip-path=\"url(#clip202)\" d=\"\n",
       "M8957.81 1384.24 L8957.81 1384.24 L8977.79 1384.24 L8977.79 1384.24 L8957.81 1384.24 L8957.81 1384.24  Z\n",
       "  \" fill=\"#009af9\" fill-rule=\"evenodd\" fill-opacity=\"1\"/>\n",
       "<polyline clip-path=\"url(#clip202)\" style=\"stroke:#000000; stroke-linecap:butt; stroke-linejoin:round; stroke-width:4; stroke-opacity:1; fill:none\" points=\"\n",
       "  8957.81,1384.24 8957.81,1384.24 8977.79,1384.24 8957.81,1384.24 \n",
       "  \"/>\n",
       "<path clip-path=\"url(#clip202)\" d=\"\n",
       "M8977.79 1384.24 L8977.79 1384.24 L8997.77 1384.24 L8997.77 1384.24 L8977.79 1384.24 L8977.79 1384.24  Z\n",
       "  \" fill=\"#009af9\" fill-rule=\"evenodd\" fill-opacity=\"1\"/>\n",
       "<polyline clip-path=\"url(#clip202)\" style=\"stroke:#000000; stroke-linecap:butt; stroke-linejoin:round; stroke-width:4; stroke-opacity:1; fill:none\" points=\"\n",
       "  8977.79,1384.24 8977.79,1384.24 8997.77,1384.24 8977.79,1384.24 \n",
       "  \"/>\n",
       "<path clip-path=\"url(#clip202)\" d=\"\n",
       "M8997.77 1384.24 L8997.77 1384.24 L9017.75 1384.24 L9017.75 1384.24 L8997.77 1384.24 L8997.77 1384.24  Z\n",
       "  \" fill=\"#009af9\" fill-rule=\"evenodd\" fill-opacity=\"1\"/>\n",
       "<polyline clip-path=\"url(#clip202)\" style=\"stroke:#000000; stroke-linecap:butt; stroke-linejoin:round; stroke-width:4; stroke-opacity:1; fill:none\" points=\"\n",
       "  8997.77,1384.24 8997.77,1384.24 9017.75,1384.24 8997.77,1384.24 \n",
       "  \"/>\n",
       "<path clip-path=\"url(#clip202)\" d=\"\n",
       "M9017.75 1384.24 L9017.75 1384.24 L9037.72 1384.24 L9037.72 1384.24 L9017.75 1384.24 L9017.75 1384.24  Z\n",
       "  \" fill=\"#009af9\" fill-rule=\"evenodd\" fill-opacity=\"1\"/>\n",
       "<polyline clip-path=\"url(#clip202)\" style=\"stroke:#000000; stroke-linecap:butt; stroke-linejoin:round; stroke-width:4; stroke-opacity:1; fill:none\" points=\"\n",
       "  9017.75,1384.24 9017.75,1384.24 9037.72,1384.24 9017.75,1384.24 \n",
       "  \"/>\n",
       "<path clip-path=\"url(#clip202)\" d=\"\n",
       "M9037.72 1384.24 L9037.72 1384.24 L9057.7 1384.24 L9057.7 1384.24 L9037.72 1384.24 L9037.72 1384.24  Z\n",
       "  \" fill=\"#009af9\" fill-rule=\"evenodd\" fill-opacity=\"1\"/>\n",
       "<polyline clip-path=\"url(#clip202)\" style=\"stroke:#000000; stroke-linecap:butt; stroke-linejoin:round; stroke-width:4; stroke-opacity:1; fill:none\" points=\"\n",
       "  9037.72,1384.24 9037.72,1384.24 9057.7,1384.24 9037.72,1384.24 \n",
       "  \"/>\n",
       "<path clip-path=\"url(#clip202)\" d=\"\n",
       "M9057.7 1384.24 L9057.7 1384.24 L9077.68 1384.24 L9077.68 1384.24 L9057.7 1384.24 L9057.7 1384.24  Z\n",
       "  \" fill=\"#009af9\" fill-rule=\"evenodd\" fill-opacity=\"1\"/>\n",
       "<polyline clip-path=\"url(#clip202)\" style=\"stroke:#000000; stroke-linecap:butt; stroke-linejoin:round; stroke-width:4; stroke-opacity:1; fill:none\" points=\"\n",
       "  9057.7,1384.24 9057.7,1384.24 9077.68,1384.24 9057.7,1384.24 \n",
       "  \"/>\n",
       "<path clip-path=\"url(#clip202)\" d=\"\n",
       "M9077.68 1384.24 L9077.68 1384.24 L9097.66 1384.24 L9097.66 1384.24 L9077.68 1384.24 L9077.68 1384.24  Z\n",
       "  \" fill=\"#009af9\" fill-rule=\"evenodd\" fill-opacity=\"1\"/>\n",
       "<polyline clip-path=\"url(#clip202)\" style=\"stroke:#000000; stroke-linecap:butt; stroke-linejoin:round; stroke-width:4; stroke-opacity:1; fill:none\" points=\"\n",
       "  9077.68,1384.24 9077.68,1384.24 9097.66,1384.24 9077.68,1384.24 \n",
       "  \"/>\n",
       "<path clip-path=\"url(#clip202)\" d=\"\n",
       "M9097.66 1384.24 L9097.66 1384.24 L9117.63 1384.24 L9117.63 1384.24 L9097.66 1384.24 L9097.66 1384.24  Z\n",
       "  \" fill=\"#009af9\" fill-rule=\"evenodd\" fill-opacity=\"1\"/>\n",
       "<polyline clip-path=\"url(#clip202)\" style=\"stroke:#000000; stroke-linecap:butt; stroke-linejoin:round; stroke-width:4; stroke-opacity:1; fill:none\" points=\"\n",
       "  9097.66,1384.24 9097.66,1384.24 9117.63,1384.24 9097.66,1384.24 \n",
       "  \"/>\n",
       "<path clip-path=\"url(#clip202)\" d=\"\n",
       "M9117.63 1384.24 L9117.63 1384.24 L9137.61 1384.24 L9137.61 1384.24 L9117.63 1384.24 L9117.63 1384.24  Z\n",
       "  \" fill=\"#009af9\" fill-rule=\"evenodd\" fill-opacity=\"1\"/>\n",
       "<polyline clip-path=\"url(#clip202)\" style=\"stroke:#000000; stroke-linecap:butt; stroke-linejoin:round; stroke-width:4; stroke-opacity:1; fill:none\" points=\"\n",
       "  9117.63,1384.24 9117.63,1384.24 9137.61,1384.24 9117.63,1384.24 \n",
       "  \"/>\n",
       "<path clip-path=\"url(#clip202)\" d=\"\n",
       "M9137.61 1384.24 L9137.61 1384.24 L9157.59 1384.24 L9157.59 1384.24 L9137.61 1384.24 L9137.61 1384.24  Z\n",
       "  \" fill=\"#009af9\" fill-rule=\"evenodd\" fill-opacity=\"1\"/>\n",
       "<polyline clip-path=\"url(#clip202)\" style=\"stroke:#000000; stroke-linecap:butt; stroke-linejoin:round; stroke-width:4; stroke-opacity:1; fill:none\" points=\"\n",
       "  9137.61,1384.24 9137.61,1384.24 9157.59,1384.24 9137.61,1384.24 \n",
       "  \"/>\n",
       "<path clip-path=\"url(#clip202)\" d=\"\n",
       "M9157.59 1384.24 L9157.59 1384.24 L9177.56 1384.24 L9177.56 1384.24 L9157.59 1384.24 L9157.59 1384.24  Z\n",
       "  \" fill=\"#009af9\" fill-rule=\"evenodd\" fill-opacity=\"1\"/>\n",
       "<polyline clip-path=\"url(#clip202)\" style=\"stroke:#000000; stroke-linecap:butt; stroke-linejoin:round; stroke-width:4; stroke-opacity:1; fill:none\" points=\"\n",
       "  9157.59,1384.24 9157.59,1384.24 9177.56,1384.24 9157.59,1384.24 \n",
       "  \"/>\n",
       "<path clip-path=\"url(#clip202)\" d=\"\n",
       "M9177.56 1384.24 L9177.56 1384.24 L9197.54 1384.24 L9197.54 1384.24 L9177.56 1384.24 L9177.56 1384.24  Z\n",
       "  \" fill=\"#009af9\" fill-rule=\"evenodd\" fill-opacity=\"1\"/>\n",
       "<polyline clip-path=\"url(#clip202)\" style=\"stroke:#000000; stroke-linecap:butt; stroke-linejoin:round; stroke-width:4; stroke-opacity:1; fill:none\" points=\"\n",
       "  9177.56,1384.24 9177.56,1384.24 9197.54,1384.24 9177.56,1384.24 \n",
       "  \"/>\n",
       "<path clip-path=\"url(#clip202)\" d=\"\n",
       "M9197.54 1384.24 L9197.54 1384.24 L9217.52 1384.24 L9217.52 1384.24 L9197.54 1384.24 L9197.54 1384.24  Z\n",
       "  \" fill=\"#009af9\" fill-rule=\"evenodd\" fill-opacity=\"1\"/>\n",
       "<polyline clip-path=\"url(#clip202)\" style=\"stroke:#000000; stroke-linecap:butt; stroke-linejoin:round; stroke-width:4; stroke-opacity:1; fill:none\" points=\"\n",
       "  9197.54,1384.24 9197.54,1384.24 9217.52,1384.24 9197.54,1384.24 \n",
       "  \"/>\n",
       "<path clip-path=\"url(#clip202)\" d=\"\n",
       "M9217.52 1384.24 L9217.52 1384.24 L9237.5 1384.24 L9237.5 1384.24 L9217.52 1384.24 L9217.52 1384.24  Z\n",
       "  \" fill=\"#009af9\" fill-rule=\"evenodd\" fill-opacity=\"1\"/>\n",
       "<polyline clip-path=\"url(#clip202)\" style=\"stroke:#000000; stroke-linecap:butt; stroke-linejoin:round; stroke-width:4; stroke-opacity:1; fill:none\" points=\"\n",
       "  9217.52,1384.24 9217.52,1384.24 9237.5,1384.24 9217.52,1384.24 \n",
       "  \"/>\n",
       "<path clip-path=\"url(#clip202)\" d=\"\n",
       "M9237.5 1384.24 L9237.5 1384.24 L9257.47 1384.24 L9257.47 1384.24 L9237.5 1384.24 L9237.5 1384.24  Z\n",
       "  \" fill=\"#009af9\" fill-rule=\"evenodd\" fill-opacity=\"1\"/>\n",
       "<polyline clip-path=\"url(#clip202)\" style=\"stroke:#000000; stroke-linecap:butt; stroke-linejoin:round; stroke-width:4; stroke-opacity:1; fill:none\" points=\"\n",
       "  9237.5,1384.24 9237.5,1384.24 9257.47,1384.24 9237.5,1384.24 \n",
       "  \"/>\n",
       "<path clip-path=\"url(#clip202)\" d=\"\n",
       "M9257.47 1384.24 L9257.47 1384.24 L9277.45 1384.24 L9277.45 1384.24 L9257.47 1384.24 L9257.47 1384.24  Z\n",
       "  \" fill=\"#009af9\" fill-rule=\"evenodd\" fill-opacity=\"1\"/>\n",
       "<polyline clip-path=\"url(#clip202)\" style=\"stroke:#000000; stroke-linecap:butt; stroke-linejoin:round; stroke-width:4; stroke-opacity:1; fill:none\" points=\"\n",
       "  9257.47,1384.24 9257.47,1384.24 9277.45,1384.24 9257.47,1384.24 \n",
       "  \"/>\n",
       "<path clip-path=\"url(#clip202)\" d=\"\n",
       "M9277.45 1276.07 L9277.45 1384.24 L9297.43 1384.24 L9297.43 1276.07 L9277.45 1276.07 L9277.45 1276.07  Z\n",
       "  \" fill=\"#009af9\" fill-rule=\"evenodd\" fill-opacity=\"1\"/>\n",
       "<polyline clip-path=\"url(#clip202)\" style=\"stroke:#000000; stroke-linecap:butt; stroke-linejoin:round; stroke-width:4; stroke-opacity:1; fill:none\" points=\"\n",
       "  9277.45,1276.07 9277.45,1384.24 9297.43,1384.24 9297.43,1276.07 9277.45,1276.07 \n",
       "  \"/>\n",
       "<path clip-path=\"url(#clip202)\" d=\"\n",
       "M9297.43 1384.24 L9297.43 1384.24 L9317.4 1384.24 L9317.4 1384.24 L9297.43 1384.24 L9297.43 1384.24  Z\n",
       "  \" fill=\"#009af9\" fill-rule=\"evenodd\" fill-opacity=\"1\"/>\n",
       "<polyline clip-path=\"url(#clip202)\" style=\"stroke:#000000; stroke-linecap:butt; stroke-linejoin:round; stroke-width:4; stroke-opacity:1; fill:none\" points=\"\n",
       "  9297.43,1384.24 9297.43,1384.24 9317.4,1384.24 9297.43,1384.24 \n",
       "  \"/>\n",
       "<path clip-path=\"url(#clip202)\" d=\"\n",
       "M9317.4 1384.24 L9317.4 1384.24 L9337.38 1384.24 L9337.38 1384.24 L9317.4 1384.24 L9317.4 1384.24  Z\n",
       "  \" fill=\"#009af9\" fill-rule=\"evenodd\" fill-opacity=\"1\"/>\n",
       "<polyline clip-path=\"url(#clip202)\" style=\"stroke:#000000; stroke-linecap:butt; stroke-linejoin:round; stroke-width:4; stroke-opacity:1; fill:none\" points=\"\n",
       "  9317.4,1384.24 9317.4,1384.24 9337.38,1384.24 9317.4,1384.24 \n",
       "  \"/>\n",
       "<path clip-path=\"url(#clip202)\" d=\"\n",
       "M9337.38 1384.24 L9337.38 1384.24 L9357.36 1384.24 L9357.36 1384.24 L9337.38 1384.24 L9337.38 1384.24  Z\n",
       "  \" fill=\"#009af9\" fill-rule=\"evenodd\" fill-opacity=\"1\"/>\n",
       "<polyline clip-path=\"url(#clip202)\" style=\"stroke:#000000; stroke-linecap:butt; stroke-linejoin:round; stroke-width:4; stroke-opacity:1; fill:none\" points=\"\n",
       "  9337.38,1384.24 9337.38,1384.24 9357.36,1384.24 9337.38,1384.24 \n",
       "  \"/>\n",
       "<path clip-path=\"url(#clip202)\" d=\"\n",
       "M9357.36 1384.24 L9357.36 1384.24 L9377.34 1384.24 L9377.34 1384.24 L9357.36 1384.24 L9357.36 1384.24  Z\n",
       "  \" fill=\"#009af9\" fill-rule=\"evenodd\" fill-opacity=\"1\"/>\n",
       "<polyline clip-path=\"url(#clip202)\" style=\"stroke:#000000; stroke-linecap:butt; stroke-linejoin:round; stroke-width:4; stroke-opacity:1; fill:none\" points=\"\n",
       "  9357.36,1384.24 9357.36,1384.24 9377.34,1384.24 9357.36,1384.24 \n",
       "  \"/>\n",
       "<path clip-path=\"url(#clip202)\" d=\"\n",
       "M9377.34 1384.24 L9377.34 1384.24 L9397.31 1384.24 L9397.31 1384.24 L9377.34 1384.24 L9377.34 1384.24  Z\n",
       "  \" fill=\"#009af9\" fill-rule=\"evenodd\" fill-opacity=\"1\"/>\n",
       "<polyline clip-path=\"url(#clip202)\" style=\"stroke:#000000; stroke-linecap:butt; stroke-linejoin:round; stroke-width:4; stroke-opacity:1; fill:none\" points=\"\n",
       "  9377.34,1384.24 9377.34,1384.24 9397.31,1384.24 9377.34,1384.24 \n",
       "  \"/>\n",
       "<path clip-path=\"url(#clip202)\" d=\"\n",
       "M9397.31 1384.24 L9397.31 1384.24 L9417.29 1384.24 L9417.29 1384.24 L9397.31 1384.24 L9397.31 1384.24  Z\n",
       "  \" fill=\"#009af9\" fill-rule=\"evenodd\" fill-opacity=\"1\"/>\n",
       "<polyline clip-path=\"url(#clip202)\" style=\"stroke:#000000; stroke-linecap:butt; stroke-linejoin:round; stroke-width:4; stroke-opacity:1; fill:none\" points=\"\n",
       "  9397.31,1384.24 9397.31,1384.24 9417.29,1384.24 9397.31,1384.24 \n",
       "  \"/>\n",
       "<path clip-path=\"url(#clip202)\" d=\"\n",
       "M9417.29 1384.24 L9417.29 1384.24 L9437.27 1384.24 L9437.27 1384.24 L9417.29 1384.24 L9417.29 1384.24  Z\n",
       "  \" fill=\"#009af9\" fill-rule=\"evenodd\" fill-opacity=\"1\"/>\n",
       "<polyline clip-path=\"url(#clip202)\" style=\"stroke:#000000; stroke-linecap:butt; stroke-linejoin:round; stroke-width:4; stroke-opacity:1; fill:none\" points=\"\n",
       "  9417.29,1384.24 9417.29,1384.24 9437.27,1384.24 9417.29,1384.24 \n",
       "  \"/>\n",
       "<path clip-path=\"url(#clip202)\" d=\"\n",
       "M9437.27 1384.24 L9437.27 1384.24 L9457.25 1384.24 L9457.25 1384.24 L9437.27 1384.24 L9437.27 1384.24  Z\n",
       "  \" fill=\"#009af9\" fill-rule=\"evenodd\" fill-opacity=\"1\"/>\n",
       "<polyline clip-path=\"url(#clip202)\" style=\"stroke:#000000; stroke-linecap:butt; stroke-linejoin:round; stroke-width:4; stroke-opacity:1; fill:none\" points=\"\n",
       "  9437.27,1384.24 9437.27,1384.24 9457.25,1384.24 9437.27,1384.24 \n",
       "  \"/>\n",
       "<path clip-path=\"url(#clip202)\" d=\"\n",
       "M9457.25 1384.24 L9457.25 1384.24 L9477.22 1384.24 L9477.22 1384.24 L9457.25 1384.24 L9457.25 1384.24  Z\n",
       "  \" fill=\"#009af9\" fill-rule=\"evenodd\" fill-opacity=\"1\"/>\n",
       "<polyline clip-path=\"url(#clip202)\" style=\"stroke:#000000; stroke-linecap:butt; stroke-linejoin:round; stroke-width:4; stroke-opacity:1; fill:none\" points=\"\n",
       "  9457.25,1384.24 9457.25,1384.24 9477.22,1384.24 9457.25,1384.24 \n",
       "  \"/>\n",
       "<path clip-path=\"url(#clip202)\" d=\"\n",
       "M9477.22 1384.24 L9477.22 1384.24 L9497.2 1384.24 L9497.2 1384.24 L9477.22 1384.24 L9477.22 1384.24  Z\n",
       "  \" fill=\"#009af9\" fill-rule=\"evenodd\" fill-opacity=\"1\"/>\n",
       "<polyline clip-path=\"url(#clip202)\" style=\"stroke:#000000; stroke-linecap:butt; stroke-linejoin:round; stroke-width:4; stroke-opacity:1; fill:none\" points=\"\n",
       "  9477.22,1384.24 9477.22,1384.24 9497.2,1384.24 9477.22,1384.24 \n",
       "  \"/>\n",
       "<path clip-path=\"url(#clip202)\" d=\"\n",
       "M9497.2 1384.24 L9497.2 1384.24 L9517.18 1384.24 L9517.18 1384.24 L9497.2 1384.24 L9497.2 1384.24  Z\n",
       "  \" fill=\"#009af9\" fill-rule=\"evenodd\" fill-opacity=\"1\"/>\n",
       "<polyline clip-path=\"url(#clip202)\" style=\"stroke:#000000; stroke-linecap:butt; stroke-linejoin:round; stroke-width:4; stroke-opacity:1; fill:none\" points=\"\n",
       "  9497.2,1384.24 9497.2,1384.24 9517.18,1384.24 9497.2,1384.24 \n",
       "  \"/>\n",
       "<path clip-path=\"url(#clip202)\" d=\"\n",
       "M9517.18 1384.24 L9517.18 1384.24 L9537.15 1384.24 L9537.15 1384.24 L9517.18 1384.24 L9517.18 1384.24  Z\n",
       "  \" fill=\"#009af9\" fill-rule=\"evenodd\" fill-opacity=\"1\"/>\n",
       "<polyline clip-path=\"url(#clip202)\" style=\"stroke:#000000; stroke-linecap:butt; stroke-linejoin:round; stroke-width:4; stroke-opacity:1; fill:none\" points=\"\n",
       "  9517.18,1384.24 9517.18,1384.24 9537.15,1384.24 9517.18,1384.24 \n",
       "  \"/>\n",
       "<path clip-path=\"url(#clip202)\" d=\"\n",
       "M9537.15 1384.24 L9537.15 1384.24 L9557.13 1384.24 L9557.13 1384.24 L9537.15 1384.24 L9537.15 1384.24  Z\n",
       "  \" fill=\"#009af9\" fill-rule=\"evenodd\" fill-opacity=\"1\"/>\n",
       "<polyline clip-path=\"url(#clip202)\" style=\"stroke:#000000; stroke-linecap:butt; stroke-linejoin:round; stroke-width:4; stroke-opacity:1; fill:none\" points=\"\n",
       "  9537.15,1384.24 9537.15,1384.24 9557.13,1384.24 9537.15,1384.24 \n",
       "  \"/>\n",
       "<path clip-path=\"url(#clip202)\" d=\"\n",
       "M9557.13 1384.24 L9557.13 1384.24 L9577.11 1384.24 L9577.11 1384.24 L9557.13 1384.24 L9557.13 1384.24  Z\n",
       "  \" fill=\"#009af9\" fill-rule=\"evenodd\" fill-opacity=\"1\"/>\n",
       "<polyline clip-path=\"url(#clip202)\" style=\"stroke:#000000; stroke-linecap:butt; stroke-linejoin:round; stroke-width:4; stroke-opacity:1; fill:none\" points=\"\n",
       "  9557.13,1384.24 9557.13,1384.24 9577.11,1384.24 9557.13,1384.24 \n",
       "  \"/>\n",
       "<path clip-path=\"url(#clip202)\" d=\"\n",
       "M9577.11 1384.24 L9577.11 1384.24 L9597.09 1384.24 L9597.09 1384.24 L9577.11 1384.24 L9577.11 1384.24  Z\n",
       "  \" fill=\"#009af9\" fill-rule=\"evenodd\" fill-opacity=\"1\"/>\n",
       "<polyline clip-path=\"url(#clip202)\" style=\"stroke:#000000; stroke-linecap:butt; stroke-linejoin:round; stroke-width:4; stroke-opacity:1; fill:none\" points=\"\n",
       "  9577.11,1384.24 9577.11,1384.24 9597.09,1384.24 9577.11,1384.24 \n",
       "  \"/>\n",
       "<path clip-path=\"url(#clip202)\" d=\"\n",
       "M9597.09 1384.24 L9597.09 1384.24 L9617.06 1384.24 L9617.06 1384.24 L9597.09 1384.24 L9597.09 1384.24  Z\n",
       "  \" fill=\"#009af9\" fill-rule=\"evenodd\" fill-opacity=\"1\"/>\n",
       "<polyline clip-path=\"url(#clip202)\" style=\"stroke:#000000; stroke-linecap:butt; stroke-linejoin:round; stroke-width:4; stroke-opacity:1; fill:none\" points=\"\n",
       "  9597.09,1384.24 9597.09,1384.24 9617.06,1384.24 9597.09,1384.24 \n",
       "  \"/>\n",
       "<path clip-path=\"url(#clip202)\" d=\"\n",
       "M9617.06 1384.24 L9617.06 1384.24 L9637.04 1384.24 L9637.04 1384.24 L9617.06 1384.24 L9617.06 1384.24  Z\n",
       "  \" fill=\"#009af9\" fill-rule=\"evenodd\" fill-opacity=\"1\"/>\n",
       "<polyline clip-path=\"url(#clip202)\" style=\"stroke:#000000; stroke-linecap:butt; stroke-linejoin:round; stroke-width:4; stroke-opacity:1; fill:none\" points=\"\n",
       "  9617.06,1384.24 9617.06,1384.24 9637.04,1384.24 9617.06,1384.24 \n",
       "  \"/>\n",
       "<path clip-path=\"url(#clip202)\" d=\"\n",
       "M9637.04 1384.24 L9637.04 1384.24 L9657.02 1384.24 L9657.02 1384.24 L9637.04 1384.24 L9637.04 1384.24  Z\n",
       "  \" fill=\"#009af9\" fill-rule=\"evenodd\" fill-opacity=\"1\"/>\n",
       "<polyline clip-path=\"url(#clip202)\" style=\"stroke:#000000; stroke-linecap:butt; stroke-linejoin:round; stroke-width:4; stroke-opacity:1; fill:none\" points=\"\n",
       "  9637.04,1384.24 9637.04,1384.24 9657.02,1384.24 9637.04,1384.24 \n",
       "  \"/>\n",
       "<path clip-path=\"url(#clip202)\" d=\"\n",
       "M9657.02 1384.24 L9657.02 1384.24 L9676.99 1384.24 L9676.99 1384.24 L9657.02 1384.24 L9657.02 1384.24  Z\n",
       "  \" fill=\"#009af9\" fill-rule=\"evenodd\" fill-opacity=\"1\"/>\n",
       "<polyline clip-path=\"url(#clip202)\" style=\"stroke:#000000; stroke-linecap:butt; stroke-linejoin:round; stroke-width:4; stroke-opacity:1; fill:none\" points=\"\n",
       "  9657.02,1384.24 9657.02,1384.24 9676.99,1384.24 9657.02,1384.24 \n",
       "  \"/>\n",
       "<path clip-path=\"url(#clip202)\" d=\"\n",
       "M9676.99 1384.24 L9676.99 1384.24 L9696.97 1384.24 L9696.97 1384.24 L9676.99 1384.24 L9676.99 1384.24  Z\n",
       "  \" fill=\"#009af9\" fill-rule=\"evenodd\" fill-opacity=\"1\"/>\n",
       "<polyline clip-path=\"url(#clip202)\" style=\"stroke:#000000; stroke-linecap:butt; stroke-linejoin:round; stroke-width:4; stroke-opacity:1; fill:none\" points=\"\n",
       "  9676.99,1384.24 9676.99,1384.24 9696.97,1384.24 9676.99,1384.24 \n",
       "  \"/>\n",
       "<path clip-path=\"url(#clip202)\" d=\"\n",
       "M9696.97 1384.24 L9696.97 1384.24 L9716.95 1384.24 L9716.95 1384.24 L9696.97 1384.24 L9696.97 1384.24  Z\n",
       "  \" fill=\"#009af9\" fill-rule=\"evenodd\" fill-opacity=\"1\"/>\n",
       "<polyline clip-path=\"url(#clip202)\" style=\"stroke:#000000; stroke-linecap:butt; stroke-linejoin:round; stroke-width:4; stroke-opacity:1; fill:none\" points=\"\n",
       "  9696.97,1384.24 9696.97,1384.24 9716.95,1384.24 9696.97,1384.24 \n",
       "  \"/>\n",
       "<path clip-path=\"url(#clip202)\" d=\"\n",
       "M9716.95 1384.24 L9716.95 1384.24 L9736.93 1384.24 L9736.93 1384.24 L9716.95 1384.24 L9716.95 1384.24  Z\n",
       "  \" fill=\"#009af9\" fill-rule=\"evenodd\" fill-opacity=\"1\"/>\n",
       "<polyline clip-path=\"url(#clip202)\" style=\"stroke:#000000; stroke-linecap:butt; stroke-linejoin:round; stroke-width:4; stroke-opacity:1; fill:none\" points=\"\n",
       "  9716.95,1384.24 9716.95,1384.24 9736.93,1384.24 9716.95,1384.24 \n",
       "  \"/>\n",
       "<path clip-path=\"url(#clip202)\" d=\"\n",
       "M9736.93 1384.24 L9736.93 1384.24 L9756.9 1384.24 L9756.9 1384.24 L9736.93 1384.24 L9736.93 1384.24  Z\n",
       "  \" fill=\"#009af9\" fill-rule=\"evenodd\" fill-opacity=\"1\"/>\n",
       "<polyline clip-path=\"url(#clip202)\" style=\"stroke:#000000; stroke-linecap:butt; stroke-linejoin:round; stroke-width:4; stroke-opacity:1; fill:none\" points=\"\n",
       "  9736.93,1384.24 9736.93,1384.24 9756.9,1384.24 9736.93,1384.24 \n",
       "  \"/>\n",
       "<path clip-path=\"url(#clip202)\" d=\"\n",
       "M9756.9 1384.24 L9756.9 1384.24 L9776.88 1384.24 L9776.88 1384.24 L9756.9 1384.24 L9756.9 1384.24  Z\n",
       "  \" fill=\"#009af9\" fill-rule=\"evenodd\" fill-opacity=\"1\"/>\n",
       "<polyline clip-path=\"url(#clip202)\" style=\"stroke:#000000; stroke-linecap:butt; stroke-linejoin:round; stroke-width:4; stroke-opacity:1; fill:none\" points=\"\n",
       "  9756.9,1384.24 9756.9,1384.24 9776.88,1384.24 9756.9,1384.24 \n",
       "  \"/>\n",
       "<path clip-path=\"url(#clip202)\" d=\"\n",
       "M9776.88 1384.24 L9776.88 1384.24 L9796.86 1384.24 L9796.86 1384.24 L9776.88 1384.24 L9776.88 1384.24  Z\n",
       "  \" fill=\"#009af9\" fill-rule=\"evenodd\" fill-opacity=\"1\"/>\n",
       "<polyline clip-path=\"url(#clip202)\" style=\"stroke:#000000; stroke-linecap:butt; stroke-linejoin:round; stroke-width:4; stroke-opacity:1; fill:none\" points=\"\n",
       "  9776.88,1384.24 9776.88,1384.24 9796.86,1384.24 9776.88,1384.24 \n",
       "  \"/>\n",
       "<path clip-path=\"url(#clip202)\" d=\"\n",
       "M9796.86 1384.24 L9796.86 1384.24 L9816.83 1384.24 L9816.83 1384.24 L9796.86 1384.24 L9796.86 1384.24  Z\n",
       "  \" fill=\"#009af9\" fill-rule=\"evenodd\" fill-opacity=\"1\"/>\n",
       "<polyline clip-path=\"url(#clip202)\" style=\"stroke:#000000; stroke-linecap:butt; stroke-linejoin:round; stroke-width:4; stroke-opacity:1; fill:none\" points=\"\n",
       "  9796.86,1384.24 9796.86,1384.24 9816.83,1384.24 9796.86,1384.24 \n",
       "  \"/>\n",
       "<path clip-path=\"url(#clip202)\" d=\"\n",
       "M9816.83 1384.24 L9816.83 1384.24 L9836.81 1384.24 L9836.81 1384.24 L9816.83 1384.24 L9816.83 1384.24  Z\n",
       "  \" fill=\"#009af9\" fill-rule=\"evenodd\" fill-opacity=\"1\"/>\n",
       "<polyline clip-path=\"url(#clip202)\" style=\"stroke:#000000; stroke-linecap:butt; stroke-linejoin:round; stroke-width:4; stroke-opacity:1; fill:none\" points=\"\n",
       "  9816.83,1384.24 9816.83,1384.24 9836.81,1384.24 9816.83,1384.24 \n",
       "  \"/>\n",
       "<path clip-path=\"url(#clip202)\" d=\"\n",
       "M9836.81 1384.24 L9836.81 1384.24 L9856.79 1384.24 L9856.79 1384.24 L9836.81 1384.24 L9836.81 1384.24  Z\n",
       "  \" fill=\"#009af9\" fill-rule=\"evenodd\" fill-opacity=\"1\"/>\n",
       "<polyline clip-path=\"url(#clip202)\" style=\"stroke:#000000; stroke-linecap:butt; stroke-linejoin:round; stroke-width:4; stroke-opacity:1; fill:none\" points=\"\n",
       "  9836.81,1384.24 9836.81,1384.24 9856.79,1384.24 9836.81,1384.24 \n",
       "  \"/>\n",
       "<path clip-path=\"url(#clip202)\" d=\"\n",
       "M9856.79 1276.07 L9856.79 1384.24 L9876.77 1384.24 L9876.77 1276.07 L9856.79 1276.07 L9856.79 1276.07  Z\n",
       "  \" fill=\"#009af9\" fill-rule=\"evenodd\" fill-opacity=\"1\"/>\n",
       "<polyline clip-path=\"url(#clip202)\" style=\"stroke:#000000; stroke-linecap:butt; stroke-linejoin:round; stroke-width:4; stroke-opacity:1; fill:none\" points=\"\n",
       "  9856.79,1276.07 9856.79,1384.24 9876.77,1384.24 9876.77,1276.07 9856.79,1276.07 \n",
       "  \"/>\n",
       "<path clip-path=\"url(#clip202)\" d=\"\n",
       "M9876.77 1384.24 L9876.77 1384.24 L9896.74 1384.24 L9896.74 1384.24 L9876.77 1384.24 L9876.77 1384.24  Z\n",
       "  \" fill=\"#009af9\" fill-rule=\"evenodd\" fill-opacity=\"1\"/>\n",
       "<polyline clip-path=\"url(#clip202)\" style=\"stroke:#000000; stroke-linecap:butt; stroke-linejoin:round; stroke-width:4; stroke-opacity:1; fill:none\" points=\"\n",
       "  9876.77,1384.24 9876.77,1384.24 9896.74,1384.24 9876.77,1384.24 \n",
       "  \"/>\n",
       "<path clip-path=\"url(#clip202)\" d=\"\n",
       "M9896.74 1384.24 L9896.74 1384.24 L9916.72 1384.24 L9916.72 1384.24 L9896.74 1384.24 L9896.74 1384.24  Z\n",
       "  \" fill=\"#009af9\" fill-rule=\"evenodd\" fill-opacity=\"1\"/>\n",
       "<polyline clip-path=\"url(#clip202)\" style=\"stroke:#000000; stroke-linecap:butt; stroke-linejoin:round; stroke-width:4; stroke-opacity:1; fill:none\" points=\"\n",
       "  9896.74,1384.24 9896.74,1384.24 9916.72,1384.24 9896.74,1384.24 \n",
       "  \"/>\n",
       "<path clip-path=\"url(#clip202)\" d=\"\n",
       "M9916.72 1384.24 L9916.72 1384.24 L9936.7 1384.24 L9936.7 1384.24 L9916.72 1384.24 L9916.72 1384.24  Z\n",
       "  \" fill=\"#009af9\" fill-rule=\"evenodd\" fill-opacity=\"1\"/>\n",
       "<polyline clip-path=\"url(#clip202)\" style=\"stroke:#000000; stroke-linecap:butt; stroke-linejoin:round; stroke-width:4; stroke-opacity:1; fill:none\" points=\"\n",
       "  9916.72,1384.24 9916.72,1384.24 9936.7,1384.24 9916.72,1384.24 \n",
       "  \"/>\n",
       "<path clip-path=\"url(#clip202)\" d=\"\n",
       "M9936.7 1384.24 L9936.7 1384.24 L9956.68 1384.24 L9956.68 1384.24 L9936.7 1384.24 L9936.7 1384.24  Z\n",
       "  \" fill=\"#009af9\" fill-rule=\"evenodd\" fill-opacity=\"1\"/>\n",
       "<polyline clip-path=\"url(#clip202)\" style=\"stroke:#000000; stroke-linecap:butt; stroke-linejoin:round; stroke-width:4; stroke-opacity:1; fill:none\" points=\"\n",
       "  9936.7,1384.24 9936.7,1384.24 9956.68,1384.24 9936.7,1384.24 \n",
       "  \"/>\n",
       "<path clip-path=\"url(#clip202)\" d=\"\n",
       "M9956.68 1384.24 L9956.68 1384.24 L9976.65 1384.24 L9976.65 1384.24 L9956.68 1384.24 L9956.68 1384.24  Z\n",
       "  \" fill=\"#009af9\" fill-rule=\"evenodd\" fill-opacity=\"1\"/>\n",
       "<polyline clip-path=\"url(#clip202)\" style=\"stroke:#000000; stroke-linecap:butt; stroke-linejoin:round; stroke-width:4; stroke-opacity:1; fill:none\" points=\"\n",
       "  9956.68,1384.24 9956.68,1384.24 9976.65,1384.24 9956.68,1384.24 \n",
       "  \"/>\n",
       "<path clip-path=\"url(#clip202)\" d=\"\n",
       "M9976.65 1384.24 L9976.65 1384.24 L9996.63 1384.24 L9996.63 1384.24 L9976.65 1384.24 L9976.65 1384.24  Z\n",
       "  \" fill=\"#009af9\" fill-rule=\"evenodd\" fill-opacity=\"1\"/>\n",
       "<polyline clip-path=\"url(#clip202)\" style=\"stroke:#000000; stroke-linecap:butt; stroke-linejoin:round; stroke-width:4; stroke-opacity:1; fill:none\" points=\"\n",
       "  9976.65,1384.24 9976.65,1384.24 9996.63,1384.24 9976.65,1384.24 \n",
       "  \"/>\n",
       "<path clip-path=\"url(#clip202)\" d=\"\n",
       "M9996.63 1384.24 L9996.63 1384.24 L10016.6 1384.24 L10016.6 1384.24 L9996.63 1384.24 L9996.63 1384.24  Z\n",
       "  \" fill=\"#009af9\" fill-rule=\"evenodd\" fill-opacity=\"1\"/>\n",
       "<polyline clip-path=\"url(#clip202)\" style=\"stroke:#000000; stroke-linecap:butt; stroke-linejoin:round; stroke-width:4; stroke-opacity:1; fill:none\" points=\"\n",
       "  9996.63,1384.24 9996.63,1384.24 10016.6,1384.24 9996.63,1384.24 \n",
       "  \"/>\n",
       "<path clip-path=\"url(#clip202)\" d=\"\n",
       "M10016.6 1384.24 L10016.6 1384.24 L10036.6 1384.24 L10036.6 1384.24 L10016.6 1384.24 L10016.6 1384.24  Z\n",
       "  \" fill=\"#009af9\" fill-rule=\"evenodd\" fill-opacity=\"1\"/>\n",
       "<polyline clip-path=\"url(#clip202)\" style=\"stroke:#000000; stroke-linecap:butt; stroke-linejoin:round; stroke-width:4; stroke-opacity:1; fill:none\" points=\"\n",
       "  10016.6,1384.24 10016.6,1384.24 10036.6,1384.24 10016.6,1384.24 \n",
       "  \"/>\n",
       "<path clip-path=\"url(#clip202)\" d=\"\n",
       "M10036.6 1384.24 L10036.6 1384.24 L10056.6 1384.24 L10056.6 1384.24 L10036.6 1384.24 L10036.6 1384.24  Z\n",
       "  \" fill=\"#009af9\" fill-rule=\"evenodd\" fill-opacity=\"1\"/>\n",
       "<polyline clip-path=\"url(#clip202)\" style=\"stroke:#000000; stroke-linecap:butt; stroke-linejoin:round; stroke-width:4; stroke-opacity:1; fill:none\" points=\"\n",
       "  10036.6,1384.24 10036.6,1384.24 10056.6,1384.24 10036.6,1384.24 \n",
       "  \"/>\n",
       "<path clip-path=\"url(#clip202)\" d=\"\n",
       "M10056.6 1384.24 L10056.6 1384.24 L10076.5 1384.24 L10076.5 1384.24 L10056.6 1384.24 L10056.6 1384.24  Z\n",
       "  \" fill=\"#009af9\" fill-rule=\"evenodd\" fill-opacity=\"1\"/>\n",
       "<polyline clip-path=\"url(#clip202)\" style=\"stroke:#000000; stroke-linecap:butt; stroke-linejoin:round; stroke-width:4; stroke-opacity:1; fill:none\" points=\"\n",
       "  10056.6,1384.24 10056.6,1384.24 10076.5,1384.24 10056.6,1384.24 \n",
       "  \"/>\n",
       "<path clip-path=\"url(#clip202)\" d=\"\n",
       "M10076.5 1384.24 L10076.5 1384.24 L10096.5 1384.24 L10096.5 1384.24 L10076.5 1384.24 L10076.5 1384.24  Z\n",
       "  \" fill=\"#009af9\" fill-rule=\"evenodd\" fill-opacity=\"1\"/>\n",
       "<polyline clip-path=\"url(#clip202)\" style=\"stroke:#000000; stroke-linecap:butt; stroke-linejoin:round; stroke-width:4; stroke-opacity:1; fill:none\" points=\"\n",
       "  10076.5,1384.24 10076.5,1384.24 10096.5,1384.24 10076.5,1384.24 \n",
       "  \"/>\n",
       "<path clip-path=\"url(#clip202)\" d=\"\n",
       "M10096.5 1384.24 L10096.5 1384.24 L10116.5 1384.24 L10116.5 1384.24 L10096.5 1384.24 L10096.5 1384.24  Z\n",
       "  \" fill=\"#009af9\" fill-rule=\"evenodd\" fill-opacity=\"1\"/>\n",
       "<polyline clip-path=\"url(#clip202)\" style=\"stroke:#000000; stroke-linecap:butt; stroke-linejoin:round; stroke-width:4; stroke-opacity:1; fill:none\" points=\"\n",
       "  10096.5,1384.24 10096.5,1384.24 10116.5,1384.24 10096.5,1384.24 \n",
       "  \"/>\n",
       "<path clip-path=\"url(#clip202)\" d=\"\n",
       "M10116.5 1384.24 L10116.5 1384.24 L10136.5 1384.24 L10136.5 1384.24 L10116.5 1384.24 L10116.5 1384.24  Z\n",
       "  \" fill=\"#009af9\" fill-rule=\"evenodd\" fill-opacity=\"1\"/>\n",
       "<polyline clip-path=\"url(#clip202)\" style=\"stroke:#000000; stroke-linecap:butt; stroke-linejoin:round; stroke-width:4; stroke-opacity:1; fill:none\" points=\"\n",
       "  10116.5,1384.24 10116.5,1384.24 10136.5,1384.24 10116.5,1384.24 \n",
       "  \"/>\n",
       "<path clip-path=\"url(#clip202)\" d=\"\n",
       "M10136.5 1384.24 L10136.5 1384.24 L10156.4 1384.24 L10156.4 1384.24 L10136.5 1384.24 L10136.5 1384.24  Z\n",
       "  \" fill=\"#009af9\" fill-rule=\"evenodd\" fill-opacity=\"1\"/>\n",
       "<polyline clip-path=\"url(#clip202)\" style=\"stroke:#000000; stroke-linecap:butt; stroke-linejoin:round; stroke-width:4; stroke-opacity:1; fill:none\" points=\"\n",
       "  10136.5,1384.24 10136.5,1384.24 10156.4,1384.24 10136.5,1384.24 \n",
       "  \"/>\n",
       "<path clip-path=\"url(#clip202)\" d=\"\n",
       "M10156.4 1384.24 L10156.4 1384.24 L10176.4 1384.24 L10176.4 1384.24 L10156.4 1384.24 L10156.4 1384.24  Z\n",
       "  \" fill=\"#009af9\" fill-rule=\"evenodd\" fill-opacity=\"1\"/>\n",
       "<polyline clip-path=\"url(#clip202)\" style=\"stroke:#000000; stroke-linecap:butt; stroke-linejoin:round; stroke-width:4; stroke-opacity:1; fill:none\" points=\"\n",
       "  10156.4,1384.24 10156.4,1384.24 10176.4,1384.24 10156.4,1384.24 \n",
       "  \"/>\n",
       "<path clip-path=\"url(#clip202)\" d=\"\n",
       "M10176.4 1384.24 L10176.4 1384.24 L10196.4 1384.24 L10196.4 1384.24 L10176.4 1384.24 L10176.4 1384.24  Z\n",
       "  \" fill=\"#009af9\" fill-rule=\"evenodd\" fill-opacity=\"1\"/>\n",
       "<polyline clip-path=\"url(#clip202)\" style=\"stroke:#000000; stroke-linecap:butt; stroke-linejoin:round; stroke-width:4; stroke-opacity:1; fill:none\" points=\"\n",
       "  10176.4,1384.24 10176.4,1384.24 10196.4,1384.24 10176.4,1384.24 \n",
       "  \"/>\n",
       "<path clip-path=\"url(#clip202)\" d=\"\n",
       "M10196.4 1384.24 L10196.4 1384.24 L10216.4 1384.24 L10216.4 1384.24 L10196.4 1384.24 L10196.4 1384.24  Z\n",
       "  \" fill=\"#009af9\" fill-rule=\"evenodd\" fill-opacity=\"1\"/>\n",
       "<polyline clip-path=\"url(#clip202)\" style=\"stroke:#000000; stroke-linecap:butt; stroke-linejoin:round; stroke-width:4; stroke-opacity:1; fill:none\" points=\"\n",
       "  10196.4,1384.24 10196.4,1384.24 10216.4,1384.24 10196.4,1384.24 \n",
       "  \"/>\n",
       "<path clip-path=\"url(#clip202)\" d=\"\n",
       "M10216.4 1384.24 L10216.4 1384.24 L10236.4 1384.24 L10236.4 1384.24 L10216.4 1384.24 L10216.4 1384.24  Z\n",
       "  \" fill=\"#009af9\" fill-rule=\"evenodd\" fill-opacity=\"1\"/>\n",
       "<polyline clip-path=\"url(#clip202)\" style=\"stroke:#000000; stroke-linecap:butt; stroke-linejoin:round; stroke-width:4; stroke-opacity:1; fill:none\" points=\"\n",
       "  10216.4,1384.24 10216.4,1384.24 10236.4,1384.24 10216.4,1384.24 \n",
       "  \"/>\n",
       "<path clip-path=\"url(#clip202)\" d=\"\n",
       "M10236.4 1384.24 L10236.4 1384.24 L10256.3 1384.24 L10256.3 1384.24 L10236.4 1384.24 L10236.4 1384.24  Z\n",
       "  \" fill=\"#009af9\" fill-rule=\"evenodd\" fill-opacity=\"1\"/>\n",
       "<polyline clip-path=\"url(#clip202)\" style=\"stroke:#000000; stroke-linecap:butt; stroke-linejoin:round; stroke-width:4; stroke-opacity:1; fill:none\" points=\"\n",
       "  10236.4,1384.24 10236.4,1384.24 10256.3,1384.24 10236.4,1384.24 \n",
       "  \"/>\n",
       "<path clip-path=\"url(#clip202)\" d=\"\n",
       "M10256.3 1384.24 L10256.3 1384.24 L10276.3 1384.24 L10276.3 1384.24 L10256.3 1384.24 L10256.3 1384.24  Z\n",
       "  \" fill=\"#009af9\" fill-rule=\"evenodd\" fill-opacity=\"1\"/>\n",
       "<polyline clip-path=\"url(#clip202)\" style=\"stroke:#000000; stroke-linecap:butt; stroke-linejoin:round; stroke-width:4; stroke-opacity:1; fill:none\" points=\"\n",
       "  10256.3,1384.24 10256.3,1384.24 10276.3,1384.24 10256.3,1384.24 \n",
       "  \"/>\n",
       "<path clip-path=\"url(#clip202)\" d=\"\n",
       "M10276.3 1384.24 L10276.3 1384.24 L10296.3 1384.24 L10296.3 1384.24 L10276.3 1384.24 L10276.3 1384.24  Z\n",
       "  \" fill=\"#009af9\" fill-rule=\"evenodd\" fill-opacity=\"1\"/>\n",
       "<polyline clip-path=\"url(#clip202)\" style=\"stroke:#000000; stroke-linecap:butt; stroke-linejoin:round; stroke-width:4; stroke-opacity:1; fill:none\" points=\"\n",
       "  10276.3,1384.24 10276.3,1384.24 10296.3,1384.24 10276.3,1384.24 \n",
       "  \"/>\n",
       "<path clip-path=\"url(#clip202)\" d=\"\n",
       "M10296.3 1384.24 L10296.3 1384.24 L10316.3 1384.24 L10316.3 1384.24 L10296.3 1384.24 L10296.3 1384.24  Z\n",
       "  \" fill=\"#009af9\" fill-rule=\"evenodd\" fill-opacity=\"1\"/>\n",
       "<polyline clip-path=\"url(#clip202)\" style=\"stroke:#000000; stroke-linecap:butt; stroke-linejoin:round; stroke-width:4; stroke-opacity:1; fill:none\" points=\"\n",
       "  10296.3,1384.24 10296.3,1384.24 10316.3,1384.24 10296.3,1384.24 \n",
       "  \"/>\n",
       "<path clip-path=\"url(#clip202)\" d=\"\n",
       "M10316.3 1384.24 L10316.3 1384.24 L10336.2 1384.24 L10336.2 1384.24 L10316.3 1384.24 L10316.3 1384.24  Z\n",
       "  \" fill=\"#009af9\" fill-rule=\"evenodd\" fill-opacity=\"1\"/>\n",
       "<polyline clip-path=\"url(#clip202)\" style=\"stroke:#000000; stroke-linecap:butt; stroke-linejoin:round; stroke-width:4; stroke-opacity:1; fill:none\" points=\"\n",
       "  10316.3,1384.24 10316.3,1384.24 10336.2,1384.24 10316.3,1384.24 \n",
       "  \"/>\n",
       "<path clip-path=\"url(#clip202)\" d=\"\n",
       "M10336.2 1276.07 L10336.2 1384.24 L10356.2 1384.24 L10356.2 1276.07 L10336.2 1276.07 L10336.2 1276.07  Z\n",
       "  \" fill=\"#009af9\" fill-rule=\"evenodd\" fill-opacity=\"1\"/>\n",
       "<polyline clip-path=\"url(#clip202)\" style=\"stroke:#000000; stroke-linecap:butt; stroke-linejoin:round; stroke-width:4; stroke-opacity:1; fill:none\" points=\"\n",
       "  10336.2,1276.07 10336.2,1384.24 10356.2,1384.24 10356.2,1276.07 10336.2,1276.07 \n",
       "  \"/>\n",
       "<circle clip-path=\"url(#clip202)\" style=\"fill:#009af9; stroke:none; fill-opacity:0\" cx=\"257.738\" cy=\"1276.07\" r=\"2\"/>\n",
       "<circle clip-path=\"url(#clip202)\" style=\"fill:#009af9; stroke:none; fill-opacity:0\" cx=\"277.715\" cy=\"1384.24\" r=\"2\"/>\n",
       "<circle clip-path=\"url(#clip202)\" style=\"fill:#009af9; stroke:none; fill-opacity:0\" cx=\"297.692\" cy=\"1384.24\" r=\"2\"/>\n",
       "<circle clip-path=\"url(#clip202)\" style=\"fill:#009af9; stroke:none; fill-opacity:0\" cx=\"317.67\" cy=\"1384.24\" r=\"2\"/>\n",
       "<circle clip-path=\"url(#clip202)\" style=\"fill:#009af9; stroke:none; fill-opacity:0\" cx=\"337.647\" cy=\"1384.24\" r=\"2\"/>\n",
       "<circle clip-path=\"url(#clip202)\" style=\"fill:#009af9; stroke:none; fill-opacity:0\" cx=\"357.624\" cy=\"1384.24\" r=\"2\"/>\n",
       "<circle clip-path=\"url(#clip202)\" style=\"fill:#009af9; stroke:none; fill-opacity:0\" cx=\"377.601\" cy=\"1276.07\" r=\"2\"/>\n",
       "<circle clip-path=\"url(#clip202)\" style=\"fill:#009af9; stroke:none; fill-opacity:0\" cx=\"397.578\" cy=\"1384.24\" r=\"2\"/>\n",
       "<circle clip-path=\"url(#clip202)\" style=\"fill:#009af9; stroke:none; fill-opacity:0\" cx=\"417.556\" cy=\"1276.07\" r=\"2\"/>\n",
       "<circle clip-path=\"url(#clip202)\" style=\"fill:#009af9; stroke:none; fill-opacity:0\" cx=\"437.533\" cy=\"1384.24\" r=\"2\"/>\n",
       "<circle clip-path=\"url(#clip202)\" style=\"fill:#009af9; stroke:none; fill-opacity:0\" cx=\"457.51\" cy=\"1384.24\" r=\"2\"/>\n",
       "<circle clip-path=\"url(#clip202)\" style=\"fill:#009af9; stroke:none; fill-opacity:0\" cx=\"477.487\" cy=\"1167.9\" r=\"2\"/>\n",
       "<circle clip-path=\"url(#clip202)\" style=\"fill:#009af9; stroke:none; fill-opacity:0\" cx=\"497.465\" cy=\"1276.07\" r=\"2\"/>\n",
       "<circle clip-path=\"url(#clip202)\" style=\"fill:#009af9; stroke:none; fill-opacity:0\" cx=\"517.442\" cy=\"1384.24\" r=\"2\"/>\n",
       "<circle clip-path=\"url(#clip202)\" style=\"fill:#009af9; stroke:none; fill-opacity:0\" cx=\"537.419\" cy=\"1276.07\" r=\"2\"/>\n",
       "<circle clip-path=\"url(#clip202)\" style=\"fill:#009af9; stroke:none; fill-opacity:0\" cx=\"557.396\" cy=\"1384.24\" r=\"2\"/>\n",
       "<circle clip-path=\"url(#clip202)\" style=\"fill:#009af9; stroke:none; fill-opacity:0\" cx=\"577.373\" cy=\"1167.9\" r=\"2\"/>\n",
       "<circle clip-path=\"url(#clip202)\" style=\"fill:#009af9; stroke:none; fill-opacity:0\" cx=\"597.351\" cy=\"951.554\" r=\"2\"/>\n",
       "<circle clip-path=\"url(#clip202)\" style=\"fill:#009af9; stroke:none; fill-opacity:0\" cx=\"617.328\" cy=\"1167.9\" r=\"2\"/>\n",
       "<circle clip-path=\"url(#clip202)\" style=\"fill:#009af9; stroke:none; fill-opacity:0\" cx=\"637.305\" cy=\"1059.73\" r=\"2\"/>\n",
       "<circle clip-path=\"url(#clip202)\" style=\"fill:#009af9; stroke:none; fill-opacity:0\" cx=\"657.282\" cy=\"627.041\" r=\"2\"/>\n",
       "<circle clip-path=\"url(#clip202)\" style=\"fill:#009af9; stroke:none; fill-opacity:0\" cx=\"677.259\" cy=\"735.212\" r=\"2\"/>\n",
       "<circle clip-path=\"url(#clip202)\" style=\"fill:#009af9; stroke:none; fill-opacity:0\" cx=\"697.237\" cy=\"86.1857\" r=\"2\"/>\n",
       "<circle clip-path=\"url(#clip202)\" style=\"fill:#009af9; stroke:none; fill-opacity:0\" cx=\"717.214\" cy=\"843.383\" r=\"2\"/>\n",
       "<circle clip-path=\"url(#clip202)\" style=\"fill:#009af9; stroke:none; fill-opacity:0\" cx=\"737.191\" cy=\"843.383\" r=\"2\"/>\n",
       "<circle clip-path=\"url(#clip202)\" style=\"fill:#009af9; stroke:none; fill-opacity:0\" cx=\"757.168\" cy=\"1059.73\" r=\"2\"/>\n",
       "<circle clip-path=\"url(#clip202)\" style=\"fill:#009af9; stroke:none; fill-opacity:0\" cx=\"777.146\" cy=\"302.528\" r=\"2\"/>\n",
       "<circle clip-path=\"url(#clip202)\" style=\"fill:#009af9; stroke:none; fill-opacity:0\" cx=\"797.123\" cy=\"1167.9\" r=\"2\"/>\n",
       "<circle clip-path=\"url(#clip202)\" style=\"fill:#009af9; stroke:none; fill-opacity:0\" cx=\"817.1\" cy=\"410.699\" r=\"2\"/>\n",
       "<circle clip-path=\"url(#clip202)\" style=\"fill:#009af9; stroke:none; fill-opacity:0\" cx=\"837.077\" cy=\"1276.07\" r=\"2\"/>\n",
       "<circle clip-path=\"url(#clip202)\" style=\"fill:#009af9; stroke:none; fill-opacity:0\" cx=\"857.054\" cy=\"1059.73\" r=\"2\"/>\n",
       "<circle clip-path=\"url(#clip202)\" style=\"fill:#009af9; stroke:none; fill-opacity:0\" cx=\"877.032\" cy=\"1384.24\" r=\"2\"/>\n",
       "<circle clip-path=\"url(#clip202)\" style=\"fill:#009af9; stroke:none; fill-opacity:0\" cx=\"897.009\" cy=\"1276.07\" r=\"2\"/>\n",
       "<circle clip-path=\"url(#clip202)\" style=\"fill:#009af9; stroke:none; fill-opacity:0\" cx=\"916.986\" cy=\"951.554\" r=\"2\"/>\n",
       "<circle clip-path=\"url(#clip202)\" style=\"fill:#009af9; stroke:none; fill-opacity:0\" cx=\"936.963\" cy=\"1276.07\" r=\"2\"/>\n",
       "<circle clip-path=\"url(#clip202)\" style=\"fill:#009af9; stroke:none; fill-opacity:0\" cx=\"956.94\" cy=\"951.554\" r=\"2\"/>\n",
       "<circle clip-path=\"url(#clip202)\" style=\"fill:#009af9; stroke:none; fill-opacity:0\" cx=\"976.918\" cy=\"843.383\" r=\"2\"/>\n",
       "<circle clip-path=\"url(#clip202)\" style=\"fill:#009af9; stroke:none; fill-opacity:0\" cx=\"996.895\" cy=\"1167.9\" r=\"2\"/>\n",
       "<circle clip-path=\"url(#clip202)\" style=\"fill:#009af9; stroke:none; fill-opacity:0\" cx=\"1016.87\" cy=\"1276.07\" r=\"2\"/>\n",
       "<circle clip-path=\"url(#clip202)\" style=\"fill:#009af9; stroke:none; fill-opacity:0\" cx=\"1036.85\" cy=\"1276.07\" r=\"2\"/>\n",
       "<circle clip-path=\"url(#clip202)\" style=\"fill:#009af9; stroke:none; fill-opacity:0\" cx=\"1056.83\" cy=\"1384.24\" r=\"2\"/>\n",
       "<circle clip-path=\"url(#clip202)\" style=\"fill:#009af9; stroke:none; fill-opacity:0\" cx=\"1076.8\" cy=\"1276.07\" r=\"2\"/>\n",
       "<circle clip-path=\"url(#clip202)\" style=\"fill:#009af9; stroke:none; fill-opacity:0\" cx=\"1096.78\" cy=\"1384.24\" r=\"2\"/>\n",
       "<circle clip-path=\"url(#clip202)\" style=\"fill:#009af9; stroke:none; fill-opacity:0\" cx=\"1116.76\" cy=\"1276.07\" r=\"2\"/>\n",
       "<circle clip-path=\"url(#clip202)\" style=\"fill:#009af9; stroke:none; fill-opacity:0\" cx=\"1136.74\" cy=\"1276.07\" r=\"2\"/>\n",
       "<circle clip-path=\"url(#clip202)\" style=\"fill:#009af9; stroke:none; fill-opacity:0\" cx=\"1156.71\" cy=\"1384.24\" r=\"2\"/>\n",
       "<circle clip-path=\"url(#clip202)\" style=\"fill:#009af9; stroke:none; fill-opacity:0\" cx=\"1176.69\" cy=\"1059.73\" r=\"2\"/>\n",
       "<circle clip-path=\"url(#clip202)\" style=\"fill:#009af9; stroke:none; fill-opacity:0\" cx=\"1196.67\" cy=\"1384.24\" r=\"2\"/>\n",
       "<circle clip-path=\"url(#clip202)\" style=\"fill:#009af9; stroke:none; fill-opacity:0\" cx=\"1216.64\" cy=\"1384.24\" r=\"2\"/>\n",
       "<circle clip-path=\"url(#clip202)\" style=\"fill:#009af9; stroke:none; fill-opacity:0\" cx=\"1236.62\" cy=\"1059.73\" r=\"2\"/>\n",
       "<circle clip-path=\"url(#clip202)\" style=\"fill:#009af9; stroke:none; fill-opacity:0\" cx=\"1256.6\" cy=\"1384.24\" r=\"2\"/>\n",
       "<circle clip-path=\"url(#clip202)\" style=\"fill:#009af9; stroke:none; fill-opacity:0\" cx=\"1276.58\" cy=\"1276.07\" r=\"2\"/>\n",
       "<circle clip-path=\"url(#clip202)\" style=\"fill:#009af9; stroke:none; fill-opacity:0\" cx=\"1296.55\" cy=\"1384.24\" r=\"2\"/>\n",
       "<circle clip-path=\"url(#clip202)\" style=\"fill:#009af9; stroke:none; fill-opacity:0\" cx=\"1316.53\" cy=\"1276.07\" r=\"2\"/>\n",
       "<circle clip-path=\"url(#clip202)\" style=\"fill:#009af9; stroke:none; fill-opacity:0\" cx=\"1336.51\" cy=\"1384.24\" r=\"2\"/>\n",
       "<circle clip-path=\"url(#clip202)\" style=\"fill:#009af9; stroke:none; fill-opacity:0\" cx=\"1356.48\" cy=\"1384.24\" r=\"2\"/>\n",
       "<circle clip-path=\"url(#clip202)\" style=\"fill:#009af9; stroke:none; fill-opacity:0\" cx=\"1376.46\" cy=\"1384.24\" r=\"2\"/>\n",
       "<circle clip-path=\"url(#clip202)\" style=\"fill:#009af9; stroke:none; fill-opacity:0\" cx=\"1396.44\" cy=\"1384.24\" r=\"2\"/>\n",
       "<circle clip-path=\"url(#clip202)\" style=\"fill:#009af9; stroke:none; fill-opacity:0\" cx=\"1416.42\" cy=\"1384.24\" r=\"2\"/>\n",
       "<circle clip-path=\"url(#clip202)\" style=\"fill:#009af9; stroke:none; fill-opacity:0\" cx=\"1436.39\" cy=\"1276.07\" r=\"2\"/>\n",
       "<circle clip-path=\"url(#clip202)\" style=\"fill:#009af9; stroke:none; fill-opacity:0\" cx=\"1456.37\" cy=\"1276.07\" r=\"2\"/>\n",
       "<circle clip-path=\"url(#clip202)\" style=\"fill:#009af9; stroke:none; fill-opacity:0\" cx=\"1476.35\" cy=\"1384.24\" r=\"2\"/>\n",
       "<circle clip-path=\"url(#clip202)\" style=\"fill:#009af9; stroke:none; fill-opacity:0\" cx=\"1496.33\" cy=\"1384.24\" r=\"2\"/>\n",
       "<circle clip-path=\"url(#clip202)\" style=\"fill:#009af9; stroke:none; fill-opacity:0\" cx=\"1516.3\" cy=\"1384.24\" r=\"2\"/>\n",
       "<circle clip-path=\"url(#clip202)\" style=\"fill:#009af9; stroke:none; fill-opacity:0\" cx=\"1536.28\" cy=\"1384.24\" r=\"2\"/>\n",
       "<circle clip-path=\"url(#clip202)\" style=\"fill:#009af9; stroke:none; fill-opacity:0\" cx=\"1556.26\" cy=\"1384.24\" r=\"2\"/>\n",
       "<circle clip-path=\"url(#clip202)\" style=\"fill:#009af9; stroke:none; fill-opacity:0\" cx=\"1576.23\" cy=\"1276.07\" r=\"2\"/>\n",
       "<circle clip-path=\"url(#clip202)\" style=\"fill:#009af9; stroke:none; fill-opacity:0\" cx=\"1596.21\" cy=\"1384.24\" r=\"2\"/>\n",
       "<circle clip-path=\"url(#clip202)\" style=\"fill:#009af9; stroke:none; fill-opacity:0\" cx=\"1616.19\" cy=\"1384.24\" r=\"2\"/>\n",
       "<circle clip-path=\"url(#clip202)\" style=\"fill:#009af9; stroke:none; fill-opacity:0\" cx=\"1636.17\" cy=\"1384.24\" r=\"2\"/>\n",
       "<circle clip-path=\"url(#clip202)\" style=\"fill:#009af9; stroke:none; fill-opacity:0\" cx=\"1656.14\" cy=\"1384.24\" r=\"2\"/>\n",
       "<circle clip-path=\"url(#clip202)\" style=\"fill:#009af9; stroke:none; fill-opacity:0\" cx=\"1676.12\" cy=\"1384.24\" r=\"2\"/>\n",
       "<circle clip-path=\"url(#clip202)\" style=\"fill:#009af9; stroke:none; fill-opacity:0\" cx=\"1696.1\" cy=\"1384.24\" r=\"2\"/>\n",
       "<circle clip-path=\"url(#clip202)\" style=\"fill:#009af9; stroke:none; fill-opacity:0\" cx=\"1716.07\" cy=\"1384.24\" r=\"2\"/>\n",
       "<circle clip-path=\"url(#clip202)\" style=\"fill:#009af9; stroke:none; fill-opacity:0\" cx=\"1736.05\" cy=\"1384.24\" r=\"2\"/>\n",
       "<circle clip-path=\"url(#clip202)\" style=\"fill:#009af9; stroke:none; fill-opacity:0\" cx=\"1756.03\" cy=\"1384.24\" r=\"2\"/>\n",
       "<circle clip-path=\"url(#clip202)\" style=\"fill:#009af9; stroke:none; fill-opacity:0\" cx=\"1776.01\" cy=\"1384.24\" r=\"2\"/>\n",
       "<circle clip-path=\"url(#clip202)\" style=\"fill:#009af9; stroke:none; fill-opacity:0\" cx=\"1795.98\" cy=\"1276.07\" r=\"2\"/>\n",
       "<circle clip-path=\"url(#clip202)\" style=\"fill:#009af9; stroke:none; fill-opacity:0\" cx=\"1815.96\" cy=\"1384.24\" r=\"2\"/>\n",
       "<circle clip-path=\"url(#clip202)\" style=\"fill:#009af9; stroke:none; fill-opacity:0\" cx=\"1835.94\" cy=\"1384.24\" r=\"2\"/>\n",
       "<circle clip-path=\"url(#clip202)\" style=\"fill:#009af9; stroke:none; fill-opacity:0\" cx=\"1855.92\" cy=\"1276.07\" r=\"2\"/>\n",
       "<circle clip-path=\"url(#clip202)\" style=\"fill:#009af9; stroke:none; fill-opacity:0\" cx=\"1875.89\" cy=\"1384.24\" r=\"2\"/>\n",
       "<circle clip-path=\"url(#clip202)\" style=\"fill:#009af9; stroke:none; fill-opacity:0\" cx=\"1895.87\" cy=\"1384.24\" r=\"2\"/>\n",
       "<circle clip-path=\"url(#clip202)\" style=\"fill:#009af9; stroke:none; fill-opacity:0\" cx=\"1915.85\" cy=\"1384.24\" r=\"2\"/>\n",
       "<circle clip-path=\"url(#clip202)\" style=\"fill:#009af9; stroke:none; fill-opacity:0\" cx=\"1935.82\" cy=\"1384.24\" r=\"2\"/>\n",
       "<circle clip-path=\"url(#clip202)\" style=\"fill:#009af9; stroke:none; fill-opacity:0\" cx=\"1955.8\" cy=\"1276.07\" r=\"2\"/>\n",
       "<circle clip-path=\"url(#clip202)\" style=\"fill:#009af9; stroke:none; fill-opacity:0\" cx=\"1975.78\" cy=\"1384.24\" r=\"2\"/>\n",
       "<circle clip-path=\"url(#clip202)\" style=\"fill:#009af9; stroke:none; fill-opacity:0\" cx=\"1995.76\" cy=\"1384.24\" r=\"2\"/>\n",
       "<circle clip-path=\"url(#clip202)\" style=\"fill:#009af9; stroke:none; fill-opacity:0\" cx=\"2015.73\" cy=\"1384.24\" r=\"2\"/>\n",
       "<circle clip-path=\"url(#clip202)\" style=\"fill:#009af9; stroke:none; fill-opacity:0\" cx=\"2035.71\" cy=\"1384.24\" r=\"2\"/>\n",
       "<circle clip-path=\"url(#clip202)\" style=\"fill:#009af9; stroke:none; fill-opacity:0\" cx=\"2055.69\" cy=\"1384.24\" r=\"2\"/>\n",
       "<circle clip-path=\"url(#clip202)\" style=\"fill:#009af9; stroke:none; fill-opacity:0\" cx=\"2075.66\" cy=\"1384.24\" r=\"2\"/>\n",
       "<circle clip-path=\"url(#clip202)\" style=\"fill:#009af9; stroke:none; fill-opacity:0\" cx=\"2095.64\" cy=\"1384.24\" r=\"2\"/>\n",
       "<circle clip-path=\"url(#clip202)\" style=\"fill:#009af9; stroke:none; fill-opacity:0\" cx=\"2115.62\" cy=\"1384.24\" r=\"2\"/>\n",
       "<circle clip-path=\"url(#clip202)\" style=\"fill:#009af9; stroke:none; fill-opacity:0\" cx=\"2135.6\" cy=\"1384.24\" r=\"2\"/>\n",
       "<circle clip-path=\"url(#clip202)\" style=\"fill:#009af9; stroke:none; fill-opacity:0\" cx=\"2155.57\" cy=\"1384.24\" r=\"2\"/>\n",
       "<circle clip-path=\"url(#clip202)\" style=\"fill:#009af9; stroke:none; fill-opacity:0\" cx=\"2175.55\" cy=\"1384.24\" r=\"2\"/>\n",
       "<circle clip-path=\"url(#clip202)\" style=\"fill:#009af9; stroke:none; fill-opacity:0\" cx=\"2195.53\" cy=\"1384.24\" r=\"2\"/>\n",
       "<circle clip-path=\"url(#clip202)\" style=\"fill:#009af9; stroke:none; fill-opacity:0\" cx=\"2215.5\" cy=\"1384.24\" r=\"2\"/>\n",
       "<circle clip-path=\"url(#clip202)\" style=\"fill:#009af9; stroke:none; fill-opacity:0\" cx=\"2235.48\" cy=\"1276.07\" r=\"2\"/>\n",
       "<circle clip-path=\"url(#clip202)\" style=\"fill:#009af9; stroke:none; fill-opacity:0\" cx=\"2255.46\" cy=\"1384.24\" r=\"2\"/>\n",
       "<circle clip-path=\"url(#clip202)\" style=\"fill:#009af9; stroke:none; fill-opacity:0\" cx=\"2275.44\" cy=\"1384.24\" r=\"2\"/>\n",
       "<circle clip-path=\"url(#clip202)\" style=\"fill:#009af9; stroke:none; fill-opacity:0\" cx=\"2295.41\" cy=\"1384.24\" r=\"2\"/>\n",
       "<circle clip-path=\"url(#clip202)\" style=\"fill:#009af9; stroke:none; fill-opacity:0\" cx=\"2315.39\" cy=\"1384.24\" r=\"2\"/>\n",
       "<circle clip-path=\"url(#clip202)\" style=\"fill:#009af9; stroke:none; fill-opacity:0\" cx=\"2335.37\" cy=\"1384.24\" r=\"2\"/>\n",
       "</svg>\n"
      ]
     },
     "execution_count": 98,
     "metadata": {},
     "output_type": "execute_result"
    }
   ],
   "source": [
    "using Statistics  # 导入统计包以计算标准差\n",
    "t = c_bench.times / 1e6  # 毫秒\n",
    "m, σ = minimum(t), std(t)\n",
    "\n",
    "histogram(t, bins=500,\n",
    "    xlim=(m - 0.01, m + σ),\n",
    "    xlabel=\"milliseconds\", ylabel=\"count\", label=\"\")"
   ]
  },
  {
   "cell_type": "markdown",
   "id": "4540a5ef-cb49-469e-9324-5505d38b9d19",
   "metadata": {},
   "source": [
    "### 2. 使用 `-ffast-math` 的 C 语言\n",
    "\n",
    "如果我们允许 C 重新安排浮点操作，它就会使用 SIMD 指令(single instruction, multiple data)进行矢量化。"
   ]
  },
  {
   "cell_type": "code",
   "execution_count": 99,
   "id": "c3cef493-6e29-4ed5-acc5-21c53a855b34",
   "metadata": {},
   "outputs": [
    {
     "data": {
      "text/plain": [
       "c_sum_fastmath (generic function with 1 method)"
      ]
     },
     "execution_count": 99,
     "metadata": {},
     "output_type": "execute_result"
    }
   ],
   "source": [
    "const Clib_fastmath = tempname()   # 创建临时文件\n",
    "\n",
    "# 同上但是增加了 -ffast-math 标志\n",
    "open(`gcc -fPIC -O3 -msse3 -xc -shared -ffast-math -o $(Clib_fastmath * \".\" * Libdl.dlext) -`, \"w\") do f\n",
    "    print(f, C_code) \n",
    "end\n",
    "\n",
    "# 定义一个调用这个 C 语言函数的 Julia 函数：\n",
    "c_sum_fastmath(X::Array{Float64}) = ccall((\"c_sum\", Clib_fastmath), Float64, (Csize_t, Ptr{Float64}), length(X), X)"
   ]
  },
  {
   "cell_type": "code",
   "execution_count": 100,
   "id": "c0b22680-4408-465f-9f5a-d2709d3bf6e3",
   "metadata": {},
   "outputs": [
    {
     "data": {
      "text/plain": [
       "BenchmarkTools.Trial: 139 samples with 1 evaluation.\n",
       " Range \u001b[90m(\u001b[39m\u001b[36m\u001b[1mmin\u001b[22m\u001b[39m … \u001b[35mmax\u001b[39m\u001b[90m):  \u001b[39m\u001b[36m\u001b[1m33.635 ms\u001b[22m\u001b[39m … \u001b[35m44.735 ms\u001b[39m  \u001b[90m┊\u001b[39m GC \u001b[90m(\u001b[39mmin … max\u001b[90m): \u001b[39m0.00% … 0.00%\n",
       " Time  \u001b[90m(\u001b[39m\u001b[34m\u001b[1mmedian\u001b[22m\u001b[39m\u001b[90m):     \u001b[39m\u001b[34m\u001b[1m35.661 ms              \u001b[22m\u001b[39m\u001b[90m┊\u001b[39m GC \u001b[90m(\u001b[39mmedian\u001b[90m):    \u001b[39m0.00%\n",
       " Time  \u001b[90m(\u001b[39m\u001b[32m\u001b[1mmean\u001b[22m\u001b[39m ± \u001b[32mσ\u001b[39m\u001b[90m):   \u001b[39m\u001b[32m\u001b[1m36.069 ms\u001b[22m\u001b[39m ± \u001b[32m 1.259 ms\u001b[39m  \u001b[90m┊\u001b[39m GC \u001b[90m(\u001b[39mmean ± σ\u001b[90m):  \u001b[39m0.00% ± 0.00%\n",
       "\n",
       "  \u001b[39m \u001b[39m \u001b[39m \u001b[39m \u001b[39m \u001b[39m \u001b[39m \u001b[39m \u001b[39m \u001b[39m \u001b[39m \u001b[39m▂\u001b[39m \u001b[39m \u001b[39m \u001b[34m \u001b[39m\u001b[39m \u001b[39m \u001b[32m \u001b[39m\u001b[39m \u001b[39m \u001b[39m \u001b[39m \u001b[39m \u001b[39m█\u001b[39m \u001b[39m \u001b[39m \u001b[39m \u001b[39m \u001b[39m \u001b[39m \u001b[39m \u001b[39m \u001b[39m \u001b[39m \u001b[39m \u001b[39m \u001b[39m \u001b[39m \u001b[39m \u001b[39m \u001b[39m \u001b[39m \u001b[39m \u001b[39m \u001b[39m \u001b[39m \u001b[39m \u001b[39m \u001b[39m \u001b[39m \u001b[39m \u001b[39m \u001b[39m \u001b[39m \u001b[39m \u001b[39m \u001b[39m \u001b[39m \u001b[39m \n",
       "  \u001b[39m▂\u001b[39m▁\u001b[39m▁\u001b[39m▁\u001b[39m▁\u001b[39m▂\u001b[39m▂\u001b[39m▃\u001b[39m▃\u001b[39m▄\u001b[39m▃\u001b[39m█\u001b[39m█\u001b[39m█\u001b[39m█\u001b[34m▅\u001b[39m\u001b[39m▅\u001b[39m▃\u001b[32m▃\u001b[39m\u001b[39m▃\u001b[39m▁\u001b[39m▂\u001b[39m▂\u001b[39m▂\u001b[39m█\u001b[39m▇\u001b[39m▁\u001b[39m▁\u001b[39m▁\u001b[39m▁\u001b[39m▁\u001b[39m▁\u001b[39m▁\u001b[39m▁\u001b[39m▁\u001b[39m▁\u001b[39m▁\u001b[39m▁\u001b[39m▁\u001b[39m▁\u001b[39m▁\u001b[39m▁\u001b[39m▁\u001b[39m▁\u001b[39m▁\u001b[39m▁\u001b[39m▂\u001b[39m▁\u001b[39m▁\u001b[39m▁\u001b[39m▁\u001b[39m▁\u001b[39m▁\u001b[39m▁\u001b[39m▁\u001b[39m▁\u001b[39m▁\u001b[39m▁\u001b[39m▂\u001b[39m \u001b[39m▂\n",
       "  33.6 ms\u001b[90m         Histogram: frequency by time\u001b[39m        41.7 ms \u001b[0m\u001b[1m<\u001b[22m\n",
       "\n",
       " Memory estimate\u001b[90m: \u001b[39m\u001b[33m0 bytes\u001b[39m, allocs estimate\u001b[90m: \u001b[39m\u001b[33m0\u001b[39m."
      ]
     },
     "execution_count": 100,
     "metadata": {},
     "output_type": "execute_result"
    }
   ],
   "source": [
    "c_fastmath_bench = @benchmark $c_sum_fastmath($a)"
   ]
  },
  {
   "cell_type": "code",
   "execution_count": 101,
   "id": "1b6a4607-681e-4a83-9dbd-987f2a9d882e",
   "metadata": {},
   "outputs": [
    {
     "data": {
      "text/plain": [
       "33.635166"
      ]
     },
     "execution_count": 101,
     "metadata": {},
     "output_type": "execute_result"
    }
   ],
   "source": [
    "d[\"C -ffast-math\"] = minimum(c_fastmath_bench.times) / 1e6  # 毫秒"
   ]
  },
  {
   "cell_type": "markdown",
   "id": "e0c98f10-de36-4b50-8e35-87579ec615ac",
   "metadata": {},
   "source": [
    "### 3. Python 的内置 `sum` \n",
    "\n",
    "`PyCall` 包给 Julia 提供了 Python 接口："
   ]
  },
  {
   "cell_type": "markdown",
   "id": "0ad85db7-7e41-4021-b891-f86891e3f7d8",
   "metadata": {},
   "source": [
    "```Julia\n",
    "using Pkg\n",
    "Pkg.add(\"PyCall\")\n",
    "```"
   ]
  },
  {
   "cell_type": "code",
   "execution_count": 102,
   "id": "a60d0901-5e8d-4b34-9670-6a215bf5913d",
   "metadata": {},
   "outputs": [],
   "source": [
    "using PyCall"
   ]
  },
  {
   "cell_type": "code",
   "execution_count": 103,
   "id": "de3f4fb9-172a-4d42-9d75-29d565a89a16",
   "metadata": {},
   "outputs": [
    {
     "data": {
      "text/plain": [
       "PyObject <built-in function sum>"
      ]
     },
     "execution_count": 103,
     "metadata": {},
     "output_type": "execute_result"
    }
   ],
   "source": [
    "# 获得 Python 的内置 \"sum\" 函数：\n",
    "pysum = pybuiltin(\"sum\")"
   ]
  },
  {
   "cell_type": "code",
   "execution_count": 104,
   "id": "cb1aa825-b876-48bf-a595-0beb0654125a",
   "metadata": {},
   "outputs": [
    {
     "data": {
      "text/plain": [
       "true"
      ]
     },
     "execution_count": 104,
     "metadata": {},
     "output_type": "execute_result"
    }
   ],
   "source": [
    "pysum(a) ≈ sum(a)"
   ]
  },
  {
   "cell_type": "code",
   "execution_count": 105,
   "id": "e6aef2c8-75a8-4a37-8ba2-1dba0c9d8969",
   "metadata": {},
   "outputs": [
    {
     "data": {
      "text/plain": [
       "BenchmarkTools.Trial: 7 samples with 1 evaluation.\n",
       " Range \u001b[90m(\u001b[39m\u001b[36m\u001b[1mmin\u001b[22m\u001b[39m … \u001b[35mmax\u001b[39m\u001b[90m):  \u001b[39m\u001b[36m\u001b[1m764.478 ms\u001b[22m\u001b[39m … \u001b[35m789.954 ms\u001b[39m  \u001b[90m┊\u001b[39m GC \u001b[90m(\u001b[39mmin … max\u001b[90m): \u001b[39m0.00% … 0.00%\n",
       " Time  \u001b[90m(\u001b[39m\u001b[34m\u001b[1mmedian\u001b[22m\u001b[39m\u001b[90m):     \u001b[39m\u001b[34m\u001b[1m778.080 ms               \u001b[22m\u001b[39m\u001b[90m┊\u001b[39m GC \u001b[90m(\u001b[39mmedian\u001b[90m):    \u001b[39m0.00%\n",
       " Time  \u001b[90m(\u001b[39m\u001b[32m\u001b[1mmean\u001b[22m\u001b[39m ± \u001b[32mσ\u001b[39m\u001b[90m):   \u001b[39m\u001b[32m\u001b[1m777.622 ms\u001b[22m\u001b[39m ± \u001b[32m 10.363 ms\u001b[39m  \u001b[90m┊\u001b[39m GC \u001b[90m(\u001b[39mmean ± σ\u001b[90m):  \u001b[39m0.00% ± 0.00%\n",
       "\n",
       "  \u001b[39m█\u001b[39m \u001b[39m \u001b[39m \u001b[39m \u001b[39m \u001b[39m \u001b[39m \u001b[39m█\u001b[39m \u001b[39m \u001b[39m \u001b[39m█\u001b[34m \u001b[39m\u001b[39m \u001b[39m \u001b[39m \u001b[39m \u001b[39m \u001b[39m \u001b[39m \u001b[39m \u001b[39m \u001b[39m \u001b[39m \u001b[39m \u001b[39m \u001b[39m \u001b[39m \u001b[39m \u001b[39m \u001b[32m \u001b[39m\u001b[39m█\u001b[39m \u001b[39m \u001b[39m \u001b[39m \u001b[39m \u001b[39m \u001b[39m \u001b[39m \u001b[39m \u001b[39m \u001b[39m \u001b[39m \u001b[39m \u001b[39m█\u001b[39m \u001b[39m \u001b[39m \u001b[39m \u001b[39m \u001b[39m \u001b[39m \u001b[39m \u001b[39m \u001b[39m \u001b[39m \u001b[39m█\u001b[39m \u001b[39m█\u001b[39m \u001b[39m \n",
       "  \u001b[39m█\u001b[39m▁\u001b[39m▁\u001b[39m▁\u001b[39m▁\u001b[39m▁\u001b[39m▁\u001b[39m▁\u001b[39m█\u001b[39m▁\u001b[39m▁\u001b[39m▁\u001b[39m█\u001b[34m▁\u001b[39m\u001b[39m▁\u001b[39m▁\u001b[39m▁\u001b[39m▁\u001b[39m▁\u001b[39m▁\u001b[39m▁\u001b[39m▁\u001b[39m▁\u001b[39m▁\u001b[39m▁\u001b[39m▁\u001b[39m▁\u001b[39m▁\u001b[39m▁\u001b[39m▁\u001b[39m▁\u001b[32m▁\u001b[39m\u001b[39m█\u001b[39m▁\u001b[39m▁\u001b[39m▁\u001b[39m▁\u001b[39m▁\u001b[39m▁\u001b[39m▁\u001b[39m▁\u001b[39m▁\u001b[39m▁\u001b[39m▁\u001b[39m▁\u001b[39m▁\u001b[39m█\u001b[39m▁\u001b[39m▁\u001b[39m▁\u001b[39m▁\u001b[39m▁\u001b[39m▁\u001b[39m▁\u001b[39m▁\u001b[39m▁\u001b[39m▁\u001b[39m▁\u001b[39m█\u001b[39m▁\u001b[39m█\u001b[39m \u001b[39m▁\n",
       "  764 ms\u001b[90m           Histogram: frequency by time\u001b[39m          790 ms \u001b[0m\u001b[1m<\u001b[22m\n",
       "\n",
       " Memory estimate\u001b[90m: \u001b[39m\u001b[33m336 bytes\u001b[39m, allocs estimate\u001b[90m: \u001b[39m\u001b[33m6\u001b[39m."
      ]
     },
     "execution_count": 105,
     "metadata": {},
     "output_type": "execute_result"
    }
   ],
   "source": [
    "py_list_bench = @benchmark $pysum($a)"
   ]
  },
  {
   "cell_type": "code",
   "execution_count": 106,
   "id": "70d2148c-1996-4012-918f-fc8fab26157f",
   "metadata": {},
   "outputs": [
    {
     "data": {
      "text/plain": [
       "764.477913"
      ]
     },
     "execution_count": 106,
     "metadata": {},
     "output_type": "execute_result"
    }
   ],
   "source": [
    "d[\"Python built-in\"] = minimum(py_list_bench.times) / 1e6"
   ]
  },
  {
   "cell_type": "markdown",
   "id": "6b730b55-0f89-4fce-84d4-fc37969625cd",
   "metadata": {},
   "source": [
    "### 4. Python: `numpy` \n",
    "\n",
    "**条件允许的情况下利用硬件 \"SIMD\"**\n",
    "\n",
    "`numpy` 是一个 Python 的优化过的 C 语言库。\n",
    "在 Julia 版 Python 中的安装方法为："
   ]
  },
  {
   "cell_type": "markdown",
   "id": "c320356f-bf3f-4c5e-84ae-b0226fdb98d7",
   "metadata": {},
   "source": [
    "```Julia\n",
    "using Pkg\n",
    "Pkg.add(\"PyCall\")\n",
    "```"
   ]
  },
  {
   "cell_type": "code",
   "execution_count": 107,
   "id": "d55aa57a-c3cd-4cd0-b586-75e3aa8f8767",
   "metadata": {},
   "outputs": [
    {
     "name": "stderr",
     "output_type": "stream",
     "text": [
      "┌ Info: Running `conda install -y numpy` in root environment\n",
      "└ @ Conda /opt/julia-1.6.4/local/share/julia/packages/Conda/x2UxR/src/Conda.jl:127\n"
     ]
    },
    {
     "name": "stdout",
     "output_type": "stream",
     "text": [
      "Collecting package metadata (current_repodata.json): ...working... done\n",
      "Solving environment: ...working... done\n",
      "\n",
      "# All requested packages already installed.\n",
      "\n"
     ]
    }
   ],
   "source": [
    "using Conda\n",
    "Conda.add(\"numpy\")"
   ]
  },
  {
   "cell_type": "code",
   "execution_count": 108,
   "id": "89d86426-a521-458b-89af-8dcdddd1229a",
   "metadata": {},
   "outputs": [
    {
     "data": {
      "text/plain": [
       "BenchmarkTools.Trial: 136 samples with 1 evaluation.\n",
       " Range \u001b[90m(\u001b[39m\u001b[36m\u001b[1mmin\u001b[22m\u001b[39m … \u001b[35mmax\u001b[39m\u001b[90m):  \u001b[39m\u001b[36m\u001b[1m34.703 ms\u001b[22m\u001b[39m … \u001b[35m48.039 ms\u001b[39m  \u001b[90m┊\u001b[39m GC \u001b[90m(\u001b[39mmin … max\u001b[90m): \u001b[39m0.00% … 0.00%\n",
       " Time  \u001b[90m(\u001b[39m\u001b[34m\u001b[1mmedian\u001b[22m\u001b[39m\u001b[90m):     \u001b[39m\u001b[34m\u001b[1m35.774 ms              \u001b[22m\u001b[39m\u001b[90m┊\u001b[39m GC \u001b[90m(\u001b[39mmedian\u001b[90m):    \u001b[39m0.00%\n",
       " Time  \u001b[90m(\u001b[39m\u001b[32m\u001b[1mmean\u001b[22m\u001b[39m ± \u001b[32mσ\u001b[39m\u001b[90m):   \u001b[39m\u001b[32m\u001b[1m36.918 ms\u001b[22m\u001b[39m ± \u001b[32m 3.137 ms\u001b[39m  \u001b[90m┊\u001b[39m GC \u001b[90m(\u001b[39mmean ± σ\u001b[90m):  \u001b[39m0.00% ± 0.00%\n",
       "\n",
       "  \u001b[39m \u001b[39m \u001b[39m \u001b[39m▆\u001b[39m█\u001b[34m▅\u001b[39m\u001b[39m▁\u001b[39m \u001b[39m \u001b[39m \u001b[32m \u001b[39m\u001b[39m \u001b[39m \u001b[39m \u001b[39m \u001b[39m \u001b[39m \u001b[39m \u001b[39m \u001b[39m \u001b[39m \u001b[39m \u001b[39m \u001b[39m \u001b[39m \u001b[39m \u001b[39m \u001b[39m \u001b[39m \u001b[39m \u001b[39m \u001b[39m \u001b[39m \u001b[39m \u001b[39m \u001b[39m \u001b[39m \u001b[39m \u001b[39m \u001b[39m \u001b[39m \u001b[39m \u001b[39m \u001b[39m \u001b[39m \u001b[39m \u001b[39m \u001b[39m \u001b[39m \u001b[39m \u001b[39m \u001b[39m \u001b[39m \u001b[39m \u001b[39m \u001b[39m \u001b[39m \u001b[39m \u001b[39m \u001b[39m \u001b[39m \n",
       "  \u001b[39m▃\u001b[39m▃\u001b[39m▇\u001b[39m█\u001b[39m█\u001b[34m█\u001b[39m\u001b[39m█\u001b[39m▅\u001b[39m▁\u001b[39m▁\u001b[32m▁\u001b[39m\u001b[39m▃\u001b[39m▃\u001b[39m▁\u001b[39m▁\u001b[39m▁\u001b[39m▁\u001b[39m▁\u001b[39m▁\u001b[39m▁\u001b[39m▂\u001b[39m▂\u001b[39m▂\u001b[39m▁\u001b[39m▁\u001b[39m▁\u001b[39m▂\u001b[39m▁\u001b[39m▁\u001b[39m▁\u001b[39m▂\u001b[39m▃\u001b[39m▁\u001b[39m▁\u001b[39m▁\u001b[39m▁\u001b[39m▁\u001b[39m▁\u001b[39m▁\u001b[39m▁\u001b[39m▁\u001b[39m▂\u001b[39m▁\u001b[39m▁\u001b[39m▁\u001b[39m▁\u001b[39m▁\u001b[39m▁\u001b[39m▁\u001b[39m▁\u001b[39m▂\u001b[39m▂\u001b[39m▃\u001b[39m▁\u001b[39m▁\u001b[39m▃\u001b[39m▂\u001b[39m▂\u001b[39m▂\u001b[39m \u001b[39m▂\n",
       "  34.7 ms\u001b[90m         Histogram: frequency by time\u001b[39m        47.3 ms \u001b[0m\u001b[1m<\u001b[22m\n",
       "\n",
       " Memory estimate\u001b[90m: \u001b[39m\u001b[33m336 bytes\u001b[39m, allocs estimate\u001b[90m: \u001b[39m\u001b[33m6\u001b[39m."
      ]
     },
     "execution_count": 108,
     "metadata": {},
     "output_type": "execute_result"
    }
   ],
   "source": [
    "numpy_sum = pyimport(\"numpy\")[\"sum\"]\n",
    "py_numpy_bench = @benchmark $numpy_sum($a)"
   ]
  },
  {
   "cell_type": "code",
   "execution_count": 109,
   "id": "3ece452a-ca1e-4c33-a239-da331ae47f7d",
   "metadata": {},
   "outputs": [
    {
     "data": {
      "text/plain": [
       "true"
      ]
     },
     "execution_count": 109,
     "metadata": {},
     "output_type": "execute_result"
    }
   ],
   "source": [
    "numpy_sum(a) ≈ sum(a)"
   ]
  },
  {
   "cell_type": "code",
   "execution_count": 110,
   "id": "10cce8d9-9e36-435e-a39e-020969eec81c",
   "metadata": {},
   "outputs": [
    {
     "data": {
      "text/plain": [
       "34.703289"
      ]
     },
     "execution_count": 110,
     "metadata": {},
     "output_type": "execute_result"
    }
   ],
   "source": [
    "d[\"Python numpy\"] = minimum(py_numpy_bench.times) / 1e6"
   ]
  },
  {
   "cell_type": "markdown",
   "id": "6ac4a23c-34a5-4afa-ae7f-2b4812acd110",
   "metadata": {},
   "source": [
    "### 5. Python（手写）"
   ]
  },
  {
   "cell_type": "code",
   "execution_count": 111,
   "id": "e38276ff-ed01-410a-b6da-3300caff0b1f",
   "metadata": {},
   "outputs": [
    {
     "data": {
      "text/plain": [
       "PyObject <function py_sum at 0x7fb003876700>"
      ]
     },
     "execution_count": 111,
     "metadata": {},
     "output_type": "execute_result"
    }
   ],
   "source": [
    "py\"\"\"\n",
    "def py_sum(A):\n",
    "    s = 0.0\n",
    "    for a in A:\n",
    "        s += a\n",
    "    return s\n",
    "\"\"\"\n",
    "\n",
    "sum_py = py\"py_sum\""
   ]
  },
  {
   "cell_type": "code",
   "execution_count": 112,
   "id": "a6e1460b-b7a6-4819-bc67-32918bed965a",
   "metadata": {},
   "outputs": [
    {
     "data": {
      "text/plain": [
       "BenchmarkTools.Trial: 6 samples with 1 evaluation.\n",
       " Range \u001b[90m(\u001b[39m\u001b[36m\u001b[1mmin\u001b[22m\u001b[39m … \u001b[35mmax\u001b[39m\u001b[90m):  \u001b[39m\u001b[36m\u001b[1m899.295 ms\u001b[22m\u001b[39m … \u001b[35m936.203 ms\u001b[39m  \u001b[90m┊\u001b[39m GC \u001b[90m(\u001b[39mmin … max\u001b[90m): \u001b[39m0.00% … 0.00%\n",
       " Time  \u001b[90m(\u001b[39m\u001b[34m\u001b[1mmedian\u001b[22m\u001b[39m\u001b[90m):     \u001b[39m\u001b[34m\u001b[1m905.996 ms               \u001b[22m\u001b[39m\u001b[90m┊\u001b[39m GC \u001b[90m(\u001b[39mmedian\u001b[90m):    \u001b[39m0.00%\n",
       " Time  \u001b[90m(\u001b[39m\u001b[32m\u001b[1mmean\u001b[22m\u001b[39m ± \u001b[32mσ\u001b[39m\u001b[90m):   \u001b[39m\u001b[32m\u001b[1m911.844 ms\u001b[22m\u001b[39m ± \u001b[32m 13.964 ms\u001b[39m  \u001b[90m┊\u001b[39m GC \u001b[90m(\u001b[39mmean ± σ\u001b[90m):  \u001b[39m0.00% ± 0.00%\n",
       "\n",
       "  \u001b[39m█\u001b[39m \u001b[39m \u001b[39m \u001b[39m \u001b[39m \u001b[39m█\u001b[39m \u001b[39m \u001b[39m \u001b[34m█\u001b[39m\u001b[39m \u001b[39m█\u001b[39m \u001b[39m \u001b[39m \u001b[39m \u001b[39m \u001b[39m \u001b[39m \u001b[39m \u001b[32m \u001b[39m\u001b[39m \u001b[39m \u001b[39m \u001b[39m \u001b[39m \u001b[39m \u001b[39m \u001b[39m \u001b[39m \u001b[39m \u001b[39m \u001b[39m \u001b[39m \u001b[39m█\u001b[39m \u001b[39m \u001b[39m \u001b[39m \u001b[39m \u001b[39m \u001b[39m \u001b[39m \u001b[39m \u001b[39m \u001b[39m \u001b[39m \u001b[39m \u001b[39m \u001b[39m \u001b[39m \u001b[39m \u001b[39m \u001b[39m \u001b[39m \u001b[39m \u001b[39m \u001b[39m \u001b[39m \u001b[39m█\u001b[39m \u001b[39m \n",
       "  \u001b[39m█\u001b[39m▁\u001b[39m▁\u001b[39m▁\u001b[39m▁\u001b[39m▁\u001b[39m█\u001b[39m▁\u001b[39m▁\u001b[39m▁\u001b[34m█\u001b[39m\u001b[39m▁\u001b[39m█\u001b[39m▁\u001b[39m▁\u001b[39m▁\u001b[39m▁\u001b[39m▁\u001b[39m▁\u001b[39m▁\u001b[39m▁\u001b[32m▁\u001b[39m\u001b[39m▁\u001b[39m▁\u001b[39m▁\u001b[39m▁\u001b[39m▁\u001b[39m▁\u001b[39m▁\u001b[39m▁\u001b[39m▁\u001b[39m▁\u001b[39m▁\u001b[39m▁\u001b[39m▁\u001b[39m█\u001b[39m▁\u001b[39m▁\u001b[39m▁\u001b[39m▁\u001b[39m▁\u001b[39m▁\u001b[39m▁\u001b[39m▁\u001b[39m▁\u001b[39m▁\u001b[39m▁\u001b[39m▁\u001b[39m▁\u001b[39m▁\u001b[39m▁\u001b[39m▁\u001b[39m▁\u001b[39m▁\u001b[39m▁\u001b[39m▁\u001b[39m▁\u001b[39m▁\u001b[39m▁\u001b[39m▁\u001b[39m█\u001b[39m \u001b[39m▁\n",
       "  899 ms\u001b[90m           Histogram: frequency by time\u001b[39m          936 ms \u001b[0m\u001b[1m<\u001b[22m\n",
       "\n",
       " Memory estimate\u001b[90m: \u001b[39m\u001b[33m336 bytes\u001b[39m, allocs estimate\u001b[90m: \u001b[39m\u001b[33m6\u001b[39m."
      ]
     },
     "execution_count": 112,
     "metadata": {},
     "output_type": "execute_result"
    }
   ],
   "source": [
    "py_hand = @benchmark $sum_py($a)"
   ]
  },
  {
   "cell_type": "code",
   "execution_count": 113,
   "id": "c5dac71d-3d25-44e7-8526-1e0deaca96da",
   "metadata": {},
   "outputs": [
    {
     "data": {
      "text/plain": [
       "true"
      ]
     },
     "execution_count": 113,
     "metadata": {},
     "output_type": "execute_result"
    }
   ],
   "source": [
    "sum_py(a) ≈ sum(a)"
   ]
  },
  {
   "cell_type": "code",
   "execution_count": 114,
   "id": "6a7c4f01-e5d2-45d1-8d9c-36a8c88465e9",
   "metadata": {},
   "outputs": [
    {
     "data": {
      "text/plain": [
       "899.294735"
      ]
     },
     "execution_count": 114,
     "metadata": {},
     "output_type": "execute_result"
    }
   ],
   "source": [
    "d[\"Python hand-written\"] = minimum(py_hand.times) / 1e6"
   ]
  },
  {
   "cell_type": "markdown",
   "id": "6ab3aec8-74c6-4b57-8a7e-2f4f03e9717e",
   "metadata": {},
   "source": [
    "### 6. Julia（内置）\n",
    "\n",
    "**是直接用 Julia 写的，不是 C！**"
   ]
  },
  {
   "cell_type": "code",
   "execution_count": 115,
   "id": "02f07c58-0b15-4ef6-b876-a10a629699b7",
   "metadata": {},
   "outputs": [
    {
     "data": {
      "text/html": [
       "sum(a::<b>AbstractArray</b>; <i>dims, kw...</i>) in Base at <a href=\"https://github.com/JuliaLang/julia/tree/35f0c911f443ae0d3933e1bce4321afd0f345aed/base/reducedim.jl#L873\" target=\"_blank\">reducedim.jl:873</a>"
      ],
      "text/plain": [
       "sum(a::AbstractArray; dims, kw...) in Base at reducedim.jl:873"
      ]
     },
     "execution_count": 115,
     "metadata": {},
     "output_type": "execute_result"
    }
   ],
   "source": [
    "@which sum(a)"
   ]
  },
  {
   "cell_type": "code",
   "execution_count": 116,
   "id": "95d23d29-2a0a-4ca7-9572-67326bda56e1",
   "metadata": {},
   "outputs": [
    {
     "data": {
      "text/plain": [
       "BenchmarkTools.Trial: 139 samples with 1 evaluation.\n",
       " Range \u001b[90m(\u001b[39m\u001b[36m\u001b[1mmin\u001b[22m\u001b[39m … \u001b[35mmax\u001b[39m\u001b[90m):  \u001b[39m\u001b[36m\u001b[1m34.535 ms\u001b[22m\u001b[39m … \u001b[35m42.702 ms\u001b[39m  \u001b[90m┊\u001b[39m GC \u001b[90m(\u001b[39mmin … max\u001b[90m): \u001b[39m0.00% … 0.00%\n",
       " Time  \u001b[90m(\u001b[39m\u001b[34m\u001b[1mmedian\u001b[22m\u001b[39m\u001b[90m):     \u001b[39m\u001b[34m\u001b[1m35.654 ms              \u001b[22m\u001b[39m\u001b[90m┊\u001b[39m GC \u001b[90m(\u001b[39mmedian\u001b[90m):    \u001b[39m0.00%\n",
       " Time  \u001b[90m(\u001b[39m\u001b[32m\u001b[1mmean\u001b[22m\u001b[39m ± \u001b[32mσ\u001b[39m\u001b[90m):   \u001b[39m\u001b[32m\u001b[1m36.002 ms\u001b[22m\u001b[39m ± \u001b[32m 1.310 ms\u001b[39m  \u001b[90m┊\u001b[39m GC \u001b[90m(\u001b[39mmean ± σ\u001b[90m):  \u001b[39m0.00% ± 0.00%\n",
       "\n",
       "  \u001b[39m \u001b[39m \u001b[39m \u001b[39m \u001b[39m \u001b[39m▁\u001b[39m▃\u001b[39m▅\u001b[39m█\u001b[34m▃\u001b[39m\u001b[39m▄\u001b[32m \u001b[39m\u001b[39m \u001b[39m \u001b[39m \u001b[39m \u001b[39m \u001b[39m \u001b[39m \u001b[39m \u001b[39m \u001b[39m \u001b[39m \u001b[39m \u001b[39m \u001b[39m \u001b[39m \u001b[39m \u001b[39m \u001b[39m \u001b[39m \u001b[39m \u001b[39m \u001b[39m \u001b[39m \u001b[39m \u001b[39m \u001b[39m \u001b[39m \u001b[39m \u001b[39m \u001b[39m \u001b[39m \u001b[39m \u001b[39m \u001b[39m \u001b[39m \u001b[39m \u001b[39m \u001b[39m \u001b[39m \u001b[39m \u001b[39m \u001b[39m \u001b[39m \u001b[39m \u001b[39m \u001b[39m \u001b[39m \u001b[39m \u001b[39m \n",
       "  \u001b[39m▃\u001b[39m▃\u001b[39m▃\u001b[39m▃\u001b[39m▅\u001b[39m█\u001b[39m█\u001b[39m█\u001b[39m█\u001b[34m█\u001b[39m\u001b[39m█\u001b[32m▅\u001b[39m\u001b[39m▃\u001b[39m▄\u001b[39m▃\u001b[39m▁\u001b[39m▃\u001b[39m▄\u001b[39m▁\u001b[39m▁\u001b[39m▃\u001b[39m▁\u001b[39m▃\u001b[39m▁\u001b[39m▁\u001b[39m▁\u001b[39m▃\u001b[39m▃\u001b[39m▁\u001b[39m▁\u001b[39m▁\u001b[39m▁\u001b[39m▃\u001b[39m▃\u001b[39m▁\u001b[39m▁\u001b[39m▁\u001b[39m▃\u001b[39m▁\u001b[39m▃\u001b[39m▁\u001b[39m▁\u001b[39m▁\u001b[39m▃\u001b[39m▁\u001b[39m▁\u001b[39m▁\u001b[39m▁\u001b[39m▁\u001b[39m▁\u001b[39m▁\u001b[39m▁\u001b[39m▁\u001b[39m▁\u001b[39m▁\u001b[39m▃\u001b[39m▁\u001b[39m▁\u001b[39m▃\u001b[39m \u001b[39m▃\n",
       "  34.5 ms\u001b[90m         Histogram: frequency by time\u001b[39m        42.1 ms \u001b[0m\u001b[1m<\u001b[22m\n",
       "\n",
       " Memory estimate\u001b[90m: \u001b[39m\u001b[33m0 bytes\u001b[39m, allocs estimate\u001b[90m: \u001b[39m\u001b[33m0\u001b[39m."
      ]
     },
     "execution_count": 116,
     "metadata": {},
     "output_type": "execute_result"
    }
   ],
   "source": [
    "j_bench = @benchmark sum($a)"
   ]
  },
  {
   "cell_type": "code",
   "execution_count": 117,
   "id": "5db27c1c-ce89-49ca-9855-11316f61f2b4",
   "metadata": {},
   "outputs": [
    {
     "data": {
      "text/plain": [
       "34.534804"
      ]
     },
     "execution_count": 117,
     "metadata": {},
     "output_type": "execute_result"
    }
   ],
   "source": [
    "d[\"Julia built-in\"] = minimum(j_bench.times) / 1e6"
   ]
  },
  {
   "cell_type": "markdown",
   "id": "90b357b0-861f-4a8a-9dc2-a997f2f849f8",
   "metadata": {},
   "source": [
    "### 7. Julia（手写）"
   ]
  },
  {
   "cell_type": "code",
   "execution_count": 118,
   "id": "5b0078c8-65ab-45cc-9d66-aaa16a5e3e70",
   "metadata": {},
   "outputs": [
    {
     "data": {
      "text/plain": [
       "mysum (generic function with 1 method)"
      ]
     },
     "execution_count": 118,
     "metadata": {},
     "output_type": "execute_result"
    }
   ],
   "source": [
    "function mysum(A)   \n",
    "    s = 0.0  # s = zero(eltype(a))\n",
    "    for a in A\n",
    "        s += a\n",
    "    end\n",
    "    s\n",
    "end"
   ]
  },
  {
   "cell_type": "code",
   "execution_count": 119,
   "id": "f05c28fc-0315-4473-9bf1-eb893b51ae6b",
   "metadata": {},
   "outputs": [
    {
     "data": {
      "text/plain": [
       "BenchmarkTools.Trial: 140 samples with 1 evaluation.\n",
       " Range \u001b[90m(\u001b[39m\u001b[36m\u001b[1mmin\u001b[22m\u001b[39m … \u001b[35mmax\u001b[39m\u001b[90m):  \u001b[39m\u001b[36m\u001b[1m34.946 ms\u001b[22m\u001b[39m … \u001b[35m 40.983 ms\u001b[39m  \u001b[90m┊\u001b[39m GC \u001b[90m(\u001b[39mmin … max\u001b[90m): \u001b[39m0.00% … 0.00%\n",
       " Time  \u001b[90m(\u001b[39m\u001b[34m\u001b[1mmedian\u001b[22m\u001b[39m\u001b[90m):     \u001b[39m\u001b[34m\u001b[1m35.698 ms               \u001b[22m\u001b[39m\u001b[90m┊\u001b[39m GC \u001b[90m(\u001b[39mmedian\u001b[90m):    \u001b[39m0.00%\n",
       " Time  \u001b[90m(\u001b[39m\u001b[32m\u001b[1mmean\u001b[22m\u001b[39m ± \u001b[32mσ\u001b[39m\u001b[90m):   \u001b[39m\u001b[32m\u001b[1m35.916 ms\u001b[22m\u001b[39m ± \u001b[32m948.056 μs\u001b[39m  \u001b[90m┊\u001b[39m GC \u001b[90m(\u001b[39mmean ± σ\u001b[90m):  \u001b[39m0.00% ± 0.00%\n",
       "\n",
       "  \u001b[39m \u001b[39m \u001b[39m \u001b[39m \u001b[39m \u001b[39m \u001b[39m \u001b[39m█\u001b[34m▁\u001b[39m\u001b[39m \u001b[32m \u001b[39m\u001b[39m \u001b[39m \u001b[39m \u001b[39m \u001b[39m \u001b[39m \u001b[39m \u001b[39m \u001b[39m \u001b[39m \u001b[39m \u001b[39m \u001b[39m \u001b[39m \u001b[39m \u001b[39m \u001b[39m \u001b[39m \u001b[39m \u001b[39m \u001b[39m \u001b[39m \u001b[39m \u001b[39m \u001b[39m \u001b[39m \u001b[39m \u001b[39m \u001b[39m \u001b[39m \u001b[39m \u001b[39m \u001b[39m \u001b[39m \u001b[39m \u001b[39m \u001b[39m \u001b[39m \u001b[39m \u001b[39m \u001b[39m \u001b[39m \u001b[39m \u001b[39m \u001b[39m \u001b[39m \u001b[39m \u001b[39m \u001b[39m \u001b[39m \u001b[39m \n",
       "  \u001b[39m▃\u001b[39m▃\u001b[39m▃\u001b[39m▃\u001b[39m▃\u001b[39m▆\u001b[39m█\u001b[39m█\u001b[34m█\u001b[39m\u001b[39m▅\u001b[32m▅\u001b[39m\u001b[39m▃\u001b[39m▃\u001b[39m▃\u001b[39m▃\u001b[39m▁\u001b[39m▃\u001b[39m▁\u001b[39m▂\u001b[39m▂\u001b[39m▁\u001b[39m▁\u001b[39m▁\u001b[39m▁\u001b[39m▁\u001b[39m▁\u001b[39m▃\u001b[39m▂\u001b[39m▁\u001b[39m▁\u001b[39m▁\u001b[39m▁\u001b[39m▁\u001b[39m▁\u001b[39m▁\u001b[39m▁\u001b[39m▁\u001b[39m▁\u001b[39m▁\u001b[39m▁\u001b[39m▁\u001b[39m▁\u001b[39m▁\u001b[39m▁\u001b[39m▁\u001b[39m▁\u001b[39m▂\u001b[39m▁\u001b[39m▂\u001b[39m▁\u001b[39m▁\u001b[39m▁\u001b[39m▁\u001b[39m▁\u001b[39m▁\u001b[39m▁\u001b[39m▁\u001b[39m▁\u001b[39m▁\u001b[39m▃\u001b[39m \u001b[39m▂\n",
       "  34.9 ms\u001b[90m         Histogram: frequency by time\u001b[39m         40.8 ms \u001b[0m\u001b[1m<\u001b[22m\n",
       "\n",
       " Memory estimate\u001b[90m: \u001b[39m\u001b[33m0 bytes\u001b[39m, allocs estimate\u001b[90m: \u001b[39m\u001b[33m0\u001b[39m."
      ]
     },
     "execution_count": 119,
     "metadata": {},
     "output_type": "execute_result"
    }
   ],
   "source": [
    "j_bench_hand = @benchmark mysum($a)"
   ]
  },
  {
   "cell_type": "code",
   "execution_count": 120,
   "id": "5e63b8e1-1ecf-4bb9-b5c2-030668758665",
   "metadata": {},
   "outputs": [
    {
     "data": {
      "text/plain": [
       "34.945898"
      ]
     },
     "execution_count": 120,
     "metadata": {},
     "output_type": "execute_result"
    }
   ],
   "source": [
    "d[\"Julia hand-written\"] = minimum(j_bench_hand.times) / 1e6"
   ]
  },
  {
   "cell_type": "markdown",
   "id": "d8541d84-9d0e-4c99-a33b-c03b4b3165c5",
   "metadata": {},
   "source": [
    "### 8. Julia（手写 +  `@simd`）"
   ]
  },
  {
   "cell_type": "code",
   "execution_count": 121,
   "id": "9eb0e61e-83fb-4c09-98fa-0cb169cc24ee",
   "metadata": {},
   "outputs": [
    {
     "data": {
      "text/plain": [
       "mysum_simd (generic function with 1 method)"
      ]
     },
     "execution_count": 121,
     "metadata": {},
     "output_type": "execute_result"
    }
   ],
   "source": [
    "function mysum_simd(A)   \n",
    "    s = 0.0  # s = zero(eltype(A))\n",
    "    @simd for a in A\n",
    "        s += a\n",
    "    end\n",
    "    s\n",
    "end"
   ]
  },
  {
   "cell_type": "code",
   "execution_count": 122,
   "id": "dac2deec-cab8-447a-85da-043ebf393974",
   "metadata": {},
   "outputs": [
    {
     "data": {
      "text/plain": [
       "BenchmarkTools.Trial: 139 samples with 1 evaluation.\n",
       " Range \u001b[90m(\u001b[39m\u001b[36m\u001b[1mmin\u001b[22m\u001b[39m … \u001b[35mmax\u001b[39m\u001b[90m):  \u001b[39m\u001b[36m\u001b[1m34.447 ms\u001b[22m\u001b[39m … \u001b[35m44.120 ms\u001b[39m  \u001b[90m┊\u001b[39m GC \u001b[90m(\u001b[39mmin … max\u001b[90m): \u001b[39m0.00% … 0.00%\n",
       " Time  \u001b[90m(\u001b[39m\u001b[34m\u001b[1mmedian\u001b[22m\u001b[39m\u001b[90m):     \u001b[39m\u001b[34m\u001b[1m35.523 ms              \u001b[22m\u001b[39m\u001b[90m┊\u001b[39m GC \u001b[90m(\u001b[39mmedian\u001b[90m):    \u001b[39m0.00%\n",
       " Time  \u001b[90m(\u001b[39m\u001b[32m\u001b[1mmean\u001b[22m\u001b[39m ± \u001b[32mσ\u001b[39m\u001b[90m):   \u001b[39m\u001b[32m\u001b[1m35.910 ms\u001b[22m\u001b[39m ± \u001b[32m 1.533 ms\u001b[39m  \u001b[90m┊\u001b[39m GC \u001b[90m(\u001b[39mmean ± σ\u001b[90m):  \u001b[39m0.00% ± 0.00%\n",
       "\n",
       "  \u001b[39m \u001b[39m \u001b[39m \u001b[39m \u001b[39m▁\u001b[39m█\u001b[39m▇\u001b[34m▅\u001b[39m\u001b[39m \u001b[32m \u001b[39m\u001b[39m \u001b[39m \u001b[39m \u001b[39m \u001b[39m \u001b[39m \u001b[39m \u001b[39m \u001b[39m \u001b[39m \u001b[39m \u001b[39m \u001b[39m \u001b[39m \u001b[39m \u001b[39m \u001b[39m \u001b[39m \u001b[39m \u001b[39m \u001b[39m \u001b[39m \u001b[39m \u001b[39m \u001b[39m \u001b[39m \u001b[39m \u001b[39m \u001b[39m \u001b[39m \u001b[39m \u001b[39m \u001b[39m \u001b[39m \u001b[39m \u001b[39m \u001b[39m \u001b[39m \u001b[39m \u001b[39m \u001b[39m \u001b[39m \u001b[39m \u001b[39m \u001b[39m \u001b[39m \u001b[39m \u001b[39m \u001b[39m \u001b[39m \u001b[39m \n",
       "  \u001b[39m▃\u001b[39m▃\u001b[39m▃\u001b[39m▄\u001b[39m█\u001b[39m█\u001b[39m█\u001b[34m█\u001b[39m\u001b[39m▇\u001b[32m▇\u001b[39m\u001b[39m▄\u001b[39m▃\u001b[39m▄\u001b[39m▁\u001b[39m▃\u001b[39m▁\u001b[39m▃\u001b[39m▁\u001b[39m▃\u001b[39m▁\u001b[39m▁\u001b[39m▃\u001b[39m▃\u001b[39m▁\u001b[39m▁\u001b[39m▃\u001b[39m▁\u001b[39m▁\u001b[39m▁\u001b[39m▁\u001b[39m▃\u001b[39m▃\u001b[39m▁\u001b[39m▁\u001b[39m▁\u001b[39m▁\u001b[39m▁\u001b[39m▁\u001b[39m▁\u001b[39m▁\u001b[39m▁\u001b[39m▁\u001b[39m▁\u001b[39m▁\u001b[39m▁\u001b[39m▁\u001b[39m▁\u001b[39m▁\u001b[39m▁\u001b[39m▁\u001b[39m▁\u001b[39m▁\u001b[39m▁\u001b[39m▁\u001b[39m▁\u001b[39m▃\u001b[39m▁\u001b[39m▁\u001b[39m▃\u001b[39m \u001b[39m▃\n",
       "  34.4 ms\u001b[90m         Histogram: frequency by time\u001b[39m        43.7 ms \u001b[0m\u001b[1m<\u001b[22m\n",
       "\n",
       " Memory estimate\u001b[90m: \u001b[39m\u001b[33m0 bytes\u001b[39m, allocs estimate\u001b[90m: \u001b[39m\u001b[33m0\u001b[39m."
      ]
     },
     "execution_count": 122,
     "metadata": {},
     "output_type": "execute_result"
    }
   ],
   "source": [
    "j_bench_hand_simd = @benchmark mysum_simd($a)"
   ]
  },
  {
   "cell_type": "code",
   "execution_count": 123,
   "id": "c7288a53-c053-469e-8bae-766687f8afd9",
   "metadata": {},
   "outputs": [
    {
     "data": {
      "text/plain": [
       "Dict{Any, Any} with 8 entries:\n",
       "  \"Julia hand-written simd\" => 34.4475\n",
       "  \"C\"                       => 35.1897\n",
       "  \"Python numpy\"            => 34.7033\n",
       "  \"Julia hand-written\"      => 34.9459\n",
       "  \"Python hand-written\"     => 899.295\n",
       "  \"Python built-in\"         => 764.478\n",
       "  \"Julia built-in\"          => 34.5348\n",
       "  \"C -ffast-math\"           => 33.6352"
      ]
     },
     "execution_count": 123,
     "metadata": {},
     "output_type": "execute_result"
    }
   ],
   "source": [
    "d[\"Julia hand-written simd\"] = minimum(j_bench_hand_simd.times) / 1e6\n",
    "d"
   ]
  },
  {
   "cell_type": "markdown",
   "id": "7c46f02f-bc26-4790-8787-cdad076df695",
   "metadata": {},
   "source": [
    "## 性能测试小结"
   ]
  },
  {
   "cell_type": "code",
   "execution_count": 124,
   "id": "18c0ad5e-ccec-40eb-b3e7-7929eb698fbf",
   "metadata": {},
   "outputs": [
    {
     "name": "stdout",
     "output_type": "stream",
     "text": [
      "C -ffast-math..............33.6\n",
      "Julia hand-written simd....34.4\n",
      "Julia built-in.............34.5\n",
      "Python numpy...............34.7\n",
      "Julia hand-written.........34.9\n",
      "C..........................35.2\n",
      "Python built-in...........764.5\n",
      "Python hand-written.......899.3\n"
     ]
    }
   ],
   "source": [
    "for (key, value) in sort(collect(d), by=last)\n",
    "    println(rpad(key, 25, \".\"), lpad(round(value; digits=1), 6, \".\"))\n",
    "end"
   ]
  },
  {
   "cell_type": "code",
   "execution_count": null,
   "id": "35e2755e-fca0-4a8f-90b9-83ef7cf29e02",
   "metadata": {},
   "outputs": [],
   "source": []
  }
 ],
 "metadata": {
  "kernelspec": {
   "display_name": "Julia 1.6.4",
   "language": "julia",
   "name": "julia-1.6"
  },
  "language_info": {
   "file_extension": ".jl",
   "mimetype": "application/julia",
   "name": "julia",
   "version": "1.6.4"
  }
 },
 "nbformat": 4,
 "nbformat_minor": 5
}
