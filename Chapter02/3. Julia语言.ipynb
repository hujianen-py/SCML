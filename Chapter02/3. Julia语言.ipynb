{
 "cells": [
  {
   "cell_type": "markdown",
   "id": "cce79a49-8487-4f44-9397-76a9e0230eb9",
   "metadata": {},
   "source": [
    "# Julia\n",
    "---\n",
    "<img src=\"https://docs.julialang.org/en/v1/assets/logo.svg\" style=\"width: 20%;\"/>\n",
    "\n",
    "科学计算对性能一直有着最高的需求，但目前各领域的专家却大量使用较慢的动态语言来开展他们的日常工作。Julia 是一个面向科学计算和数值计算的高性能动态高级程序设计语言，性能可与传统的静态类型语言媲美。作为一门支持过程式、函数式和面向对象的多范式语言，它像 R、MATLAB 和 Python 一样简单，在高级数值计算方面有丰富的表现力，并且支持通用编程。 \n",
    "\n",
    "## 语言特点\n",
    "\n",
    "* 调用许多其它成熟的高性能基础代码，如线性代数、随机数生成、快速傅里叶变换、字符串处理。\n",
    "* 丰富的用于创建或描述对象的类型语法。\n",
    "* 高性能，接近于静态编译型语言，包括用户自定义类型等。\n",
    "* 为并行计算和分布式计算而设计。\n",
    "* 优雅的可扩展的类型转换/提升。\n",
    "* 可直接调用 C 函数（不需要包装或是借助特殊的 API）。\n",
    "* 有类似 shell 的进程管理能力。\n",
    "* 有类似 Lisp 的宏以及其它元编程工具。\n",
    "* 可与 Jupyter notebook 一起使用。\n",
    "\n",
    "## 与Python的语法区别\n",
    "\n",
    "* 对数组、字符串等索引。Julia 索引的下标是从 1 开始，而不是从 0 开始\n",
    "* 索引列表和数组的最后一个元素时，Julia 使用 end ，Python 使用 -1\n",
    "* Julia 中的 Comprehensions （还）没有条件 if 语句\n",
    "* for, if, while, 等块的结尾需要 end ；不强制要求缩进排版\n",
    "* Julia 没有代码分行的语法：如果在一行的结尾，输入已经是个完整的表达式，就直接执行；否则就继续等待输入。强迫 Julia 的表达式分行的方法是用圆括号括起来\n",
    "* Julia 总是以列为主序的（类似 Fortran ），而 numpy 数组默认是以行为主序的（类似 C ）。如果想优化遍历数组的性能，从 numpy 到 Julia 时应改变遍历的顺序。\n",
    "\n",
    "## 参考资料\n",
    "[Julia官方教程](https://docs.juliacn.com/latest/manual/getting-started) \n",
    "\n",
    "[Julia菜鸟教程](https://www.runoob.com/julia/julia-tutorial.html)"
   ]
  },
  {
   "cell_type": "code",
   "execution_count": null,
   "id": "147d06d4-29ed-49d0-bbcf-9b4299d52155",
   "metadata": {},
   "outputs": [],
   "source": []
  }
 ],
 "metadata": {
  "kernelspec": {
   "display_name": "Julia 1.6.4",
   "language": "julia",
   "name": "julia-1.6"
  },
  "language_info": {
   "file_extension": ".jl",
   "mimetype": "application/julia",
   "name": "julia",
   "version": "1.6.4"
  }
 },
 "nbformat": 4,
 "nbformat_minor": 5
}
