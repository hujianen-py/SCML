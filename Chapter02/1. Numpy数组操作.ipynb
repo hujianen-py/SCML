{
 "cells": [
  {
   "cell_type": "markdown",
   "id": "efd406a4-2e17-4d06-8ad8-00cb66a8e62d",
   "metadata": {
    "tags": []
   },
   "source": [
    "# NumPy\n",
    "---\n",
    "<img src=\"https://numpy.org/images/logo.svg\" style=\"width: 20%;\"/>\n",
    "\n",
    "NumPy库（Numerical Python）是Python科学计算环境中最常用的库。它提供了用于处理数组的高效数据结构。Numpy库的核心是使用C语言实现的。\n",
    "\n",
    "## 参考资料\n",
    "[NumPy官方网站](https://numpy.org/) \n",
    "\n",
    "[在线练习环境](https://jupyterlite.github.io/demo/repl/?toolbar=1&kernel=python&code=import%20numpy%20as%20np)\n",
    "\n",
    "[Numpy菜鸟教程](https://www.runoob.com/numpy/numpy-tutorial.html)\n",
    "\n",
    "<img src=\"Images/NumPy.png\" style=\"width: 80%;\"/>"
   ]
  },
  {
   "cell_type": "code",
   "execution_count": 2,
   "id": "21a0ef5e-8363-4da2-bdda-6332a4450535",
   "metadata": {},
   "outputs": [],
   "source": [
    "# 为了使用NumPy库，需要先导入它。按照惯例，我们以别名np导入numpy模块。\n",
    "import numpy as np"
   ]
  },
  {
   "cell_type": "markdown",
   "id": "4efe6d8e-d13d-4581-aaf9-aca319d3670d",
   "metadata": {},
   "source": [
    "Numpy库的核心是表示同质数据的多维数组。数组内所有元素的数据类型是相同的。NumPy中多维数组的主要数据结构是ndarray类（class）。除了保存数组中的数据，这种数据结构还可以包含关于数据的重要描述性的元数据（metaData）。\n"
   ]
  },
  {
   "cell_type": "code",
   "execution_count": 8,
   "id": "27fdd4cc-9dfd-40d1-8439-dc74ecaa909e",
   "metadata": {},
   "outputs": [
    {
     "data": {
      "text/plain": [
       "array([[1, 2],\n",
       "       [3, 4],\n",
       "       [5, 6]])"
      ]
     },
     "execution_count": 8,
     "metadata": {},
     "output_type": "execute_result"
    }
   ],
   "source": [
    "data = np.array(([1,2],[3,4],[5,6]))\n",
    "data"
   ]
  },
  {
   "cell_type": "code",
   "execution_count": 9,
   "id": "5410d3ca-b491-4ded-b74e-371c120afa73",
   "metadata": {},
   "outputs": [
    {
     "name": "stdout",
     "output_type": "stream",
     "text": [
      "<class 'numpy.ndarray'>\n"
     ]
    }
   ],
   "source": [
    "# 变量类型\n",
    "print(type(data))"
   ]
  },
  {
   "cell_type": "code",
   "execution_count": 3,
   "id": "0e28bd3b-cb6b-41a5-9ede-9d4de719c60e",
   "metadata": {},
   "outputs": [
    {
     "data": {
      "text/plain": [
       "2"
      ]
     },
     "execution_count": 3,
     "metadata": {},
     "output_type": "execute_result"
    }
   ],
   "source": [
    "# 数组维度\n",
    "data.ndim"
   ]
  },
  {
   "cell_type": "code",
   "execution_count": 4,
   "id": "3d436ba1-f0e2-43f9-aa0d-6cea0bb9698c",
   "metadata": {},
   "outputs": [
    {
     "data": {
      "text/plain": [
       "(3, 2)"
      ]
     },
     "execution_count": 4,
     "metadata": {},
     "output_type": "execute_result"
    }
   ],
   "source": [
    "# 数组形状\n",
    "data.shape"
   ]
  },
  {
   "cell_type": "code",
   "execution_count": 5,
   "id": "56f9cebd-274a-4aa7-adbe-875d0780adc2",
   "metadata": {},
   "outputs": [
    {
     "data": {
      "text/plain": [
       "6"
      ]
     },
     "execution_count": 5,
     "metadata": {},
     "output_type": "execute_result"
    }
   ],
   "source": [
    "# 数组元素数目\n",
    "data.size"
   ]
  },
  {
   "cell_type": "code",
   "execution_count": 6,
   "id": "a44145c0-4cfe-41e9-8104-b5303cb09bac",
   "metadata": {},
   "outputs": [
    {
     "data": {
      "text/plain": [
       "dtype('int64')"
      ]
     },
     "execution_count": 6,
     "metadata": {},
     "output_type": "execute_result"
    }
   ],
   "source": [
    "# 数组元素类型\n",
    "data.dtype"
   ]
  },
  {
   "cell_type": "markdown",
   "id": "56019098-d529-4ab8-a9d4-bc7036cd9e93",
   "metadata": {},
   "source": [
    "## 数据类型\n",
    "---\n",
    "\n",
    "| dtype | 变体 | 说明 |\n",
    "|---|---|---|\n",
    "| int | int8, int16, int32, int64 | 整数 |\n",
    "| unit | unit8, unit16, unit32, unit64 | 无符号整数 |\n",
    "| bool| bool | 布尔类型 |\n",
    "| float | float16, float32, float64, float128 | 浮点类型 |\n",
    "| complex | complex64, complex128, complex256 | 复数浮点类型 |"
   ]
  },
  {
   "cell_type": "code",
   "execution_count": 7,
   "id": "883d7117-4a69-4d86-b6b3-dc0b8323be27",
   "metadata": {},
   "outputs": [
    {
     "name": "stdout",
     "output_type": "stream",
     "text": [
      "int64\n",
      "float64\n"
     ]
    }
   ],
   "source": [
    "# 默认数据类型\n",
    "data = np.array([1,2,3])\n",
    "print(data.dtype)\n",
    "\n",
    "# 指定数据类型\n",
    "data = np.array([1,2,3], dtype=float)\n",
    "print(data.dtype)"
   ]
  },
  {
   "cell_type": "markdown",
   "id": "7b9d61c0-ec43-46f2-b515-f0fe6567f24b",
   "metadata": {},
   "source": [
    "转换数据类型"
   ]
  },
  {
   "cell_type": "code",
   "execution_count": 8,
   "id": "6ce306d4-ab95-44c5-bc9e-03f1311866b9",
   "metadata": {},
   "outputs": [
    {
     "name": "stdout",
     "output_type": "stream",
     "text": [
      "int64\n",
      "float64\n",
      "int64\n"
     ]
    }
   ],
   "source": [
    "# 使用 np.array 函数\n",
    "data = np.array([1,2,3])\n",
    "print(data.dtype)\n",
    "data = np.array(data, dtype=float)\n",
    "\n",
    "print(data.dtype)\n",
    "# 使用ndarray类内置的astype方法\n",
    "data = data.astype(np.int64)\n",
    "print(data.dtype)"
   ]
  },
  {
   "cell_type": "markdown",
   "id": "0dfe9654-b4fc-43f9-8a8d-e1b5eb02553e",
   "metadata": {},
   "source": [
    "根据应用场景，应用合理的数组数据类型。"
   ]
  },
  {
   "cell_type": "code",
   "execution_count": 4,
   "id": "e9774813-fd9a-4f83-afde-632c00a326bc",
   "metadata": {},
   "outputs": [
    {
     "name": "stderr",
     "output_type": "stream",
     "text": [
      "/tmp/ipykernel_2724611/3897526667.py:2: RuntimeWarning: invalid value encountered in sqrt\n",
      "  np.sqrt(data)\n"
     ]
    },
    {
     "data": {
      "text/plain": [
       "array([nan,  0.,  1.])"
      ]
     },
     "execution_count": 4,
     "metadata": {},
     "output_type": "execute_result"
    }
   ],
   "source": [
    "data = np.array([-1,0,1])\n",
    "np.sqrt(data)"
   ]
  },
  {
   "cell_type": "code",
   "execution_count": 10,
   "id": "e173848b-3f99-433d-b5ff-2b8117285d91",
   "metadata": {},
   "outputs": [
    {
     "data": {
      "text/plain": [
       "array([0.+1.j, 0.+0.j, 1.+0.j])"
      ]
     },
     "execution_count": 10,
     "metadata": {},
     "output_type": "execute_result"
    }
   ],
   "source": [
    "np.sqrt(data, dtype=complex)"
   ]
  },
  {
   "cell_type": "code",
   "execution_count": 11,
   "id": "2a0d500d-943e-433b-bdc0-51dbe4a54599",
   "metadata": {},
   "outputs": [
    {
     "name": "stdout",
     "output_type": "stream",
     "text": [
      "[0. 0. 1.]\n",
      "[1. 0. 0.]\n"
     ]
    }
   ],
   "source": [
    "# 复数的实部和虚部\n",
    "print(np.sqrt(data, dtype=complex).real)\n",
    "print(np.sqrt(data, dtype=complex).imag)"
   ]
  },
  {
   "cell_type": "markdown",
   "id": "8bd8b014-c436-4f9a-9f16-e5a0cff419f0",
   "metadata": {},
   "source": [
    "## 内存中数组数据的顺序\n",
    "---\n",
    "\n",
    "对于包含行列的二维数据：一种可能的方式是按顺序逐行存储数据；一种可能的方式是按列存储数据。前者为行主序（row-major），后者为列主序（column-major）。C语言使用行主序，Fortran和MATLAB使用列主序。\n",
    "NumPy数组默认使用行主序，创建数组时可以使用关键词参数`order='C'`或者`order='F'`设置。当使用借助C或者Fortran编写的接口时，需要特别注意NumPy数组的排序方式。"
   ]
  },
  {
   "cell_type": "markdown",
   "id": "9bc8a069-ffb2-4e21-a4e5-40e80f4d098d",
   "metadata": {},
   "source": [
    "## 创建数组\n",
    "---\n",
    "| 函数名 | 说明 |\n",
    "|---|---|\n",
    "| np.zeros | 指定维度和类型，以0填充 |\n",
    "| np.ones | 指定维度和类型，以1填充 |\n",
    "| np.empty | 未初始化数组 |\n",
    "| np.arange | 创建均匀间隔数组，指定开始值、结束值和增量值 |\n",
    "| np.linpace | 创建均匀间隔数组，指定开始值、结束值和元素数量 |\n",
    "| np.random.rand | 创建一个数组，元素为0-1之间均匀分布的随机数 |\n",
    "| np.zeros_like | 复制一个数组的维度和类型，以0填充 |"
   ]
  },
  {
   "cell_type": "code",
   "execution_count": 12,
   "id": "a58fe72a-1897-47de-a576-6d69f363c3b1",
   "metadata": {},
   "outputs": [
    {
     "data": {
      "text/plain": [
       "array([[0., 0., 0.],\n",
       "       [0., 0., 0.]])"
      ]
     },
     "execution_count": 12,
     "metadata": {},
     "output_type": "execute_result"
    }
   ],
   "source": [
    "np.zeros((2,3)) # 默认浮点型"
   ]
  },
  {
   "cell_type": "code",
   "execution_count": 13,
   "id": "2d9dc1e1-9217-4673-ace3-0ea82e77b3ed",
   "metadata": {},
   "outputs": [
    {
     "data": {
      "text/plain": [
       "array([[1., 1., 1.],\n",
       "       [1., 1., 1.]])"
      ]
     },
     "execution_count": 13,
     "metadata": {},
     "output_type": "execute_result"
    }
   ],
   "source": [
    "np.ones((2,3)) # 默认浮点型"
   ]
  },
  {
   "cell_type": "code",
   "execution_count": 5,
   "id": "1de926e5-384d-4a8b-a98f-ad7d00ce35d7",
   "metadata": {},
   "outputs": [
    {
     "data": {
      "text/plain": [
       "array([[4.9e-324, 9.9e-324, 1.5e-323],\n",
       "       [2.0e-323, 2.5e-323, 3.0e-323]])"
      ]
     },
     "execution_count": 5,
     "metadata": {},
     "output_type": "execute_result"
    }
   ],
   "source": [
    "np.empty((2,3)) # 未赋值使用将导致未知错误"
   ]
  },
  {
   "cell_type": "code",
   "execution_count": 15,
   "id": "df896a1f-9cba-4d4f-a186-ae41dc07fddb",
   "metadata": {},
   "outputs": [
    {
     "data": {
      "text/plain": [
       "array([0, 1, 2, 3, 4])"
      ]
     },
     "execution_count": 15,
     "metadata": {},
     "output_type": "execute_result"
    }
   ],
   "source": [
    "# np.arange 不包括结束值\n",
    "np.arange(0,5,1)"
   ]
  },
  {
   "cell_type": "code",
   "execution_count": 16,
   "id": "9894d3b8-e09c-4fdd-9fbd-bfbe9878fa3c",
   "metadata": {},
   "outputs": [
    {
     "data": {
      "text/plain": [
       "array([0.  , 1.25, 2.5 , 3.75, 5.  ])"
      ]
     },
     "execution_count": 16,
     "metadata": {},
     "output_type": "execute_result"
    }
   ],
   "source": [
    "# np.linspace 包括结束值\n",
    "np.linspace(0,5,5)"
   ]
  },
  {
   "cell_type": "markdown",
   "id": "31fdec0e-3841-4aed-83d8-9639e6c384ce",
   "metadata": {},
   "source": [
    "### Meshgrid数组\n",
    "\n",
    "可以使用函数np.meshgrid生成多维坐标网络。"
   ]
  },
  {
   "cell_type": "code",
   "execution_count": 17,
   "id": "72534c4d-c724-4bb4-a2ac-b8b9124f9f56",
   "metadata": {},
   "outputs": [],
   "source": [
    "x = np.array([-1, 0, 1])\n",
    "y = np.array([-2, 0, 2])\n",
    "X, Y = np.meshgrid(x, y)"
   ]
  },
  {
   "cell_type": "code",
   "execution_count": 18,
   "id": "2b27f455-32e4-4d0b-8a82-6cb86ec0714b",
   "metadata": {},
   "outputs": [
    {
     "data": {
      "text/plain": [
       "array([[-1,  0,  1],\n",
       "       [-1,  0,  1],\n",
       "       [-1,  0,  1]])"
      ]
     },
     "execution_count": 18,
     "metadata": {},
     "output_type": "execute_result"
    }
   ],
   "source": [
    "X"
   ]
  },
  {
   "cell_type": "code",
   "execution_count": 19,
   "id": "c847c7c3-95a1-4b7d-8382-ebf013e63aa2",
   "metadata": {},
   "outputs": [
    {
     "data": {
      "text/plain": [
       "array([[-2, -2, -2],\n",
       "       [ 0,  0,  0],\n",
       "       [ 2,  2,  2]])"
      ]
     },
     "execution_count": 19,
     "metadata": {},
     "output_type": "execute_result"
    }
   ],
   "source": [
    "Y"
   ]
  },
  {
   "cell_type": "markdown",
   "id": "32af8452-4122-4835-9bcc-1b88e2a0bd54",
   "metadata": {},
   "source": [
    "二维坐标数组的常见应用场景是计算包含两个变量x和y的函数，可以用于绘制包含这两个变量的函数图形，如等高线图。"
   ]
  },
  {
   "cell_type": "code",
   "execution_count": 20,
   "id": "12ba80f2-223d-45f4-a3e6-a766c0f7fdad",
   "metadata": {},
   "outputs": [
    {
     "name": "stdout",
     "output_type": "stream",
     "text": [
      "[[9 4 1]\n",
      " [1 0 1]\n",
      " [1 4 9]]\n"
     ]
    }
   ],
   "source": [
    "Z = (X + Y) ** 2\n",
    "print(Z)"
   ]
  },
  {
   "cell_type": "markdown",
   "id": "569b704e-bca3-4db6-b0af-99dfaae18d4c",
   "metadata": {},
   "source": [
    "### 函数式创建数组\n",
    "\n",
    "`np.fromfunction`函数读入多维坐标数组，返回运算结果。"
   ]
  },
  {
   "cell_type": "code",
   "execution_count": 21,
   "id": "52584c9a-d613-431d-a9f1-c3b4b54820cc",
   "metadata": {},
   "outputs": [
    {
     "data": {
      "text/plain": [
       "array([[ 1.,  2.,  3.,  4.,  5.,  6.,  7.,  8.,  9.],\n",
       "       [ 2.,  4.,  6.,  8., 10., 12., 14., 16., 18.],\n",
       "       [ 3.,  6.,  9., 12., 15., 18., 21., 24., 27.],\n",
       "       [ 4.,  8., 12., 16., 20., 24., 28., 32., 36.],\n",
       "       [ 5., 10., 15., 20., 25., 30., 35., 40., 45.],\n",
       "       [ 6., 12., 18., 24., 30., 36., 42., 48., 54.],\n",
       "       [ 7., 14., 21., 28., 35., 42., 49., 56., 63.],\n",
       "       [ 8., 16., 24., 32., 40., 48., 56., 64., 72.],\n",
       "       [ 9., 18., 27., 36., 45., 54., 63., 72., 81.]])"
      ]
     },
     "execution_count": 21,
     "metadata": {},
     "output_type": "execute_result"
    }
   ],
   "source": [
    "def func(i, j):\n",
    "    return (i+1)*(j+1)\n",
    "\n",
    "np.fromfunction(func, (9, 9)) # 99乘法表"
   ]
  },
  {
   "cell_type": "markdown",
   "id": "d3a0969a-af2c-48d4-8617-e7961267afa9",
   "metadata": {},
   "source": [
    "## 数组索引和切片\n",
    "---\n",
    "正整数用于从数组开头进行索引（索引开始于0），负整数用于从数组结尾进行索引（索引开始于-1）。\n",
    "\n",
    "| 函数名 | 说明 |\n",
    "|---|---|\n",
    "| a[m] | 选择索引m处的元素，m为整数（从0开始计数） |\n",
    "| a[-m] | 从数组末尾选择第m个元素，m为负整数（索引开始于-1） |\n",
    "| a[m:n] | 选择索引为m到n-1的元素 |\n",
    "| a[:] | 指定维的所有元素，等价为a[0:-1] |\n",
    "| a[m:n:p] | 选择索引为m到n（不含）的间隔为p的元素 |\n",
    "| a[::-1] | 逆序选择所有元素 |"
   ]
  },
  {
   "cell_type": "code",
   "execution_count": 13,
   "id": "ee71ffa6-6bd7-4a65-b202-82a02960fe60",
   "metadata": {},
   "outputs": [
    {
     "name": "stdout",
     "output_type": "stream",
     "text": [
      "[ 0  1  2  3  4  5  6  7  8  9 10]\n",
      "[ 5  6  7  8  9 10]\n",
      "[10  8  6  4  2  0]\n"
     ]
    }
   ],
   "source": [
    "a = np.arange(0, 11)\n",
    "print(a)\n",
    "print(a[5:])\n",
    "print(a[::-2])"
   ]
  },
  {
   "cell_type": "markdown",
   "id": "bf6d3b34-36fd-4f75-9b61-a1af97a9d1da",
   "metadata": {},
   "source": [
    "### 多维数组"
   ]
  },
  {
   "cell_type": "code",
   "execution_count": 14,
   "id": "4e0c4e7f-1e92-4ab0-ad3b-cb7bcfcf0d3f",
   "metadata": {},
   "outputs": [
    {
     "name": "stdout",
     "output_type": "stream",
     "text": [
      "[[ 0.  1.  2.  3.  4.]\n",
      " [ 5.  6.  7.  8.  9.]\n",
      " [10. 11. 12. 13. 14.]\n",
      " [15. 16. 17. 18. 19.]\n",
      " [20. 21. 22. 23. 24.]]\n",
      "6.0\n"
     ]
    }
   ],
   "source": [
    "f = lambda m, n: n + 5 * m\n",
    "a = np.fromfunction(f, (5,5))\n",
    "print(a)\n",
    "print(a[1, 1])"
   ]
  },
  {
   "cell_type": "code",
   "execution_count": 24,
   "id": "3601c041-f2e9-4792-9241-f7227378c364",
   "metadata": {},
   "outputs": [
    {
     "name": "stdout",
     "output_type": "stream",
     "text": [
      "[5. 6. 7. 8. 9.]\n",
      "[ 1.  6. 11. 16. 21.]\n"
     ]
    }
   ],
   "source": [
    "print(a[1, :]) # 第二行\n",
    "print(a[:, 1]) # 第二列"
   ]
  },
  {
   "cell_type": "markdown",
   "id": "1da2b6bf-6850-47bf-9464-f1279847d11c",
   "metadata": {},
   "source": [
    "### 数组视图\n",
    "为了提高性能，使用切片操作提取的子数组是内存中同一组数据的不同视图。如果更改视图中的数据，原始数组中的数据也会被修改。如果需要数据的副本，可以使用`np.copy()`函数。"
   ]
  },
  {
   "cell_type": "code",
   "execution_count": 25,
   "id": "cfc1ecb7-a35f-4d79-803a-7ec3faff576c",
   "metadata": {},
   "outputs": [
    {
     "name": "stdout",
     "output_type": "stream",
     "text": [
      "[[ 0.  2.  4.]\n",
      " [10. 12. 14.]\n",
      " [20. 22. 24.]]\n",
      "[[ 0.  1.  0.  3.  0.]\n",
      " [ 5.  6.  7.  8.  9.]\n",
      " [ 0. 11.  0. 13.  0.]\n",
      " [15. 16. 17. 18. 19.]\n",
      " [ 0. 21.  0. 23.  0.]]\n"
     ]
    }
   ],
   "source": [
    "b = a[::2, ::2]\n",
    "print(b)\n",
    "b[:, :] = 0\n",
    "print(a)"
   ]
  },
  {
   "cell_type": "markdown",
   "id": "9dc3b84c-559d-4a95-910d-e3ebf219a2ce",
   "metadata": {},
   "source": [
    "### 布尔索引\n"
   ]
  },
  {
   "cell_type": "code",
   "execution_count": 26,
   "id": "36bd459a-7eb3-4617-8c54-7aa4538fb636",
   "metadata": {},
   "outputs": [
    {
     "name": "stdout",
     "output_type": "stream",
     "text": [
      "[False False False False False False  True  True  True  True]\n",
      "[ 0  1  2  3  4  5 -1 -1 -1 -1]\n"
     ]
    }
   ],
   "source": [
    "A = np.arange(10)\n",
    "B = A > 5\n",
    "print(B)\n",
    "\n",
    "A[B]= -1\n",
    "print(A)"
   ]
  },
  {
   "cell_type": "markdown",
   "id": "a4aadcbf-0150-44c7-b922-ef3b07edcf1d",
   "metadata": {},
   "source": [
    "## 调整形状和大小\n",
    "---\n",
    "\n",
    "| 函数名 | 说明 |\n",
    "|---|---|\n",
    "| np.reshape 和 np.ndarray.reshape | 调整N维数组的维度。元素的总数保持不变。 |\n",
    "| np.resize 和 np.ndarray.resize | 调整N维数组的大小，创建新副本。元素增加则使用原数据填充。 |\n",
    "| np.ndarray.flatten | 创建N维数组的副本，并折叠成一维数组 |\n",
    "| np.ndarray.ravel | 创建N维数组的视图，并折叠成一维数组 |\n",
    "| np.squeeze | 删除长度为1的维度 |\n",
    "| np.expand_dims 和 np.newaxis | 在数组中增加长度为1的新维度 |\n",
    "| np.transpose 和 np.ndarray.transpose | 对数组进行转置 |\n",
    "| np.hstack 和 np.hstack | 对数组进行转水平叠加（沿着轴1）和垂直叠加（沿着轴0） |\n",
    "| np.append | 在数组中添加元素。该操作会创建一个副本 |\n",
    "| np.insert 和 np.delete | 在数组中插入和删除元素。该操作会创建一个副本 |"
   ]
  },
  {
   "cell_type": "code",
   "execution_count": 27,
   "id": "0dd9c08d-1e1e-4f97-8656-35742691187c",
   "metadata": {},
   "outputs": [
    {
     "name": "stdout",
     "output_type": "stream",
     "text": [
      "[[0 1]\n",
      " [2 3]\n",
      " [4 5]]\n"
     ]
    }
   ],
   "source": [
    "A = np.arange(6)\n",
    "B = A.reshape(3,2)\n",
    "print(B)"
   ]
  },
  {
   "cell_type": "code",
   "execution_count": 28,
   "id": "ba999b38-844b-4125-aa4c-a6ba887fd654",
   "metadata": {},
   "outputs": [
    {
     "data": {
      "text/plain": [
       "array([0, 1, 2, 3, 4, 5])"
      ]
     },
     "execution_count": 28,
     "metadata": {},
     "output_type": "execute_result"
    }
   ],
   "source": [
    "B.flatten()"
   ]
  },
  {
   "cell_type": "code",
   "execution_count": 29,
   "id": "83182485-bea5-41a3-a168-4944b2c52688",
   "metadata": {},
   "outputs": [
    {
     "data": {
      "text/plain": [
       "array([[0, 1, 2, 3, 4, 5]])"
      ]
     },
     "execution_count": 29,
     "metadata": {},
     "output_type": "execute_result"
    }
   ],
   "source": [
    "A[np.newaxis,:]  # 等价于 np.expand_dims(A, axis=0)"
   ]
  },
  {
   "cell_type": "code",
   "execution_count": 30,
   "id": "a679f810-33f3-407a-a054-2bc0128df04e",
   "metadata": {},
   "outputs": [
    {
     "data": {
      "text/plain": [
       "array([[0, 1],\n",
       "       [2, 3]])"
      ]
     },
     "execution_count": 30,
     "metadata": {},
     "output_type": "execute_result"
    }
   ],
   "source": [
    "np.resize(A,(2,2))"
   ]
  },
  {
   "cell_type": "markdown",
   "id": "99677103-5a69-402e-ab05-326ceaf8f73b",
   "metadata": {},
   "source": [
    "## 向量化表达式\n",
    "---\n",
    "\n",
    "对标量和数组进行操作，广播会对标量与数组中的每个元素分别进行运算。当两个数组大小不同时，较小的数组通过广播匹配较大的数组。"
   ]
  },
  {
   "cell_type": "code",
   "execution_count": 31,
   "id": "ff598c25-9133-49ae-854b-63a948e350b5",
   "metadata": {},
   "outputs": [
    {
     "data": {
      "text/plain": [
       "array([[0, 1, 2],\n",
       "       [3, 4, 5],\n",
       "       [6, 7, 8]])"
      ]
     },
     "execution_count": 31,
     "metadata": {},
     "output_type": "execute_result"
    }
   ],
   "source": [
    "x = np.arange(9).reshape(3,3)\n",
    "x"
   ]
  },
  {
   "cell_type": "code",
   "execution_count": 32,
   "id": "3c3651cb-8892-4d5c-a484-fb4fa3cbfdfb",
   "metadata": {},
   "outputs": [
    {
     "data": {
      "text/plain": [
       "array([[ 0,  2,  4],\n",
       "       [ 3,  5,  7],\n",
       "       [ 6,  8, 10]])"
      ]
     },
     "execution_count": 32,
     "metadata": {},
     "output_type": "execute_result"
    }
   ],
   "source": [
    "y = np.arange(3)\n",
    "x + y"
   ]
  },
  {
   "cell_type": "code",
   "execution_count": 33,
   "id": "78666355-6eca-4b4e-a045-21f4441b8b5e",
   "metadata": {},
   "outputs": [
    {
     "data": {
      "text/plain": [
       "array([[ 0,  1,  2],\n",
       "       [ 4,  5,  6],\n",
       "       [ 8,  9, 10]])"
      ]
     },
     "execution_count": 33,
     "metadata": {},
     "output_type": "execute_result"
    }
   ],
   "source": [
    "x + y.reshape(3,1)"
   ]
  },
  {
   "cell_type": "markdown",
   "id": "99cdd596-c994-49fa-a1eb-e4265693f25c",
   "metadata": {},
   "source": [
    "对不兼容大小或形状的数组进行算数运算，则会引发ValueError错误。"
   ]
  },
  {
   "cell_type": "code",
   "execution_count": 18,
   "id": "f0fabe59-eb7a-43ac-a7d9-2e509cd31090",
   "metadata": {},
   "outputs": [
    {
     "name": "stdout",
     "output_type": "stream",
     "text": [
      "[[0 1]\n",
      " [2 3]]\n",
      "[1 2 3]\n",
      "非法输入\n"
     ]
    }
   ],
   "source": [
    "x = np.arange(4).reshape(2,2)\n",
    "y = np.array([1,2,3])\n",
    "print(x)\n",
    "print(y)\n",
    "try:\n",
    "    print(x / y)\n",
    "except ValueError:\n",
    "    print(\"非法输入\")"
   ]
  },
  {
   "cell_type": "markdown",
   "id": "9e483218-25b2-4d2c-9253-f273b166c53b",
   "metadata": {},
   "source": [
    "### 聚合函数\n",
    "\n",
    "对数组进行聚合计算，返回一个标量。\n",
    "\n",
    "| 函数名 | 说明 |\n",
    "|---|---|\n",
    "| np.where  | 计算数组中所有元素均值 |\n",
    "| np.choose| 计算标准差 |\n",
    "| np.select | 计算方差 |\n",
    "| np.nonzero | 计算所有元素和 |"
   ]
  },
  {
   "cell_type": "markdown",
   "id": "11e11f70-f16f-4cfb-92dc-7780aeaeb846",
   "metadata": {},
   "source": [
    "### 布尔数组和条件表达式\n",
    "\n",
    "布尔数组和数值数组一起出现时，布尔数组会被转换为数值数组,False和True分别被转换为0和1。"
   ]
  },
  {
   "cell_type": "code",
   "execution_count": 35,
   "id": "897a6b21-7eb5-4cfb-b614-c53636e59b1e",
   "metadata": {},
   "outputs": [
    {
     "data": {
      "text/plain": [
       "array([-0., -0., -0.,  0.,  1.,  2.,  3.])"
      ]
     },
     "execution_count": 35,
     "metadata": {},
     "output_type": "execute_result"
    }
   ],
   "source": [
    "x = np.linspace(-3,3,7)\n",
    "x * (x > 0)"
   ]
  },
  {
   "cell_type": "markdown",
   "id": "e56c1b86-b58c-470c-bcc9-9033c9470cff",
   "metadata": {},
   "source": [
    "| 函数名 | 说明 |\n",
    "|---|---|\n",
    "| np.where  | 根据条件数组的值从连个数组中选择值 |\n",
    "| np.choose | 根据给定的索引数组选择 |\n",
    "| np.select | 根据条件列表从数组中选择   |\n",
    "| np.nonzero | 返回非0值的索引 |"
   ]
  },
  {
   "cell_type": "code",
   "execution_count": 36,
   "id": "bfd3c0e8-f2aa-4323-b6e9-61457da7d2c1",
   "metadata": {},
   "outputs": [
    {
     "data": {
      "text/plain": [
       "(array([0, 1, 2]),)"
      ]
     },
     "execution_count": 36,
     "metadata": {},
     "output_type": "execute_result"
    }
   ],
   "source": [
    "np.where(x < 0)  # 当where内只有一个参数时，返回一个元组"
   ]
  },
  {
   "cell_type": "code",
   "execution_count": 37,
   "id": "8820e3e1-e9b2-4263-90d7-e8ee0a8150d1",
   "metadata": {},
   "outputs": [
    {
     "data": {
      "text/plain": [
       "array([ 9.,  4.,  1.,  0.,  1.,  8., 27.])"
      ]
     },
     "execution_count": 37,
     "metadata": {},
     "output_type": "execute_result"
    }
   ],
   "source": [
    "np.where(x < 0, x**2, x**3)  # 当where内有三个参数时，第一个参数表示条件，选择性返回后两个数组"
   ]
  },
  {
   "cell_type": "code",
   "execution_count": 38,
   "id": "4cf77109-b2bb-414b-afcd-da9d249c9fff",
   "metadata": {},
   "outputs": [
    {
     "data": {
      "text/plain": [
       "array([ 9.,  4.,  0.,  0.,  0.,  8., 27.])"
      ]
     },
     "execution_count": 38,
     "metadata": {},
     "output_type": "execute_result"
    }
   ],
   "source": [
    "np.select([x < -1, x > 1], [x**2, x**3])  # 根据条件列表从数组列表中选择值"
   ]
  },
  {
   "cell_type": "code",
   "execution_count": 39,
   "id": "8404b197-dd52-44df-9412-72fba7f030a4",
   "metadata": {},
   "outputs": [
    {
     "data": {
      "text/plain": [
       "array([ 9.,  4., -1.,  0.,  1.,  4., 27.])"
      ]
     },
     "execution_count": 39,
     "metadata": {},
     "output_type": "execute_result"
    }
   ],
   "source": [
    "np.choose([0, 0, 1, 1, 0, 0, 1], [x**2, x**3]) # choose 第一个参数中的索引决定了从数组列表中哪一个选择值"
   ]
  },
  {
   "cell_type": "code",
   "execution_count": 40,
   "id": "d15ad3f1-805a-4aa2-af89-eb5614bf49e8",
   "metadata": {},
   "outputs": [
    {
     "data": {
      "text/plain": [
       "array([-3., -2., -1.,  1.,  2.,  3.])"
      ]
     },
     "execution_count": 40,
     "metadata": {},
     "output_type": "execute_result"
    }
   ],
   "source": [
    "x[np.nonzero(x)]  # x[x != 0] "
   ]
  },
  {
   "cell_type": "markdown",
   "id": "9d92d5e4-c5ec-4409-b8ec-23f7c7c1381d",
   "metadata": {},
   "source": [
    "### 数组操作\n",
    "\n",
    "| 函数名 | 说明 |\n",
    "|---|---|\n",
    "| np.transpose 和 dp.ndarray.T  | 转置 |\n",
    "| np.fliplr 和 npflipud | 反转每行和每列的元素 |\n",
    "| np.rot90 | 沿着前两个轴把元素旋转90度  |\n",
    "| np.sort 和 np.ndarray.sort | 沿着指定轴对元素进行排序 |"
   ]
  },
  {
   "cell_type": "code",
   "execution_count": 41,
   "id": "e32f0dee-be29-4a14-8ed9-905056ae7fe4",
   "metadata": {},
   "outputs": [
    {
     "name": "stdout",
     "output_type": "stream",
     "text": [
      "[[0.63960843 0.01253835 0.70611023]\n",
      " [0.45748739 0.14150506 0.3563332 ]\n",
      " [0.74804788 0.59385922 0.43917196]]\n"
     ]
    }
   ],
   "source": [
    "x = np.random.random((3,3))\n",
    "print(x)"
   ]
  },
  {
   "cell_type": "code",
   "execution_count": 42,
   "id": "6c2e5c24-85d0-4f29-934e-ffd189d5d9c1",
   "metadata": {},
   "outputs": [
    {
     "data": {
      "text/plain": [
       "array([[0.01253835, 0.63960843, 0.70611023],\n",
       "       [0.14150506, 0.3563332 , 0.45748739],\n",
       "       [0.43917196, 0.59385922, 0.74804788]])"
      ]
     },
     "execution_count": 42,
     "metadata": {},
     "output_type": "execute_result"
    }
   ],
   "source": [
    "np.sort(x)"
   ]
  },
  {
   "cell_type": "code",
   "execution_count": 43,
   "id": "59ba3842-81e0-457f-804a-eece992c9d74",
   "metadata": {},
   "outputs": [
    {
     "name": "stdout",
     "output_type": "stream",
     "text": [
      "[[0.01253835 0.63960843 0.70611023]\n",
      " [0.14150506 0.3563332  0.45748739]\n",
      " [0.43917196 0.59385922 0.74804788]]\n"
     ]
    }
   ],
   "source": [
    "x.sort()  # np.ndarray.sort 可以原位（in plance）对输入数组进行修改\n",
    "print(x)"
   ]
  },
  {
   "cell_type": "markdown",
   "id": "e3c20c03-7bf9-48fd-bdb9-36125a6e2bdd",
   "metadata": {},
   "source": [
    "## 矩阵和向量运算\n",
    "---\n",
    "\n",
    "| 函数名 | 说明 |\n",
    "|---|---|\n",
    "| np.dot  | 点积 |\n",
    "| np.inner | 内积 |\n",
    "| np.cross | 叉积 |\n",
    "| np.tensordot | 沿着多维数组指定轴进行点积 |\n",
    "| np.outer | 外积（向量张量积） |\n",
    "| np.kron | 两个高维数组进行Kronecker积（矩阵张量积） |\n",
    "| np.einsum | 对多维数组执行爱因斯坦求和约定操作 |"
   ]
  },
  {
   "cell_type": "code",
   "execution_count": 21,
   "id": "8da591fe-3d01-49ab-a566-52093a6fa5c8",
   "metadata": {},
   "outputs": [
    {
     "name": "stdout",
     "output_type": "stream",
     "text": [
      "[[1 2 3]\n",
      " [4 5 6]]\n",
      "[[1 2]\n",
      " [3 4]\n",
      " [5 6]]\n"
     ]
    },
    {
     "data": {
      "text/plain": [
       "array([[22, 28],\n",
       "       [49, 64]])"
      ]
     },
     "execution_count": 21,
     "metadata": {},
     "output_type": "execute_result"
    }
   ],
   "source": [
    "A = np.arange(1, 7).reshape(2, 3)\n",
    "B = np.arange(1, 7).reshape(3, 2)\n",
    "print(A)\n",
    "print(B)\n",
    "\n",
    "np.dot(A, B) # @符号也可以用来表示矩阵乘法，A@B"
   ]
  },
  {
   "cell_type": "markdown",
   "id": "b0a22d64-8d57-4a04-b377-8c583fa68594",
   "metadata": {},
   "source": [
    "NumPy为ndarray提供另一种数据结构matrix，诸如`A * B`之类的表达式可以使用matrix乘法表示。逆矩阵表示为 matrix.I，复共轭转置表示为 matrix.H。与np.matrix创建数据副本不同，np.asmatrix函数以np.matrix实例的形式创建原始数组的视图，不增加计算成本。"
   ]
  },
  {
   "cell_type": "code",
   "execution_count": 45,
   "id": "e408ef62-0608-46fe-814d-e6ffcae1c5fd",
   "metadata": {},
   "outputs": [
    {
     "data": {
      "text/plain": [
       "matrix([[22, 28],\n",
       "        [49, 64]])"
      ]
     },
     "execution_count": 45,
     "metadata": {},
     "output_type": "execute_result"
    }
   ],
   "source": [
    "A = np.matrix(A)\n",
    "B = np.matrix(B)\n",
    "A * B"
   ]
  },
  {
   "cell_type": "code",
   "execution_count": 46,
   "id": "adb0e47f-be7b-46c1-8f71-857be1dae749",
   "metadata": {},
   "outputs": [
    {
     "data": {
      "text/plain": [
       "array([[22, 28],\n",
       "       [49, 64]])"
      ]
     },
     "execution_count": 46,
     "metadata": {},
     "output_type": "execute_result"
    }
   ],
   "source": [
    "np.array(A * B)  # 类似的，np.array将创建数据副本，np.asarray将创建数据视图"
   ]
  },
  {
   "cell_type": "code",
   "execution_count": null,
   "id": "40ffaaa3-800d-4f26-8e09-da30c098d0e4",
   "metadata": {},
   "outputs": [],
   "source": []
  }
 ],
 "metadata": {
  "kernelspec": {
   "display_name": "Python 3 (ipykernel)",
   "language": "python",
   "name": "python3"
  },
  "language_info": {
   "codemirror_mode": {
    "name": "ipython",
    "version": 3
   },
   "file_extension": ".py",
   "mimetype": "text/x-python",
   "name": "python",
   "nbconvert_exporter": "python",
   "pygments_lexer": "ipython3",
   "version": "3.9.7"
  }
 },
 "nbformat": 4,
 "nbformat_minor": 5
}
