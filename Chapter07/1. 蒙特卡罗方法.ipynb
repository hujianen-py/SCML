{
 "cells": [
  {
   "cell_type": "markdown",
   "id": "a9433f3a-4d28-4d43-b5d1-82cd59877e9d",
   "metadata": {},
   "source": [
    "https://people.duke.edu/~ccc14/sta-663/MonteCarlo.html\n",
    "\n",
    "https://towardsdatascience.com/monte-carlo-integration-in-python-over-univariate-and-multivariate-functions-12615dd252fa"
   ]
  },
  {
   "cell_type": "markdown",
   "id": "9a26ea08-af13-4c78-994f-ab2c68aa9371",
   "metadata": {},
   "source": [
    "1. 积分\n",
    "2. 模拟退火 函数优化"
   ]
  },
  {
   "cell_type": "markdown",
   "id": "9fcd1508-6d24-4e35-b0b4-11114ee5d5a5",
   "metadata": {},
   "source": [
    "# 蒙特卡罗算法\n",
    "---\n",
    "\n",
    "[蒙特卡罗方法](https://zh.wikipedia.org/wiki/蒙地卡羅方法)（Monte Carlo method），也称统计模拟方法，是一种以概率统计理论为指导的数值计算方法。它使用随机数（或更常见的伪随机数）来解决科学和工程中的很多计算问题。 \n",
    "\n",
    "通常蒙特卡罗方法可以粗略地分成两类：\n",
    "\n",
    "1. 一类是所求解的问题本身具有内在的随机性，借助计算机的运算能力可以直接模拟这种随机的过程。例如模拟核裂变过程。\n",
    "2. 另一种类型是所求解问题可以转化为某种随机分布的特征数，比如随机事件出现的概率，或者随机变量的期望值。通过随机抽样的方法，以随机事件出现的频率估计其概率，或者以抽样的数字特征估算随机变量的数字特征，并将其作为问题的解。例如求解复杂的多维积分问题。"
   ]
  },
  {
   "cell_type": "markdown",
   "id": "4aacae6e-fca9-4eb7-8c6e-07a8674beba7",
   "metadata": {},
   "source": [
    "**示例** 使用蒙特卡罗方法估算$\\pi$值"
   ]
  },
  {
   "cell_type": "code",
   "execution_count": 1,
   "id": "1d6ac14c-520b-4867-875d-b088a47d7e11",
   "metadata": {},
   "outputs": [
    {
     "data": {
      "text/plain": [
       "<matplotlib.collections.PolyCollection at 0x7f3f30445b50>"
      ]
     },
     "execution_count": 1,
     "metadata": {},
     "output_type": "execute_result"
    },
    {
     "data": {
      "image/png": "[encoded data removed]",
      "text/plain": [
       "<Figure size 288x288 with 1 Axes>"
      ]
     },
     "metadata": {
      "needs_background": "light"
     },
     "output_type": "display_data"
    }
   ],
   "source": [
    "import numpy as np\n",
    "import matplotlib.pyplot as plt\n",
    "\n",
    "fig, ax = plt.subplots(figsize=(4, 4))\n",
    "x = np.linspace(0,1,100)\n",
    "y = np.sqrt(1 - x**2)\n",
    "ax.plot(x, y, c='b')\n",
    "ax.fill_between(x, 0, y, alpha=0.5)\n",
    "ax.fill_between(x, y, 1, alpha=0.5)"
   ]
  },
  {
   "cell_type": "code",
   "execution_count": 8,
   "id": "8dc86765-f621-420a-b42f-8d04c87e6af7",
   "metadata": {},
   "outputs": [
    {
     "data": {
      "application/vnd.jupyter.widget-view+json": {
       "model_id": "6dfd39418952423a9de59db9c542180b",
       "version_major": 2,
       "version_minor": 0
      },
      "text/plain": [
       "interactive(children=(IntSlider(value=4, description='n', max=7, min=1), Output()), _dom_classes=('widget-inte…"
      ]
     },
     "metadata": {},
     "output_type": "display_data"
    }
   ],
   "source": [
    "from ipywidgets import interactive\n",
    "\n",
    "np.random.seed(0)\n",
    "\n",
    "def pi(n):\n",
    "    N = 10**n\n",
    "    x = np.random.random(N)\n",
    "    y = np.random.random(N)\n",
    "    dist = x**2 + y**2\n",
    "    pi = np.sum(dist < 1) / N * 4\n",
    "    X = np.linspace(0,1,100)\n",
    "    Y = np.sqrt(1 - X**2)\n",
    "    fig, ax = plt.subplots(figsize=(4, 4))\n",
    "    ax.plot(X, Y, c='b')\n",
    "    ax.scatter(x, y, s=1, alpha=0.5)\n",
    "    plt.show()\n",
    "    print('Number of Data Point  %d' %(N))\n",
    "    print('Estimate Value of Pi  %f' %(pi))\n",
    "\n",
    "interact_plot = interactive(pi, n=(1, 7))\n",
    "interact_plot"
   ]
  },
  {
   "cell_type": "markdown",
   "id": "433a852c-7089-438c-ba4b-7956d5b573e6",
   "metadata": {},
   "source": [
    "## 伪随机数生成器（PRNG）\n",
    "---\n",
    "\n",
    "经典计算机的数据都是由确定性算法生成的，因此随机数生成算法只能得到伪随机数序列。虽然伪随机数并不真正的随机，但具有类似于随机数的统计特征，如均匀性、独立性等。真正的随机数必须使用专门的设备，比如热噪信号、用户按键盘的位置与速度、移动设备加速度传感器等，或者使用量子计算机。\n",
    "\n",
    "密码学中使用伪随机数要小心，其可计算性是一个可以攻击的地方。统计学、蒙特卡罗方法上使用的伪随机数也必须挑选周期极长、随机性够高的随机函数，以确保计算结果有足够的随机性。 "
   ]
  },
  {
   "cell_type": "markdown",
   "id": "1c8cab1e-cae6-427e-ae84-1a745479db2b",
   "metadata": {},
   "source": [
    "### 线性同余发生器（LCG）\n",
    "\n",
    "[线性同余发生器](https://zh.wikipedia.org/wiki/線性同餘方法)是一种能产生具有不连续计算的**均匀分布**伪随机序列的分段线性方程的算法。它的递推公式是：\n",
    "$$N_{{j+1}}\\equiv (A\\times N_{j}+B){\\pmod  {M}}$$\n",
    "其中参数为乘数$A$、增量$B$和模数$M$。\n",
    "\n",
    "Hull-Dobell定理：当且仅当满足以下条件时，LCG序列的周期最大（最大周期为M）：\n",
    "\n",
    "1. $B$和$M$互质\n",
    "2. $A-1$可以被$M$的所有质因数整除\n",
    "3. 如果$M$是4的倍数，则$A-1$也需要是4的倍数\n",
    "\n",
    "序列的初始值$N_0$被称为*种子*。LCG算法通常被设计为返回$z/m$，即[0, 1]区间的浮点数。"
   ]
  },
  {
   "cell_type": "code",
   "execution_count": 3,
   "id": "612f9094-5200-4f96-99c0-e5915869be4b",
   "metadata": {},
   "outputs": [
    {
     "data": {
      "text/plain": [
       "[0.25693503906950355,\n",
       " 0.5878706516232342,\n",
       " 0.15432575810700655,\n",
       " 0.767266943352297,\n",
       " 0.9738139626570046,\n",
       " 0.5858681506942958,\n",
       " 0.8511155843734741,\n",
       " 0.6132153405342251,\n",
       " 0.7473867232911289,\n",
       " 0.06236015981994569]"
      ]
     },
     "execution_count": 3,
     "metadata": {},
     "output_type": "execute_result"
    }
   ],
   "source": [
    "def lcg(m=2**32, a=1103515245, c=12345):\n",
    "    lcg.current = (a*lcg.current + c) % m\n",
    "    return lcg.current/m\n",
    "\n",
    "# setting the seed\n",
    "lcg.current = 1\n",
    "\n",
    "[lcg() for i in range(10)]"
   ]
  },
  {
   "cell_type": "markdown",
   "id": "e8241974-61ef-400e-af32-d31cc8492862",
   "metadata": {},
   "source": [
    "### 逆变换采样\n",
    "\n",
    "[逆变换采样](https://zh.m.wikipedia.org/zh-hans/逆变换采样)是伪随机数采样的一种基本方法。在已知**任意概率分布**的累积分布函数时，可用于从该分布中生成随机样本。 "
   ]
  },
  {
   "cell_type": "code",
   "execution_count": 4,
   "id": "64693885-ba38-4a14-9edb-bdc7e911d881",
   "metadata": {},
   "outputs": [],
   "source": [
    "def expon_pdf(x, lmabd=1):\n",
    "    \"\"\"指数分布的概率密度函数\"\"\"\n",
    "    return lmabd*np.exp(-lmabd*x)"
   ]
  },
  {
   "cell_type": "code",
   "execution_count": 5,
   "id": "60aa1c4a-1539-48c6-b1a1-a60017a18ad4",
   "metadata": {},
   "outputs": [],
   "source": [
    "def expon_cdf(x, lambd=1):\n",
    "    \"\"\"指数分布的累积分布函数\"\"\"\n",
    "    return 1 - np.exp(-lambd*x)"
   ]
  },
  {
   "cell_type": "code",
   "execution_count": 6,
   "id": "0c1635af-ac6b-422f-919f-2c7f1f5cd0ad",
   "metadata": {},
   "outputs": [],
   "source": [
    "def expon_icdf(p, lambd=1):\n",
    "    \"\"\"指数分布的累积分布函数逆函数，即分位函数\"\"\"\n",
    "    return -np.log(1-p)/lambd"
   ]
  },
  {
   "cell_type": "code",
   "execution_count": 7,
   "id": "de0ac87a-c0f0-475d-a75e-4851bf487385",
   "metadata": {},
   "outputs": [
    {
     "data": {
      "image/png": "[encoded data removed]",
      "text/plain": [
       "<Figure size 864x288 with 2 Axes>"
      ]
     },
     "metadata": {
      "needs_background": "light"
     },
     "output_type": "display_data"
    }
   ],
   "source": [
    "import scipy.stats as stats\n",
    "\n",
    "dist = stats.expon()\n",
    "x = np.linspace(0,4,100)\n",
    "y = np.linspace(0,1,100)\n",
    "\n",
    "plt.figure(figsize=(12,4))\n",
    "plt.subplot(121)\n",
    "plt.plot(x, expon_cdf(x))\n",
    "plt.axis([0, 4, 0, 1])\n",
    "for q in [0.5, 0.8]:\n",
    "    plt.arrow(0, q, expon_icdf(q)-0.1, 0, head_width=0.05, head_length=0.1, fc='b', ec='b')\n",
    "    plt.arrow(expon_icdf(q), q, 0, -q+0.1, head_width=0.1, head_length=0.05, fc='b', ec='b')\n",
    "plt.ylabel('1: Generate a (0,1) uniform PRNG')\n",
    "plt.xlabel('2: Find the inverse CDF')\n",
    "plt.title('Inverse transform method');\n",
    "\n",
    "plt.subplot(122)\n",
    "u = np.random.random(10000)\n",
    "v = expon_icdf(u)\n",
    "plt.hist(v, histtype='step', bins=100, density=True, linewidth=2)\n",
    "plt.plot(x, expon_pdf(x), linewidth=2)\n",
    "plt.axis([0,4,0,1])\n",
    "plt.title('Histogram of exponential PRNGs');"
   ]
  },
  {
   "cell_type": "markdown",
   "id": "93bdf381-f026-45aa-9278-c18a9244401a",
   "metadata": {},
   "source": [
    "## 蒙特卡罗积分\n",
    "---\n",
    "\n"
   ]
  },
  {
   "cell_type": "code",
   "execution_count": null,
   "id": "6eb190c9-9664-4413-82d0-5a876ca62d6a",
   "metadata": {},
   "outputs": [],
   "source": []
  }
 ],
 "metadata": {
  "kernelspec": {
   "display_name": "Python 3 (ipykernel)",
   "language": "python",
   "name": "python3"
  },
  "language_info": {
   "codemirror_mode": {
    "name": "ipython",
    "version": 3
   },
   "file_extension": ".py",
   "mimetype": "text/x-python",
   "name": "python",
   "nbconvert_exporter": "python",
   "pygments_lexer": "ipython3",
   "version": "3.9.7"
  }
 },
 "nbformat": 4,
 "nbformat_minor": 5
}
