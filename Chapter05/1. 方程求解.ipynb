{
 "cells": [
  {
   "cell_type": "markdown",
   "id": "1b1fac23-0a7a-4022-9feb-045b87300ae8",
   "metadata": {},
   "source": [
    "# 方程求解\n",
    "---\n",
    "\n",
    "求解代数方程组是科学和技术领域中的常见问题。相对于线性方程组，非线性方程组通常较难求解。线性方程是求解非线性问题局部近似解的重要工具。例如，考虑某个展开点附近非常小的变动，非线性系统通常可以使用展开点附近的线性西戎来近似。对于非线性问题的全局分析，一般需要采用迭代方式来逐步构建对解越来越精确的估计\n",
    "\n",
    "本部分我们将使用SymPy对方程进行符号化求解，使用SciPy的线性代数模块来对方程组进行数值求解。为了解决非线性问题，我们将使用SciPy的optimize模块的root-finding函数。"
   ]
  },
  {
   "cell_type": "markdown",
   "id": "1464512e-26c5-4b02-8c8a-13f19ea015fd",
   "metadata": {},
   "source": [
    "## 导入模块\n",
    "---\n"
   ]
  },
  {
   "cell_type": "code",
   "execution_count": 1,
   "id": "da12696f-e972-445e-a3b0-44cce4a0748f",
   "metadata": {},
   "outputs": [],
   "source": [
    "import numpy as np\n",
    "import matplotlib.pyplot as plt\n",
    "\n",
    "from scipy import linalg as la\n",
    "from scipy import optimize\n",
    "\n",
    "import sympy\n",
    "sympy.init_printing()"
   ]
  },
  {
   "cell_type": "markdown",
   "id": "9253b027-5410-41d0-80d6-41ef55ef933e",
   "metadata": {},
   "source": [
    "## 线性方程\n",
    "---\n"
   ]
  },
  {
   "cell_type": "code",
   "execution_count": null,
   "id": "c6e859b0-dc48-461e-8183-2d67b656453e",
   "metadata": {},
   "outputs": [],
   "source": []
  }
 ],
 "metadata": {
  "kernelspec": {
   "display_name": "Python 3 (ipykernel)",
   "language": "python",
   "name": "python3"
  },
  "language_info": {
   "codemirror_mode": {
    "name": "ipython",
    "version": 3
   },
   "file_extension": ".py",
   "mimetype": "text/x-python",
   "name": "python",
   "nbconvert_exporter": "python",
   "pygments_lexer": "ipython3",
   "version": "3.9.7"
  }
 },
 "nbformat": 4,
 "nbformat_minor": 5
}
