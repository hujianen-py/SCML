{
 "cells": [
  {
   "cell_type": "markdown",
   "id": "1b1fac23-0a7a-4022-9feb-045b87300ae8",
   "metadata": {},
   "source": [
    "# 方程求解\n",
    "---\n",
    "\n",
    "求解代数方程组是科学和技术领域中的常见问题。相对于线性方程组，非线性方程组通常较难求解。线性方程是求解非线性问题局部近似解的重要工具。例如，考虑某个展开点附近非常小的变动，非线性系统通常可以使用展开点附近的线性西戎来近似。对于非线性问题的全局分析，一般需要采用迭代方式来逐步构建对解越来越精确的估计\n",
    "\n",
    "本部分我们将使用SymPy对方程进行符号化求解，使用SciPy的线性代数模块来对方程组进行数值求解。为了解决非线性问题，我们将使用SciPy的optimize模块的`root-finding`函数。"
   ]
  },
  {
   "cell_type": "markdown",
   "id": "1464512e-26c5-4b02-8c8a-13f19ea015fd",
   "metadata": {},
   "source": [
    "## 导入模块\n",
    "---\n"
   ]
  },
  {
   "cell_type": "code",
   "execution_count": 19,
   "id": "da12696f-e972-445e-a3b0-44cce4a0748f",
   "metadata": {},
   "outputs": [],
   "source": [
    "import numpy as np\n",
    "import matplotlib.pyplot as plt\n",
    "\n",
    "from scipy import linalg as la\n",
    "from scipy import optimize\n",
    "\n",
    "import sympy\n",
    "sympy.init_printing()"
   ]
  },
  {
   "cell_type": "markdown",
   "id": "9253b027-5410-41d0-80d6-41ef55ef933e",
   "metadata": {},
   "source": [
    "## 线性方程组\n",
    "---\n",
    "我们已经在SymPy库中使用了线性代数功能。NumPy和SciPy也有线性代数模块，分别是numpy.linalg和scipy.linalg，它们都为数值问题提供线性代数问题。\n",
    "\n",
    "[线性方程组](https://zh.m.wikipedia.org/wiki/%E7%BA%BF%E6%80%A7%E6%96%B9%E7%A8%8B%E7%BB%84)是数学方程组的一种，它符合以下的形式：\n",
    "\n",
    "$$ \\begin{cases}\n",
    "a_{1,1}x_{1} + a_{1,2}x_{2} + \\cdots + a_{1,n}x_{n}=  b_{1} \\\\\n",
    "a_{2,1}x_{1} + a_{2,2}x_{2} + \\cdots + a_{2,n}x_{n}=  b_{2} \\\\\n",
    "\\vdots \\quad \\quad \\quad \\vdots \\\\\n",
    "a_{m,1}x_{1} + a_{m,2}x_{2} + \\cdots + a_{m,n}x_{n}=  b_{m} \n",
    "\\end{cases} $$\n",
    "\n",
    "这是一个包含m个方程、n个未知数的线性方程组。处理线性方程组时，将其写为矩阵的形式会更方便：\n",
    "\n",
    "$$ \\mathbf{A} \\mathbf{x} = \\mathbf{b} $$\n",
    "\n",
    "其中\n",
    "\n",
    "$$\\mathbf A=\n",
    "\\begin{bmatrix}\n",
    "a_{1,1} & a_{1,2} & \\cdots & a_{1,n} \\\\\n",
    "a_{2,1} & a_{2,2} & \\cdots & a_{2,n} \\\\\n",
    "\\vdots & \\vdots & \\ddots & \\vdots \\\\\n",
    "a_{m,1} & a_{m,2} & \\cdots & a_{m,n}\n",
    "\\end{bmatrix},\\quad\n",
    "\\mathbf{x}=\n",
    "\\begin{bmatrix}\n",
    "x_1 \\\\\n",
    "x_2 \\\\\n",
    "\\vdots \\\\\n",
    "x_n\n",
    "\\end{bmatrix},\\quad\n",
    "\\mathbf{b}=\n",
    "\\begin{bmatrix}\n",
    "b_1 \\\\\n",
    "b_2 \\\\\n",
    "\\vdots \\\\\n",
    "b_m\n",
    "\\end{bmatrix}$$\n",
    "\n",
    "根据矩阵$A$的性质，解$x$可能存在也可能不存在。如果方程组中$m < n$，那么称之为欠定（underdetermined）方程组，不能完全确定唯一解。如果 $m < n$，称之为超定（overdetermined）方程组。这通常会带来约束冲突，导致解不存在。"
   ]
  },
  {
   "cell_type": "markdown",
   "id": "8bdacf25-fa65-40fb-8a02-a531c5797874",
   "metadata": {},
   "source": [
    "### 方形方程组\n",
    "\n",
    "方形方程组（$m = n$）是一个最重要的特例。当方程的数目等于未知数的数目，可能存在唯一解。\n",
    "\n",
    "有唯一解的前提是矩阵$A$必须是非奇异的，也就是$A$存在逆矩阵，解可以写为$x = A^{-1}b$。\n",
    "\n",
    "如果行列式为0，即$detA = 0$，则方程组无解或有无穷多解。\n",
    "\n",
    "对于秩不足的矩，即$rank(A) < n$，矩阵中有的行或者列可以便是成其它行或者列的线性组合，方程组实际上是欠定的。\n",
    "\n",
    "当$A$满秩时，一定存在解，但是可能无法精确计算解。矩阵的条件数$cond(A)$给出了线性方程组好坏的条件。条件数接近1，方程组是条件良态；条件数很大，方程组是条件病态的。对于病态方程组，即使向量$b$发生非常微小的扰动，也会让解$x$产生很大的误差。这在使用浮点数的数值解中尤其需要注意，因为浮点数只是实数的近似值。"
   ]
  },
  {
   "cell_type": "markdown",
   "id": "39bed2d8-091b-4854-a12a-33500129b650",
   "metadata": {},
   "source": [
    "例如，对于如下包含两个线性方程的方程组：\n",
    "\n",
    "$$\n",
    "2 x_1 + 3 x_2 = 4\n",
    "$$\n",
    "\n",
    "$$\n",
    "5 x_1 + 4 x_2 = 3\n",
    "$$"
   ]
  },
  {
   "cell_type": "code",
   "execution_count": 20,
   "id": "693ff0f7-81d2-4633-8bfd-78dbef2125e1",
   "metadata": {},
   "outputs": [
    {
     "data": {
      "text/plain": [
       "<matplotlib.legend.Legend at 0x7f994358db80>"
      ]
     },
     "execution_count": 20,
     "metadata": {},
     "output_type": "execute_result"
    },
    {
     "data": {
      "image/png": "[encoded data removed]",
      "text/plain": [
       "<Figure size 576x288 with 1 Axes>"
      ]
     },
     "metadata": {
      "needs_background": "light"
     },
     "output_type": "display_data"
    }
   ],
   "source": [
    "fig, ax = plt.subplots(figsize=(8, 4))\n",
    "\n",
    "x1 = np.linspace(-4, 2, 100)\n",
    "\n",
    "x2_1 = (4 - 2 * x1)/3\n",
    "x2_2 = (3 - 5 * x1)/4\n",
    "\n",
    "ax.plot(x1, x2_1, 'r', lw=2, label=r\"$2x_1+3x_2-4=0$\")\n",
    "ax.plot(x1, x2_2, 'b', lw=2, label=r\"$5x_1+4x_2-3=0$\")\n",
    "\n",
    "A = np.array([[2, 3], [5, 4]])\n",
    "b = np.array([4, 3])\n",
    "x = la.solve(A, b)\n",
    "\n",
    "ax.plot(x[0], x[1], 'ko', lw=2)\n",
    "ax.annotate(\"The intersection point of\\nthe two lines is the solution\\nto the equation system\",\n",
    "            xy=(x[0], x[1]), xycoords='data',\n",
    "            xytext=(-120, -75), textcoords='offset points', \n",
    "            arrowprops=dict(arrowstyle=\"->\", connectionstyle=\"arc3, rad=-.3\"))\n",
    "\n",
    "ax.set_xlabel(r\"$x_1$\", fontsize=18)\n",
    "ax.set_ylabel(r\"$x_2$\", fontsize=18)\n",
    "ax.legend()"
   ]
  },
  {
   "cell_type": "markdown",
   "id": "4a5b686c-d84d-42c4-921a-a8e0f5cefeae",
   "metadata": {},
   "source": [
    "#### **符号计算**"
   ]
  },
  {
   "cell_type": "code",
   "execution_count": 47,
   "id": "3f212f8e-2721-459a-8fae-5cd2c322bdb7",
   "metadata": {},
   "outputs": [],
   "source": [
    "A = sympy.Matrix([[2, 3], [5, 4]])\n",
    "b = sympy.Matrix([4, 3])"
   ]
  },
  {
   "cell_type": "code",
   "execution_count": 48,
   "id": "a4126816-fc99-44f5-b3e9-0e5a3289eeff",
   "metadata": {},
   "outputs": [
    {
     "data": {
      "image/png": "[encoded data removed]",
      "text/latex": [
       "$\\displaystyle 2$"
      ],
      "text/plain": [
       "2"
      ]
     },
     "execution_count": 48,
     "metadata": {},
     "output_type": "execute_result"
    }
   ],
   "source": [
    "A.rank()  # 满秩有解"
   ]
  },
  {
   "cell_type": "code",
   "execution_count": 49,
   "id": "b94803c3-dcd3-4e06-a128-bba8bd9aea5f",
   "metadata": {},
   "outputs": [
    {
     "data": {
      "image/png": "[encoded data removed]",
      "text/latex": [
       "$\\displaystyle 3 \\sqrt{6}$"
      ],
      "text/plain": [
       "3⋅√6"
      ]
     },
     "execution_count": 49,
     "metadata": {},
     "output_type": "execute_result"
    }
   ],
   "source": [
    "A.norm()  # 范数"
   ]
  },
  {
   "cell_type": "code",
   "execution_count": 50,
   "id": "40c5dc12-0509-468f-91b3-77a46f559014",
   "metadata": {},
   "outputs": [
    {
     "data": {
      "image/png": "[encoded data removed]",
      "text/latex": [
       "$\\displaystyle \\frac{\\sqrt{2 \\sqrt{170} + 27}}{\\sqrt{27 - 2 \\sqrt{170}}}$"
      ],
      "text/plain": [
       "  _____________\n",
       "╲╱ 2⋅√170 + 27 \n",
       "───────────────\n",
       "  _____________\n",
       "╲╱ 27 - 2⋅√170 "
      ]
     },
     "execution_count": 50,
     "metadata": {},
     "output_type": "execute_result"
    }
   ],
   "source": [
    "A.condition_number()"
   ]
  },
  {
   "cell_type": "code",
   "execution_count": 51,
   "id": "69113765-3fee-4e05-b712-bc2cec794e4d",
   "metadata": {},
   "outputs": [
    {
     "data": {
      "image/png": "[encoded data removed]",
      "text/latex": [
       "$\\displaystyle 7.582$"
      ],
      "text/plain": [
       "7.582"
      ]
     },
     "execution_count": 51,
     "metadata": {},
     "output_type": "execute_result"
    }
   ],
   "source": [
    "sympy.N(A.condition_number(), 4)  # 等价于方法.evalf(4)"
   ]
  },
  {
   "cell_type": "markdown",
   "id": "a5d2eea5-3579-4036-9683-9e5444efb815",
   "metadata": {},
   "source": [
    "求解线性问题最直接的方法是计算矩阵$A$的逆矩阵，但这不是找到解向量$x$的最有效的方法。更好的方法是对矩阵$A$进行[$LU$分解](https://zh.m.wikipedia.org/wiki/LU%E5%88%86%E8%A7%A3)，即$A=LU$，其中$L$是下三角矩阵，$U$是上三角矩阵。\n",
    "\n",
    "在SymPy中，可以使用`sympy.Matrix`类的`LUdecomposition`方法进行符号$LU$分解。该方法会返回两个新的Matrix对象、$L$和$U$矩阵以及一个行交换矩阵。当我们想要求解$Ax=b$的方程时，不需要显示计算$L$和$U$矩阵，而是使用`LUsolve`方法。"
   ]
  },
  {
   "cell_type": "code",
   "execution_count": 52,
   "id": "663add24-9ea7-4304-a335-3ee30c25782a",
   "metadata": {},
   "outputs": [],
   "source": [
    "L, U, P = A.LUdecomposition()"
   ]
  },
  {
   "cell_type": "code",
   "execution_count": 53,
   "id": "6487efbd-cdc5-4a0e-ad06-6f9adde499d5",
   "metadata": {},
   "outputs": [
    {
     "data": {
      "image/png": "[encoded data removed]",
      "text/latex": [
       "$\\displaystyle \\left( \\left[\\begin{matrix}1 & 0\\\\\\frac{5}{2} & 1\\end{matrix}\\right], \\  \\left[\\begin{matrix}2 & 3\\\\0 & - \\frac{7}{2}\\end{matrix}\\right]\\right)$"
      ],
      "text/plain": [
       "⎛⎡ 1   0⎤  ⎡2   3  ⎤⎞\n",
       "⎜⎢      ⎥, ⎢       ⎥⎟\n",
       "⎝⎣5/2  1⎦  ⎣0  -7/2⎦⎠"
      ]
     },
     "execution_count": 53,
     "metadata": {},
     "output_type": "execute_result"
    }
   ],
   "source": [
    "L, U"
   ]
  },
  {
   "cell_type": "code",
   "execution_count": 54,
   "id": "25781e3d-e900-4d56-8782-590145bf0895",
   "metadata": {},
   "outputs": [
    {
     "data": {
      "text/plain": [
       "True"
      ]
     },
     "execution_count": 54,
     "metadata": {},
     "output_type": "execute_result"
    }
   ],
   "source": [
    "L * U == A"
   ]
  },
  {
   "cell_type": "code",
   "execution_count": 55,
   "id": "1ae0baf2-23e3-4d24-a5fa-3e1f47197db5",
   "metadata": {},
   "outputs": [
    {
     "data": {
      "image/png": "[encoded data removed]",
      "text/latex": [
       "$\\displaystyle \\left[\\begin{matrix}-1\\\\2\\end{matrix}\\right]$"
      ],
      "text/plain": [
       "⎡-1⎤\n",
       "⎢  ⎥\n",
       "⎣2 ⎦"
      ]
     },
     "execution_count": 55,
     "metadata": {},
     "output_type": "execute_result"
    }
   ],
   "source": [
    "x = A.LUsolve(b)\n",
    "x"
   ]
  },
  {
   "cell_type": "markdown",
   "id": "9dbd801a-f291-4c3f-a86b-f363a108c98f",
   "metadata": {},
   "source": [
    "#### **数值计算**\n",
    "\n",
    "对于数值问题，可以使用SciPy线性代数模块的`la.lu`函数。该函数返回置换矩阵$P$以及$L$和$U$矩阵，是的$A=PLU$。与SymPy情况一样，我们不需要显示计算$L$和$U$矩阵，而是使用`la.solve`来求解线性方程组，该函数将矩阵$A$和向量$b$作为参数。"
   ]
  },
  {
   "cell_type": "code",
   "execution_count": 56,
   "id": "dce2cf08-0628-4266-8f26-a338425ca592",
   "metadata": {},
   "outputs": [],
   "source": [
    "A = np.array([[2, 3], [5, 4]])\n",
    "b = np.array([4, 3])"
   ]
  },
  {
   "cell_type": "code",
   "execution_count": 57,
   "id": "99805e9d-0cac-4e0a-b383-35a35c49b855",
   "metadata": {},
   "outputs": [
    {
     "data": {
      "text/plain": [
       "2"
      ]
     },
     "execution_count": 57,
     "metadata": {},
     "output_type": "execute_result"
    }
   ],
   "source": [
    "np.linalg.matrix_rank(A)"
   ]
  },
  {
   "cell_type": "code",
   "execution_count": 58,
   "id": "82e7a731-e778-4d14-9bc0-d53753b35294",
   "metadata": {},
   "outputs": [
    {
     "data": {
      "image/png": "[encoded data removed]",
      "text/latex": [
       "$\\displaystyle 7.34846922834953$"
      ],
      "text/plain": [
       "7.3484692283495345"
      ]
     },
     "execution_count": 58,
     "metadata": {},
     "output_type": "execute_result"
    }
   ],
   "source": [
    "np.linalg.norm(A)"
   ]
  },
  {
   "cell_type": "code",
   "execution_count": 59,
   "id": "6c724606-174b-42c7-b3b3-b5052e92719f",
   "metadata": {},
   "outputs": [
    {
     "data": {
      "image/png": "[encoded data removed]",
      "text/latex": [
       "$\\displaystyle 7.58240137440151$"
      ],
      "text/plain": [
       "7.582401374401514"
      ]
     },
     "execution_count": 59,
     "metadata": {},
     "output_type": "execute_result"
    }
   ],
   "source": [
    "np.linalg.cond(A)"
   ]
  },
  {
   "cell_type": "code",
   "execution_count": 60,
   "id": "3cbc0656-7759-4637-bb53-8942da93bda2",
   "metadata": {},
   "outputs": [],
   "source": [
    "P, L, U = la.lu(A)"
   ]
  },
  {
   "cell_type": "code",
   "execution_count": 61,
   "id": "f27a159b-92d9-4888-8ac7-b168972268ac",
   "metadata": {},
   "outputs": [
    {
     "data": {
      "text/plain": [
       "(array([[1. , 0. ],\n",
       "        [0.4, 1. ]]),\n",
       " array([[5. , 4. ],\n",
       "        [0. , 1.4]]))"
      ]
     },
     "execution_count": 61,
     "metadata": {},
     "output_type": "execute_result"
    }
   ],
   "source": [
    "L, U"
   ]
  },
  {
   "cell_type": "code",
   "execution_count": 63,
   "id": "93072e04-407b-4bde-b554-e046198722ce",
   "metadata": {},
   "outputs": [
    {
     "data": {
      "text/plain": [
       "array([[ True,  True],\n",
       "       [ True,  True]])"
      ]
     },
     "execution_count": 63,
     "metadata": {},
     "output_type": "execute_result"
    }
   ],
   "source": [
    "P@L@U == A # 等价于 np.dot(P, np.dot(L, U))"
   ]
  },
  {
   "cell_type": "code",
   "execution_count": 64,
   "id": "0f736166-d3d4-4110-a0dc-319263fc8e42",
   "metadata": {},
   "outputs": [
    {
     "data": {
      "text/plain": [
       "array([-1.,  2.])"
      ]
     },
     "execution_count": 64,
     "metadata": {},
     "output_type": "execute_result"
    }
   ],
   "source": [
    "la.solve(A, b)"
   ]
  },
  {
   "cell_type": "markdown",
   "id": "e4c99e37-ffe6-4d19-aa7f-9673ac866b27",
   "metadata": {},
   "source": [
    "下面我们将演示符号方法和数值方法的区别，并且说明数值方法对大条件数的方程组很敏感。在这个例子中我们将求解的方程组如下：\n",
    "\n",
    "$$ \\begin{bmatrix}\n",
    "1 & \\sqrt{p}  \\\\\n",
    "1 & \\frac{1}{\\sqrt{p}}\n",
    "\\end{bmatrix}\n",
    "\\begin{bmatrix}\n",
    "x_1 \\\\\n",
    "x_2\n",
    "\\end{bmatrix}\n",
    "=\n",
    "\\begin{bmatrix}\n",
    "1 \\\\\n",
    "2\n",
    "\\end{bmatrix}\n",
    "$$\n",
    "\n",
    "当$p$=1时，该方程组是奇异的。当$p$是1附近的值时，方程组是病态条件的。我们使用SymPy可以很容易找到解："
   ]
  },
  {
   "cell_type": "code",
   "execution_count": 65,
   "id": "5d9d851f-fc01-403e-8dbe-94487f5fdf05",
   "metadata": {},
   "outputs": [
    {
     "data": {
      "image/png": "[encoded data removed]",
      "text/latex": [
       "$\\displaystyle \\left[\\begin{matrix}\\frac{2 p - 1}{p - 1}\\\\\\frac{1}{- \\sqrt{p} + \\frac{1}{\\sqrt{p}}}\\end{matrix}\\right]$"
      ],
      "text/plain": [
       "⎡2⋅p - 1 ⎤\n",
       "⎢─────── ⎥\n",
       "⎢ p - 1  ⎥\n",
       "⎢        ⎥\n",
       "⎢   1    ⎥\n",
       "⎢────────⎥\n",
       "⎢      1 ⎥\n",
       "⎢-√p + ──⎥\n",
       "⎣      √p⎦"
      ]
     },
     "execution_count": 65,
     "metadata": {},
     "output_type": "execute_result"
    }
   ],
   "source": [
    "p = sympy.symbols(\"p\", positive=True)\n",
    "A = sympy.Matrix([[1, sympy.sqrt(p)], [1, 1/sympy.sqrt(p)]])\n",
    "b = sympy.Matrix([1, 2])\n",
    "A.solve(b)"
   ]
  },
  {
   "cell_type": "code",
   "execution_count": 66,
   "id": "8f6cad8c-f6c9-4861-b0ef-a41659ce3dc7",
   "metadata": {},
   "outputs": [
    {
     "data": {
      "image/png": "[encoded data removed]",
      "text/latex": [
       "$\\displaystyle \\left[\\begin{matrix}\\frac{2 p - 1}{p - 1}\\\\- \\frac{\\sqrt{p}}{p - 1}\\end{matrix}\\right]$"
      ],
      "text/plain": [
       "⎡2⋅p - 1⎤\n",
       "⎢───────⎥\n",
       "⎢ p - 1 ⎥\n",
       "⎢       ⎥\n",
       "⎢  -√p  ⎥\n",
       "⎢ ───── ⎥\n",
       "⎣ p - 1 ⎦"
      ]
     },
     "execution_count": 66,
     "metadata": {},
     "output_type": "execute_result"
    }
   ],
   "source": [
    "sympy.simplify(_)  # 此处下划线`_`表示上次运行结果"
   ]
  },
  {
   "cell_type": "markdown",
   "id": "93940c95-76c8-44ff-9dec-11e172c8b7f0",
   "metadata": {},
   "source": [
    "符号解是精确的（如果能找到），数值解的误差是由浮点数引起的，本例中二者的差异与参数p的关系如下图所示:"
   ]
  },
  {
   "cell_type": "code",
   "execution_count": 70,
   "id": "1fa5bc1a-85fd-4c8b-842b-135d52c2c0b6",
   "metadata": {},
   "outputs": [
    {
     "data": {
      "text/plain": [
       "Text(0.5, 0, '$p$')"
      ]
     },
     "execution_count": 70,
     "metadata": {},
     "output_type": "execute_result"
    },
    {
     "data": {
      "image/png": "[encoded data removed]",
      "text/plain": [
       "<Figure size 864x288 with 2 Axes>"
      ]
     },
     "metadata": {
      "needs_background": "light"
     },
     "output_type": "display_data"
    }
   ],
   "source": [
    "p = sympy.symbols(\"p\", positive=True)\n",
    "A = sympy.Matrix([[1, sympy.sqrt(p)], [1, 1/sympy.sqrt(p)]])\n",
    "b = sympy.Matrix([1, 2])\n",
    "\n",
    "# Solve symbolically\n",
    "x_sym_sol = A.solve(b)\n",
    "x_sym_sol.simplify()\n",
    "x_sym_sol\n",
    "Acond = A.condition_number().simplify()\n",
    "\n",
    "# Function for solving numerically\n",
    "AA = lambda p: np.array([[1, np.sqrt(p)], [1, 1/np.sqrt(p)]])\n",
    "bb = np.array([1, 2])\n",
    "x_num_sol = lambda p: np.linalg.solve(AA(p), bb)\n",
    "\n",
    "# Graph the difference between the symbolic (exact) and numerical results.\n",
    "p_vec = np.linspace(0.9, 1.1, 200)\n",
    "\n",
    "fig, axes = plt.subplots(1, 2, figsize=(12, 4))\n",
    "\n",
    "for n in range(2):\n",
    "    x_sym = np.array([x_sym_sol[n].subs(p, pp).evalf() for pp in p_vec])\n",
    "    x_num = np.array([x_num_sol(pp)[n] for pp in p_vec])\n",
    "    axes[0].plot(p_vec, (x_num - x_sym)/x_sym, 'k')\n",
    "axes[0].set_title(\"Error in solution\\n(numerical - symbolic)/symbolic\")\n",
    "axes[0].set_xlabel(r'$p$', fontsize=18)\n",
    "\n",
    "axes[1].plot(p_vec, [Acond.subs(p, pp).evalf() for pp in p_vec])\n",
    "axes[1].set_title(\"Condition number\")\n",
    "axes[1].set_xlabel(r'$p$', fontsize=18)"
   ]
  },
  {
   "cell_type": "markdown",
   "id": "87aaab24-2b46-45e4-88bb-080c815bad14",
   "metadata": {},
   "source": [
    "### 矩形方程组\n",
    "\n",
    "#### **欠定方程组**\n",
    "\n",
    "欠定方程组的变量数比方程数多，解无法唯一确定，必须用自由变量来表示。通常需要用符号方法来处理。\n",
    "\n",
    "$$ \\begin{bmatrix}\n",
    "1 & 2 & 3 \\\\\n",
    "4 & 5 & 6\n",
    "\\end{bmatrix}\n",
    "\\begin{bmatrix}\n",
    "x_1 \\\\\n",
    "x_2 \\\\\n",
    "x_3\n",
    "\\end{bmatrix}\n",
    "=\n",
    "\\begin{bmatrix}\n",
    "7 \\\\\n",
    "8\n",
    "\\end{bmatrix}\n",
    "$$"
   ]
  },
  {
   "cell_type": "code",
   "execution_count": 72,
   "id": "122b335f-5a72-4938-9de9-3a513554573c",
   "metadata": {},
   "outputs": [
    {
     "data": {
      "image/png": "[encoded data removed]",
      "text/latex": [
       "$\\displaystyle \\left\\{ x : z - \\frac{19}{3}, \\  y : \\frac{20}{3} - 2 z\\right\\}$"
      ],
      "text/plain": [
       "{x: z - 19/3, y: 20/3 - 2⋅z}"
      ]
     },
     "execution_count": 72,
     "metadata": {},
     "output_type": "execute_result"
    }
   ],
   "source": [
    "x_vars = sympy.symbols(\"x, y, z\")\n",
    "A = sympy.Matrix([[1, 2, 3], [4, 5, 6]])\n",
    "x = sympy.Matrix(x_vars)\n",
    "b = sympy.Matrix([7, 8])\n",
    "sympy.solve(A*x - b, x_vars)"
   ]
  },
  {
   "cell_type": "markdown",
   "id": "e75e9be5-8832-4628-a283-7dcd5b56ce24",
   "metadata": {},
   "source": [
    "#### **超定方程组**\n"
   ]
  },
  {
   "cell_type": "code",
   "execution_count": null,
   "id": "1d419260-97bf-4920-9f8d-a19d24e0fe65",
   "metadata": {},
   "outputs": [],
   "source": []
  }
 ],
 "metadata": {
  "kernelspec": {
   "display_name": "Python 3 (ipykernel)",
   "language": "python",
   "name": "python3"
  },
  "language_info": {
   "codemirror_mode": {
    "name": "ipython",
    "version": 3
   },
   "file_extension": ".py",
   "mimetype": "text/x-python",
   "name": "python",
   "nbconvert_exporter": "python",
   "pygments_lexer": "ipython3",
   "version": "3.9.7"
  }
 },
 "nbformat": 4,
 "nbformat_minor": 5
}
