{
 "cells": [
  {
   "cell_type": "markdown",
   "id": "cdb6d624-c651-4f08-9c21-24c5cb835980",
   "metadata": {},
   "source": [
    "# SciPy库\n",
    "---\n",
    "<img src=\"https://scipy.org/images/logo.svg\" style=\"width: 20%;\"/>\n",
    "\n",
    "SciPy(Scienfitic Python)是一个开源的 Python 算法库和数学工具包。\n",
    "\n",
    "SciPy 包含的模块有最优化、线性代数、积分、插值、特殊函数、快速傅里叶变换、信号处理和图像处理、常微分方程求解和其他科学与工程中常用的计算。\n",
    "\n",
    "## 参考资料\n",
    "\n",
    "[SciPy文档](https://docs.scipy.org/doc/scipy/)"
   ]
  },
  {
   "cell_type": "markdown",
   "id": "ff4f13a6-d052-45e0-a7c9-bb384b32d27e",
   "metadata": {},
   "source": [
    "## 功能模块\n",
    "---\n",
    "\n",
    "SciPy是由针对特定任务的子模块组成的：\n",
    "\n",
    "| 关键词参数 | 可选值 |\n",
    "|---|---|\n",
    "|scipy.cluster | 向量计算|\n",
    "|scipy.constants | 物理和数学常量|\n",
    "|scipy.fftpack | 傅里叶变换|\n",
    "|scipy.integrate | 积分程序|\n",
    "|scipy.interpolate | 插值|\n",
    "|scipy.io | 数据输入和输出|\n",
    "|scipy.linalg |  线性代数程序|\n",
    "|scipy.ndimage | n-维图像包|\n",
    "|scipy.odr | 正交距离回归|\n",
    "|scipy.optimize | 优化|\n",
    "|scipy.signal | 信号处理|\n",
    "|scipy.sparse | 稀疏矩阵|\n",
    "|scipy.spatial | 空间数据结构和算法|\n",
    "|scipy.special | 一些特殊数学函数|\n",
    "|scipy.stats | 统计|"
   ]
  },
  {
   "cell_type": "markdown",
   "id": "1132f0a3-3b88-4ade-b004-5498a7b90d19",
   "metadata": {},
   "source": []
  }
 ],
 "metadata": {
  "kernelspec": {
   "display_name": "Python 3 (ipykernel)",
   "language": "python",
   "name": "python3"
  },
  "language_info": {
   "codemirror_mode": {
    "name": "ipython",
    "version": 3
   },
   "file_extension": ".py",
   "mimetype": "text/x-python",
   "name": "python",
   "nbconvert_exporter": "python",
   "pygments_lexer": "ipython3",
   "version": "3.9.7"
  }
 },
 "nbformat": 4,
 "nbformat_minor": 5
}
