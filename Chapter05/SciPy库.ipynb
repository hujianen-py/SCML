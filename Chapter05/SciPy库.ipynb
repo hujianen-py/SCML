{
 "cells": [
  {
   "cell_type": "markdown",
   "id": "cdb6d624-c651-4f08-9c21-24c5cb835980",
   "metadata": {},
   "source": [
    "# SciPy库\n",
    "---\n",
    "<img src=\"https://scipy.org/images/logo.svg\" style=\"width: 20%;\"/>\n",
    "\n",
    "SciPy 是一个开源的 Python 算法库和数学工具包。\n",
    "SciPy 包含的模块有最优化、线性代数、积分、插值、特殊函数、快速傅里叶变换、信号处理和图像处理、常微分方程求解和其他科学与工程中常用的计算。\n",
    "\n",
    "## 参考资料\n",
    "\n"
   ]
  },
  {
   "cell_type": "code",
   "execution_count": null,
   "id": "e4064177-5afb-4f5b-8f4b-64aa4d5d06f9",
   "metadata": {},
   "outputs": [],
   "source": []
  }
 ],
 "metadata": {
  "kernelspec": {
   "display_name": "Python 3 (ipykernel)",
   "language": "python",
   "name": "python3"
  },
  "language_info": {
   "codemirror_mode": {
    "name": "ipython",
    "version": 3
   },
   "file_extension": ".py",
   "mimetype": "text/x-python",
   "name": "python",
   "nbconvert_exporter": "python",
   "pygments_lexer": "ipython3",
   "version": "3.9.7"
  }
 },
 "nbformat": 4,
 "nbformat_minor": 5
}
