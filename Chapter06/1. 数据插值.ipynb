{
 "cells": [
  {
   "cell_type": "markdown",
   "id": "acb391fa-c8e3-4f77-9667-f883cc353960",
   "metadata": {},
   "source": [
    "# 数据插值\n",
    "---\n",
    "\n",
    "插值是一种从离散数据点构建函数的数学方法。插值函数或者插值方法应该与给定的数据点完全一致。插值可能的应用场景：\n",
    "\n",
    "1. 根据给定的数据集绘制平滑的曲线\n",
    "2. 对计算量很大的复杂函数进行近似求值\n",
    "\n",
    "插值和前面介绍过的最小二乘拟合有些类似。在最小二乘拟合中，我们感兴趣的是使用数据点和超定方程组，将函数拟合到数组点，使得误差平方和最小。在插值中，我们需要一个方程能够与已有的数据点完全重合，仅使用与插值函数自由参数个数相同的数据点。因此，最小二乘法适合将**大量数据点**拟合到模型函数，插值是根据**少量数据点**创建函数。\n",
    "\n",
    "外插（extrapolation）是与插值（interpolation）相关的一个概念。外插是在采样范围之外计算函数的估计值。我们这里只介绍插值。"
   ]
  },
  {
   "cell_type": "markdown",
   "id": "42b626f2-547f-4857-a462-89e598c56e74",
   "metadata": {},
   "source": [
    "## 导入模块\n",
    "---\n",
    "\n",
    "本部分我们将使用NumPy中的polynomial模块和SciPy的interpolation模块。"
   ]
  },
  {
   "cell_type": "code",
   "execution_count": null,
   "id": "69e48bbb-9ebc-454f-8dfa-cb4cc3a9137b",
   "metadata": {},
   "outputs": [],
   "source": []
  }
 ],
 "metadata": {
  "kernelspec": {
   "display_name": "Python 3 (ipykernel)",
   "language": "python",
   "name": "python3"
  },
  "language_info": {
   "codemirror_mode": {
    "name": "ipython",
    "version": 3
   },
   "file_extension": ".py",
   "mimetype": "text/x-python",
   "name": "python",
   "nbconvert_exporter": "python",
   "pygments_lexer": "ipython3",
   "version": "3.9.7"
  }
 },
 "nbformat": 4,
 "nbformat_minor": 5
}
