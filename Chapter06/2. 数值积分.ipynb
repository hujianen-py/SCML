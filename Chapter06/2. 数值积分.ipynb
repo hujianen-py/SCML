{
 "cells": [
  {
   "cell_type": "markdown",
   "id": "205c7539-715e-4dc7-bece-c17892633ee6",
   "metadata": {},
   "source": [
    "# 数值积分\n",
    "---"
   ]
  },
  {
   "cell_type": "code",
   "execution_count": null,
   "id": "b0fde800-8467-4f04-9102-12d5ec444ea4",
   "metadata": {},
   "outputs": [],
   "source": []
  }
 ],
 "metadata": {
  "kernelspec": {
   "display_name": "Python 3 (ipykernel)",
   "language": "python",
   "name": "python3"
  },
  "language_info": {
   "codemirror_mode": {
    "name": "ipython",
    "version": 3
   },
   "file_extension": ".py",
   "mimetype": "text/x-python",
   "name": "python",
   "nbconvert_exporter": "python",
   "pygments_lexer": "ipython3",
   "version": "3.9.7"
  }
 },
 "nbformat": 4,
 "nbformat_minor": 5
}
